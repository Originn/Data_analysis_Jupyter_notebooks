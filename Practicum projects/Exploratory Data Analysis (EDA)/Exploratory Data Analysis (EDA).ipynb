{
 "cells": [
  {
   "cell_type": "markdown",
   "metadata": {},
   "source": [
    "# What sells a car?\n",
    "\n",
    "You're an analyst at Crankshaft List. Hundreds of free advertisements for vehicles are published on your site every day. You need to study data collected over the last few years and determine which factors influence the price of a vehicle."
   ]
  },
  {
   "cell_type": "markdown",
   "metadata": {},
   "source": [
    "Project task is to find out after fixing the data, what factors have the greatest impact on the price of a car."
   ]
  },
  {
   "cell_type": "markdown",
   "metadata": {},
   "source": [
    "## Initialization"
   ]
  },
  {
   "cell_type": "code",
   "execution_count": 1,
   "metadata": {},
   "outputs": [],
   "source": [
    "# Loading all the libraries\n",
    "import pandas as pd\n",
    "pd.options.mode.chained_assignment = None\n",
    "import matplotlib.pyplot as plt\n",
    "import numpy as np"
   ]
  },
  {
   "cell_type": "markdown",
   "metadata": {},
   "source": [
    "### Load data"
   ]
  },
  {
   "cell_type": "code",
   "execution_count": 2,
   "metadata": {},
   "outputs": [
    {
     "name": "stdout",
     "output_type": "stream",
     "text": [
      "   price  model_year           model  condition  cylinders fuel  odometer  \\\n",
      "0   9400      2011.0          bmw x5       good        6.0  gas  145000.0   \n",
      "1  25500         NaN      ford f-150       good        6.0  gas   88705.0   \n",
      "2   5500      2013.0  hyundai sonata   like new        4.0  gas  110000.0   \n",
      "3   1500      2003.0      ford f-150       fair        8.0  gas       NaN   \n",
      "4  14900      2017.0    chrysler 200  excellent        4.0  gas   80903.0   \n",
      "\n",
      "  transmission    type paint_color  is_4wd date_posted  days_listed  \n",
      "0    automatic     SUV         NaN     1.0  2018-06-23           19  \n",
      "1    automatic  pickup       white     1.0  2018-10-19           50  \n",
      "2    automatic   sedan         red     NaN  2019-02-07           79  \n",
      "3    automatic  pickup         NaN     NaN  2019-03-22            9  \n",
      "4    automatic   sedan       black     NaN  2019-04-02           28  \n"
     ]
    }
   ],
   "source": [
    "# Load the data file into a DataFrame\n",
    "car_data=pd.read_csv('/datasets/vehicles_us.csv')\n",
    "print(car_data.head())"
   ]
  },
  {
   "cell_type": "markdown",
   "metadata": {},
   "source": [
    "### Explore initial data"
   ]
  },
  {
   "cell_type": "markdown",
   "metadata": {},
   "source": [
    "The dataset contains the following fields:\n",
    "- `price`\n",
    "- `model_year`\n",
    "- `model`\n",
    "- `condition`\n",
    "- `cylinders`\n",
    "- `fuel` — gas, diesel, etc.\n",
    "- `odometer` — the vehicle's mileage when the ad was published\n",
    "- `transmission`\n",
    "- `paint_color`\n",
    "- `is_4wd` — whether the vehicle has 4-wheel drive (Boolean type)\n",
    "- `date_posted` — the date the ad was published\n",
    "- `days_listed` — from publication to removal\n",
    "\n"
   ]
  },
  {
   "cell_type": "code",
   "execution_count": 3,
   "metadata": {},
   "outputs": [
    {
     "name": "stdout",
     "output_type": "stream",
     "text": [
      "<class 'pandas.core.frame.DataFrame'>\n",
      "RangeIndex: 51525 entries, 0 to 51524\n",
      "Data columns (total 13 columns):\n",
      "price           51525 non-null int64\n",
      "model_year      47906 non-null float64\n",
      "model           51525 non-null object\n",
      "condition       51525 non-null object\n",
      "cylinders       46265 non-null float64\n",
      "fuel            51525 non-null object\n",
      "odometer        43633 non-null float64\n",
      "transmission    51525 non-null object\n",
      "type            51525 non-null object\n",
      "paint_color     42258 non-null object\n",
      "is_4wd          25572 non-null float64\n",
      "date_posted     51525 non-null object\n",
      "days_listed     51525 non-null int64\n",
      "dtypes: float64(4), int64(2), object(7)\n",
      "memory usage: 5.1+ MB\n"
     ]
    }
   ],
   "source": [
    "# print the general/summary information about the DataFrame\n",
    "car_data.info()\n"
   ]
  },
  {
   "cell_type": "code",
   "execution_count": 4,
   "metadata": {},
   "outputs": [
    {
     "data": {
      "text/html": [
       "<div>\n",
       "<style scoped>\n",
       "    .dataframe tbody tr th:only-of-type {\n",
       "        vertical-align: middle;\n",
       "    }\n",
       "\n",
       "    .dataframe tbody tr th {\n",
       "        vertical-align: top;\n",
       "    }\n",
       "\n",
       "    .dataframe thead th {\n",
       "        text-align: right;\n",
       "    }\n",
       "</style>\n",
       "<table border=\"1\" class=\"dataframe\">\n",
       "  <thead>\n",
       "    <tr style=\"text-align: right;\">\n",
       "      <th></th>\n",
       "      <th>price</th>\n",
       "      <th>model_year</th>\n",
       "      <th>model</th>\n",
       "      <th>condition</th>\n",
       "      <th>cylinders</th>\n",
       "      <th>fuel</th>\n",
       "      <th>odometer</th>\n",
       "      <th>transmission</th>\n",
       "      <th>type</th>\n",
       "      <th>paint_color</th>\n",
       "      <th>is_4wd</th>\n",
       "      <th>date_posted</th>\n",
       "      <th>days_listed</th>\n",
       "    </tr>\n",
       "  </thead>\n",
       "  <tbody>\n",
       "    <tr>\n",
       "      <td>0</td>\n",
       "      <td>9400</td>\n",
       "      <td>2011.0</td>\n",
       "      <td>bmw x5</td>\n",
       "      <td>good</td>\n",
       "      <td>6.0</td>\n",
       "      <td>gas</td>\n",
       "      <td>145000.0</td>\n",
       "      <td>automatic</td>\n",
       "      <td>SUV</td>\n",
       "      <td>NaN</td>\n",
       "      <td>1.0</td>\n",
       "      <td>2018-06-23</td>\n",
       "      <td>19</td>\n",
       "    </tr>\n",
       "    <tr>\n",
       "      <td>1</td>\n",
       "      <td>25500</td>\n",
       "      <td>NaN</td>\n",
       "      <td>ford f-150</td>\n",
       "      <td>good</td>\n",
       "      <td>6.0</td>\n",
       "      <td>gas</td>\n",
       "      <td>88705.0</td>\n",
       "      <td>automatic</td>\n",
       "      <td>pickup</td>\n",
       "      <td>white</td>\n",
       "      <td>1.0</td>\n",
       "      <td>2018-10-19</td>\n",
       "      <td>50</td>\n",
       "    </tr>\n",
       "    <tr>\n",
       "      <td>2</td>\n",
       "      <td>5500</td>\n",
       "      <td>2013.0</td>\n",
       "      <td>hyundai sonata</td>\n",
       "      <td>like new</td>\n",
       "      <td>4.0</td>\n",
       "      <td>gas</td>\n",
       "      <td>110000.0</td>\n",
       "      <td>automatic</td>\n",
       "      <td>sedan</td>\n",
       "      <td>red</td>\n",
       "      <td>NaN</td>\n",
       "      <td>2019-02-07</td>\n",
       "      <td>79</td>\n",
       "    </tr>\n",
       "    <tr>\n",
       "      <td>3</td>\n",
       "      <td>1500</td>\n",
       "      <td>2003.0</td>\n",
       "      <td>ford f-150</td>\n",
       "      <td>fair</td>\n",
       "      <td>8.0</td>\n",
       "      <td>gas</td>\n",
       "      <td>NaN</td>\n",
       "      <td>automatic</td>\n",
       "      <td>pickup</td>\n",
       "      <td>NaN</td>\n",
       "      <td>NaN</td>\n",
       "      <td>2019-03-22</td>\n",
       "      <td>9</td>\n",
       "    </tr>\n",
       "    <tr>\n",
       "      <td>4</td>\n",
       "      <td>14900</td>\n",
       "      <td>2017.0</td>\n",
       "      <td>chrysler 200</td>\n",
       "      <td>excellent</td>\n",
       "      <td>4.0</td>\n",
       "      <td>gas</td>\n",
       "      <td>80903.0</td>\n",
       "      <td>automatic</td>\n",
       "      <td>sedan</td>\n",
       "      <td>black</td>\n",
       "      <td>NaN</td>\n",
       "      <td>2019-04-02</td>\n",
       "      <td>28</td>\n",
       "    </tr>\n",
       "    <tr>\n",
       "      <td>5</td>\n",
       "      <td>14990</td>\n",
       "      <td>2014.0</td>\n",
       "      <td>chrysler 300</td>\n",
       "      <td>excellent</td>\n",
       "      <td>6.0</td>\n",
       "      <td>gas</td>\n",
       "      <td>57954.0</td>\n",
       "      <td>automatic</td>\n",
       "      <td>sedan</td>\n",
       "      <td>black</td>\n",
       "      <td>1.0</td>\n",
       "      <td>2018-06-20</td>\n",
       "      <td>15</td>\n",
       "    </tr>\n",
       "    <tr>\n",
       "      <td>6</td>\n",
       "      <td>12990</td>\n",
       "      <td>2015.0</td>\n",
       "      <td>toyota camry</td>\n",
       "      <td>excellent</td>\n",
       "      <td>4.0</td>\n",
       "      <td>gas</td>\n",
       "      <td>79212.0</td>\n",
       "      <td>automatic</td>\n",
       "      <td>sedan</td>\n",
       "      <td>white</td>\n",
       "      <td>NaN</td>\n",
       "      <td>2018-12-27</td>\n",
       "      <td>73</td>\n",
       "    </tr>\n",
       "    <tr>\n",
       "      <td>7</td>\n",
       "      <td>15990</td>\n",
       "      <td>2013.0</td>\n",
       "      <td>honda pilot</td>\n",
       "      <td>excellent</td>\n",
       "      <td>6.0</td>\n",
       "      <td>gas</td>\n",
       "      <td>109473.0</td>\n",
       "      <td>automatic</td>\n",
       "      <td>SUV</td>\n",
       "      <td>black</td>\n",
       "      <td>1.0</td>\n",
       "      <td>2019-01-07</td>\n",
       "      <td>68</td>\n",
       "    </tr>\n",
       "    <tr>\n",
       "      <td>8</td>\n",
       "      <td>11500</td>\n",
       "      <td>2012.0</td>\n",
       "      <td>kia sorento</td>\n",
       "      <td>excellent</td>\n",
       "      <td>4.0</td>\n",
       "      <td>gas</td>\n",
       "      <td>104174.0</td>\n",
       "      <td>automatic</td>\n",
       "      <td>SUV</td>\n",
       "      <td>NaN</td>\n",
       "      <td>1.0</td>\n",
       "      <td>2018-07-16</td>\n",
       "      <td>19</td>\n",
       "    </tr>\n",
       "    <tr>\n",
       "      <td>9</td>\n",
       "      <td>9200</td>\n",
       "      <td>2008.0</td>\n",
       "      <td>honda pilot</td>\n",
       "      <td>excellent</td>\n",
       "      <td>NaN</td>\n",
       "      <td>gas</td>\n",
       "      <td>147191.0</td>\n",
       "      <td>automatic</td>\n",
       "      <td>SUV</td>\n",
       "      <td>blue</td>\n",
       "      <td>1.0</td>\n",
       "      <td>2019-02-15</td>\n",
       "      <td>17</td>\n",
       "    </tr>\n",
       "  </tbody>\n",
       "</table>\n",
       "</div>"
      ],
      "text/plain": [
       "   price  model_year           model  condition  cylinders fuel  odometer  \\\n",
       "0   9400      2011.0          bmw x5       good        6.0  gas  145000.0   \n",
       "1  25500         NaN      ford f-150       good        6.0  gas   88705.0   \n",
       "2   5500      2013.0  hyundai sonata   like new        4.0  gas  110000.0   \n",
       "3   1500      2003.0      ford f-150       fair        8.0  gas       NaN   \n",
       "4  14900      2017.0    chrysler 200  excellent        4.0  gas   80903.0   \n",
       "5  14990      2014.0    chrysler 300  excellent        6.0  gas   57954.0   \n",
       "6  12990      2015.0    toyota camry  excellent        4.0  gas   79212.0   \n",
       "7  15990      2013.0     honda pilot  excellent        6.0  gas  109473.0   \n",
       "8  11500      2012.0     kia sorento  excellent        4.0  gas  104174.0   \n",
       "9   9200      2008.0     honda pilot  excellent        NaN  gas  147191.0   \n",
       "\n",
       "  transmission    type paint_color  is_4wd date_posted  days_listed  \n",
       "0    automatic     SUV         NaN     1.0  2018-06-23           19  \n",
       "1    automatic  pickup       white     1.0  2018-10-19           50  \n",
       "2    automatic   sedan         red     NaN  2019-02-07           79  \n",
       "3    automatic  pickup         NaN     NaN  2019-03-22            9  \n",
       "4    automatic   sedan       black     NaN  2019-04-02           28  \n",
       "5    automatic   sedan       black     1.0  2018-06-20           15  \n",
       "6    automatic   sedan       white     NaN  2018-12-27           73  \n",
       "7    automatic     SUV       black     1.0  2019-01-07           68  \n",
       "8    automatic     SUV         NaN     1.0  2018-07-16           19  \n",
       "9    automatic     SUV        blue     1.0  2019-02-15           17  "
      ]
     },
     "execution_count": 4,
     "metadata": {},
     "output_type": "execute_result"
    }
   ],
   "source": [
    "# print a sample of data\n",
    "car_data.head(10)\n"
   ]
  },
  {
   "cell_type": "markdown",
   "metadata": {},
   "source": [
    "The issues are: \n",
    "\n",
    "- 1.There are missing values in 5 columns: model_year, cylinders, odometer, paint_color, is_4wd. \n",
    "\n",
    "- 2.The data type for date_posted should be changed to datetime."
   ]
  },
  {
   "cell_type": "markdown",
   "metadata": {},
   "source": [
    "The data type for date_posted should be changed to datetime. model_year should be changed to int64"
   ]
  },
  {
   "cell_type": "code",
   "execution_count": 5,
   "metadata": {},
   "outputs": [
    {
     "name": "stdout",
     "output_type": "stream",
     "text": [
      "<class 'pandas.core.frame.DataFrame'>\n",
      "RangeIndex: 51525 entries, 0 to 51524\n",
      "Data columns (total 13 columns):\n",
      "price           51525 non-null int64\n",
      "model_year      51525 non-null int64\n",
      "model           51525 non-null object\n",
      "condition       51525 non-null object\n",
      "cylinders       46265 non-null float64\n",
      "fuel            51525 non-null object\n",
      "odometer        43633 non-null float64\n",
      "transmission    51525 non-null object\n",
      "type            51525 non-null object\n",
      "paint_color     42258 non-null object\n",
      "is_4wd          25572 non-null float64\n",
      "date_posted     51525 non-null datetime64[ns]\n",
      "days_listed     51525 non-null int64\n",
      "dtypes: datetime64[ns](1), float64(3), int64(3), object(6)\n",
      "memory usage: 5.1+ MB\n"
     ]
    },
    {
     "data": {
      "text/plain": [
       "price           0.000000\n",
       "model_year      0.000000\n",
       "model           0.000000\n",
       "condition       0.000000\n",
       "cylinders       0.102086\n",
       "fuel            0.000000\n",
       "odometer        0.153168\n",
       "transmission    0.000000\n",
       "type            0.000000\n",
       "paint_color     0.179854\n",
       "is_4wd          0.503697\n",
       "date_posted     0.000000\n",
       "days_listed     0.000000\n",
       "dtype: float64"
      ]
     },
     "execution_count": 5,
     "metadata": {},
     "output_type": "execute_result"
    }
   ],
   "source": [
    "car_data['date_posted']=pd.to_datetime(car_data['date_posted'])\n",
    "car_data['model_year']=pd.to_datetime(car_data['model_year'], errors='coerce').astype('int64')\n",
    "car_data.info()\n",
    "car_data.isnull().sum()/len(car_data)"
   ]
  },
  {
   "cell_type": "markdown",
   "metadata": {},
   "source": [
    "[Are there missing values across all columns or just a few? What columns contain the most missing values? Briefly describe what you see in 1-2 sentences.]is_4wd contains the most missing values. paint_color is the second and odometer is the third."
   ]
  },
  {
   "cell_type": "markdown",
   "metadata": {},
   "source": [
    "### Conclusions and further steps\n",
    "\n",
    " MIssing values need to be dealt with.\n",
    "\n",
    " Missing values in all columns should be treated in the most efficiant matter to finally check if the column has effect on price. car_age column need to be created to check average mileage per year."
   ]
  },
  {
   "cell_type": "markdown",
   "metadata": {},
   "source": [
    "## Treat missing values (if any)"
   ]
  },
  {
   "cell_type": "code",
   "execution_count": 6,
   "metadata": {
    "scrolled": true
   },
   "outputs": [
    {
     "name": "stdout",
     "output_type": "stream",
     "text": [
      "100\n",
      "\n",
      "       price  model_year           model  condition  cylinders fuel  odometer  \\\n",
      "229     6995        2011  hyundai sonata  excellent        4.0  gas  117371.0   \n",
      "11011   1900        2008  hyundai sonata       good        4.0  gas       NaN   \n",
      "14092    199        2013  hyundai sonata  excellent        NaN  gas   88590.0   \n",
      "14093    199        2013  hyundai sonata  excellent        NaN  gas   88590.0   \n",
      "15208   4790        2011  hyundai sonata   like new        4.0  gas  130000.0   \n",
      "\n",
      "      transmission   type paint_color  is_4wd date_posted  days_listed  \n",
      "229      automatic  sedan        grey     1.0  2019-02-26           20  \n",
      "11011    automatic  sedan      custom     1.0  2019-04-11           15  \n",
      "14092    automatic  sedan        grey     1.0  2019-04-15           45  \n",
      "14093    automatic  sedan        grey     1.0  2019-02-21           25  \n",
      "15208    automatic  sedan        grey     1.0  2019-01-03            3  \n",
      "\n",
      "            model  is_4wd\n",
      "0          bmw x5       1\n",
      "1      ford f-150       1\n",
      "2  hyundai sonata       1\n",
      "3      ford f-150       1\n",
      "4    chrysler 200       1\n",
      "5    chrysler 300       1\n",
      "6    toyota camry       1\n",
      "7     honda pilot       1\n",
      "8     kia sorento       1\n",
      "9     honda pilot       1\n",
      "\n"
     ]
    }
   ],
   "source": [
    "\n",
    "#lets see how many unique car models there are(100)\n",
    "print(len(car_data['model'].unique()))\n",
    "print()\n",
    "\n",
    "#checking if pre entered values are correct, in order to see if nan values can be replaced.\n",
    "#I choose a model which is not a 4wd car, and check if there are mistakes in the column.\n",
    "print(car_data[(car_data['model']=='hyundai sonata') & (car_data['is_4wd']==1.0)].head(10))\n",
    "print()\n",
    "\n",
    "#hyundai sonata is not a 4wd and there is several mistakes where the model is classified as \n",
    "#4wd, as the user have entered the data, it can't be trusted, but we can fill\n",
    "# the nan values on is_4wd based on model and all the rest can be filled with 0.\n",
    "car_data['is_4wd'] = car_data.groupby('model')['is_4wd'] \\\n",
    "                 .transform(lambda x: x.fillna(x.max())).fillna(0).astype(int)\n",
    "print(car_data[['model', 'is_4wd']].head(10))\n",
    "print()"
   ]
  },
  {
   "cell_type": "code",
   "execution_count": 7,
   "metadata": {},
   "outputs": [
    {
     "name": "stdout",
     "output_type": "stream",
     "text": [
      "paint_color value count: white     10029\n",
      "black      7692\n",
      "silver     6244\n",
      "grey       5037\n",
      "blue       4475\n",
      "red        4421\n",
      "green      1396\n",
      "brown      1223\n",
      "custom     1153\n",
      "yellow      255\n",
      "orange      231\n",
      "purple      102\n",
      "Name: paint_color, dtype: int64\n",
      "\n"
     ]
    }
   ],
   "source": [
    "#filling missing values in paint_color. \n",
    "#checking paint_color value count\n",
    "print('paint_color value count:',car_data['paint_color'].value_counts())\n",
    "print()\n",
    "\n",
    "#There is no way to accrutly predict the missing color. I will fill nan values with white\n",
    "#as the user may have ommited color because it is white.\n",
    "car_data['paint_color']=car_data['paint_color'].fillna('unknown')\n",
    "\n"
   ]
  },
  {
   "cell_type": "code",
   "execution_count": 8,
   "metadata": {},
   "outputs": [
    {
     "name": "stdout",
     "output_type": "stream",
     "text": [
      "model_year value count: -9223372036854775808    3619\n",
      " 2013                   3549\n",
      " 2012                   3468\n",
      " 2014                   3448\n",
      " 2011                   3375\n",
      "                        ... \n",
      " 1954                      1\n",
      " 1955                      1\n",
      " 1961                      1\n",
      " 1936                      1\n",
      " 1949                      1\n",
      "Name: model_year, Length: 69, dtype: int64\n",
      "\n",
      "1         88705.0\n",
      "20       147485.0\n",
      "65       108500.0\n",
      "69        97510.0\n",
      "72        74000.0\n",
      "           ...   \n",
      "51464    135778.0\n",
      "51465     86456.0\n",
      "51487     15804.0\n",
      "51488    203000.0\n",
      "51508    150000.0\n",
      "Name: odometer, Length: 3619, dtype: float64\n",
      "\n",
      "The average mileage per year is: 14125.0\n",
      "\n"
     ]
    }
   ],
   "source": [
    "#filling nan values in the odometer column. The model_year and odometer values will need to \n",
    "#be taken into account. Removing wrong values in model_year.\n",
    "print('model_year value count:', car_data.model_year.value_counts())\n",
    "print()\n",
    "\n",
    "# we have 3619 values with -9223372036854775808.\n",
    "print(car_data[car_data.model_year==-9223372036854775808]['odometer'])\n",
    "print()\n",
    "\n",
    "#we can replace these values with model_year median for each car model that have the wrong\n",
    "#-9223372036854775808 value\n",
    "#creating a car list with the car models that have -9223372036854775808\n",
    "car_list=car_data[car_data['model_year']==-9223372036854775808]['model'].unique()\n",
    "\n",
    "#for loop to change each -9223372036854775808 value with the model year median\n",
    "for car in car_list:\n",
    "    model_year_median=car_data[car_data['model']==car]['model_year'].median()\n",
    "    car_data.loc[(car_data.model==car) & (car_data.model_year==-9223372036854775808), 'model_year']=model_year_median\n",
    "\n",
    "#creating car_age column\n",
    "car_data['car_age']=pd.DatetimeIndex(car_data['date_posted']).year - car_data['model_year']\n",
    "\n",
    "#filling in odometer nan values. first we should calculate the average mileage for each year\n",
    "#then we can fill the nan values\n",
    "year_mileage_m=car_data[['odometer', 'car_age']].median()\n",
    "year_mileage_m=year_mileage_m['odometer']/year_mileage_m['car_age']\n",
    "print('The average mileage per year is:', year_mileage_m)\n",
    "print()\n",
    "\n",
    "#replacing the nan values with age*median mileage\n",
    "car_data['odometer'] = car_data.groupby('car_age')['odometer'] \\\n",
    "                 .transform(lambda x: x.fillna(year_mileage_m*car_data['car_age']))"
   ]
  },
  {
   "cell_type": "code",
   "execution_count": 9,
   "metadata": {},
   "outputs": [
    {
     "name": "stdout",
     "output_type": "stream",
     "text": [
      "count    46265.000000\n",
      "mean         6.125235\n",
      "std          1.660360\n",
      "min          3.000000\n",
      "25%          4.000000\n",
      "50%          6.000000\n",
      "75%          8.000000\n",
      "max         12.000000\n",
      "Name: cylinders, dtype: float64\n",
      "\n",
      "<class 'pandas.core.frame.DataFrame'>\n",
      "RangeIndex: 51525 entries, 0 to 51524\n",
      "Data columns (total 14 columns):\n",
      "price           51525 non-null int64\n",
      "model_year      51525 non-null float64\n",
      "model           51525 non-null object\n",
      "condition       51525 non-null object\n",
      "cylinders       51525 non-null float64\n",
      "fuel            51525 non-null object\n",
      "odometer        51525 non-null float64\n",
      "transmission    51525 non-null object\n",
      "type            51525 non-null object\n",
      "paint_color     51525 non-null object\n",
      "is_4wd          51525 non-null int64\n",
      "date_posted     51525 non-null datetime64[ns]\n",
      "days_listed     51525 non-null int64\n",
      "car_age         51525 non-null float64\n",
      "dtypes: datetime64[ns](1), float64(4), int64(3), object(6)\n",
      "memory usage: 5.5+ MB\n"
     ]
    }
   ],
   "source": [
    "#filling in the cylinders nan values we need to trust the most of the users entered the\n",
    "#correct value, therefor we will use the median to fill in the nan.\n",
    "#first we see if there are outliers\n",
    "print(car_data.cylinders.describe())\n",
    "print()\n",
    "\n",
    "#data looks ok, with not obvious outliers. But 12 cylinders seems to be too much.\n",
    "#I will calculate the median cylinders for each car model and assign it to nan and\n",
    "#all other cells, as we can't trust user accuracy, but as we have a big data table\n",
    "#we can take the median which will not include the mistakes/outliers.\n",
    "#creating a car list for all the cars (we know the max cylinders per the describe above)\n",
    "car_list=car_data[car_data['cylinders'] <= 12]['model'].unique()\n",
    "\n",
    "#iterating over the list for find the median cylinders for each car model, and assigning \n",
    "#the median to the car 'cylinders' column\n",
    "for car in car_list:\n",
    "    cylinders_median=car_data[car_data['model']==car]['cylinders'].median()\n",
    "    car_data.loc[car_data.model==car, 'cylinders']=cylinders_median\n",
    "\n",
    "#let's check we filled in all the nan values\n",
    "car_data.info()\n",
    "#all nan values were filled"
   ]
  },
  {
   "cell_type": "markdown",
   "metadata": {},
   "source": [
    "## Fix data types"
   ]
  },
  {
   "cell_type": "code",
   "execution_count": 10,
   "metadata": {},
   "outputs": [
    {
     "name": "stdout",
     "output_type": "stream",
     "text": [
      "<class 'pandas.core.frame.DataFrame'>\n",
      "RangeIndex: 51525 entries, 0 to 51524\n",
      "Data columns (total 14 columns):\n",
      "price           51525 non-null int64\n",
      "model_year      51525 non-null int64\n",
      "model           51525 non-null object\n",
      "condition       51525 non-null object\n",
      "cylinders       51525 non-null int64\n",
      "fuel            51525 non-null object\n",
      "odometer        51525 non-null int64\n",
      "transmission    51525 non-null object\n",
      "type            51525 non-null object\n",
      "paint_color     51525 non-null object\n",
      "is_4wd          51525 non-null bool\n",
      "date_posted     51525 non-null datetime64[ns]\n",
      "days_listed     51525 non-null int64\n",
      "car_age         51525 non-null int64\n",
      "dtypes: bool(1), datetime64[ns](1), int64(6), object(6)\n",
      "memory usage: 5.2+ MB\n"
     ]
    }
   ],
   "source": [
    "car_data['model_year']=pd.to_numeric(car_data['model_year']).astype('int64')\n",
    "car_data['car_age']=pd.to_numeric(car_data['car_age']).astype('int64')\n",
    "car_data['cylinders']=pd.to_numeric(car_data['cylinders']).astype('int64')\n",
    "car_data['odometer']=pd.to_numeric(car_data['odometer']).astype('int64')\n",
    "car_data['is_4wd']=car_data['is_4wd'].astype('bool')\n",
    "\n",
    "car_data.info()"
   ]
  },
  {
   "cell_type": "markdown",
   "metadata": {},
   "source": [
    "## Enrich data"
   ]
  },
  {
   "cell_type": "code",
   "execution_count": 11,
   "metadata": {},
   "outputs": [
    {
     "data": {
      "text/plain": [
       "0       2018-06-23\n",
       "1       2018-10-19\n",
       "2       2019-02-07\n",
       "3       2019-03-22\n",
       "4       2019-04-02\n",
       "           ...    \n",
       "51520   2018-10-03\n",
       "51521   2018-11-14\n",
       "51522   2018-11-15\n",
       "51523   2018-07-02\n",
       "51524   2018-06-05\n",
       "Name: date_posted, Length: 51525, dtype: datetime64[ns]"
      ]
     },
     "execution_count": 11,
     "metadata": {},
     "output_type": "execute_result"
    }
   ],
   "source": [
    "# Add datetime values for when the ad was placed\n",
    "#already done\n",
    "car_data['date_posted']"
   ]
  },
  {
   "cell_type": "code",
   "execution_count": 12,
   "metadata": {},
   "outputs": [
    {
     "name": "stdout",
     "output_type": "stream",
     "text": [
      "<class 'pandas.core.frame.DataFrame'>\n",
      "RangeIndex: 51525 entries, 0 to 51524\n",
      "Data columns (total 14 columns):\n",
      "price           51525 non-null int64\n",
      "model_year      51525 non-null int64\n",
      "model           51525 non-null object\n",
      "condition       51525 non-null object\n",
      "cylinders       51525 non-null int64\n",
      "fuel            51525 non-null object\n",
      "odometer        51525 non-null int64\n",
      "transmission    51525 non-null object\n",
      "type            51525 non-null object\n",
      "paint_color     51525 non-null object\n",
      "is_4wd          51525 non-null bool\n",
      "date_posted     51525 non-null datetime64[ns]\n",
      "days_listed     51525 non-null int64\n",
      "car_age         51525 non-null int64\n",
      "dtypes: bool(1), datetime64[ns](1), int64(6), object(6)\n",
      "memory usage: 5.2+ MB\n"
     ]
    }
   ],
   "source": [
    "# Add the vehicle's age when the ad was placed\n",
    "#already done\n",
    "car_data.car_age\n",
    "car_data.info()"
   ]
  },
  {
   "cell_type": "code",
   "execution_count": 13,
   "metadata": {},
   "outputs": [
    {
     "data": {
      "text/html": [
       "<div>\n",
       "<style scoped>\n",
       "    .dataframe tbody tr th:only-of-type {\n",
       "        vertical-align: middle;\n",
       "    }\n",
       "\n",
       "    .dataframe tbody tr th {\n",
       "        vertical-align: top;\n",
       "    }\n",
       "\n",
       "    .dataframe thead th {\n",
       "        text-align: right;\n",
       "    }\n",
       "</style>\n",
       "<table border=\"1\" class=\"dataframe\">\n",
       "  <thead>\n",
       "    <tr style=\"text-align: right;\">\n",
       "      <th></th>\n",
       "      <th>price</th>\n",
       "      <th>model_year</th>\n",
       "      <th>model</th>\n",
       "      <th>condition</th>\n",
       "      <th>cylinders</th>\n",
       "      <th>fuel</th>\n",
       "      <th>odometer</th>\n",
       "      <th>transmission</th>\n",
       "      <th>type</th>\n",
       "      <th>paint_color</th>\n",
       "      <th>is_4wd</th>\n",
       "      <th>date_posted</th>\n",
       "      <th>days_listed</th>\n",
       "      <th>car_age</th>\n",
       "      <th>average_mileage</th>\n",
       "    </tr>\n",
       "  </thead>\n",
       "  <tbody>\n",
       "    <tr>\n",
       "      <td>0</td>\n",
       "      <td>9400</td>\n",
       "      <td>2011</td>\n",
       "      <td>bmw x5</td>\n",
       "      <td>good</td>\n",
       "      <td>6</td>\n",
       "      <td>gas</td>\n",
       "      <td>145000</td>\n",
       "      <td>automatic</td>\n",
       "      <td>SUV</td>\n",
       "      <td>unknown</td>\n",
       "      <td>True</td>\n",
       "      <td>2018-06-23</td>\n",
       "      <td>19</td>\n",
       "      <td>7</td>\n",
       "      <td>20714.285714</td>\n",
       "    </tr>\n",
       "    <tr>\n",
       "      <td>1</td>\n",
       "      <td>25500</td>\n",
       "      <td>2010</td>\n",
       "      <td>ford f-150</td>\n",
       "      <td>good</td>\n",
       "      <td>8</td>\n",
       "      <td>gas</td>\n",
       "      <td>88705</td>\n",
       "      <td>automatic</td>\n",
       "      <td>pickup</td>\n",
       "      <td>white</td>\n",
       "      <td>True</td>\n",
       "      <td>2018-10-19</td>\n",
       "      <td>50</td>\n",
       "      <td>8</td>\n",
       "      <td>11088.125000</td>\n",
       "    </tr>\n",
       "    <tr>\n",
       "      <td>2</td>\n",
       "      <td>5500</td>\n",
       "      <td>2013</td>\n",
       "      <td>hyundai sonata</td>\n",
       "      <td>like new</td>\n",
       "      <td>4</td>\n",
       "      <td>gas</td>\n",
       "      <td>110000</td>\n",
       "      <td>automatic</td>\n",
       "      <td>sedan</td>\n",
       "      <td>red</td>\n",
       "      <td>True</td>\n",
       "      <td>2019-02-07</td>\n",
       "      <td>79</td>\n",
       "      <td>6</td>\n",
       "      <td>18333.333333</td>\n",
       "    </tr>\n",
       "    <tr>\n",
       "      <td>3</td>\n",
       "      <td>1500</td>\n",
       "      <td>2003</td>\n",
       "      <td>ford f-150</td>\n",
       "      <td>fair</td>\n",
       "      <td>8</td>\n",
       "      <td>gas</td>\n",
       "      <td>226000</td>\n",
       "      <td>automatic</td>\n",
       "      <td>pickup</td>\n",
       "      <td>unknown</td>\n",
       "      <td>True</td>\n",
       "      <td>2019-03-22</td>\n",
       "      <td>9</td>\n",
       "      <td>16</td>\n",
       "      <td>14125.000000</td>\n",
       "    </tr>\n",
       "    <tr>\n",
       "      <td>4</td>\n",
       "      <td>14900</td>\n",
       "      <td>2017</td>\n",
       "      <td>chrysler 200</td>\n",
       "      <td>excellent</td>\n",
       "      <td>4</td>\n",
       "      <td>gas</td>\n",
       "      <td>80903</td>\n",
       "      <td>automatic</td>\n",
       "      <td>sedan</td>\n",
       "      <td>black</td>\n",
       "      <td>True</td>\n",
       "      <td>2019-04-02</td>\n",
       "      <td>28</td>\n",
       "      <td>2</td>\n",
       "      <td>40451.500000</td>\n",
       "    </tr>\n",
       "    <tr>\n",
       "      <td>...</td>\n",
       "      <td>...</td>\n",
       "      <td>...</td>\n",
       "      <td>...</td>\n",
       "      <td>...</td>\n",
       "      <td>...</td>\n",
       "      <td>...</td>\n",
       "      <td>...</td>\n",
       "      <td>...</td>\n",
       "      <td>...</td>\n",
       "      <td>...</td>\n",
       "      <td>...</td>\n",
       "      <td>...</td>\n",
       "      <td>...</td>\n",
       "      <td>...</td>\n",
       "      <td>...</td>\n",
       "    </tr>\n",
       "    <tr>\n",
       "      <td>51520</td>\n",
       "      <td>9249</td>\n",
       "      <td>2013</td>\n",
       "      <td>nissan maxima</td>\n",
       "      <td>like new</td>\n",
       "      <td>6</td>\n",
       "      <td>gas</td>\n",
       "      <td>88136</td>\n",
       "      <td>automatic</td>\n",
       "      <td>sedan</td>\n",
       "      <td>black</td>\n",
       "      <td>True</td>\n",
       "      <td>2018-10-03</td>\n",
       "      <td>37</td>\n",
       "      <td>5</td>\n",
       "      <td>17627.200000</td>\n",
       "    </tr>\n",
       "    <tr>\n",
       "      <td>51521</td>\n",
       "      <td>2700</td>\n",
       "      <td>2002</td>\n",
       "      <td>honda civic</td>\n",
       "      <td>salvage</td>\n",
       "      <td>4</td>\n",
       "      <td>gas</td>\n",
       "      <td>181500</td>\n",
       "      <td>automatic</td>\n",
       "      <td>sedan</td>\n",
       "      <td>white</td>\n",
       "      <td>True</td>\n",
       "      <td>2018-11-14</td>\n",
       "      <td>22</td>\n",
       "      <td>16</td>\n",
       "      <td>11343.750000</td>\n",
       "    </tr>\n",
       "    <tr>\n",
       "      <td>51522</td>\n",
       "      <td>3950</td>\n",
       "      <td>2009</td>\n",
       "      <td>hyundai sonata</td>\n",
       "      <td>excellent</td>\n",
       "      <td>4</td>\n",
       "      <td>gas</td>\n",
       "      <td>128000</td>\n",
       "      <td>automatic</td>\n",
       "      <td>sedan</td>\n",
       "      <td>blue</td>\n",
       "      <td>True</td>\n",
       "      <td>2018-11-15</td>\n",
       "      <td>32</td>\n",
       "      <td>9</td>\n",
       "      <td>14222.222222</td>\n",
       "    </tr>\n",
       "    <tr>\n",
       "      <td>51523</td>\n",
       "      <td>7455</td>\n",
       "      <td>2013</td>\n",
       "      <td>toyota corolla</td>\n",
       "      <td>good</td>\n",
       "      <td>4</td>\n",
       "      <td>gas</td>\n",
       "      <td>139573</td>\n",
       "      <td>automatic</td>\n",
       "      <td>sedan</td>\n",
       "      <td>black</td>\n",
       "      <td>True</td>\n",
       "      <td>2018-07-02</td>\n",
       "      <td>71</td>\n",
       "      <td>5</td>\n",
       "      <td>27914.600000</td>\n",
       "    </tr>\n",
       "    <tr>\n",
       "      <td>51524</td>\n",
       "      <td>6300</td>\n",
       "      <td>2014</td>\n",
       "      <td>nissan altima</td>\n",
       "      <td>good</td>\n",
       "      <td>4</td>\n",
       "      <td>gas</td>\n",
       "      <td>56500</td>\n",
       "      <td>automatic</td>\n",
       "      <td>sedan</td>\n",
       "      <td>unknown</td>\n",
       "      <td>True</td>\n",
       "      <td>2018-06-05</td>\n",
       "      <td>10</td>\n",
       "      <td>4</td>\n",
       "      <td>14125.000000</td>\n",
       "    </tr>\n",
       "  </tbody>\n",
       "</table>\n",
       "<p>51525 rows × 15 columns</p>\n",
       "</div>"
      ],
      "text/plain": [
       "       price  model_year           model  condition  cylinders fuel  odometer  \\\n",
       "0       9400        2011          bmw x5       good          6  gas    145000   \n",
       "1      25500        2010      ford f-150       good          8  gas     88705   \n",
       "2       5500        2013  hyundai sonata   like new          4  gas    110000   \n",
       "3       1500        2003      ford f-150       fair          8  gas    226000   \n",
       "4      14900        2017    chrysler 200  excellent          4  gas     80903   \n",
       "...      ...         ...             ...        ...        ...  ...       ...   \n",
       "51520   9249        2013   nissan maxima   like new          6  gas     88136   \n",
       "51521   2700        2002     honda civic    salvage          4  gas    181500   \n",
       "51522   3950        2009  hyundai sonata  excellent          4  gas    128000   \n",
       "51523   7455        2013  toyota corolla       good          4  gas    139573   \n",
       "51524   6300        2014   nissan altima       good          4  gas     56500   \n",
       "\n",
       "      transmission    type paint_color  is_4wd date_posted  days_listed  \\\n",
       "0        automatic     SUV     unknown    True  2018-06-23           19   \n",
       "1        automatic  pickup       white    True  2018-10-19           50   \n",
       "2        automatic   sedan         red    True  2019-02-07           79   \n",
       "3        automatic  pickup     unknown    True  2019-03-22            9   \n",
       "4        automatic   sedan       black    True  2019-04-02           28   \n",
       "...            ...     ...         ...     ...         ...          ...   \n",
       "51520    automatic   sedan       black    True  2018-10-03           37   \n",
       "51521    automatic   sedan       white    True  2018-11-14           22   \n",
       "51522    automatic   sedan        blue    True  2018-11-15           32   \n",
       "51523    automatic   sedan       black    True  2018-07-02           71   \n",
       "51524    automatic   sedan     unknown    True  2018-06-05           10   \n",
       "\n",
       "       car_age  average_mileage  \n",
       "0            7     20714.285714  \n",
       "1            8     11088.125000  \n",
       "2            6     18333.333333  \n",
       "3           16     14125.000000  \n",
       "4            2     40451.500000  \n",
       "...        ...              ...  \n",
       "51520        5     17627.200000  \n",
       "51521       16     11343.750000  \n",
       "51522        9     14222.222222  \n",
       "51523        5     27914.600000  \n",
       "51524        4     14125.000000  \n",
       "\n",
       "[51525 rows x 15 columns]"
      ]
     },
     "execution_count": 13,
     "metadata": {},
     "output_type": "execute_result"
    }
   ],
   "source": [
    "# Add the vehicle's average mileage per year\n",
    "for row in car_data:\n",
    "    car_data['average_mileage']=car_data['odometer']/car_data['car_age']\n",
    "car_data['average_mileage'].replace(np.inf, 0, inplace=True)    \n",
    "car_data"
   ]
  },
  {
   "cell_type": "markdown",
   "metadata": {},
   "source": [
    "## Check clean data"
   ]
  },
  {
   "cell_type": "code",
   "execution_count": 15,
   "metadata": {},
   "outputs": [
    {
     "name": "stdout",
     "output_type": "stream",
     "text": [
      "<class 'pandas.core.frame.DataFrame'>\n",
      "RangeIndex: 51525 entries, 0 to 51524\n",
      "Data columns (total 15 columns):\n",
      "price              51525 non-null int64\n",
      "model_year         51525 non-null int64\n",
      "model              51525 non-null object\n",
      "condition          51525 non-null object\n",
      "cylinders          51525 non-null int64\n",
      "fuel               51525 non-null object\n",
      "odometer           51525 non-null int64\n",
      "transmission       51525 non-null object\n",
      "type               51525 non-null object\n",
      "paint_color        51525 non-null object\n",
      "is_4wd             51525 non-null bool\n",
      "date_posted        51525 non-null datetime64[ns]\n",
      "days_listed        51525 non-null int64\n",
      "car_age            51525 non-null int64\n",
      "average_mileage    51204 non-null float64\n",
      "dtypes: bool(1), datetime64[ns](1), float64(1), int64(6), object(6)\n",
      "memory usage: 5.6+ MB\n"
     ]
    }
   ],
   "source": [
    "# print the general/summary information about the DataFrame\n",
    "car_data.info()\n"
   ]
  },
  {
   "cell_type": "code",
   "execution_count": 16,
   "metadata": {},
   "outputs": [
    {
     "data": {
      "text/html": [
       "<div>\n",
       "<style scoped>\n",
       "    .dataframe tbody tr th:only-of-type {\n",
       "        vertical-align: middle;\n",
       "    }\n",
       "\n",
       "    .dataframe tbody tr th {\n",
       "        vertical-align: top;\n",
       "    }\n",
       "\n",
       "    .dataframe thead th {\n",
       "        text-align: right;\n",
       "    }\n",
       "</style>\n",
       "<table border=\"1\" class=\"dataframe\">\n",
       "  <thead>\n",
       "    <tr style=\"text-align: right;\">\n",
       "      <th></th>\n",
       "      <th>price</th>\n",
       "      <th>model_year</th>\n",
       "      <th>model</th>\n",
       "      <th>condition</th>\n",
       "      <th>cylinders</th>\n",
       "      <th>fuel</th>\n",
       "      <th>odometer</th>\n",
       "      <th>transmission</th>\n",
       "      <th>type</th>\n",
       "      <th>paint_color</th>\n",
       "      <th>is_4wd</th>\n",
       "      <th>date_posted</th>\n",
       "      <th>days_listed</th>\n",
       "      <th>car_age</th>\n",
       "      <th>average_mileage</th>\n",
       "    </tr>\n",
       "  </thead>\n",
       "  <tbody>\n",
       "    <tr>\n",
       "      <td>0</td>\n",
       "      <td>9400</td>\n",
       "      <td>2011</td>\n",
       "      <td>bmw x5</td>\n",
       "      <td>good</td>\n",
       "      <td>6</td>\n",
       "      <td>gas</td>\n",
       "      <td>145000</td>\n",
       "      <td>automatic</td>\n",
       "      <td>SUV</td>\n",
       "      <td>unknown</td>\n",
       "      <td>True</td>\n",
       "      <td>2018-06-23</td>\n",
       "      <td>19</td>\n",
       "      <td>7</td>\n",
       "      <td>20714.285714</td>\n",
       "    </tr>\n",
       "    <tr>\n",
       "      <td>1</td>\n",
       "      <td>25500</td>\n",
       "      <td>2010</td>\n",
       "      <td>ford f-150</td>\n",
       "      <td>good</td>\n",
       "      <td>8</td>\n",
       "      <td>gas</td>\n",
       "      <td>88705</td>\n",
       "      <td>automatic</td>\n",
       "      <td>pickup</td>\n",
       "      <td>white</td>\n",
       "      <td>True</td>\n",
       "      <td>2018-10-19</td>\n",
       "      <td>50</td>\n",
       "      <td>8</td>\n",
       "      <td>11088.125000</td>\n",
       "    </tr>\n",
       "    <tr>\n",
       "      <td>2</td>\n",
       "      <td>5500</td>\n",
       "      <td>2013</td>\n",
       "      <td>hyundai sonata</td>\n",
       "      <td>like new</td>\n",
       "      <td>4</td>\n",
       "      <td>gas</td>\n",
       "      <td>110000</td>\n",
       "      <td>automatic</td>\n",
       "      <td>sedan</td>\n",
       "      <td>red</td>\n",
       "      <td>True</td>\n",
       "      <td>2019-02-07</td>\n",
       "      <td>79</td>\n",
       "      <td>6</td>\n",
       "      <td>18333.333333</td>\n",
       "    </tr>\n",
       "    <tr>\n",
       "      <td>3</td>\n",
       "      <td>1500</td>\n",
       "      <td>2003</td>\n",
       "      <td>ford f-150</td>\n",
       "      <td>fair</td>\n",
       "      <td>8</td>\n",
       "      <td>gas</td>\n",
       "      <td>226000</td>\n",
       "      <td>automatic</td>\n",
       "      <td>pickup</td>\n",
       "      <td>unknown</td>\n",
       "      <td>True</td>\n",
       "      <td>2019-03-22</td>\n",
       "      <td>9</td>\n",
       "      <td>16</td>\n",
       "      <td>14125.000000</td>\n",
       "    </tr>\n",
       "    <tr>\n",
       "      <td>4</td>\n",
       "      <td>14900</td>\n",
       "      <td>2017</td>\n",
       "      <td>chrysler 200</td>\n",
       "      <td>excellent</td>\n",
       "      <td>4</td>\n",
       "      <td>gas</td>\n",
       "      <td>80903</td>\n",
       "      <td>automatic</td>\n",
       "      <td>sedan</td>\n",
       "      <td>black</td>\n",
       "      <td>True</td>\n",
       "      <td>2019-04-02</td>\n",
       "      <td>28</td>\n",
       "      <td>2</td>\n",
       "      <td>40451.500000</td>\n",
       "    </tr>\n",
       "    <tr>\n",
       "      <td>5</td>\n",
       "      <td>14990</td>\n",
       "      <td>2014</td>\n",
       "      <td>chrysler 300</td>\n",
       "      <td>excellent</td>\n",
       "      <td>6</td>\n",
       "      <td>gas</td>\n",
       "      <td>57954</td>\n",
       "      <td>automatic</td>\n",
       "      <td>sedan</td>\n",
       "      <td>black</td>\n",
       "      <td>True</td>\n",
       "      <td>2018-06-20</td>\n",
       "      <td>15</td>\n",
       "      <td>4</td>\n",
       "      <td>14488.500000</td>\n",
       "    </tr>\n",
       "    <tr>\n",
       "      <td>6</td>\n",
       "      <td>12990</td>\n",
       "      <td>2015</td>\n",
       "      <td>toyota camry</td>\n",
       "      <td>excellent</td>\n",
       "      <td>4</td>\n",
       "      <td>gas</td>\n",
       "      <td>79212</td>\n",
       "      <td>automatic</td>\n",
       "      <td>sedan</td>\n",
       "      <td>white</td>\n",
       "      <td>True</td>\n",
       "      <td>2018-12-27</td>\n",
       "      <td>73</td>\n",
       "      <td>3</td>\n",
       "      <td>26404.000000</td>\n",
       "    </tr>\n",
       "    <tr>\n",
       "      <td>7</td>\n",
       "      <td>15990</td>\n",
       "      <td>2013</td>\n",
       "      <td>honda pilot</td>\n",
       "      <td>excellent</td>\n",
       "      <td>6</td>\n",
       "      <td>gas</td>\n",
       "      <td>109473</td>\n",
       "      <td>automatic</td>\n",
       "      <td>SUV</td>\n",
       "      <td>black</td>\n",
       "      <td>True</td>\n",
       "      <td>2019-01-07</td>\n",
       "      <td>68</td>\n",
       "      <td>6</td>\n",
       "      <td>18245.500000</td>\n",
       "    </tr>\n",
       "    <tr>\n",
       "      <td>8</td>\n",
       "      <td>11500</td>\n",
       "      <td>2012</td>\n",
       "      <td>kia sorento</td>\n",
       "      <td>excellent</td>\n",
       "      <td>4</td>\n",
       "      <td>gas</td>\n",
       "      <td>104174</td>\n",
       "      <td>automatic</td>\n",
       "      <td>SUV</td>\n",
       "      <td>unknown</td>\n",
       "      <td>True</td>\n",
       "      <td>2018-07-16</td>\n",
       "      <td>19</td>\n",
       "      <td>6</td>\n",
       "      <td>17362.333333</td>\n",
       "    </tr>\n",
       "    <tr>\n",
       "      <td>9</td>\n",
       "      <td>9200</td>\n",
       "      <td>2008</td>\n",
       "      <td>honda pilot</td>\n",
       "      <td>excellent</td>\n",
       "      <td>6</td>\n",
       "      <td>gas</td>\n",
       "      <td>147191</td>\n",
       "      <td>automatic</td>\n",
       "      <td>SUV</td>\n",
       "      <td>blue</td>\n",
       "      <td>True</td>\n",
       "      <td>2019-02-15</td>\n",
       "      <td>17</td>\n",
       "      <td>11</td>\n",
       "      <td>13381.000000</td>\n",
       "    </tr>\n",
       "  </tbody>\n",
       "</table>\n",
       "</div>"
      ],
      "text/plain": [
       "   price  model_year           model  condition  cylinders fuel  odometer  \\\n",
       "0   9400        2011          bmw x5       good          6  gas    145000   \n",
       "1  25500        2010      ford f-150       good          8  gas     88705   \n",
       "2   5500        2013  hyundai sonata   like new          4  gas    110000   \n",
       "3   1500        2003      ford f-150       fair          8  gas    226000   \n",
       "4  14900        2017    chrysler 200  excellent          4  gas     80903   \n",
       "5  14990        2014    chrysler 300  excellent          6  gas     57954   \n",
       "6  12990        2015    toyota camry  excellent          4  gas     79212   \n",
       "7  15990        2013     honda pilot  excellent          6  gas    109473   \n",
       "8  11500        2012     kia sorento  excellent          4  gas    104174   \n",
       "9   9200        2008     honda pilot  excellent          6  gas    147191   \n",
       "\n",
       "  transmission    type paint_color  is_4wd date_posted  days_listed  car_age  \\\n",
       "0    automatic     SUV     unknown    True  2018-06-23           19        7   \n",
       "1    automatic  pickup       white    True  2018-10-19           50        8   \n",
       "2    automatic   sedan         red    True  2019-02-07           79        6   \n",
       "3    automatic  pickup     unknown    True  2019-03-22            9       16   \n",
       "4    automatic   sedan       black    True  2019-04-02           28        2   \n",
       "5    automatic   sedan       black    True  2018-06-20           15        4   \n",
       "6    automatic   sedan       white    True  2018-12-27           73        3   \n",
       "7    automatic     SUV       black    True  2019-01-07           68        6   \n",
       "8    automatic     SUV     unknown    True  2018-07-16           19        6   \n",
       "9    automatic     SUV        blue    True  2019-02-15           17       11   \n",
       "\n",
       "   average_mileage  \n",
       "0     20714.285714  \n",
       "1     11088.125000  \n",
       "2     18333.333333  \n",
       "3     14125.000000  \n",
       "4     40451.500000  \n",
       "5     14488.500000  \n",
       "6     26404.000000  \n",
       "7     18245.500000  \n",
       "8     17362.333333  \n",
       "9     13381.000000  "
      ]
     },
     "execution_count": 16,
     "metadata": {},
     "output_type": "execute_result"
    }
   ],
   "source": [
    "# print a sample of data\n",
    "car_data.head(10)\n"
   ]
  },
  {
   "cell_type": "markdown",
   "metadata": {},
   "source": [
    "## Study core parameters\n",
    "\n",
    "\n",
    "\n",
    "The parameters are\n",
    "- Price\n",
    "- The vehicle's age when the ad was placed\n",
    "- Mileage\n",
    "- Number of cylinders\n",
    "- Condition"
   ]
  },
  {
   "cell_type": "markdown",
   "metadata": {},
   "source": [
    "[If you find that you need to repeat the same jobs multiple times, think about what coding instrument might be helpful for such a thing to avoid duplicating your code.]"
   ]
  },
  {
   "cell_type": "code",
   "execution_count": 17,
   "metadata": {
    "scrolled": true
   },
   "outputs": [
    {
     "name": "stdout",
     "output_type": "stream",
     "text": [
      "count     51525.000000\n",
      "mean      12132.464920\n",
      "std       10040.803015\n",
      "min           1.000000\n",
      "25%        5000.000000\n",
      "50%        9000.000000\n",
      "75%       16839.000000\n",
      "max      375000.000000\n",
      "Name: price, dtype: float64\n"
     ]
    },
    {
     "data": {
      "image/png": "[encoded data removed]",
      "text/plain": [
       "<Figure size 1080x648 with 1 Axes>"
      ]
     },
     "metadata": {
      "needs_background": "light"
     },
     "output_type": "display_data"
    },
    {
     "name": "stdout",
     "output_type": "stream",
     "text": [
      "\n"
     ]
    },
    {
     "data": {
      "image/png": "[encoded data removed]",
      "text/plain": [
       "<Figure size 1080x648 with 1 Axes>"
      ]
     },
     "metadata": {
      "needs_background": "light"
     },
     "output_type": "display_data"
    },
    {
     "name": "stdout",
     "output_type": "stream",
     "text": [
      "model\n",
      "cadillac escalade             13995.0\n",
      "chevrolet camaro              11961.0\n",
      "chevrolet corvette            16000.0\n",
      "chevrolet silverado 1500      13995.0\n",
      "chevrolet silverado 2500hd    16995.0\n",
      "chevrolet silverado 3500hd    21990.0\n",
      "chevrolet suburban             9995.0\n",
      "chevrolet tahoe                9800.0\n",
      "ford f-150                    12294.0\n",
      "ford f-250                    10700.0\n",
      "ford f-250 super duty         13750.0\n",
      "ford f250 super duty          11999.0\n",
      "ford f350                     15995.0\n",
      "ford f350 super duty          12947.5\n",
      "gmc sierra 2500hd             19989.5\n",
      "honda civic                    4995.0\n",
      "honda odyssey                  5500.0\n",
      "jeep cherokee                 12677.0\n",
      "nissan frontier               10995.0\n",
      "ram 2500                      20990.0\n",
      "ram 3500                      22985.0\n",
      "subaru impreza                 6947.5\n",
      "toyota sienna                  6495.0\n",
      "toyota tundra                 13500.0\n",
      "Name: price, dtype: float64\n",
      "69\n",
      "\n",
      "\n",
      "0.015487627365356624\n",
      "       price  model_year             model  condition  cylinders    fuel  \\\n",
      "218      500        2004    toyota corolla   like new          4     gas   \n",
      "317      600        1999   toyota camry le    salvage          4     gas   \n",
      "332      500        2004    toyota corolla   like new          4     gas   \n",
      "405        1        2014  chevrolet camaro  excellent          6     gas   \n",
      "406      288        2018     nissan altima  excellent          4     gas   \n",
      "...      ...         ...               ...        ...        ...     ...   \n",
      "50971     10        2012      toyota prius  excellent          4  hybrid   \n",
      "51107    700        2001       honda civic       fair          4     gas   \n",
      "51256      1        2012    honda civic lx  excellent          4     gas   \n",
      "51364    299        2004      toyota camry  excellent          4     gas   \n",
      "51394    950        2005        ford f-250       fair          8     gas   \n",
      "\n",
      "       odometer transmission       type paint_color  is_4wd date_posted  \\\n",
      "218      197750    automatic      sedan        blue    True  2018-09-17   \n",
      "317      216348    automatic      sedan       white    True  2019-03-04   \n",
      "332      226980    automatic      sedan     unknown    True  2018-09-19   \n",
      "405       71310    automatic      coupe     unknown    True  2018-07-14   \n",
      "406       40277    automatic      sedan      silver    True  2018-10-19   \n",
      "...         ...          ...        ...         ...     ...         ...   \n",
      "50971    101000    automatic  hatchback       green   False  2019-03-16   \n",
      "51107    150000       manual      sedan        blue    True  2018-08-07   \n",
      "51256     71262    automatic      sedan        blue    True  2018-05-06   \n",
      "51364    185234    automatic      sedan      silver    True  2018-12-09   \n",
      "51394    174000    automatic        van       white    True  2018-06-06   \n",
      "\n",
      "       days_listed  car_age  average_mileage  \n",
      "218             24       14     14125.000000  \n",
      "317             23       20     10817.400000  \n",
      "332             19       14     16212.857143  \n",
      "405             29        4     17827.500000  \n",
      "406             37        0         0.000000  \n",
      "...            ...      ...              ...  \n",
      "50971           29        7     14428.571429  \n",
      "51107           81       17      8823.529412  \n",
      "51256           53        6     11877.000000  \n",
      "51364            5       14     13231.000000  \n",
      "51394           44       13     13384.615385  \n",
      "\n",
      "[1404 rows x 15 columns]\n",
      "                                   price\n",
      "model                model_year         \n",
      "ford f350 super duty 2018        90000.0\n",
      "ford f350            2019        84900.0\n",
      "cadillac escalade    2019        75000.0\n",
      "chevrolet corvette   1960        65000.0\n",
      "                     1964        63700.0\n",
      "...                                  ...\n",
      "dodge charger        2017            1.0\n",
      "toyota highlander    2019            1.0\n",
      "ford fusion          2019            1.0\n",
      "toyota camry le      2018            1.0\n",
      "ram 3500             2019            1.0\n",
      "\n",
      "[2226 rows x 1 columns]\n"
     ]
    },
    {
     "name": "stderr",
     "output_type": "stream",
     "text": [
      "/opt/conda/lib/python3.7/site-packages/ipykernel_launcher.py:57: UserWarning: Boolean Series key will be reindexed to match DataFrame index.\n"
     ]
    },
    {
     "data": {
      "image/png": "[encoded data removed]",
      "text/plain": [
       "<Figure size 432x288 with 1 Axes>"
      ]
     },
     "metadata": {
      "needs_background": "light"
     },
     "output_type": "display_data"
    }
   ],
   "source": [
    "#let's create a duplicate data frame were we create a new clean one\n",
    "clean_data=car_data.copy()\n",
    "\n",
    "#first showing the histogram of price\n",
    "print(car_data['price'].describe())\n",
    "\n",
    "#there are potential outliers, as the std is very high, also where the price is 1 and \n",
    "#prices above 100,000 need to be checked\n",
    "car_data['price'].plot(kind='hist',bins=100, figsize=(15, 9), legend=True)\n",
    "plt.xlabel('Price') \n",
    "plt.ylabel('Number of cars') \n",
    "plt.show()\n",
    "print()\n",
    "\n",
    "#zooming in on prices between 1 to 1000\n",
    "car_data['price'].plot(kind='hist', bins=100, figsize=(15, 9), range=(0, 1000), legend=True)\n",
    "plt.xlabel('Price') \n",
    "plt.ylabel('Number of cars') \n",
    "plt.show()\n",
    "\n",
    "#we can see that there are 800 cars priced at 1 dollars which seems like an outlier.\n",
    "#let's see the boxplot\n",
    "plt.ylim(-400, 50000)\n",
    "car_data.boxplot('price')\n",
    "\n",
    "#we can see from the box plot that outliers is a feature of the data due to most points being\n",
    "#outside of the whiskers.\n",
    "#let's see the price of large outliers. I'll check prices over 60,000 and check against the \n",
    "#model price median, and if there is a big difference it can be dropped\n",
    "cars_above=car_data[(car_data['price'] > 60000)]['model']\n",
    "prices_cars_above=car_data.query('model in @cars_above')\n",
    "print(prices_cars_above.groupby('model')['price'].median())\n",
    "\n",
    "#as can be seen all models price medians are way below 60,000 therefor we can treat them\n",
    "#as mistakes and drop them as there aren't many.(69 values)\n",
    "print(len(car_data[(car_data['price'] > 60000)]))\n",
    "clean_data.drop(clean_data[(clean_data['price'] > 60000)].index, inplace=True)\n",
    "print()\n",
    "print()\n",
    "\n",
    "#next we should treat the very low priced cars. Let's fix prices of cars below valued at 1.\n",
    "print(len(car_data[(car_data['price'] == 1)])/ len(car_data))\n",
    "#as the 1 price valued cars are only 1.5% of the data it can be removed\n",
    "clean_data.drop(clean_data[(clean_data['price'] == 1)].index, inplace=True)\n",
    "\n",
    "\n",
    "#next we should treat the very other low priced cars. Let's check prices of cars below 1,000\n",
    "#against their median price to filter mistakes and outliers\n",
    "print(car_data[(car_data['price'] < 1000)])\n",
    "df_pivot=car_data.pivot_table(index=['model', 'model_year'], values='price', aggfunc='median')\n",
    "\n",
    "\n",
    "#lets check for the lowest median\n",
    "print(df_pivot.reindex(df_pivot['price'].sort_values(ascending=False).index))\n",
    "\n",
    "#the lowest median is gmc yukon\t2018\t399.0 therefor lets drop values under this price\n",
    "clean_data.drop(clean_data[(car_data['price'] <399)].index, inplace=True)\n",
    "\n",
    "\n"
   ]
  },
  {
   "cell_type": "code",
   "execution_count": 18,
   "metadata": {},
   "outputs": [
    {
     "name": "stdout",
     "output_type": "stream",
     "text": [
      "7     3933\n",
      "6     3871\n",
      "5     3760\n",
      "4     3419\n",
      "8     3317\n",
      "      ... \n",
      "89       1\n",
      "65       1\n",
      "58       1\n",
      "59       1\n",
      "63       1\n",
      "Name: car_age, Length: 68, dtype: int64\n",
      "       price  model_year               model  condition  cylinders fuel  \\\n",
      "10018  23900        1955           ford f250  excellent          8  gas   \n",
      "14752  15000        1954          ford f-150  excellent          8  gas   \n",
      "22595  21000        1948    chevrolet impala   like new          6  gas   \n",
      "33906  12995        1908           gmc yukon       good          8  gas   \n",
      "33907  12995        1908   cadillac escalade  excellent          8  gas   \n",
      "34713   5000        1936          ford f-150  excellent          8  gas   \n",
      "36582  44900        1949  chevrolet suburban       good          8  gas   \n",
      "45694  18000        1929          ford f-150       good          8  gas   \n",
      "\n",
      "       odometer transmission    type paint_color  is_4wd date_posted  \\\n",
      "10018     47180       manual   truck        blue    True  2018-12-22   \n",
      "14752      3565       manual  pickup       black    True  2019-02-16   \n",
      "22595      4000    automatic   sedan         red   False  2019-01-18   \n",
      "33906    169328    automatic     SUV       black    True  2018-07-06   \n",
      "33907   1553750    automatic     SUV       white    True  2018-06-24   \n",
      "34713     30000       manual  pickup      purple    True  2018-11-22   \n",
      "36582      1800    automatic   wagon      orange    True  2018-08-19   \n",
      "45694   1257125       manual   other      silver    True  2018-11-18   \n",
      "\n",
      "       days_listed  car_age  average_mileage  \n",
      "10018           61       63       748.888889  \n",
      "14752           13       65        54.846154  \n",
      "22595           24       71        56.338028  \n",
      "33906           34      110      1539.345455  \n",
      "33907           25      110     14125.000000  \n",
      "34713           10       82       365.853659  \n",
      "36582           10       69        26.086957  \n",
      "45694           59       89     14125.000000  \n"
     ]
    },
    {
     "data": {
      "image/png": "[encoded data removed]",
      "text/plain": [
       "<Figure size 432x288 with 1 Axes>"
      ]
     },
     "metadata": {
      "needs_background": "light"
     },
     "output_type": "display_data"
    },
    {
     "data": {
      "image/png": "[encoded data removed]",
      "text/plain": [
       "<Figure size 432x288 with 1 Axes>"
      ]
     },
     "metadata": {
      "needs_background": "light"
     },
     "output_type": "display_data"
    }
   ],
   "source": [
    "#The vehicle's age columns when the ad was placed\n",
    "print(clean_data['car_age'].value_counts())\n",
    "print(clean_data[clean_data['car_age'] >60])\n",
    "clean_data.boxplot('car_age')\n",
    "plt.show()\n",
    "#The vehicle's age columns that are more then 60 years ols can be dropped.\n",
    "clean_data.drop(clean_data[(clean_data['car_age'] > 60)].index, inplace=True)\n",
    "clean_data['car_age'].hist(bins=20)\n",
    "plt.show()\n",
    "#car_age column now looks better.\n",
    "\n"
   ]
  },
  {
   "cell_type": "code",
   "execution_count": 19,
   "metadata": {},
   "outputs": [
    {
     "data": {
      "image/png": "[encoded data removed]",
      "text/plain": [
       "<Figure size 432x288 with 1 Axes>"
      ]
     },
     "metadata": {
      "needs_background": "light"
     },
     "output_type": "display_data"
    },
    {
     "data": {
      "image/png": "[encoded data removed]",
      "text/plain": [
       "<Figure size 432x288 with 1 Axes>"
      ]
     },
     "metadata": {
      "needs_background": "light"
     },
     "output_type": "display_data"
    },
    {
     "data": {
      "image/png": "[encoded data removed]",
      "text/plain": [
       "<Figure size 432x288 with 1 Axes>"
      ]
     },
     "metadata": {
      "needs_background": "light"
     },
     "output_type": "display_data"
    }
   ],
   "source": [
    "#Mileage\n",
    "clean_data.boxplot('odometer')\n",
    "plt.show()\n",
    "clean_data['odometer'].hist(bins=20)\n",
    "plt.show()\n",
    "clean_data['odometer'].hist(bins=20, range=(400000, 500000))\n",
    "plt.show()\n",
    "#values above 400000 are scarce and are ouliers, or mistakes by user, is can be dropped as\n",
    "#they also don't seems reasonable\n",
    "clean_data.drop(clean_data[(clean_data['odometer'] > 400000)].index, inplace=True)\n",
    "\n"
   ]
  },
  {
   "cell_type": "code",
   "execution_count": 20,
   "metadata": {},
   "outputs": [
    {
     "data": {
      "image/png": "[encoded data removed]",
      "text/plain": [
       "<Figure size 432x288 with 1 Axes>"
      ]
     },
     "metadata": {
      "needs_background": "light"
     },
     "output_type": "display_data"
    },
    {
     "data": {
      "text/plain": [
       "8    17897\n",
       "6    16382\n",
       "4    15752\n",
       "5      280\n",
       "Name: cylinders, dtype: int64"
      ]
     },
     "execution_count": 20,
     "metadata": {},
     "output_type": "execute_result"
    }
   ],
   "source": [
    "#Number of cylinders\n",
    "clean_data['cylinders'].hist(bins=10)\n",
    "plt.show()\n",
    "clean_data['cylinders'].value_counts()\n",
    "#value swere already fixed and look good"
   ]
  },
  {
   "cell_type": "code",
   "execution_count": 21,
   "metadata": {},
   "outputs": [
    {
     "data": {
      "text/plain": [
       "excellent    23804\n",
       "good         20038\n",
       "like new      4651\n",
       "fair          1578\n",
       "new            126\n",
       "salvage        114\n",
       "Name: condition, dtype: int64"
      ]
     },
     "execution_count": 21,
     "metadata": {},
     "output_type": "execute_result"
    }
   ],
   "source": [
    "#Condition\n",
    "clean_data['condition'].value_counts()\n",
    "#seems ok, nothing to fix\n",
    "\n",
    "\n"
   ]
  },
  {
   "cell_type": "markdown",
   "metadata": {},
   "source": [
    "## Study core parameters without outliers"
   ]
  },
  {
   "cell_type": "markdown",
   "metadata": {},
   "source": [
    "By comparing clean_data and car_data we can see that clean_data values are more distributed follow normal distribution of values. Whereas car_data has extream values that skewed out the median."
   ]
  },
  {
   "cell_type": "code",
   "execution_count": 22,
   "metadata": {},
   "outputs": [
    {
     "name": "stdout",
     "output_type": "stream",
     "text": [
      "<class 'pandas.core.frame.DataFrame'>\n",
      "Int64Index: 50311 entries, 0 to 51524\n",
      "Data columns (total 15 columns):\n",
      "price              50311 non-null int64\n",
      "model_year         50311 non-null int64\n",
      "model              50311 non-null object\n",
      "condition          50311 non-null object\n",
      "cylinders          50311 non-null int64\n",
      "fuel               50311 non-null object\n",
      "odometer           50311 non-null int64\n",
      "transmission       50311 non-null object\n",
      "type               50311 non-null object\n",
      "paint_color        50311 non-null object\n",
      "is_4wd             50311 non-null bool\n",
      "date_posted        50311 non-null datetime64[ns]\n",
      "days_listed        50311 non-null int64\n",
      "car_age            50311 non-null int64\n",
      "average_mileage    50039 non-null float64\n",
      "dtypes: bool(1), datetime64[ns](1), float64(1), int64(6), object(6)\n",
      "memory usage: 5.8+ MB\n"
     ]
    },
    {
     "data": {
      "image/png": "[encoded data removed]",
      "text/plain": [
       "<Figure size 720x720 with 9 Axes>"
      ]
     },
     "metadata": {
      "needs_background": "light"
     },
     "output_type": "display_data"
    },
    {
     "data": {
      "image/png": "[encoded data removed]",
      "text/plain": [
       "<Figure size 720x720 with 9 Axes>"
      ]
     },
     "metadata": {
      "needs_background": "light"
     },
     "output_type": "display_data"
    }
   ],
   "source": [
    "clean_data.info()\n",
    "clean_data.hist(column=['price','model_year','cylinders','odometer','days_listed','car_age','average_mileage'], bins=50, figsize=(10, 10))\n",
    "plt.show()\n",
    "car_data.hist(column=['price','model_year','cylinders','odometer','days_listed','car_age','average_mileage'], bins=50, figsize=(10, 10))\n",
    "plt.show()"
   ]
  },
  {
   "cell_type": "markdown",
   "metadata": {},
   "source": [
    "## Ads lifetime\n",
    "\n",
    "Per pivot table we can see that the median was always lower from mean when grouping by car model. This means there are more abnormally long duration ads then short duration. Per scatter plot we can see that the tail is rightly skewed towrads larger day values, whereas the majoraty of ads are below 125 days. We can see that cheaper priced cars having the lowest days of ads displyed. The typical ad will be displayed for a month on average not including the really long displayed ads."
   ]
  },
  {
   "cell_type": "code",
   "execution_count": 23,
   "metadata": {},
   "outputs": [
    {
     "name": "stdout",
     "output_type": "stream",
     "text": [
      "                                        mean  median\n",
      "model                                               \n",
      "acura tl                           40.122881    33.5\n",
      "bmw x5                             42.419476    34.0\n",
      "buick enclave                      39.206642    33.0\n",
      "cadillac escalade                  42.028481    34.5\n",
      "chevrolet camaro                   38.114846    32.0\n",
      "chevrolet camaro lt coupe 2d       39.697749    35.0\n",
      "chevrolet colorado                 38.285714    33.5\n",
      "chevrolet corvette                 38.668790    33.0\n",
      "chevrolet cruze                    42.058036    34.0\n",
      "chevrolet equinox                  38.692440    33.0\n",
      "chevrolet impala                   39.401216    33.0\n",
      "chevrolet malibu                   39.411667    33.5\n",
      "chevrolet silverado                41.086991    35.0\n",
      "chevrolet silverado 1500           39.201771    33.0\n",
      "chevrolet silverado 1500 crew      39.056106    33.0\n",
      "chevrolet silverado 2500hd         37.871823    32.0\n",
      "chevrolet silverado 3500hd         38.708333    32.0\n",
      "chevrolet suburban                 42.593633    35.0\n",
      "chevrolet tahoe                    40.017804    32.5\n",
      "chevrolet trailblazer              39.357143    32.0\n",
      "chevrolet traverse                 39.875000    34.0\n",
      "chrysler 200                       40.266667    31.5\n",
      "chrysler 300                       38.289389    31.0\n",
      "chrysler town & country            38.365591    31.0\n",
      "dodge charger                      41.566766    35.0\n",
      "dodge dakota                       36.297071    34.0\n",
      "dodge grand caravan                40.959391    34.0\n",
      "ford econoline                     40.621622    35.0\n",
      "ford edge                          37.829268    31.0\n",
      "ford escape                        39.992780    34.0\n",
      "ford expedition                    41.383978    34.0\n",
      "ford explorer                      40.816010    35.0\n",
      "ford f-150                         38.662615    32.0\n",
      "ford f-250                         38.478365    30.0\n",
      "ford f-250 sd                      40.855422    36.0\n",
      "ford f-250 super duty              41.179167    34.5\n",
      "ford f-350 sd                      41.698305    37.0\n",
      "ford f150                          38.563567    32.0\n",
      "ford f150 supercrew cab xlt        40.969419    35.0\n",
      "ford f250                          35.907463    29.0\n",
      "ford f250 super duty               38.302452    32.0\n",
      "ford f350                          37.885246    32.0\n",
      "ford f350 super duty               41.390947    33.0\n",
      "ford focus                         40.348118    34.0\n",
      "ford focus se                      38.453333    33.0\n",
      "ford fusion                        37.971805    33.0\n",
      "ford fusion se                     40.225490    32.5\n",
      "ford mustang                       40.881902    35.0\n",
      "ford mustang gt coupe 2d           38.046512    31.0\n",
      "ford ranger                        38.695238    33.0\n",
      "ford taurus                        41.818792    35.0\n",
      "gmc acadia                         42.140000    35.0\n",
      "gmc sierra                         39.757812    33.0\n",
      "gmc sierra 1500                    41.457207    35.0\n",
      "gmc sierra 2500hd                  39.302752    33.0\n",
      "gmc yukon                          39.284848    35.0\n",
      "honda accord                       39.152471    32.0\n",
      "honda civic                        39.562025    33.0\n",
      "honda civic lx                     39.158301    31.0\n",
      "honda cr-v                         39.534712    34.0\n",
      "honda odyssey                      39.597753    32.0\n",
      "honda pilot                        37.109272    30.0\n",
      "hyundai elantra                    37.430622    32.0\n",
      "hyundai santa fe                   40.322344    35.0\n",
      "hyundai sonata                     39.219409    32.0\n",
      "jeep cherokee                      40.167247    33.0\n",
      "jeep grand cherokee                39.736979    33.0\n",
      "jeep grand cherokee laredo         38.925490    34.0\n",
      "jeep liberty                       38.644068    33.0\n",
      "jeep wrangler                      39.436140    33.0\n",
      "jeep wrangler unlimited            40.120536    32.0\n",
      "kia sorento                        43.355932    35.0\n",
      "kia soul                           40.794203    35.0\n",
      "mercedes-benz benze sprinter 2500  38.560976    34.0\n",
      "nissan altima                      37.717722    32.0\n",
      "nissan frontier                    37.917857    33.0\n",
      "nissan frontier crew cab sv        38.997101    33.0\n",
      "nissan maxima                      37.442105    32.0\n",
      "nissan murano                      39.506550    33.0\n",
      "nissan rogue                       39.809745    32.0\n",
      "nissan sentra                      40.385093    35.0\n",
      "nissan versa                       38.750929    31.0\n",
      "ram 1500                           39.538371    33.0\n",
      "ram 2500                           41.072965    35.0\n",
      "ram 3500                           39.750636    33.0\n",
      "subaru forester                    38.130705    31.5\n",
      "subaru impreza                     41.742972    34.0\n",
      "subaru outback                     38.828678    33.0\n",
      "toyota 4runner                     40.758465    35.0\n",
      "toyota camry                       39.489164    32.0\n",
      "toyota camry le                    41.065147    36.0\n",
      "toyota corolla                     39.271722    33.0\n",
      "toyota highlander                  39.617284    33.0\n",
      "toyota prius                       39.562500    34.0\n",
      "toyota rav4                        39.688742    35.0\n",
      "toyota sienna                      39.462500    33.0\n",
      "toyota tacoma                      38.790049    33.0\n",
      "toyota tundra                      38.301444    32.0\n",
      "volkswagen jetta                   40.099222    33.0\n",
      "volkswagen passat                  37.138329    31.0\n",
      "AxesSubplot(0.125,0.125;0.775x0.755)\n",
      "                    price  model_year  cylinders  odometer    is_4wd  \\\n",
      "price            1.000000    0.495693   0.374142 -0.509829 -0.015709   \n",
      "model_year       0.495693    1.000000  -0.129224 -0.549931 -0.052923   \n",
      "cylinders        0.374142   -0.129224   1.000000  0.108501 -0.004124   \n",
      "odometer        -0.509829   -0.549931   0.108501  1.000000  0.071786   \n",
      "is_4wd          -0.015709   -0.052923  -0.004124  0.071786  1.000000   \n",
      "days_listed     -0.001294   -0.004304   0.001043  0.002969  0.000882   \n",
      "car_age         -0.494021   -0.996926   0.129059  0.549144  0.052930   \n",
      "average_mileage  0.110857    0.368942  -0.010034  0.175659  0.008195   \n",
      "\n",
      "                 days_listed   car_age  average_mileage  \n",
      "price              -0.001294 -0.494021         0.110857  \n",
      "model_year         -0.004304 -0.996926         0.368942  \n",
      "cylinders           0.001043  0.129059        -0.010034  \n",
      "odometer            0.002969  0.549144         0.175659  \n",
      "is_4wd              0.000882  0.052930         0.008195  \n",
      "days_listed         1.000000  0.005099         0.000810  \n",
      "car_age             0.005099  1.000000        -0.375295  \n",
      "average_mileage     0.000810 -0.375295         1.000000  \n"
     ]
    },
    {
     "data": {
      "image/png": "[encoded data removed]",
      "text/plain": [
       "<Figure size 432x288 with 1 Axes>"
      ]
     },
     "metadata": {
      "needs_background": "light"
     },
     "output_type": "display_data"
    },
    {
     "data": {
      "image/png": "[encoded data removed]",
      "text/plain": [
       "<Figure size 432x288 with 2 Axes>"
      ]
     },
     "metadata": {
      "needs_background": "light"
     },
     "output_type": "display_data"
    },
    {
     "data": {
      "image/png": "[encoded data removed]",
      "text/plain": [
       "<Figure size 432x288 with 2 Axes>"
      ]
     },
     "metadata": {
      "needs_background": "light"
     },
     "output_type": "display_data"
    }
   ],
   "source": [
    "pd.set_option(\"display.max_rows\", None, \"display.max_columns\", None)\n",
    "print(clean_data.pivot_table(index=['model'], values='days_listed', aggfunc=('mean', 'median')))\n",
    "\n",
    "#car_data.groupby('model')['days_listed'].median().mean()\n",
    "print(clean_data.plot.scatter(x = 'days_listed', y = 'car_age', s = 5))\n",
    "\n",
    "#let's see correlation is the data\n",
    "print(clean_data.corr())\n",
    "\n",
    "#checking highest positive value and highest negative value\n",
    "clean_data.plot(x='days_listed', y='car_age', kind='hexbin', gridsize=20, sharex=False, grid=True)\n",
    "plt.show()\n",
    "clean_data.plot(x='days_listed', y='price', kind='hexbin', gridsize=20, sharex=False, grid=True)\n",
    "plt.show()\n",
    "\n",
    "\n"
   ]
  },
  {
   "cell_type": "markdown",
   "metadata": {},
   "source": [
    "## Average price per each type of vehicle"
   ]
  },
  {
   "cell_type": "markdown",
   "metadata": {},
   "source": [
    "The two types with greates numbers of ads are: Buses and trucks"
   ]
  },
  {
   "cell_type": "code",
   "execution_count": 24,
   "metadata": {},
   "outputs": [
    {
     "data": {
      "image/png": "[encoded data removed]",
      "text/plain": [
       "<Figure size 432x288 with 1 Axes>"
      ]
     },
     "metadata": {
      "needs_background": "light"
     },
     "output_type": "display_data"
    }
   ],
   "source": [
    "y=clean_data.groupby('type')['price'].mean()/len(clean_data)\n",
    "y.plot(x='type',kind='bar')\n",
    "plt.show()\n"
   ]
  },
  {
   "cell_type": "markdown",
   "metadata": {},
   "source": [
    "## Price factors"
   ]
  },
  {
   "cell_type": "markdown",
   "metadata": {},
   "source": [
    "From the car_age scatter plot we can understand that as the age of the car is going up the price of the car is going down, but seem that the price pick up slightly after 40 years, maybe due to the car rarity. Same thing with the mileage - as the mileage going up the price goes down. From the boxplot we can see that Yellow and Orange cars are more expensive then other colors, and also cars with 'other' transmission type are more expensive. "
   ]
  },
  {
   "cell_type": "code",
   "execution_count": 25,
   "metadata": {},
   "outputs": [
    {
     "data": {
      "image/png": "[encoded data removed]",
      "text/plain": [
       "<Figure size 432x288 with 1 Axes>"
      ]
     },
     "metadata": {
      "needs_background": "light"
     },
     "output_type": "display_data"
    },
    {
     "data": {
      "image/png": "[encoded data removed]",
      "text/plain": [
       "<Figure size 432x288 with 1 Axes>"
      ]
     },
     "metadata": {
      "needs_background": "light"
     },
     "output_type": "display_data"
    },
    {
     "name": "stderr",
     "output_type": "stream",
     "text": [
      "/opt/conda/lib/python3.7/site-packages/numpy/core/_asarray.py:83: VisibleDeprecationWarning: Creating an ndarray from ragged nested sequences (which is a list-or-tuple of lists-or-tuples-or ndarrays with different lengths or shapes) is deprecated. If you meant to do this, you must specify 'dtype=object' when creating the ndarray\n",
      "  return array(a, dtype, copy=False, order=order)\n"
     ]
    },
    {
     "data": {
      "image/png": "[encoded data removed]",
      "text/plain": [
       "<Figure size 576x576 with 1 Axes>"
      ]
     },
     "metadata": {
      "needs_background": "light"
     },
     "output_type": "display_data"
    },
    {
     "name": "stderr",
     "output_type": "stream",
     "text": [
      "/opt/conda/lib/python3.7/site-packages/numpy/core/_asarray.py:83: VisibleDeprecationWarning: Creating an ndarray from ragged nested sequences (which is a list-or-tuple of lists-or-tuples-or ndarrays with different lengths or shapes) is deprecated. If you meant to do this, you must specify 'dtype=object' when creating the ndarray\n",
      "  return array(a, dtype, copy=False, order=order)\n"
     ]
    },
    {
     "data": {
      "image/png": "[encoded data removed]",
      "text/plain": [
       "<Figure size 576x576 with 1 Axes>"
      ]
     },
     "metadata": {
      "needs_background": "light"
     },
     "output_type": "display_data"
    }
   ],
   "source": [
    "clean_data.plot.scatter(x='car_age', y='price')\n",
    "plt.show()\n",
    "clean_data.plot.scatter(x='odometer', y='price')\n",
    "plt.show()\n",
    "clean_data.boxplot(column='price', by='paint_color',figsize=(8, 8))\n",
    "plt.show()\n",
    "clean_data.boxplot(column='price', by='transmission',figsize=(8, 8))\n",
    "plt.show()\n"
   ]
  },
  {
   "cell_type": "markdown",
   "metadata": {},
   "source": [
    "## General conclusion\n",
    "\n",
    "In conclusion:\n",
    "\n",
    "I have replaced the missing values in the bool column is_4wd by filling it with already filled in models that is already 1 in our data, the rest were filled with 0.\n",
    "\n",
    "I have replaced the missing values in the column color by 'unknown' as it is not possible to recover car color. 'unknown' will not skew our data.\n",
    "\n",
    "I have replaced the missing values in the column cylinders by taking the median cylinders for each model and year and assigned it to missing and wrong values.\n",
    "\n",
    "I have replaced the missing values in the column odometer by by creating new car_age column, calculating the median mileage per year and filling nans by multiplying the car age with that median.\n",
    "\n",
    "Data types were replaces in the following columns:\n",
    "date_posted & model_year for datetime.\n",
    "model_year,car_age,cylinders,odometer to int64.\n",
    "is_4wd to bool.\n",
    "\n",
    "We observed that there were outliers in price both in high values and low values. The high values were compered to median prices of the same model same year car, and outliers were dropped. Low prices cars that were below the samllest median were dropped.\n",
    "\n",
    "In order to compare how parameters effect the car price, 2 - dimentional scatter plots were examined and a clear correlation was found in car_age and odometer column. Also clear paramaters were found in car color and transmission types.\n",
    "\n",
    "My analysis shows that the price of the car is depended on car age - where car is pricier when the age is lower, however, there is a slight uptick in prices for cars above 40 years of age. On odometer values - were a car is pricier where the odometer values are lower. Also yellow and orange cars are more expensive then other colors, and also cars with 'other' transmission type are more expensive. \n",
    "\n",
    "\n",
    "\n",
    "\n"
   ]
  }
 ],
 "metadata": {
  "ExecuteTimeLog": [
   {
    "duration": 828,
    "start_time": "2021-11-16T09:21:11.304Z"
   },
   {
    "duration": 893,
    "start_time": "2021-11-16T09:21:17.728Z"
   },
   {
    "duration": 1150,
    "start_time": "2021-11-16T09:21:29.568Z"
   },
   {
    "duration": 3,
    "start_time": "2021-11-16T09:24:14.495Z"
   },
   {
    "duration": 120,
    "start_time": "2021-11-16T09:24:46.630Z"
   },
   {
    "duration": 3,
    "start_time": "2021-11-16T09:28:27.882Z"
   },
   {
    "duration": 4,
    "start_time": "2021-11-16T09:29:54.281Z"
   },
   {
    "duration": 3,
    "start_time": "2021-11-16T09:30:45.936Z"
   },
   {
    "duration": 4,
    "start_time": "2021-11-16T09:31:06.300Z"
   },
   {
    "duration": 113,
    "start_time": "2021-11-16T09:31:37.208Z"
   },
   {
    "duration": 143,
    "start_time": "2021-11-16T09:31:48.656Z"
   },
   {
    "duration": 98,
    "start_time": "2021-11-16T09:31:55.678Z"
   },
   {
    "duration": 3,
    "start_time": "2021-11-16T09:32:08.535Z"
   },
   {
    "duration": 111,
    "start_time": "2021-11-16T09:32:10.120Z"
   },
   {
    "duration": 3,
    "start_time": "2021-11-16T09:32:15.732Z"
   },
   {
    "duration": 4,
    "start_time": "2021-11-16T09:32:29.423Z"
   },
   {
    "duration": 3,
    "start_time": "2021-11-16T10:03:03.074Z"
   },
   {
    "duration": 3,
    "start_time": "2021-11-16T10:10:01.288Z"
   },
   {
    "duration": 3,
    "start_time": "2021-11-16T10:10:46.923Z"
   },
   {
    "duration": 121,
    "start_time": "2021-11-16T10:37:46.494Z"
   },
   {
    "duration": 125,
    "start_time": "2021-11-16T10:38:20.632Z"
   },
   {
    "duration": 112,
    "start_time": "2021-11-16T10:46:53.001Z"
   },
   {
    "duration": 110,
    "start_time": "2021-11-16T10:48:25.775Z"
   },
   {
    "duration": 3,
    "start_time": "2021-11-16T10:50:18.720Z"
   },
   {
    "duration": 4,
    "start_time": "2021-11-16T10:50:37.649Z"
   },
   {
    "duration": 2,
    "start_time": "2021-11-16T10:50:51.884Z"
   },
   {
    "duration": 3,
    "start_time": "2021-11-16T10:51:56.237Z"
   },
   {
    "duration": 101,
    "start_time": "2021-11-16T10:53:13.791Z"
   },
   {
    "duration": 3,
    "start_time": "2021-11-16T10:55:59.186Z"
   },
   {
    "duration": 3,
    "start_time": "2021-11-16T10:56:10.751Z"
   },
   {
    "duration": 3,
    "start_time": "2021-11-16T10:56:49.038Z"
   },
   {
    "duration": 3,
    "start_time": "2021-11-16T10:56:49.174Z"
   },
   {
    "duration": 4,
    "start_time": "2021-11-16T10:56:49.414Z"
   },
   {
    "duration": 3,
    "start_time": "2021-11-16T10:56:49.680Z"
   },
   {
    "duration": 3,
    "start_time": "2021-11-16T10:56:50.370Z"
   },
   {
    "duration": 114,
    "start_time": "2021-11-16T10:59:34.518Z"
   },
   {
    "duration": 3,
    "start_time": "2021-11-16T11:01:41.201Z"
   },
   {
    "duration": 116,
    "start_time": "2021-11-16T11:01:48.754Z"
   },
   {
    "duration": 3,
    "start_time": "2021-11-16T11:02:16.685Z"
   },
   {
    "duration": 3,
    "start_time": "2021-11-16T11:02:19.479Z"
   },
   {
    "duration": 3,
    "start_time": "2021-11-16T11:02:47.067Z"
   },
   {
    "duration": 3,
    "start_time": "2021-11-16T11:02:49.353Z"
   },
   {
    "duration": 3,
    "start_time": "2021-11-16T11:03:07.835Z"
   },
   {
    "duration": 3,
    "start_time": "2021-11-16T11:03:07.953Z"
   },
   {
    "duration": 112,
    "start_time": "2021-11-16T11:07:52.072Z"
   },
   {
    "duration": 187,
    "start_time": "2021-11-16T11:09:23.468Z"
   },
   {
    "duration": 4,
    "start_time": "2021-11-16T11:10:01.455Z"
   },
   {
    "duration": 3,
    "start_time": "2021-11-16T11:10:05.069Z"
   },
   {
    "duration": 4,
    "start_time": "2021-11-16T11:10:13.376Z"
   },
   {
    "duration": 3,
    "start_time": "2021-11-16T11:10:14.434Z"
   },
   {
    "duration": 3,
    "start_time": "2021-11-16T11:10:22.853Z"
   },
   {
    "duration": 4,
    "start_time": "2021-11-16T11:27:29.279Z"
   },
   {
    "duration": 4,
    "start_time": "2021-11-16T11:29:08.919Z"
   },
   {
    "duration": 118,
    "start_time": "2021-11-16T11:29:46.703Z"
   },
   {
    "duration": 437,
    "start_time": "2021-11-16T11:36:02.181Z"
   },
   {
    "duration": 157,
    "start_time": "2021-11-16T11:36:14.388Z"
   },
   {
    "duration": 207,
    "start_time": "2021-11-16T11:47:15.898Z"
   },
   {
    "duration": 3,
    "start_time": "2021-11-16T11:53:52.092Z"
   },
   {
    "duration": 3,
    "start_time": "2021-11-16T11:53:52.236Z"
   },
   {
    "duration": 3,
    "start_time": "2021-11-16T11:59:12.005Z"
   },
   {
    "duration": 112,
    "start_time": "2021-11-16T12:00:33.446Z"
   },
   {
    "duration": 3,
    "start_time": "2021-11-16T12:02:14.453Z"
   },
   {
    "duration": 3,
    "start_time": "2021-11-16T12:02:39.512Z"
   },
   {
    "duration": 106,
    "start_time": "2021-11-16T12:03:03.460Z"
   },
   {
    "duration": 275,
    "start_time": "2022-01-17T10:02:54.657Z"
   },
   {
    "duration": 594,
    "start_time": "2022-01-17T10:03:07.610Z"
   },
   {
    "duration": 414,
    "start_time": "2022-01-17T10:03:09.646Z"
   },
   {
    "duration": 98,
    "start_time": "2022-01-17T10:03:19.259Z"
   },
   {
    "duration": 343,
    "start_time": "2022-01-17T10:06:39.061Z"
   },
   {
    "duration": 99,
    "start_time": "2022-01-17T10:07:11.216Z"
   },
   {
    "duration": 344,
    "start_time": "2022-01-17T10:07:25.410Z"
   },
   {
    "duration": 98,
    "start_time": "2022-01-17T10:07:30.146Z"
   },
   {
    "duration": 21,
    "start_time": "2022-01-17T10:08:11.718Z"
   },
   {
    "duration": 100,
    "start_time": "2022-01-17T10:08:50.861Z"
   },
   {
    "duration": 16,
    "start_time": "2022-01-17T10:08:58.866Z"
   },
   {
    "duration": 12,
    "start_time": "2022-01-17T10:21:35.074Z"
   },
   {
    "duration": 254,
    "start_time": "2022-01-17T10:22:42.471Z"
   },
   {
    "duration": 257,
    "start_time": "2022-01-17T10:22:56.870Z"
   },
   {
    "duration": 7,
    "start_time": "2022-01-17T10:23:13.277Z"
   },
   {
    "duration": 23,
    "start_time": "2022-01-17T10:23:23.433Z"
   },
   {
    "duration": 22,
    "start_time": "2022-01-17T10:29:31.840Z"
   },
   {
    "duration": 24,
    "start_time": "2022-01-17T10:30:04.231Z"
   },
   {
    "duration": 25,
    "start_time": "2022-01-17T10:42:25.438Z"
   },
   {
    "duration": 22,
    "start_time": "2022-01-17T10:43:11.152Z"
   },
   {
    "duration": 23,
    "start_time": "2022-01-17T10:43:12.044Z"
   },
   {
    "duration": 22,
    "start_time": "2022-01-17T10:43:12.622Z"
   },
   {
    "duration": 22,
    "start_time": "2022-01-17T10:43:13.107Z"
   },
   {
    "duration": 22,
    "start_time": "2022-01-17T10:43:13.591Z"
   },
   {
    "duration": 22,
    "start_time": "2022-01-17T10:43:14.078Z"
   },
   {
    "duration": 21,
    "start_time": "2022-01-17T10:43:14.545Z"
   },
   {
    "duration": 26,
    "start_time": "2022-01-17T10:43:15.017Z"
   },
   {
    "duration": 23,
    "start_time": "2022-01-17T10:43:15.497Z"
   },
   {
    "duration": 23,
    "start_time": "2022-01-17T10:43:15.945Z"
   },
   {
    "duration": 23,
    "start_time": "2022-01-17T10:43:16.371Z"
   },
   {
    "duration": 22,
    "start_time": "2022-01-17T10:43:16.955Z"
   },
   {
    "duration": 549,
    "start_time": "2022-01-17T10:44:25.160Z"
   },
   {
    "duration": 108,
    "start_time": "2022-01-17T10:44:25.711Z"
   },
   {
    "duration": 20,
    "start_time": "2022-01-17T10:44:25.821Z"
   },
   {
    "duration": 17,
    "start_time": "2022-01-17T10:44:25.843Z"
   },
   {
    "duration": 49,
    "start_time": "2022-01-17T10:44:25.862Z"
   },
   {
    "duration": 2,
    "start_time": "2022-01-17T10:44:25.913Z"
   },
   {
    "duration": 5,
    "start_time": "2022-01-17T10:44:25.917Z"
   },
   {
    "duration": 20,
    "start_time": "2022-01-17T10:44:25.925Z"
   },
   {
    "duration": 21,
    "start_time": "2022-01-17T10:44:25.946Z"
   },
   {
    "duration": 11,
    "start_time": "2022-01-17T10:44:25.969Z"
   },
   {
    "duration": 17,
    "start_time": "2022-01-17T10:44:25.981Z"
   },
   {
    "duration": 16,
    "start_time": "2022-01-17T10:44:26.000Z"
   },
   {
    "duration": 19,
    "start_time": "2022-01-17T10:44:26.017Z"
   },
   {
    "duration": 19,
    "start_time": "2022-01-17T10:44:26.038Z"
   },
   {
    "duration": 19,
    "start_time": "2022-01-17T10:44:26.059Z"
   },
   {
    "duration": 13,
    "start_time": "2022-01-17T10:44:26.080Z"
   },
   {
    "duration": 23,
    "start_time": "2022-01-17T10:44:26.095Z"
   },
   {
    "duration": 12,
    "start_time": "2022-01-17T10:44:26.120Z"
   },
   {
    "duration": 18,
    "start_time": "2022-01-17T10:44:26.133Z"
   },
   {
    "duration": 12,
    "start_time": "2022-01-17T10:44:26.152Z"
   },
   {
    "duration": 21,
    "start_time": "2022-01-17T10:45:51.174Z"
   },
   {
    "duration": 20,
    "start_time": "2022-01-17T10:45:56.297Z"
   },
   {
    "duration": 538,
    "start_time": "2022-01-17T10:46:10.254Z"
   },
   {
    "duration": 109,
    "start_time": "2022-01-17T10:46:10.793Z"
   },
   {
    "duration": 18,
    "start_time": "2022-01-17T10:46:10.904Z"
   },
   {
    "duration": 15,
    "start_time": "2022-01-17T10:46:10.924Z"
   },
   {
    "duration": 29,
    "start_time": "2022-01-17T10:46:10.941Z"
   },
   {
    "duration": 2,
    "start_time": "2022-01-17T10:46:10.972Z"
   },
   {
    "duration": 24,
    "start_time": "2022-01-17T10:46:10.975Z"
   },
   {
    "duration": 7,
    "start_time": "2022-01-17T10:46:11.002Z"
   },
   {
    "duration": 5,
    "start_time": "2022-01-17T10:46:11.011Z"
   },
   {
    "duration": 4,
    "start_time": "2022-01-17T10:46:11.018Z"
   },
   {
    "duration": 5,
    "start_time": "2022-01-17T10:46:11.024Z"
   },
   {
    "duration": 5,
    "start_time": "2022-01-17T10:46:11.031Z"
   },
   {
    "duration": 5,
    "start_time": "2022-01-17T10:46:11.037Z"
   },
   {
    "duration": 6,
    "start_time": "2022-01-17T10:46:11.043Z"
   },
   {
    "duration": 8,
    "start_time": "2022-01-17T10:46:11.051Z"
   },
   {
    "duration": 24,
    "start_time": "2022-01-17T10:46:11.061Z"
   },
   {
    "duration": 16,
    "start_time": "2022-01-17T10:46:11.087Z"
   },
   {
    "duration": 10,
    "start_time": "2022-01-17T10:46:11.105Z"
   },
   {
    "duration": 14,
    "start_time": "2022-01-17T10:46:11.116Z"
   },
   {
    "duration": 21,
    "start_time": "2022-01-17T10:46:11.131Z"
   },
   {
    "duration": 314,
    "start_time": "2022-01-17T10:47:57.577Z"
   },
   {
    "duration": 22,
    "start_time": "2022-01-17T10:48:22.904Z"
   },
   {
    "duration": 24,
    "start_time": "2022-01-17T10:51:20.401Z"
   },
   {
    "duration": 24,
    "start_time": "2022-01-17T10:51:59.209Z"
   },
   {
    "duration": 26,
    "start_time": "2022-01-17T10:52:44.866Z"
   },
   {
    "duration": 23,
    "start_time": "2022-01-17T10:52:46.695Z"
   },
   {
    "duration": 22,
    "start_time": "2022-01-17T10:53:09.308Z"
   },
   {
    "duration": 249,
    "start_time": "2022-01-17T10:55:18.435Z"
   },
   {
    "duration": 80,
    "start_time": "2022-01-17T10:56:40.497Z"
   },
   {
    "duration": 76,
    "start_time": "2022-01-17T10:56:47.660Z"
   },
   {
    "duration": 28,
    "start_time": "2022-01-17T10:57:25.469Z"
   },
   {
    "duration": 255,
    "start_time": "2022-01-17T10:57:33.847Z"
   },
   {
    "duration": 249,
    "start_time": "2022-01-17T10:57:51.543Z"
   },
   {
    "duration": 275,
    "start_time": "2022-01-17T11:00:15.590Z"
   },
   {
    "duration": 25,
    "start_time": "2022-01-17T11:00:21.050Z"
   },
   {
    "duration": 24,
    "start_time": "2022-01-17T11:01:06.002Z"
   },
   {
    "duration": 5,
    "start_time": "2022-01-17T11:08:59.181Z"
   },
   {
    "duration": 3226,
    "start_time": "2022-01-17T11:09:15.933Z"
   },
   {
    "duration": 4,
    "start_time": "2022-01-17T11:09:26.523Z"
   },
   {
    "duration": 35,
    "start_time": "2022-01-17T11:09:37.520Z"
   },
   {
    "duration": 38,
    "start_time": "2022-01-17T11:19:06.917Z"
   },
   {
    "duration": 36,
    "start_time": "2022-01-17T11:19:13.519Z"
   },
   {
    "duration": 52,
    "start_time": "2022-01-17T11:55:20.004Z"
   },
   {
    "duration": 79,
    "start_time": "2022-01-17T11:55:34.393Z"
   },
   {
    "duration": 68,
    "start_time": "2022-01-17T11:55:57.034Z"
   },
   {
    "duration": 262,
    "start_time": "2022-01-17T11:56:54.070Z"
   },
   {
    "duration": 95,
    "start_time": "2022-01-17T11:57:12.870Z"
   },
   {
    "duration": 68,
    "start_time": "2022-01-17T11:57:17.375Z"
   },
   {
    "duration": 88,
    "start_time": "2022-01-17T11:58:23.414Z"
   },
   {
    "duration": 99,
    "start_time": "2022-01-17T11:58:35.351Z"
   },
   {
    "duration": 83,
    "start_time": "2022-01-17T11:59:35.415Z"
   },
   {
    "duration": 88,
    "start_time": "2022-01-17T11:59:47.057Z"
   },
   {
    "duration": 46,
    "start_time": "2022-01-17T12:00:01.232Z"
   },
   {
    "duration": 36,
    "start_time": "2022-01-17T12:02:00.708Z"
   },
   {
    "duration": 32,
    "start_time": "2022-01-17T12:02:12.555Z"
   },
   {
    "duration": 29,
    "start_time": "2022-01-17T12:03:00.995Z"
   },
   {
    "duration": 447,
    "start_time": "2022-01-17T12:04:05.589Z"
   },
   {
    "duration": 7450,
    "start_time": "2022-01-17T12:04:08.478Z"
   },
   {
    "duration": 30,
    "start_time": "2022-01-17T12:04:16.263Z"
   },
   {
    "duration": 29,
    "start_time": "2022-01-17T12:04:27.659Z"
   },
   {
    "duration": 31,
    "start_time": "2022-01-17T12:04:38.536Z"
   },
   {
    "duration": 33,
    "start_time": "2022-01-17T12:06:15.688Z"
   },
   {
    "duration": 7,
    "start_time": "2022-01-17T12:06:41.992Z"
   },
   {
    "duration": 16,
    "start_time": "2022-01-17T12:06:54.394Z"
   },
   {
    "duration": 197,
    "start_time": "2022-01-17T12:08:25.012Z"
   },
   {
    "duration": 16,
    "start_time": "2022-01-17T12:08:37.778Z"
   },
   {
    "duration": 36,
    "start_time": "2022-01-17T12:08:54.198Z"
   },
   {
    "duration": 2370,
    "start_time": "2022-01-17T12:10:34.413Z"
   },
   {
    "duration": 285,
    "start_time": "2022-01-17T12:13:06.558Z"
   },
   {
    "duration": 289,
    "start_time": "2022-01-17T12:13:24.997Z"
   },
   {
    "duration": 34,
    "start_time": "2022-01-17T12:13:34.590Z"
   },
   {
    "duration": 34,
    "start_time": "2022-01-17T12:14:09.747Z"
   },
   {
    "duration": 39,
    "start_time": "2022-01-17T12:14:32.510Z"
   },
   {
    "duration": 713,
    "start_time": "2022-01-17T12:14:51.985Z"
   },
   {
    "duration": 682,
    "start_time": "2022-01-17T12:14:57.710Z"
   },
   {
    "duration": 308,
    "start_time": "2022-01-17T12:15:24.334Z"
   },
   {
    "duration": 37,
    "start_time": "2022-01-17T12:19:21.509Z"
   },
   {
    "duration": 33,
    "start_time": "2022-01-17T12:19:38.745Z"
   },
   {
    "duration": 2058,
    "start_time": "2022-01-17T12:20:13.328Z"
   },
   {
    "duration": 32,
    "start_time": "2022-01-17T12:22:44.360Z"
   },
   {
    "duration": 32,
    "start_time": "2022-01-17T12:22:51.525Z"
   },
   {
    "duration": 297,
    "start_time": "2022-01-17T12:23:14.052Z"
   },
   {
    "duration": 328,
    "start_time": "2022-01-17T12:23:24.414Z"
   },
   {
    "duration": 33,
    "start_time": "2022-01-17T12:23:36.864Z"
   },
   {
    "duration": 36,
    "start_time": "2022-01-17T12:23:55.417Z"
   },
   {
    "duration": 32,
    "start_time": "2022-01-17T12:24:19.978Z"
   },
   {
    "duration": 47,
    "start_time": "2022-01-17T12:29:19.474Z"
   },
   {
    "duration": 33,
    "start_time": "2022-01-17T12:29:37.702Z"
   },
   {
    "duration": 51,
    "start_time": "2022-01-17T12:30:00.322Z"
   },
   {
    "duration": 50,
    "start_time": "2022-01-17T12:30:14.394Z"
   },
   {
    "duration": 49,
    "start_time": "2022-01-17T12:30:28.010Z"
   },
   {
    "duration": 55,
    "start_time": "2022-01-17T12:31:15.615Z"
   },
   {
    "duration": 52,
    "start_time": "2022-01-17T12:31:56.549Z"
   },
   {
    "duration": 49,
    "start_time": "2022-01-17T12:32:02.764Z"
   },
   {
    "duration": 50,
    "start_time": "2022-01-17T12:32:06.715Z"
   },
   {
    "duration": 112,
    "start_time": "2022-01-17T12:32:42.948Z"
   },
   {
    "duration": 35,
    "start_time": "2022-01-17T12:32:49.748Z"
   },
   {
    "duration": 50,
    "start_time": "2022-01-17T12:32:51.146Z"
   },
   {
    "duration": 53,
    "start_time": "2022-01-17T12:32:51.621Z"
   },
   {
    "duration": 59,
    "start_time": "2022-01-17T12:32:52.242Z"
   },
   {
    "duration": 41,
    "start_time": "2022-01-17T12:32:53.909Z"
   },
   {
    "duration": 42,
    "start_time": "2022-01-17T12:33:03.302Z"
   },
   {
    "duration": 41,
    "start_time": "2022-01-17T12:33:04.303Z"
   },
   {
    "duration": 43,
    "start_time": "2022-01-17T12:33:05.009Z"
   },
   {
    "duration": 45,
    "start_time": "2022-01-17T12:33:05.539Z"
   },
   {
    "duration": 42,
    "start_time": "2022-01-17T12:33:05.977Z"
   },
   {
    "duration": 44,
    "start_time": "2022-01-17T12:33:06.387Z"
   },
   {
    "duration": 46,
    "start_time": "2022-01-17T12:33:06.771Z"
   },
   {
    "duration": 46,
    "start_time": "2022-01-17T12:33:07.122Z"
   },
   {
    "duration": 41,
    "start_time": "2022-01-17T12:33:07.459Z"
   },
   {
    "duration": 42,
    "start_time": "2022-01-17T12:33:07.797Z"
   },
   {
    "duration": 7,
    "start_time": "2022-01-17T12:33:32.370Z"
   },
   {
    "duration": 93,
    "start_time": "2022-01-17T12:33:32.380Z"
   },
   {
    "duration": 20,
    "start_time": "2022-01-17T12:33:32.475Z"
   },
   {
    "duration": 15,
    "start_time": "2022-01-17T12:33:32.498Z"
   },
   {
    "duration": 36,
    "start_time": "2022-01-17T12:33:32.515Z"
   },
   {
    "duration": 38,
    "start_time": "2022-01-17T12:33:32.553Z"
   },
   {
    "duration": 2,
    "start_time": "2022-01-17T12:33:32.598Z"
   },
   {
    "duration": 7,
    "start_time": "2022-01-17T12:33:32.602Z"
   },
   {
    "duration": 23,
    "start_time": "2022-01-17T12:33:32.611Z"
   },
   {
    "duration": 6,
    "start_time": "2022-01-17T12:33:32.636Z"
   },
   {
    "duration": 6,
    "start_time": "2022-01-17T12:33:32.644Z"
   },
   {
    "duration": 9,
    "start_time": "2022-01-17T12:33:32.651Z"
   },
   {
    "duration": 6,
    "start_time": "2022-01-17T12:33:32.661Z"
   },
   {
    "duration": 5,
    "start_time": "2022-01-17T12:33:32.669Z"
   },
   {
    "duration": 7,
    "start_time": "2022-01-17T12:33:32.676Z"
   },
   {
    "duration": 10,
    "start_time": "2022-01-17T12:33:32.685Z"
   },
   {
    "duration": 5,
    "start_time": "2022-01-17T12:33:32.697Z"
   },
   {
    "duration": 4,
    "start_time": "2022-01-17T12:33:32.704Z"
   },
   {
    "duration": 9,
    "start_time": "2022-01-17T12:33:32.710Z"
   },
   {
    "duration": 17,
    "start_time": "2022-01-17T12:33:32.721Z"
   },
   {
    "duration": 19,
    "start_time": "2022-01-17T12:33:32.740Z"
   },
   {
    "duration": 51,
    "start_time": "2022-01-17T12:33:44.064Z"
   },
   {
    "duration": 44,
    "start_time": "2022-01-17T12:33:45.599Z"
   },
   {
    "duration": 41,
    "start_time": "2022-01-17T12:33:46.354Z"
   },
   {
    "duration": 40,
    "start_time": "2022-01-17T12:33:47.057Z"
   },
   {
    "duration": 39,
    "start_time": "2022-01-17T12:33:59.656Z"
   },
   {
    "duration": 607,
    "start_time": "2022-01-17T12:34:08.808Z"
   },
   {
    "duration": 106,
    "start_time": "2022-01-17T12:34:09.417Z"
   },
   {
    "duration": 21,
    "start_time": "2022-01-17T12:34:09.525Z"
   },
   {
    "duration": 15,
    "start_time": "2022-01-17T12:34:09.549Z"
   },
   {
    "duration": 57,
    "start_time": "2022-01-17T12:34:09.566Z"
   },
   {
    "duration": 36,
    "start_time": "2022-01-17T12:34:09.625Z"
   },
   {
    "duration": 2,
    "start_time": "2022-01-17T12:34:09.664Z"
   },
   {
    "duration": 2,
    "start_time": "2022-01-17T12:34:09.670Z"
   },
   {
    "duration": 3,
    "start_time": "2022-01-17T12:34:09.700Z"
   },
   {
    "duration": 4,
    "start_time": "2022-01-17T12:34:09.705Z"
   },
   {
    "duration": 5,
    "start_time": "2022-01-17T12:34:09.711Z"
   },
   {
    "duration": 6,
    "start_time": "2022-01-17T12:34:09.718Z"
   },
   {
    "duration": 7,
    "start_time": "2022-01-17T12:34:09.725Z"
   },
   {
    "duration": 8,
    "start_time": "2022-01-17T12:34:09.734Z"
   },
   {
    "duration": 5,
    "start_time": "2022-01-17T12:34:09.744Z"
   },
   {
    "duration": 5,
    "start_time": "2022-01-17T12:34:09.751Z"
   },
   {
    "duration": 5,
    "start_time": "2022-01-17T12:34:09.757Z"
   },
   {
    "duration": 5,
    "start_time": "2022-01-17T12:34:09.764Z"
   },
   {
    "duration": 6,
    "start_time": "2022-01-17T12:34:09.770Z"
   },
   {
    "duration": 2,
    "start_time": "2022-01-17T12:34:09.799Z"
   },
   {
    "duration": 6,
    "start_time": "2022-01-17T12:34:09.802Z"
   },
   {
    "duration": 35,
    "start_time": "2022-01-17T12:35:11.269Z"
   },
   {
    "duration": 40,
    "start_time": "2022-01-17T12:35:46.524Z"
   },
   {
    "duration": 52,
    "start_time": "2022-01-17T12:35:48.469Z"
   },
   {
    "duration": 45,
    "start_time": "2022-01-17T12:35:49.983Z"
   },
   {
    "duration": 45,
    "start_time": "2022-01-17T12:35:51.642Z"
   },
   {
    "duration": 42,
    "start_time": "2022-01-17T12:36:06.955Z"
   },
   {
    "duration": 631,
    "start_time": "2022-01-17T12:36:24.283Z"
   },
   {
    "duration": 104,
    "start_time": "2022-01-17T12:36:24.916Z"
   },
   {
    "duration": 21,
    "start_time": "2022-01-17T12:36:25.021Z"
   },
   {
    "duration": 17,
    "start_time": "2022-01-17T12:36:25.044Z"
   },
   {
    "duration": 50,
    "start_time": "2022-01-17T12:36:25.062Z"
   },
   {
    "duration": 34,
    "start_time": "2022-01-17T12:36:25.114Z"
   },
   {
    "duration": 2,
    "start_time": "2022-01-17T12:36:25.150Z"
   },
   {
    "duration": 8,
    "start_time": "2022-01-17T12:36:25.154Z"
   },
   {
    "duration": 7,
    "start_time": "2022-01-17T12:36:25.163Z"
   },
   {
    "duration": 5,
    "start_time": "2022-01-17T12:36:25.172Z"
   },
   {
    "duration": 7,
    "start_time": "2022-01-17T12:36:25.178Z"
   },
   {
    "duration": 6,
    "start_time": "2022-01-17T12:36:25.199Z"
   },
   {
    "duration": 7,
    "start_time": "2022-01-17T12:36:25.207Z"
   },
   {
    "duration": 4,
    "start_time": "2022-01-17T12:36:25.215Z"
   },
   {
    "duration": 4,
    "start_time": "2022-01-17T12:36:25.221Z"
   },
   {
    "duration": 5,
    "start_time": "2022-01-17T12:36:25.227Z"
   },
   {
    "duration": 5,
    "start_time": "2022-01-17T12:36:25.233Z"
   },
   {
    "duration": 5,
    "start_time": "2022-01-17T12:36:25.239Z"
   },
   {
    "duration": 4,
    "start_time": "2022-01-17T12:36:25.246Z"
   },
   {
    "duration": 6,
    "start_time": "2022-01-17T12:36:25.251Z"
   },
   {
    "duration": 5,
    "start_time": "2022-01-17T12:36:25.258Z"
   },
   {
    "duration": 33,
    "start_time": "2022-01-17T12:36:58.476Z"
   },
   {
    "duration": 7,
    "start_time": "2022-01-17T12:37:04.857Z"
   },
   {
    "duration": 6,
    "start_time": "2022-01-17T12:37:29.589Z"
   },
   {
    "duration": 35,
    "start_time": "2022-01-17T12:37:36.252Z"
   },
   {
    "duration": 13,
    "start_time": "2022-01-17T12:37:43.424Z"
   },
   {
    "duration": 1814,
    "start_time": "2022-01-17T12:38:13.849Z"
   },
   {
    "duration": 1853,
    "start_time": "2022-01-17T12:38:42.286Z"
   },
   {
    "duration": 1848,
    "start_time": "2022-01-17T12:38:57.941Z"
   },
   {
    "duration": 13,
    "start_time": "2022-01-17T12:40:03.321Z"
   },
   {
    "duration": 14,
    "start_time": "2022-01-17T12:40:12.852Z"
   },
   {
    "duration": 1843,
    "start_time": "2022-01-17T12:40:37.379Z"
   },
   {
    "duration": 35,
    "start_time": "2022-01-17T12:41:15.211Z"
   },
   {
    "duration": 355,
    "start_time": "2022-01-17T12:41:27.627Z"
   },
   {
    "duration": 323,
    "start_time": "2022-01-17T12:41:40.282Z"
   },
   {
    "duration": 35,
    "start_time": "2022-01-17T12:41:50.961Z"
   },
   {
    "duration": 54,
    "start_time": "2022-01-17T12:44:20.024Z"
   },
   {
    "duration": 90,
    "start_time": "2022-01-17T12:45:25.007Z"
   },
   {
    "duration": 34,
    "start_time": "2022-01-17T12:45:30.430Z"
   },
   {
    "duration": 88,
    "start_time": "2022-01-17T12:54:20.866Z"
   },
   {
    "duration": 33,
    "start_time": "2022-01-17T12:54:24.992Z"
   },
   {
    "duration": 30,
    "start_time": "2022-01-17T12:54:48.603Z"
   },
   {
    "duration": 7452,
    "start_time": "2022-01-17T12:55:12.479Z"
   },
   {
    "duration": 32,
    "start_time": "2022-01-17T12:55:28.866Z"
   },
   {
    "duration": 32,
    "start_time": "2022-01-17T12:55:54.112Z"
   },
   {
    "duration": 7514,
    "start_time": "2022-01-17T12:56:01.238Z"
   },
   {
    "duration": 8234,
    "start_time": "2022-01-17T12:56:12.793Z"
   },
   {
    "duration": 32,
    "start_time": "2022-01-17T12:56:44.769Z"
   },
   {
    "duration": 7108,
    "start_time": "2022-01-17T12:57:15.702Z"
   },
   {
    "duration": 30,
    "start_time": "2022-01-17T12:57:32.569Z"
   },
   {
    "duration": 18,
    "start_time": "2022-01-17T12:58:01.188Z"
   },
   {
    "duration": 7695,
    "start_time": "2022-01-17T12:58:17.960Z"
   },
   {
    "duration": 16,
    "start_time": "2022-01-17T12:58:28.834Z"
   },
   {
    "duration": 274,
    "start_time": "2022-01-17T13:01:02.002Z"
   },
   {
    "duration": 14,
    "start_time": "2022-01-17T13:01:58.610Z"
   },
   {
    "duration": 27,
    "start_time": "2022-01-17T13:02:23.204Z"
   },
   {
    "duration": 40,
    "start_time": "2022-01-17T13:02:34.725Z"
   },
   {
    "duration": 38,
    "start_time": "2022-01-17T13:02:58.042Z"
   },
   {
    "duration": 41,
    "start_time": "2022-01-17T13:04:07.750Z"
   },
   {
    "duration": 271,
    "start_time": "2022-01-17T13:16:37.133Z"
   },
   {
    "duration": 357,
    "start_time": "2022-01-17T13:17:16.085Z"
   },
   {
    "duration": 276,
    "start_time": "2022-01-17T13:17:26.552Z"
   },
   {
    "duration": 11,
    "start_time": "2022-01-17T13:17:43.802Z"
   },
   {
    "duration": 854,
    "start_time": "2022-01-17T13:18:14.771Z"
   },
   {
    "duration": 268,
    "start_time": "2022-01-17T13:18:23.867Z"
   },
   {
    "duration": 260,
    "start_time": "2022-01-17T13:18:29.751Z"
   },
   {
    "duration": 96,
    "start_time": "2022-01-17T13:19:18.346Z"
   },
   {
    "duration": 29,
    "start_time": "2022-01-17T13:19:38.392Z"
   },
   {
    "duration": 10,
    "start_time": "2022-01-17T13:20:03.346Z"
   },
   {
    "duration": 14,
    "start_time": "2022-01-17T13:20:18.658Z"
   },
   {
    "duration": 28,
    "start_time": "2022-01-17T13:21:09.322Z"
   },
   {
    "duration": 14,
    "start_time": "2022-01-17T13:21:37.474Z"
   },
   {
    "duration": 90,
    "start_time": "2022-01-17T13:24:25.680Z"
   },
   {
    "duration": 281,
    "start_time": "2022-01-17T13:24:49.433Z"
   },
   {
    "duration": 272,
    "start_time": "2022-01-17T13:26:33.943Z"
   },
   {
    "duration": 13,
    "start_time": "2022-01-17T13:26:55.520Z"
   },
   {
    "duration": 14,
    "start_time": "2022-01-17T13:27:17.424Z"
   },
   {
    "duration": 87,
    "start_time": "2022-01-17T13:27:57.451Z"
   },
   {
    "duration": 280,
    "start_time": "2022-01-17T13:28:09.513Z"
   },
   {
    "duration": 12,
    "start_time": "2022-01-17T13:28:19.942Z"
   },
   {
    "duration": 290,
    "start_time": "2022-01-17T13:28:57.653Z"
   },
   {
    "duration": 317,
    "start_time": "2022-01-17T13:29:05.071Z"
   },
   {
    "duration": 266,
    "start_time": "2022-01-17T13:29:16.304Z"
   },
   {
    "duration": 296,
    "start_time": "2022-01-17T13:29:54.700Z"
   },
   {
    "duration": 282,
    "start_time": "2022-01-17T13:30:01.135Z"
   },
   {
    "duration": 278,
    "start_time": "2022-01-17T13:30:41.693Z"
   },
   {
    "duration": 285,
    "start_time": "2022-01-17T13:31:08.351Z"
   },
   {
    "duration": 12,
    "start_time": "2022-01-17T13:31:13.713Z"
   },
   {
    "duration": 533,
    "start_time": "2022-01-17T13:32:37.392Z"
   },
   {
    "duration": 492,
    "start_time": "2022-01-17T13:32:47.651Z"
   },
   {
    "duration": 11805,
    "start_time": "2022-01-17T13:33:14.265Z"
   },
   {
    "duration": 4192,
    "start_time": "2022-01-17T13:34:27.516Z"
   },
   {
    "duration": 4060,
    "start_time": "2022-01-17T13:35:10.313Z"
   },
   {
    "duration": 493,
    "start_time": "2022-01-17T13:36:34.479Z"
   },
   {
    "duration": 24376,
    "start_time": "2022-01-17T13:38:07.558Z"
   },
   {
    "duration": 24675,
    "start_time": "2022-01-17T13:39:00.090Z"
   },
   {
    "duration": 24636,
    "start_time": "2022-01-17T13:39:38.053Z"
   },
   {
    "duration": 35658,
    "start_time": "2022-01-17T13:40:44.789Z"
   },
   {
    "duration": 24516,
    "start_time": "2022-01-17T13:41:29.222Z"
   },
   {
    "duration": 24381,
    "start_time": "2022-01-17T13:42:32.829Z"
   },
   {
    "duration": 38303,
    "start_time": "2022-01-17T13:45:05.111Z"
   },
   {
    "duration": 579,
    "start_time": "2022-01-17T13:46:43.353Z"
   },
   {
    "duration": 119,
    "start_time": "2022-01-17T13:46:43.934Z"
   },
   {
    "duration": 21,
    "start_time": "2022-01-17T13:46:44.055Z"
   },
   {
    "duration": 27,
    "start_time": "2022-01-17T13:46:44.078Z"
   },
   {
    "duration": 45,
    "start_time": "2022-01-17T13:46:44.107Z"
   },
   {
    "duration": 24961,
    "start_time": "2022-01-17T13:46:44.153Z"
   },
   {
    "duration": 1,
    "start_time": "2022-01-17T13:47:09.116Z"
   },
   {
    "duration": 4,
    "start_time": "2022-01-17T13:47:09.120Z"
   },
   {
    "duration": 5,
    "start_time": "2022-01-17T13:47:09.126Z"
   },
   {
    "duration": 5,
    "start_time": "2022-01-17T13:47:09.133Z"
   },
   {
    "duration": 5,
    "start_time": "2022-01-17T13:47:09.139Z"
   },
   {
    "duration": 5,
    "start_time": "2022-01-17T13:47:09.145Z"
   },
   {
    "duration": 6,
    "start_time": "2022-01-17T13:47:09.152Z"
   },
   {
    "duration": 7,
    "start_time": "2022-01-17T13:47:09.159Z"
   },
   {
    "duration": 8,
    "start_time": "2022-01-17T13:47:09.167Z"
   },
   {
    "duration": 21,
    "start_time": "2022-01-17T13:47:09.177Z"
   },
   {
    "duration": 2,
    "start_time": "2022-01-17T13:47:09.200Z"
   },
   {
    "duration": 5,
    "start_time": "2022-01-17T13:47:09.204Z"
   },
   {
    "duration": 7,
    "start_time": "2022-01-17T13:47:09.211Z"
   },
   {
    "duration": 5,
    "start_time": "2022-01-17T13:47:09.220Z"
   },
   {
    "duration": 4,
    "start_time": "2022-01-17T13:47:09.227Z"
   },
   {
    "duration": 25307,
    "start_time": "2022-01-17T15:42:01.420Z"
   },
   {
    "duration": 21,
    "start_time": "2022-01-17T15:53:48.079Z"
   },
   {
    "duration": 18,
    "start_time": "2022-01-17T15:54:11.193Z"
   },
   {
    "duration": 21,
    "start_time": "2022-01-17T15:54:26.507Z"
   },
   {
    "duration": 336,
    "start_time": "2022-01-17T15:55:17.624Z"
   },
   {
    "duration": 281,
    "start_time": "2022-01-17T15:55:32.570Z"
   },
   {
    "duration": 26,
    "start_time": "2022-01-17T15:55:46.031Z"
   },
   {
    "duration": 25,
    "start_time": "2022-01-17T15:55:52.605Z"
   },
   {
    "duration": 572,
    "start_time": "2022-01-17T15:56:29.325Z"
   },
   {
    "duration": 116,
    "start_time": "2022-01-17T15:56:29.898Z"
   },
   {
    "duration": 21,
    "start_time": "2022-01-17T15:56:30.017Z"
   },
   {
    "duration": 23,
    "start_time": "2022-01-17T15:56:30.040Z"
   },
   {
    "duration": 41,
    "start_time": "2022-01-17T15:56:30.065Z"
   },
   {
    "duration": 17,
    "start_time": "2022-01-17T15:56:30.107Z"
   },
   {
    "duration": 2,
    "start_time": "2022-01-17T15:56:30.126Z"
   },
   {
    "duration": 7,
    "start_time": "2022-01-17T15:56:30.130Z"
   },
   {
    "duration": 5,
    "start_time": "2022-01-17T15:56:30.139Z"
   },
   {
    "duration": 7,
    "start_time": "2022-01-17T15:56:30.146Z"
   },
   {
    "duration": 6,
    "start_time": "2022-01-17T15:56:30.155Z"
   },
   {
    "duration": 8,
    "start_time": "2022-01-17T15:56:30.162Z"
   },
   {
    "duration": 26,
    "start_time": "2022-01-17T15:56:30.172Z"
   },
   {
    "duration": 3,
    "start_time": "2022-01-17T15:56:30.200Z"
   },
   {
    "duration": 6,
    "start_time": "2022-01-17T15:56:30.205Z"
   },
   {
    "duration": 6,
    "start_time": "2022-01-17T15:56:30.213Z"
   },
   {
    "duration": 8,
    "start_time": "2022-01-17T15:56:30.221Z"
   },
   {
    "duration": 7,
    "start_time": "2022-01-17T15:56:30.231Z"
   },
   {
    "duration": 5,
    "start_time": "2022-01-17T15:56:30.240Z"
   },
   {
    "duration": 5,
    "start_time": "2022-01-17T15:56:30.246Z"
   },
   {
    "duration": 4,
    "start_time": "2022-01-17T15:56:30.253Z"
   },
   {
    "duration": 18,
    "start_time": "2022-01-17T15:56:37.470Z"
   },
   {
    "duration": 18,
    "start_time": "2022-01-17T15:58:08.654Z"
   },
   {
    "duration": 20,
    "start_time": "2022-01-17T15:58:25.152Z"
   },
   {
    "duration": 325,
    "start_time": "2022-01-17T15:58:34.824Z"
   },
   {
    "duration": 265,
    "start_time": "2022-01-17T15:58:50.081Z"
   },
   {
    "duration": 19,
    "start_time": "2022-01-17T15:59:24.305Z"
   },
   {
    "duration": 28,
    "start_time": "2022-01-17T15:59:43.302Z"
   },
   {
    "duration": 21,
    "start_time": "2022-01-17T15:59:58.864Z"
   },
   {
    "duration": 20,
    "start_time": "2022-01-17T16:00:17.585Z"
   },
   {
    "duration": 28,
    "start_time": "2022-01-17T16:05:52.747Z"
   },
   {
    "duration": 333,
    "start_time": "2022-01-17T18:39:36.445Z"
   },
   {
    "duration": 598,
    "start_time": "2022-01-17T18:39:49.356Z"
   },
   {
    "duration": 884,
    "start_time": "2022-01-17T18:39:49.955Z"
   },
   {
    "duration": 17,
    "start_time": "2022-01-17T18:39:50.841Z"
   },
   {
    "duration": 13,
    "start_time": "2022-01-17T18:39:50.860Z"
   },
   {
    "duration": 30,
    "start_time": "2022-01-17T18:39:50.874Z"
   },
   {
    "duration": 26,
    "start_time": "2022-01-17T18:39:50.905Z"
   },
   {
    "duration": 2,
    "start_time": "2022-01-17T18:39:50.932Z"
   },
   {
    "duration": 3,
    "start_time": "2022-01-17T18:39:50.937Z"
   },
   {
    "duration": 32,
    "start_time": "2022-01-17T18:39:50.942Z"
   },
   {
    "duration": 4,
    "start_time": "2022-01-17T18:39:50.976Z"
   },
   {
    "duration": 5,
    "start_time": "2022-01-17T18:39:50.981Z"
   },
   {
    "duration": 5,
    "start_time": "2022-01-17T18:39:50.987Z"
   },
   {
    "duration": 17,
    "start_time": "2022-01-17T18:39:50.994Z"
   },
   {
    "duration": 21,
    "start_time": "2022-01-17T18:39:51.013Z"
   },
   {
    "duration": 9,
    "start_time": "2022-01-17T18:39:51.036Z"
   },
   {
    "duration": 11,
    "start_time": "2022-01-17T18:39:51.046Z"
   },
   {
    "duration": 13,
    "start_time": "2022-01-17T18:39:51.058Z"
   },
   {
    "duration": 8,
    "start_time": "2022-01-17T18:39:51.073Z"
   },
   {
    "duration": 7,
    "start_time": "2022-01-17T18:39:51.082Z"
   },
   {
    "duration": 7,
    "start_time": "2022-01-17T18:39:51.091Z"
   },
   {
    "duration": 13,
    "start_time": "2022-01-17T18:39:51.100Z"
   },
   {
    "duration": 24,
    "start_time": "2022-01-17T18:40:04.584Z"
   },
   {
    "duration": 26,
    "start_time": "2022-01-17T18:40:38.138Z"
   },
   {
    "duration": 28,
    "start_time": "2022-01-17T18:41:40.837Z"
   },
   {
    "duration": 21,
    "start_time": "2022-01-17T18:43:09.330Z"
   },
   {
    "duration": 2244,
    "start_time": "2022-01-17T18:45:12.764Z"
   },
   {
    "duration": 23682,
    "start_time": "2022-01-17T18:45:27.618Z"
   },
   {
    "duration": 22924,
    "start_time": "2022-01-17T18:46:06.721Z"
   },
   {
    "duration": 23,
    "start_time": "2022-01-17T18:47:38.821Z"
   },
   {
    "duration": 647,
    "start_time": "2022-01-17T18:47:48.395Z"
   },
   {
    "duration": 101,
    "start_time": "2022-01-17T18:47:49.044Z"
   },
   {
    "duration": 25,
    "start_time": "2022-01-17T18:47:49.147Z"
   },
   {
    "duration": 15,
    "start_time": "2022-01-17T18:47:49.174Z"
   },
   {
    "duration": 33,
    "start_time": "2022-01-17T18:47:49.190Z"
   },
   {
    "duration": 24,
    "start_time": "2022-01-17T18:47:49.224Z"
   },
   {
    "duration": 23,
    "start_time": "2022-01-17T18:47:49.249Z"
   },
   {
    "duration": 6,
    "start_time": "2022-01-17T18:47:49.274Z"
   },
   {
    "duration": 10,
    "start_time": "2022-01-17T18:47:49.281Z"
   },
   {
    "duration": 15,
    "start_time": "2022-01-17T18:47:49.293Z"
   },
   {
    "duration": 8,
    "start_time": "2022-01-17T18:47:49.309Z"
   },
   {
    "duration": 11,
    "start_time": "2022-01-17T18:47:49.318Z"
   },
   {
    "duration": 7,
    "start_time": "2022-01-17T18:47:49.331Z"
   },
   {
    "duration": 9,
    "start_time": "2022-01-17T18:47:49.340Z"
   },
   {
    "duration": 10,
    "start_time": "2022-01-17T18:47:49.351Z"
   },
   {
    "duration": 11,
    "start_time": "2022-01-17T18:47:49.363Z"
   },
   {
    "duration": 7,
    "start_time": "2022-01-17T18:47:49.376Z"
   },
   {
    "duration": 10,
    "start_time": "2022-01-17T18:47:49.384Z"
   },
   {
    "duration": 9,
    "start_time": "2022-01-17T18:47:49.395Z"
   },
   {
    "duration": 9,
    "start_time": "2022-01-17T18:47:49.405Z"
   },
   {
    "duration": 8,
    "start_time": "2022-01-17T18:47:49.416Z"
   },
   {
    "duration": 3349,
    "start_time": "2022-01-17T18:48:55.131Z"
   },
   {
    "duration": 3635,
    "start_time": "2022-01-17T18:49:47.344Z"
   },
   {
    "duration": 556,
    "start_time": "2022-01-17T18:50:11.797Z"
   },
   {
    "duration": 3297,
    "start_time": "2022-01-17T18:51:42.553Z"
   },
   {
    "duration": 3424,
    "start_time": "2022-01-17T18:52:12.803Z"
   },
   {
    "duration": 3354,
    "start_time": "2022-01-17T18:53:41.578Z"
   },
   {
    "duration": 4207,
    "start_time": "2022-01-17T18:53:51.581Z"
   },
   {
    "duration": 10171,
    "start_time": "2022-01-17T18:55:06.676Z"
   },
   {
    "duration": 6629,
    "start_time": "2022-01-17T18:56:21.452Z"
   },
   {
    "duration": 606,
    "start_time": "2022-01-17T18:57:34.565Z"
   },
   {
    "duration": 98,
    "start_time": "2022-01-17T18:57:35.173Z"
   },
   {
    "duration": 17,
    "start_time": "2022-01-17T18:57:35.273Z"
   },
   {
    "duration": 13,
    "start_time": "2022-01-17T18:57:35.292Z"
   },
   {
    "duration": 30,
    "start_time": "2022-01-17T18:57:35.306Z"
   },
   {
    "duration": 8012,
    "start_time": "2022-01-17T18:57:35.338Z"
   },
   {
    "duration": 471,
    "start_time": "2022-01-17T18:57:42.881Z"
   },
   {
    "duration": 467,
    "start_time": "2022-01-17T18:57:42.886Z"
   },
   {
    "duration": 406,
    "start_time": "2022-01-17T18:57:42.948Z"
   },
   {
    "duration": 403,
    "start_time": "2022-01-17T18:57:42.952Z"
   },
   {
    "duration": 401,
    "start_time": "2022-01-17T18:57:42.955Z"
   },
   {
    "duration": 398,
    "start_time": "2022-01-17T18:57:42.959Z"
   },
   {
    "duration": 396,
    "start_time": "2022-01-17T18:57:42.962Z"
   },
   {
    "duration": 393,
    "start_time": "2022-01-17T18:57:42.966Z"
   },
   {
    "duration": 392,
    "start_time": "2022-01-17T18:57:42.968Z"
   },
   {
    "duration": 389,
    "start_time": "2022-01-17T18:57:42.972Z"
   },
   {
    "duration": 387,
    "start_time": "2022-01-17T18:57:42.975Z"
   },
   {
    "duration": 385,
    "start_time": "2022-01-17T18:57:42.978Z"
   },
   {
    "duration": 383,
    "start_time": "2022-01-17T18:57:42.981Z"
   },
   {
    "duration": 381,
    "start_time": "2022-01-17T18:57:42.984Z"
   },
   {
    "duration": 379,
    "start_time": "2022-01-17T18:57:42.987Z"
   },
   {
    "duration": 6796,
    "start_time": "2022-01-17T18:58:27.491Z"
   },
   {
    "duration": 6058,
    "start_time": "2022-01-17T18:58:55.416Z"
   },
   {
    "duration": 5837,
    "start_time": "2022-01-17T19:01:42.399Z"
   },
   {
    "duration": 40,
    "start_time": "2022-01-17T19:03:17.690Z"
   },
   {
    "duration": 24,
    "start_time": "2022-01-17T19:03:41.639Z"
   },
   {
    "duration": 23,
    "start_time": "2022-01-17T19:03:58.317Z"
   },
   {
    "duration": 4337,
    "start_time": "2022-01-17T19:04:07.811Z"
   },
   {
    "duration": 313,
    "start_time": "2022-01-17T19:04:22.527Z"
   },
   {
    "duration": 36,
    "start_time": "2022-01-17T19:06:39.653Z"
   },
   {
    "duration": 27,
    "start_time": "2022-01-17T19:07:07.350Z"
   },
   {
    "duration": 24,
    "start_time": "2022-01-17T19:07:14.261Z"
   },
   {
    "duration": 35,
    "start_time": "2022-01-17T19:07:46.045Z"
   },
   {
    "duration": 44,
    "start_time": "2022-01-17T19:08:00.565Z"
   },
   {
    "duration": 626,
    "start_time": "2022-01-17T19:11:30.548Z"
   },
   {
    "duration": 96,
    "start_time": "2022-01-17T19:11:31.176Z"
   },
   {
    "duration": 16,
    "start_time": "2022-01-17T19:11:31.274Z"
   },
   {
    "duration": 13,
    "start_time": "2022-01-17T19:11:31.292Z"
   },
   {
    "duration": 31,
    "start_time": "2022-01-17T19:11:31.306Z"
   },
   {
    "duration": 541,
    "start_time": "2022-01-17T19:14:27.822Z"
   },
   {
    "duration": 99,
    "start_time": "2022-01-17T19:14:28.365Z"
   },
   {
    "duration": 18,
    "start_time": "2022-01-17T19:14:28.466Z"
   },
   {
    "duration": 13,
    "start_time": "2022-01-17T19:14:28.485Z"
   },
   {
    "duration": 32,
    "start_time": "2022-01-17T19:14:28.499Z"
   },
   {
    "duration": 558,
    "start_time": "2022-01-17T19:15:38.708Z"
   },
   {
    "duration": 99,
    "start_time": "2022-01-17T19:15:39.268Z"
   },
   {
    "duration": 17,
    "start_time": "2022-01-17T19:15:39.369Z"
   },
   {
    "duration": 12,
    "start_time": "2022-01-17T19:15:39.388Z"
   },
   {
    "duration": 28,
    "start_time": "2022-01-17T19:15:39.402Z"
   },
   {
    "duration": 371,
    "start_time": "2022-01-17T19:15:39.432Z"
   },
   {
    "duration": 582,
    "start_time": "2022-01-17T19:15:39.223Z"
   },
   {
    "duration": 579,
    "start_time": "2022-01-17T19:15:39.227Z"
   },
   {
    "duration": 576,
    "start_time": "2022-01-17T19:15:39.232Z"
   },
   {
    "duration": 573,
    "start_time": "2022-01-17T19:15:39.236Z"
   },
   {
    "duration": 571,
    "start_time": "2022-01-17T19:15:39.239Z"
   },
   {
    "duration": 568,
    "start_time": "2022-01-17T19:15:39.244Z"
   },
   {
    "duration": 567,
    "start_time": "2022-01-17T19:15:39.247Z"
   },
   {
    "duration": 564,
    "start_time": "2022-01-17T19:15:39.251Z"
   },
   {
    "duration": 562,
    "start_time": "2022-01-17T19:15:39.254Z"
   },
   {
    "duration": 560,
    "start_time": "2022-01-17T19:15:39.258Z"
   },
   {
    "duration": 558,
    "start_time": "2022-01-17T19:15:39.261Z"
   },
   {
    "duration": 556,
    "start_time": "2022-01-17T19:15:39.265Z"
   },
   {
    "duration": 532,
    "start_time": "2022-01-17T19:15:39.290Z"
   },
   {
    "duration": 524,
    "start_time": "2022-01-17T19:15:39.299Z"
   },
   {
    "duration": 522,
    "start_time": "2022-01-17T19:15:39.303Z"
   },
   {
    "duration": 582,
    "start_time": "2022-01-17T19:26:38.289Z"
   },
   {
    "duration": 104,
    "start_time": "2022-01-17T19:26:38.873Z"
   },
   {
    "duration": 22,
    "start_time": "2022-01-17T19:26:38.978Z"
   },
   {
    "duration": 14,
    "start_time": "2022-01-17T19:26:39.003Z"
   },
   {
    "duration": 58,
    "start_time": "2022-01-17T19:26:39.019Z"
   },
   {
    "duration": 564,
    "start_time": "2022-01-17T19:31:31.395Z"
   },
   {
    "duration": 102,
    "start_time": "2022-01-17T19:31:31.961Z"
   },
   {
    "duration": 17,
    "start_time": "2022-01-17T19:31:32.064Z"
   },
   {
    "duration": 14,
    "start_time": "2022-01-17T19:31:32.083Z"
   },
   {
    "duration": 41,
    "start_time": "2022-01-17T19:31:32.099Z"
   },
   {
    "duration": 3516,
    "start_time": "2022-01-17T19:31:32.142Z"
   },
   {
    "duration": 416,
    "start_time": "2022-01-17T19:31:35.245Z"
   },
   {
    "duration": 408,
    "start_time": "2022-01-17T19:31:35.254Z"
   },
   {
    "duration": 386,
    "start_time": "2022-01-17T19:31:35.277Z"
   },
   {
    "duration": 380,
    "start_time": "2022-01-17T19:31:35.284Z"
   },
   {
    "duration": 364,
    "start_time": "2022-01-17T19:31:35.301Z"
   },
   {
    "duration": 354,
    "start_time": "2022-01-17T19:31:35.312Z"
   },
   {
    "duration": 339,
    "start_time": "2022-01-17T19:31:35.328Z"
   },
   {
    "duration": 333,
    "start_time": "2022-01-17T19:31:35.335Z"
   },
   {
    "duration": 323,
    "start_time": "2022-01-17T19:31:35.346Z"
   },
   {
    "duration": 309,
    "start_time": "2022-01-17T19:31:35.361Z"
   },
   {
    "duration": 301,
    "start_time": "2022-01-17T19:31:35.370Z"
   },
   {
    "duration": 294,
    "start_time": "2022-01-17T19:31:35.378Z"
   },
   {
    "duration": 278,
    "start_time": "2022-01-17T19:31:35.395Z"
   },
   {
    "duration": 273,
    "start_time": "2022-01-17T19:31:35.402Z"
   },
   {
    "duration": 265,
    "start_time": "2022-01-17T19:31:35.411Z"
   },
   {
    "duration": 3876,
    "start_time": "2022-01-17T19:33:24.705Z"
   },
   {
    "duration": 555,
    "start_time": "2022-01-17T19:37:03.612Z"
   },
   {
    "duration": 108,
    "start_time": "2022-01-17T19:37:04.169Z"
   },
   {
    "duration": 18,
    "start_time": "2022-01-17T19:37:04.279Z"
   },
   {
    "duration": 14,
    "start_time": "2022-01-17T19:37:04.299Z"
   },
   {
    "duration": 31,
    "start_time": "2022-01-17T19:37:04.315Z"
   },
   {
    "duration": 3486,
    "start_time": "2022-01-17T19:37:04.347Z"
   },
   {
    "duration": 167,
    "start_time": "2022-01-17T19:37:07.668Z"
   },
   {
    "duration": 164,
    "start_time": "2022-01-17T19:37:07.672Z"
   },
   {
    "duration": 162,
    "start_time": "2022-01-17T19:37:07.675Z"
   },
   {
    "duration": 160,
    "start_time": "2022-01-17T19:37:07.678Z"
   },
   {
    "duration": 157,
    "start_time": "2022-01-17T19:37:07.682Z"
   },
   {
    "duration": 155,
    "start_time": "2022-01-17T19:37:07.685Z"
   },
   {
    "duration": 153,
    "start_time": "2022-01-17T19:37:07.688Z"
   },
   {
    "duration": 151,
    "start_time": "2022-01-17T19:37:07.691Z"
   },
   {
    "duration": 148,
    "start_time": "2022-01-17T19:37:07.695Z"
   },
   {
    "duration": 145,
    "start_time": "2022-01-17T19:37:07.698Z"
   },
   {
    "duration": 142,
    "start_time": "2022-01-17T19:37:07.702Z"
   },
   {
    "duration": 139,
    "start_time": "2022-01-17T19:37:07.706Z"
   },
   {
    "duration": 136,
    "start_time": "2022-01-17T19:37:07.710Z"
   },
   {
    "duration": 134,
    "start_time": "2022-01-17T19:37:07.713Z"
   },
   {
    "duration": 131,
    "start_time": "2022-01-17T19:37:07.717Z"
   },
   {
    "duration": 65986,
    "start_time": "2022-01-17T19:37:31.194Z"
   },
   {
    "duration": 475,
    "start_time": "2022-01-17T19:39:21.592Z"
   },
   {
    "duration": 529,
    "start_time": "2022-01-17T19:40:02.000Z"
   },
   {
    "duration": 482,
    "start_time": "2022-01-17T19:40:50.239Z"
   },
   {
    "duration": 514,
    "start_time": "2022-01-17T19:41:21.299Z"
   },
   {
    "duration": 461,
    "start_time": "2022-01-17T19:44:50.545Z"
   },
   {
    "duration": 3381,
    "start_time": "2022-01-17T19:45:05.445Z"
   },
   {
    "duration": 566,
    "start_time": "2022-01-17T19:45:31.194Z"
   },
   {
    "duration": 101,
    "start_time": "2022-01-17T19:45:31.763Z"
   },
   {
    "duration": 17,
    "start_time": "2022-01-17T19:45:31.865Z"
   },
   {
    "duration": 16,
    "start_time": "2022-01-17T19:45:31.884Z"
   },
   {
    "duration": 30,
    "start_time": "2022-01-17T19:45:31.902Z"
   },
   {
    "duration": 3526,
    "start_time": "2022-01-17T19:45:31.933Z"
   },
   {
    "duration": 1,
    "start_time": "2022-01-17T19:45:35.461Z"
   },
   {
    "duration": 8,
    "start_time": "2022-01-17T19:45:35.464Z"
   },
   {
    "duration": 4,
    "start_time": "2022-01-17T19:45:35.473Z"
   },
   {
    "duration": 3,
    "start_time": "2022-01-17T19:45:35.478Z"
   },
   {
    "duration": 5,
    "start_time": "2022-01-17T19:45:35.482Z"
   },
   {
    "duration": 3,
    "start_time": "2022-01-17T19:45:35.488Z"
   },
   {
    "duration": 9,
    "start_time": "2022-01-17T19:45:35.493Z"
   },
   {
    "duration": 8,
    "start_time": "2022-01-17T19:45:35.503Z"
   },
   {
    "duration": 9,
    "start_time": "2022-01-17T19:45:35.512Z"
   },
   {
    "duration": 8,
    "start_time": "2022-01-17T19:45:35.523Z"
   },
   {
    "duration": 8,
    "start_time": "2022-01-17T19:45:35.532Z"
   },
   {
    "duration": 9,
    "start_time": "2022-01-17T19:45:35.541Z"
   },
   {
    "duration": 9,
    "start_time": "2022-01-17T19:45:35.551Z"
   },
   {
    "duration": 10,
    "start_time": "2022-01-17T19:45:35.561Z"
   },
   {
    "duration": 9,
    "start_time": "2022-01-17T19:45:35.572Z"
   },
   {
    "duration": 11012,
    "start_time": "2022-01-17T19:48:24.580Z"
   },
   {
    "duration": 1323918,
    "start_time": "2022-01-17T19:52:49.097Z"
   },
   {
    "duration": 33,
    "start_time": "2022-01-17T20:15:08.596Z"
   },
   {
    "duration": 611,
    "start_time": "2022-01-17T20:15:37.838Z"
   },
   {
    "duration": 103,
    "start_time": "2022-01-17T20:15:38.451Z"
   },
   {
    "duration": 22,
    "start_time": "2022-01-17T20:15:38.556Z"
   },
   {
    "duration": 28,
    "start_time": "2022-01-17T20:15:38.580Z"
   },
   {
    "duration": 45,
    "start_time": "2022-01-17T20:15:38.609Z"
   },
   {
    "duration": 32,
    "start_time": "2022-01-17T20:15:38.656Z"
   },
   {
    "duration": 2,
    "start_time": "2022-01-17T20:15:38.690Z"
   },
   {
    "duration": 12,
    "start_time": "2022-01-17T20:15:38.694Z"
   },
   {
    "duration": 20,
    "start_time": "2022-01-17T20:15:38.707Z"
   },
   {
    "duration": 4,
    "start_time": "2022-01-17T20:15:38.728Z"
   },
   {
    "duration": 4,
    "start_time": "2022-01-17T20:15:38.733Z"
   },
   {
    "duration": 4,
    "start_time": "2022-01-17T20:15:38.738Z"
   },
   {
    "duration": 6,
    "start_time": "2022-01-17T20:15:38.743Z"
   },
   {
    "duration": 8,
    "start_time": "2022-01-17T20:15:38.750Z"
   },
   {
    "duration": 7,
    "start_time": "2022-01-17T20:15:38.760Z"
   },
   {
    "duration": 10,
    "start_time": "2022-01-17T20:15:38.768Z"
   },
   {
    "duration": 11,
    "start_time": "2022-01-17T20:15:38.780Z"
   },
   {
    "duration": 23,
    "start_time": "2022-01-17T20:15:38.793Z"
   },
   {
    "duration": 16,
    "start_time": "2022-01-17T20:15:38.818Z"
   },
   {
    "duration": 18,
    "start_time": "2022-01-17T20:15:38.836Z"
   },
   {
    "duration": 22,
    "start_time": "2022-01-17T20:15:38.856Z"
   },
   {
    "duration": 32,
    "start_time": "2022-01-17T20:16:10.051Z"
   },
   {
    "duration": 43,
    "start_time": "2022-01-17T20:17:56.128Z"
   },
   {
    "duration": 42,
    "start_time": "2022-01-17T20:18:37.144Z"
   },
   {
    "duration": 382,
    "start_time": "2022-01-17T20:19:19.511Z"
   },
   {
    "duration": 40,
    "start_time": "2022-01-17T20:19:35.119Z"
   },
   {
    "duration": 527,
    "start_time": "2022-01-17T20:20:55.615Z"
   },
   {
    "duration": 745,
    "start_time": "2022-01-17T20:21:00.074Z"
   },
   {
    "duration": 101,
    "start_time": "2022-01-17T20:21:00.820Z"
   },
   {
    "duration": 18,
    "start_time": "2022-01-17T20:21:00.923Z"
   },
   {
    "duration": 16,
    "start_time": "2022-01-17T20:21:00.943Z"
   },
   {
    "duration": 49,
    "start_time": "2022-01-17T20:21:00.960Z"
   },
   {
    "duration": 18,
    "start_time": "2022-01-17T20:21:01.011Z"
   },
   {
    "duration": 2,
    "start_time": "2022-01-17T20:21:01.031Z"
   },
   {
    "duration": 11,
    "start_time": "2022-01-17T20:21:01.035Z"
   },
   {
    "duration": 6,
    "start_time": "2022-01-17T20:21:01.048Z"
   },
   {
    "duration": 5,
    "start_time": "2022-01-17T20:21:01.055Z"
   },
   {
    "duration": 11,
    "start_time": "2022-01-17T20:21:01.062Z"
   },
   {
    "duration": 9,
    "start_time": "2022-01-17T20:21:01.074Z"
   },
   {
    "duration": 10,
    "start_time": "2022-01-17T20:21:01.084Z"
   },
   {
    "duration": 8,
    "start_time": "2022-01-17T20:21:01.096Z"
   },
   {
    "duration": 8,
    "start_time": "2022-01-17T20:21:01.105Z"
   },
   {
    "duration": 8,
    "start_time": "2022-01-17T20:21:01.114Z"
   },
   {
    "duration": 8,
    "start_time": "2022-01-17T20:21:01.123Z"
   },
   {
    "duration": 9,
    "start_time": "2022-01-17T20:21:01.132Z"
   },
   {
    "duration": 8,
    "start_time": "2022-01-17T20:21:01.142Z"
   },
   {
    "duration": 10,
    "start_time": "2022-01-17T20:21:01.151Z"
   },
   {
    "duration": 14,
    "start_time": "2022-01-17T20:21:01.163Z"
   },
   {
    "duration": 95981,
    "start_time": "2022-01-17T20:21:47.373Z"
   },
   {
    "duration": 380,
    "start_time": "2022-01-17T20:24:21.036Z"
   },
   {
    "duration": 331,
    "start_time": "2022-01-17T20:24:47.945Z"
   },
   {
    "duration": 634,
    "start_time": "2022-01-17T20:27:30.653Z"
   },
   {
    "duration": 99,
    "start_time": "2022-01-17T20:27:31.289Z"
   },
   {
    "duration": 17,
    "start_time": "2022-01-17T20:27:31.390Z"
   },
   {
    "duration": 14,
    "start_time": "2022-01-17T20:27:31.408Z"
   },
   {
    "duration": 34,
    "start_time": "2022-01-17T20:27:31.423Z"
   },
   {
    "duration": 362,
    "start_time": "2022-01-17T20:27:31.459Z"
   },
   {
    "duration": 553,
    "start_time": "2022-01-17T20:27:31.270Z"
   },
   {
    "duration": 534,
    "start_time": "2022-01-17T20:27:31.290Z"
   },
   {
    "duration": 528,
    "start_time": "2022-01-17T20:27:31.296Z"
   },
   {
    "duration": 526,
    "start_time": "2022-01-17T20:27:31.299Z"
   },
   {
    "duration": 523,
    "start_time": "2022-01-17T20:27:31.303Z"
   },
   {
    "duration": 521,
    "start_time": "2022-01-17T20:27:31.306Z"
   },
   {
    "duration": 518,
    "start_time": "2022-01-17T20:27:31.310Z"
   },
   {
    "duration": 515,
    "start_time": "2022-01-17T20:27:31.314Z"
   },
   {
    "duration": 511,
    "start_time": "2022-01-17T20:27:31.319Z"
   },
   {
    "duration": 497,
    "start_time": "2022-01-17T20:27:31.334Z"
   },
   {
    "duration": 494,
    "start_time": "2022-01-17T20:27:31.338Z"
   },
   {
    "duration": 450,
    "start_time": "2022-01-17T20:27:31.383Z"
   },
   {
    "duration": 447,
    "start_time": "2022-01-17T20:27:31.387Z"
   },
   {
    "duration": 444,
    "start_time": "2022-01-17T20:27:31.390Z"
   },
   {
    "duration": 443,
    "start_time": "2022-01-17T20:27:31.393Z"
   },
   {
    "duration": 313,
    "start_time": "2022-01-17T20:28:00.432Z"
   },
   {
    "duration": 86894,
    "start_time": "2022-01-17T20:28:15.333Z"
   },
   {
    "duration": 751,
    "start_time": "2022-01-18T06:31:50.286Z"
   },
   {
    "duration": 159,
    "start_time": "2022-01-18T06:31:51.039Z"
   },
   {
    "duration": 28,
    "start_time": "2022-01-18T06:31:51.200Z"
   },
   {
    "duration": 31,
    "start_time": "2022-01-18T06:31:51.231Z"
   },
   {
    "duration": 44,
    "start_time": "2022-01-18T06:31:51.264Z"
   },
   {
    "duration": 2751,
    "start_time": "2022-01-18T06:31:51.310Z"
   },
   {
    "duration": 3,
    "start_time": "2022-01-18T06:31:54.064Z"
   },
   {
    "duration": 8,
    "start_time": "2022-01-18T06:31:54.071Z"
   },
   {
    "duration": 4,
    "start_time": "2022-01-18T06:31:54.082Z"
   },
   {
    "duration": 4,
    "start_time": "2022-01-18T06:31:54.087Z"
   },
   {
    "duration": 12,
    "start_time": "2022-01-18T06:31:54.093Z"
   },
   {
    "duration": 9,
    "start_time": "2022-01-18T06:31:54.107Z"
   },
   {
    "duration": 42,
    "start_time": "2022-01-18T06:31:54.118Z"
   },
   {
    "duration": 5,
    "start_time": "2022-01-18T06:31:54.163Z"
   },
   {
    "duration": 4,
    "start_time": "2022-01-18T06:31:54.170Z"
   },
   {
    "duration": 4,
    "start_time": "2022-01-18T06:31:54.176Z"
   },
   {
    "duration": 4,
    "start_time": "2022-01-18T06:31:54.182Z"
   },
   {
    "duration": 5,
    "start_time": "2022-01-18T06:31:54.188Z"
   },
   {
    "duration": 4,
    "start_time": "2022-01-18T06:31:54.195Z"
   },
   {
    "duration": 5,
    "start_time": "2022-01-18T06:31:54.201Z"
   },
   {
    "duration": 53,
    "start_time": "2022-01-18T06:31:54.207Z"
   },
   {
    "duration": 304,
    "start_time": "2022-01-18T06:32:54.223Z"
   },
   {
    "duration": 691,
    "start_time": "2022-01-18T06:34:54.931Z"
   },
   {
    "duration": 112,
    "start_time": "2022-01-18T06:34:55.624Z"
   },
   {
    "duration": 27,
    "start_time": "2022-01-18T06:34:55.739Z"
   },
   {
    "duration": 31,
    "start_time": "2022-01-18T06:34:55.768Z"
   },
   {
    "duration": 43,
    "start_time": "2022-01-18T06:34:55.801Z"
   },
   {
    "duration": 7771,
    "start_time": "2022-01-18T06:34:55.846Z"
   },
   {
    "duration": 2,
    "start_time": "2022-01-18T06:35:03.619Z"
   },
   {
    "duration": 9,
    "start_time": "2022-01-18T06:35:03.624Z"
   },
   {
    "duration": 9,
    "start_time": "2022-01-18T06:35:03.636Z"
   },
   {
    "duration": 11,
    "start_time": "2022-01-18T06:35:03.647Z"
   },
   {
    "duration": 5,
    "start_time": "2022-01-18T06:35:03.661Z"
   },
   {
    "duration": 12,
    "start_time": "2022-01-18T06:35:03.668Z"
   },
   {
    "duration": 9,
    "start_time": "2022-01-18T06:35:03.682Z"
   },
   {
    "duration": 9,
    "start_time": "2022-01-18T06:35:03.692Z"
   },
   {
    "duration": 7,
    "start_time": "2022-01-18T06:35:03.704Z"
   },
   {
    "duration": 7,
    "start_time": "2022-01-18T06:35:03.713Z"
   },
   {
    "duration": 16,
    "start_time": "2022-01-18T06:35:03.721Z"
   },
   {
    "duration": 13,
    "start_time": "2022-01-18T06:35:03.739Z"
   },
   {
    "duration": 4,
    "start_time": "2022-01-18T06:35:03.754Z"
   },
   {
    "duration": 6,
    "start_time": "2022-01-18T06:35:03.760Z"
   },
   {
    "duration": 5,
    "start_time": "2022-01-18T06:35:03.767Z"
   },
   {
    "duration": 678,
    "start_time": "2022-01-18T06:36:29.969Z"
   },
   {
    "duration": 113,
    "start_time": "2022-01-18T06:36:30.649Z"
   },
   {
    "duration": 20,
    "start_time": "2022-01-18T06:36:30.764Z"
   },
   {
    "duration": 44,
    "start_time": "2022-01-18T06:36:30.786Z"
   },
   {
    "duration": 70,
    "start_time": "2022-01-18T06:36:30.832Z"
   },
   {
    "duration": 7090,
    "start_time": "2022-01-18T06:36:30.904Z"
   },
   {
    "duration": 2,
    "start_time": "2022-01-18T06:36:37.995Z"
   },
   {
    "duration": 4,
    "start_time": "2022-01-18T06:36:38.000Z"
   },
   {
    "duration": 5,
    "start_time": "2022-01-18T06:36:38.006Z"
   },
   {
    "duration": 4,
    "start_time": "2022-01-18T06:36:38.013Z"
   },
   {
    "duration": 5,
    "start_time": "2022-01-18T06:36:38.019Z"
   },
   {
    "duration": 5,
    "start_time": "2022-01-18T06:36:38.026Z"
   },
   {
    "duration": 6,
    "start_time": "2022-01-18T06:36:38.032Z"
   },
   {
    "duration": 21,
    "start_time": "2022-01-18T06:36:38.040Z"
   },
   {
    "duration": 9,
    "start_time": "2022-01-18T06:36:38.063Z"
   },
   {
    "duration": 5,
    "start_time": "2022-01-18T06:36:38.074Z"
   },
   {
    "duration": 6,
    "start_time": "2022-01-18T06:36:38.080Z"
   },
   {
    "duration": 5,
    "start_time": "2022-01-18T06:36:38.088Z"
   },
   {
    "duration": 6,
    "start_time": "2022-01-18T06:36:38.094Z"
   },
   {
    "duration": 5,
    "start_time": "2022-01-18T06:36:38.102Z"
   },
   {
    "duration": 8,
    "start_time": "2022-01-18T06:36:38.108Z"
   },
   {
    "duration": 593,
    "start_time": "2022-01-18T06:42:52.769Z"
   },
   {
    "duration": 108,
    "start_time": "2022-01-18T06:42:53.364Z"
   },
   {
    "duration": 18,
    "start_time": "2022-01-18T06:42:53.474Z"
   },
   {
    "duration": 19,
    "start_time": "2022-01-18T06:42:53.494Z"
   },
   {
    "duration": 35,
    "start_time": "2022-01-18T06:42:53.514Z"
   },
   {
    "duration": 47084,
    "start_time": "2022-01-18T06:42:53.551Z"
   },
   {
    "duration": -706,
    "start_time": "2022-01-18T06:43:41.343Z"
   },
   {
    "duration": -711,
    "start_time": "2022-01-18T06:43:41.349Z"
   },
   {
    "duration": -713,
    "start_time": "2022-01-18T06:43:41.352Z"
   },
   {
    "duration": -716,
    "start_time": "2022-01-18T06:43:41.356Z"
   },
   {
    "duration": -719,
    "start_time": "2022-01-18T06:43:41.359Z"
   },
   {
    "duration": -721,
    "start_time": "2022-01-18T06:43:41.362Z"
   },
   {
    "duration": -724,
    "start_time": "2022-01-18T06:43:41.366Z"
   },
   {
    "duration": -726,
    "start_time": "2022-01-18T06:43:41.369Z"
   },
   {
    "duration": -730,
    "start_time": "2022-01-18T06:43:41.374Z"
   },
   {
    "duration": -733,
    "start_time": "2022-01-18T06:43:41.377Z"
   },
   {
    "duration": -736,
    "start_time": "2022-01-18T06:43:41.381Z"
   },
   {
    "duration": -738,
    "start_time": "2022-01-18T06:43:41.384Z"
   },
   {
    "duration": -741,
    "start_time": "2022-01-18T06:43:41.388Z"
   },
   {
    "duration": -743,
    "start_time": "2022-01-18T06:43:41.391Z"
   },
   {
    "duration": -747,
    "start_time": "2022-01-18T06:43:41.395Z"
   },
   {
    "duration": 564,
    "start_time": "2022-01-18T06:44:03.520Z"
   },
   {
    "duration": 110,
    "start_time": "2022-01-18T06:44:04.086Z"
   },
   {
    "duration": 20,
    "start_time": "2022-01-18T06:44:04.198Z"
   },
   {
    "duration": 27,
    "start_time": "2022-01-18T06:44:04.220Z"
   },
   {
    "duration": 49,
    "start_time": "2022-01-18T06:44:04.249Z"
   },
   {
    "duration": 8118,
    "start_time": "2022-01-18T06:44:04.300Z"
   },
   {
    "duration": 2,
    "start_time": "2022-01-18T06:44:12.420Z"
   },
   {
    "duration": 22,
    "start_time": "2022-01-18T06:44:12.425Z"
   },
   {
    "duration": 20,
    "start_time": "2022-01-18T06:44:12.449Z"
   },
   {
    "duration": 22,
    "start_time": "2022-01-18T06:44:12.471Z"
   },
   {
    "duration": 16,
    "start_time": "2022-01-18T06:44:12.495Z"
   },
   {
    "duration": 22,
    "start_time": "2022-01-18T06:44:12.513Z"
   },
   {
    "duration": 15,
    "start_time": "2022-01-18T06:44:12.537Z"
   },
   {
    "duration": 27,
    "start_time": "2022-01-18T06:44:12.554Z"
   },
   {
    "duration": 17,
    "start_time": "2022-01-18T06:44:12.583Z"
   },
   {
    "duration": 17,
    "start_time": "2022-01-18T06:44:12.602Z"
   },
   {
    "duration": 26,
    "start_time": "2022-01-18T06:44:12.621Z"
   },
   {
    "duration": 33,
    "start_time": "2022-01-18T06:44:12.648Z"
   },
   {
    "duration": 28,
    "start_time": "2022-01-18T06:44:12.682Z"
   },
   {
    "duration": 16,
    "start_time": "2022-01-18T06:44:12.712Z"
   },
   {
    "duration": 37,
    "start_time": "2022-01-18T06:44:12.729Z"
   },
   {
    "duration": 586,
    "start_time": "2022-01-18T06:48:02.478Z"
   },
   {
    "duration": 584,
    "start_time": "2022-01-18T06:48:14.280Z"
   },
   {
    "duration": 112,
    "start_time": "2022-01-18T06:48:14.867Z"
   },
   {
    "duration": 20,
    "start_time": "2022-01-18T06:48:14.982Z"
   },
   {
    "duration": 20,
    "start_time": "2022-01-18T06:48:15.004Z"
   },
   {
    "duration": 49,
    "start_time": "2022-01-18T06:48:15.025Z"
   },
   {
    "duration": 571,
    "start_time": "2022-01-18T06:48:15.075Z"
   },
   {
    "duration": 3,
    "start_time": "2022-01-18T06:48:15.647Z"
   },
   {
    "duration": 9,
    "start_time": "2022-01-18T06:48:15.652Z"
   },
   {
    "duration": 4,
    "start_time": "2022-01-18T06:48:15.663Z"
   },
   {
    "duration": 4,
    "start_time": "2022-01-18T06:48:15.669Z"
   },
   {
    "duration": 5,
    "start_time": "2022-01-18T06:48:15.674Z"
   },
   {
    "duration": 17,
    "start_time": "2022-01-18T06:48:15.680Z"
   },
   {
    "duration": 6,
    "start_time": "2022-01-18T06:48:15.699Z"
   },
   {
    "duration": 7,
    "start_time": "2022-01-18T06:48:15.707Z"
   },
   {
    "duration": 5,
    "start_time": "2022-01-18T06:48:15.716Z"
   },
   {
    "duration": 5,
    "start_time": "2022-01-18T06:48:15.722Z"
   },
   {
    "duration": 5,
    "start_time": "2022-01-18T06:48:15.728Z"
   },
   {
    "duration": 4,
    "start_time": "2022-01-18T06:48:15.735Z"
   },
   {
    "duration": 6,
    "start_time": "2022-01-18T06:48:15.741Z"
   },
   {
    "duration": 13,
    "start_time": "2022-01-18T06:48:15.748Z"
   },
   {
    "duration": 5,
    "start_time": "2022-01-18T06:48:15.762Z"
   },
   {
    "duration": 634,
    "start_time": "2022-01-18T06:50:00.167Z"
   },
   {
    "duration": 117,
    "start_time": "2022-01-18T06:50:00.804Z"
   },
   {
    "duration": 26,
    "start_time": "2022-01-18T06:50:00.923Z"
   },
   {
    "duration": 17,
    "start_time": "2022-01-18T06:50:00.952Z"
   },
   {
    "duration": 43,
    "start_time": "2022-01-18T06:50:00.970Z"
   },
   {
    "duration": 30513,
    "start_time": "2022-01-18T06:50:01.015Z"
   },
   {
    "duration": 2,
    "start_time": "2022-01-18T06:50:31.530Z"
   },
   {
    "duration": 47,
    "start_time": "2022-01-18T06:50:31.534Z"
   },
   {
    "duration": 29,
    "start_time": "2022-01-18T06:50:31.583Z"
   },
   {
    "duration": 36,
    "start_time": "2022-01-18T06:50:31.614Z"
   },
   {
    "duration": 11,
    "start_time": "2022-01-18T06:50:31.652Z"
   },
   {
    "duration": 24,
    "start_time": "2022-01-18T06:50:31.665Z"
   },
   {
    "duration": 30,
    "start_time": "2022-01-18T06:50:31.691Z"
   },
   {
    "duration": 12,
    "start_time": "2022-01-18T06:50:31.723Z"
   },
   {
    "duration": 24,
    "start_time": "2022-01-18T06:50:31.737Z"
   },
   {
    "duration": 24,
    "start_time": "2022-01-18T06:50:31.763Z"
   },
   {
    "duration": 29,
    "start_time": "2022-01-18T06:50:31.788Z"
   },
   {
    "duration": 41,
    "start_time": "2022-01-18T06:50:31.819Z"
   },
   {
    "duration": 31,
    "start_time": "2022-01-18T06:50:31.862Z"
   },
   {
    "duration": 39,
    "start_time": "2022-01-18T06:50:31.895Z"
   },
   {
    "duration": 18,
    "start_time": "2022-01-18T06:50:31.936Z"
   },
   {
    "duration": 557,
    "start_time": "2022-01-18T06:51:29.800Z"
   },
   {
    "duration": 504,
    "start_time": "2022-01-18T06:51:50.049Z"
   },
   {
    "duration": 437,
    "start_time": "2022-01-18T06:52:12.885Z"
   },
   {
    "duration": 615,
    "start_time": "2022-01-18T06:52:28.161Z"
   },
   {
    "duration": 108,
    "start_time": "2022-01-18T06:52:28.777Z"
   },
   {
    "duration": 18,
    "start_time": "2022-01-18T06:52:28.887Z"
   },
   {
    "duration": 14,
    "start_time": "2022-01-18T06:52:28.907Z"
   },
   {
    "duration": 45,
    "start_time": "2022-01-18T06:52:28.922Z"
   },
   {
    "duration": 30292,
    "start_time": "2022-01-18T06:52:28.969Z"
   },
   {
    "duration": 2,
    "start_time": "2022-01-18T06:52:59.263Z"
   },
   {
    "duration": 6,
    "start_time": "2022-01-18T06:52:59.268Z"
   },
   {
    "duration": 5,
    "start_time": "2022-01-18T06:52:59.276Z"
   },
   {
    "duration": 5,
    "start_time": "2022-01-18T06:52:59.282Z"
   },
   {
    "duration": 4,
    "start_time": "2022-01-18T06:52:59.289Z"
   },
   {
    "duration": 5,
    "start_time": "2022-01-18T06:52:59.294Z"
   },
   {
    "duration": 5,
    "start_time": "2022-01-18T06:52:59.300Z"
   },
   {
    "duration": 5,
    "start_time": "2022-01-18T06:52:59.306Z"
   },
   {
    "duration": 15,
    "start_time": "2022-01-18T06:52:59.312Z"
   },
   {
    "duration": 18,
    "start_time": "2022-01-18T06:52:59.328Z"
   },
   {
    "duration": 16,
    "start_time": "2022-01-18T06:52:59.347Z"
   },
   {
    "duration": 11,
    "start_time": "2022-01-18T06:52:59.365Z"
   },
   {
    "duration": 24,
    "start_time": "2022-01-18T06:52:59.378Z"
   },
   {
    "duration": 15,
    "start_time": "2022-01-18T06:52:59.404Z"
   },
   {
    "duration": 19,
    "start_time": "2022-01-18T06:52:59.420Z"
   },
   {
    "duration": 577,
    "start_time": "2022-01-18T06:54:38.791Z"
   },
   {
    "duration": 110,
    "start_time": "2022-01-18T06:54:39.370Z"
   },
   {
    "duration": 20,
    "start_time": "2022-01-18T06:54:39.482Z"
   },
   {
    "duration": 14,
    "start_time": "2022-01-18T06:54:39.505Z"
   },
   {
    "duration": 54,
    "start_time": "2022-01-18T06:54:39.521Z"
   },
   {
    "duration": 331,
    "start_time": "2022-01-18T06:54:39.576Z"
   },
   {
    "duration": -483,
    "start_time": "2022-01-18T06:54:40.392Z"
   },
   {
    "duration": -487,
    "start_time": "2022-01-18T06:54:40.397Z"
   },
   {
    "duration": -490,
    "start_time": "2022-01-18T06:54:40.401Z"
   },
   {
    "duration": -566,
    "start_time": "2022-01-18T06:54:40.478Z"
   },
   {
    "duration": -570,
    "start_time": "2022-01-18T06:54:40.483Z"
   },
   {
    "duration": -574,
    "start_time": "2022-01-18T06:54:40.488Z"
   },
   {
    "duration": -576,
    "start_time": "2022-01-18T06:54:40.492Z"
   },
   {
    "duration": -579,
    "start_time": "2022-01-18T06:54:40.496Z"
   },
   {
    "duration": -582,
    "start_time": "2022-01-18T06:54:40.500Z"
   },
   {
    "duration": -584,
    "start_time": "2022-01-18T06:54:40.503Z"
   },
   {
    "duration": -587,
    "start_time": "2022-01-18T06:54:40.507Z"
   },
   {
    "duration": -589,
    "start_time": "2022-01-18T06:54:40.510Z"
   },
   {
    "duration": -611,
    "start_time": "2022-01-18T06:54:40.533Z"
   },
   {
    "duration": -655,
    "start_time": "2022-01-18T06:54:40.578Z"
   },
   {
    "duration": -657,
    "start_time": "2022-01-18T06:54:40.582Z"
   },
   {
    "duration": 30727,
    "start_time": "2022-01-18T06:55:14.608Z"
   },
   {
    "duration": 272,
    "start_time": "2022-01-18T06:55:52.641Z"
   },
   {
    "duration": 558,
    "start_time": "2022-01-18T06:56:08.302Z"
   },
   {
    "duration": 111,
    "start_time": "2022-01-18T06:56:08.862Z"
   },
   {
    "duration": 19,
    "start_time": "2022-01-18T06:56:08.975Z"
   },
   {
    "duration": 15,
    "start_time": "2022-01-18T06:56:08.996Z"
   },
   {
    "duration": 57,
    "start_time": "2022-01-18T06:56:09.013Z"
   },
   {
    "duration": 31891,
    "start_time": "2022-01-18T06:56:09.072Z"
   },
   {
    "duration": 3,
    "start_time": "2022-01-18T06:56:40.965Z"
   },
   {
    "duration": 4,
    "start_time": "2022-01-18T06:56:40.970Z"
   },
   {
    "duration": 4,
    "start_time": "2022-01-18T06:56:40.976Z"
   },
   {
    "duration": 6,
    "start_time": "2022-01-18T06:56:40.981Z"
   },
   {
    "duration": 5,
    "start_time": "2022-01-18T06:56:40.988Z"
   },
   {
    "duration": 5,
    "start_time": "2022-01-18T06:56:40.994Z"
   },
   {
    "duration": 8,
    "start_time": "2022-01-18T06:56:41.001Z"
   },
   {
    "duration": 6,
    "start_time": "2022-01-18T06:56:41.011Z"
   },
   {
    "duration": 6,
    "start_time": "2022-01-18T06:56:41.018Z"
   },
   {
    "duration": 7,
    "start_time": "2022-01-18T06:56:41.025Z"
   },
   {
    "duration": 5,
    "start_time": "2022-01-18T06:56:41.033Z"
   },
   {
    "duration": 6,
    "start_time": "2022-01-18T06:56:41.040Z"
   },
   {
    "duration": 3,
    "start_time": "2022-01-18T06:56:41.061Z"
   },
   {
    "duration": 6,
    "start_time": "2022-01-18T06:56:41.065Z"
   },
   {
    "duration": 4,
    "start_time": "2022-01-18T06:56:41.073Z"
   },
   {
    "duration": 584,
    "start_time": "2022-01-18T06:58:13.485Z"
   },
   {
    "duration": 112,
    "start_time": "2022-01-18T06:58:14.071Z"
   },
   {
    "duration": 21,
    "start_time": "2022-01-18T06:58:14.185Z"
   },
   {
    "duration": 15,
    "start_time": "2022-01-18T06:58:14.208Z"
   },
   {
    "duration": 49,
    "start_time": "2022-01-18T06:58:14.225Z"
   },
   {
    "duration": 29509,
    "start_time": "2022-01-18T06:58:14.276Z"
   },
   {
    "duration": 2,
    "start_time": "2022-01-18T06:58:43.787Z"
   },
   {
    "duration": 10,
    "start_time": "2022-01-18T06:58:43.791Z"
   },
   {
    "duration": 12,
    "start_time": "2022-01-18T06:58:43.803Z"
   },
   {
    "duration": 6,
    "start_time": "2022-01-18T06:58:43.816Z"
   },
   {
    "duration": 6,
    "start_time": "2022-01-18T06:58:43.823Z"
   },
   {
    "duration": 9,
    "start_time": "2022-01-18T06:58:43.831Z"
   },
   {
    "duration": 6,
    "start_time": "2022-01-18T06:58:43.841Z"
   },
   {
    "duration": 5,
    "start_time": "2022-01-18T06:58:43.849Z"
   },
   {
    "duration": 8,
    "start_time": "2022-01-18T06:58:43.855Z"
   },
   {
    "duration": 7,
    "start_time": "2022-01-18T06:58:43.864Z"
   },
   {
    "duration": 20,
    "start_time": "2022-01-18T06:58:43.872Z"
   },
   {
    "duration": 15,
    "start_time": "2022-01-18T06:58:43.894Z"
   },
   {
    "duration": 67,
    "start_time": "2022-01-18T06:58:43.911Z"
   },
   {
    "duration": 35,
    "start_time": "2022-01-18T06:58:43.980Z"
   },
   {
    "duration": 8,
    "start_time": "2022-01-18T06:58:44.017Z"
   },
   {
    "duration": 608,
    "start_time": "2022-01-18T06:59:14.361Z"
   },
   {
    "duration": 116,
    "start_time": "2022-01-18T06:59:14.971Z"
   },
   {
    "duration": 18,
    "start_time": "2022-01-18T06:59:15.089Z"
   },
   {
    "duration": 14,
    "start_time": "2022-01-18T06:59:15.110Z"
   },
   {
    "duration": 48,
    "start_time": "2022-01-18T06:59:15.126Z"
   },
   {
    "duration": 30603,
    "start_time": "2022-01-18T06:59:15.176Z"
   },
   {
    "duration": 2,
    "start_time": "2022-01-18T06:59:45.781Z"
   },
   {
    "duration": 5,
    "start_time": "2022-01-18T06:59:45.786Z"
   },
   {
    "duration": 5,
    "start_time": "2022-01-18T06:59:45.792Z"
   },
   {
    "duration": 6,
    "start_time": "2022-01-18T06:59:45.798Z"
   },
   {
    "duration": 5,
    "start_time": "2022-01-18T06:59:45.805Z"
   },
   {
    "duration": 5,
    "start_time": "2022-01-18T06:59:45.812Z"
   },
   {
    "duration": 7,
    "start_time": "2022-01-18T06:59:45.818Z"
   },
   {
    "duration": 5,
    "start_time": "2022-01-18T06:59:45.827Z"
   },
   {
    "duration": 5,
    "start_time": "2022-01-18T06:59:45.833Z"
   },
   {
    "duration": 7,
    "start_time": "2022-01-18T06:59:45.839Z"
   },
   {
    "duration": 6,
    "start_time": "2022-01-18T06:59:45.861Z"
   },
   {
    "duration": 5,
    "start_time": "2022-01-18T06:59:45.869Z"
   },
   {
    "duration": 5,
    "start_time": "2022-01-18T06:59:45.875Z"
   },
   {
    "duration": 7,
    "start_time": "2022-01-18T06:59:45.881Z"
   },
   {
    "duration": 7,
    "start_time": "2022-01-18T06:59:45.889Z"
   },
   {
    "duration": 1149,
    "start_time": "2022-01-18T07:00:27.055Z"
   },
   {
    "duration": 114,
    "start_time": "2022-01-18T07:00:28.206Z"
   },
   {
    "duration": 21,
    "start_time": "2022-01-18T07:00:28.322Z"
   },
   {
    "duration": 24,
    "start_time": "2022-01-18T07:00:28.346Z"
   },
   {
    "duration": 36,
    "start_time": "2022-01-18T07:00:28.372Z"
   },
   {
    "duration": 348,
    "start_time": "2022-01-18T07:00:28.410Z"
   },
   {
    "duration": -492,
    "start_time": "2022-01-18T07:00:29.252Z"
   },
   {
    "duration": -494,
    "start_time": "2022-01-18T07:00:29.255Z"
   },
   {
    "duration": -497,
    "start_time": "2022-01-18T07:00:29.259Z"
   },
   {
    "duration": -499,
    "start_time": "2022-01-18T07:00:29.262Z"
   },
   {
    "duration": -502,
    "start_time": "2022-01-18T07:00:29.266Z"
   },
   {
    "duration": -504,
    "start_time": "2022-01-18T07:00:29.269Z"
   },
   {
    "duration": -507,
    "start_time": "2022-01-18T07:00:29.273Z"
   },
   {
    "duration": -515,
    "start_time": "2022-01-18T07:00:29.282Z"
   },
   {
    "duration": -518,
    "start_time": "2022-01-18T07:00:29.286Z"
   },
   {
    "duration": -522,
    "start_time": "2022-01-18T07:00:29.290Z"
   },
   {
    "duration": -553,
    "start_time": "2022-01-18T07:00:29.322Z"
   },
   {
    "duration": -555,
    "start_time": "2022-01-18T07:00:29.325Z"
   },
   {
    "duration": -558,
    "start_time": "2022-01-18T07:00:29.329Z"
   },
   {
    "duration": -560,
    "start_time": "2022-01-18T07:00:29.332Z"
   },
   {
    "duration": -561,
    "start_time": "2022-01-18T07:00:29.335Z"
   },
   {
    "duration": 371,
    "start_time": "2022-01-18T07:01:07.113Z"
   },
   {
    "duration": 285,
    "start_time": "2022-01-18T07:01:30.758Z"
   },
   {
    "duration": 299,
    "start_time": "2022-01-18T07:02:01.736Z"
   },
   {
    "duration": 145,
    "start_time": "2022-01-18T07:02:29.022Z"
   },
   {
    "duration": 277,
    "start_time": "2022-01-18T07:02:37.369Z"
   },
   {
    "duration": 282,
    "start_time": "2022-01-18T07:03:48.082Z"
   },
   {
    "duration": 12477,
    "start_time": "2022-01-18T07:04:31.100Z"
   },
   {
    "duration": 620,
    "start_time": "2022-01-18T07:04:47.620Z"
   },
   {
    "duration": 110,
    "start_time": "2022-01-18T07:04:48.242Z"
   },
   {
    "duration": 20,
    "start_time": "2022-01-18T07:04:48.355Z"
   },
   {
    "duration": 27,
    "start_time": "2022-01-18T07:04:48.378Z"
   },
   {
    "duration": 59,
    "start_time": "2022-01-18T07:04:48.407Z"
   },
   {
    "duration": 30268,
    "start_time": "2022-01-18T07:04:48.468Z"
   },
   {
    "duration": 2,
    "start_time": "2022-01-18T07:05:18.738Z"
   },
   {
    "duration": 21,
    "start_time": "2022-01-18T07:05:18.743Z"
   },
   {
    "duration": 9,
    "start_time": "2022-01-18T07:05:18.766Z"
   },
   {
    "duration": 8,
    "start_time": "2022-01-18T07:05:18.777Z"
   },
   {
    "duration": 10,
    "start_time": "2022-01-18T07:05:18.787Z"
   },
   {
    "duration": 21,
    "start_time": "2022-01-18T07:05:18.799Z"
   },
   {
    "duration": 6,
    "start_time": "2022-01-18T07:05:18.822Z"
   },
   {
    "duration": 4,
    "start_time": "2022-01-18T07:05:18.831Z"
   },
   {
    "duration": 16,
    "start_time": "2022-01-18T07:05:18.837Z"
   },
   {
    "duration": 4,
    "start_time": "2022-01-18T07:05:18.856Z"
   },
   {
    "duration": 5,
    "start_time": "2022-01-18T07:05:18.862Z"
   },
   {
    "duration": 31,
    "start_time": "2022-01-18T07:05:18.869Z"
   },
   {
    "duration": 12,
    "start_time": "2022-01-18T07:05:18.902Z"
   },
   {
    "duration": 7,
    "start_time": "2022-01-18T07:05:18.916Z"
   },
   {
    "duration": 8,
    "start_time": "2022-01-18T07:05:18.925Z"
   },
   {
    "duration": 569,
    "start_time": "2022-01-18T07:06:43.494Z"
   },
   {
    "duration": 113,
    "start_time": "2022-01-18T07:06:44.065Z"
   },
   {
    "duration": 20,
    "start_time": "2022-01-18T07:06:44.181Z"
   },
   {
    "duration": 16,
    "start_time": "2022-01-18T07:06:44.204Z"
   },
   {
    "duration": 57,
    "start_time": "2022-01-18T07:06:44.222Z"
   },
   {
    "duration": 7815,
    "start_time": "2022-01-18T07:06:44.281Z"
   },
   {
    "duration": -596,
    "start_time": "2022-01-18T07:06:52.695Z"
   },
   {
    "duration": -600,
    "start_time": "2022-01-18T07:06:52.701Z"
   },
   {
    "duration": -602,
    "start_time": "2022-01-18T07:06:52.704Z"
   },
   {
    "duration": -697,
    "start_time": "2022-01-18T07:06:52.802Z"
   },
   {
    "duration": -714,
    "start_time": "2022-01-18T07:06:52.820Z"
   },
   {
    "duration": -719,
    "start_time": "2022-01-18T07:06:52.827Z"
   },
   {
    "duration": -721,
    "start_time": "2022-01-18T07:06:52.830Z"
   },
   {
    "duration": -722,
    "start_time": "2022-01-18T07:06:52.833Z"
   },
   {
    "duration": -724,
    "start_time": "2022-01-18T07:06:52.836Z"
   },
   {
    "duration": -726,
    "start_time": "2022-01-18T07:06:52.840Z"
   },
   {
    "duration": -730,
    "start_time": "2022-01-18T07:06:52.845Z"
   },
   {
    "duration": -732,
    "start_time": "2022-01-18T07:06:52.848Z"
   },
   {
    "duration": -734,
    "start_time": "2022-01-18T07:06:52.852Z"
   },
   {
    "duration": -746,
    "start_time": "2022-01-18T07:06:52.865Z"
   },
   {
    "duration": -748,
    "start_time": "2022-01-18T07:06:52.869Z"
   },
   {
    "duration": 530,
    "start_time": "2022-01-18T07:07:07.294Z"
   },
   {
    "duration": 276,
    "start_time": "2022-01-18T07:07:16.090Z"
   },
   {
    "duration": 95,
    "start_time": "2022-01-18T07:07:32.251Z"
   },
   {
    "duration": 326,
    "start_time": "2022-01-18T07:09:47.377Z"
   },
   {
    "duration": 91,
    "start_time": "2022-01-18T07:13:24.989Z"
   },
   {
    "duration": 97,
    "start_time": "2022-01-18T07:13:43.033Z"
   },
   {
    "duration": 93,
    "start_time": "2022-01-18T07:28:59.080Z"
   },
   {
    "duration": 82,
    "start_time": "2022-01-18T07:33:54.944Z"
   },
   {
    "duration": 86,
    "start_time": "2022-01-18T07:34:10.818Z"
   },
   {
    "duration": 445,
    "start_time": "2022-01-18T07:34:22.080Z"
   },
   {
    "duration": 4037,
    "start_time": "2022-01-18T07:37:08.596Z"
   },
   {
    "duration": 36,
    "start_time": "2022-01-18T07:37:51.785Z"
   },
   {
    "duration": 653,
    "start_time": "2022-01-18T07:38:04.481Z"
   },
   {
    "duration": 153,
    "start_time": "2022-01-18T07:38:05.137Z"
   },
   {
    "duration": 21,
    "start_time": "2022-01-18T07:38:05.292Z"
   },
   {
    "duration": 16,
    "start_time": "2022-01-18T07:38:05.315Z"
   },
   {
    "duration": 48,
    "start_time": "2022-01-18T07:38:05.333Z"
   },
   {
    "duration": 364,
    "start_time": "2022-01-18T07:38:05.383Z"
   },
   {
    "duration": -467,
    "start_time": "2022-01-18T07:38:06.216Z"
   },
   {
    "duration": -473,
    "start_time": "2022-01-18T07:38:06.224Z"
   },
   {
    "duration": -475,
    "start_time": "2022-01-18T07:38:06.227Z"
   },
   {
    "duration": -479,
    "start_time": "2022-01-18T07:38:06.232Z"
   },
   {
    "duration": -489,
    "start_time": "2022-01-18T07:38:06.242Z"
   },
   {
    "duration": -493,
    "start_time": "2022-01-18T07:38:06.247Z"
   },
   {
    "duration": -538,
    "start_time": "2022-01-18T07:38:06.293Z"
   },
   {
    "duration": -545,
    "start_time": "2022-01-18T07:38:06.301Z"
   },
   {
    "duration": -547,
    "start_time": "2022-01-18T07:38:06.304Z"
   },
   {
    "duration": -550,
    "start_time": "2022-01-18T07:38:06.308Z"
   },
   {
    "duration": -553,
    "start_time": "2022-01-18T07:38:06.311Z"
   },
   {
    "duration": -556,
    "start_time": "2022-01-18T07:38:06.315Z"
   },
   {
    "duration": -557,
    "start_time": "2022-01-18T07:38:06.318Z"
   },
   {
    "duration": -558,
    "start_time": "2022-01-18T07:38:06.321Z"
   },
   {
    "duration": -560,
    "start_time": "2022-01-18T07:38:06.324Z"
   },
   {
    "duration": 621,
    "start_time": "2022-01-18T07:56:16.200Z"
   },
   {
    "duration": 112,
    "start_time": "2022-01-18T07:56:16.823Z"
   },
   {
    "duration": 29,
    "start_time": "2022-01-18T07:56:16.937Z"
   },
   {
    "duration": 20,
    "start_time": "2022-01-18T07:56:16.968Z"
   },
   {
    "duration": 64,
    "start_time": "2022-01-18T07:56:16.991Z"
   },
   {
    "duration": 7690,
    "start_time": "2022-01-18T07:56:17.057Z"
   },
   {
    "duration": 3,
    "start_time": "2022-01-18T07:56:24.749Z"
   },
   {
    "duration": 2,
    "start_time": "2022-01-18T07:56:24.762Z"
   },
   {
    "duration": 6,
    "start_time": "2022-01-18T07:56:24.766Z"
   },
   {
    "duration": 6,
    "start_time": "2022-01-18T07:56:24.774Z"
   },
   {
    "duration": 6,
    "start_time": "2022-01-18T07:56:24.781Z"
   },
   {
    "duration": 4,
    "start_time": "2022-01-18T07:56:24.789Z"
   },
   {
    "duration": 4,
    "start_time": "2022-01-18T07:56:24.795Z"
   },
   {
    "duration": 4,
    "start_time": "2022-01-18T07:56:24.801Z"
   },
   {
    "duration": 4,
    "start_time": "2022-01-18T07:56:24.807Z"
   },
   {
    "duration": 4,
    "start_time": "2022-01-18T07:56:24.813Z"
   },
   {
    "duration": 6,
    "start_time": "2022-01-18T07:56:24.819Z"
   },
   {
    "duration": 10,
    "start_time": "2022-01-18T07:56:24.827Z"
   },
   {
    "duration": 5,
    "start_time": "2022-01-18T07:56:24.838Z"
   },
   {
    "duration": 7,
    "start_time": "2022-01-18T07:56:24.860Z"
   },
   {
    "duration": 6,
    "start_time": "2022-01-18T07:56:24.869Z"
   },
   {
    "duration": 626,
    "start_time": "2022-01-18T07:56:37.070Z"
   },
   {
    "duration": 191,
    "start_time": "2022-01-18T07:56:37.698Z"
   },
   {
    "duration": 35,
    "start_time": "2022-01-18T07:56:37.892Z"
   },
   {
    "duration": 92,
    "start_time": "2022-01-18T07:56:37.929Z"
   },
   {
    "duration": 173,
    "start_time": "2022-01-18T07:56:38.024Z"
   },
   {
    "duration": 90665,
    "start_time": "2022-01-18T07:56:38.205Z"
   },
   {
    "duration": 3,
    "start_time": "2022-01-18T07:58:08.872Z"
   },
   {
    "duration": 6,
    "start_time": "2022-01-18T07:58:08.878Z"
   },
   {
    "duration": 4,
    "start_time": "2022-01-18T07:58:08.886Z"
   },
   {
    "duration": 4,
    "start_time": "2022-01-18T07:58:08.892Z"
   },
   {
    "duration": 5,
    "start_time": "2022-01-18T07:58:08.898Z"
   },
   {
    "duration": 8,
    "start_time": "2022-01-18T07:58:08.905Z"
   },
   {
    "duration": 8,
    "start_time": "2022-01-18T07:58:08.915Z"
   },
   {
    "duration": 4,
    "start_time": "2022-01-18T07:58:08.925Z"
   },
   {
    "duration": 5,
    "start_time": "2022-01-18T07:58:08.931Z"
   },
   {
    "duration": 24,
    "start_time": "2022-01-18T07:58:08.938Z"
   },
   {
    "duration": 5,
    "start_time": "2022-01-18T07:58:08.964Z"
   },
   {
    "duration": 6,
    "start_time": "2022-01-18T07:58:08.971Z"
   },
   {
    "duration": 6,
    "start_time": "2022-01-18T07:58:08.978Z"
   },
   {
    "duration": 9,
    "start_time": "2022-01-18T07:58:08.985Z"
   },
   {
    "duration": 5,
    "start_time": "2022-01-18T07:58:08.995Z"
   },
   {
    "duration": 94,
    "start_time": "2022-01-18T08:34:14.312Z"
   },
   {
    "duration": 70,
    "start_time": "2022-01-18T08:40:56.443Z"
   },
   {
    "duration": 587,
    "start_time": "2022-01-18T08:41:20.204Z"
   },
   {
    "duration": 97,
    "start_time": "2022-01-18T08:41:20.793Z"
   },
   {
    "duration": 20,
    "start_time": "2022-01-18T08:41:20.892Z"
   },
   {
    "duration": 19,
    "start_time": "2022-01-18T08:41:20.914Z"
   },
   {
    "duration": 50,
    "start_time": "2022-01-18T08:41:20.935Z"
   },
   {
    "duration": 426,
    "start_time": "2022-01-18T08:41:20.987Z"
   },
   {
    "duration": -458,
    "start_time": "2022-01-18T08:41:21.874Z"
   },
   {
    "duration": -461,
    "start_time": "2022-01-18T08:41:21.878Z"
   },
   {
    "duration": -465,
    "start_time": "2022-01-18T08:41:21.883Z"
   },
   {
    "duration": -467,
    "start_time": "2022-01-18T08:41:21.886Z"
   },
   {
    "duration": -469,
    "start_time": "2022-01-18T08:41:21.889Z"
   },
   {
    "duration": -472,
    "start_time": "2022-01-18T08:41:21.893Z"
   },
   {
    "duration": -474,
    "start_time": "2022-01-18T08:41:21.896Z"
   },
   {
    "duration": -475,
    "start_time": "2022-01-18T08:41:21.899Z"
   },
   {
    "duration": -538,
    "start_time": "2022-01-18T08:41:21.963Z"
   },
   {
    "duration": -541,
    "start_time": "2022-01-18T08:41:21.967Z"
   },
   {
    "duration": -543,
    "start_time": "2022-01-18T08:41:21.970Z"
   },
   {
    "duration": -547,
    "start_time": "2022-01-18T08:41:21.974Z"
   },
   {
    "duration": -548,
    "start_time": "2022-01-18T08:41:21.976Z"
   },
   {
    "duration": -551,
    "start_time": "2022-01-18T08:41:21.980Z"
   },
   {
    "duration": -554,
    "start_time": "2022-01-18T08:41:21.984Z"
   },
   {
    "duration": 333,
    "start_time": "2022-01-18T08:44:07.352Z"
   },
   {
    "duration": 71,
    "start_time": "2022-01-18T08:47:34.089Z"
   },
   {
    "duration": 638,
    "start_time": "2022-01-18T08:49:06.380Z"
   },
   {
    "duration": 109,
    "start_time": "2022-01-18T08:49:07.021Z"
   },
   {
    "duration": 30,
    "start_time": "2022-01-18T08:49:07.132Z"
   },
   {
    "duration": 23,
    "start_time": "2022-01-18T08:49:07.164Z"
   },
   {
    "duration": 48,
    "start_time": "2022-01-18T08:49:07.190Z"
   },
   {
    "duration": 93,
    "start_time": "2022-01-18T08:49:07.240Z"
   },
   {
    "duration": 2,
    "start_time": "2022-01-18T08:49:07.335Z"
   },
   {
    "duration": 21,
    "start_time": "2022-01-18T08:49:07.340Z"
   },
   {
    "duration": 7,
    "start_time": "2022-01-18T08:49:07.364Z"
   },
   {
    "duration": 17,
    "start_time": "2022-01-18T08:49:07.373Z"
   },
   {
    "duration": 12,
    "start_time": "2022-01-18T08:49:07.391Z"
   },
   {
    "duration": 10,
    "start_time": "2022-01-18T08:49:07.405Z"
   },
   {
    "duration": 9,
    "start_time": "2022-01-18T08:49:07.417Z"
   },
   {
    "duration": 7,
    "start_time": "2022-01-18T08:49:07.428Z"
   },
   {
    "duration": 4,
    "start_time": "2022-01-18T08:49:07.436Z"
   },
   {
    "duration": 9,
    "start_time": "2022-01-18T08:49:07.442Z"
   },
   {
    "duration": 10,
    "start_time": "2022-01-18T08:49:07.453Z"
   },
   {
    "duration": 5,
    "start_time": "2022-01-18T08:49:07.465Z"
   },
   {
    "duration": 7,
    "start_time": "2022-01-18T08:49:07.472Z"
   },
   {
    "duration": 4,
    "start_time": "2022-01-18T08:49:07.481Z"
   },
   {
    "duration": 8,
    "start_time": "2022-01-18T08:49:07.487Z"
   },
   {
    "duration": 83,
    "start_time": "2022-01-18T08:49:24.863Z"
   },
   {
    "duration": 585,
    "start_time": "2022-01-18T09:00:34.694Z"
   },
   {
    "duration": 93,
    "start_time": "2022-01-18T09:00:35.281Z"
   },
   {
    "duration": 20,
    "start_time": "2022-01-18T09:00:35.377Z"
   },
   {
    "duration": 24,
    "start_time": "2022-01-18T09:00:35.400Z"
   },
   {
    "duration": 49,
    "start_time": "2022-01-18T09:00:35.427Z"
   },
   {
    "duration": 87,
    "start_time": "2022-01-18T09:00:35.478Z"
   },
   {
    "duration": 3,
    "start_time": "2022-01-18T09:00:35.567Z"
   },
   {
    "duration": 12,
    "start_time": "2022-01-18T09:00:35.573Z"
   },
   {
    "duration": 18,
    "start_time": "2022-01-18T09:00:35.587Z"
   },
   {
    "duration": 24,
    "start_time": "2022-01-18T09:00:35.607Z"
   },
   {
    "duration": 12,
    "start_time": "2022-01-18T09:00:35.633Z"
   },
   {
    "duration": 10,
    "start_time": "2022-01-18T09:00:35.647Z"
   },
   {
    "duration": 19,
    "start_time": "2022-01-18T09:00:35.659Z"
   },
   {
    "duration": 15,
    "start_time": "2022-01-18T09:00:35.680Z"
   },
   {
    "duration": 20,
    "start_time": "2022-01-18T09:00:35.696Z"
   },
   {
    "duration": 31,
    "start_time": "2022-01-18T09:00:35.718Z"
   },
   {
    "duration": 19,
    "start_time": "2022-01-18T09:00:35.751Z"
   },
   {
    "duration": 20,
    "start_time": "2022-01-18T09:00:35.772Z"
   },
   {
    "duration": 25,
    "start_time": "2022-01-18T09:00:35.794Z"
   },
   {
    "duration": 40,
    "start_time": "2022-01-18T09:00:35.820Z"
   },
   {
    "duration": 34,
    "start_time": "2022-01-18T09:00:35.862Z"
   },
   {
    "duration": 601,
    "start_time": "2022-01-18T09:22:20.619Z"
   },
   {
    "duration": 101,
    "start_time": "2022-01-18T09:22:21.222Z"
   },
   {
    "duration": 22,
    "start_time": "2022-01-18T09:22:21.325Z"
   },
   {
    "duration": 23,
    "start_time": "2022-01-18T09:22:21.361Z"
   },
   {
    "duration": 40,
    "start_time": "2022-01-18T09:22:21.387Z"
   },
   {
    "duration": 56,
    "start_time": "2022-01-18T09:22:21.429Z"
   },
   {
    "duration": 3,
    "start_time": "2022-01-18T09:22:21.487Z"
   },
   {
    "duration": 8,
    "start_time": "2022-01-18T09:22:21.493Z"
   },
   {
    "duration": 7,
    "start_time": "2022-01-18T09:22:21.503Z"
   },
   {
    "duration": 5,
    "start_time": "2022-01-18T09:22:21.512Z"
   },
   {
    "duration": 9,
    "start_time": "2022-01-18T09:22:21.519Z"
   },
   {
    "duration": 7,
    "start_time": "2022-01-18T09:22:21.531Z"
   },
   {
    "duration": 7,
    "start_time": "2022-01-18T09:22:21.540Z"
   },
   {
    "duration": 3,
    "start_time": "2022-01-18T09:22:21.561Z"
   },
   {
    "duration": 7,
    "start_time": "2022-01-18T09:22:21.566Z"
   },
   {
    "duration": 7,
    "start_time": "2022-01-18T09:22:21.575Z"
   },
   {
    "duration": 10,
    "start_time": "2022-01-18T09:22:21.584Z"
   },
   {
    "duration": 8,
    "start_time": "2022-01-18T09:22:21.596Z"
   },
   {
    "duration": 12,
    "start_time": "2022-01-18T09:22:21.606Z"
   },
   {
    "duration": 27,
    "start_time": "2022-01-18T09:22:21.620Z"
   },
   {
    "duration": 13,
    "start_time": "2022-01-18T09:22:21.649Z"
   },
   {
    "duration": 88,
    "start_time": "2022-01-18T09:39:45.646Z"
   },
   {
    "duration": 33,
    "start_time": "2022-01-18T09:40:01.092Z"
   },
   {
    "duration": 16,
    "start_time": "2022-01-18T10:04:42.724Z"
   },
   {
    "duration": 34,
    "start_time": "2022-01-18T10:10:51.196Z"
   },
   {
    "duration": 23,
    "start_time": "2022-01-18T10:20:08.187Z"
   },
   {
    "duration": 334,
    "start_time": "2022-01-18T10:21:54.041Z"
   },
   {
    "duration": 23,
    "start_time": "2022-01-18T10:23:18.087Z"
   },
   {
    "duration": 31,
    "start_time": "2022-01-18T10:23:43.433Z"
   },
   {
    "duration": 54,
    "start_time": "2022-01-18T10:23:59.240Z"
   },
   {
    "duration": 54,
    "start_time": "2022-01-18T10:29:11.210Z"
   },
   {
    "duration": 121,
    "start_time": "2022-01-18T10:29:42.381Z"
   },
   {
    "duration": 55,
    "start_time": "2022-01-18T10:30:09.343Z"
   },
   {
    "duration": 272,
    "start_time": "2022-01-18T10:30:38.114Z"
   },
   {
    "duration": 56,
    "start_time": "2022-01-18T10:37:15.026Z"
   },
   {
    "duration": 309,
    "start_time": "2022-01-18T10:44:24.189Z"
   },
   {
    "duration": 292,
    "start_time": "2022-01-18T10:45:59.107Z"
   },
   {
    "duration": 400,
    "start_time": "2022-01-18T10:46:15.022Z"
   },
   {
    "duration": 1446,
    "start_time": "2022-01-18T10:46:47.464Z"
   },
   {
    "duration": 422,
    "start_time": "2022-01-18T10:47:18.664Z"
   },
   {
    "duration": 534,
    "start_time": "2022-01-18T10:48:02.417Z"
   },
   {
    "duration": 2212,
    "start_time": "2022-01-18T10:48:16.510Z"
   },
   {
    "duration": 647,
    "start_time": "2022-01-18T10:51:17.621Z"
   },
   {
    "duration": 94,
    "start_time": "2022-01-18T10:51:18.270Z"
   },
   {
    "duration": 19,
    "start_time": "2022-01-18T10:51:18.367Z"
   },
   {
    "duration": 46,
    "start_time": "2022-01-18T10:51:18.388Z"
   },
   {
    "duration": 53,
    "start_time": "2022-01-18T10:51:18.436Z"
   },
   {
    "duration": 2866,
    "start_time": "2022-01-18T10:51:18.491Z"
   },
   {
    "duration": 3,
    "start_time": "2022-01-18T10:51:21.361Z"
   },
   {
    "duration": 8,
    "start_time": "2022-01-18T10:51:21.368Z"
   },
   {
    "duration": 6,
    "start_time": "2022-01-18T10:51:21.378Z"
   },
   {
    "duration": 7,
    "start_time": "2022-01-18T10:51:21.386Z"
   },
   {
    "duration": 9,
    "start_time": "2022-01-18T10:51:21.395Z"
   },
   {
    "duration": 7,
    "start_time": "2022-01-18T10:51:21.405Z"
   },
   {
    "duration": 5,
    "start_time": "2022-01-18T10:51:21.413Z"
   },
   {
    "duration": 18,
    "start_time": "2022-01-18T10:51:21.420Z"
   },
   {
    "duration": 6,
    "start_time": "2022-01-18T10:51:21.439Z"
   },
   {
    "duration": 6,
    "start_time": "2022-01-18T10:51:21.446Z"
   },
   {
    "duration": 7,
    "start_time": "2022-01-18T10:51:21.454Z"
   },
   {
    "duration": 6,
    "start_time": "2022-01-18T10:51:21.462Z"
   },
   {
    "duration": 6,
    "start_time": "2022-01-18T10:51:21.470Z"
   },
   {
    "duration": 8,
    "start_time": "2022-01-18T10:51:21.477Z"
   },
   {
    "duration": 10,
    "start_time": "2022-01-18T10:51:21.487Z"
   },
   {
    "duration": 349,
    "start_time": "2022-01-18T10:54:12.946Z"
   },
   {
    "duration": 26,
    "start_time": "2022-01-18T10:57:20.324Z"
   },
   {
    "duration": 699,
    "start_time": "2022-01-18T11:01:08.321Z"
   },
   {
    "duration": 103,
    "start_time": "2022-01-18T11:01:09.022Z"
   },
   {
    "duration": 21,
    "start_time": "2022-01-18T11:01:09.127Z"
   },
   {
    "duration": 31,
    "start_time": "2022-01-18T11:01:09.150Z"
   },
   {
    "duration": 37,
    "start_time": "2022-01-18T11:01:09.183Z"
   },
   {
    "duration": 742,
    "start_time": "2022-01-18T11:01:40.399Z"
   },
   {
    "duration": 105,
    "start_time": "2022-01-18T11:01:41.143Z"
   },
   {
    "duration": 36,
    "start_time": "2022-01-18T11:01:41.251Z"
   },
   {
    "duration": 15,
    "start_time": "2022-01-18T11:01:41.289Z"
   },
   {
    "duration": 52,
    "start_time": "2022-01-18T11:01:41.306Z"
   },
   {
    "duration": 733,
    "start_time": "2022-01-18T11:04:00.532Z"
   },
   {
    "duration": 115,
    "start_time": "2022-01-18T11:04:01.267Z"
   },
   {
    "duration": 21,
    "start_time": "2022-01-18T11:04:01.385Z"
   },
   {
    "duration": 44,
    "start_time": "2022-01-18T11:04:01.408Z"
   },
   {
    "duration": 52,
    "start_time": "2022-01-18T11:04:01.453Z"
   },
   {
    "duration": 134,
    "start_time": "2022-01-18T11:04:01.507Z"
   },
   {
    "duration": 3,
    "start_time": "2022-01-18T11:04:01.643Z"
   },
   {
    "duration": 12,
    "start_time": "2022-01-18T11:04:01.661Z"
   },
   {
    "duration": 24,
    "start_time": "2022-01-18T11:04:01.675Z"
   },
   {
    "duration": 24,
    "start_time": "2022-01-18T11:04:01.701Z"
   },
   {
    "duration": 21,
    "start_time": "2022-01-18T11:04:01.727Z"
   },
   {
    "duration": 20,
    "start_time": "2022-01-18T11:04:01.750Z"
   },
   {
    "duration": 24,
    "start_time": "2022-01-18T11:04:01.772Z"
   },
   {
    "duration": 36,
    "start_time": "2022-01-18T11:04:01.798Z"
   },
   {
    "duration": 26,
    "start_time": "2022-01-18T11:04:01.836Z"
   },
   {
    "duration": 26,
    "start_time": "2022-01-18T11:04:01.864Z"
   },
   {
    "duration": 21,
    "start_time": "2022-01-18T11:04:01.892Z"
   },
   {
    "duration": 54,
    "start_time": "2022-01-18T11:04:01.915Z"
   },
   {
    "duration": 23,
    "start_time": "2022-01-18T11:04:01.971Z"
   },
   {
    "duration": 33,
    "start_time": "2022-01-18T11:04:01.996Z"
   },
   {
    "duration": 41,
    "start_time": "2022-01-18T11:04:02.031Z"
   },
   {
    "duration": 346,
    "start_time": "2022-01-18T11:10:46.779Z"
   },
   {
    "duration": 236,
    "start_time": "2022-01-18T11:10:58.107Z"
   },
   {
    "duration": 215,
    "start_time": "2022-01-18T11:11:35.380Z"
   },
   {
    "duration": 194,
    "start_time": "2022-01-18T11:11:43.532Z"
   },
   {
    "duration": 204,
    "start_time": "2022-01-18T11:12:06.658Z"
   },
   {
    "duration": 747,
    "start_time": "2022-01-18T11:12:21.328Z"
   },
   {
    "duration": 105,
    "start_time": "2022-01-18T11:12:22.077Z"
   },
   {
    "duration": 20,
    "start_time": "2022-01-18T11:12:22.184Z"
   },
   {
    "duration": 31,
    "start_time": "2022-01-18T11:12:22.206Z"
   },
   {
    "duration": 56,
    "start_time": "2022-01-18T11:12:22.239Z"
   },
   {
    "duration": 245,
    "start_time": "2022-01-18T11:12:22.297Z"
   },
   {
    "duration": 3,
    "start_time": "2022-01-18T11:12:22.543Z"
   },
   {
    "duration": 50,
    "start_time": "2022-01-18T11:12:22.548Z"
   },
   {
    "duration": 68,
    "start_time": "2022-01-18T11:12:22.600Z"
   },
   {
    "duration": 22,
    "start_time": "2022-01-18T11:12:22.670Z"
   },
   {
    "duration": 33,
    "start_time": "2022-01-18T11:12:22.693Z"
   },
   {
    "duration": 18,
    "start_time": "2022-01-18T11:12:22.728Z"
   },
   {
    "duration": 28,
    "start_time": "2022-01-18T11:12:22.748Z"
   },
   {
    "duration": 29,
    "start_time": "2022-01-18T11:12:22.778Z"
   },
   {
    "duration": 24,
    "start_time": "2022-01-18T11:12:22.809Z"
   },
   {
    "duration": 43,
    "start_time": "2022-01-18T11:12:22.835Z"
   },
   {
    "duration": 37,
    "start_time": "2022-01-18T11:12:22.880Z"
   },
   {
    "duration": 22,
    "start_time": "2022-01-18T11:12:22.919Z"
   },
   {
    "duration": 36,
    "start_time": "2022-01-18T11:12:22.943Z"
   },
   {
    "duration": 19,
    "start_time": "2022-01-18T11:12:22.981Z"
   },
   {
    "duration": 32,
    "start_time": "2022-01-18T11:12:23.002Z"
   },
   {
    "duration": 200,
    "start_time": "2022-01-18T11:12:52.484Z"
   },
   {
    "duration": 243,
    "start_time": "2022-01-18T11:19:02.426Z"
   },
   {
    "duration": 198,
    "start_time": "2022-01-18T11:20:18.622Z"
   },
   {
    "duration": 79,
    "start_time": "2022-01-18T11:28:34.020Z"
   },
   {
    "duration": 92,
    "start_time": "2022-01-18T11:42:20.735Z"
   },
   {
    "duration": 126,
    "start_time": "2022-01-18T11:43:17.637Z"
   },
   {
    "duration": 86,
    "start_time": "2022-01-18T11:45:46.745Z"
   },
   {
    "duration": 436,
    "start_time": "2022-01-18T11:46:40.091Z"
   },
   {
    "duration": 113,
    "start_time": "2022-01-18T11:46:52.575Z"
   },
   {
    "duration": 730,
    "start_time": "2022-01-18T11:53:22.563Z"
   },
   {
    "duration": 424,
    "start_time": "2022-01-18T11:54:52.432Z"
   },
   {
    "duration": 96,
    "start_time": "2022-01-18T11:59:16.068Z"
   },
   {
    "duration": 94,
    "start_time": "2022-01-18T11:59:49.082Z"
   },
   {
    "duration": 104,
    "start_time": "2022-01-18T12:06:04.936Z"
   },
   {
    "duration": 114,
    "start_time": "2022-01-18T12:07:49.763Z"
   },
   {
    "duration": 110,
    "start_time": "2022-01-18T12:08:59.236Z"
   },
   {
    "duration": 97,
    "start_time": "2022-01-18T12:09:23.268Z"
   },
   {
    "duration": 127,
    "start_time": "2022-01-18T12:11:50.706Z"
   },
   {
    "duration": 130,
    "start_time": "2022-01-18T12:12:28.085Z"
   },
   {
    "duration": 80,
    "start_time": "2022-01-18T12:14:36.932Z"
   },
   {
    "duration": 87,
    "start_time": "2022-01-18T12:17:39.747Z"
   },
   {
    "duration": 79,
    "start_time": "2022-01-18T12:18:14.435Z"
   },
   {
    "duration": 90,
    "start_time": "2022-01-18T12:20:53.228Z"
   },
   {
    "duration": 82,
    "start_time": "2022-01-18T12:21:53.190Z"
   },
   {
    "duration": 484,
    "start_time": "2022-01-18T12:22:18.074Z"
   },
   {
    "duration": 87,
    "start_time": "2022-01-18T12:22:35.837Z"
   },
   {
    "duration": 80,
    "start_time": "2022-01-18T12:22:52.382Z"
   },
   {
    "duration": 85,
    "start_time": "2022-01-18T12:24:30.456Z"
   },
   {
    "duration": 101,
    "start_time": "2022-01-18T12:26:00.421Z"
   },
   {
    "duration": 88,
    "start_time": "2022-01-18T12:27:20.233Z"
   },
   {
    "duration": 179,
    "start_time": "2022-01-18T12:28:45.150Z"
   },
   {
    "duration": 1107,
    "start_time": "2022-01-18T12:29:05.359Z"
   },
   {
    "duration": 1142,
    "start_time": "2022-01-18T12:29:47.298Z"
   },
   {
    "duration": 1160,
    "start_time": "2022-01-18T12:31:09.433Z"
   },
   {
    "duration": 962,
    "start_time": "2022-01-18T12:31:17.824Z"
   },
   {
    "duration": 136,
    "start_time": "2022-01-18T12:31:18.789Z"
   },
   {
    "duration": 39,
    "start_time": "2022-01-18T12:31:18.928Z"
   },
   {
    "duration": 18,
    "start_time": "2022-01-18T12:31:18.969Z"
   },
   {
    "duration": 35,
    "start_time": "2022-01-18T12:31:18.989Z"
   },
   {
    "duration": 455,
    "start_time": "2022-01-18T12:31:19.026Z"
   },
   {
    "duration": -361,
    "start_time": "2022-01-18T12:31:19.845Z"
   },
   {
    "duration": -363,
    "start_time": "2022-01-18T12:31:19.848Z"
   },
   {
    "duration": -366,
    "start_time": "2022-01-18T12:31:19.852Z"
   },
   {
    "duration": -368,
    "start_time": "2022-01-18T12:31:19.855Z"
   },
   {
    "duration": -371,
    "start_time": "2022-01-18T12:31:19.859Z"
   },
   {
    "duration": -374,
    "start_time": "2022-01-18T12:31:19.863Z"
   },
   {
    "duration": -377,
    "start_time": "2022-01-18T12:31:19.867Z"
   },
   {
    "duration": -379,
    "start_time": "2022-01-18T12:31:19.871Z"
   },
   {
    "duration": -382,
    "start_time": "2022-01-18T12:31:19.875Z"
   },
   {
    "duration": -385,
    "start_time": "2022-01-18T12:31:19.879Z"
   },
   {
    "duration": -389,
    "start_time": "2022-01-18T12:31:19.884Z"
   },
   {
    "duration": -392,
    "start_time": "2022-01-18T12:31:19.888Z"
   },
   {
    "duration": -396,
    "start_time": "2022-01-18T12:31:19.893Z"
   },
   {
    "duration": -398,
    "start_time": "2022-01-18T12:31:19.896Z"
   },
   {
    "duration": -400,
    "start_time": "2022-01-18T12:31:19.899Z"
   },
   {
    "duration": 95,
    "start_time": "2022-01-18T12:34:16.422Z"
   },
   {
    "duration": 576,
    "start_time": "2022-01-18T12:36:25.576Z"
   },
   {
    "duration": 112,
    "start_time": "2022-01-18T12:36:47.534Z"
   },
   {
    "duration": 103,
    "start_time": "2022-01-18T12:38:11.996Z"
   },
   {
    "duration": 106,
    "start_time": "2022-01-18T12:41:22.359Z"
   },
   {
    "duration": 718,
    "start_time": "2022-01-18T12:41:47.242Z"
   },
   {
    "duration": 101,
    "start_time": "2022-01-18T12:41:47.963Z"
   },
   {
    "duration": 25,
    "start_time": "2022-01-18T12:41:48.067Z"
   },
   {
    "duration": 38,
    "start_time": "2022-01-18T12:41:48.094Z"
   },
   {
    "duration": 60,
    "start_time": "2022-01-18T12:41:48.134Z"
   },
   {
    "duration": 127,
    "start_time": "2022-01-18T12:41:48.196Z"
   },
   {
    "duration": 2,
    "start_time": "2022-01-18T12:41:48.325Z"
   },
   {
    "duration": 13,
    "start_time": "2022-01-18T12:41:48.329Z"
   },
   {
    "duration": 29,
    "start_time": "2022-01-18T12:41:48.344Z"
   },
   {
    "duration": 10,
    "start_time": "2022-01-18T12:41:48.376Z"
   },
   {
    "duration": 24,
    "start_time": "2022-01-18T12:41:48.387Z"
   },
   {
    "duration": 14,
    "start_time": "2022-01-18T12:41:48.413Z"
   },
   {
    "duration": 15,
    "start_time": "2022-01-18T12:41:48.429Z"
   },
   {
    "duration": 6,
    "start_time": "2022-01-18T12:41:48.445Z"
   },
   {
    "duration": 7,
    "start_time": "2022-01-18T12:41:48.453Z"
   },
   {
    "duration": 26,
    "start_time": "2022-01-18T12:41:48.461Z"
   },
   {
    "duration": 10,
    "start_time": "2022-01-18T12:41:48.489Z"
   },
   {
    "duration": 31,
    "start_time": "2022-01-18T12:41:48.500Z"
   },
   {
    "duration": 9,
    "start_time": "2022-01-18T12:41:48.533Z"
   },
   {
    "duration": 22,
    "start_time": "2022-01-18T12:41:48.544Z"
   },
   {
    "duration": 16,
    "start_time": "2022-01-18T12:41:48.568Z"
   },
   {
    "duration": 660,
    "start_time": "2022-01-18T12:42:17.791Z"
   },
   {
    "duration": 92,
    "start_time": "2022-01-18T12:42:18.453Z"
   },
   {
    "duration": 19,
    "start_time": "2022-01-18T12:42:18.548Z"
   },
   {
    "duration": 18,
    "start_time": "2022-01-18T12:42:18.569Z"
   },
   {
    "duration": 32,
    "start_time": "2022-01-18T12:42:18.589Z"
   },
   {
    "duration": 125,
    "start_time": "2022-01-18T12:42:18.623Z"
   },
   {
    "duration": 3,
    "start_time": "2022-01-18T12:42:18.760Z"
   },
   {
    "duration": 4,
    "start_time": "2022-01-18T12:42:18.765Z"
   },
   {
    "duration": 5,
    "start_time": "2022-01-18T12:42:18.771Z"
   },
   {
    "duration": 4,
    "start_time": "2022-01-18T12:42:18.778Z"
   },
   {
    "duration": 6,
    "start_time": "2022-01-18T12:42:18.784Z"
   },
   {
    "duration": 4,
    "start_time": "2022-01-18T12:42:18.792Z"
   },
   {
    "duration": 8,
    "start_time": "2022-01-18T12:42:18.797Z"
   },
   {
    "duration": 5,
    "start_time": "2022-01-18T12:42:18.807Z"
   },
   {
    "duration": 5,
    "start_time": "2022-01-18T12:42:18.814Z"
   },
   {
    "duration": 4,
    "start_time": "2022-01-18T12:42:18.821Z"
   },
   {
    "duration": 6,
    "start_time": "2022-01-18T12:42:18.827Z"
   },
   {
    "duration": 6,
    "start_time": "2022-01-18T12:42:18.834Z"
   },
   {
    "duration": 9,
    "start_time": "2022-01-18T12:42:18.841Z"
   },
   {
    "duration": 2,
    "start_time": "2022-01-18T12:42:18.861Z"
   },
   {
    "duration": 4,
    "start_time": "2022-01-18T12:42:18.865Z"
   },
   {
    "duration": 385,
    "start_time": "2022-01-18T13:09:40.537Z"
   },
   {
    "duration": 14,
    "start_time": "2022-01-18T13:11:15.882Z"
   },
   {
    "duration": 14,
    "start_time": "2022-01-18T13:11:31.705Z"
   },
   {
    "duration": 13,
    "start_time": "2022-01-18T13:12:34.283Z"
   },
   {
    "duration": 17,
    "start_time": "2022-01-18T13:12:55.720Z"
   },
   {
    "duration": 14,
    "start_time": "2022-01-18T13:13:11.742Z"
   },
   {
    "duration": 13,
    "start_time": "2022-01-18T13:13:33.451Z"
   },
   {
    "duration": 13,
    "start_time": "2022-01-18T13:13:58.286Z"
   },
   {
    "duration": 24,
    "start_time": "2022-01-18T13:17:35.734Z"
   },
   {
    "duration": 22,
    "start_time": "2022-01-18T13:20:32.458Z"
   },
   {
    "duration": 21,
    "start_time": "2022-01-18T13:26:57.810Z"
   },
   {
    "duration": 27,
    "start_time": "2022-01-18T13:41:08.810Z"
   },
   {
    "duration": 20,
    "start_time": "2022-01-18T13:41:24.777Z"
   },
   {
    "duration": 15,
    "start_time": "2022-01-18T13:43:10.552Z"
   },
   {
    "duration": 25,
    "start_time": "2022-01-18T13:44:03.192Z"
   },
   {
    "duration": 698,
    "start_time": "2022-01-18T18:12:41.660Z"
   },
   {
    "duration": 147,
    "start_time": "2022-01-18T18:12:42.360Z"
   },
   {
    "duration": 38,
    "start_time": "2022-01-18T18:12:42.511Z"
   },
   {
    "duration": 51,
    "start_time": "2022-01-18T18:12:42.553Z"
   },
   {
    "duration": 36,
    "start_time": "2022-01-18T18:12:42.609Z"
   },
   {
    "duration": 63,
    "start_time": "2022-01-18T18:12:42.648Z"
   },
   {
    "duration": 157,
    "start_time": "2022-01-18T18:12:42.714Z"
   },
   {
    "duration": 3,
    "start_time": "2022-01-18T18:12:42.874Z"
   },
   {
    "duration": 6,
    "start_time": "2022-01-18T18:12:42.879Z"
   },
   {
    "duration": 2,
    "start_time": "2022-01-18T18:12:42.899Z"
   },
   {
    "duration": 5,
    "start_time": "2022-01-18T18:12:42.903Z"
   },
   {
    "duration": 9,
    "start_time": "2022-01-18T18:12:42.910Z"
   },
   {
    "duration": 7,
    "start_time": "2022-01-18T18:12:42.921Z"
   },
   {
    "duration": 5,
    "start_time": "2022-01-18T18:12:42.930Z"
   },
   {
    "duration": 6,
    "start_time": "2022-01-18T18:12:42.937Z"
   },
   {
    "duration": 6,
    "start_time": "2022-01-18T18:12:42.945Z"
   },
   {
    "duration": 8,
    "start_time": "2022-01-18T18:12:42.953Z"
   },
   {
    "duration": 9,
    "start_time": "2022-01-18T18:12:42.963Z"
   },
   {
    "duration": 25,
    "start_time": "2022-01-18T18:12:42.974Z"
   },
   {
    "duration": 6,
    "start_time": "2022-01-18T18:12:43.001Z"
   },
   {
    "duration": 8,
    "start_time": "2022-01-18T18:12:43.009Z"
   },
   {
    "duration": 6,
    "start_time": "2022-01-18T18:12:43.019Z"
   },
   {
    "duration": 680,
    "start_time": "2022-01-18T18:13:49.202Z"
   },
   {
    "duration": 93,
    "start_time": "2022-01-18T18:13:49.884Z"
   },
   {
    "duration": 20,
    "start_time": "2022-01-18T18:13:49.979Z"
   },
   {
    "duration": 23,
    "start_time": "2022-01-18T18:13:50.003Z"
   },
   {
    "duration": 40,
    "start_time": "2022-01-18T18:13:50.029Z"
   },
   {
    "duration": 57,
    "start_time": "2022-01-18T18:13:50.071Z"
   },
   {
    "duration": 139,
    "start_time": "2022-01-18T18:13:50.131Z"
   },
   {
    "duration": 2,
    "start_time": "2022-01-18T18:13:50.273Z"
   },
   {
    "duration": 19,
    "start_time": "2022-01-18T18:13:50.277Z"
   },
   {
    "duration": 35,
    "start_time": "2022-01-18T18:13:50.299Z"
   },
   {
    "duration": 21,
    "start_time": "2022-01-18T18:13:50.336Z"
   },
   {
    "duration": 37,
    "start_time": "2022-01-18T18:13:50.359Z"
   },
   {
    "duration": 43,
    "start_time": "2022-01-18T18:13:50.398Z"
   },
   {
    "duration": 17,
    "start_time": "2022-01-18T18:13:50.442Z"
   },
   {
    "duration": 11,
    "start_time": "2022-01-18T18:13:50.461Z"
   },
   {
    "duration": 21,
    "start_time": "2022-01-18T18:13:50.474Z"
   },
   {
    "duration": 23,
    "start_time": "2022-01-18T18:13:50.497Z"
   },
   {
    "duration": 35,
    "start_time": "2022-01-18T18:13:50.522Z"
   },
   {
    "duration": 20,
    "start_time": "2022-01-18T18:13:50.559Z"
   },
   {
    "duration": 8,
    "start_time": "2022-01-18T18:13:50.581Z"
   },
   {
    "duration": 30,
    "start_time": "2022-01-18T18:13:50.590Z"
   },
   {
    "duration": 23,
    "start_time": "2022-01-18T18:13:50.621Z"
   },
   {
    "duration": 703,
    "start_time": "2022-01-18T18:16:01.377Z"
   },
   {
    "duration": 92,
    "start_time": "2022-01-18T18:16:02.082Z"
   },
   {
    "duration": 26,
    "start_time": "2022-01-18T18:16:02.176Z"
   },
   {
    "duration": 19,
    "start_time": "2022-01-18T18:16:02.205Z"
   },
   {
    "duration": 42,
    "start_time": "2022-01-18T18:16:02.225Z"
   },
   {
    "duration": 50,
    "start_time": "2022-01-18T18:16:02.269Z"
   },
   {
    "duration": 99,
    "start_time": "2022-01-18T18:16:02.321Z"
   },
   {
    "duration": 2,
    "start_time": "2022-01-18T18:16:02.423Z"
   },
   {
    "duration": 5,
    "start_time": "2022-01-18T18:16:02.427Z"
   },
   {
    "duration": 7,
    "start_time": "2022-01-18T18:16:02.433Z"
   },
   {
    "duration": 8,
    "start_time": "2022-01-18T18:16:02.441Z"
   },
   {
    "duration": 10,
    "start_time": "2022-01-18T18:16:02.451Z"
   },
   {
    "duration": 5,
    "start_time": "2022-01-18T18:16:02.463Z"
   },
   {
    "duration": 5,
    "start_time": "2022-01-18T18:16:02.470Z"
   },
   {
    "duration": 5,
    "start_time": "2022-01-18T18:16:02.477Z"
   },
   {
    "duration": 2,
    "start_time": "2022-01-18T18:16:02.499Z"
   },
   {
    "duration": 7,
    "start_time": "2022-01-18T18:16:02.503Z"
   },
   {
    "duration": 6,
    "start_time": "2022-01-18T18:16:02.512Z"
   },
   {
    "duration": 5,
    "start_time": "2022-01-18T18:16:02.520Z"
   },
   {
    "duration": 6,
    "start_time": "2022-01-18T18:16:02.527Z"
   },
   {
    "duration": 4,
    "start_time": "2022-01-18T18:16:02.535Z"
   },
   {
    "duration": 5,
    "start_time": "2022-01-18T18:16:02.541Z"
   },
   {
    "duration": 1930,
    "start_time": "2022-01-18T18:17:02.893Z"
   },
   {
    "duration": 83,
    "start_time": "2022-01-18T18:17:46.176Z"
   },
   {
    "duration": 709,
    "start_time": "2022-01-18T18:18:08.590Z"
   },
   {
    "duration": 123,
    "start_time": "2022-01-18T18:18:09.302Z"
   },
   {
    "duration": 20,
    "start_time": "2022-01-18T18:18:09.428Z"
   },
   {
    "duration": 20,
    "start_time": "2022-01-18T18:18:09.451Z"
   },
   {
    "duration": 80,
    "start_time": "2022-01-18T18:18:09.473Z"
   },
   {
    "duration": 44,
    "start_time": "2022-01-18T18:18:09.555Z"
   },
   {
    "duration": 129,
    "start_time": "2022-01-18T18:18:09.601Z"
   },
   {
    "duration": 2,
    "start_time": "2022-01-18T18:18:09.734Z"
   },
   {
    "duration": 16,
    "start_time": "2022-01-18T18:18:09.739Z"
   },
   {
    "duration": 6,
    "start_time": "2022-01-18T18:18:09.757Z"
   },
   {
    "duration": 13,
    "start_time": "2022-01-18T18:18:09.765Z"
   },
   {
    "duration": 20,
    "start_time": "2022-01-18T18:18:09.780Z"
   },
   {
    "duration": 8,
    "start_time": "2022-01-18T18:18:09.803Z"
   },
   {
    "duration": 7,
    "start_time": "2022-01-18T18:18:09.813Z"
   },
   {
    "duration": 11,
    "start_time": "2022-01-18T18:18:09.821Z"
   },
   {
    "duration": 6,
    "start_time": "2022-01-18T18:18:09.834Z"
   },
   {
    "duration": 7,
    "start_time": "2022-01-18T18:18:09.842Z"
   },
   {
    "duration": 6,
    "start_time": "2022-01-18T18:18:09.851Z"
   },
   {
    "duration": 7,
    "start_time": "2022-01-18T18:18:09.859Z"
   },
   {
    "duration": 7,
    "start_time": "2022-01-18T18:18:09.868Z"
   },
   {
    "duration": 8,
    "start_time": "2022-01-18T18:18:09.877Z"
   },
   {
    "duration": 2,
    "start_time": "2022-01-18T18:18:09.898Z"
   },
   {
    "duration": 89,
    "start_time": "2022-01-18T18:18:46.049Z"
   },
   {
    "duration": 81,
    "start_time": "2022-01-18T18:20:41.111Z"
   },
   {
    "duration": 86,
    "start_time": "2022-01-18T18:21:01.288Z"
   },
   {
    "duration": 93,
    "start_time": "2022-01-18T18:29:38.683Z"
   },
   {
    "duration": 765,
    "start_time": "2022-01-18T18:29:55.063Z"
   },
   {
    "duration": 683,
    "start_time": "2022-01-18T18:30:22.993Z"
   },
   {
    "duration": 712,
    "start_time": "2022-01-18T18:30:23.693Z"
   },
   {
    "duration": 20,
    "start_time": "2022-01-18T18:30:24.409Z"
   },
   {
    "duration": 17,
    "start_time": "2022-01-18T18:30:24.432Z"
   },
   {
    "duration": 59,
    "start_time": "2022-01-18T18:30:24.451Z"
   },
   {
    "duration": 33,
    "start_time": "2022-01-18T18:30:24.512Z"
   },
   {
    "duration": 855,
    "start_time": "2022-01-18T18:30:24.547Z"
   },
   {
    "duration": 3,
    "start_time": "2022-01-18T18:30:25.404Z"
   },
   {
    "duration": 6,
    "start_time": "2022-01-18T18:30:25.409Z"
   },
   {
    "duration": 5,
    "start_time": "2022-01-18T18:30:25.416Z"
   },
   {
    "duration": 7,
    "start_time": "2022-01-18T18:30:25.423Z"
   },
   {
    "duration": 5,
    "start_time": "2022-01-18T18:30:25.432Z"
   },
   {
    "duration": 8,
    "start_time": "2022-01-18T18:30:25.438Z"
   },
   {
    "duration": 4,
    "start_time": "2022-01-18T18:30:25.448Z"
   },
   {
    "duration": 5,
    "start_time": "2022-01-18T18:30:25.454Z"
   },
   {
    "duration": 6,
    "start_time": "2022-01-18T18:30:25.460Z"
   },
   {
    "duration": 4,
    "start_time": "2022-01-18T18:30:25.468Z"
   },
   {
    "duration": 6,
    "start_time": "2022-01-18T18:30:25.474Z"
   },
   {
    "duration": 7,
    "start_time": "2022-01-18T18:30:25.499Z"
   },
   {
    "duration": 6,
    "start_time": "2022-01-18T18:30:25.507Z"
   },
   {
    "duration": 5,
    "start_time": "2022-01-18T18:30:25.515Z"
   },
   {
    "duration": 5,
    "start_time": "2022-01-18T18:30:25.522Z"
   },
   {
    "duration": 687,
    "start_time": "2022-01-18T18:31:56.400Z"
   },
   {
    "duration": 91,
    "start_time": "2022-01-18T18:31:57.089Z"
   },
   {
    "duration": 27,
    "start_time": "2022-01-18T18:31:57.183Z"
   },
   {
    "duration": 20,
    "start_time": "2022-01-18T18:31:57.212Z"
   },
   {
    "duration": 44,
    "start_time": "2022-01-18T18:31:57.233Z"
   },
   {
    "duration": 46,
    "start_time": "2022-01-18T18:31:57.279Z"
   },
   {
    "duration": 411,
    "start_time": "2022-01-18T18:31:57.326Z"
   },
   {
    "duration": -286,
    "start_time": "2022-01-18T18:31:58.025Z"
   },
   {
    "duration": -291,
    "start_time": "2022-01-18T18:31:58.031Z"
   },
   {
    "duration": -293,
    "start_time": "2022-01-18T18:31:58.034Z"
   },
   {
    "duration": -296,
    "start_time": "2022-01-18T18:31:58.038Z"
   },
   {
    "duration": -299,
    "start_time": "2022-01-18T18:31:58.042Z"
   },
   {
    "duration": -303,
    "start_time": "2022-01-18T18:31:58.047Z"
   },
   {
    "duration": -305,
    "start_time": "2022-01-18T18:31:58.050Z"
   },
   {
    "duration": -308,
    "start_time": "2022-01-18T18:31:58.054Z"
   },
   {
    "duration": -312,
    "start_time": "2022-01-18T18:31:58.059Z"
   },
   {
    "duration": -315,
    "start_time": "2022-01-18T18:31:58.063Z"
   },
   {
    "duration": -318,
    "start_time": "2022-01-18T18:31:58.067Z"
   },
   {
    "duration": -321,
    "start_time": "2022-01-18T18:31:58.070Z"
   },
   {
    "duration": -334,
    "start_time": "2022-01-18T18:31:58.084Z"
   },
   {
    "duration": -339,
    "start_time": "2022-01-18T18:31:58.090Z"
   },
   {
    "duration": -343,
    "start_time": "2022-01-18T18:31:58.095Z"
   },
   {
    "duration": 667,
    "start_time": "2022-01-18T18:34:28.948Z"
   },
   {
    "duration": 93,
    "start_time": "2022-01-18T18:34:29.617Z"
   },
   {
    "duration": 22,
    "start_time": "2022-01-18T18:34:29.712Z"
   },
   {
    "duration": 17,
    "start_time": "2022-01-18T18:34:29.736Z"
   },
   {
    "duration": 57,
    "start_time": "2022-01-18T18:34:29.755Z"
   },
   {
    "duration": 29,
    "start_time": "2022-01-18T18:34:29.814Z"
   },
   {
    "duration": 446,
    "start_time": "2022-01-18T18:34:29.845Z"
   },
   {
    "duration": -296,
    "start_time": "2022-01-18T18:34:30.590Z"
   },
   {
    "duration": -300,
    "start_time": "2022-01-18T18:34:30.595Z"
   },
   {
    "duration": -304,
    "start_time": "2022-01-18T18:34:30.600Z"
   },
   {
    "duration": -307,
    "start_time": "2022-01-18T18:34:30.604Z"
   },
   {
    "duration": -310,
    "start_time": "2022-01-18T18:34:30.608Z"
   },
   {
    "duration": -313,
    "start_time": "2022-01-18T18:34:30.612Z"
   },
   {
    "duration": -315,
    "start_time": "2022-01-18T18:34:30.615Z"
   },
   {
    "duration": -317,
    "start_time": "2022-01-18T18:34:30.618Z"
   },
   {
    "duration": -326,
    "start_time": "2022-01-18T18:34:30.628Z"
   },
   {
    "duration": -329,
    "start_time": "2022-01-18T18:34:30.632Z"
   },
   {
    "duration": -331,
    "start_time": "2022-01-18T18:34:30.635Z"
   },
   {
    "duration": -333,
    "start_time": "2022-01-18T18:34:30.638Z"
   },
   {
    "duration": -336,
    "start_time": "2022-01-18T18:34:30.642Z"
   },
   {
    "duration": -338,
    "start_time": "2022-01-18T18:34:30.645Z"
   },
   {
    "duration": -340,
    "start_time": "2022-01-18T18:34:30.648Z"
   },
   {
    "duration": 650,
    "start_time": "2022-01-18T18:36:35.321Z"
   },
   {
    "duration": 90,
    "start_time": "2022-01-18T18:36:35.973Z"
   },
   {
    "duration": 19,
    "start_time": "2022-01-18T18:36:36.065Z"
   },
   {
    "duration": 23,
    "start_time": "2022-01-18T18:36:36.086Z"
   },
   {
    "duration": 32,
    "start_time": "2022-01-18T18:36:36.111Z"
   },
   {
    "duration": 28,
    "start_time": "2022-01-18T18:36:36.145Z"
   },
   {
    "duration": 610,
    "start_time": "2022-01-18T18:36:36.175Z"
   },
   {
    "duration": -306,
    "start_time": "2022-01-18T18:36:37.094Z"
   },
   {
    "duration": -309,
    "start_time": "2022-01-18T18:36:37.098Z"
   },
   {
    "duration": -310,
    "start_time": "2022-01-18T18:36:37.101Z"
   },
   {
    "duration": -312,
    "start_time": "2022-01-18T18:36:37.104Z"
   },
   {
    "duration": -313,
    "start_time": "2022-01-18T18:36:37.107Z"
   },
   {
    "duration": -315,
    "start_time": "2022-01-18T18:36:37.110Z"
   },
   {
    "duration": -316,
    "start_time": "2022-01-18T18:36:37.113Z"
   },
   {
    "duration": -384,
    "start_time": "2022-01-18T18:36:37.182Z"
   },
   {
    "duration": -395,
    "start_time": "2022-01-18T18:36:37.195Z"
   },
   {
    "duration": -398,
    "start_time": "2022-01-18T18:36:37.199Z"
   },
   {
    "duration": -399,
    "start_time": "2022-01-18T18:36:37.202Z"
   },
   {
    "duration": -402,
    "start_time": "2022-01-18T18:36:37.206Z"
   },
   {
    "duration": -403,
    "start_time": "2022-01-18T18:36:37.209Z"
   },
   {
    "duration": -406,
    "start_time": "2022-01-18T18:36:37.213Z"
   },
   {
    "duration": -407,
    "start_time": "2022-01-18T18:36:37.216Z"
   },
   {
    "duration": 617,
    "start_time": "2022-01-18T18:37:19.452Z"
   },
   {
    "duration": 86,
    "start_time": "2022-01-18T18:37:20.070Z"
   },
   {
    "duration": 19,
    "start_time": "2022-01-18T18:37:20.159Z"
   },
   {
    "duration": 31,
    "start_time": "2022-01-18T18:37:20.179Z"
   },
   {
    "duration": 56,
    "start_time": "2022-01-18T18:37:20.212Z"
   },
   {
    "duration": 28,
    "start_time": "2022-01-18T18:37:20.270Z"
   },
   {
    "duration": 468,
    "start_time": "2022-01-18T18:37:20.300Z"
   },
   {
    "duration": -289,
    "start_time": "2022-01-18T18:37:21.059Z"
   },
   {
    "duration": -291,
    "start_time": "2022-01-18T18:37:21.062Z"
   },
   {
    "duration": -294,
    "start_time": "2022-01-18T18:37:21.066Z"
   },
   {
    "duration": -296,
    "start_time": "2022-01-18T18:37:21.069Z"
   },
   {
    "duration": -299,
    "start_time": "2022-01-18T18:37:21.073Z"
   },
   {
    "duration": -301,
    "start_time": "2022-01-18T18:37:21.076Z"
   },
   {
    "duration": -303,
    "start_time": "2022-01-18T18:37:21.079Z"
   },
   {
    "duration": -311,
    "start_time": "2022-01-18T18:37:21.088Z"
   },
   {
    "duration": -315,
    "start_time": "2022-01-18T18:37:21.093Z"
   },
   {
    "duration": -316,
    "start_time": "2022-01-18T18:37:21.095Z"
   },
   {
    "duration": -320,
    "start_time": "2022-01-18T18:37:21.100Z"
   },
   {
    "duration": -322,
    "start_time": "2022-01-18T18:37:21.103Z"
   },
   {
    "duration": -323,
    "start_time": "2022-01-18T18:37:21.106Z"
   },
   {
    "duration": -326,
    "start_time": "2022-01-18T18:37:21.110Z"
   },
   {
    "duration": -328,
    "start_time": "2022-01-18T18:37:21.113Z"
   },
   {
    "duration": 713,
    "start_time": "2022-01-18T18:38:02.589Z"
   },
   {
    "duration": 93,
    "start_time": "2022-01-18T18:38:03.304Z"
   },
   {
    "duration": 20,
    "start_time": "2022-01-18T18:38:03.399Z"
   },
   {
    "duration": 33,
    "start_time": "2022-01-18T18:38:03.420Z"
   },
   {
    "duration": 52,
    "start_time": "2022-01-18T18:38:03.455Z"
   },
   {
    "duration": 30,
    "start_time": "2022-01-18T18:38:03.508Z"
   },
   {
    "duration": 113,
    "start_time": "2022-01-18T18:38:03.540Z"
   },
   {
    "duration": 2,
    "start_time": "2022-01-18T18:38:03.656Z"
   },
   {
    "duration": 18,
    "start_time": "2022-01-18T18:38:03.659Z"
   },
   {
    "duration": 15,
    "start_time": "2022-01-18T18:38:03.678Z"
   },
   {
    "duration": 22,
    "start_time": "2022-01-18T18:38:03.694Z"
   },
   {
    "duration": 11,
    "start_time": "2022-01-18T18:38:03.717Z"
   },
   {
    "duration": 22,
    "start_time": "2022-01-18T18:38:03.729Z"
   },
   {
    "duration": 13,
    "start_time": "2022-01-18T18:38:03.753Z"
   },
   {
    "duration": 20,
    "start_time": "2022-01-18T18:38:03.768Z"
   },
   {
    "duration": 24,
    "start_time": "2022-01-18T18:38:03.790Z"
   },
   {
    "duration": 19,
    "start_time": "2022-01-18T18:38:03.815Z"
   },
   {
    "duration": 19,
    "start_time": "2022-01-18T18:38:03.835Z"
   },
   {
    "duration": 24,
    "start_time": "2022-01-18T18:38:03.856Z"
   },
   {
    "duration": 13,
    "start_time": "2022-01-18T18:38:03.881Z"
   },
   {
    "duration": 28,
    "start_time": "2022-01-18T18:38:03.895Z"
   },
   {
    "duration": 18,
    "start_time": "2022-01-18T18:38:03.924Z"
   },
   {
    "duration": 718,
    "start_time": "2022-01-18T18:58:49.515Z"
   },
   {
    "duration": 97,
    "start_time": "2022-01-18T18:58:50.235Z"
   },
   {
    "duration": 19,
    "start_time": "2022-01-18T18:58:50.334Z"
   },
   {
    "duration": 22,
    "start_time": "2022-01-18T18:58:50.355Z"
   },
   {
    "duration": 54,
    "start_time": "2022-01-18T18:58:50.379Z"
   },
   {
    "duration": 31,
    "start_time": "2022-01-18T18:58:50.435Z"
   },
   {
    "duration": 142,
    "start_time": "2022-01-18T18:58:50.468Z"
   },
   {
    "duration": 3,
    "start_time": "2022-01-18T18:58:50.612Z"
   },
   {
    "duration": 7,
    "start_time": "2022-01-18T18:58:50.618Z"
   },
   {
    "duration": 5,
    "start_time": "2022-01-18T18:58:50.627Z"
   },
   {
    "duration": 6,
    "start_time": "2022-01-18T18:58:50.634Z"
   },
   {
    "duration": 5,
    "start_time": "2022-01-18T18:58:50.641Z"
   },
   {
    "duration": 4,
    "start_time": "2022-01-18T18:58:50.648Z"
   },
   {
    "duration": 5,
    "start_time": "2022-01-18T18:58:50.654Z"
   },
   {
    "duration": 5,
    "start_time": "2022-01-18T18:58:50.661Z"
   },
   {
    "duration": 5,
    "start_time": "2022-01-18T18:58:50.668Z"
   },
   {
    "duration": 25,
    "start_time": "2022-01-18T18:58:50.675Z"
   },
   {
    "duration": 10,
    "start_time": "2022-01-18T18:58:50.702Z"
   },
   {
    "duration": 6,
    "start_time": "2022-01-18T18:58:50.715Z"
   },
   {
    "duration": 6,
    "start_time": "2022-01-18T18:58:50.723Z"
   },
   {
    "duration": 5,
    "start_time": "2022-01-18T18:58:50.731Z"
   },
   {
    "duration": 5,
    "start_time": "2022-01-18T18:58:50.738Z"
   },
   {
    "duration": 93,
    "start_time": "2022-01-18T18:59:14.444Z"
   },
   {
    "duration": 82,
    "start_time": "2022-01-18T19:04:33.373Z"
   },
   {
    "duration": 87,
    "start_time": "2022-01-18T19:04:49.555Z"
   },
   {
    "duration": 87,
    "start_time": "2022-01-18T19:05:13.244Z"
   },
   {
    "duration": 410,
    "start_time": "2022-01-18T19:05:49.568Z"
   },
   {
    "duration": 517,
    "start_time": "2022-01-18T19:06:08.845Z"
   },
   {
    "duration": 494,
    "start_time": "2022-01-18T19:06:33.873Z"
   },
   {
    "duration": 42253,
    "start_time": "2022-01-18T19:06:44.488Z"
   },
   {
    "duration": 86,
    "start_time": "2022-01-18T19:11:37.509Z"
   },
   {
    "duration": 713,
    "start_time": "2022-01-18T19:12:52.421Z"
   },
   {
    "duration": 93,
    "start_time": "2022-01-18T19:12:53.136Z"
   },
   {
    "duration": 21,
    "start_time": "2022-01-18T19:12:53.231Z"
   },
   {
    "duration": 20,
    "start_time": "2022-01-18T19:12:53.253Z"
   },
   {
    "duration": 50,
    "start_time": "2022-01-18T19:12:53.275Z"
   },
   {
    "duration": 29,
    "start_time": "2022-01-18T19:12:53.327Z"
   },
   {
    "duration": 431,
    "start_time": "2022-01-18T19:12:53.357Z"
   },
   {
    "duration": -279,
    "start_time": "2022-01-18T19:12:54.070Z"
   },
   {
    "duration": -283,
    "start_time": "2022-01-18T19:12:54.075Z"
   },
   {
    "duration": -287,
    "start_time": "2022-01-18T19:12:54.079Z"
   },
   {
    "duration": -366,
    "start_time": "2022-01-18T19:12:54.160Z"
   },
   {
    "duration": -369,
    "start_time": "2022-01-18T19:12:54.164Z"
   },
   {
    "duration": -372,
    "start_time": "2022-01-18T19:12:54.168Z"
   },
   {
    "duration": -375,
    "start_time": "2022-01-18T19:12:54.172Z"
   },
   {
    "duration": -378,
    "start_time": "2022-01-18T19:12:54.176Z"
   },
   {
    "duration": -380,
    "start_time": "2022-01-18T19:12:54.179Z"
   },
   {
    "duration": -384,
    "start_time": "2022-01-18T19:12:54.184Z"
   },
   {
    "duration": -385,
    "start_time": "2022-01-18T19:12:54.187Z"
   },
   {
    "duration": -400,
    "start_time": "2022-01-18T19:12:54.203Z"
   },
   {
    "duration": -403,
    "start_time": "2022-01-18T19:12:54.207Z"
   },
   {
    "duration": -407,
    "start_time": "2022-01-18T19:12:54.212Z"
   },
   {
    "duration": -468,
    "start_time": "2022-01-18T19:12:54.274Z"
   },
   {
    "duration": 85,
    "start_time": "2022-01-18T19:13:35.970Z"
   },
   {
    "duration": 94,
    "start_time": "2022-01-18T19:13:44.363Z"
   },
   {
    "duration": 310,
    "start_time": "2022-01-18T19:14:04.583Z"
   },
   {
    "duration": 664,
    "start_time": "2022-01-18T19:14:35.800Z"
   },
   {
    "duration": 91,
    "start_time": "2022-01-18T19:14:36.465Z"
   },
   {
    "duration": 20,
    "start_time": "2022-01-18T19:14:36.559Z"
   },
   {
    "duration": 25,
    "start_time": "2022-01-18T19:14:36.581Z"
   },
   {
    "duration": 33,
    "start_time": "2022-01-18T19:14:36.608Z"
   },
   {
    "duration": 28,
    "start_time": "2022-01-18T19:14:36.642Z"
   },
   {
    "duration": 345,
    "start_time": "2022-01-18T19:14:36.672Z"
   },
   {
    "duration": 3,
    "start_time": "2022-01-18T19:14:37.019Z"
   },
   {
    "duration": 6,
    "start_time": "2022-01-18T19:14:37.024Z"
   },
   {
    "duration": 5,
    "start_time": "2022-01-18T19:14:37.031Z"
   },
   {
    "duration": 5,
    "start_time": "2022-01-18T19:14:37.037Z"
   },
   {
    "duration": 5,
    "start_time": "2022-01-18T19:14:37.044Z"
   },
   {
    "duration": 6,
    "start_time": "2022-01-18T19:14:37.050Z"
   },
   {
    "duration": 7,
    "start_time": "2022-01-18T19:14:37.058Z"
   },
   {
    "duration": 7,
    "start_time": "2022-01-18T19:14:37.067Z"
   },
   {
    "duration": 5,
    "start_time": "2022-01-18T19:14:37.075Z"
   },
   {
    "duration": 2,
    "start_time": "2022-01-18T19:14:37.099Z"
   },
   {
    "duration": 6,
    "start_time": "2022-01-18T19:14:37.104Z"
   },
   {
    "duration": 7,
    "start_time": "2022-01-18T19:14:37.112Z"
   },
   {
    "duration": 7,
    "start_time": "2022-01-18T19:14:37.121Z"
   },
   {
    "duration": 8,
    "start_time": "2022-01-18T19:14:37.129Z"
   },
   {
    "duration": 15,
    "start_time": "2022-01-18T19:14:37.139Z"
   },
   {
    "duration": 108,
    "start_time": "2022-01-18T19:17:57.942Z"
   },
   {
    "duration": 792,
    "start_time": "2022-01-18T19:18:33.041Z"
   },
   {
    "duration": 109,
    "start_time": "2022-01-18T19:18:47.417Z"
   },
   {
    "duration": 111,
    "start_time": "2022-01-18T19:21:45.904Z"
   },
   {
    "duration": 91,
    "start_time": "2022-01-18T19:22:24.210Z"
   },
   {
    "duration": 682,
    "start_time": "2022-01-18T19:22:54.581Z"
   },
   {
    "duration": 100,
    "start_time": "2022-01-18T19:22:55.265Z"
   },
   {
    "duration": 19,
    "start_time": "2022-01-18T19:22:55.369Z"
   },
   {
    "duration": 26,
    "start_time": "2022-01-18T19:22:55.390Z"
   },
   {
    "duration": 34,
    "start_time": "2022-01-18T19:22:55.418Z"
   },
   {
    "duration": 53,
    "start_time": "2022-01-18T19:22:55.454Z"
   },
   {
    "duration": 123,
    "start_time": "2022-01-18T19:22:55.510Z"
   },
   {
    "duration": 2,
    "start_time": "2022-01-18T19:22:55.635Z"
   },
   {
    "duration": 5,
    "start_time": "2022-01-18T19:22:55.639Z"
   },
   {
    "duration": 5,
    "start_time": "2022-01-18T19:22:55.645Z"
   },
   {
    "duration": 5,
    "start_time": "2022-01-18T19:22:55.651Z"
   },
   {
    "duration": 5,
    "start_time": "2022-01-18T19:22:55.657Z"
   },
   {
    "duration": 6,
    "start_time": "2022-01-18T19:22:55.663Z"
   },
   {
    "duration": 4,
    "start_time": "2022-01-18T19:22:55.671Z"
   },
   {
    "duration": 22,
    "start_time": "2022-01-18T19:22:55.677Z"
   },
   {
    "duration": 11,
    "start_time": "2022-01-18T19:22:55.702Z"
   },
   {
    "duration": 4,
    "start_time": "2022-01-18T19:22:55.715Z"
   },
   {
    "duration": 6,
    "start_time": "2022-01-18T19:22:55.720Z"
   },
   {
    "duration": 6,
    "start_time": "2022-01-18T19:22:55.728Z"
   },
   {
    "duration": 5,
    "start_time": "2022-01-18T19:22:55.735Z"
   },
   {
    "duration": 8,
    "start_time": "2022-01-18T19:22:55.741Z"
   },
   {
    "duration": 5,
    "start_time": "2022-01-18T19:22:55.751Z"
   },
   {
    "duration": 664,
    "start_time": "2022-01-18T19:23:35.444Z"
   },
   {
    "duration": 92,
    "start_time": "2022-01-18T19:23:36.110Z"
   },
   {
    "duration": 24,
    "start_time": "2022-01-18T19:23:36.204Z"
   },
   {
    "duration": 19,
    "start_time": "2022-01-18T19:23:36.230Z"
   },
   {
    "duration": 49,
    "start_time": "2022-01-18T19:23:36.250Z"
   },
   {
    "duration": 33,
    "start_time": "2022-01-18T19:23:36.301Z"
   },
   {
    "duration": 123,
    "start_time": "2022-01-18T19:23:36.335Z"
   },
   {
    "duration": 2,
    "start_time": "2022-01-18T19:23:36.460Z"
   },
   {
    "duration": 7,
    "start_time": "2022-01-18T19:23:36.464Z"
   },
   {
    "duration": 5,
    "start_time": "2022-01-18T19:23:36.472Z"
   },
   {
    "duration": 8,
    "start_time": "2022-01-18T19:23:36.478Z"
   },
   {
    "duration": 3,
    "start_time": "2022-01-18T19:23:36.499Z"
   },
   {
    "duration": 7,
    "start_time": "2022-01-18T19:23:36.504Z"
   },
   {
    "duration": 11,
    "start_time": "2022-01-18T19:23:36.513Z"
   },
   {
    "duration": 6,
    "start_time": "2022-01-18T19:23:36.526Z"
   },
   {
    "duration": 8,
    "start_time": "2022-01-18T19:23:36.533Z"
   },
   {
    "duration": 5,
    "start_time": "2022-01-18T19:23:36.542Z"
   },
   {
    "duration": 6,
    "start_time": "2022-01-18T19:23:36.548Z"
   },
   {
    "duration": 5,
    "start_time": "2022-01-18T19:23:36.555Z"
   },
   {
    "duration": 5,
    "start_time": "2022-01-18T19:23:36.561Z"
   },
   {
    "duration": 4,
    "start_time": "2022-01-18T19:23:36.568Z"
   },
   {
    "duration": 5,
    "start_time": "2022-01-18T19:23:36.573Z"
   },
   {
    "duration": 110,
    "start_time": "2022-01-18T19:23:46.107Z"
   },
   {
    "duration": 722,
    "start_time": "2022-01-18T19:24:52.367Z"
   },
   {
    "duration": 98,
    "start_time": "2022-01-18T19:24:53.091Z"
   },
   {
    "duration": 21,
    "start_time": "2022-01-18T19:24:53.191Z"
   },
   {
    "duration": 20,
    "start_time": "2022-01-18T19:24:53.214Z"
   },
   {
    "duration": 37,
    "start_time": "2022-01-18T19:24:53.236Z"
   },
   {
    "duration": 49,
    "start_time": "2022-01-18T19:24:53.275Z"
   },
   {
    "duration": 90,
    "start_time": "2022-01-18T19:24:53.326Z"
   },
   {
    "duration": -257,
    "start_time": "2022-01-18T19:24:53.677Z"
   },
   {
    "duration": -260,
    "start_time": "2022-01-18T19:24:53.681Z"
   },
   {
    "duration": -278,
    "start_time": "2022-01-18T19:24:53.700Z"
   },
   {
    "duration": -283,
    "start_time": "2022-01-18T19:24:53.706Z"
   },
   {
    "duration": -287,
    "start_time": "2022-01-18T19:24:53.711Z"
   },
   {
    "duration": -289,
    "start_time": "2022-01-18T19:24:53.714Z"
   },
   {
    "duration": -291,
    "start_time": "2022-01-18T19:24:53.717Z"
   },
   {
    "duration": -292,
    "start_time": "2022-01-18T19:24:53.720Z"
   },
   {
    "duration": -311,
    "start_time": "2022-01-18T19:24:53.740Z"
   },
   {
    "duration": -315,
    "start_time": "2022-01-18T19:24:53.745Z"
   },
   {
    "duration": -317,
    "start_time": "2022-01-18T19:24:53.748Z"
   },
   {
    "duration": -320,
    "start_time": "2022-01-18T19:24:53.752Z"
   },
   {
    "duration": -323,
    "start_time": "2022-01-18T19:24:53.756Z"
   },
   {
    "duration": -326,
    "start_time": "2022-01-18T19:24:53.760Z"
   },
   {
    "duration": -328,
    "start_time": "2022-01-18T19:24:53.763Z"
   },
   {
    "duration": 913,
    "start_time": "2022-01-18T19:25:08.610Z"
   },
   {
    "duration": 725,
    "start_time": "2022-01-18T19:25:22.024Z"
   },
   {
    "duration": 95,
    "start_time": "2022-01-18T19:25:22.751Z"
   },
   {
    "duration": 22,
    "start_time": "2022-01-18T19:25:22.848Z"
   },
   {
    "duration": 56,
    "start_time": "2022-01-18T19:25:22.872Z"
   },
   {
    "duration": 57,
    "start_time": "2022-01-18T19:25:22.930Z"
   },
   {
    "duration": 30,
    "start_time": "2022-01-18T19:25:22.990Z"
   },
   {
    "duration": 965,
    "start_time": "2022-01-18T19:25:23.023Z"
   },
   {
    "duration": 2,
    "start_time": "2022-01-18T19:25:23.990Z"
   },
   {
    "duration": 7,
    "start_time": "2022-01-18T19:25:24.000Z"
   },
   {
    "duration": 5,
    "start_time": "2022-01-18T19:25:24.009Z"
   },
   {
    "duration": 13,
    "start_time": "2022-01-18T19:25:24.016Z"
   },
   {
    "duration": 5,
    "start_time": "2022-01-18T19:25:24.030Z"
   },
   {
    "duration": 4,
    "start_time": "2022-01-18T19:25:24.037Z"
   },
   {
    "duration": 10,
    "start_time": "2022-01-18T19:25:24.043Z"
   },
   {
    "duration": 6,
    "start_time": "2022-01-18T19:25:24.054Z"
   },
   {
    "duration": 4,
    "start_time": "2022-01-18T19:25:24.062Z"
   },
   {
    "duration": 10,
    "start_time": "2022-01-18T19:25:24.068Z"
   },
   {
    "duration": 18,
    "start_time": "2022-01-18T19:25:24.081Z"
   },
   {
    "duration": 5,
    "start_time": "2022-01-18T19:25:24.101Z"
   },
   {
    "duration": 5,
    "start_time": "2022-01-18T19:25:24.108Z"
   },
   {
    "duration": 10,
    "start_time": "2022-01-18T19:25:24.115Z"
   },
   {
    "duration": 7,
    "start_time": "2022-01-18T19:25:24.127Z"
   },
   {
    "duration": 133,
    "start_time": "2022-01-18T19:34:23.829Z"
   },
   {
    "duration": 87,
    "start_time": "2022-01-18T19:35:56.111Z"
   },
   {
    "duration": 116,
    "start_time": "2022-01-18T19:37:42.111Z"
   },
   {
    "duration": 124,
    "start_time": "2022-01-18T19:38:35.573Z"
   },
   {
    "duration": 129,
    "start_time": "2022-01-18T19:38:52.892Z"
   },
   {
    "duration": 110,
    "start_time": "2022-01-18T19:41:43.332Z"
   },
   {
    "duration": 89,
    "start_time": "2022-01-18T20:04:53.199Z"
   },
   {
    "duration": 100,
    "start_time": "2022-01-18T20:06:42.126Z"
   },
   {
    "duration": 83,
    "start_time": "2022-01-18T20:12:45.107Z"
   },
   {
    "duration": 82,
    "start_time": "2022-01-18T20:12:59.661Z"
   },
   {
    "duration": 664,
    "start_time": "2022-01-18T20:13:20.110Z"
   },
   {
    "duration": 88,
    "start_time": "2022-01-18T20:13:20.775Z"
   },
   {
    "duration": 20,
    "start_time": "2022-01-18T20:13:20.865Z"
   },
   {
    "duration": 26,
    "start_time": "2022-01-18T20:13:20.888Z"
   },
   {
    "duration": 35,
    "start_time": "2022-01-18T20:13:20.916Z"
   },
   {
    "duration": 50,
    "start_time": "2022-01-18T20:13:20.953Z"
   },
   {
    "duration": 887,
    "start_time": "2022-01-18T20:13:21.005Z"
   },
   {
    "duration": 3,
    "start_time": "2022-01-18T20:13:21.895Z"
   },
   {
    "duration": 5,
    "start_time": "2022-01-18T20:13:21.901Z"
   },
   {
    "duration": 5,
    "start_time": "2022-01-18T20:13:21.908Z"
   },
   {
    "duration": 4,
    "start_time": "2022-01-18T20:13:21.915Z"
   },
   {
    "duration": 5,
    "start_time": "2022-01-18T20:13:21.921Z"
   },
   {
    "duration": 5,
    "start_time": "2022-01-18T20:13:21.927Z"
   },
   {
    "duration": 4,
    "start_time": "2022-01-18T20:13:21.934Z"
   },
   {
    "duration": 5,
    "start_time": "2022-01-18T20:13:21.939Z"
   },
   {
    "duration": 4,
    "start_time": "2022-01-18T20:13:21.945Z"
   },
   {
    "duration": 6,
    "start_time": "2022-01-18T20:13:21.951Z"
   },
   {
    "duration": 6,
    "start_time": "2022-01-18T20:13:21.958Z"
   },
   {
    "duration": 33,
    "start_time": "2022-01-18T20:13:21.965Z"
   },
   {
    "duration": 5,
    "start_time": "2022-01-18T20:13:22.000Z"
   },
   {
    "duration": 7,
    "start_time": "2022-01-18T20:13:22.007Z"
   },
   {
    "duration": 8,
    "start_time": "2022-01-18T20:13:22.016Z"
   },
   {
    "duration": 86,
    "start_time": "2022-01-18T20:14:21.162Z"
   },
   {
    "duration": 416,
    "start_time": "2022-01-18T20:18:10.781Z"
   },
   {
    "duration": 115,
    "start_time": "2022-01-18T20:20:45.930Z"
   },
   {
    "duration": 627,
    "start_time": "2022-01-18T20:22:11.550Z"
   },
   {
    "duration": 92,
    "start_time": "2022-01-18T20:22:12.178Z"
   },
   {
    "duration": 19,
    "start_time": "2022-01-18T20:22:12.272Z"
   },
   {
    "duration": 32,
    "start_time": "2022-01-18T20:22:12.299Z"
   },
   {
    "duration": 58,
    "start_time": "2022-01-18T20:22:12.333Z"
   },
   {
    "duration": 29,
    "start_time": "2022-01-18T20:22:12.393Z"
   },
   {
    "duration": 908,
    "start_time": "2022-01-18T20:22:12.423Z"
   },
   {
    "duration": 2,
    "start_time": "2022-01-18T20:22:13.334Z"
   },
   {
    "duration": 21,
    "start_time": "2022-01-18T20:22:13.338Z"
   },
   {
    "duration": 25,
    "start_time": "2022-01-18T20:22:13.361Z"
   },
   {
    "duration": 25,
    "start_time": "2022-01-18T20:22:13.388Z"
   },
   {
    "duration": 22,
    "start_time": "2022-01-18T20:22:13.415Z"
   },
   {
    "duration": 30,
    "start_time": "2022-01-18T20:22:13.438Z"
   },
   {
    "duration": 26,
    "start_time": "2022-01-18T20:22:13.470Z"
   },
   {
    "duration": 22,
    "start_time": "2022-01-18T20:22:13.498Z"
   },
   {
    "duration": 22,
    "start_time": "2022-01-18T20:22:13.521Z"
   },
   {
    "duration": 20,
    "start_time": "2022-01-18T20:22:13.544Z"
   },
   {
    "duration": 25,
    "start_time": "2022-01-18T20:22:13.566Z"
   },
   {
    "duration": 41,
    "start_time": "2022-01-18T20:22:13.593Z"
   },
   {
    "duration": 26,
    "start_time": "2022-01-18T20:22:13.636Z"
   },
   {
    "duration": 31,
    "start_time": "2022-01-18T20:22:13.663Z"
   },
   {
    "duration": 22,
    "start_time": "2022-01-18T20:22:13.695Z"
   },
   {
    "duration": 121,
    "start_time": "2022-01-18T20:22:44.918Z"
   },
   {
    "duration": 1878,
    "start_time": "2022-01-18T20:23:21.384Z"
   },
   {
    "duration": 683,
    "start_time": "2022-01-18T20:23:39.703Z"
   },
   {
    "duration": 98,
    "start_time": "2022-01-18T20:23:40.388Z"
   },
   {
    "duration": 25,
    "start_time": "2022-01-18T20:23:40.488Z"
   },
   {
    "duration": 19,
    "start_time": "2022-01-18T20:23:40.515Z"
   },
   {
    "duration": 35,
    "start_time": "2022-01-18T20:23:40.536Z"
   },
   {
    "duration": 52,
    "start_time": "2022-01-18T20:23:40.573Z"
   },
   {
    "duration": 1478,
    "start_time": "2022-01-18T20:23:40.627Z"
   },
   {
    "duration": -347,
    "start_time": "2022-01-18T20:23:42.456Z"
   },
   {
    "duration": -351,
    "start_time": "2022-01-18T20:23:42.461Z"
   },
   {
    "duration": -352,
    "start_time": "2022-01-18T20:23:42.464Z"
   },
   {
    "duration": -355,
    "start_time": "2022-01-18T20:23:42.468Z"
   },
   {
    "duration": -356,
    "start_time": "2022-01-18T20:23:42.471Z"
   },
   {
    "duration": -358,
    "start_time": "2022-01-18T20:23:42.475Z"
   },
   {
    "duration": -360,
    "start_time": "2022-01-18T20:23:42.478Z"
   },
   {
    "duration": -361,
    "start_time": "2022-01-18T20:23:42.481Z"
   },
   {
    "duration": -363,
    "start_time": "2022-01-18T20:23:42.484Z"
   },
   {
    "duration": -366,
    "start_time": "2022-01-18T20:23:42.488Z"
   },
   {
    "duration": -369,
    "start_time": "2022-01-18T20:23:42.492Z"
   },
   {
    "duration": -370,
    "start_time": "2022-01-18T20:23:42.495Z"
   },
   {
    "duration": -372,
    "start_time": "2022-01-18T20:23:42.498Z"
   },
   {
    "duration": -374,
    "start_time": "2022-01-18T20:23:42.501Z"
   },
   {
    "duration": -376,
    "start_time": "2022-01-18T20:23:42.504Z"
   },
   {
    "duration": 129,
    "start_time": "2022-01-18T20:24:16.852Z"
   },
   {
    "duration": 547,
    "start_time": "2022-01-18T20:24:42.043Z"
   },
   {
    "duration": 566,
    "start_time": "2022-01-18T20:25:13.633Z"
   },
   {
    "duration": 102,
    "start_time": "2022-01-18T20:25:24.869Z"
   },
   {
    "duration": 159,
    "start_time": "2022-01-18T20:25:36.038Z"
   },
   {
    "duration": 642,
    "start_time": "2022-01-18T20:25:49.743Z"
   },
   {
    "duration": 92,
    "start_time": "2022-01-18T20:25:50.386Z"
   },
   {
    "duration": 23,
    "start_time": "2022-01-18T20:25:50.480Z"
   },
   {
    "duration": 17,
    "start_time": "2022-01-18T20:25:50.505Z"
   },
   {
    "duration": 35,
    "start_time": "2022-01-18T20:25:50.524Z"
   },
   {
    "duration": 50,
    "start_time": "2022-01-18T20:25:50.560Z"
   },
   {
    "duration": 953,
    "start_time": "2022-01-18T20:25:50.612Z"
   },
   {
    "duration": 2,
    "start_time": "2022-01-18T20:25:51.567Z"
   },
   {
    "duration": 5,
    "start_time": "2022-01-18T20:25:51.571Z"
   },
   {
    "duration": 5,
    "start_time": "2022-01-18T20:25:51.577Z"
   },
   {
    "duration": 15,
    "start_time": "2022-01-18T20:25:51.583Z"
   },
   {
    "duration": 2,
    "start_time": "2022-01-18T20:25:51.600Z"
   },
   {
    "duration": 5,
    "start_time": "2022-01-18T20:25:51.603Z"
   },
   {
    "duration": 5,
    "start_time": "2022-01-18T20:25:51.609Z"
   },
   {
    "duration": 5,
    "start_time": "2022-01-18T20:25:51.615Z"
   },
   {
    "duration": 5,
    "start_time": "2022-01-18T20:25:51.622Z"
   },
   {
    "duration": 5,
    "start_time": "2022-01-18T20:25:51.628Z"
   },
   {
    "duration": 5,
    "start_time": "2022-01-18T20:25:51.634Z"
   },
   {
    "duration": 6,
    "start_time": "2022-01-18T20:25:51.640Z"
   },
   {
    "duration": 5,
    "start_time": "2022-01-18T20:25:51.648Z"
   },
   {
    "duration": 5,
    "start_time": "2022-01-18T20:25:51.654Z"
   },
   {
    "duration": 5,
    "start_time": "2022-01-18T20:25:51.660Z"
   },
   {
    "duration": 623,
    "start_time": "2022-01-18T20:26:34.860Z"
   },
   {
    "duration": 93,
    "start_time": "2022-01-18T20:26:35.486Z"
   },
   {
    "duration": 31,
    "start_time": "2022-01-18T20:26:35.582Z"
   },
   {
    "duration": 19,
    "start_time": "2022-01-18T20:26:35.616Z"
   },
   {
    "duration": 35,
    "start_time": "2022-01-18T20:26:35.637Z"
   },
   {
    "duration": 30,
    "start_time": "2022-01-18T20:26:35.699Z"
   },
   {
    "duration": 973,
    "start_time": "2022-01-18T20:26:35.731Z"
   },
   {
    "duration": 3,
    "start_time": "2022-01-18T20:26:36.707Z"
   },
   {
    "duration": 6,
    "start_time": "2022-01-18T20:26:36.712Z"
   },
   {
    "duration": 7,
    "start_time": "2022-01-18T20:26:36.719Z"
   },
   {
    "duration": 5,
    "start_time": "2022-01-18T20:26:36.728Z"
   },
   {
    "duration": 6,
    "start_time": "2022-01-18T20:26:36.734Z"
   },
   {
    "duration": 6,
    "start_time": "2022-01-18T20:26:36.741Z"
   },
   {
    "duration": 4,
    "start_time": "2022-01-18T20:26:36.749Z"
   },
   {
    "duration": 6,
    "start_time": "2022-01-18T20:26:36.754Z"
   },
   {
    "duration": 6,
    "start_time": "2022-01-18T20:26:36.761Z"
   },
   {
    "duration": 6,
    "start_time": "2022-01-18T20:26:36.768Z"
   },
   {
    "duration": 5,
    "start_time": "2022-01-18T20:26:36.775Z"
   },
   {
    "duration": 2,
    "start_time": "2022-01-18T20:26:36.798Z"
   },
   {
    "duration": 4,
    "start_time": "2022-01-18T20:26:36.802Z"
   },
   {
    "duration": 5,
    "start_time": "2022-01-18T20:26:36.807Z"
   },
   {
    "duration": 5,
    "start_time": "2022-01-18T20:26:36.813Z"
   },
   {
    "duration": 178,
    "start_time": "2022-01-18T20:32:44.708Z"
   },
   {
    "duration": 527,
    "start_time": "2022-01-18T20:39:01.443Z"
   },
   {
    "duration": 465,
    "start_time": "2022-01-18T20:39:22.580Z"
   },
   {
    "duration": 177,
    "start_time": "2022-01-18T20:40:08.625Z"
   },
   {
    "duration": 177,
    "start_time": "2022-01-18T20:40:19.748Z"
   },
   {
    "duration": 891,
    "start_time": "2022-01-18T20:43:08.059Z"
   },
   {
    "duration": 881,
    "start_time": "2022-01-18T20:43:26.447Z"
   },
   {
    "duration": 863,
    "start_time": "2022-01-18T20:43:47.205Z"
   },
   {
    "duration": 681,
    "start_time": "2022-01-18T20:46:44.671Z"
   },
   {
    "duration": 91,
    "start_time": "2022-01-18T20:46:45.354Z"
   },
   {
    "duration": 21,
    "start_time": "2022-01-18T20:46:45.447Z"
   },
   {
    "duration": 34,
    "start_time": "2022-01-18T20:46:45.470Z"
   },
   {
    "duration": 40,
    "start_time": "2022-01-18T20:46:45.505Z"
   },
   {
    "duration": 30,
    "start_time": "2022-01-18T20:46:45.546Z"
   },
   {
    "duration": 978,
    "start_time": "2022-01-18T20:46:45.578Z"
   },
   {
    "duration": 2,
    "start_time": "2022-01-18T20:46:46.559Z"
   },
   {
    "duration": 8,
    "start_time": "2022-01-18T20:46:46.562Z"
   },
   {
    "duration": 6,
    "start_time": "2022-01-18T20:46:46.572Z"
   },
   {
    "duration": 5,
    "start_time": "2022-01-18T20:46:46.579Z"
   },
   {
    "duration": 8,
    "start_time": "2022-01-18T20:46:46.599Z"
   },
   {
    "duration": 5,
    "start_time": "2022-01-18T20:46:46.609Z"
   },
   {
    "duration": 5,
    "start_time": "2022-01-18T20:46:46.615Z"
   },
   {
    "duration": 6,
    "start_time": "2022-01-18T20:46:46.621Z"
   },
   {
    "duration": 8,
    "start_time": "2022-01-18T20:46:46.629Z"
   },
   {
    "duration": 15,
    "start_time": "2022-01-18T20:46:46.638Z"
   },
   {
    "duration": 14,
    "start_time": "2022-01-18T20:46:46.655Z"
   },
   {
    "duration": 4,
    "start_time": "2022-01-18T20:46:46.671Z"
   },
   {
    "duration": 6,
    "start_time": "2022-01-18T20:46:46.677Z"
   },
   {
    "duration": 5,
    "start_time": "2022-01-18T20:46:46.685Z"
   },
   {
    "duration": 8,
    "start_time": "2022-01-18T20:46:46.691Z"
   },
   {
    "duration": 166,
    "start_time": "2022-01-18T20:47:35.409Z"
   },
   {
    "duration": 648,
    "start_time": "2022-01-18T20:55:08.867Z"
   },
   {
    "duration": 91,
    "start_time": "2022-01-18T20:55:09.516Z"
   },
   {
    "duration": 19,
    "start_time": "2022-01-18T20:55:09.609Z"
   },
   {
    "duration": 21,
    "start_time": "2022-01-18T20:55:09.630Z"
   },
   {
    "duration": 45,
    "start_time": "2022-01-18T20:55:09.653Z"
   },
   {
    "duration": 29,
    "start_time": "2022-01-18T20:55:09.700Z"
   },
   {
    "duration": 1657,
    "start_time": "2022-01-18T20:55:09.731Z"
   },
   {
    "duration": 2,
    "start_time": "2022-01-18T20:55:11.391Z"
   },
   {
    "duration": 38,
    "start_time": "2022-01-18T20:55:11.398Z"
   },
   {
    "duration": 32,
    "start_time": "2022-01-18T20:55:11.438Z"
   },
   {
    "duration": 9,
    "start_time": "2022-01-18T20:55:11.471Z"
   },
   {
    "duration": 19,
    "start_time": "2022-01-18T20:55:11.482Z"
   },
   {
    "duration": 16,
    "start_time": "2022-01-18T20:55:11.502Z"
   },
   {
    "duration": 17,
    "start_time": "2022-01-18T20:55:11.519Z"
   },
   {
    "duration": 11,
    "start_time": "2022-01-18T20:55:11.538Z"
   },
   {
    "duration": 22,
    "start_time": "2022-01-18T20:55:11.551Z"
   },
   {
    "duration": 15,
    "start_time": "2022-01-18T20:55:11.575Z"
   },
   {
    "duration": 22,
    "start_time": "2022-01-18T20:55:11.592Z"
   },
   {
    "duration": 25,
    "start_time": "2022-01-18T20:55:11.616Z"
   },
   {
    "duration": 21,
    "start_time": "2022-01-18T20:55:11.643Z"
   },
   {
    "duration": 17,
    "start_time": "2022-01-18T20:55:11.666Z"
   },
   {
    "duration": 24,
    "start_time": "2022-01-18T20:55:11.685Z"
   },
   {
    "duration": 616,
    "start_time": "2022-01-18T21:02:53.362Z"
   },
   {
    "duration": 88,
    "start_time": "2022-01-18T21:02:53.980Z"
   },
   {
    "duration": 19,
    "start_time": "2022-01-18T21:02:54.070Z"
   },
   {
    "duration": 16,
    "start_time": "2022-01-18T21:02:54.099Z"
   },
   {
    "duration": 34,
    "start_time": "2022-01-18T21:02:54.116Z"
   },
   {
    "duration": 50,
    "start_time": "2022-01-18T21:02:54.152Z"
   },
   {
    "duration": 1651,
    "start_time": "2022-01-18T21:02:54.203Z"
   },
   {
    "duration": 2,
    "start_time": "2022-01-18T21:02:55.857Z"
   },
   {
    "duration": 5,
    "start_time": "2022-01-18T21:02:55.861Z"
   },
   {
    "duration": 5,
    "start_time": "2022-01-18T21:02:55.867Z"
   },
   {
    "duration": 6,
    "start_time": "2022-01-18T21:02:55.873Z"
   },
   {
    "duration": 6,
    "start_time": "2022-01-18T21:02:55.880Z"
   },
   {
    "duration": 2,
    "start_time": "2022-01-18T21:02:55.898Z"
   },
   {
    "duration": 6,
    "start_time": "2022-01-18T21:02:55.902Z"
   },
   {
    "duration": 6,
    "start_time": "2022-01-18T21:02:55.909Z"
   },
   {
    "duration": 7,
    "start_time": "2022-01-18T21:02:55.916Z"
   },
   {
    "duration": 5,
    "start_time": "2022-01-18T21:02:55.925Z"
   },
   {
    "duration": 5,
    "start_time": "2022-01-18T21:02:55.931Z"
   },
   {
    "duration": 5,
    "start_time": "2022-01-18T21:02:55.937Z"
   },
   {
    "duration": 5,
    "start_time": "2022-01-18T21:02:55.944Z"
   },
   {
    "duration": 5,
    "start_time": "2022-01-18T21:02:55.950Z"
   },
   {
    "duration": 7,
    "start_time": "2022-01-18T21:02:55.956Z"
   },
   {
    "duration": 4,
    "start_time": "2022-01-18T21:09:49.747Z"
   },
   {
    "duration": 5,
    "start_time": "2022-01-18T21:10:16.631Z"
   },
   {
    "duration": 5,
    "start_time": "2022-01-18T21:11:08.370Z"
   },
   {
    "duration": 21,
    "start_time": "2022-01-18T21:11:16.554Z"
   },
   {
    "duration": 22,
    "start_time": "2022-01-18T21:11:40.349Z"
   },
   {
    "duration": 26,
    "start_time": "2022-01-18T21:11:48.767Z"
   },
   {
    "duration": 5,
    "start_time": "2022-01-18T21:13:05.751Z"
   },
   {
    "duration": 307,
    "start_time": "2022-01-18T21:13:13.386Z"
   },
   {
    "duration": 274,
    "start_time": "2022-01-18T21:13:19.837Z"
   },
   {
    "duration": 6,
    "start_time": "2022-01-18T21:13:27.323Z"
   },
   {
    "duration": 6,
    "start_time": "2022-01-18T21:14:57.536Z"
   },
   {
    "duration": 3,
    "start_time": "2022-01-18T21:16:53.888Z"
   },
   {
    "duration": 18,
    "start_time": "2022-01-18T21:17:57.481Z"
   },
   {
    "duration": 13,
    "start_time": "2022-01-18T21:18:15.087Z"
   },
   {
    "duration": 24,
    "start_time": "2022-01-18T21:23:56.294Z"
   },
   {
    "duration": 868,
    "start_time": "2022-01-18T21:24:07.417Z"
   },
   {
    "duration": 26,
    "start_time": "2022-01-18T21:24:18.237Z"
   },
   {
    "duration": 5,
    "start_time": "2022-01-18T21:24:30.705Z"
   },
   {
    "duration": 5,
    "start_time": "2022-01-18T21:24:35.135Z"
   },
   {
    "duration": 4,
    "start_time": "2022-01-18T21:24:45.678Z"
   },
   {
    "duration": 445,
    "start_time": "2022-01-18T21:28:22.560Z"
   },
   {
    "duration": 659,
    "start_time": "2022-01-18T21:29:07.768Z"
   },
   {
    "duration": 751,
    "start_time": "2022-01-18T21:29:34.789Z"
   },
   {
    "duration": 688,
    "start_time": "2022-01-18T21:29:49.395Z"
   },
   {
    "duration": 275,
    "start_time": "2022-01-18T21:31:04.241Z"
   },
   {
    "duration": 275,
    "start_time": "2022-01-18T21:31:48.988Z"
   },
   {
    "duration": 695,
    "start_time": "2022-01-18T21:32:38.797Z"
   },
   {
    "duration": 269,
    "start_time": "2022-01-18T21:32:53.497Z"
   },
   {
    "duration": 86,
    "start_time": "2022-01-18T21:34:08.861Z"
   },
   {
    "duration": 10,
    "start_time": "2022-01-18T21:34:13.782Z"
   },
   {
    "duration": 28,
    "start_time": "2022-01-18T21:34:27.674Z"
   },
   {
    "duration": 24,
    "start_time": "2022-01-18T21:35:53.474Z"
   },
   {
    "duration": 282,
    "start_time": "2022-01-18T21:40:20.516Z"
   },
   {
    "duration": 293,
    "start_time": "2022-01-19T07:06:29.024Z"
   },
   {
    "duration": 705,
    "start_time": "2022-01-19T07:06:36.686Z"
   },
   {
    "duration": 93,
    "start_time": "2022-01-19T07:06:37.392Z"
   },
   {
    "duration": 20,
    "start_time": "2022-01-19T07:06:37.488Z"
   },
   {
    "duration": 27,
    "start_time": "2022-01-19T07:06:37.510Z"
   },
   {
    "duration": 51,
    "start_time": "2022-01-19T07:06:37.539Z"
   },
   {
    "duration": 31,
    "start_time": "2022-01-19T07:06:37.591Z"
   },
   {
    "duration": 1739,
    "start_time": "2022-01-19T07:06:37.624Z"
   },
   {
    "duration": 33,
    "start_time": "2022-01-19T07:06:39.365Z"
   },
   {
    "duration": 5,
    "start_time": "2022-01-19T07:06:39.400Z"
   },
   {
    "duration": 9,
    "start_time": "2022-01-19T07:06:39.406Z"
   },
   {
    "duration": 29,
    "start_time": "2022-01-19T07:06:39.416Z"
   },
   {
    "duration": 2,
    "start_time": "2022-01-19T07:06:39.447Z"
   },
   {
    "duration": 20,
    "start_time": "2022-01-19T07:06:39.450Z"
   },
   {
    "duration": 14,
    "start_time": "2022-01-19T07:06:39.498Z"
   },
   {
    "duration": 6,
    "start_time": "2022-01-19T07:06:39.513Z"
   },
   {
    "duration": 5,
    "start_time": "2022-01-19T07:06:39.521Z"
   },
   {
    "duration": 5,
    "start_time": "2022-01-19T07:06:39.527Z"
   },
   {
    "duration": 5,
    "start_time": "2022-01-19T07:06:39.534Z"
   },
   {
    "duration": 5,
    "start_time": "2022-01-19T07:06:39.541Z"
   },
   {
    "duration": 5,
    "start_time": "2022-01-19T07:06:39.547Z"
   },
   {
    "duration": 4,
    "start_time": "2022-01-19T07:06:39.554Z"
   },
   {
    "duration": 5,
    "start_time": "2022-01-19T07:06:39.560Z"
   },
   {
    "duration": 4,
    "start_time": "2022-01-19T07:06:39.568Z"
   },
   {
    "duration": 210,
    "start_time": "2022-01-19T07:14:29.938Z"
   },
   {
    "duration": 189,
    "start_time": "2022-01-19T07:15:20.411Z"
   },
   {
    "duration": 282,
    "start_time": "2022-01-19T07:15:28.363Z"
   },
   {
    "duration": 432,
    "start_time": "2022-01-19T07:15:35.892Z"
   },
   {
    "duration": 474,
    "start_time": "2022-01-19T07:16:04.542Z"
   },
   {
    "duration": 491,
    "start_time": "2022-01-19T07:17:07.213Z"
   },
   {
    "duration": 473,
    "start_time": "2022-01-19T07:18:50.190Z"
   },
   {
    "duration": 498,
    "start_time": "2022-01-19T07:19:02.724Z"
   },
   {
    "duration": 1390,
    "start_time": "2022-01-19T07:29:08.386Z"
   },
   {
    "duration": 753,
    "start_time": "2022-01-19T07:29:15.473Z"
   },
   {
    "duration": 487,
    "start_time": "2022-01-19T07:30:32.061Z"
   },
   {
    "duration": 546,
    "start_time": "2022-01-19T07:33:21.941Z"
   },
   {
    "duration": 1045,
    "start_time": "2022-01-19T07:35:05.295Z"
   },
   {
    "duration": 1085,
    "start_time": "2022-01-19T07:35:26.920Z"
   },
   {
    "duration": 961,
    "start_time": "2022-01-19T07:35:46.593Z"
   },
   {
    "duration": 1094,
    "start_time": "2022-01-19T07:36:04.681Z"
   },
   {
    "duration": 1115,
    "start_time": "2022-01-19T07:42:16.288Z"
   },
   {
    "duration": 1078,
    "start_time": "2022-01-19T07:42:39.255Z"
   },
   {
    "duration": 1141,
    "start_time": "2022-01-19T07:43:48.734Z"
   },
   {
    "duration": 1145,
    "start_time": "2022-01-19T08:01:34.202Z"
   },
   {
    "duration": 1262,
    "start_time": "2022-01-19T08:02:03.429Z"
   },
   {
    "duration": 1092,
    "start_time": "2022-01-19T08:02:24.586Z"
   },
   {
    "duration": 1190,
    "start_time": "2022-01-19T08:02:35.277Z"
   },
   {
    "duration": 912,
    "start_time": "2022-01-19T11:24:49.653Z"
   },
   {
    "duration": 122,
    "start_time": "2022-01-19T11:24:50.567Z"
   },
   {
    "duration": 29,
    "start_time": "2022-01-19T11:24:50.692Z"
   },
   {
    "duration": 50,
    "start_time": "2022-01-19T11:24:50.724Z"
   },
   {
    "duration": 48,
    "start_time": "2022-01-19T11:24:50.777Z"
   },
   {
    "duration": 73,
    "start_time": "2022-01-19T11:24:50.828Z"
   },
   {
    "duration": 2575,
    "start_time": "2022-01-19T11:24:50.904Z"
   },
   {
    "duration": 34,
    "start_time": "2022-01-19T11:24:53.485Z"
   },
   {
    "duration": 8,
    "start_time": "2022-01-19T11:24:53.523Z"
   },
   {
    "duration": 46,
    "start_time": "2022-01-19T11:24:53.534Z"
   },
   {
    "duration": 45,
    "start_time": "2022-01-19T11:24:53.582Z"
   },
   {
    "duration": 4,
    "start_time": "2022-01-19T11:24:53.630Z"
   },
   {
    "duration": 56,
    "start_time": "2022-01-19T11:24:53.637Z"
   },
   {
    "duration": 23,
    "start_time": "2022-01-19T11:24:53.695Z"
   },
   {
    "duration": 1872,
    "start_time": "2022-01-19T11:24:53.721Z"
   },
   {
    "duration": 3,
    "start_time": "2022-01-19T11:24:55.596Z"
   },
   {
    "duration": 10,
    "start_time": "2022-01-19T11:24:55.602Z"
   },
   {
    "duration": 6,
    "start_time": "2022-01-19T11:24:55.615Z"
   },
   {
    "duration": 12,
    "start_time": "2022-01-19T11:24:55.624Z"
   },
   {
    "duration": 8,
    "start_time": "2022-01-19T11:24:55.639Z"
   },
   {
    "duration": 21,
    "start_time": "2022-01-19T11:24:55.650Z"
   },
   {
    "duration": 7,
    "start_time": "2022-01-19T11:24:55.674Z"
   },
   {
    "duration": 3,
    "start_time": "2022-01-19T11:24:55.686Z"
   },
   {
    "duration": 4016,
    "start_time": "2022-01-19T13:24:43.579Z"
   },
   {
    "duration": 4001,
    "start_time": "2022-01-19T13:25:05.958Z"
   },
   {
    "duration": 3704,
    "start_time": "2022-01-19T13:25:17.434Z"
   },
   {
    "duration": 1817,
    "start_time": "2022-01-19T13:25:47.518Z"
   },
   {
    "duration": 2104,
    "start_time": "2022-01-19T13:28:09.273Z"
   },
   {
    "duration": 105,
    "start_time": "2022-01-19T13:30:04.364Z"
   },
   {
    "duration": 2103,
    "start_time": "2022-01-19T13:30:23.412Z"
   },
   {
    "duration": 2174,
    "start_time": "2022-01-19T13:30:43.197Z"
   },
   {
    "duration": 1967,
    "start_time": "2022-01-19T13:31:14.531Z"
   },
   {
    "duration": 711,
    "start_time": "2022-01-19T13:31:53.314Z"
   },
   {
    "duration": 709,
    "start_time": "2022-01-19T13:32:05.016Z"
   },
   {
    "duration": 638,
    "start_time": "2022-01-19T13:32:18.415Z"
   },
   {
    "duration": 2080,
    "start_time": "2022-01-19T13:32:33.061Z"
   },
   {
    "duration": 1944,
    "start_time": "2022-01-19T13:32:58.359Z"
   },
   {
    "duration": 2617,
    "start_time": "2022-01-19T13:33:30.835Z"
   },
   {
    "duration": 2059,
    "start_time": "2022-01-19T13:33:55.037Z"
   },
   {
    "duration": 3,
    "start_time": "2022-01-19T13:35:41.065Z"
   },
   {
    "duration": 1874,
    "start_time": "2022-01-19T13:36:04.252Z"
   },
   {
    "duration": 6800,
    "start_time": "2022-01-19T13:36:37.145Z"
   },
   {
    "duration": -801,
    "start_time": "2022-01-19T13:36:44.748Z"
   },
   {
    "duration": 9325,
    "start_time": "2022-01-19T13:37:02.466Z"
   },
   {
    "duration": -807,
    "start_time": "2022-01-19T13:37:12.600Z"
   },
   {
    "duration": 863,
    "start_time": "2022-01-19T13:37:18.513Z"
   },
   {
    "duration": 168,
    "start_time": "2022-01-19T13:37:19.394Z"
   },
   {
    "duration": 31,
    "start_time": "2022-01-19T13:37:19.566Z"
   },
   {
    "duration": 28,
    "start_time": "2022-01-19T13:37:19.601Z"
   },
   {
    "duration": 79,
    "start_time": "2022-01-19T13:37:19.632Z"
   },
   {
    "duration": 65,
    "start_time": "2022-01-19T13:37:19.714Z"
   },
   {
    "duration": 2488,
    "start_time": "2022-01-19T13:37:19.781Z"
   },
   {
    "duration": 41,
    "start_time": "2022-01-19T13:37:22.273Z"
   },
   {
    "duration": 10,
    "start_time": "2022-01-19T13:37:22.317Z"
   },
   {
    "duration": 41,
    "start_time": "2022-01-19T13:37:22.330Z"
   },
   {
    "duration": 43,
    "start_time": "2022-01-19T13:37:22.373Z"
   },
   {
    "duration": 3,
    "start_time": "2022-01-19T13:37:22.418Z"
   },
   {
    "duration": 50,
    "start_time": "2022-01-19T13:37:22.423Z"
   },
   {
    "duration": 21,
    "start_time": "2022-01-19T13:37:22.476Z"
   },
   {
    "duration": 2535,
    "start_time": "2022-01-19T13:37:22.500Z"
   },
   {
    "duration": -694,
    "start_time": "2022-01-19T13:37:25.733Z"
   },
   {
    "duration": -701,
    "start_time": "2022-01-19T13:37:25.742Z"
   },
   {
    "duration": -787,
    "start_time": "2022-01-19T13:37:25.830Z"
   },
   {
    "duration": -805,
    "start_time": "2022-01-19T13:37:25.850Z"
   },
   {
    "duration": -809,
    "start_time": "2022-01-19T13:37:25.856Z"
   },
   {
    "duration": -813,
    "start_time": "2022-01-19T13:37:25.862Z"
   },
   {
    "duration": -820,
    "start_time": "2022-01-19T13:37:25.871Z"
   },
   {
    "duration": -809,
    "start_time": "2022-01-19T13:37:25.878Z"
   },
   {
    "duration": 1979,
    "start_time": "2022-01-19T13:37:39.528Z"
   },
   {
    "duration": 2085,
    "start_time": "2022-01-19T13:38:59.776Z"
   },
   {
    "duration": 8410,
    "start_time": "2022-01-19T13:39:13.932Z"
   },
   {
    "duration": 805,
    "start_time": "2022-01-19T13:40:14.820Z"
   },
   {
    "duration": 121,
    "start_time": "2022-01-19T13:40:15.628Z"
   },
   {
    "duration": 34,
    "start_time": "2022-01-19T13:40:15.753Z"
   },
   {
    "duration": 26,
    "start_time": "2022-01-19T13:40:15.790Z"
   },
   {
    "duration": 76,
    "start_time": "2022-01-19T13:40:15.818Z"
   },
   {
    "duration": 51,
    "start_time": "2022-01-19T13:40:15.896Z"
   },
   {
    "duration": 2429,
    "start_time": "2022-01-19T13:40:15.950Z"
   },
   {
    "duration": 33,
    "start_time": "2022-01-19T13:40:18.381Z"
   },
   {
    "duration": 7,
    "start_time": "2022-01-19T13:40:18.419Z"
   },
   {
    "duration": 13,
    "start_time": "2022-01-19T13:40:18.429Z"
   },
   {
    "duration": 44,
    "start_time": "2022-01-19T13:40:18.470Z"
   },
   {
    "duration": 3,
    "start_time": "2022-01-19T13:40:18.517Z"
   },
   {
    "duration": 55,
    "start_time": "2022-01-19T13:40:18.523Z"
   },
   {
    "duration": 23,
    "start_time": "2022-01-19T13:40:18.580Z"
   },
   {
    "duration": 2267,
    "start_time": "2022-01-19T13:40:18.605Z"
   },
   {
    "duration": -802,
    "start_time": "2022-01-19T13:40:21.677Z"
   },
   {
    "duration": -807,
    "start_time": "2022-01-19T13:40:21.684Z"
   },
   {
    "duration": -809,
    "start_time": "2022-01-19T13:40:21.688Z"
   },
   {
    "duration": -811,
    "start_time": "2022-01-19T13:40:21.692Z"
   },
   {
    "duration": -813,
    "start_time": "2022-01-19T13:40:21.695Z"
   },
   {
    "duration": -815,
    "start_time": "2022-01-19T13:40:21.699Z"
   },
   {
    "duration": -816,
    "start_time": "2022-01-19T13:40:21.702Z"
   },
   {
    "duration": -819,
    "start_time": "2022-01-19T13:40:21.706Z"
   },
   {
    "duration": 1929,
    "start_time": "2022-01-19T13:44:40.791Z"
   },
   {
    "duration": 1896,
    "start_time": "2022-01-19T13:44:58.772Z"
   },
   {
    "duration": 1699,
    "start_time": "2022-01-19T13:51:11.035Z"
   },
   {
    "duration": 1723,
    "start_time": "2022-01-19T13:52:18.101Z"
   },
   {
    "duration": 1851,
    "start_time": "2022-01-19T13:54:04.674Z"
   },
   {
    "duration": 2030,
    "start_time": "2022-01-19T15:49:44.459Z"
   },
   {
    "duration": 1805,
    "start_time": "2022-01-19T15:50:15.344Z"
   },
   {
    "duration": 1745,
    "start_time": "2022-01-19T15:50:43.603Z"
   },
   {
    "duration": 1809,
    "start_time": "2022-01-19T15:51:54.690Z"
   },
   {
    "duration": 2070,
    "start_time": "2022-01-19T16:00:49.768Z"
   },
   {
    "duration": 1816,
    "start_time": "2022-01-19T16:03:22.430Z"
   },
   {
    "duration": 1728,
    "start_time": "2022-01-19T16:05:08.743Z"
   },
   {
    "duration": 1799,
    "start_time": "2022-01-19T16:05:32.049Z"
   },
   {
    "duration": 690,
    "start_time": "2022-01-19T19:35:55.924Z"
   },
   {
    "duration": 126,
    "start_time": "2022-01-19T19:35:56.616Z"
   },
   {
    "duration": 20,
    "start_time": "2022-01-19T19:35:56.745Z"
   },
   {
    "duration": 18,
    "start_time": "2022-01-19T19:35:56.768Z"
   },
   {
    "duration": 38,
    "start_time": "2022-01-19T19:35:56.788Z"
   },
   {
    "duration": 52,
    "start_time": "2022-01-19T19:35:56.829Z"
   },
   {
    "duration": 1970,
    "start_time": "2022-01-19T19:35:56.883Z"
   },
   {
    "duration": 24,
    "start_time": "2022-01-19T19:35:58.860Z"
   },
   {
    "duration": 4,
    "start_time": "2022-01-19T19:35:58.886Z"
   },
   {
    "duration": 8,
    "start_time": "2022-01-19T19:35:58.892Z"
   },
   {
    "duration": 27,
    "start_time": "2022-01-19T19:35:58.902Z"
   },
   {
    "duration": 2,
    "start_time": "2022-01-19T19:35:58.930Z"
   },
   {
    "duration": 42,
    "start_time": "2022-01-19T19:35:58.934Z"
   },
   {
    "duration": 13,
    "start_time": "2022-01-19T19:35:58.977Z"
   },
   {
    "duration": 1258,
    "start_time": "2022-01-19T19:35:58.992Z"
   },
   {
    "duration": 8,
    "start_time": "2022-01-19T19:36:00.252Z"
   },
   {
    "duration": 9,
    "start_time": "2022-01-19T19:36:00.262Z"
   },
   {
    "duration": 6,
    "start_time": "2022-01-19T19:36:00.272Z"
   },
   {
    "duration": 6,
    "start_time": "2022-01-19T19:36:00.279Z"
   },
   {
    "duration": 8,
    "start_time": "2022-01-19T19:36:00.287Z"
   },
   {
    "duration": 5,
    "start_time": "2022-01-19T19:36:00.297Z"
   },
   {
    "duration": 7,
    "start_time": "2022-01-19T19:36:00.304Z"
   },
   {
    "duration": 4,
    "start_time": "2022-01-19T19:36:00.313Z"
   },
   {
    "duration": 1059,
    "start_time": "2022-01-19T19:38:03.160Z"
   },
   {
    "duration": 1180,
    "start_time": "2022-01-19T19:38:26.990Z"
   },
   {
    "duration": 1072,
    "start_time": "2022-01-19T19:39:30.911Z"
   },
   {
    "duration": 1438,
    "start_time": "2022-01-19T19:43:01.352Z"
   },
   {
    "duration": 1643,
    "start_time": "2022-01-19T19:44:31.817Z"
   },
   {
    "duration": 1128,
    "start_time": "2022-01-19T19:44:56.494Z"
   },
   {
    "duration": 683,
    "start_time": "2022-01-19T19:49:36.205Z"
   },
   {
    "duration": 99,
    "start_time": "2022-01-19T19:49:36.890Z"
   },
   {
    "duration": 20,
    "start_time": "2022-01-19T19:49:36.991Z"
   },
   {
    "duration": 17,
    "start_time": "2022-01-19T19:49:37.013Z"
   },
   {
    "duration": 61,
    "start_time": "2022-01-19T19:49:37.032Z"
   },
   {
    "duration": 1232,
    "start_time": "2022-01-19T19:49:37.095Z"
   },
   {
    "duration": -667,
    "start_time": "2022-01-19T19:49:38.997Z"
   },
   {
    "duration": -672,
    "start_time": "2022-01-19T19:49:39.003Z"
   },
   {
    "duration": -675,
    "start_time": "2022-01-19T19:49:39.007Z"
   },
   {
    "duration": -679,
    "start_time": "2022-01-19T19:49:39.012Z"
   },
   {
    "duration": -681,
    "start_time": "2022-01-19T19:49:39.015Z"
   },
   {
    "duration": -684,
    "start_time": "2022-01-19T19:49:39.019Z"
   },
   {
    "duration": -687,
    "start_time": "2022-01-19T19:49:39.023Z"
   },
   {
    "duration": -691,
    "start_time": "2022-01-19T19:49:39.028Z"
   },
   {
    "duration": -695,
    "start_time": "2022-01-19T19:49:39.033Z"
   },
   {
    "duration": -701,
    "start_time": "2022-01-19T19:49:39.040Z"
   },
   {
    "duration": -704,
    "start_time": "2022-01-19T19:49:39.044Z"
   },
   {
    "duration": -707,
    "start_time": "2022-01-19T19:49:39.048Z"
   },
   {
    "duration": -709,
    "start_time": "2022-01-19T19:49:39.051Z"
   },
   {
    "duration": -754,
    "start_time": "2022-01-19T19:49:39.097Z"
   },
   {
    "duration": -758,
    "start_time": "2022-01-19T19:49:39.102Z"
   },
   {
    "duration": -761,
    "start_time": "2022-01-19T19:49:39.106Z"
   },
   {
    "duration": 1395,
    "start_time": "2022-01-19T19:50:01.212Z"
   },
   {
    "duration": 636,
    "start_time": "2022-01-19T19:50:35.907Z"
   },
   {
    "duration": 117,
    "start_time": "2022-01-19T19:50:36.545Z"
   },
   {
    "duration": 26,
    "start_time": "2022-01-19T19:50:36.665Z"
   },
   {
    "duration": 28,
    "start_time": "2022-01-19T19:50:36.693Z"
   },
   {
    "duration": 59,
    "start_time": "2022-01-19T19:50:36.724Z"
   },
   {
    "duration": 1394,
    "start_time": "2022-01-19T19:50:36.785Z"
   },
   {
    "duration": -676,
    "start_time": "2022-01-19T19:50:38.857Z"
   },
   {
    "duration": -685,
    "start_time": "2022-01-19T19:50:38.867Z"
   },
   {
    "duration": -688,
    "start_time": "2022-01-19T19:50:38.871Z"
   },
   {
    "duration": -690,
    "start_time": "2022-01-19T19:50:38.874Z"
   },
   {
    "duration": -693,
    "start_time": "2022-01-19T19:50:38.878Z"
   },
   {
    "duration": -695,
    "start_time": "2022-01-19T19:50:38.881Z"
   },
   {
    "duration": -697,
    "start_time": "2022-01-19T19:50:38.884Z"
   },
   {
    "duration": -699,
    "start_time": "2022-01-19T19:50:38.887Z"
   },
   {
    "duration": -702,
    "start_time": "2022-01-19T19:50:38.891Z"
   },
   {
    "duration": -704,
    "start_time": "2022-01-19T19:50:38.894Z"
   },
   {
    "duration": -709,
    "start_time": "2022-01-19T19:50:38.900Z"
   },
   {
    "duration": -711,
    "start_time": "2022-01-19T19:50:38.903Z"
   },
   {
    "duration": -714,
    "start_time": "2022-01-19T19:50:38.907Z"
   },
   {
    "duration": -716,
    "start_time": "2022-01-19T19:50:38.910Z"
   },
   {
    "duration": -720,
    "start_time": "2022-01-19T19:50:38.914Z"
   },
   {
    "duration": -756,
    "start_time": "2022-01-19T19:50:38.951Z"
   },
   {
    "duration": 955,
    "start_time": "2022-01-19T19:54:46.848Z"
   },
   {
    "duration": 5,
    "start_time": "2022-01-19T19:54:58.116Z"
   },
   {
    "duration": 856,
    "start_time": "2022-01-19T19:55:05.440Z"
   },
   {
    "duration": 102,
    "start_time": "2022-01-19T19:55:06.298Z"
   },
   {
    "duration": 21,
    "start_time": "2022-01-19T19:55:06.402Z"
   },
   {
    "duration": 18,
    "start_time": "2022-01-19T19:55:06.425Z"
   },
   {
    "duration": 55,
    "start_time": "2022-01-19T19:55:06.445Z"
   },
   {
    "duration": 1862,
    "start_time": "2022-01-19T19:55:06.502Z"
   },
   {
    "duration": 31,
    "start_time": "2022-01-19T19:55:08.366Z"
   },
   {
    "duration": 7,
    "start_time": "2022-01-19T19:55:08.399Z"
   },
   {
    "duration": 8,
    "start_time": "2022-01-19T19:55:08.408Z"
   },
   {
    "duration": 69,
    "start_time": "2022-01-19T19:55:08.418Z"
   },
   {
    "duration": 2,
    "start_time": "2022-01-19T19:55:08.489Z"
   },
   {
    "duration": 31,
    "start_time": "2022-01-19T19:55:08.492Z"
   },
   {
    "duration": 15,
    "start_time": "2022-01-19T19:55:08.525Z"
   },
   {
    "duration": 1237,
    "start_time": "2022-01-19T19:55:08.541Z"
   },
   {
    "duration": 2,
    "start_time": "2022-01-19T19:55:09.780Z"
   },
   {
    "duration": 7,
    "start_time": "2022-01-19T19:55:09.784Z"
   },
   {
    "duration": 7,
    "start_time": "2022-01-19T19:55:09.792Z"
   },
   {
    "duration": 6,
    "start_time": "2022-01-19T19:55:09.800Z"
   },
   {
    "duration": 5,
    "start_time": "2022-01-19T19:55:09.808Z"
   },
   {
    "duration": 5,
    "start_time": "2022-01-19T19:55:09.814Z"
   },
   {
    "duration": 4,
    "start_time": "2022-01-19T19:55:09.821Z"
   },
   {
    "duration": 6,
    "start_time": "2022-01-19T19:55:09.827Z"
   },
   {
    "duration": 8198,
    "start_time": "2022-01-19T19:59:11.540Z"
   },
   {
    "duration": 251,
    "start_time": "2022-01-19T19:59:31.653Z"
   },
   {
    "duration": 264,
    "start_time": "2022-01-19T20:00:07.043Z"
   },
   {
    "duration": 279,
    "start_time": "2022-01-19T20:00:35.268Z"
   },
   {
    "duration": 272,
    "start_time": "2022-01-19T20:01:04.488Z"
   },
   {
    "duration": 490,
    "start_time": "2022-01-19T20:01:33.718Z"
   },
   {
    "duration": 405,
    "start_time": "2022-01-19T20:01:46.583Z"
   },
   {
    "duration": 255,
    "start_time": "2022-01-19T20:02:02.968Z"
   },
   {
    "duration": 267,
    "start_time": "2022-01-19T20:02:09.637Z"
   },
   {
    "duration": 371,
    "start_time": "2022-01-19T20:02:17.253Z"
   },
   {
    "duration": 21,
    "start_time": "2022-01-19T20:02:33.545Z"
   },
   {
    "duration": 282,
    "start_time": "2022-01-19T20:03:09.795Z"
   },
   {
    "duration": 29,
    "start_time": "2022-01-19T20:03:33.583Z"
   },
   {
    "duration": 245,
    "start_time": "2022-01-19T20:04:10.953Z"
   },
   {
    "duration": 268,
    "start_time": "2022-01-19T20:04:36.069Z"
   },
   {
    "duration": 7227,
    "start_time": "2022-01-19T20:05:00.687Z"
   },
   {
    "duration": 263,
    "start_time": "2022-01-19T20:05:33.377Z"
   },
   {
    "duration": 435,
    "start_time": "2022-01-19T20:05:43.827Z"
   },
   {
    "duration": 254,
    "start_time": "2022-01-19T20:05:53.696Z"
   },
   {
    "duration": 247,
    "start_time": "2022-01-19T20:07:10.904Z"
   },
   {
    "duration": 27,
    "start_time": "2022-01-19T20:14:09.125Z"
   },
   {
    "duration": 368,
    "start_time": "2022-01-19T20:15:44.217Z"
   },
   {
    "duration": 283,
    "start_time": "2022-01-19T20:16:38.811Z"
   },
   {
    "duration": 684,
    "start_time": "2022-01-19T20:16:46.824Z"
   },
   {
    "duration": 89,
    "start_time": "2022-01-19T20:16:47.510Z"
   },
   {
    "duration": 20,
    "start_time": "2022-01-19T20:16:47.601Z"
   },
   {
    "duration": 17,
    "start_time": "2022-01-19T20:16:47.623Z"
   },
   {
    "duration": 48,
    "start_time": "2022-01-19T20:16:47.642Z"
   },
   {
    "duration": 1609,
    "start_time": "2022-01-19T20:16:47.692Z"
   },
   {
    "duration": 24,
    "start_time": "2022-01-19T20:16:49.303Z"
   },
   {
    "duration": 5,
    "start_time": "2022-01-19T20:16:49.330Z"
   },
   {
    "duration": 35,
    "start_time": "2022-01-19T20:16:49.337Z"
   },
   {
    "duration": 29,
    "start_time": "2022-01-19T20:16:49.374Z"
   },
   {
    "duration": 2,
    "start_time": "2022-01-19T20:16:49.405Z"
   },
   {
    "duration": 22,
    "start_time": "2022-01-19T20:16:49.408Z"
   },
   {
    "duration": 39,
    "start_time": "2022-01-19T20:16:49.431Z"
   },
   {
    "duration": 1100,
    "start_time": "2022-01-19T20:16:49.471Z"
   },
   {
    "duration": 2,
    "start_time": "2022-01-19T20:16:50.572Z"
   },
   {
    "duration": 5,
    "start_time": "2022-01-19T20:16:50.576Z"
   },
   {
    "duration": 5,
    "start_time": "2022-01-19T20:16:50.582Z"
   },
   {
    "duration": 4,
    "start_time": "2022-01-19T20:16:50.588Z"
   },
   {
    "duration": 4,
    "start_time": "2022-01-19T20:16:50.594Z"
   },
   {
    "duration": 4,
    "start_time": "2022-01-19T20:16:50.599Z"
   },
   {
    "duration": 4,
    "start_time": "2022-01-19T20:16:50.605Z"
   },
   {
    "duration": 4,
    "start_time": "2022-01-19T20:16:50.611Z"
   },
   {
    "duration": 1035,
    "start_time": "2022-01-19T20:21:34.054Z"
   },
   {
    "duration": 1662,
    "start_time": "2022-01-19T20:22:50.854Z"
   },
   {
    "duration": 1032,
    "start_time": "2022-01-19T20:24:04.188Z"
   },
   {
    "duration": 3150,
    "start_time": "2022-01-19T20:26:29.033Z"
   },
   {
    "duration": 1337,
    "start_time": "2022-01-19T20:27:12.092Z"
   },
   {
    "duration": 1037,
    "start_time": "2022-01-19T20:27:56.579Z"
   },
   {
    "duration": 1128,
    "start_time": "2022-01-19T20:28:22.536Z"
   },
   {
    "duration": 1094,
    "start_time": "2022-01-19T20:29:25.289Z"
   },
   {
    "duration": 87,
    "start_time": "2022-01-19T20:34:25.123Z"
   },
   {
    "duration": 1333,
    "start_time": "2022-01-19T20:34:42.965Z"
   },
   {
    "duration": 1274,
    "start_time": "2022-01-19T20:35:22.406Z"
   },
   {
    "duration": 1370,
    "start_time": "2022-01-19T20:35:52.557Z"
   },
   {
    "duration": 1331,
    "start_time": "2022-01-19T20:36:09.680Z"
   },
   {
    "duration": 1289,
    "start_time": "2022-01-19T20:39:41.460Z"
   },
   {
    "duration": 1103,
    "start_time": "2022-01-19T20:40:33.531Z"
   },
   {
    "duration": 1059,
    "start_time": "2022-01-19T20:41:11.691Z"
   },
   {
    "duration": 1109,
    "start_time": "2022-01-19T20:41:42.564Z"
   },
   {
    "duration": 636,
    "start_time": "2022-01-19T20:42:05.217Z"
   },
   {
    "duration": 91,
    "start_time": "2022-01-19T20:42:05.855Z"
   },
   {
    "duration": 18,
    "start_time": "2022-01-19T20:42:05.948Z"
   },
   {
    "duration": 17,
    "start_time": "2022-01-19T20:42:05.968Z"
   },
   {
    "duration": 32,
    "start_time": "2022-01-19T20:42:05.987Z"
   },
   {
    "duration": 1964,
    "start_time": "2022-01-19T20:42:06.021Z"
   },
   {
    "duration": 31,
    "start_time": "2022-01-19T20:42:07.987Z"
   },
   {
    "duration": 5,
    "start_time": "2022-01-19T20:42:08.020Z"
   },
   {
    "duration": 39,
    "start_time": "2022-01-19T20:42:08.027Z"
   },
   {
    "duration": 29,
    "start_time": "2022-01-19T20:42:08.068Z"
   },
   {
    "duration": 2,
    "start_time": "2022-01-19T20:42:08.099Z"
   },
   {
    "duration": 26,
    "start_time": "2022-01-19T20:42:08.102Z"
   },
   {
    "duration": 35,
    "start_time": "2022-01-19T20:42:08.130Z"
   },
   {
    "duration": 1155,
    "start_time": "2022-01-19T20:42:08.167Z"
   },
   {
    "duration": 3,
    "start_time": "2022-01-19T20:42:09.324Z"
   },
   {
    "duration": 5,
    "start_time": "2022-01-19T20:42:09.328Z"
   },
   {
    "duration": 4,
    "start_time": "2022-01-19T20:42:09.335Z"
   },
   {
    "duration": 6,
    "start_time": "2022-01-19T20:42:09.341Z"
   },
   {
    "duration": 9,
    "start_time": "2022-01-19T20:42:09.361Z"
   },
   {
    "duration": 5,
    "start_time": "2022-01-19T20:42:09.372Z"
   },
   {
    "duration": 10,
    "start_time": "2022-01-19T20:42:09.379Z"
   },
   {
    "duration": 4,
    "start_time": "2022-01-19T20:42:09.391Z"
   },
   {
    "duration": 1057,
    "start_time": "2022-01-19T20:42:35.403Z"
   },
   {
    "duration": 1157,
    "start_time": "2022-01-19T20:44:23.750Z"
   },
   {
    "duration": 1124,
    "start_time": "2022-01-19T20:45:16.498Z"
   },
   {
    "duration": 1045,
    "start_time": "2022-01-19T20:45:42.285Z"
   },
   {
    "duration": 4409,
    "start_time": "2022-01-19T20:47:48.354Z"
   },
   {
    "duration": 1043,
    "start_time": "2022-01-19T20:48:13.838Z"
   },
   {
    "duration": 1130,
    "start_time": "2022-01-19T20:48:33.790Z"
   },
   {
    "duration": 869,
    "start_time": "2022-01-19T20:48:50.015Z"
   },
   {
    "duration": 89,
    "start_time": "2022-01-19T20:48:50.886Z"
   },
   {
    "duration": 18,
    "start_time": "2022-01-19T20:48:50.977Z"
   },
   {
    "duration": 45,
    "start_time": "2022-01-19T20:48:50.997Z"
   },
   {
    "duration": 67,
    "start_time": "2022-01-19T20:48:51.044Z"
   },
   {
    "duration": 1677,
    "start_time": "2022-01-19T20:48:51.113Z"
   },
   {
    "duration": 27,
    "start_time": "2022-01-19T20:48:52.792Z"
   },
   {
    "duration": 6,
    "start_time": "2022-01-19T20:48:52.821Z"
   },
   {
    "duration": 38,
    "start_time": "2022-01-19T20:48:52.829Z"
   },
   {
    "duration": 30,
    "start_time": "2022-01-19T20:48:52.869Z"
   },
   {
    "duration": 2,
    "start_time": "2022-01-19T20:48:52.901Z"
   },
   {
    "duration": 23,
    "start_time": "2022-01-19T20:48:52.905Z"
   },
   {
    "duration": 40,
    "start_time": "2022-01-19T20:48:52.930Z"
   },
   {
    "duration": 1180,
    "start_time": "2022-01-19T20:48:52.972Z"
   },
   {
    "duration": 2,
    "start_time": "2022-01-19T20:48:54.153Z"
   },
   {
    "duration": 8,
    "start_time": "2022-01-19T20:48:54.156Z"
   },
   {
    "duration": 5,
    "start_time": "2022-01-19T20:48:54.165Z"
   },
   {
    "duration": 5,
    "start_time": "2022-01-19T20:48:54.171Z"
   },
   {
    "duration": 10,
    "start_time": "2022-01-19T20:48:54.177Z"
   },
   {
    "duration": 5,
    "start_time": "2022-01-19T20:48:54.189Z"
   },
   {
    "duration": 4,
    "start_time": "2022-01-19T20:48:54.196Z"
   },
   {
    "duration": 7,
    "start_time": "2022-01-19T20:48:54.201Z"
   },
   {
    "duration": 1084,
    "start_time": "2022-01-19T20:50:49.679Z"
   },
   {
    "duration": 1115,
    "start_time": "2022-01-19T20:51:51.865Z"
   },
   {
    "duration": 1015,
    "start_time": "2022-01-19T20:52:52.167Z"
   },
   {
    "duration": 1324,
    "start_time": "2022-01-19T20:53:38.039Z"
   },
   {
    "duration": 6099,
    "start_time": "2022-01-19T20:54:04.517Z"
   },
   {
    "duration": 6683,
    "start_time": "2022-01-19T20:54:20.897Z"
   },
   {
    "duration": 1228,
    "start_time": "2022-01-19T20:54:46.618Z"
   },
   {
    "duration": 3,
    "start_time": "2022-01-19T20:56:20.858Z"
   },
   {
    "duration": 934,
    "start_time": "2022-01-19T20:56:28.980Z"
   },
   {
    "duration": 101,
    "start_time": "2022-01-19T20:56:29.916Z"
   },
   {
    "duration": 22,
    "start_time": "2022-01-19T20:56:30.019Z"
   },
   {
    "duration": 29,
    "start_time": "2022-01-19T20:56:30.043Z"
   },
   {
    "duration": 49,
    "start_time": "2022-01-19T20:56:30.074Z"
   },
   {
    "duration": 2011,
    "start_time": "2022-01-19T20:56:30.125Z"
   },
   {
    "duration": 35,
    "start_time": "2022-01-19T20:56:32.138Z"
   },
   {
    "duration": 6,
    "start_time": "2022-01-19T20:56:32.175Z"
   },
   {
    "duration": 18,
    "start_time": "2022-01-19T20:56:32.183Z"
   },
   {
    "duration": 27,
    "start_time": "2022-01-19T20:56:32.204Z"
   },
   {
    "duration": 27,
    "start_time": "2022-01-19T20:56:32.233Z"
   },
   {
    "duration": 20,
    "start_time": "2022-01-19T20:56:32.262Z"
   },
   {
    "duration": 13,
    "start_time": "2022-01-19T20:56:32.284Z"
   },
   {
    "duration": 1139,
    "start_time": "2022-01-19T20:56:32.298Z"
   },
   {
    "duration": 3,
    "start_time": "2022-01-19T20:56:33.439Z"
   },
   {
    "duration": 9,
    "start_time": "2022-01-19T20:56:33.443Z"
   },
   {
    "duration": 7,
    "start_time": "2022-01-19T20:56:33.454Z"
   },
   {
    "duration": 4,
    "start_time": "2022-01-19T20:56:33.463Z"
   },
   {
    "duration": 5,
    "start_time": "2022-01-19T20:56:33.469Z"
   },
   {
    "duration": 8,
    "start_time": "2022-01-19T20:56:33.475Z"
   },
   {
    "duration": 12,
    "start_time": "2022-01-19T20:56:33.485Z"
   },
   {
    "duration": 11,
    "start_time": "2022-01-19T20:56:33.499Z"
   },
   {
    "duration": 1065,
    "start_time": "2022-01-19T20:58:33.554Z"
   },
   {
    "duration": 652,
    "start_time": "2022-01-19T21:01:42.382Z"
   },
   {
    "duration": 91,
    "start_time": "2022-01-19T21:01:43.036Z"
   },
   {
    "duration": 31,
    "start_time": "2022-01-19T21:01:43.129Z"
   },
   {
    "duration": 38,
    "start_time": "2022-01-19T21:01:43.162Z"
   },
   {
    "duration": 51,
    "start_time": "2022-01-19T21:01:43.201Z"
   },
   {
    "duration": 1639,
    "start_time": "2022-01-19T21:01:43.253Z"
   },
   {
    "duration": 26,
    "start_time": "2022-01-19T21:01:44.894Z"
   },
   {
    "duration": 18,
    "start_time": "2022-01-19T21:01:44.922Z"
   },
   {
    "duration": 33,
    "start_time": "2022-01-19T21:01:44.942Z"
   },
   {
    "duration": 28,
    "start_time": "2022-01-19T21:01:44.976Z"
   },
   {
    "duration": 3,
    "start_time": "2022-01-19T21:01:45.006Z"
   },
   {
    "duration": 49,
    "start_time": "2022-01-19T21:01:45.011Z"
   },
   {
    "duration": 29,
    "start_time": "2022-01-19T21:01:45.062Z"
   },
   {
    "duration": 97,
    "start_time": "2022-01-19T21:01:45.093Z"
   },
   {
    "duration": -704,
    "start_time": "2022-01-19T21:01:45.896Z"
   },
   {
    "duration": -707,
    "start_time": "2022-01-19T21:01:45.900Z"
   },
   {
    "duration": -710,
    "start_time": "2022-01-19T21:01:45.904Z"
   },
   {
    "duration": -712,
    "start_time": "2022-01-19T21:01:45.907Z"
   },
   {
    "duration": -743,
    "start_time": "2022-01-19T21:01:45.939Z"
   },
   {
    "duration": -747,
    "start_time": "2022-01-19T21:01:45.944Z"
   },
   {
    "duration": -750,
    "start_time": "2022-01-19T21:01:45.948Z"
   },
   {
    "duration": -752,
    "start_time": "2022-01-19T21:01:45.951Z"
   },
   {
    "duration": 1085,
    "start_time": "2022-01-19T21:02:09.123Z"
   },
   {
    "duration": 1010,
    "start_time": "2022-01-19T21:02:28.779Z"
   },
   {
    "duration": 1178,
    "start_time": "2022-01-19T21:04:26.809Z"
   },
   {
    "duration": 1071,
    "start_time": "2022-01-19T21:04:49.713Z"
   },
   {
    "duration": 874,
    "start_time": "2022-01-19T21:05:34.456Z"
   },
   {
    "duration": 92,
    "start_time": "2022-01-19T21:05:35.332Z"
   },
   {
    "duration": 20,
    "start_time": "2022-01-19T21:05:35.426Z"
   },
   {
    "duration": 26,
    "start_time": "2022-01-19T21:05:35.448Z"
   },
   {
    "duration": 36,
    "start_time": "2022-01-19T21:05:35.476Z"
   },
   {
    "duration": 2076,
    "start_time": "2022-01-19T21:05:35.514Z"
   },
   {
    "duration": 27,
    "start_time": "2022-01-19T21:05:37.591Z"
   },
   {
    "duration": 5,
    "start_time": "2022-01-19T21:05:37.620Z"
   },
   {
    "duration": 38,
    "start_time": "2022-01-19T21:05:37.627Z"
   },
   {
    "duration": 29,
    "start_time": "2022-01-19T21:05:37.667Z"
   },
   {
    "duration": 3,
    "start_time": "2022-01-19T21:05:37.698Z"
   },
   {
    "duration": 21,
    "start_time": "2022-01-19T21:05:37.703Z"
   },
   {
    "duration": 43,
    "start_time": "2022-01-19T21:05:37.726Z"
   },
   {
    "duration": 1066,
    "start_time": "2022-01-19T21:05:37.772Z"
   },
   {
    "duration": 2,
    "start_time": "2022-01-19T21:05:38.840Z"
   },
   {
    "duration": 8,
    "start_time": "2022-01-19T21:05:38.844Z"
   },
   {
    "duration": 3,
    "start_time": "2022-01-19T21:05:38.861Z"
   },
   {
    "duration": 7,
    "start_time": "2022-01-19T21:05:38.866Z"
   },
   {
    "duration": 5,
    "start_time": "2022-01-19T21:05:38.875Z"
   },
   {
    "duration": 5,
    "start_time": "2022-01-19T21:05:38.882Z"
   },
   {
    "duration": 6,
    "start_time": "2022-01-19T21:05:38.888Z"
   },
   {
    "duration": 5,
    "start_time": "2022-01-19T21:05:38.895Z"
   },
   {
    "duration": 1030,
    "start_time": "2022-01-19T21:06:20.180Z"
   },
   {
    "duration": 1206,
    "start_time": "2022-01-19T21:07:46.284Z"
   },
   {
    "duration": 1010,
    "start_time": "2022-01-19T21:08:27.750Z"
   },
   {
    "duration": 991,
    "start_time": "2022-01-19T21:08:57.113Z"
   },
   {
    "duration": 1148,
    "start_time": "2022-01-19T21:13:36.270Z"
   },
   {
    "duration": 1049,
    "start_time": "2022-01-19T21:15:48.055Z"
   },
   {
    "duration": 1636,
    "start_time": "2022-01-19T21:18:00.546Z"
   },
   {
    "duration": 1036,
    "start_time": "2022-01-19T21:18:24.306Z"
   },
   {
    "duration": 1087,
    "start_time": "2022-01-19T21:18:49.797Z"
   },
   {
    "duration": 655,
    "start_time": "2022-01-19T21:19:40.068Z"
   },
   {
    "duration": 93,
    "start_time": "2022-01-19T21:19:40.725Z"
   },
   {
    "duration": 30,
    "start_time": "2022-01-19T21:19:40.821Z"
   },
   {
    "duration": 23,
    "start_time": "2022-01-19T21:19:40.861Z"
   },
   {
    "duration": 47,
    "start_time": "2022-01-19T21:19:40.886Z"
   },
   {
    "duration": 1825,
    "start_time": "2022-01-19T21:19:40.935Z"
   },
   {
    "duration": 27,
    "start_time": "2022-01-19T21:19:42.762Z"
   },
   {
    "duration": 4,
    "start_time": "2022-01-19T21:19:42.792Z"
   },
   {
    "duration": 18,
    "start_time": "2022-01-19T21:19:42.798Z"
   },
   {
    "duration": 51,
    "start_time": "2022-01-19T21:19:42.818Z"
   },
   {
    "duration": 2,
    "start_time": "2022-01-19T21:19:42.870Z"
   },
   {
    "duration": 22,
    "start_time": "2022-01-19T21:19:42.874Z"
   },
   {
    "duration": 13,
    "start_time": "2022-01-19T21:19:42.897Z"
   },
   {
    "duration": 1085,
    "start_time": "2022-01-19T21:19:42.912Z"
   },
   {
    "duration": 2,
    "start_time": "2022-01-19T21:19:43.999Z"
   },
   {
    "duration": 6,
    "start_time": "2022-01-19T21:19:44.003Z"
   },
   {
    "duration": 5,
    "start_time": "2022-01-19T21:19:44.010Z"
   },
   {
    "duration": 6,
    "start_time": "2022-01-19T21:19:44.016Z"
   },
   {
    "duration": 5,
    "start_time": "2022-01-19T21:19:44.023Z"
   },
   {
    "duration": 5,
    "start_time": "2022-01-19T21:19:44.029Z"
   },
   {
    "duration": 4,
    "start_time": "2022-01-19T21:19:44.036Z"
   },
   {
    "duration": 5,
    "start_time": "2022-01-19T21:19:44.042Z"
   },
   {
    "duration": 1060,
    "start_time": "2022-01-19T21:24:04.108Z"
   },
   {
    "duration": 1121,
    "start_time": "2022-01-19T21:26:32.146Z"
   },
   {
    "duration": 1018,
    "start_time": "2022-01-19T21:27:22.542Z"
   },
   {
    "duration": 218,
    "start_time": "2022-01-20T05:54:39.764Z"
   },
   {
    "duration": 584,
    "start_time": "2022-01-20T05:55:15.757Z"
   },
   {
    "duration": 92,
    "start_time": "2022-01-20T05:55:16.343Z"
   },
   {
    "duration": 17,
    "start_time": "2022-01-20T05:55:16.437Z"
   },
   {
    "duration": 17,
    "start_time": "2022-01-20T05:55:16.456Z"
   },
   {
    "duration": 50,
    "start_time": "2022-01-20T05:55:16.475Z"
   },
   {
    "duration": 1601,
    "start_time": "2022-01-20T05:55:16.527Z"
   },
   {
    "duration": 26,
    "start_time": "2022-01-20T05:55:18.129Z"
   },
   {
    "duration": 18,
    "start_time": "2022-01-20T05:55:18.158Z"
   },
   {
    "duration": 38,
    "start_time": "2022-01-20T05:55:18.178Z"
   },
   {
    "duration": 49,
    "start_time": "2022-01-20T05:55:18.217Z"
   },
   {
    "duration": 7,
    "start_time": "2022-01-20T05:55:18.268Z"
   },
   {
    "duration": 31,
    "start_time": "2022-01-20T05:55:18.277Z"
   },
   {
    "duration": 25,
    "start_time": "2022-01-20T05:55:18.309Z"
   },
   {
    "duration": 1396,
    "start_time": "2022-01-20T05:55:18.336Z"
   },
   {
    "duration": -700,
    "start_time": "2022-01-20T05:55:20.433Z"
   },
   {
    "duration": -705,
    "start_time": "2022-01-20T05:55:20.439Z"
   },
   {
    "duration": -708,
    "start_time": "2022-01-20T05:55:20.443Z"
   },
   {
    "duration": -710,
    "start_time": "2022-01-20T05:55:20.446Z"
   },
   {
    "duration": -713,
    "start_time": "2022-01-20T05:55:20.450Z"
   },
   {
    "duration": -715,
    "start_time": "2022-01-20T05:55:20.453Z"
   },
   {
    "duration": -717,
    "start_time": "2022-01-20T05:55:20.456Z"
   },
   {
    "duration": -719,
    "start_time": "2022-01-20T05:55:20.459Z"
   },
   {
    "duration": 1265,
    "start_time": "2022-01-20T05:59:02.063Z"
   },
   {
    "duration": 1142,
    "start_time": "2022-01-20T05:59:14.957Z"
   },
   {
    "duration": 1246,
    "start_time": "2022-01-20T05:59:51.966Z"
   },
   {
    "duration": 1065,
    "start_time": "2022-01-20T06:00:21.765Z"
   },
   {
    "duration": 1306,
    "start_time": "2022-01-20T06:04:06.443Z"
   },
   {
    "duration": 1023,
    "start_time": "2022-01-20T06:04:38.438Z"
   },
   {
    "duration": 1129,
    "start_time": "2022-01-20T06:05:05.824Z"
   },
   {
    "duration": 6330,
    "start_time": "2022-01-20T06:07:49.369Z"
   },
   {
    "duration": 5968,
    "start_time": "2022-01-20T06:08:11.950Z"
   },
   {
    "duration": 5780,
    "start_time": "2022-01-20T06:39:36.455Z"
   },
   {
    "duration": 5595,
    "start_time": "2022-01-20T06:40:54.306Z"
   },
   {
    "duration": 6068,
    "start_time": "2022-01-20T06:41:13.401Z"
   },
   {
    "duration": 5715,
    "start_time": "2022-01-20T06:42:39.434Z"
   },
   {
    "duration": 1124,
    "start_time": "2022-01-20T06:54:52.444Z"
   },
   {
    "duration": 1035,
    "start_time": "2022-01-20T06:59:20.982Z"
   },
   {
    "duration": 1140,
    "start_time": "2022-01-20T07:00:14.446Z"
   },
   {
    "duration": 1087,
    "start_time": "2022-01-20T07:01:53.953Z"
   },
   {
    "duration": 1153,
    "start_time": "2022-01-20T07:03:34.708Z"
   },
   {
    "duration": 1053,
    "start_time": "2022-01-20T07:09:57.767Z"
   },
   {
    "duration": 1124,
    "start_time": "2022-01-20T07:10:28.743Z"
   },
   {
    "duration": 1055,
    "start_time": "2022-01-20T07:10:55.672Z"
   },
   {
    "duration": 1167,
    "start_time": "2022-01-20T07:11:14.015Z"
   },
   {
    "duration": 1095,
    "start_time": "2022-01-20T07:11:33.263Z"
   },
   {
    "duration": 1134,
    "start_time": "2022-01-20T07:12:10.484Z"
   },
   {
    "duration": 1062,
    "start_time": "2022-01-20T07:13:13.743Z"
   },
   {
    "duration": 1103,
    "start_time": "2022-01-20T07:15:09.490Z"
   },
   {
    "duration": 1165,
    "start_time": "2022-01-20T07:16:21.669Z"
   },
   {
    "duration": 1074,
    "start_time": "2022-01-20T07:21:21.177Z"
   },
   {
    "duration": 1179,
    "start_time": "2022-01-20T07:29:25.746Z"
   },
   {
    "duration": 1073,
    "start_time": "2022-01-20T08:19:27.010Z"
   },
   {
    "duration": 1151,
    "start_time": "2022-01-20T09:20:40.246Z"
   },
   {
    "duration": 1126,
    "start_time": "2022-01-20T09:21:18.959Z"
   },
   {
    "duration": 1200,
    "start_time": "2022-01-20T09:22:31.719Z"
   },
   {
    "duration": 1107,
    "start_time": "2022-01-20T09:24:28.776Z"
   },
   {
    "duration": 1216,
    "start_time": "2022-01-20T09:28:40.946Z"
   },
   {
    "duration": 1088,
    "start_time": "2022-01-20T09:31:13.668Z"
   },
   {
    "duration": 1091,
    "start_time": "2022-01-20T09:32:10.338Z"
   },
   {
    "duration": 1202,
    "start_time": "2022-01-20T09:51:18.703Z"
   },
   {
    "duration": 1131,
    "start_time": "2022-01-20T09:51:33.291Z"
   },
   {
    "duration": 1180,
    "start_time": "2022-01-20T09:53:42.431Z"
   },
   {
    "duration": 1075,
    "start_time": "2022-01-20T10:00:17.467Z"
   },
   {
    "duration": 3,
    "start_time": "2022-01-20T10:00:30.987Z"
   },
   {
    "duration": 1576,
    "start_time": "2022-01-20T10:00:52.977Z"
   },
   {
    "duration": 1073,
    "start_time": "2022-01-20T10:01:48.826Z"
   },
   {
    "duration": 1198,
    "start_time": "2022-01-20T10:11:10.801Z"
   },
   {
    "duration": 1105,
    "start_time": "2022-01-20T10:14:05.169Z"
   },
   {
    "duration": 1236,
    "start_time": "2022-01-20T10:14:44.187Z"
   },
   {
    "duration": 1235,
    "start_time": "2022-01-20T10:15:38.965Z"
   },
   {
    "duration": 8,
    "start_time": "2022-01-20T10:17:18.789Z"
   },
   {
    "duration": 25,
    "start_time": "2022-01-20T10:18:17.642Z"
   },
   {
    "duration": 27,
    "start_time": "2022-01-20T10:19:02.569Z"
   },
   {
    "duration": 26,
    "start_time": "2022-01-20T10:19:38.057Z"
   },
   {
    "duration": 13,
    "start_time": "2022-01-20T10:19:49.017Z"
   },
   {
    "duration": 12,
    "start_time": "2022-01-20T10:19:56.366Z"
   },
   {
    "duration": 203,
    "start_time": "2022-01-20T10:21:41.511Z"
   },
   {
    "duration": 219,
    "start_time": "2022-01-20T10:22:11.978Z"
   },
   {
    "duration": 221,
    "start_time": "2022-01-20T10:22:33.356Z"
   },
   {
    "duration": 392,
    "start_time": "2022-01-20T10:23:55.443Z"
   },
   {
    "duration": 286,
    "start_time": "2022-01-20T10:24:11.254Z"
   },
   {
    "duration": 152,
    "start_time": "2022-01-20T10:24:18.869Z"
   },
   {
    "duration": 278,
    "start_time": "2022-01-20T10:25:08.000Z"
   },
   {
    "duration": 134,
    "start_time": "2022-01-20T10:25:16.831Z"
   },
   {
    "duration": 156,
    "start_time": "2022-01-20T10:26:31.392Z"
   },
   {
    "duration": 147,
    "start_time": "2022-01-20T10:26:41.674Z"
   },
   {
    "duration": 355,
    "start_time": "2022-01-20T10:26:55.472Z"
   },
   {
    "duration": 339,
    "start_time": "2022-01-20T10:28:07.909Z"
   },
   {
    "duration": 8,
    "start_time": "2022-01-20T10:29:02.780Z"
   },
   {
    "duration": 221,
    "start_time": "2022-01-20T10:30:13.037Z"
   },
   {
    "duration": 325,
    "start_time": "2022-01-20T10:32:42.584Z"
   },
   {
    "duration": 137,
    "start_time": "2022-01-20T10:32:58.010Z"
   },
   {
    "duration": 339,
    "start_time": "2022-01-20T10:33:37.438Z"
   },
   {
    "duration": 349,
    "start_time": "2022-01-20T10:33:45.897Z"
   },
   {
    "duration": 524,
    "start_time": "2022-01-20T10:34:45.860Z"
   },
   {
    "duration": 645,
    "start_time": "2022-01-20T10:35:07.137Z"
   },
   {
    "duration": 546,
    "start_time": "2022-01-20T10:36:12.781Z"
   },
   {
    "duration": 3,
    "start_time": "2022-01-20T10:36:15.826Z"
   },
   {
    "duration": 598,
    "start_time": "2022-01-20T10:36:20.628Z"
   },
   {
    "duration": 205,
    "start_time": "2022-01-20T10:39:55.287Z"
   },
   {
    "duration": 220,
    "start_time": "2022-01-20T10:40:01.582Z"
   },
   {
    "duration": 202,
    "start_time": "2022-01-20T10:40:26.326Z"
   },
   {
    "duration": 10,
    "start_time": "2022-01-20T10:45:02.564Z"
   },
   {
    "duration": 186,
    "start_time": "2022-01-20T10:45:49.968Z"
   },
   {
    "duration": 9,
    "start_time": "2022-01-20T10:46:17.395Z"
   },
   {
    "duration": 1178,
    "start_time": "2022-01-20T11:01:48.957Z"
   },
   {
    "duration": 322,
    "start_time": "2022-01-20T11:02:28.303Z"
   },
   {
    "duration": 558,
    "start_time": "2022-01-20T11:04:12.986Z"
   },
   {
    "duration": 203,
    "start_time": "2022-01-20T11:04:45.329Z"
   },
   {
    "duration": 10,
    "start_time": "2022-01-20T11:05:07.982Z"
   },
   {
    "duration": 645,
    "start_time": "2022-01-20T11:05:23.312Z"
   },
   {
    "duration": 337,
    "start_time": "2022-01-20T11:05:39.453Z"
   },
   {
    "duration": 640,
    "start_time": "2022-01-20T11:07:39.005Z"
   },
   {
    "duration": 92,
    "start_time": "2022-01-20T11:07:39.647Z"
   },
   {
    "duration": 18,
    "start_time": "2022-01-20T11:07:39.742Z"
   },
   {
    "duration": 33,
    "start_time": "2022-01-20T11:07:39.762Z"
   },
   {
    "duration": 74,
    "start_time": "2022-01-20T11:07:39.797Z"
   },
   {
    "duration": 1678,
    "start_time": "2022-01-20T11:07:39.873Z"
   },
   {
    "duration": 26,
    "start_time": "2022-01-20T11:07:41.553Z"
   },
   {
    "duration": 19,
    "start_time": "2022-01-20T11:07:41.581Z"
   },
   {
    "duration": 43,
    "start_time": "2022-01-20T11:07:41.602Z"
   },
   {
    "duration": 29,
    "start_time": "2022-01-20T11:07:41.646Z"
   },
   {
    "duration": 2,
    "start_time": "2022-01-20T11:07:41.677Z"
   },
   {
    "duration": 38,
    "start_time": "2022-01-20T11:07:41.681Z"
   },
   {
    "duration": 17,
    "start_time": "2022-01-20T11:07:41.721Z"
   },
   {
    "duration": 1174,
    "start_time": "2022-01-20T11:07:41.740Z"
   },
   {
    "duration": 363,
    "start_time": "2022-01-20T11:07:42.916Z"
   },
   {
    "duration": 560,
    "start_time": "2022-01-20T11:07:43.280Z"
   },
   {
    "duration": 208,
    "start_time": "2022-01-20T11:07:43.842Z"
   },
   {
    "duration": 9,
    "start_time": "2022-01-20T11:07:44.051Z"
   },
   {
    "duration": 49,
    "start_time": "2022-01-20T11:07:44.061Z"
   },
   {
    "duration": 20,
    "start_time": "2022-01-20T11:07:44.112Z"
   },
   {
    "duration": 20,
    "start_time": "2022-01-20T11:07:44.134Z"
   },
   {
    "duration": 27,
    "start_time": "2022-01-20T11:07:44.156Z"
   },
   {
    "duration": -555,
    "start_time": "2022-01-20T11:10:38.311Z"
   },
   {
    "duration": -561,
    "start_time": "2022-01-20T11:10:38.318Z"
   },
   {
    "duration": 639,
    "start_time": "2022-01-20T11:10:47.667Z"
   },
   {
    "duration": 94,
    "start_time": "2022-01-20T11:10:48.308Z"
   },
   {
    "duration": 19,
    "start_time": "2022-01-20T11:10:48.404Z"
   },
   {
    "duration": 17,
    "start_time": "2022-01-20T11:10:48.425Z"
   },
   {
    "duration": 53,
    "start_time": "2022-01-20T11:10:48.444Z"
   },
   {
    "duration": 1649,
    "start_time": "2022-01-20T11:10:48.499Z"
   },
   {
    "duration": 27,
    "start_time": "2022-01-20T11:10:50.150Z"
   },
   {
    "duration": 20,
    "start_time": "2022-01-20T11:10:50.180Z"
   },
   {
    "duration": 19,
    "start_time": "2022-01-20T11:10:50.202Z"
   },
   {
    "duration": 28,
    "start_time": "2022-01-20T11:10:50.222Z"
   },
   {
    "duration": 2,
    "start_time": "2022-01-20T11:10:50.251Z"
   },
   {
    "duration": 45,
    "start_time": "2022-01-20T11:10:50.255Z"
   },
   {
    "duration": 14,
    "start_time": "2022-01-20T11:10:50.302Z"
   },
   {
    "duration": 1157,
    "start_time": "2022-01-20T11:10:50.318Z"
   },
   {
    "duration": 345,
    "start_time": "2022-01-20T11:10:51.477Z"
   },
   {
    "duration": 562,
    "start_time": "2022-01-20T11:10:51.824Z"
   },
   {
    "duration": 209,
    "start_time": "2022-01-20T11:10:52.388Z"
   },
   {
    "duration": 8,
    "start_time": "2022-01-20T11:10:52.599Z"
   },
   {
    "duration": 15,
    "start_time": "2022-01-20T11:10:52.609Z"
   },
   {
    "duration": 37,
    "start_time": "2022-01-20T11:10:52.625Z"
   },
   {
    "duration": 43,
    "start_time": "2022-01-20T11:10:52.663Z"
   },
   {
    "duration": 33,
    "start_time": "2022-01-20T11:10:52.708Z"
   },
   {
    "duration": 19,
    "start_time": "2022-01-20T11:10:52.744Z"
   },
   {
    "duration": 378,
    "start_time": "2022-01-20T11:11:16.766Z"
   },
   {
    "duration": 487,
    "start_time": "2022-01-20T11:11:40.619Z"
   },
   {
    "duration": 590,
    "start_time": "2022-01-20T11:16:35.710Z"
   },
   {
    "duration": 1668,
    "start_time": "2022-01-20T11:34:00.148Z"
   },
   {
    "duration": 1998,
    "start_time": "2022-01-20T11:34:24.355Z"
   },
   {
    "duration": 1960,
    "start_time": "2022-01-20T11:34:36.452Z"
   },
   {
    "duration": 4001,
    "start_time": "2022-01-20T11:35:07.745Z"
   },
   {
    "duration": 3719,
    "start_time": "2022-01-20T11:35:19.735Z"
   },
   {
    "duration": 677,
    "start_time": "2022-01-20T11:35:48.578Z"
   },
   {
    "duration": 97,
    "start_time": "2022-01-20T11:35:49.257Z"
   },
   {
    "duration": 19,
    "start_time": "2022-01-20T11:35:49.356Z"
   },
   {
    "duration": 30,
    "start_time": "2022-01-20T11:35:49.377Z"
   },
   {
    "duration": 55,
    "start_time": "2022-01-20T11:35:49.408Z"
   },
   {
    "duration": 1732,
    "start_time": "2022-01-20T11:35:49.465Z"
   },
   {
    "duration": 28,
    "start_time": "2022-01-20T11:35:51.199Z"
   },
   {
    "duration": 5,
    "start_time": "2022-01-20T11:35:51.230Z"
   },
   {
    "duration": 22,
    "start_time": "2022-01-20T11:35:51.237Z"
   },
   {
    "duration": 50,
    "start_time": "2022-01-20T11:35:51.261Z"
   },
   {
    "duration": 2,
    "start_time": "2022-01-20T11:35:51.313Z"
   },
   {
    "duration": 24,
    "start_time": "2022-01-20T11:35:51.317Z"
   },
   {
    "duration": 14,
    "start_time": "2022-01-20T11:35:51.343Z"
   },
   {
    "duration": 1217,
    "start_time": "2022-01-20T11:35:51.359Z"
   },
   {
    "duration": 355,
    "start_time": "2022-01-20T11:35:52.578Z"
   },
   {
    "duration": 601,
    "start_time": "2022-01-20T11:35:52.934Z"
   },
   {
    "duration": 405,
    "start_time": "2022-01-20T11:35:53.536Z"
   },
   {
    "duration": 9,
    "start_time": "2022-01-20T11:35:53.943Z"
   },
   {
    "duration": 6,
    "start_time": "2022-01-20T11:35:53.954Z"
   },
   {
    "duration": 7,
    "start_time": "2022-01-20T11:35:53.962Z"
   },
   {
    "duration": 8,
    "start_time": "2022-01-20T11:35:53.971Z"
   },
   {
    "duration": 3,
    "start_time": "2022-01-20T11:35:53.997Z"
   },
   {
    "duration": 3817,
    "start_time": "2022-01-20T11:35:54.003Z"
   },
   {
    "duration": 880,
    "start_time": "2022-01-20T11:53:13.622Z"
   },
   {
    "duration": 1123,
    "start_time": "2022-01-20T11:54:45.235Z"
   },
   {
    "duration": 2042,
    "start_time": "2022-01-20T11:55:24.210Z"
   },
   {
    "duration": 6,
    "start_time": "2022-01-20T11:55:42.074Z"
   },
   {
    "duration": 12,
    "start_time": "2022-01-20T11:56:21.183Z"
   },
   {
    "duration": 19,
    "start_time": "2022-01-20T11:57:10.014Z"
   },
   {
    "duration": 3632,
    "start_time": "2022-01-20T11:59:27.984Z"
   },
   {
    "duration": 1899,
    "start_time": "2022-01-20T12:01:33.542Z"
   },
   {
    "duration": 594,
    "start_time": "2022-01-20T12:01:45.553Z"
   },
   {
    "duration": 95,
    "start_time": "2022-01-20T12:01:46.149Z"
   },
   {
    "duration": 18,
    "start_time": "2022-01-20T12:01:46.246Z"
   },
   {
    "duration": 32,
    "start_time": "2022-01-20T12:01:46.266Z"
   },
   {
    "duration": 32,
    "start_time": "2022-01-20T12:01:46.300Z"
   },
   {
    "duration": 1642,
    "start_time": "2022-01-20T12:01:46.334Z"
   },
   {
    "duration": 36,
    "start_time": "2022-01-20T12:01:47.978Z"
   },
   {
    "duration": 5,
    "start_time": "2022-01-20T12:01:48.016Z"
   },
   {
    "duration": 23,
    "start_time": "2022-01-20T12:01:48.023Z"
   },
   {
    "duration": 28,
    "start_time": "2022-01-20T12:01:48.047Z"
   },
   {
    "duration": 21,
    "start_time": "2022-01-20T12:01:48.077Z"
   },
   {
    "duration": 24,
    "start_time": "2022-01-20T12:01:48.100Z"
   },
   {
    "duration": 14,
    "start_time": "2022-01-20T12:01:48.126Z"
   },
   {
    "duration": 1193,
    "start_time": "2022-01-20T12:01:48.142Z"
   },
   {
    "duration": 349,
    "start_time": "2022-01-20T12:01:49.337Z"
   },
   {
    "duration": 541,
    "start_time": "2022-01-20T12:01:49.688Z"
   },
   {
    "duration": 218,
    "start_time": "2022-01-20T12:01:50.231Z"
   },
   {
    "duration": 9,
    "start_time": "2022-01-20T12:01:50.451Z"
   },
   {
    "duration": 6,
    "start_time": "2022-01-20T12:01:50.461Z"
   },
   {
    "duration": 6,
    "start_time": "2022-01-20T12:01:50.469Z"
   },
   {
    "duration": 20,
    "start_time": "2022-01-20T12:01:50.477Z"
   },
   {
    "duration": 8,
    "start_time": "2022-01-20T12:01:50.499Z"
   },
   {
    "duration": 1872,
    "start_time": "2022-01-20T12:01:50.510Z"
   },
   {
    "duration": 1103,
    "start_time": "2022-01-20T12:12:25.860Z"
   },
   {
    "duration": 640,
    "start_time": "2022-01-20T12:12:37.995Z"
   },
   {
    "duration": 93,
    "start_time": "2022-01-20T12:12:38.638Z"
   },
   {
    "duration": 19,
    "start_time": "2022-01-20T12:12:38.734Z"
   },
   {
    "duration": 17,
    "start_time": "2022-01-20T12:12:38.755Z"
   },
   {
    "duration": 49,
    "start_time": "2022-01-20T12:12:38.774Z"
   },
   {
    "duration": 1672,
    "start_time": "2022-01-20T12:12:38.825Z"
   },
   {
    "duration": 27,
    "start_time": "2022-01-20T12:12:40.499Z"
   },
   {
    "duration": 5,
    "start_time": "2022-01-20T12:12:40.528Z"
   },
   {
    "duration": 19,
    "start_time": "2022-01-20T12:12:40.534Z"
   },
   {
    "duration": 55,
    "start_time": "2022-01-20T12:12:40.555Z"
   },
   {
    "duration": 2,
    "start_time": "2022-01-20T12:12:40.611Z"
   },
   {
    "duration": 38,
    "start_time": "2022-01-20T12:12:40.614Z"
   },
   {
    "duration": 22,
    "start_time": "2022-01-20T12:12:40.654Z"
   },
   {
    "duration": 1191,
    "start_time": "2022-01-20T12:12:40.677Z"
   },
   {
    "duration": 376,
    "start_time": "2022-01-20T12:12:41.869Z"
   },
   {
    "duration": 550,
    "start_time": "2022-01-20T12:12:42.247Z"
   },
   {
    "duration": 205,
    "start_time": "2022-01-20T12:12:42.799Z"
   },
   {
    "duration": 9,
    "start_time": "2022-01-20T12:12:43.006Z"
   },
   {
    "duration": 4,
    "start_time": "2022-01-20T12:12:43.017Z"
   },
   {
    "duration": 5,
    "start_time": "2022-01-20T12:12:43.023Z"
   },
   {
    "duration": 8,
    "start_time": "2022-01-20T12:12:43.030Z"
   },
   {
    "duration": 5,
    "start_time": "2022-01-20T12:12:43.039Z"
   },
   {
    "duration": 1808,
    "start_time": "2022-01-20T12:12:43.047Z"
   },
   {
    "duration": 3599,
    "start_time": "2022-01-20T12:13:06.364Z"
   },
   {
    "duration": 298,
    "start_time": "2022-01-20T12:20:40.994Z"
   },
   {
    "duration": 189,
    "start_time": "2022-01-20T12:25:29.361Z"
   },
   {
    "duration": 71,
    "start_time": "2022-01-20T12:25:46.715Z"
   },
   {
    "duration": 64,
    "start_time": "2022-01-20T12:31:53.763Z"
   },
   {
    "duration": 26,
    "start_time": "2022-01-20T12:32:00.636Z"
   },
   {
    "duration": 31,
    "start_time": "2022-01-20T12:58:25.438Z"
   },
   {
    "duration": 33,
    "start_time": "2022-01-20T13:03:33.879Z"
   },
   {
    "duration": 31,
    "start_time": "2022-01-20T13:04:59.890Z"
   },
   {
    "duration": 29,
    "start_time": "2022-01-20T13:05:28.787Z"
   },
   {
    "duration": 30,
    "start_time": "2022-01-20T13:06:44.431Z"
   },
   {
    "duration": 693,
    "start_time": "2022-01-20T13:15:07.695Z"
   },
   {
    "duration": 712,
    "start_time": "2022-01-20T13:16:03.299Z"
   },
   {
    "duration": 870,
    "start_time": "2022-01-20T13:18:34.702Z"
   },
   {
    "duration": 792,
    "start_time": "2022-01-20T13:26:08.909Z"
   },
   {
    "duration": 735,
    "start_time": "2022-01-20T13:26:49.475Z"
   },
   {
    "duration": 687,
    "start_time": "2022-01-20T13:26:58.845Z"
   },
   {
    "duration": 690,
    "start_time": "2022-01-20T13:27:24.176Z"
   },
   {
    "duration": 684,
    "start_time": "2022-01-20T13:27:37.996Z"
   },
   {
    "duration": 684,
    "start_time": "2022-01-20T13:27:53.768Z"
   },
   {
    "duration": 804,
    "start_time": "2022-01-20T13:28:21.795Z"
   },
   {
    "duration": 6964,
    "start_time": "2022-01-20T13:28:28.588Z"
   },
   {
    "duration": 679,
    "start_time": "2022-01-20T13:28:46.612Z"
   },
   {
    "duration": 650,
    "start_time": "2022-01-20T13:32:42.557Z"
   },
   {
    "duration": 835,
    "start_time": "2022-01-20T13:33:00.588Z"
   },
   {
    "duration": 705,
    "start_time": "2022-01-20T13:33:13.876Z"
   },
   {
    "duration": 708,
    "start_time": "2022-01-20T13:33:26.475Z"
   },
   {
    "duration": 710,
    "start_time": "2022-01-20T13:33:59.982Z"
   },
   {
    "duration": 668,
    "start_time": "2022-01-20T13:34:28.232Z"
   },
   {
    "duration": 1244,
    "start_time": "2022-01-20T13:36:42.786Z"
   },
   {
    "duration": 1051,
    "start_time": "2022-01-20T13:36:58.278Z"
   },
   {
    "duration": 985,
    "start_time": "2022-01-20T13:37:18.715Z"
   },
   {
    "duration": 1032,
    "start_time": "2022-01-20T13:37:27.832Z"
   },
   {
    "duration": 1091,
    "start_time": "2022-01-20T13:37:56.536Z"
   },
   {
    "duration": 1024,
    "start_time": "2022-01-20T13:38:09.288Z"
   },
   {
    "duration": 964,
    "start_time": "2022-01-20T13:38:26.370Z"
   },
   {
    "duration": 697,
    "start_time": "2022-01-20T14:10:30.208Z"
   },
   {
    "duration": 708,
    "start_time": "2022-01-20T14:14:19.762Z"
   },
   {
    "duration": 1304,
    "start_time": "2022-01-20T14:28:16.339Z"
   },
   {
    "duration": 1349,
    "start_time": "2022-01-20T14:29:05.198Z"
   },
   {
    "duration": 1329,
    "start_time": "2022-01-20T14:32:50.655Z"
   },
   {
    "duration": 181,
    "start_time": "2022-01-20T14:56:58.350Z"
   },
   {
    "duration": 4,
    "start_time": "2022-01-20T14:57:04.689Z"
   },
   {
    "duration": 3,
    "start_time": "2022-01-20T14:57:12.734Z"
   },
   {
    "duration": 11,
    "start_time": "2022-01-20T14:58:25.050Z"
   },
   {
    "duration": 714,
    "start_time": "2022-01-21T08:31:08.051Z"
   },
   {
    "duration": 88,
    "start_time": "2022-01-21T08:31:08.767Z"
   },
   {
    "duration": 18,
    "start_time": "2022-01-21T08:31:08.858Z"
   },
   {
    "duration": 20,
    "start_time": "2022-01-21T08:31:08.878Z"
   },
   {
    "duration": 53,
    "start_time": "2022-01-21T08:31:08.900Z"
   },
   {
    "duration": 1655,
    "start_time": "2022-01-21T08:31:08.958Z"
   },
   {
    "duration": 39,
    "start_time": "2022-01-21T08:31:10.614Z"
   },
   {
    "duration": 6,
    "start_time": "2022-01-21T08:31:10.656Z"
   },
   {
    "duration": 18,
    "start_time": "2022-01-21T08:31:10.663Z"
   },
   {
    "duration": 25,
    "start_time": "2022-01-21T08:31:10.682Z"
   },
   {
    "duration": 2,
    "start_time": "2022-01-21T08:31:10.709Z"
   },
   {
    "duration": 48,
    "start_time": "2022-01-21T08:31:10.712Z"
   },
   {
    "duration": 22,
    "start_time": "2022-01-21T08:31:10.762Z"
   },
   {
    "duration": 1140,
    "start_time": "2022-01-21T08:31:10.785Z"
   },
   {
    "duration": 335,
    "start_time": "2022-01-21T08:31:11.927Z"
   },
   {
    "duration": 510,
    "start_time": "2022-01-21T08:31:12.264Z"
   },
   {
    "duration": 233,
    "start_time": "2022-01-21T08:31:12.776Z"
   },
   {
    "duration": 8,
    "start_time": "2022-01-21T08:31:13.010Z"
   },
   {
    "duration": 20,
    "start_time": "2022-01-21T08:31:13.019Z"
   },
   {
    "duration": 31,
    "start_time": "2022-01-21T08:31:13.040Z"
   },
   {
    "duration": 11,
    "start_time": "2022-01-21T08:31:13.073Z"
   },
   {
    "duration": 29,
    "start_time": "2022-01-21T08:31:13.086Z"
   },
   {
    "duration": 3440,
    "start_time": "2022-01-21T08:31:13.118Z"
   },
   {
    "duration": 1370,
    "start_time": "2022-01-21T08:31:16.559Z"
   },
   {
    "duration": 24,
    "start_time": "2022-01-21T08:31:17.931Z"
   },
   {
    "duration": 83,
    "start_time": "2022-01-21T08:31:55.729Z"
   },
   {
    "duration": 318,
    "start_time": "2022-01-21T08:32:28.474Z"
   },
   {
    "duration": 262,
    "start_time": "2022-01-21T08:33:14.925Z"
   },
   {
    "duration": 274,
    "start_time": "2022-01-21T08:33:35.110Z"
   },
   {
    "duration": 246,
    "start_time": "2022-01-21T08:35:36.629Z"
   },
   {
    "duration": 8,
    "start_time": "2022-01-21T08:37:46.848Z"
   },
   {
    "duration": 610,
    "start_time": "2022-01-21T08:37:56.010Z"
   },
   {
    "duration": 530,
    "start_time": "2022-01-21T08:38:48.163Z"
   },
   {
    "duration": 399,
    "start_time": "2022-01-21T08:38:58.113Z"
   },
   {
    "duration": 456,
    "start_time": "2022-01-21T08:48:11.940Z"
   },
   {
    "duration": 336,
    "start_time": "2022-01-21T08:54:25.965Z"
   },
   {
    "duration": 366,
    "start_time": "2022-01-21T08:54:51.837Z"
   },
   {
    "duration": 255,
    "start_time": "2022-01-21T08:55:35.191Z"
   },
   {
    "duration": 256,
    "start_time": "2022-01-21T08:55:40.543Z"
   },
   {
    "duration": 288,
    "start_time": "2022-01-21T08:56:08.291Z"
   },
   {
    "duration": 11,
    "start_time": "2022-01-21T09:01:00.424Z"
   },
   {
    "duration": 11,
    "start_time": "2022-01-21T09:01:08.540Z"
   },
   {
    "duration": 192,
    "start_time": "2022-01-21T09:01:41.539Z"
   },
   {
    "duration": 447,
    "start_time": "2022-01-21T09:02:02.940Z"
   },
   {
    "duration": 604,
    "start_time": "2022-01-21T18:06:15.067Z"
   },
   {
    "duration": 82,
    "start_time": "2022-01-21T18:06:15.673Z"
   },
   {
    "duration": 17,
    "start_time": "2022-01-21T18:06:15.757Z"
   },
   {
    "duration": 14,
    "start_time": "2022-01-21T18:06:15.776Z"
   },
   {
    "duration": 41,
    "start_time": "2022-01-21T18:06:15.792Z"
   },
   {
    "duration": 1494,
    "start_time": "2022-01-21T18:06:15.835Z"
   },
   {
    "duration": 26,
    "start_time": "2022-01-21T18:06:17.331Z"
   },
   {
    "duration": 4,
    "start_time": "2022-01-21T18:06:17.360Z"
   },
   {
    "duration": 15,
    "start_time": "2022-01-21T18:06:17.366Z"
   },
   {
    "duration": 49,
    "start_time": "2022-01-21T18:06:17.383Z"
   },
   {
    "duration": 2,
    "start_time": "2022-01-21T18:06:17.433Z"
   },
   {
    "duration": 17,
    "start_time": "2022-01-21T18:06:17.437Z"
   },
   {
    "duration": 12,
    "start_time": "2022-01-21T18:06:17.456Z"
   },
   {
    "duration": 1019,
    "start_time": "2022-01-21T18:06:17.469Z"
   },
   {
    "duration": 295,
    "start_time": "2022-01-21T18:06:18.490Z"
   },
   {
    "duration": 457,
    "start_time": "2022-01-21T18:06:18.786Z"
   },
   {
    "duration": 183,
    "start_time": "2022-01-21T18:06:19.245Z"
   },
   {
    "duration": 8,
    "start_time": "2022-01-21T18:06:19.429Z"
   },
   {
    "duration": 6,
    "start_time": "2022-01-21T18:06:19.439Z"
   },
   {
    "duration": 4,
    "start_time": "2022-01-21T18:06:19.446Z"
   },
   {
    "duration": 6,
    "start_time": "2022-01-21T18:06:19.451Z"
   },
   {
    "duration": 6,
    "start_time": "2022-01-21T18:06:19.458Z"
   },
   {
    "duration": 3079,
    "start_time": "2022-01-21T18:06:19.467Z"
   },
   {
    "duration": 1197,
    "start_time": "2022-01-21T18:06:22.547Z"
   },
   {
    "duration": 509,
    "start_time": "2022-01-21T18:06:23.745Z"
   },
   {
    "duration": 128,
    "start_time": "2022-01-21T18:07:57.051Z"
   },
   {
    "duration": 342,
    "start_time": "2022-01-21T18:08:02.885Z"
   },
   {
    "duration": 336,
    "start_time": "2022-01-21T18:14:22.204Z"
   },
   {
    "duration": 411,
    "start_time": "2022-01-21T18:15:00.670Z"
   },
   {
    "duration": 346,
    "start_time": "2022-01-21T18:15:45.918Z"
   },
   {
    "duration": 327,
    "start_time": "2022-01-21T18:16:08.601Z"
   },
   {
    "duration": 183,
    "start_time": "2022-01-21T18:16:44.556Z"
   },
   {
    "duration": 9,
    "start_time": "2022-01-21T18:21:54.010Z"
   },
   {
    "duration": 171,
    "start_time": "2022-01-21T18:22:53.610Z"
   },
   {
    "duration": 165,
    "start_time": "2022-01-21T18:23:14.854Z"
   },
   {
    "duration": 342,
    "start_time": "2022-01-21T18:27:19.521Z"
   },
   {
    "duration": 7863,
    "start_time": "2022-01-21T18:27:38.757Z"
   },
   {
    "duration": 777,
    "start_time": "2022-01-21T18:27:57.326Z"
   },
   {
    "duration": 663,
    "start_time": "2022-01-21T18:28:08.776Z"
   },
   {
    "duration": 1844,
    "start_time": "2022-01-21T18:30:01.555Z"
   },
   {
    "duration": 168,
    "start_time": "2022-01-21T18:32:23.500Z"
   },
   {
    "duration": 492,
    "start_time": "2022-01-21T18:33:00.188Z"
   },
   {
    "duration": 173,
    "start_time": "2022-01-21T18:33:04.637Z"
   },
   {
    "duration": 168,
    "start_time": "2022-01-21T18:33:55.462Z"
   },
   {
    "duration": 2000,
    "start_time": "2022-01-21T18:41:55.986Z"
   },
   {
    "duration": 1634,
    "start_time": "2022-01-21T18:43:24.862Z"
   },
   {
    "duration": 1705,
    "start_time": "2022-01-21T18:43:43.244Z"
   },
   {
    "duration": 1799,
    "start_time": "2022-01-21T18:45:01.854Z"
   },
   {
    "duration": 1791,
    "start_time": "2022-01-21T18:53:06.880Z"
   },
   {
    "duration": 1771,
    "start_time": "2022-01-21T18:56:17.596Z"
   },
   {
    "duration": 1813,
    "start_time": "2022-01-21T18:59:00.364Z"
   },
   {
    "duration": 1714,
    "start_time": "2022-01-21T18:59:11.954Z"
   },
   {
    "duration": 634,
    "start_time": "2022-01-21T21:02:07.201Z"
   },
   {
    "duration": 86,
    "start_time": "2022-01-21T21:02:07.837Z"
   },
   {
    "duration": 17,
    "start_time": "2022-01-21T21:02:07.925Z"
   },
   {
    "duration": 16,
    "start_time": "2022-01-21T21:02:07.944Z"
   },
   {
    "duration": 29,
    "start_time": "2022-01-21T21:02:07.962Z"
   },
   {
    "duration": 1574,
    "start_time": "2022-01-21T21:02:08.012Z"
   },
   {
    "duration": 34,
    "start_time": "2022-01-21T21:02:09.587Z"
   },
   {
    "duration": 5,
    "start_time": "2022-01-21T21:02:09.622Z"
   },
   {
    "duration": 17,
    "start_time": "2022-01-21T21:02:09.629Z"
   },
   {
    "duration": 26,
    "start_time": "2022-01-21T21:02:09.648Z"
   },
   {
    "duration": 2,
    "start_time": "2022-01-21T21:02:09.676Z"
   },
   {
    "duration": 43,
    "start_time": "2022-01-21T21:02:09.679Z"
   },
   {
    "duration": 13,
    "start_time": "2022-01-21T21:02:09.724Z"
   },
   {
    "duration": 1101,
    "start_time": "2022-01-21T21:02:09.739Z"
   },
   {
    "duration": 343,
    "start_time": "2022-01-21T21:02:10.842Z"
   },
   {
    "duration": 525,
    "start_time": "2022-01-21T21:02:11.187Z"
   },
   {
    "duration": 214,
    "start_time": "2022-01-21T21:02:11.714Z"
   },
   {
    "duration": 8,
    "start_time": "2022-01-21T21:02:11.929Z"
   },
   {
    "duration": 4,
    "start_time": "2022-01-21T21:02:11.939Z"
   },
   {
    "duration": 7,
    "start_time": "2022-01-21T21:02:11.944Z"
   },
   {
    "duration": 4,
    "start_time": "2022-01-21T21:02:11.952Z"
   },
   {
    "duration": 4,
    "start_time": "2022-01-21T21:02:11.958Z"
   },
   {
    "duration": 3604,
    "start_time": "2022-01-21T21:02:11.963Z"
   },
   {
    "duration": 1320,
    "start_time": "2022-01-21T21:02:15.569Z"
   },
   {
    "duration": 196,
    "start_time": "2022-01-21T21:02:16.891Z"
   },
   {
    "duration": 1683,
    "start_time": "2022-01-21T21:02:17.089Z"
   },
   {
    "duration": 1627,
    "start_time": "2022-01-21T21:03:07.642Z"
   },
   {
    "duration": 3079,
    "start_time": "2022-01-21T21:03:49.820Z"
   },
   {
    "duration": 1785,
    "start_time": "2022-01-21T21:04:12.108Z"
   },
   {
    "duration": 1682,
    "start_time": "2022-01-21T21:05:56.084Z"
   },
   {
    "duration": 1843,
    "start_time": "2022-01-21T21:06:18.811Z"
   },
   {
    "duration": 1802,
    "start_time": "2022-01-21T21:06:56.696Z"
   },
   {
    "duration": 1818,
    "start_time": "2022-01-21T21:07:09.132Z"
   },
   {
    "duration": 1890,
    "start_time": "2022-01-21T21:07:24.026Z"
   },
   {
    "duration": 2003,
    "start_time": "2022-01-21T21:08:37.117Z"
   },
   {
    "duration": 2234,
    "start_time": "2022-01-21T21:10:52.539Z"
   },
   {
    "duration": 2017,
    "start_time": "2022-01-21T21:11:06.535Z"
   },
   {
    "duration": 2009,
    "start_time": "2022-01-21T21:11:44.858Z"
   },
   {
    "duration": 2067,
    "start_time": "2022-01-21T21:12:05.819Z"
   },
   {
    "duration": 2884,
    "start_time": "2022-01-21T21:12:23.975Z"
   },
   {
    "duration": 6834,
    "start_time": "2022-01-21T21:12:45.623Z"
   },
   {
    "duration": 7000,
    "start_time": "2022-01-21T21:12:59.920Z"
   },
   {
    "duration": 7060,
    "start_time": "2022-01-21T21:13:26.565Z"
   },
   {
    "duration": 2861,
    "start_time": "2022-01-21T21:14:00.148Z"
   },
   {
    "duration": 2224,
    "start_time": "2022-01-21T21:14:43.447Z"
   },
   {
    "duration": 618,
    "start_time": "2022-01-21T21:18:01.918Z"
   },
   {
    "duration": 85,
    "start_time": "2022-01-21T21:18:02.538Z"
   },
   {
    "duration": 18,
    "start_time": "2022-01-21T21:18:02.625Z"
   },
   {
    "duration": 16,
    "start_time": "2022-01-21T21:18:02.644Z"
   },
   {
    "duration": 32,
    "start_time": "2022-01-21T21:18:02.662Z"
   },
   {
    "duration": 1766,
    "start_time": "2022-01-21T21:18:02.712Z"
   },
   {
    "duration": 33,
    "start_time": "2022-01-21T21:18:04.480Z"
   },
   {
    "duration": 5,
    "start_time": "2022-01-21T21:18:04.515Z"
   },
   {
    "duration": 17,
    "start_time": "2022-01-21T21:18:04.522Z"
   },
   {
    "duration": 27,
    "start_time": "2022-01-21T21:18:04.540Z"
   },
   {
    "duration": 2,
    "start_time": "2022-01-21T21:18:04.568Z"
   },
   {
    "duration": 43,
    "start_time": "2022-01-21T21:18:04.572Z"
   },
   {
    "duration": 14,
    "start_time": "2022-01-21T21:18:04.617Z"
   },
   {
    "duration": 1127,
    "start_time": "2022-01-21T21:18:04.633Z"
   },
   {
    "duration": 339,
    "start_time": "2022-01-21T21:18:05.762Z"
   },
   {
    "duration": 520,
    "start_time": "2022-01-21T21:18:06.102Z"
   },
   {
    "duration": 201,
    "start_time": "2022-01-21T21:18:06.624Z"
   },
   {
    "duration": 8,
    "start_time": "2022-01-21T21:18:06.827Z"
   },
   {
    "duration": 4,
    "start_time": "2022-01-21T21:18:06.837Z"
   },
   {
    "duration": 4,
    "start_time": "2022-01-21T21:18:06.842Z"
   },
   {
    "duration": 3,
    "start_time": "2022-01-21T21:18:06.848Z"
   },
   {
    "duration": 4,
    "start_time": "2022-01-21T21:18:06.853Z"
   },
   {
    "duration": 3525,
    "start_time": "2022-01-21T21:18:06.860Z"
   },
   {
    "duration": 1336,
    "start_time": "2022-01-21T21:18:10.387Z"
   },
   {
    "duration": 204,
    "start_time": "2022-01-21T21:18:11.725Z"
   },
   {
    "duration": 614,
    "start_time": "2022-01-21T21:19:17.630Z"
   },
   {
    "duration": 90,
    "start_time": "2022-01-21T21:19:18.246Z"
   },
   {
    "duration": 17,
    "start_time": "2022-01-21T21:19:18.338Z"
   },
   {
    "duration": 16,
    "start_time": "2022-01-21T21:19:18.357Z"
   },
   {
    "duration": 52,
    "start_time": "2022-01-21T21:19:18.374Z"
   },
   {
    "duration": 1584,
    "start_time": "2022-01-21T21:19:18.428Z"
   },
   {
    "duration": 26,
    "start_time": "2022-01-21T21:19:20.013Z"
   },
   {
    "duration": 5,
    "start_time": "2022-01-21T21:19:20.041Z"
   },
   {
    "duration": 21,
    "start_time": "2022-01-21T21:19:20.048Z"
   },
   {
    "duration": 52,
    "start_time": "2022-01-21T21:19:20.071Z"
   },
   {
    "duration": 2,
    "start_time": "2022-01-21T21:19:20.125Z"
   },
   {
    "duration": 22,
    "start_time": "2022-01-21T21:19:20.129Z"
   },
   {
    "duration": 14,
    "start_time": "2022-01-21T21:19:20.153Z"
   },
   {
    "duration": 1173,
    "start_time": "2022-01-21T21:19:20.168Z"
   },
   {
    "duration": 352,
    "start_time": "2022-01-21T21:19:21.343Z"
   },
   {
    "duration": 541,
    "start_time": "2022-01-21T21:19:21.696Z"
   },
   {
    "duration": 200,
    "start_time": "2022-01-21T21:19:22.238Z"
   },
   {
    "duration": 8,
    "start_time": "2022-01-21T21:19:22.439Z"
   },
   {
    "duration": 3,
    "start_time": "2022-01-21T21:19:22.449Z"
   },
   {
    "duration": 4,
    "start_time": "2022-01-21T21:19:22.454Z"
   },
   {
    "duration": 4,
    "start_time": "2022-01-21T21:19:22.459Z"
   },
   {
    "duration": 4,
    "start_time": "2022-01-21T21:19:22.465Z"
   },
   {
    "duration": 3727,
    "start_time": "2022-01-21T21:19:22.471Z"
   },
   {
    "duration": 1325,
    "start_time": "2022-01-21T21:19:26.199Z"
   },
   {
    "duration": 198,
    "start_time": "2022-01-21T21:19:27.525Z"
   },
   {
    "duration": 668,
    "start_time": "2022-01-21T21:28:04.090Z"
   },
   {
    "duration": 90,
    "start_time": "2022-01-21T21:28:04.760Z"
   },
   {
    "duration": 17,
    "start_time": "2022-01-21T21:28:04.852Z"
   },
   {
    "duration": 17,
    "start_time": "2022-01-21T21:28:04.870Z"
   },
   {
    "duration": 48,
    "start_time": "2022-01-21T21:28:04.888Z"
   },
   {
    "duration": 1568,
    "start_time": "2022-01-21T21:28:04.939Z"
   },
   {
    "duration": 26,
    "start_time": "2022-01-21T21:28:06.512Z"
   },
   {
    "duration": 4,
    "start_time": "2022-01-21T21:28:06.539Z"
   },
   {
    "duration": 17,
    "start_time": "2022-01-21T21:28:06.545Z"
   },
   {
    "duration": 49,
    "start_time": "2022-01-21T21:28:06.564Z"
   },
   {
    "duration": 2,
    "start_time": "2022-01-21T21:28:06.614Z"
   },
   {
    "duration": 19,
    "start_time": "2022-01-21T21:28:06.618Z"
   },
   {
    "duration": 13,
    "start_time": "2022-01-21T21:28:06.638Z"
   },
   {
    "duration": 1145,
    "start_time": "2022-01-21T21:28:06.653Z"
   },
   {
    "duration": 350,
    "start_time": "2022-01-21T21:28:07.800Z"
   },
   {
    "duration": 527,
    "start_time": "2022-01-21T21:28:08.152Z"
   },
   {
    "duration": 198,
    "start_time": "2022-01-21T21:28:08.680Z"
   },
   {
    "duration": 8,
    "start_time": "2022-01-21T21:28:08.881Z"
   },
   {
    "duration": 4,
    "start_time": "2022-01-21T21:28:08.891Z"
   },
   {
    "duration": 4,
    "start_time": "2022-01-21T21:28:08.896Z"
   },
   {
    "duration": 11,
    "start_time": "2022-01-21T21:28:08.901Z"
   },
   {
    "duration": 3,
    "start_time": "2022-01-21T21:28:08.913Z"
   },
   {
    "duration": 3609,
    "start_time": "2022-01-21T21:28:08.917Z"
   },
   {
    "duration": 1296,
    "start_time": "2022-01-21T21:28:12.528Z"
   },
   {
    "duration": 205,
    "start_time": "2022-01-21T21:28:13.826Z"
   },
   {
    "duration": 663,
    "start_time": "2022-01-21T21:30:29.900Z"
   },
   {
    "duration": 89,
    "start_time": "2022-01-21T21:30:30.564Z"
   },
   {
    "duration": 18,
    "start_time": "2022-01-21T21:30:30.655Z"
   },
   {
    "duration": 16,
    "start_time": "2022-01-21T21:30:30.675Z"
   },
   {
    "duration": 47,
    "start_time": "2022-01-21T21:30:30.692Z"
   },
   {
    "duration": 1561,
    "start_time": "2022-01-21T21:30:30.741Z"
   },
   {
    "duration": 30,
    "start_time": "2022-01-21T21:30:32.304Z"
   },
   {
    "duration": 4,
    "start_time": "2022-01-21T21:30:32.337Z"
   },
   {
    "duration": 19,
    "start_time": "2022-01-21T21:30:32.343Z"
   },
   {
    "duration": 25,
    "start_time": "2022-01-21T21:30:32.363Z"
   },
   {
    "duration": 22,
    "start_time": "2022-01-21T21:30:32.390Z"
   },
   {
    "duration": 19,
    "start_time": "2022-01-21T21:30:32.413Z"
   },
   {
    "duration": 12,
    "start_time": "2022-01-21T21:30:32.433Z"
   },
   {
    "duration": 1109,
    "start_time": "2022-01-21T21:30:32.447Z"
   },
   {
    "duration": 341,
    "start_time": "2022-01-21T21:30:33.557Z"
   },
   {
    "duration": 517,
    "start_time": "2022-01-21T21:30:33.900Z"
   },
   {
    "duration": 195,
    "start_time": "2022-01-21T21:30:34.418Z"
   },
   {
    "duration": 10,
    "start_time": "2022-01-21T21:30:34.614Z"
   },
   {
    "duration": 2,
    "start_time": "2022-01-21T21:30:34.626Z"
   },
   {
    "duration": 4,
    "start_time": "2022-01-21T21:30:34.630Z"
   },
   {
    "duration": 4,
    "start_time": "2022-01-21T21:30:34.635Z"
   },
   {
    "duration": 4,
    "start_time": "2022-01-21T21:30:34.641Z"
   },
   {
    "duration": 3501,
    "start_time": "2022-01-21T21:30:34.647Z"
   },
   {
    "duration": 1296,
    "start_time": "2022-01-21T21:30:38.150Z"
   },
   {
    "duration": 195,
    "start_time": "2022-01-21T21:30:39.447Z"
   },
   {
    "duration": 2016,
    "start_time": "2022-01-21T21:30:39.644Z"
   },
   {
    "duration": 2074,
    "start_time": "2022-01-21T21:31:04.785Z"
   },
   {
    "duration": 1682,
    "start_time": "2022-01-21T21:31:35.270Z"
   },
   {
    "duration": 2020,
    "start_time": "2022-01-21T21:31:48.560Z"
   },
   {
    "duration": 1672,
    "start_time": "2022-01-21T21:32:04.206Z"
   },
   {
    "duration": 1771,
    "start_time": "2022-01-21T21:35:12.322Z"
   },
   {
    "duration": 1871,
    "start_time": "2022-01-21T21:35:57.230Z"
   },
   {
    "duration": 1903,
    "start_time": "2022-01-21T21:36:32.158Z"
   },
   {
    "duration": 1825,
    "start_time": "2022-01-21T21:36:57.803Z"
   },
   {
    "duration": 2033,
    "start_time": "2022-01-21T21:38:07.711Z"
   },
   {
    "duration": 2106,
    "start_time": "2022-01-21T21:38:21.434Z"
   },
   {
    "duration": 2302,
    "start_time": "2022-01-21T21:57:15.428Z"
   },
   {
    "duration": 44098,
    "start_time": "2022-01-21T21:57:26.915Z"
   },
   {
    "duration": 45278,
    "start_time": "2022-01-21T21:59:02.036Z"
   },
   {
    "duration": 45296,
    "start_time": "2022-01-21T21:59:57.816Z"
   },
   {
    "duration": 45475,
    "start_time": "2022-01-21T22:02:14.486Z"
   },
   {
    "duration": 2065,
    "start_time": "2022-01-21T22:08:53.715Z"
   },
   {
    "duration": 2141,
    "start_time": "2022-01-21T22:11:12.175Z"
   },
   {
    "duration": 2310,
    "start_time": "2022-01-21T22:15:26.437Z"
   },
   {
    "duration": 1998,
    "start_time": "2022-01-21T22:17:58.361Z"
   },
   {
    "duration": 612,
    "start_time": "2022-01-24T08:30:48.641Z"
   },
   {
    "duration": 90,
    "start_time": "2022-01-24T08:30:49.255Z"
   },
   {
    "duration": 19,
    "start_time": "2022-01-24T08:30:49.347Z"
   },
   {
    "duration": 31,
    "start_time": "2022-01-24T08:30:49.368Z"
   },
   {
    "duration": 32,
    "start_time": "2022-01-24T08:30:49.401Z"
   },
   {
    "duration": 1651,
    "start_time": "2022-01-24T08:30:49.435Z"
   },
   {
    "duration": 30,
    "start_time": "2022-01-24T08:30:51.088Z"
   },
   {
    "duration": 5,
    "start_time": "2022-01-24T08:30:51.121Z"
   },
   {
    "duration": 21,
    "start_time": "2022-01-24T08:30:51.128Z"
   },
   {
    "duration": 26,
    "start_time": "2022-01-24T08:30:51.151Z"
   },
   {
    "duration": 21,
    "start_time": "2022-01-24T08:30:51.178Z"
   },
   {
    "duration": 18,
    "start_time": "2022-01-24T08:30:51.201Z"
   },
   {
    "duration": 13,
    "start_time": "2022-01-24T08:30:51.221Z"
   },
   {
    "duration": 1258,
    "start_time": "2022-01-24T08:30:51.236Z"
   },
   {
    "duration": 396,
    "start_time": "2022-01-24T08:30:52.496Z"
   },
   {
    "duration": 570,
    "start_time": "2022-01-24T08:30:52.894Z"
   },
   {
    "duration": 215,
    "start_time": "2022-01-24T08:30:53.465Z"
   },
   {
    "duration": 17,
    "start_time": "2022-01-24T08:30:53.681Z"
   },
   {
    "duration": 2,
    "start_time": "2022-01-24T08:30:53.700Z"
   },
   {
    "duration": 6,
    "start_time": "2022-01-24T08:30:53.703Z"
   },
   {
    "duration": 5,
    "start_time": "2022-01-24T08:30:53.711Z"
   },
   {
    "duration": 4,
    "start_time": "2022-01-24T08:30:53.718Z"
   },
   {
    "duration": 3802,
    "start_time": "2022-01-24T08:30:53.724Z"
   },
   {
    "duration": 1344,
    "start_time": "2022-01-24T08:30:57.528Z"
   },
   {
    "duration": 210,
    "start_time": "2022-01-24T08:30:58.874Z"
   },
   {
    "duration": 2168,
    "start_time": "2022-01-24T08:30:59.086Z"
   },
   {
    "duration": 363,
    "start_time": "2022-01-24T09:19:56.735Z"
   },
   {
    "duration": 1253,
    "start_time": "2022-01-24T09:20:14.405Z"
   },
   {
    "duration": 88,
    "start_time": "2022-01-24T09:20:15.661Z"
   },
   {
    "duration": 20,
    "start_time": "2022-01-24T09:20:15.751Z"
   },
   {
    "duration": 31,
    "start_time": "2022-01-24T09:20:15.773Z"
   },
   {
    "duration": 55,
    "start_time": "2022-01-24T09:20:15.806Z"
   },
   {
    "duration": 1741,
    "start_time": "2022-01-24T09:20:15.863Z"
   },
   {
    "duration": 27,
    "start_time": "2022-01-24T09:20:17.606Z"
   },
   {
    "duration": 4,
    "start_time": "2022-01-24T09:20:17.636Z"
   },
   {
    "duration": 20,
    "start_time": "2022-01-24T09:20:17.642Z"
   },
   {
    "duration": 28,
    "start_time": "2022-01-24T09:20:17.663Z"
   },
   {
    "duration": 2,
    "start_time": "2022-01-24T09:20:17.698Z"
   },
   {
    "duration": 20,
    "start_time": "2022-01-24T09:20:17.702Z"
   },
   {
    "duration": 14,
    "start_time": "2022-01-24T09:20:17.724Z"
   },
   {
    "duration": 1489,
    "start_time": "2022-01-24T09:20:17.740Z"
   },
   {
    "duration": 376,
    "start_time": "2022-01-24T09:20:19.231Z"
   },
   {
    "duration": 583,
    "start_time": "2022-01-24T09:20:19.608Z"
   },
   {
    "duration": 226,
    "start_time": "2022-01-24T09:20:20.193Z"
   },
   {
    "duration": 8,
    "start_time": "2022-01-24T09:20:20.421Z"
   },
   {
    "duration": 4,
    "start_time": "2022-01-24T09:20:20.431Z"
   },
   {
    "duration": 5,
    "start_time": "2022-01-24T09:20:20.437Z"
   },
   {
    "duration": 5,
    "start_time": "2022-01-24T09:20:20.443Z"
   },
   {
    "duration": 6,
    "start_time": "2022-01-24T09:20:20.449Z"
   },
   {
    "duration": 3900,
    "start_time": "2022-01-24T09:20:20.458Z"
   },
   {
    "duration": 1416,
    "start_time": "2022-01-24T09:20:24.360Z"
   },
   {
    "duration": 215,
    "start_time": "2022-01-24T09:20:25.778Z"
   },
   {
    "duration": 2179,
    "start_time": "2022-01-24T09:20:25.995Z"
   },
   {
    "duration": 39837,
    "start_time": "2022-01-24T09:26:43.426Z"
   },
   {
    "duration": 38451,
    "start_time": "2022-01-24T09:30:51.891Z"
   },
   {
    "duration": 65,
    "start_time": "2022-01-24T09:36:09.280Z"
   },
   {
    "duration": 24,
    "start_time": "2022-01-24T09:39:11.719Z"
   },
   {
    "duration": 25,
    "start_time": "2022-01-24T09:40:30.106Z"
   },
   {
    "duration": 108,
    "start_time": "2022-01-24T11:32:09.604Z"
   },
   {
    "duration": 606,
    "start_time": "2022-01-24T11:32:20.772Z"
   },
   {
    "duration": 771,
    "start_time": "2022-01-24T11:34:54.046Z"
   },
   {
    "duration": 801,
    "start_time": "2022-01-24T11:37:03.134Z"
   },
   {
    "duration": 1767,
    "start_time": "2022-01-24T11:42:23.814Z"
   },
   {
    "duration": 1432,
    "start_time": "2022-01-24T11:45:18.281Z"
   },
   {
    "duration": 1518,
    "start_time": "2022-01-24T11:45:59.918Z"
   },
   {
    "duration": 889,
    "start_time": "2022-01-24T11:47:51.668Z"
   },
   {
    "duration": 877,
    "start_time": "2022-01-24T11:48:45.619Z"
   },
   {
    "duration": 808,
    "start_time": "2022-01-24T11:49:08.954Z"
   },
   {
    "duration": 1570,
    "start_time": "2022-01-24T11:49:37.986Z"
   },
   {
    "duration": 1642,
    "start_time": "2022-01-24T11:50:02.485Z"
   },
   {
    "duration": 653,
    "start_time": "2022-01-24T12:24:53.327Z"
   },
   {
    "duration": 89,
    "start_time": "2022-01-24T12:24:53.982Z"
   },
   {
    "duration": 19,
    "start_time": "2022-01-24T12:24:54.073Z"
   },
   {
    "duration": 31,
    "start_time": "2022-01-24T12:24:54.099Z"
   },
   {
    "duration": 66,
    "start_time": "2022-01-24T12:24:54.131Z"
   },
   {
    "duration": 75,
    "start_time": "2022-01-24T12:24:54.199Z"
   },
   {
    "duration": 24,
    "start_time": "2022-01-24T12:24:54.276Z"
   },
   {
    "duration": 863,
    "start_time": "2022-01-24T12:24:54.303Z"
   },
   {
    "duration": 749,
    "start_time": "2022-01-24T12:24:55.168Z"
   },
   {
    "duration": 27,
    "start_time": "2022-01-24T12:24:55.919Z"
   },
   {
    "duration": 83,
    "start_time": "2022-01-24T12:24:55.947Z"
   },
   {
    "duration": -1024,
    "start_time": "2022-01-24T12:24:57.056Z"
   },
   {
    "duration": -1027,
    "start_time": "2022-01-24T12:24:57.060Z"
   },
   {
    "duration": -1029,
    "start_time": "2022-01-24T12:24:57.063Z"
   },
   {
    "duration": -1064,
    "start_time": "2022-01-24T12:24:57.099Z"
   },
   {
    "duration": -1068,
    "start_time": "2022-01-24T12:24:57.104Z"
   },
   {
    "duration": -1072,
    "start_time": "2022-01-24T12:24:57.109Z"
   },
   {
    "duration": -1074,
    "start_time": "2022-01-24T12:24:57.112Z"
   },
   {
    "duration": -1079,
    "start_time": "2022-01-24T12:24:57.118Z"
   },
   {
    "duration": -1082,
    "start_time": "2022-01-24T12:24:57.122Z"
   },
   {
    "duration": -1085,
    "start_time": "2022-01-24T12:24:57.126Z"
   },
   {
    "duration": -1087,
    "start_time": "2022-01-24T12:24:57.129Z"
   },
   {
    "duration": -1118,
    "start_time": "2022-01-24T12:24:57.161Z"
   },
   {
    "duration": -1129,
    "start_time": "2022-01-24T12:24:57.173Z"
   },
   {
    "duration": -1132,
    "start_time": "2022-01-24T12:24:57.177Z"
   },
   {
    "duration": -1135,
    "start_time": "2022-01-24T12:24:57.181Z"
   },
   {
    "duration": -1138,
    "start_time": "2022-01-24T12:24:57.185Z"
   },
   {
    "duration": 722,
    "start_time": "2022-01-24T12:25:21.401Z"
   },
   {
    "duration": 88,
    "start_time": "2022-01-24T12:25:22.125Z"
   },
   {
    "duration": 21,
    "start_time": "2022-01-24T12:25:22.216Z"
   },
   {
    "duration": 17,
    "start_time": "2022-01-24T12:25:22.239Z"
   },
   {
    "duration": 63,
    "start_time": "2022-01-24T12:25:22.258Z"
   },
   {
    "duration": 87,
    "start_time": "2022-01-24T12:25:22.323Z"
   },
   {
    "duration": 12,
    "start_time": "2022-01-24T12:25:22.412Z"
   },
   {
    "duration": 885,
    "start_time": "2022-01-24T12:25:22.427Z"
   },
   {
    "duration": 753,
    "start_time": "2022-01-24T12:25:23.314Z"
   },
   {
    "duration": 31,
    "start_time": "2022-01-24T12:25:24.069Z"
   },
   {
    "duration": 108,
    "start_time": "2022-01-24T12:25:24.101Z"
   },
   {
    "duration": -1043,
    "start_time": "2022-01-24T12:25:25.254Z"
   },
   {
    "duration": -1046,
    "start_time": "2022-01-24T12:25:25.258Z"
   },
   {
    "duration": -1050,
    "start_time": "2022-01-24T12:25:25.263Z"
   },
   {
    "duration": -1055,
    "start_time": "2022-01-24T12:25:25.268Z"
   },
   {
    "duration": -1057,
    "start_time": "2022-01-24T12:25:25.271Z"
   },
   {
    "duration": -1061,
    "start_time": "2022-01-24T12:25:25.276Z"
   },
   {
    "duration": -1065,
    "start_time": "2022-01-24T12:25:25.281Z"
   },
   {
    "duration": -1068,
    "start_time": "2022-01-24T12:25:25.285Z"
   },
   {
    "duration": -1096,
    "start_time": "2022-01-24T12:25:25.314Z"
   },
   {
    "duration": -1103,
    "start_time": "2022-01-24T12:25:25.322Z"
   },
   {
    "duration": -1106,
    "start_time": "2022-01-24T12:25:25.327Z"
   },
   {
    "duration": -1109,
    "start_time": "2022-01-24T12:25:25.331Z"
   },
   {
    "duration": -1125,
    "start_time": "2022-01-24T12:25:25.348Z"
   },
   {
    "duration": -1133,
    "start_time": "2022-01-24T12:25:25.357Z"
   },
   {
    "duration": -1136,
    "start_time": "2022-01-24T12:25:25.361Z"
   },
   {
    "duration": -1139,
    "start_time": "2022-01-24T12:25:25.365Z"
   },
   {
    "duration": 636,
    "start_time": "2022-01-24T12:25:40.652Z"
   },
   {
    "duration": 89,
    "start_time": "2022-01-24T12:25:41.290Z"
   },
   {
    "duration": 23,
    "start_time": "2022-01-24T12:25:41.381Z"
   },
   {
    "duration": 17,
    "start_time": "2022-01-24T12:25:41.406Z"
   },
   {
    "duration": 47,
    "start_time": "2022-01-24T12:25:41.425Z"
   },
   {
    "duration": 96,
    "start_time": "2022-01-24T12:25:41.473Z"
   },
   {
    "duration": 11,
    "start_time": "2022-01-24T12:25:41.571Z"
   },
   {
    "duration": 876,
    "start_time": "2022-01-24T12:25:41.598Z"
   },
   {
    "duration": 744,
    "start_time": "2022-01-24T12:25:42.476Z"
   },
   {
    "duration": 29,
    "start_time": "2022-01-24T12:25:43.223Z"
   },
   {
    "duration": 84,
    "start_time": "2022-01-24T12:25:43.255Z"
   },
   {
    "duration": -1055,
    "start_time": "2022-01-24T12:25:44.397Z"
   },
   {
    "duration": -1058,
    "start_time": "2022-01-24T12:25:44.401Z"
   },
   {
    "duration": -1065,
    "start_time": "2022-01-24T12:25:44.410Z"
   },
   {
    "duration": -1070,
    "start_time": "2022-01-24T12:25:44.416Z"
   },
   {
    "duration": -1072,
    "start_time": "2022-01-24T12:25:44.420Z"
   },
   {
    "duration": -1081,
    "start_time": "2022-01-24T12:25:44.431Z"
   },
   {
    "duration": -1084,
    "start_time": "2022-01-24T12:25:44.435Z"
   },
   {
    "duration": -1091,
    "start_time": "2022-01-24T12:25:44.444Z"
   },
   {
    "duration": -1096,
    "start_time": "2022-01-24T12:25:44.450Z"
   },
   {
    "duration": -1149,
    "start_time": "2022-01-24T12:25:44.505Z"
   },
   {
    "duration": -1154,
    "start_time": "2022-01-24T12:25:44.511Z"
   },
   {
    "duration": -1157,
    "start_time": "2022-01-24T12:25:44.516Z"
   },
   {
    "duration": -1160,
    "start_time": "2022-01-24T12:25:44.520Z"
   },
   {
    "duration": -1167,
    "start_time": "2022-01-24T12:25:44.528Z"
   },
   {
    "duration": -1170,
    "start_time": "2022-01-24T12:25:44.533Z"
   },
   {
    "duration": 3,
    "start_time": "2022-01-24T12:26:06.483Z"
   },
   {
    "duration": 89,
    "start_time": "2022-01-24T12:26:08.802Z"
   },
   {
    "duration": 681,
    "start_time": "2022-01-24T12:26:18.103Z"
   },
   {
    "duration": 92,
    "start_time": "2022-01-24T12:26:18.786Z"
   },
   {
    "duration": 33,
    "start_time": "2022-01-24T12:26:18.881Z"
   },
   {
    "duration": 17,
    "start_time": "2022-01-24T12:26:18.916Z"
   },
   {
    "duration": 64,
    "start_time": "2022-01-24T12:26:18.935Z"
   },
   {
    "duration": 78,
    "start_time": "2022-01-24T12:26:19.001Z"
   },
   {
    "duration": 24,
    "start_time": "2022-01-24T12:26:19.081Z"
   },
   {
    "duration": 893,
    "start_time": "2022-01-24T12:26:19.108Z"
   },
   {
    "duration": 753,
    "start_time": "2022-01-24T12:26:20.003Z"
   },
   {
    "duration": 27,
    "start_time": "2022-01-24T12:26:20.758Z"
   },
   {
    "duration": 90,
    "start_time": "2022-01-24T12:26:20.787Z"
   },
   {
    "duration": -1096,
    "start_time": "2022-01-24T12:26:21.975Z"
   },
   {
    "duration": -1103,
    "start_time": "2022-01-24T12:26:21.983Z"
   },
   {
    "duration": -1107,
    "start_time": "2022-01-24T12:26:21.988Z"
   },
   {
    "duration": -1112,
    "start_time": "2022-01-24T12:26:21.994Z"
   },
   {
    "duration": -1159,
    "start_time": "2022-01-24T12:26:22.042Z"
   },
   {
    "duration": -1182,
    "start_time": "2022-01-24T12:26:22.067Z"
   },
   {
    "duration": -1189,
    "start_time": "2022-01-24T12:26:22.075Z"
   },
   {
    "duration": -1202,
    "start_time": "2022-01-24T12:26:22.089Z"
   },
   {
    "duration": -1209,
    "start_time": "2022-01-24T12:26:22.096Z"
   },
   {
    "duration": -1213,
    "start_time": "2022-01-24T12:26:22.102Z"
   },
   {
    "duration": -1232,
    "start_time": "2022-01-24T12:26:22.122Z"
   },
   {
    "duration": -1239,
    "start_time": "2022-01-24T12:26:22.130Z"
   },
   {
    "duration": -1249,
    "start_time": "2022-01-24T12:26:22.141Z"
   },
   {
    "duration": -1277,
    "start_time": "2022-01-24T12:26:22.170Z"
   },
   {
    "duration": -1281,
    "start_time": "2022-01-24T12:26:22.175Z"
   },
   {
    "duration": 335,
    "start_time": "2022-01-24T12:26:25.050Z"
   },
   {
    "duration": 268,
    "start_time": "2022-01-24T12:26:32.211Z"
   },
   {
    "duration": 685,
    "start_time": "2022-01-24T12:26:47.798Z"
   },
   {
    "duration": 87,
    "start_time": "2022-01-24T12:26:48.485Z"
   },
   {
    "duration": 31,
    "start_time": "2022-01-24T12:26:48.575Z"
   },
   {
    "duration": 18,
    "start_time": "2022-01-24T12:26:48.609Z"
   },
   {
    "duration": 70,
    "start_time": "2022-01-24T12:26:48.629Z"
   },
   {
    "duration": 76,
    "start_time": "2022-01-24T12:26:48.702Z"
   },
   {
    "duration": 14,
    "start_time": "2022-01-24T12:26:48.799Z"
   },
   {
    "duration": 877,
    "start_time": "2022-01-24T12:26:48.817Z"
   },
   {
    "duration": 761,
    "start_time": "2022-01-24T12:26:49.698Z"
   },
   {
    "duration": 37,
    "start_time": "2022-01-24T12:26:50.461Z"
   },
   {
    "duration": 90,
    "start_time": "2022-01-24T12:26:50.500Z"
   },
   {
    "duration": -1035,
    "start_time": "2022-01-24T12:26:51.627Z"
   },
   {
    "duration": -1054,
    "start_time": "2022-01-24T12:26:51.648Z"
   },
   {
    "duration": -1058,
    "start_time": "2022-01-24T12:26:51.653Z"
   },
   {
    "duration": -1062,
    "start_time": "2022-01-24T12:26:51.659Z"
   },
   {
    "duration": -1065,
    "start_time": "2022-01-24T12:26:51.663Z"
   },
   {
    "duration": -1067,
    "start_time": "2022-01-24T12:26:51.667Z"
   },
   {
    "duration": -1071,
    "start_time": "2022-01-24T12:26:51.672Z"
   },
   {
    "duration": -1073,
    "start_time": "2022-01-24T12:26:51.676Z"
   },
   {
    "duration": -1091,
    "start_time": "2022-01-24T12:26:51.695Z"
   },
   {
    "duration": -1094,
    "start_time": "2022-01-24T12:26:51.700Z"
   },
   {
    "duration": -1096,
    "start_time": "2022-01-24T12:26:51.703Z"
   },
   {
    "duration": -1105,
    "start_time": "2022-01-24T12:26:51.714Z"
   },
   {
    "duration": -1108,
    "start_time": "2022-01-24T12:26:51.718Z"
   },
   {
    "duration": -1111,
    "start_time": "2022-01-24T12:26:51.723Z"
   },
   {
    "duration": -1113,
    "start_time": "2022-01-24T12:26:51.726Z"
   },
   {
    "duration": 626,
    "start_time": "2022-01-24T12:28:49.340Z"
   },
   {
    "duration": 90,
    "start_time": "2022-01-24T12:28:49.968Z"
   },
   {
    "duration": 21,
    "start_time": "2022-01-24T12:28:50.060Z"
   },
   {
    "duration": 28,
    "start_time": "2022-01-24T12:28:50.082Z"
   },
   {
    "duration": 49,
    "start_time": "2022-01-24T12:28:50.111Z"
   },
   {
    "duration": 94,
    "start_time": "2022-01-24T12:28:50.161Z"
   },
   {
    "duration": 12,
    "start_time": "2022-01-24T12:28:50.256Z"
   },
   {
    "duration": 884,
    "start_time": "2022-01-24T12:28:50.271Z"
   },
   {
    "duration": 735,
    "start_time": "2022-01-24T12:28:51.157Z"
   },
   {
    "duration": 27,
    "start_time": "2022-01-24T12:28:51.898Z"
   },
   {
    "duration": 92,
    "start_time": "2022-01-24T12:28:51.926Z"
   },
   {
    "duration": -1064,
    "start_time": "2022-01-24T12:28:53.084Z"
   },
   {
    "duration": -1091,
    "start_time": "2022-01-24T12:28:53.112Z"
   },
   {
    "duration": -1095,
    "start_time": "2022-01-24T12:28:53.117Z"
   },
   {
    "duration": -1100,
    "start_time": "2022-01-24T12:28:53.123Z"
   },
   {
    "duration": -1108,
    "start_time": "2022-01-24T12:28:53.132Z"
   },
   {
    "duration": -1112,
    "start_time": "2022-01-24T12:28:53.137Z"
   },
   {
    "duration": -1118,
    "start_time": "2022-01-24T12:28:53.144Z"
   },
   {
    "duration": -1124,
    "start_time": "2022-01-24T12:28:53.151Z"
   },
   {
    "duration": -1127,
    "start_time": "2022-01-24T12:28:53.155Z"
   },
   {
    "duration": -1137,
    "start_time": "2022-01-24T12:28:53.166Z"
   },
   {
    "duration": -1153,
    "start_time": "2022-01-24T12:28:53.183Z"
   },
   {
    "duration": -1157,
    "start_time": "2022-01-24T12:28:53.188Z"
   },
   {
    "duration": -1165,
    "start_time": "2022-01-24T12:28:53.197Z"
   },
   {
    "duration": -1171,
    "start_time": "2022-01-24T12:28:53.204Z"
   },
   {
    "duration": -1180,
    "start_time": "2022-01-24T12:28:53.214Z"
   },
   {
    "duration": 324,
    "start_time": "2022-01-24T12:28:56.197Z"
   },
   {
    "duration": 703,
    "start_time": "2022-01-24T12:29:28.900Z"
   },
   {
    "duration": 88,
    "start_time": "2022-01-24T12:29:29.605Z"
   },
   {
    "duration": 21,
    "start_time": "2022-01-24T12:29:29.695Z"
   },
   {
    "duration": 20,
    "start_time": "2022-01-24T12:29:29.719Z"
   },
   {
    "duration": 69,
    "start_time": "2022-01-24T12:29:29.741Z"
   },
   {
    "duration": 77,
    "start_time": "2022-01-24T12:29:29.812Z"
   },
   {
    "duration": 12,
    "start_time": "2022-01-24T12:29:29.899Z"
   },
   {
    "duration": 904,
    "start_time": "2022-01-24T12:29:29.914Z"
   },
   {
    "duration": 777,
    "start_time": "2022-01-24T12:29:30.820Z"
   },
   {
    "duration": 27,
    "start_time": "2022-01-24T12:29:31.598Z"
   },
   {
    "duration": 5,
    "start_time": "2022-01-24T12:29:31.626Z"
   },
   {
    "duration": 33,
    "start_time": "2022-01-24T12:29:31.632Z"
   },
   {
    "duration": 39,
    "start_time": "2022-01-24T12:29:31.666Z"
   },
   {
    "duration": 3,
    "start_time": "2022-01-24T12:29:31.707Z"
   },
   {
    "duration": 22,
    "start_time": "2022-01-24T12:29:31.712Z"
   },
   {
    "duration": 16,
    "start_time": "2022-01-24T12:29:31.736Z"
   },
   {
    "duration": 1392,
    "start_time": "2022-01-24T12:29:31.754Z"
   },
   {
    "duration": 377,
    "start_time": "2022-01-24T12:29:33.148Z"
   },
   {
    "duration": 576,
    "start_time": "2022-01-24T12:29:33.527Z"
   },
   {
    "duration": 226,
    "start_time": "2022-01-24T12:29:34.105Z"
   },
   {
    "duration": 10,
    "start_time": "2022-01-24T12:29:34.332Z"
   },
   {
    "duration": 2170,
    "start_time": "2022-01-24T12:29:34.343Z"
   },
   {
    "duration": -1302,
    "start_time": "2022-01-24T12:29:37.818Z"
   },
   {
    "duration": -1336,
    "start_time": "2022-01-24T12:29:37.854Z"
   },
   {
    "duration": -1356,
    "start_time": "2022-01-24T12:29:37.875Z"
   },
   {
    "duration": 1911,
    "start_time": "2022-01-24T12:30:08.759Z"
   },
   {
    "duration": 1898,
    "start_time": "2022-01-24T12:31:11.862Z"
   },
   {
    "duration": 2499,
    "start_time": "2022-01-24T12:36:00.806Z"
   },
   {
    "duration": 629,
    "start_time": "2022-01-24T12:36:21.553Z"
   },
   {
    "duration": 90,
    "start_time": "2022-01-24T12:36:22.184Z"
   },
   {
    "duration": 26,
    "start_time": "2022-01-24T12:36:22.276Z"
   },
   {
    "duration": 19,
    "start_time": "2022-01-24T12:36:22.304Z"
   },
   {
    "duration": 59,
    "start_time": "2022-01-24T12:36:22.325Z"
   },
   {
    "duration": 84,
    "start_time": "2022-01-24T12:36:22.386Z"
   },
   {
    "duration": 27,
    "start_time": "2022-01-24T12:36:22.472Z"
   },
   {
    "duration": 908,
    "start_time": "2022-01-24T12:36:22.501Z"
   },
   {
    "duration": 765,
    "start_time": "2022-01-24T12:36:23.412Z"
   },
   {
    "duration": 35,
    "start_time": "2022-01-24T12:36:24.179Z"
   },
   {
    "duration": 5,
    "start_time": "2022-01-24T12:36:24.216Z"
   },
   {
    "duration": 36,
    "start_time": "2022-01-24T12:36:24.222Z"
   },
   {
    "duration": 28,
    "start_time": "2022-01-24T12:36:24.259Z"
   },
   {
    "duration": 9,
    "start_time": "2022-01-24T12:36:24.289Z"
   },
   {
    "duration": 18,
    "start_time": "2022-01-24T12:36:24.300Z"
   },
   {
    "duration": 24,
    "start_time": "2022-01-24T12:36:24.320Z"
   },
   {
    "duration": 1364,
    "start_time": "2022-01-24T12:36:24.346Z"
   },
   {
    "duration": 375,
    "start_time": "2022-01-24T12:36:25.712Z"
   },
   {
    "duration": 591,
    "start_time": "2022-01-24T12:36:26.088Z"
   },
   {
    "duration": 223,
    "start_time": "2022-01-24T12:36:26.680Z"
   },
   {
    "duration": 9,
    "start_time": "2022-01-24T12:36:26.905Z"
   },
   {
    "duration": 2152,
    "start_time": "2022-01-24T12:36:26.916Z"
   },
   {
    "duration": -1302,
    "start_time": "2022-01-24T12:36:30.372Z"
   },
   {
    "duration": -1328,
    "start_time": "2022-01-24T12:36:30.399Z"
   },
   {
    "duration": -1345,
    "start_time": "2022-01-24T12:36:30.417Z"
   },
   {
    "duration": 1910,
    "start_time": "2022-01-24T12:36:40.000Z"
   },
   {
    "duration": 121,
    "start_time": "2022-01-24T12:40:33.910Z"
   },
   {
    "duration": 2166,
    "start_time": "2022-01-24T12:41:13.656Z"
   },
   {
    "duration": 92,
    "start_time": "2022-01-24T12:42:50.412Z"
   },
   {
    "duration": 88,
    "start_time": "2022-01-24T12:43:02.012Z"
   },
   {
    "duration": 3723,
    "start_time": "2022-01-24T12:43:11.889Z"
   },
   {
    "duration": 3493,
    "start_time": "2022-01-24T12:43:43.291Z"
   },
   {
    "duration": 703,
    "start_time": "2022-01-24T12:43:52.583Z"
   },
   {
    "duration": 95,
    "start_time": "2022-01-24T12:43:53.288Z"
   },
   {
    "duration": 26,
    "start_time": "2022-01-24T12:43:53.385Z"
   },
   {
    "duration": 20,
    "start_time": "2022-01-24T12:43:53.414Z"
   },
   {
    "duration": 72,
    "start_time": "2022-01-24T12:43:53.436Z"
   },
   {
    "duration": 93,
    "start_time": "2022-01-24T12:43:53.511Z"
   },
   {
    "duration": 12,
    "start_time": "2022-01-24T12:43:53.606Z"
   },
   {
    "duration": 878,
    "start_time": "2022-01-24T12:43:53.620Z"
   },
   {
    "duration": 757,
    "start_time": "2022-01-24T12:43:54.500Z"
   },
   {
    "duration": 27,
    "start_time": "2022-01-24T12:43:55.259Z"
   },
   {
    "duration": 15,
    "start_time": "2022-01-24T12:43:55.287Z"
   },
   {
    "duration": 19,
    "start_time": "2022-01-24T12:43:55.304Z"
   },
   {
    "duration": 28,
    "start_time": "2022-01-24T12:43:55.326Z"
   },
   {
    "duration": 2,
    "start_time": "2022-01-24T12:43:55.357Z"
   },
   {
    "duration": 49,
    "start_time": "2022-01-24T12:43:55.361Z"
   },
   {
    "duration": 18,
    "start_time": "2022-01-24T12:43:55.412Z"
   },
   {
    "duration": 1365,
    "start_time": "2022-01-24T12:43:55.433Z"
   },
   {
    "duration": 375,
    "start_time": "2022-01-24T12:43:56.800Z"
   },
   {
    "duration": 588,
    "start_time": "2022-01-24T12:43:57.177Z"
   },
   {
    "duration": 222,
    "start_time": "2022-01-24T12:43:57.766Z"
   },
   {
    "duration": 12,
    "start_time": "2022-01-24T12:43:57.990Z"
   },
   {
    "duration": 3373,
    "start_time": "2022-01-24T12:43:58.003Z"
   },
   {
    "duration": 1579,
    "start_time": "2022-01-24T12:44:01.381Z"
   },
   {
    "duration": 224,
    "start_time": "2022-01-24T12:44:02.961Z"
   },
   {
    "duration": 2262,
    "start_time": "2022-01-24T12:44:03.187Z"
   }
  ],
  "kernelspec": {
   "display_name": "Python 3 (ipykernel)",
   "language": "python",
   "name": "python3"
  },
  "language_info": {
   "codemirror_mode": {
    "name": "ipython",
    "version": 3
   },
   "file_extension": ".py",
   "mimetype": "text/x-python",
   "name": "python",
   "nbconvert_exporter": "python",
   "pygments_lexer": "ipython3",
   "version": "3.9.7"
  },
  "toc": {
   "base_numbering": 1,
   "nav_menu": {},
   "number_sections": true,
   "sideBar": true,
   "skip_h1_title": false,
   "title_cell": "Table of Contents",
   "title_sidebar": "Contents",
   "toc_cell": false,
   "toc_position": {
    "height": "calc(100% - 180px)",
    "left": "10px",
    "top": "150px",
    "width": "238.396px"
   },
   "toc_section_display": true,
   "toc_window_display": false
  }
 },
 "nbformat": 4,
 "nbformat_minor": 2
}
