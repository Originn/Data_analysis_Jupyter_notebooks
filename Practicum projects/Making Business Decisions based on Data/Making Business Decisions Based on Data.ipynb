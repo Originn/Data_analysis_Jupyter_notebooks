{
 "cells": [
  {
   "cell_type": "markdown",
   "metadata": {},
   "source": [
    "# Project description\n",
    "\n",
    "You are an analyst at a big online store. Together with the marketing department, you've compiled a list of hypotheses that may help boost revenue.\n",
    "You need to prioritize these hypotheses, launch an A/B test, and analyze the results.\n",
    "\n",
    "Hypotheses — brief descriptions of the hypotheses\n",
    "\n",
    "Reach — user reach, on a scale of one to ten\n",
    "\n",
    "Impact — impact on users, on a scale of one to ten\n",
    "\n",
    "Confidence — confidence in the hypothesis, on a scale of one to ten\n",
    "\n",
    "Effort — the resources required to test a hypothesis, on a scale of one to ten. \n",
    "\n",
    "The higher the Effort value, the more resource-intensive the test.\n",
    "\n",
    "The task is to:\n",
    "Apply the ICE framework to prioritize hypotheses.\n",
    "\n",
    "Sort them in descending order of priority.\n",
    "\n",
    "Apply the RICE framework to prioritize hypotheses. \n",
    "\n",
    "Sort them in descending order of priority.\n",
    "\n",
    "Show how the prioritization of hypotheses changes when you use RICE instead of ICE. \n",
    "\n",
    "Provide an explanation for the changes."
   ]
  },
  {
   "cell_type": "markdown",
   "metadata": {},
   "source": [
    "## Prioritizing Hypotheses"
   ]
  },
  {
   "cell_type": "code",
   "execution_count": 2,
   "metadata": {},
   "outputs": [
    {
     "data": {
      "text/html": [
       "<div>\n",
       "<style scoped>\n",
       "    .dataframe tbody tr th:only-of-type {\n",
       "        vertical-align: middle;\n",
       "    }\n",
       "\n",
       "    .dataframe tbody tr th {\n",
       "        vertical-align: top;\n",
       "    }\n",
       "\n",
       "    .dataframe thead th {\n",
       "        text-align: right;\n",
       "    }\n",
       "</style>\n",
       "<table border=\"1\" class=\"dataframe\">\n",
       "  <thead>\n",
       "    <tr style=\"text-align: right;\">\n",
       "      <th></th>\n",
       "      <th>hypothesis</th>\n",
       "      <th>reach</th>\n",
       "      <th>impact</th>\n",
       "      <th>confidence</th>\n",
       "      <th>effort</th>\n",
       "    </tr>\n",
       "  </thead>\n",
       "  <tbody>\n",
       "    <tr>\n",
       "      <th>0</th>\n",
       "      <td>Add two new channels for attracting traffic. T...</td>\n",
       "      <td>3</td>\n",
       "      <td>10</td>\n",
       "      <td>8</td>\n",
       "      <td>6</td>\n",
       "    </tr>\n",
       "    <tr>\n",
       "      <th>1</th>\n",
       "      <td>Launch your own delivery service. This will sh...</td>\n",
       "      <td>2</td>\n",
       "      <td>5</td>\n",
       "      <td>4</td>\n",
       "      <td>10</td>\n",
       "    </tr>\n",
       "    <tr>\n",
       "      <th>2</th>\n",
       "      <td>Add product recommendation blocks to the store...</td>\n",
       "      <td>8</td>\n",
       "      <td>3</td>\n",
       "      <td>7</td>\n",
       "      <td>3</td>\n",
       "    </tr>\n",
       "    <tr>\n",
       "      <th>3</th>\n",
       "      <td>Change the category structure. This will incre...</td>\n",
       "      <td>8</td>\n",
       "      <td>3</td>\n",
       "      <td>3</td>\n",
       "      <td>8</td>\n",
       "    </tr>\n",
       "    <tr>\n",
       "      <th>4</th>\n",
       "      <td>Change the background color on the main page. ...</td>\n",
       "      <td>3</td>\n",
       "      <td>1</td>\n",
       "      <td>1</td>\n",
       "      <td>1</td>\n",
       "    </tr>\n",
       "    <tr>\n",
       "      <th>5</th>\n",
       "      <td>Add a customer review page. This will increase...</td>\n",
       "      <td>3</td>\n",
       "      <td>2</td>\n",
       "      <td>2</td>\n",
       "      <td>3</td>\n",
       "    </tr>\n",
       "    <tr>\n",
       "      <th>6</th>\n",
       "      <td>Show banners with current offers and sales on ...</td>\n",
       "      <td>5</td>\n",
       "      <td>3</td>\n",
       "      <td>8</td>\n",
       "      <td>3</td>\n",
       "    </tr>\n",
       "    <tr>\n",
       "      <th>7</th>\n",
       "      <td>Add a subscription form to all the main pages....</td>\n",
       "      <td>10</td>\n",
       "      <td>7</td>\n",
       "      <td>8</td>\n",
       "      <td>5</td>\n",
       "    </tr>\n",
       "    <tr>\n",
       "      <th>8</th>\n",
       "      <td>Launch a promotion that gives users discounts ...</td>\n",
       "      <td>1</td>\n",
       "      <td>9</td>\n",
       "      <td>9</td>\n",
       "      <td>5</td>\n",
       "    </tr>\n",
       "  </tbody>\n",
       "</table>\n",
       "</div>"
      ],
      "text/plain": [
       "                                          hypothesis  reach  impact  \\\n",
       "0  Add two new channels for attracting traffic. T...      3      10   \n",
       "1  Launch your own delivery service. This will sh...      2       5   \n",
       "2  Add product recommendation blocks to the store...      8       3   \n",
       "3  Change the category structure. This will incre...      8       3   \n",
       "4  Change the background color on the main page. ...      3       1   \n",
       "5  Add a customer review page. This will increase...      3       2   \n",
       "6  Show banners with current offers and sales on ...      5       3   \n",
       "7  Add a subscription form to all the main pages....     10       7   \n",
       "8  Launch a promotion that gives users discounts ...      1       9   \n",
       "\n",
       "   confidence  effort  \n",
       "0           8       6  \n",
       "1           4      10  \n",
       "2           7       3  \n",
       "3           3       8  \n",
       "4           1       1  \n",
       "5           2       3  \n",
       "6           8       3  \n",
       "7           8       5  \n",
       "8           9       5  "
      ]
     },
     "execution_count": 2,
     "metadata": {},
     "output_type": "execute_result"
    }
   ],
   "source": [
    "import pandas as pd\n",
    "import datetime as dt\n",
    "import numpy as np\n",
    "from matplotlib import pyplot as plt\n",
    "import scipy.stats as stats\n",
    "\n",
    "\n",
    "hypothesis_df=pd.read_csv('/Users/edeng/Downloads/hypotheses_us.csv', sep=';')\n",
    "hypothesis_df.columns=hypothesis_df.columns.str.lower()\n",
    "hypothesis_df"
   ]
  },
  {
   "cell_type": "code",
   "execution_count": 3,
   "metadata": {},
   "outputs": [
    {
     "data": {
      "text/html": [
       "<div>\n",
       "<style scoped>\n",
       "    .dataframe tbody tr th:only-of-type {\n",
       "        vertical-align: middle;\n",
       "    }\n",
       "\n",
       "    .dataframe tbody tr th {\n",
       "        vertical-align: top;\n",
       "    }\n",
       "\n",
       "    .dataframe thead th {\n",
       "        text-align: right;\n",
       "    }\n",
       "</style>\n",
       "<table border=\"1\" class=\"dataframe\">\n",
       "  <thead>\n",
       "    <tr style=\"text-align: right;\">\n",
       "      <th></th>\n",
       "      <th>hypothesis</th>\n",
       "      <th>ICE</th>\n",
       "    </tr>\n",
       "  </thead>\n",
       "  <tbody>\n",
       "    <tr>\n",
       "      <th>8</th>\n",
       "      <td>Launch a promotion that gives users discounts ...</td>\n",
       "      <td>16.200000</td>\n",
       "    </tr>\n",
       "    <tr>\n",
       "      <th>0</th>\n",
       "      <td>Add two new channels for attracting traffic. T...</td>\n",
       "      <td>13.333333</td>\n",
       "    </tr>\n",
       "    <tr>\n",
       "      <th>7</th>\n",
       "      <td>Add a subscription form to all the main pages....</td>\n",
       "      <td>11.200000</td>\n",
       "    </tr>\n",
       "    <tr>\n",
       "      <th>6</th>\n",
       "      <td>Show banners with current offers and sales on ...</td>\n",
       "      <td>8.000000</td>\n",
       "    </tr>\n",
       "    <tr>\n",
       "      <th>2</th>\n",
       "      <td>Add product recommendation blocks to the store...</td>\n",
       "      <td>7.000000</td>\n",
       "    </tr>\n",
       "    <tr>\n",
       "      <th>1</th>\n",
       "      <td>Launch your own delivery service. This will sh...</td>\n",
       "      <td>2.000000</td>\n",
       "    </tr>\n",
       "    <tr>\n",
       "      <th>5</th>\n",
       "      <td>Add a customer review page. This will increase...</td>\n",
       "      <td>1.333333</td>\n",
       "    </tr>\n",
       "    <tr>\n",
       "      <th>3</th>\n",
       "      <td>Change the category structure. This will incre...</td>\n",
       "      <td>1.125000</td>\n",
       "    </tr>\n",
       "    <tr>\n",
       "      <th>4</th>\n",
       "      <td>Change the background color on the main page. ...</td>\n",
       "      <td>1.000000</td>\n",
       "    </tr>\n",
       "  </tbody>\n",
       "</table>\n",
       "</div>"
      ],
      "text/plain": [
       "                                          hypothesis        ICE\n",
       "8  Launch a promotion that gives users discounts ...  16.200000\n",
       "0  Add two new channels for attracting traffic. T...  13.333333\n",
       "7  Add a subscription form to all the main pages....  11.200000\n",
       "6  Show banners with current offers and sales on ...   8.000000\n",
       "2  Add product recommendation blocks to the store...   7.000000\n",
       "1  Launch your own delivery service. This will sh...   2.000000\n",
       "5  Add a customer review page. This will increase...   1.333333\n",
       "3  Change the category structure. This will incre...   1.125000\n",
       "4  Change the background color on the main page. ...   1.000000"
      ]
     },
     "execution_count": 3,
     "metadata": {},
     "output_type": "execute_result"
    }
   ],
   "source": [
    "#calculating ICE\n",
    "hypothesis_df['ICE']=(hypothesis_df['impact']*hypothesis_df['confidence'])/hypothesis_df['effort']\n",
    "hypothesis_df[['hypothesis', 'ICE']].sort_values('ICE', ascending=False)"
   ]
  },
  {
   "cell_type": "code",
   "execution_count": 3,
   "metadata": {},
   "outputs": [
    {
     "data": {
      "text/html": [
       "<div>\n",
       "<style scoped>\n",
       "    .dataframe tbody tr th:only-of-type {\n",
       "        vertical-align: middle;\n",
       "    }\n",
       "\n",
       "    .dataframe tbody tr th {\n",
       "        vertical-align: top;\n",
       "    }\n",
       "\n",
       "    .dataframe thead th {\n",
       "        text-align: right;\n",
       "    }\n",
       "</style>\n",
       "<table border=\"1\" class=\"dataframe\">\n",
       "  <thead>\n",
       "    <tr style=\"text-align: right;\">\n",
       "      <th></th>\n",
       "      <th>hypothesis</th>\n",
       "      <th>RICE</th>\n",
       "    </tr>\n",
       "  </thead>\n",
       "  <tbody>\n",
       "    <tr>\n",
       "      <th>7</th>\n",
       "      <td>Add a subscription form to all the main pages....</td>\n",
       "      <td>112.0</td>\n",
       "    </tr>\n",
       "    <tr>\n",
       "      <th>2</th>\n",
       "      <td>Add product recommendation blocks to the store...</td>\n",
       "      <td>56.0</td>\n",
       "    </tr>\n",
       "    <tr>\n",
       "      <th>0</th>\n",
       "      <td>Add two new channels for attracting traffic. T...</td>\n",
       "      <td>40.0</td>\n",
       "    </tr>\n",
       "    <tr>\n",
       "      <th>6</th>\n",
       "      <td>Show banners with current offers and sales on ...</td>\n",
       "      <td>40.0</td>\n",
       "    </tr>\n",
       "    <tr>\n",
       "      <th>8</th>\n",
       "      <td>Launch a promotion that gives users discounts ...</td>\n",
       "      <td>16.2</td>\n",
       "    </tr>\n",
       "    <tr>\n",
       "      <th>3</th>\n",
       "      <td>Change the category structure. This will incre...</td>\n",
       "      <td>9.0</td>\n",
       "    </tr>\n",
       "    <tr>\n",
       "      <th>1</th>\n",
       "      <td>Launch your own delivery service. This will sh...</td>\n",
       "      <td>4.0</td>\n",
       "    </tr>\n",
       "    <tr>\n",
       "      <th>5</th>\n",
       "      <td>Add a customer review page. This will increase...</td>\n",
       "      <td>4.0</td>\n",
       "    </tr>\n",
       "    <tr>\n",
       "      <th>4</th>\n",
       "      <td>Change the background color on the main page. ...</td>\n",
       "      <td>3.0</td>\n",
       "    </tr>\n",
       "  </tbody>\n",
       "</table>\n",
       "</div>"
      ],
      "text/plain": [
       "                                          hypothesis   RICE\n",
       "7  Add a subscription form to all the main pages....  112.0\n",
       "2  Add product recommendation blocks to the store...   56.0\n",
       "0  Add two new channels for attracting traffic. T...   40.0\n",
       "6  Show banners with current offers and sales on ...   40.0\n",
       "8  Launch a promotion that gives users discounts ...   16.2\n",
       "3  Change the category structure. This will incre...    9.0\n",
       "1  Launch your own delivery service. This will sh...    4.0\n",
       "5  Add a customer review page. This will increase...    4.0\n",
       "4  Change the background color on the main page. ...    3.0"
      ]
     },
     "execution_count": 3,
     "metadata": {},
     "output_type": "execute_result"
    }
   ],
   "source": [
    "#calculating RICE\n",
    "hypothesis_df['RICE']=(hypothesis_df['reach']*hypothesis_df['impact']*hypothesis_df['confidence'])/hypothesis_df['effort']\n",
    "hypothesis_df[['hypothesis', 'RICE']].sort_values('RICE', ascending=False)\n"
   ]
  },
  {
   "cell_type": "markdown",
   "metadata": {},
   "source": [
    "We can see that the ICE and RICE share the same top 5 hypothesis. The differnce in the ranking it due to the RICE reach of hypothesis 7 is the highest possible (10), while hypothesis 7 reach is 8 which rank these at the top two. The reason hypothesis 8 was downgraded to 5th place from 1st place in ICE, is due to the fact that it's reach is the lowest posssible (1)."
   ]
  },
  {
   "cell_type": "code",
   "execution_count": 4,
   "metadata": {},
   "outputs": [
    {
     "name": "stdout",
     "output_type": "stream",
     "text": [
      "hypothesis 0: Add two new channels for attracting traffic. This will bring 30% more users\n",
      "hypothesis 1: Launch your own delivery service. This will shorten delivery time\n",
      "hypothesis 2: Add product recommendation blocks to the store's site. This will increase conversion and average purchase size\n",
      "hypothesis 3: Change the category structure. This will increase conversion since users will find the products they want more quickly\n",
      "hypothesis 4: Change the background color on the main page. This will increase user engagement\n",
      "hypothesis 5: Add a customer review page. This will increase the number of orders\n",
      "hypothesis 6: Show banners with current offers and sales on the main page. This will boost conversion\n",
      "hypothesis 7: Add a subscription form to all the main pages. This will help you compile a mailing list\n",
      "hypothesis 8: Launch a promotion that gives users discounts on their birthdays\n"
     ]
    }
   ],
   "source": [
    "#showing the hypothesis text\n",
    "pd.set_option('display.max_colwidth', 500)\n",
    "counter=0\n",
    "for i in hypothesis_df['hypothesis']:\n",
    "    print(f'hypothesis {counter}:', i)\n",
    "    counter += 1"
   ]
  },
  {
   "cell_type": "markdown",
   "metadata": {},
   "source": [
    "## A/B Test Analysis"
   ]
  },
  {
   "cell_type": "markdown",
   "metadata": {},
   "source": [
    "### Graph cumulative revenue by group. Make conclusions and conjectures."
   ]
  },
  {
   "cell_type": "code",
   "execution_count": 5,
   "metadata": {
    "scrolled": false
   },
   "outputs": [
    {
     "name": "stdout",
     "output_type": "stream",
     "text": [
      "<class 'pandas.core.frame.DataFrame'>\n",
      "RangeIndex: 1197 entries, 0 to 1196\n",
      "Data columns (total 5 columns):\n",
      " #   Column         Non-Null Count  Dtype         \n",
      "---  ------         --------------  -----         \n",
      " 0   transactionId  1197 non-null   int64         \n",
      " 1   visitorId      1197 non-null   int64         \n",
      " 2   date           1197 non-null   datetime64[ns]\n",
      " 3   revenue        1197 non-null   float64       \n",
      " 4   group          1197 non-null   object        \n",
      "dtypes: datetime64[ns](1), float64(1), int64(2), object(1)\n",
      "memory usage: 46.9+ KB\n",
      "\n",
      "<class 'pandas.core.frame.DataFrame'>\n",
      "RangeIndex: 62 entries, 0 to 61\n",
      "Data columns (total 3 columns):\n",
      " #   Column  Non-Null Count  Dtype         \n",
      "---  ------  --------------  -----         \n",
      " 0   date    62 non-null     datetime64[ns]\n",
      " 1   group   62 non-null     object        \n",
      " 2   visits  62 non-null     int64         \n",
      "dtypes: datetime64[ns](1), int64(1), object(1)\n",
      "memory usage: 1.6+ KB\n"
     ]
    }
   ],
   "source": [
    "orders=pd.read_csv('/datasets/orders_us.csv')\n",
    "visitors=pd.read_csv('/datasets/visits_us.csv')\n",
    "\n",
    "orders['date'] = orders['date'].map(\n",
    "    lambda x: dt.datetime.strptime(x, '%Y-%m-%d')\n",
    ")\n",
    "\n",
    "visitors['date'] = visitors['date'].map(\n",
    "    lambda x: dt.datetime.strptime(x, '%Y-%m-%d')\n",
    ")\n",
    "\n",
    "orders.info()\n",
    "print()\n",
    "visitors.info()\n",
    "\n",
    "#checking if some of users are present in both groups\n",
    "\n",
    "groups=orders.groupby(['visitorId', 'group'])['revenue'].sum().reset_index()\n",
    "onBothGroups=groups[groups['visitorId'].duplicated()]\n",
    "\n",
    "#dropping users that on both groups\n",
    "orders=orders[~orders.visitorId.isin(onBothGroups.visitorId)]"
   ]
  },
  {
   "cell_type": "code",
   "execution_count": 6,
   "metadata": {
    "scrolled": false
   },
   "outputs": [
    {
     "data": {
      "image/png": "[encoded data removed]",
      "text/plain": [
       "<Figure size 936x504 with 1 Axes>"
      ]
     },
     "metadata": {
      "needs_background": "light"
     },
     "output_type": "display_data"
    }
   ],
   "source": [
    "datesGroups = orders[['date','group']].drop_duplicates() \n",
    "ordersAggregated = datesGroups.apply(lambda x: orders[np.logical_and(orders['date'] <= x['date'], orders['group'] == x['group'])].agg({'date' : 'max', 'group' : 'max', 'transactionId' : pd.Series.nunique, 'visitorId' : pd.Series.nunique, 'revenue' : 'sum'}), axis=1).sort_values(by=['date','group'])\n",
    "visitorsAggregated = datesGroups.apply(lambda x: visitors[np.logical_and(visitors['date'] <= x['date'], visitors['group'] == x['group'])].agg({'date' : 'max', 'group' : 'max', 'visits' : 'sum'}), axis=1).sort_values(by=['date','group']) \n",
    "\n",
    "cumulativeData = ordersAggregated.merge(visitorsAggregated, left_on=['date', 'group'], right_on=['date', 'group'])\n",
    "cumulativeData.columns = ['date', 'group', 'orders', 'buyers', 'revenue', 'visitors']\n",
    "\n",
    "# DataFrame with cumulative orders and cumulative revenue by day, group A\n",
    "cumulativeRevenueA = cumulativeData[cumulativeData['group']=='A'][['date','revenue', 'orders']]\n",
    "\n",
    "# DataFrame with cumulative orders and cumulative revenue by day, group B\n",
    "cumulativeRevenueB = cumulativeData[cumulativeData['group']=='B'][['date','revenue', 'orders']]\n",
    "\n",
    "plt.figure(figsize=(13, 7))\n",
    "\n",
    "# Plotting the group A revenue graph \n",
    "plt.plot(cumulativeRevenueA['date'], cumulativeRevenueA['revenue'], label='A')\n",
    "\n",
    "# Plotting the group B revenue graph \n",
    "plt.plot(cumulativeRevenueB['date'], cumulativeRevenueB['revenue'], label='B')\n",
    "\n",
    "plt.legend()\n",
    "plt.xlabel('Date')\n",
    "plt.ylabel('Revenue')\n",
    "\n",
    "plt.show()\n"
   ]
  },
  {
   "cell_type": "markdown",
   "metadata": {},
   "source": [
    "Revenue is rising steadily throughout the whole test. That's a good sign.\n",
    "However, we can see that both groups see spikes in revenue at certain points. This may imply either a surge in the number of orders or the presence of very expensive orders in the sample. "
   ]
  },
  {
   "cell_type": "markdown",
   "metadata": {},
   "source": [
    "### Graph cumulative average order size by group. Make conclusions and conjectures.\n"
   ]
  },
  {
   "cell_type": "code",
   "execution_count": 7,
   "metadata": {},
   "outputs": [
    {
     "data": {
      "image/png": "[encoded data removed]",
      "text/plain": [
       "<Figure size 936x504 with 1 Axes>"
      ]
     },
     "metadata": {
      "needs_background": "light"
     },
     "output_type": "display_data"
    }
   ],
   "source": [
    "plt.figure(figsize=(13, 7))\n",
    "plt.plot(cumulativeRevenueA['date'], cumulativeRevenueA['revenue']/cumulativeRevenueA['orders'], label='A')\n",
    "plt.plot(cumulativeRevenueB['date'], cumulativeRevenueB['revenue']/cumulativeRevenueB['orders'], label='B')\n",
    "plt.legend()\n",
    "plt.xlabel('Date')\n",
    "plt.ylabel('Average order size')\n",
    "\n",
    "plt.show()"
   ]
  },
  {
   "cell_type": "markdown",
   "metadata": {},
   "source": [
    "Average order size stabilizes for group A and keeps on raising for group B. The surge in group B in the second half of the test may have been due to the presence of large, expensive orders. We need more data on this group to find the true average order size and establish its level."
   ]
  },
  {
   "cell_type": "markdown",
   "metadata": {},
   "source": [
    "### Graph the relative difference in cumulative average order size for group B compared with group A. Make conclusions and conjectures.\n"
   ]
  },
  {
   "cell_type": "code",
   "execution_count": 8,
   "metadata": {},
   "outputs": [
    {
     "data": {
      "image/png": "[encoded data removed]",
      "text/plain": [
       "<Figure size 936x504 with 1 Axes>"
      ]
     },
     "metadata": {
      "needs_background": "light"
     },
     "output_type": "display_data"
    }
   ],
   "source": [
    "# gathering the data into one DataFrame\n",
    "mergedCumulativeRevenue = cumulativeRevenueA.merge(cumulativeRevenueB, left_on='date', right_on='date', how='left', suffixes=['A', 'B'])\n",
    "\n",
    "# plotting a relative difference graph for the average purchase sizes\n",
    "plt.figure(figsize=(13, 7))\n",
    "plt.plot(mergedCumulativeRevenue['date'], (mergedCumulativeRevenue['revenueB']/mergedCumulativeRevenue['ordersB'])/(mergedCumulativeRevenue['revenueA']/mergedCumulativeRevenue['ordersA'])-1)\n",
    "\n",
    "# adding the X axis\n",
    "plt.axhline(y=0, color='black', linestyle='--')\n",
    "plt.xlabel('Date')\n",
    "plt.ylabel('Relative Difference')\n",
    "\n",
    "plt.show()"
   ]
  },
  {
   "cell_type": "markdown",
   "metadata": {},
   "source": [
    "At several points the difference between the segments spikes. This means there must be some big orders and outliers.\n"
   ]
  },
  {
   "cell_type": "markdown",
   "metadata": {},
   "source": [
    "### Calculate each group's conversion rate as the ratio of orders to the number of visits for each day. Plot the daily conversion rates of the two groups and describe the difference. Draw conclusions and make conjectures.\n"
   ]
  },
  {
   "cell_type": "code",
   "execution_count": 9,
   "metadata": {
    "scrolled": false
   },
   "outputs": [
    {
     "data": {
      "image/png": "[encoded data removed]",
      "text/plain": [
       "<Figure size 936x504 with 1 Axes>"
      ]
     },
     "metadata": {
      "needs_background": "light"
     },
     "output_type": "display_data"
    }
   ],
   "source": [
    "# calculating cumulative conversion\n",
    "cumulativeData['conversion'] = cumulativeData['orders']/cumulativeData['visitors']\n",
    "\n",
    "# selecting data on group A \n",
    "cumulativeDataA = cumulativeData[cumulativeData['group']=='A']\n",
    "\n",
    "# selecting data on group B\n",
    "cumulativeDataB = cumulativeData[cumulativeData['group']=='B']\n",
    "\n",
    "# plotting the graphs\n",
    "plt.figure(figsize=(13, 7))\n",
    "plt.plot(cumulativeDataA['date'], cumulativeDataA['conversion'], label='A')\n",
    "plt.plot(cumulativeDataB['date'], cumulativeDataB['conversion'], label='B')\n",
    "plt.legend()\n",
    "plt.xlabel('Date')\n",
    "plt.ylabel('Conversion Rate')\n",
    "plt.ylim(ymin=0)\n",
    "\n",
    "plt.show()"
   ]
  },
  {
   "cell_type": "markdown",
   "metadata": {},
   "source": [
    "The convertion rate for group B started below group A but later exceeded group A and stabilized, while A fell below and stabilized below B."
   ]
  },
  {
   "cell_type": "markdown",
   "metadata": {},
   "source": [
    "### Plot a scatter chart of the number of orders per user. Make conclusions and conjectures.\n"
   ]
  },
  {
   "cell_type": "code",
   "execution_count": 10,
   "metadata": {},
   "outputs": [
    {
     "name": "stdout",
     "output_type": "stream",
     "text": [
      "      visitorId  orders\n",
      "908  3967698036       3\n",
      "55    249864742       3\n",
      "478  2108163459       3\n",
      "687  2988190573       3\n",
      "890  3908431265       3\n",
      "138   611059232       3\n",
      "632  2742574263       3\n",
      "157   678354126       2\n",
      "323  1404560065       2\n",
      "452  1985475298       2\n"
     ]
    },
    {
     "data": {
      "image/png": "[encoded data removed]",
      "text/plain": [
       "<Figure size 432x288 with 1 Axes>"
      ]
     },
     "metadata": {
      "needs_background": "light"
     },
     "output_type": "display_data"
    }
   ],
   "source": [
    "ordersByUser_df=orders.copy()\n",
    "ordersByUsers = (\n",
    "    ordersByUser_df.drop(['group', 'revenue', 'date'], axis=1)\n",
    "    .groupby('visitorId', as_index=False)\n",
    "    .agg({'transactionId': pd.Series.nunique})\n",
    ")\n",
    "\n",
    "ordersByUsers.columns = ['visitorId', 'orders']\n",
    "\n",
    "print(ordersByUsers.sort_values(by='orders', ascending=False).head(10))\n",
    "\n",
    "x_values = pd.Series(range(0,len(ordersByUsers)))\n",
    "\n",
    "plt.scatter(x_values, ordersByUsers['orders']) \n",
    "plt.xlabel('Number of Users')\n",
    "plt.ylabel('Number of Orders')\n",
    "\n",
    "plt.show()"
   ]
  },
  {
   "cell_type": "markdown",
   "metadata": {},
   "source": [
    "There are a lot of users with two to three orders. The exact share remains unknown, since it's not clear whether we should consider them anomalies or not."
   ]
  },
  {
   "cell_type": "markdown",
   "metadata": {},
   "source": [
    "### Calculate the 95th and 99th percentiles for the number of orders per user. Define the point at which a data point becomes an anomaly.\n"
   ]
  },
  {
   "cell_type": "code",
   "execution_count": 11,
   "metadata": {},
   "outputs": [
    {
     "data": {
      "text/plain": [
       "array([1., 1., 2.])"
      ]
     },
     "execution_count": 11,
     "metadata": {},
     "output_type": "execute_result"
    }
   ],
   "source": [
    "np.percentile(ordersByUsers['orders'], [90, 95, 99])"
   ]
  },
  {
   "cell_type": "markdown",
   "metadata": {},
   "source": [
    "No more than 5% of the number of orders is 1, and no more then 1% ordered more then 2.\n",
    "Thus, it would be reasonable to set one order per user as the upper limit for the number of orders and to filter anomalies on that basis.\n"
   ]
  },
  {
   "cell_type": "markdown",
   "metadata": {},
   "source": [
    "### Plot a scatter chart of order prices. Make conclusions and conjectures.\n"
   ]
  },
  {
   "cell_type": "code",
   "execution_count": 12,
   "metadata": {},
   "outputs": [
    {
     "data": {
      "image/png": "[encoded data removed]",
      "text/plain": [
       "<Figure size 432x288 with 1 Axes>"
      ]
     },
     "metadata": {
      "needs_background": "light"
     },
     "output_type": "display_data"
    }
   ],
   "source": [
    "x_values = pd.Series(range(0, len(orders['revenue'])))\n",
    "plt.scatter(x_values, orders['revenue']) \n",
    "\n",
    "plt.xlabel('Number of Users')\n",
    "plt.ylabel('Order prices')\n",
    "\n",
    "plt.show()"
   ]
  },
  {
   "cell_type": "code",
   "execution_count": 13,
   "metadata": {},
   "outputs": [
    {
     "data": {
      "image/png": "[encoded data removed]",
      "text/plain": [
       "<Figure size 432x288 with 1 Axes>"
      ]
     },
     "metadata": {
      "needs_background": "light"
     },
     "output_type": "display_data"
    }
   ],
   "source": [
    "x_values = pd.Series(range(0, len(orders['revenue'])))\n",
    "plt.scatter(x_values, orders['revenue']) \n",
    "\n",
    "plt.xlabel('Number of Users')\n",
    "plt.ylabel('Order prices')\n",
    "plt.ylim(0, 1500)\n",
    "plt.show()\n"
   ]
  },
  {
   "cell_type": "markdown",
   "metadata": {},
   "source": [
    "### Calculate the 95th and 99th percentiles of order prices. Define the point at which a data point becomes an anomaly.\n"
   ]
  },
  {
   "cell_type": "code",
   "execution_count": 14,
   "metadata": {},
   "outputs": [
    {
     "data": {
      "text/plain": [
       "array([280.8  , 414.275, 830.3  ])"
      ]
     },
     "execution_count": 14,
     "metadata": {},
     "output_type": "execute_result"
    }
   ],
   "source": [
    "np.percentile(orders['revenue'], [90, 95, 99])"
   ]
  },
  {
   "cell_type": "markdown",
   "metadata": {},
   "source": [
    "No more than 5% of orders cost more than 414.27. Thus, it  would be reasonable to set 414.27 order price as the lower limit for the order price and to filter anomalies on that basis."
   ]
  },
  {
   "cell_type": "markdown",
   "metadata": {},
   "source": [
    "### Find the statistical significance of the difference in conversion between the groups using the raw data. Make conclusions and conjectures.\n"
   ]
  },
  {
   "cell_type": "code",
   "execution_count": 15,
   "metadata": {},
   "outputs": [
    {
     "name": "stdout",
     "output_type": "stream",
     "text": [
      "0.011\n",
      "0.160\n"
     ]
    }
   ],
   "source": [
    "ordersByUsersA = orders[orders['group']=='A'].groupby('visitorId', as_index=False).agg({'transactionId' : pd.Series.nunique})\n",
    "ordersByUsersA.columns = ['visitorId', 'orders']\n",
    "\n",
    "ordersByUsersB = orders[orders['group']=='B'].groupby('visitorId', as_index=False).agg({'transactionId' : pd.Series.nunique})\n",
    "ordersByUsersB.columns = ['visitorId', 'orders']\n",
    "\n",
    "sampleA = pd.concat([ordersByUsersA['orders'],pd.Series(0, index=np.arange(visitors[visitors['group']=='A']['visits'].sum() - len(ordersByUsersA['orders'])), name='orders')],axis=0)\n",
    "\n",
    "sampleB = pd.concat([ordersByUsersB['orders'],pd.Series(0, index=np.arange(visitors[visitors['group']=='B']['visits'].sum() - len(ordersByUsersB['orders'])), name='orders')],axis=0)\n",
    "\n",
    "print(\"{0:.3f}\".format(stats.mannwhitneyu(sampleA, sampleB)[1]))\n",
    "\n",
    "print(\"{0:.3f}\".format(sampleB.mean()/sampleA.mean()-1)) "
   ]
  },
  {
   "cell_type": "markdown",
   "metadata": {},
   "source": [
    "The first row of the output gives us the p-value, 0.011, which is lower than 0.05. So we reject the null hypothesis meaning that there is a statistical significance between the groups. The relative gain of group B is 16% (the second row of the output).\n"
   ]
  },
  {
   "cell_type": "markdown",
   "metadata": {},
   "source": [
    "### Find the statistical significance of the difference in average order size between the groups using the raw data. Make conclusions and conjectures.\n"
   ]
  },
  {
   "cell_type": "code",
   "execution_count": 16,
   "metadata": {},
   "outputs": [
    {
     "name": "stdout",
     "output_type": "stream",
     "text": [
      "0.862\n",
      "0.278\n"
     ]
    }
   ],
   "source": [
    "print('{0:.3f}'.format(stats.mannwhitneyu(orders[orders['group']=='A']['revenue'], orders[orders['group']=='B']['revenue'])[1]))\n",
    "print('{0:.3f}'.format(orders[orders['group']=='B']['revenue'].mean()/orders[orders['group']=='A']['revenue'].mean()-1))\n"
   ]
  },
  {
   "cell_type": "markdown",
   "metadata": {},
   "source": [
    "The p-value is considerably higher than 0.05, so there's no reason to reject the null hypothesis and conclude that average order size differs between the groups. \n"
   ]
  },
  {
   "cell_type": "markdown",
   "metadata": {},
   "source": [
    "### Find the statistical significance of the difference in conversion between the groups using the filtered data. Make conclusions and conjectures.\n"
   ]
  },
  {
   "cell_type": "markdown",
   "metadata": {},
   "source": [
    "As we saw that the 95th percentile for average order size, which I found in the preceding tasks, is 414. The 95th and 99th percentiles for the number of orders per user were 1 and 2 orders.\n",
    "Let's define anomalous users as those who place more than one order or one order bigger than 414. Thus we'll remove the 5% of users with the largest numbers of orders and from 5% of the users with the most expensive orders."
   ]
  },
  {
   "cell_type": "code",
   "execution_count": 17,
   "metadata": {},
   "outputs": [
    {
     "name": "stdout",
     "output_type": "stream",
     "text": [
      "568     113298937\n",
      "1099    148427295\n",
      "928     204675465\n",
      "33      249864742\n",
      "684     358944393\n",
      "Name: visitorId, dtype: int64\n",
      "(86,)\n",
      "\n",
      "0.016\n",
      "0.174\n"
     ]
    }
   ],
   "source": [
    "usersWithManyOrders = pd.concat([ordersByUsersA[ordersByUsersA['orders'] > 1]['visitorId'], ordersByUsersB[ordersByUsersB['orders'] > 1]['visitorId']], axis = 0)\n",
    "usersWithExpensiveOrders = orders[orders['revenue'] > 414]['visitorId']\n",
    "abnormalUsers = pd.concat([usersWithManyOrders, usersWithExpensiveOrders], axis = 0).drop_duplicates().sort_values()\n",
    "print(abnormalUsers.head(5))\n",
    "print(abnormalUsers.shape)\n",
    "#we have 75 anomalous users in total.\n",
    "\n",
    "sampleAFiltered = pd.concat([ordersByUsersA[np.logical_not(ordersByUsersA['visitorId'].isin(abnormalUsers))]['orders'],pd.Series(0, index=np.arange(visitors[visitors['group']=='A']['visits'].sum() - len(ordersByUsersA['orders'])),name='orders')],axis=0)\n",
    "\n",
    "sampleBFiltered = pd.concat([ordersByUsersB[np.logical_not(ordersByUsersB['visitorId'].isin(abnormalUsers))]['orders'],pd.Series(0, index=np.arange(visitors[visitors['group']=='B']['visits'].sum() - len(ordersByUsersB['orders'])),name='orders')],axis=0)\n",
    "print()\n",
    "print(\"{0:.3f}\".format(stats.mannwhitneyu(sampleAFiltered, sampleBFiltered)[1]))\n",
    "print(\"{0:.3f}\".format(sampleBFiltered.mean()/sampleAFiltered.mean()-1)) \n"
   ]
  },
  {
   "cell_type": "markdown",
   "metadata": {},
   "source": [
    "The results of the filtered data changed a little, but didn't change the outcome of the Null hypothesis."
   ]
  },
  {
   "cell_type": "markdown",
   "metadata": {},
   "source": [
    "### Find the statistical significance of the difference in average order size between the groups using the filtered data. Make conclusions and conjectures.\n"
   ]
  },
  {
   "cell_type": "code",
   "execution_count": 18,
   "metadata": {},
   "outputs": [
    {
     "name": "stdout",
     "output_type": "stream",
     "text": [
      "0.771\n",
      "-0.033\n"
     ]
    }
   ],
   "source": [
    "print('{0:.3f}'.format(stats.mannwhitneyu(\n",
    "    orders[np.logical_and(\n",
    "        orders['group']=='A',\n",
    "        np.logical_not(orders['visitorId'].isin(abnormalUsers)))]['revenue'],\n",
    "    orders[np.logical_and(\n",
    "        orders['group']=='B',\n",
    "        np.logical_not(orders['visitorId'].isin(abnormalUsers)))]['revenue'])[1]))\n",
    "\n",
    "print('{0:.3f}'.format(\n",
    "    orders[np.logical_and(orders['group']=='B',np.logical_not(orders['visitorId'].isin(abnormalUsers)))]['revenue'].mean()/\n",
    "    orders[np.logical_and(\n",
    "        orders['group']=='A',\n",
    "        np.logical_not(orders['visitorId'].isin(abnormalUsers)))]['revenue'].mean() - 1))"
   ]
  },
  {
   "cell_type": "markdown",
   "metadata": {},
   "source": [
    "The p-value increased slightly but now the difference between the segments is 3.3% instead of 27%."
   ]
  },
  {
   "cell_type": "markdown",
   "metadata": {},
   "source": [
    "### Conclusions and decisions"
   ]
  },
  {
   "cell_type": "markdown",
   "metadata": {},
   "source": [
    "In conclusion we saw that there were users that appeared on both groups, so they were dropped. We also saw that large orders skewed our cumulative revenue by group data.\n",
    "\n",
    "Nontheless, we saw that group B conversion rate is higher than group A, by 16% using the raw data and 17% when omitting outliers.\n",
    "\n",
    "We also saw that only 1% of users ordered more than 2 orders, and no more than 5% of orders cost more than 414.\n",
    "\n",
    "In addition, we found no statistical significance of the difference in average order size between the groups, however, due to outliers the difference in the mean between the groups is 27.8% higher in group B. After removing outliers the difference falls to 3.3% higher for group A.\n",
    "\n",
    "Per the conclusion above, the test can be stop because as mentioned, there is a statistical difference in the conversion between the two groups where group B is leading with 16%, while there is no statistical difference in the average order size between the groups."
   ]
  }
 ],
 "metadata": {
  "ExecuteTimeLog": [
   {
    "duration": 647,
    "start_time": "2022-03-31T11:57:19.935Z"
   },
   {
    "duration": 17,
    "start_time": "2022-03-31T11:57:32.778Z"
   },
   {
    "duration": 20,
    "start_time": "2022-03-31T11:57:40.867Z"
   },
   {
    "duration": 101,
    "start_time": "2022-03-31T11:58:30.463Z"
   },
   {
    "duration": 14,
    "start_time": "2022-03-31T11:59:18.981Z"
   },
   {
    "duration": 21,
    "start_time": "2022-03-31T11:59:24.964Z"
   },
   {
    "duration": 15,
    "start_time": "2022-03-31T11:59:41.492Z"
   },
   {
    "duration": 24,
    "start_time": "2022-03-31T11:59:51.517Z"
   },
   {
    "duration": 9,
    "start_time": "2022-03-31T12:08:41.871Z"
   },
   {
    "duration": 8,
    "start_time": "2022-03-31T12:09:12.235Z"
   },
   {
    "duration": 15,
    "start_time": "2022-03-31T12:10:30.745Z"
   },
   {
    "duration": 57,
    "start_time": "2022-03-31T14:47:18.751Z"
   },
   {
    "duration": 443,
    "start_time": "2022-03-31T14:47:28.908Z"
   },
   {
    "duration": 14,
    "start_time": "2022-03-31T14:47:29.354Z"
   },
   {
    "duration": 13,
    "start_time": "2022-03-31T14:47:29.370Z"
   },
   {
    "duration": 139,
    "start_time": "2022-03-31T15:03:13.318Z"
   },
   {
    "duration": 191,
    "start_time": "2022-03-31T15:04:12.183Z"
   },
   {
    "duration": 92,
    "start_time": "2022-03-31T15:04:33.234Z"
   },
   {
    "duration": 613,
    "start_time": "2022-03-31T15:11:00.907Z"
   },
   {
    "duration": 13,
    "start_time": "2022-03-31T15:11:01.522Z"
   },
   {
    "duration": 12,
    "start_time": "2022-03-31T15:11:01.537Z"
   },
   {
    "duration": 178,
    "start_time": "2022-03-31T15:11:01.551Z"
   },
   {
    "duration": 30,
    "start_time": "2022-03-31T15:11:20.424Z"
   },
   {
    "duration": 39,
    "start_time": "2022-03-31T15:12:01.836Z"
   },
   {
    "duration": 35,
    "start_time": "2022-03-31T15:12:09.901Z"
   },
   {
    "duration": 41,
    "start_time": "2022-03-31T15:12:27.618Z"
   },
   {
    "duration": 653,
    "start_time": "2022-03-31T15:25:40.468Z"
   },
   {
    "duration": 540,
    "start_time": "2022-03-31T15:26:44.499Z"
   },
   {
    "duration": 15,
    "start_time": "2022-03-31T15:26:45.041Z"
   },
   {
    "duration": 13,
    "start_time": "2022-03-31T15:26:45.058Z"
   },
   {
    "duration": 73,
    "start_time": "2022-03-31T15:26:45.074Z"
   },
   {
    "duration": 111,
    "start_time": "2022-03-31T15:26:45.149Z"
   },
   {
    "duration": 34,
    "start_time": "2022-03-31T15:27:36.648Z"
   },
   {
    "duration": 475,
    "start_time": "2022-03-31T17:12:07.462Z"
   },
   {
    "duration": 14,
    "start_time": "2022-03-31T17:12:07.939Z"
   },
   {
    "duration": 12,
    "start_time": "2022-03-31T17:12:07.955Z"
   },
   {
    "duration": 55,
    "start_time": "2022-03-31T17:12:07.970Z"
   },
   {
    "duration": 93,
    "start_time": "2022-03-31T17:12:08.027Z"
   },
   {
    "duration": 198,
    "start_time": "2022-03-31T17:12:57.941Z"
   },
   {
    "duration": 68,
    "start_time": "2022-03-31T17:13:02.009Z"
   },
   {
    "duration": 304,
    "start_time": "2022-03-31T17:13:10.304Z"
   },
   {
    "duration": 322,
    "start_time": "2022-03-31T17:16:26.465Z"
   },
   {
    "duration": 905,
    "start_time": "2022-03-31T17:17:18.818Z"
   },
   {
    "duration": 13,
    "start_time": "2022-03-31T17:17:19.726Z"
   },
   {
    "duration": 13,
    "start_time": "2022-03-31T17:17:19.741Z"
   },
   {
    "duration": 57,
    "start_time": "2022-03-31T17:17:19.756Z"
   },
   {
    "duration": 291,
    "start_time": "2022-03-31T17:17:19.815Z"
   },
   {
    "duration": 711,
    "start_time": "2022-03-31T17:17:37.017Z"
   },
   {
    "duration": 504,
    "start_time": "2022-03-31T17:17:49.542Z"
   },
   {
    "duration": 351,
    "start_time": "2022-03-31T17:18:51.690Z"
   },
   {
    "duration": 405,
    "start_time": "2022-03-31T17:23:03.026Z"
   },
   {
    "duration": 373,
    "start_time": "2022-03-31T17:24:01.808Z"
   },
   {
    "duration": 349,
    "start_time": "2022-03-31T17:25:08.766Z"
   },
   {
    "duration": 376,
    "start_time": "2022-03-31T17:25:18.382Z"
   },
   {
    "duration": 356,
    "start_time": "2022-03-31T17:26:23.915Z"
   },
   {
    "duration": 364,
    "start_time": "2022-03-31T17:27:42.783Z"
   },
   {
    "duration": 438,
    "start_time": "2022-03-31T17:28:57.296Z"
   },
   {
    "duration": 336,
    "start_time": "2022-03-31T17:29:06.501Z"
   },
   {
    "duration": 322,
    "start_time": "2022-03-31T17:29:25.188Z"
   },
   {
    "duration": 443,
    "start_time": "2022-03-31T17:29:31.596Z"
   },
   {
    "duration": 341,
    "start_time": "2022-03-31T17:29:43.127Z"
   },
   {
    "duration": 346,
    "start_time": "2022-03-31T17:30:07.202Z"
   },
   {
    "duration": 329,
    "start_time": "2022-03-31T17:30:13.829Z"
   },
   {
    "duration": 331,
    "start_time": "2022-03-31T17:31:43.136Z"
   },
   {
    "duration": 336,
    "start_time": "2022-03-31T17:33:04.448Z"
   },
   {
    "duration": 388,
    "start_time": "2022-03-31T17:34:00.979Z"
   },
   {
    "duration": 383,
    "start_time": "2022-03-31T17:34:13.345Z"
   },
   {
    "duration": 435,
    "start_time": "2022-03-31T17:34:41.152Z"
   },
   {
    "duration": 440,
    "start_time": "2022-03-31T17:34:48.775Z"
   },
   {
    "duration": 360,
    "start_time": "2022-03-31T17:35:00.973Z"
   },
   {
    "duration": 353,
    "start_time": "2022-03-31T17:35:18.257Z"
   },
   {
    "duration": 379,
    "start_time": "2022-03-31T17:37:03.757Z"
   },
   {
    "duration": 368,
    "start_time": "2022-03-31T17:37:22.535Z"
   },
   {
    "duration": 387,
    "start_time": "2022-03-31T17:37:40.416Z"
   },
   {
    "duration": 402,
    "start_time": "2022-03-31T18:04:54.232Z"
   },
   {
    "duration": 2334,
    "start_time": "2022-03-31T18:11:33.875Z"
   },
   {
    "duration": 380,
    "start_time": "2022-03-31T18:12:17.756Z"
   },
   {
    "duration": 176,
    "start_time": "2022-03-31T18:12:22.394Z"
   },
   {
    "duration": 206,
    "start_time": "2022-03-31T18:21:44.138Z"
   },
   {
    "duration": 57,
    "start_time": "2022-03-31T18:21:51.926Z"
   },
   {
    "duration": 835,
    "start_time": "2022-03-31T18:21:54.315Z"
   },
   {
    "duration": 52,
    "start_time": "2022-03-31T18:22:23.000Z"
   },
   {
    "duration": 56,
    "start_time": "2022-03-31T18:22:39.829Z"
   },
   {
    "duration": 774,
    "start_time": "2022-03-31T18:23:36.183Z"
   },
   {
    "duration": 15,
    "start_time": "2022-03-31T18:23:36.960Z"
   },
   {
    "duration": 25,
    "start_time": "2022-03-31T18:23:36.977Z"
   },
   {
    "duration": 129,
    "start_time": "2022-03-31T18:23:37.004Z"
   },
   {
    "duration": 0,
    "start_time": "2022-03-31T18:23:37.135Z"
   },
   {
    "duration": 0,
    "start_time": "2022-03-31T18:23:37.136Z"
   },
   {
    "duration": 54,
    "start_time": "2022-03-31T18:23:54.464Z"
   },
   {
    "duration": 233,
    "start_time": "2022-03-31T18:23:57.880Z"
   },
   {
    "duration": 605,
    "start_time": "2022-03-31T18:25:28.889Z"
   },
   {
    "duration": 183,
    "start_time": "2022-03-31T18:25:53.127Z"
   },
   {
    "duration": 199,
    "start_time": "2022-03-31T18:27:38.583Z"
   },
   {
    "duration": 262,
    "start_time": "2022-03-31T18:28:06.616Z"
   },
   {
    "duration": 489,
    "start_time": "2022-03-31T18:36:21.243Z"
   },
   {
    "duration": 853,
    "start_time": "2022-03-31T18:37:51.133Z"
   },
   {
    "duration": 263,
    "start_time": "2022-03-31T18:48:30.740Z"
   },
   {
    "duration": 324,
    "start_time": "2022-03-31T18:49:01.771Z"
   },
   {
    "duration": 313,
    "start_time": "2022-03-31T18:49:16.910Z"
   },
   {
    "duration": 300,
    "start_time": "2022-03-31T18:50:16.015Z"
   },
   {
    "duration": 184,
    "start_time": "2022-03-31T18:53:34.176Z"
   },
   {
    "duration": 223,
    "start_time": "2022-03-31T18:54:29.711Z"
   },
   {
    "duration": 19,
    "start_time": "2022-03-31T19:11:04.113Z"
   },
   {
    "duration": 15,
    "start_time": "2022-03-31T19:11:51.076Z"
   },
   {
    "duration": 14,
    "start_time": "2022-03-31T19:12:27.334Z"
   },
   {
    "duration": 131,
    "start_time": "2022-03-31T19:13:05.171Z"
   },
   {
    "duration": 130,
    "start_time": "2022-03-31T19:13:14.458Z"
   },
   {
    "duration": 290,
    "start_time": "2022-03-31T19:13:48.424Z"
   },
   {
    "duration": 257,
    "start_time": "2022-03-31T19:14:00.928Z"
   },
   {
    "duration": 320,
    "start_time": "2022-03-31T19:16:10.957Z"
   },
   {
    "duration": 238,
    "start_time": "2022-03-31T19:16:29.243Z"
   },
   {
    "duration": 9,
    "start_time": "2022-03-31T20:02:18.011Z"
   },
   {
    "duration": 5,
    "start_time": "2022-03-31T20:02:35.827Z"
   },
   {
    "duration": 2128,
    "start_time": "2022-03-31T20:03:05.672Z"
   },
   {
    "duration": 6,
    "start_time": "2022-03-31T20:03:11.364Z"
   },
   {
    "duration": 14,
    "start_time": "2022-03-31T20:10:32.583Z"
   },
   {
    "duration": 221,
    "start_time": "2022-03-31T20:11:36.042Z"
   },
   {
    "duration": 146,
    "start_time": "2022-03-31T20:12:42.643Z"
   },
   {
    "duration": 138,
    "start_time": "2022-03-31T20:14:17.609Z"
   },
   {
    "duration": 6,
    "start_time": "2022-03-31T20:15:23.414Z"
   },
   {
    "duration": 2548,
    "start_time": "2022-03-31T20:24:18.906Z"
   },
   {
    "duration": 156,
    "start_time": "2022-03-31T20:26:15.727Z"
   },
   {
    "duration": 147,
    "start_time": "2022-03-31T20:26:32.296Z"
   },
   {
    "duration": 430,
    "start_time": "2022-03-31T20:26:59.490Z"
   },
   {
    "duration": 156,
    "start_time": "2022-03-31T20:27:04.494Z"
   },
   {
    "duration": 12,
    "start_time": "2022-03-31T20:34:16.363Z"
   },
   {
    "duration": 2278,
    "start_time": "2022-03-31T20:45:03.521Z"
   },
   {
    "duration": 154,
    "start_time": "2022-03-31T20:46:27.277Z"
   },
   {
    "duration": 11,
    "start_time": "2022-03-31T20:46:35.618Z"
   },
   {
    "duration": 11,
    "start_time": "2022-03-31T20:46:38.468Z"
   },
   {
    "duration": 15,
    "start_time": "2022-03-31T20:48:21.296Z"
   },
   {
    "duration": 42,
    "start_time": "2022-03-31T20:48:37.815Z"
   },
   {
    "duration": 57,
    "start_time": "2022-03-31T20:48:50.871Z"
   },
   {
    "duration": 15,
    "start_time": "2022-03-31T20:51:54.684Z"
   },
   {
    "duration": 15,
    "start_time": "2022-03-31T20:56:44.806Z"
   },
   {
    "duration": 16,
    "start_time": "2022-03-31T20:56:56.374Z"
   },
   {
    "duration": 15,
    "start_time": "2022-03-31T20:57:17.067Z"
   },
   {
    "duration": 11,
    "start_time": "2022-03-31T20:57:21.125Z"
   },
   {
    "duration": 189,
    "start_time": "2022-03-31T21:00:01.767Z"
   },
   {
    "duration": 1403,
    "start_time": "2022-04-01T06:32:59.392Z"
   },
   {
    "duration": 14,
    "start_time": "2022-04-01T06:33:00.797Z"
   },
   {
    "duration": 24,
    "start_time": "2022-04-01T06:33:00.812Z"
   },
   {
    "duration": 77,
    "start_time": "2022-04-01T06:33:00.838Z"
   },
   {
    "duration": 602,
    "start_time": "2022-04-01T06:33:00.916Z"
   },
   {
    "duration": 213,
    "start_time": "2022-04-01T06:33:01.520Z"
   },
   {
    "duration": 327,
    "start_time": "2022-04-01T06:33:01.735Z"
   },
   {
    "duration": 230,
    "start_time": "2022-04-01T06:33:02.064Z"
   },
   {
    "duration": 290,
    "start_time": "2022-04-01T06:33:02.296Z"
   },
   {
    "duration": 15,
    "start_time": "2022-04-01T06:33:02.589Z"
   },
   {
    "duration": 155,
    "start_time": "2022-04-01T06:33:02.606Z"
   },
   {
    "duration": 5,
    "start_time": "2022-04-01T06:33:02.763Z"
   },
   {
    "duration": 189,
    "start_time": "2022-04-01T06:33:02.770Z"
   },
   {
    "duration": 19,
    "start_time": "2022-04-01T06:33:02.961Z"
   },
   {
    "duration": 53,
    "start_time": "2022-04-01T06:33:02.982Z"
   },
   {
    "duration": 25,
    "start_time": "2022-04-01T06:33:03.037Z"
   },
   {
    "duration": 40,
    "start_time": "2022-04-01T06:34:10.024Z"
   },
   {
    "duration": 39,
    "start_time": "2022-04-01T06:37:54.035Z"
   },
   {
    "duration": 45,
    "start_time": "2022-04-01T17:56:59.230Z"
   },
   {
    "duration": 1411,
    "start_time": "2022-04-01T17:57:03.740Z"
   },
   {
    "duration": 13,
    "start_time": "2022-04-01T17:57:05.153Z"
   },
   {
    "duration": 10,
    "start_time": "2022-04-01T17:57:05.168Z"
   },
   {
    "duration": 65,
    "start_time": "2022-04-01T17:57:05.180Z"
   },
   {
    "duration": 527,
    "start_time": "2022-04-01T17:57:05.247Z"
   },
   {
    "duration": 186,
    "start_time": "2022-04-01T17:57:05.776Z"
   },
   {
    "duration": 386,
    "start_time": "2022-04-01T17:57:05.964Z"
   },
   {
    "duration": 214,
    "start_time": "2022-04-01T17:57:06.351Z"
   },
   {
    "duration": 336,
    "start_time": "2022-04-01T17:57:06.567Z"
   },
   {
    "duration": 5,
    "start_time": "2022-04-01T17:57:06.905Z"
   },
   {
    "duration": 143,
    "start_time": "2022-04-01T17:57:06.912Z"
   },
   {
    "duration": 9,
    "start_time": "2022-04-01T17:57:07.056Z"
   },
   {
    "duration": 177,
    "start_time": "2022-04-01T17:57:07.067Z"
   },
   {
    "duration": 28,
    "start_time": "2022-04-01T17:57:07.246Z"
   },
   {
    "duration": 35,
    "start_time": "2022-04-01T17:57:07.277Z"
   },
   {
    "duration": 14,
    "start_time": "2022-04-01T17:57:07.314Z"
   },
   {
    "duration": 12,
    "start_time": "2022-04-01T18:14:50.941Z"
   },
   {
    "duration": 5,
    "start_time": "2022-04-01T18:14:58.586Z"
   },
   {
    "duration": 99,
    "start_time": "2022-04-01T18:15:11.726Z"
   },
   {
    "duration": 6,
    "start_time": "2022-04-01T18:15:28.731Z"
   },
   {
    "duration": 6,
    "start_time": "2022-04-01T18:15:35.087Z"
   },
   {
    "duration": 10,
    "start_time": "2022-04-01T18:15:46.533Z"
   },
   {
    "duration": 1181,
    "start_time": "2022-04-01T18:36:31.059Z"
   },
   {
    "duration": 13,
    "start_time": "2022-04-01T18:36:32.242Z"
   },
   {
    "duration": 9,
    "start_time": "2022-04-01T18:36:32.257Z"
   },
   {
    "duration": 53,
    "start_time": "2022-04-01T18:36:32.269Z"
   },
   {
    "duration": 511,
    "start_time": "2022-04-01T18:36:32.324Z"
   },
   {
    "duration": 177,
    "start_time": "2022-04-01T18:36:32.837Z"
   },
   {
    "duration": 275,
    "start_time": "2022-04-01T18:36:33.016Z"
   },
   {
    "duration": 201,
    "start_time": "2022-04-01T18:36:33.293Z"
   },
   {
    "duration": 218,
    "start_time": "2022-04-01T18:36:33.496Z"
   },
   {
    "duration": 5,
    "start_time": "2022-04-01T18:36:33.717Z"
   },
   {
    "duration": 134,
    "start_time": "2022-04-01T18:36:33.723Z"
   },
   {
    "duration": 7,
    "start_time": "2022-04-01T18:36:33.858Z"
   },
   {
    "duration": 144,
    "start_time": "2022-04-01T18:36:33.866Z"
   },
   {
    "duration": 10,
    "start_time": "2022-04-01T18:36:34.012Z"
   },
   {
    "duration": 45,
    "start_time": "2022-04-01T18:36:34.024Z"
   },
   {
    "duration": 13,
    "start_time": "2022-04-01T18:36:34.071Z"
   },
   {
    "duration": 70,
    "start_time": "2022-04-03T05:25:24.230Z"
   },
   {
    "duration": 1653,
    "start_time": "2022-04-03T05:25:31.826Z"
   },
   {
    "duration": 17,
    "start_time": "2022-04-03T05:25:33.482Z"
   },
   {
    "duration": 15,
    "start_time": "2022-04-03T05:25:33.501Z"
   },
   {
    "duration": 1623,
    "start_time": "2022-04-03T05:25:33.519Z"
   },
   {
    "duration": 0,
    "start_time": "2022-04-03T05:25:35.144Z"
   },
   {
    "duration": 0,
    "start_time": "2022-04-03T05:25:35.146Z"
   },
   {
    "duration": 0,
    "start_time": "2022-04-03T05:25:35.148Z"
   },
   {
    "duration": 0,
    "start_time": "2022-04-03T05:25:35.150Z"
   },
   {
    "duration": 0,
    "start_time": "2022-04-03T05:25:35.151Z"
   },
   {
    "duration": 0,
    "start_time": "2022-04-03T05:25:35.153Z"
   },
   {
    "duration": 0,
    "start_time": "2022-04-03T05:25:35.154Z"
   },
   {
    "duration": 0,
    "start_time": "2022-04-03T05:25:35.156Z"
   },
   {
    "duration": 0,
    "start_time": "2022-04-03T05:25:35.157Z"
   },
   {
    "duration": 0,
    "start_time": "2022-04-03T05:25:35.160Z"
   },
   {
    "duration": 0,
    "start_time": "2022-04-03T05:25:35.161Z"
   },
   {
    "duration": 0,
    "start_time": "2022-04-03T05:25:35.162Z"
   },
   {
    "duration": 0,
    "start_time": "2022-04-03T05:25:35.164Z"
   },
   {
    "duration": 7,
    "start_time": "2022-04-03T05:26:27.801Z"
   },
   {
    "duration": 10,
    "start_time": "2022-04-03T05:28:59.496Z"
   },
   {
    "duration": 1618,
    "start_time": "2022-04-03T05:29:13.620Z"
   },
   {
    "duration": 0,
    "start_time": "2022-04-03T05:29:15.241Z"
   },
   {
    "duration": 0,
    "start_time": "2022-04-03T05:29:15.243Z"
   },
   {
    "duration": 0,
    "start_time": "2022-04-03T05:29:15.245Z"
   },
   {
    "duration": 0,
    "start_time": "2022-04-03T05:29:15.246Z"
   },
   {
    "duration": 0,
    "start_time": "2022-04-03T05:29:15.248Z"
   },
   {
    "duration": 0,
    "start_time": "2022-04-03T05:29:15.249Z"
   },
   {
    "duration": 0,
    "start_time": "2022-04-03T05:29:15.251Z"
   },
   {
    "duration": 0,
    "start_time": "2022-04-03T05:29:15.268Z"
   },
   {
    "duration": 0,
    "start_time": "2022-04-03T05:29:15.269Z"
   },
   {
    "duration": 0,
    "start_time": "2022-04-03T05:29:15.271Z"
   },
   {
    "duration": 0,
    "start_time": "2022-04-03T05:29:15.273Z"
   },
   {
    "duration": 0,
    "start_time": "2022-04-03T05:29:15.274Z"
   },
   {
    "duration": 0,
    "start_time": "2022-04-03T05:29:15.276Z"
   },
   {
    "duration": 0,
    "start_time": "2022-04-03T05:29:15.277Z"
   },
   {
    "duration": 0,
    "start_time": "2022-04-03T05:29:15.279Z"
   },
   {
    "duration": 0,
    "start_time": "2022-04-03T05:29:15.281Z"
   },
   {
    "duration": 30,
    "start_time": "2022-04-03T05:29:58.012Z"
   },
   {
    "duration": 20,
    "start_time": "2022-04-03T05:30:00.082Z"
   },
   {
    "duration": 1898,
    "start_time": "2022-04-03T05:30:02.053Z"
   },
   {
    "duration": 16,
    "start_time": "2022-04-03T05:30:10.508Z"
   },
   {
    "duration": 5,
    "start_time": "2022-04-03T05:30:13.157Z"
   },
   {
    "duration": 5,
    "start_time": "2022-04-03T05:30:27.232Z"
   },
   {
    "duration": 11,
    "start_time": "2022-04-03T05:31:59.627Z"
   },
   {
    "duration": 11,
    "start_time": "2022-04-03T05:32:11.867Z"
   },
   {
    "duration": 9,
    "start_time": "2022-04-03T05:32:59.522Z"
   },
   {
    "duration": 8,
    "start_time": "2022-04-03T05:33:06.041Z"
   },
   {
    "duration": 7,
    "start_time": "2022-04-03T05:34:32.954Z"
   },
   {
    "duration": 73,
    "start_time": "2022-04-03T05:35:41.773Z"
   },
   {
    "duration": 77,
    "start_time": "2022-04-03T05:40:15.263Z"
   },
   {
    "duration": 68,
    "start_time": "2022-04-03T05:41:10.564Z"
   },
   {
    "duration": 67,
    "start_time": "2022-04-03T05:42:06.933Z"
   },
   {
    "duration": 83,
    "start_time": "2022-04-03T05:42:30.355Z"
   },
   {
    "duration": 137,
    "start_time": "2022-04-03T05:42:41.357Z"
   },
   {
    "duration": 72,
    "start_time": "2022-04-03T05:50:45.724Z"
   },
   {
    "duration": 73,
    "start_time": "2022-04-03T05:51:01.568Z"
   },
   {
    "duration": 72,
    "start_time": "2022-04-03T05:51:16.458Z"
   },
   {
    "duration": 72,
    "start_time": "2022-04-03T05:52:00.228Z"
   },
   {
    "duration": 81,
    "start_time": "2022-04-03T05:52:27.830Z"
   },
   {
    "duration": 6,
    "start_time": "2022-04-03T05:52:54.654Z"
   },
   {
    "duration": 71,
    "start_time": "2022-04-03T05:52:59.067Z"
   },
   {
    "duration": 82,
    "start_time": "2022-04-03T05:54:11.650Z"
   },
   {
    "duration": 1157,
    "start_time": "2022-04-03T05:54:25.271Z"
   },
   {
    "duration": 78,
    "start_time": "2022-04-03T05:55:18.229Z"
   },
   {
    "duration": 94,
    "start_time": "2022-04-03T05:55:39.580Z"
   },
   {
    "duration": 95,
    "start_time": "2022-04-03T05:55:53.492Z"
   },
   {
    "duration": 76,
    "start_time": "2022-04-03T05:56:12.159Z"
   },
   {
    "duration": 79,
    "start_time": "2022-04-03T06:02:55.346Z"
   },
   {
    "duration": 73,
    "start_time": "2022-04-03T06:03:12.529Z"
   },
   {
    "duration": 73,
    "start_time": "2022-04-03T06:04:03.552Z"
   },
   {
    "duration": 71,
    "start_time": "2022-04-03T06:04:11.294Z"
   },
   {
    "duration": 77,
    "start_time": "2022-04-03T06:04:58.719Z"
   },
   {
    "duration": 70,
    "start_time": "2022-04-03T06:05:16.387Z"
   },
   {
    "duration": 75,
    "start_time": "2022-04-03T06:18:32.015Z"
   },
   {
    "duration": 73,
    "start_time": "2022-04-03T06:18:42.488Z"
   },
   {
    "duration": 77,
    "start_time": "2022-04-03T06:20:48.704Z"
   },
   {
    "duration": 88,
    "start_time": "2022-04-03T06:21:25.017Z"
   },
   {
    "duration": 82,
    "start_time": "2022-04-03T06:21:48.520Z"
   },
   {
    "duration": 83,
    "start_time": "2022-04-03T06:22:52.334Z"
   },
   {
    "duration": 77,
    "start_time": "2022-04-03T06:23:12.758Z"
   },
   {
    "duration": 72,
    "start_time": "2022-04-03T06:23:32.245Z"
   },
   {
    "duration": 71,
    "start_time": "2022-04-03T06:24:22.271Z"
   },
   {
    "duration": 67,
    "start_time": "2022-04-03T06:24:27.812Z"
   },
   {
    "duration": 70,
    "start_time": "2022-04-03T06:24:39.478Z"
   },
   {
    "duration": 83,
    "start_time": "2022-04-03T06:34:06.621Z"
   },
   {
    "duration": 78,
    "start_time": "2022-04-03T06:35:40.168Z"
   },
   {
    "duration": 99,
    "start_time": "2022-04-03T06:36:00.731Z"
   },
   {
    "duration": 88,
    "start_time": "2022-04-03T06:36:35.093Z"
   },
   {
    "duration": 72,
    "start_time": "2022-04-03T06:36:56.767Z"
   },
   {
    "duration": 88,
    "start_time": "2022-04-03T06:40:00.398Z"
   },
   {
    "duration": 87,
    "start_time": "2022-04-03T06:40:34.809Z"
   },
   {
    "duration": 71,
    "start_time": "2022-04-03T06:40:50.782Z"
   },
   {
    "duration": 68,
    "start_time": "2022-04-03T06:41:48.523Z"
   },
   {
    "duration": 74,
    "start_time": "2022-04-03T06:42:01.816Z"
   },
   {
    "duration": 78,
    "start_time": "2022-04-03T06:42:17.756Z"
   },
   {
    "duration": 77,
    "start_time": "2022-04-03T06:42:51.901Z"
   },
   {
    "duration": 77,
    "start_time": "2022-04-03T06:43:07.104Z"
   },
   {
    "duration": 79,
    "start_time": "2022-04-03T06:43:12.748Z"
   },
   {
    "duration": 74,
    "start_time": "2022-04-03T06:48:45.922Z"
   },
   {
    "duration": 81,
    "start_time": "2022-04-03T06:49:12.953Z"
   },
   {
    "duration": 85,
    "start_time": "2022-04-03T06:49:56.365Z"
   },
   {
    "duration": 73,
    "start_time": "2022-04-03T06:51:43.115Z"
   },
   {
    "duration": 75,
    "start_time": "2022-04-03T06:51:54.787Z"
   },
   {
    "duration": 90,
    "start_time": "2022-04-03T06:52:35.666Z"
   },
   {
    "duration": 84,
    "start_time": "2022-04-03T06:52:53.201Z"
   },
   {
    "duration": 85,
    "start_time": "2022-04-03T06:53:03.141Z"
   },
   {
    "duration": 84,
    "start_time": "2022-04-03T06:53:33.295Z"
   },
   {
    "duration": 85,
    "start_time": "2022-04-03T06:53:47.782Z"
   },
   {
    "duration": 89,
    "start_time": "2022-04-03T06:54:04.567Z"
   },
   {
    "duration": 124,
    "start_time": "2022-04-03T06:55:37.403Z"
   },
   {
    "duration": 131,
    "start_time": "2022-04-03T06:56:25.698Z"
   },
   {
    "duration": 91,
    "start_time": "2022-04-03T06:59:22.764Z"
   },
   {
    "duration": 1309,
    "start_time": "2022-04-03T07:00:26.293Z"
   },
   {
    "duration": 1393,
    "start_time": "2022-04-03T07:00:31.384Z"
   },
   {
    "duration": 1321,
    "start_time": "2022-04-03T07:00:51.934Z"
   },
   {
    "duration": 1447,
    "start_time": "2022-04-03T07:01:04.884Z"
   },
   {
    "duration": 17,
    "start_time": "2022-04-03T07:01:06.334Z"
   },
   {
    "duration": 28,
    "start_time": "2022-04-03T07:01:06.354Z"
   },
   {
    "duration": 7,
    "start_time": "2022-04-03T07:01:06.387Z"
   },
   {
    "duration": 1533,
    "start_time": "2022-04-03T07:01:06.396Z"
   },
   {
    "duration": 1,
    "start_time": "2022-04-03T07:01:07.931Z"
   },
   {
    "duration": 0,
    "start_time": "2022-04-03T07:01:07.933Z"
   },
   {
    "duration": 0,
    "start_time": "2022-04-03T07:01:07.934Z"
   },
   {
    "duration": 0,
    "start_time": "2022-04-03T07:01:07.936Z"
   },
   {
    "duration": 0,
    "start_time": "2022-04-03T07:01:07.937Z"
   },
   {
    "duration": 0,
    "start_time": "2022-04-03T07:01:07.939Z"
   },
   {
    "duration": 0,
    "start_time": "2022-04-03T07:01:07.941Z"
   },
   {
    "duration": 0,
    "start_time": "2022-04-03T07:01:07.942Z"
   },
   {
    "duration": 0,
    "start_time": "2022-04-03T07:01:07.945Z"
   },
   {
    "duration": 0,
    "start_time": "2022-04-03T07:01:07.947Z"
   },
   {
    "duration": 0,
    "start_time": "2022-04-03T07:01:07.948Z"
   },
   {
    "duration": 0,
    "start_time": "2022-04-03T07:01:07.951Z"
   },
   {
    "duration": 73,
    "start_time": "2022-04-03T07:01:39.594Z"
   },
   {
    "duration": 86,
    "start_time": "2022-04-03T07:01:46.707Z"
   },
   {
    "duration": 101,
    "start_time": "2022-04-03T07:02:05.592Z"
   },
   {
    "duration": 111,
    "start_time": "2022-04-03T07:02:16.485Z"
   },
   {
    "duration": 104,
    "start_time": "2022-04-03T07:02:38.421Z"
   },
   {
    "duration": 93,
    "start_time": "2022-04-03T07:02:45.506Z"
   },
   {
    "duration": 95,
    "start_time": "2022-04-03T07:03:58.073Z"
   },
   {
    "duration": 922,
    "start_time": "2022-04-03T07:06:58.307Z"
   },
   {
    "duration": 324,
    "start_time": "2022-04-03T07:07:02.871Z"
   },
   {
    "duration": 446,
    "start_time": "2022-04-03T07:07:07.235Z"
   },
   {
    "duration": 337,
    "start_time": "2022-04-03T07:07:12.287Z"
   },
   {
    "duration": 336,
    "start_time": "2022-04-03T07:09:13.521Z"
   },
   {
    "duration": 359,
    "start_time": "2022-04-03T07:09:24.177Z"
   },
   {
    "duration": 341,
    "start_time": "2022-04-03T07:09:50.719Z"
   },
   {
    "duration": 454,
    "start_time": "2022-04-03T07:10:26.020Z"
   },
   {
    "duration": 622,
    "start_time": "2022-04-03T07:12:50.448Z"
   },
   {
    "duration": 8,
    "start_time": "2022-04-03T07:13:00.434Z"
   },
   {
    "duration": 8,
    "start_time": "2022-04-03T07:13:10.655Z"
   },
   {
    "duration": 213,
    "start_time": "2022-04-03T07:20:35.042Z"
   },
   {
    "duration": 217,
    "start_time": "2022-04-03T07:21:42.922Z"
   },
   {
    "duration": 240,
    "start_time": "2022-04-03T07:22:38.623Z"
   },
   {
    "duration": 255,
    "start_time": "2022-04-03T07:22:50.820Z"
   },
   {
    "duration": 282,
    "start_time": "2022-04-03T07:23:00.780Z"
   },
   {
    "duration": 111,
    "start_time": "2022-04-03T07:25:18.911Z"
   },
   {
    "duration": 194,
    "start_time": "2022-04-03T07:25:23.245Z"
   },
   {
    "duration": 227,
    "start_time": "2022-04-03T07:25:33.240Z"
   },
   {
    "duration": 200,
    "start_time": "2022-04-03T07:25:40.468Z"
   },
   {
    "duration": 182,
    "start_time": "2022-04-03T07:26:40.621Z"
   },
   {
    "duration": 192,
    "start_time": "2022-04-03T07:26:49.212Z"
   },
   {
    "duration": 212,
    "start_time": "2022-04-03T07:27:34.470Z"
   },
   {
    "duration": 263,
    "start_time": "2022-04-03T07:27:56.662Z"
   },
   {
    "duration": 6,
    "start_time": "2022-04-03T07:28:34.756Z"
   },
   {
    "duration": 261,
    "start_time": "2022-04-03T07:30:19.617Z"
   },
   {
    "duration": 14,
    "start_time": "2022-04-03T07:34:36.326Z"
   },
   {
    "duration": 46,
    "start_time": "2022-04-03T07:37:08.012Z"
   },
   {
    "duration": 18,
    "start_time": "2022-04-03T07:37:20.785Z"
   },
   {
    "duration": 1482,
    "start_time": "2022-04-03T08:37:25.581Z"
   },
   {
    "duration": 21,
    "start_time": "2022-04-03T08:37:27.065Z"
   },
   {
    "duration": 16,
    "start_time": "2022-04-03T08:37:27.088Z"
   },
   {
    "duration": 9,
    "start_time": "2022-04-03T08:37:27.107Z"
   },
   {
    "duration": 226,
    "start_time": "2022-04-03T08:37:27.119Z"
   },
   {
    "duration": 0,
    "start_time": "2022-04-03T08:37:27.348Z"
   },
   {
    "duration": 0,
    "start_time": "2022-04-03T08:37:27.349Z"
   },
   {
    "duration": 0,
    "start_time": "2022-04-03T08:37:27.352Z"
   },
   {
    "duration": 0,
    "start_time": "2022-04-03T08:37:27.355Z"
   },
   {
    "duration": 0,
    "start_time": "2022-04-03T08:37:27.357Z"
   },
   {
    "duration": 0,
    "start_time": "2022-04-03T08:37:27.359Z"
   },
   {
    "duration": 0,
    "start_time": "2022-04-03T08:37:27.385Z"
   },
   {
    "duration": 0,
    "start_time": "2022-04-03T08:37:27.387Z"
   },
   {
    "duration": 0,
    "start_time": "2022-04-03T08:37:27.388Z"
   },
   {
    "duration": 0,
    "start_time": "2022-04-03T08:37:27.389Z"
   },
   {
    "duration": 0,
    "start_time": "2022-04-03T08:37:27.390Z"
   },
   {
    "duration": 0,
    "start_time": "2022-04-03T08:37:27.393Z"
   },
   {
    "duration": 0,
    "start_time": "2022-04-03T08:37:27.394Z"
   },
   {
    "duration": 0,
    "start_time": "2022-04-03T08:37:27.395Z"
   },
   {
    "duration": 81,
    "start_time": "2022-04-03T08:37:52.051Z"
   },
   {
    "duration": 76,
    "start_time": "2022-04-03T08:38:01.147Z"
   },
   {
    "duration": 21,
    "start_time": "2022-04-03T08:38:02.556Z"
   },
   {
    "duration": 5,
    "start_time": "2022-04-03T08:38:09.741Z"
   },
   {
    "duration": 4,
    "start_time": "2022-04-03T08:38:15.808Z"
   },
   {
    "duration": 1499,
    "start_time": "2022-04-03T08:47:29.577Z"
   },
   {
    "duration": 17,
    "start_time": "2022-04-03T08:47:31.079Z"
   },
   {
    "duration": 16,
    "start_time": "2022-04-03T08:47:31.098Z"
   },
   {
    "duration": 10,
    "start_time": "2022-04-03T08:47:31.117Z"
   },
   {
    "duration": 92,
    "start_time": "2022-04-03T08:47:31.129Z"
   },
   {
    "duration": 985,
    "start_time": "2022-04-03T08:47:31.224Z"
   },
   {
    "duration": 349,
    "start_time": "2022-04-03T08:47:32.211Z"
   },
   {
    "duration": 422,
    "start_time": "2022-04-03T08:47:32.563Z"
   },
   {
    "duration": 481,
    "start_time": "2022-04-03T08:47:32.988Z"
   },
   {
    "duration": 496,
    "start_time": "2022-04-03T08:47:33.474Z"
   },
   {
    "duration": 17,
    "start_time": "2022-04-03T08:47:33.972Z"
   },
   {
    "duration": 233,
    "start_time": "2022-04-03T08:47:33.992Z"
   },
   {
    "duration": 221,
    "start_time": "2022-04-03T08:47:34.228Z"
   },
   {
    "duration": 6,
    "start_time": "2022-04-03T08:47:34.451Z"
   },
   {
    "duration": 288,
    "start_time": "2022-04-03T08:47:34.459Z"
   },
   {
    "duration": 15,
    "start_time": "2022-04-03T08:47:34.749Z"
   },
   {
    "duration": 67,
    "start_time": "2022-04-03T08:47:34.766Z"
   },
   {
    "duration": 18,
    "start_time": "2022-04-03T08:47:34.835Z"
   }
  ],
  "kernelspec": {
   "display_name": "Python 3 (ipykernel)",
   "language": "python",
   "name": "python3"
  },
  "language_info": {
   "codemirror_mode": {
    "name": "ipython",
    "version": 3
   },
   "file_extension": ".py",
   "mimetype": "text/x-python",
   "name": "python",
   "nbconvert_exporter": "python",
   "pygments_lexer": "ipython3",
   "version": "3.9.7"
  },
  "toc": {
   "base_numbering": 1,
   "nav_menu": {},
   "number_sections": true,
   "sideBar": true,
   "skip_h1_title": true,
   "title_cell": "Table of Contents",
   "title_sidebar": "Contents",
   "toc_cell": false,
   "toc_position": {},
   "toc_section_display": true,
   "toc_window_display": false
  }
 },
 "nbformat": 4,
 "nbformat_minor": 2
}
