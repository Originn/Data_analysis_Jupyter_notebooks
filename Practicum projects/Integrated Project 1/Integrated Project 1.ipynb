{
 "cells": [
  {
   "cell_type": "markdown",
   "metadata": {},
   "source": [
    "## Project description\n",
    "You work for the online store Ice, which sells video games all over the world. User and expert reviews, genres, platforms (e.g. Xbox or PlayStation), and historical data on game sales are available from open sources. You need to identify patterns that determine whether a game succeeds or not. This will allow you to spot potential big winners and plan advertising campaigns.\n",
    "In front of you is data going back to 2016. Let’s imagine that it’s December 2016 and you’re planning a campaign for 2017.\n",
    "(The important thing is to get experience working with data. It doesn't really matter whether you're forecasting 2017 sales based on data from 2016 or 2017 sales based on data from 2016.)\n",
    "The dataset contains the abbreviation ESRB. The Entertainment Software Rating Board evaluates a game's content and assigns an age rating such as Teen or Mature."
   ]
  },
  {
   "cell_type": "code",
   "execution_count": 1,
   "metadata": {},
   "outputs": [],
   "source": [
    "import matplotlib as mpl \n",
    "import pandas as pd\n",
    "pd.options.mode.chained_assignment = None\n",
    "import matplotlib.pyplot as plt\n",
    "import seaborn as sns\n",
    "import scipy.stats as st\n",
    "from matplotlib.axes._axes import _log as matplotlib_axes_logger\n",
    "matplotlib_axes_logger.setLevel('ERROR')\n",
    "from dateutil.parser import parse\n",
    "import numpy as np\n"
   ]
  },
  {
   "cell_type": "code",
   "execution_count": 30,
   "metadata": {},
   "outputs": [],
   "source": [
    "games_df = pd.read_csv('/Users/edeng/Practicum projects/games.csv')"
   ]
  },
  {
   "cell_type": "code",
   "execution_count": 3,
   "metadata": {},
   "outputs": [
    {
     "data": {
      "text/html": [
       "<div>\n",
       "<style scoped>\n",
       "    .dataframe tbody tr th:only-of-type {\n",
       "        vertical-align: middle;\n",
       "    }\n",
       "\n",
       "    .dataframe tbody tr th {\n",
       "        vertical-align: top;\n",
       "    }\n",
       "\n",
       "    .dataframe thead th {\n",
       "        text-align: right;\n",
       "    }\n",
       "</style>\n",
       "<table border=\"1\" class=\"dataframe\">\n",
       "  <thead>\n",
       "    <tr style=\"text-align: right;\">\n",
       "      <th></th>\n",
       "      <th>Name</th>\n",
       "      <th>Platform</th>\n",
       "      <th>Year_of_Release</th>\n",
       "      <th>Genre</th>\n",
       "      <th>NA_sales</th>\n",
       "      <th>EU_sales</th>\n",
       "      <th>JP_sales</th>\n",
       "      <th>Other_sales</th>\n",
       "      <th>Critic_Score</th>\n",
       "      <th>User_Score</th>\n",
       "      <th>Rating</th>\n",
       "    </tr>\n",
       "  </thead>\n",
       "  <tbody>\n",
       "    <tr>\n",
       "      <th>0</th>\n",
       "      <td>Wii Sports</td>\n",
       "      <td>Wii</td>\n",
       "      <td>2006.0</td>\n",
       "      <td>Sports</td>\n",
       "      <td>41.36</td>\n",
       "      <td>28.96</td>\n",
       "      <td>3.77</td>\n",
       "      <td>8.45</td>\n",
       "      <td>76.0</td>\n",
       "      <td>8</td>\n",
       "      <td>E</td>\n",
       "    </tr>\n",
       "    <tr>\n",
       "      <th>1</th>\n",
       "      <td>Super Mario Bros.</td>\n",
       "      <td>NES</td>\n",
       "      <td>1985.0</td>\n",
       "      <td>Platform</td>\n",
       "      <td>29.08</td>\n",
       "      <td>3.58</td>\n",
       "      <td>6.81</td>\n",
       "      <td>0.77</td>\n",
       "      <td>NaN</td>\n",
       "      <td>NaN</td>\n",
       "      <td>NaN</td>\n",
       "    </tr>\n",
       "    <tr>\n",
       "      <th>2</th>\n",
       "      <td>Mario Kart Wii</td>\n",
       "      <td>Wii</td>\n",
       "      <td>2008.0</td>\n",
       "      <td>Racing</td>\n",
       "      <td>15.68</td>\n",
       "      <td>12.76</td>\n",
       "      <td>3.79</td>\n",
       "      <td>3.29</td>\n",
       "      <td>82.0</td>\n",
       "      <td>8.3</td>\n",
       "      <td>E</td>\n",
       "    </tr>\n",
       "    <tr>\n",
       "      <th>3</th>\n",
       "      <td>Wii Sports Resort</td>\n",
       "      <td>Wii</td>\n",
       "      <td>2009.0</td>\n",
       "      <td>Sports</td>\n",
       "      <td>15.61</td>\n",
       "      <td>10.93</td>\n",
       "      <td>3.28</td>\n",
       "      <td>2.95</td>\n",
       "      <td>80.0</td>\n",
       "      <td>8</td>\n",
       "      <td>E</td>\n",
       "    </tr>\n",
       "    <tr>\n",
       "      <th>4</th>\n",
       "      <td>Pokemon Red/Pokemon Blue</td>\n",
       "      <td>GB</td>\n",
       "      <td>1996.0</td>\n",
       "      <td>Role-Playing</td>\n",
       "      <td>11.27</td>\n",
       "      <td>8.89</td>\n",
       "      <td>10.22</td>\n",
       "      <td>1.00</td>\n",
       "      <td>NaN</td>\n",
       "      <td>NaN</td>\n",
       "      <td>NaN</td>\n",
       "    </tr>\n",
       "  </tbody>\n",
       "</table>\n",
       "</div>"
      ],
      "text/plain": [
       "                       Name Platform  Year_of_Release         Genre  NA_sales  \\\n",
       "0                Wii Sports      Wii           2006.0        Sports     41.36   \n",
       "1         Super Mario Bros.      NES           1985.0      Platform     29.08   \n",
       "2            Mario Kart Wii      Wii           2008.0        Racing     15.68   \n",
       "3         Wii Sports Resort      Wii           2009.0        Sports     15.61   \n",
       "4  Pokemon Red/Pokemon Blue       GB           1996.0  Role-Playing     11.27   \n",
       "\n",
       "   EU_sales  JP_sales  Other_sales  Critic_Score User_Score Rating  \n",
       "0     28.96      3.77         8.45          76.0          8      E  \n",
       "1      3.58      6.81         0.77           NaN        NaN    NaN  \n",
       "2     12.76      3.79         3.29          82.0        8.3      E  \n",
       "3     10.93      3.28         2.95          80.0          8      E  \n",
       "4      8.89     10.22         1.00           NaN        NaN    NaN  "
      ]
     },
     "execution_count": 3,
     "metadata": {},
     "output_type": "execute_result"
    }
   ],
   "source": [
    "games_df.head()"
   ]
  },
  {
   "cell_type": "code",
   "execution_count": 4,
   "metadata": {},
   "outputs": [
    {
     "name": "stdout",
     "output_type": "stream",
     "text": [
      "<class 'pandas.core.frame.DataFrame'>\n",
      "RangeIndex: 16715 entries, 0 to 16714\n",
      "Data columns (total 11 columns):\n",
      " #   Column           Non-Null Count  Dtype  \n",
      "---  ------           --------------  -----  \n",
      " 0   Name             16713 non-null  object \n",
      " 1   Platform         16715 non-null  object \n",
      " 2   Year_of_Release  16446 non-null  float64\n",
      " 3   Genre            16713 non-null  object \n",
      " 4   NA_sales         16715 non-null  float64\n",
      " 5   EU_sales         16715 non-null  float64\n",
      " 6   JP_sales         16715 non-null  float64\n",
      " 7   Other_sales      16715 non-null  float64\n",
      " 8   Critic_Score     8137 non-null   float64\n",
      " 9   User_Score       10014 non-null  object \n",
      " 10  Rating           9949 non-null   object \n",
      "dtypes: float64(6), object(5)\n",
      "memory usage: 1.4+ MB\n"
     ]
    }
   ],
   "source": [
    "games_df.info()"
   ]
  },
  {
   "cell_type": "markdown",
   "metadata": {},
   "source": [
    "## Step 2. Prepare the data"
   ]
  },
  {
   "cell_type": "markdown",
   "metadata": {},
   "source": [
    "Replacing the column names (make them lowercase)."
   ]
  },
  {
   "cell_type": "code",
   "execution_count": 5,
   "metadata": {},
   "outputs": [
    {
     "data": {
      "text/html": [
       "<div>\n",
       "<style scoped>\n",
       "    .dataframe tbody tr th:only-of-type {\n",
       "        vertical-align: middle;\n",
       "    }\n",
       "\n",
       "    .dataframe tbody tr th {\n",
       "        vertical-align: top;\n",
       "    }\n",
       "\n",
       "    .dataframe thead th {\n",
       "        text-align: right;\n",
       "    }\n",
       "</style>\n",
       "<table border=\"1\" class=\"dataframe\">\n",
       "  <thead>\n",
       "    <tr style=\"text-align: right;\">\n",
       "      <th></th>\n",
       "      <th>Name</th>\n",
       "      <th>Platform</th>\n",
       "      <th>Year_of_Release</th>\n",
       "      <th>Genre</th>\n",
       "      <th>NA_sales</th>\n",
       "      <th>EU_sales</th>\n",
       "      <th>JP_sales</th>\n",
       "      <th>Other_sales</th>\n",
       "      <th>Critic_Score</th>\n",
       "      <th>User_Score</th>\n",
       "      <th>Rating</th>\n",
       "    </tr>\n",
       "  </thead>\n",
       "  <tbody>\n",
       "    <tr>\n",
       "      <th>0</th>\n",
       "      <td>wii sports</td>\n",
       "      <td>Wii</td>\n",
       "      <td>2006.0</td>\n",
       "      <td>Sports</td>\n",
       "      <td>41.36</td>\n",
       "      <td>28.96</td>\n",
       "      <td>3.77</td>\n",
       "      <td>8.45</td>\n",
       "      <td>76.0</td>\n",
       "      <td>8</td>\n",
       "      <td>E</td>\n",
       "    </tr>\n",
       "    <tr>\n",
       "      <th>1</th>\n",
       "      <td>super mario bros.</td>\n",
       "      <td>NES</td>\n",
       "      <td>1985.0</td>\n",
       "      <td>Platform</td>\n",
       "      <td>29.08</td>\n",
       "      <td>3.58</td>\n",
       "      <td>6.81</td>\n",
       "      <td>0.77</td>\n",
       "      <td>NaN</td>\n",
       "      <td>NaN</td>\n",
       "      <td>NaN</td>\n",
       "    </tr>\n",
       "    <tr>\n",
       "      <th>2</th>\n",
       "      <td>mario kart wii</td>\n",
       "      <td>Wii</td>\n",
       "      <td>2008.0</td>\n",
       "      <td>Racing</td>\n",
       "      <td>15.68</td>\n",
       "      <td>12.76</td>\n",
       "      <td>3.79</td>\n",
       "      <td>3.29</td>\n",
       "      <td>82.0</td>\n",
       "      <td>8.3</td>\n",
       "      <td>E</td>\n",
       "    </tr>\n",
       "    <tr>\n",
       "      <th>3</th>\n",
       "      <td>wii sports resort</td>\n",
       "      <td>Wii</td>\n",
       "      <td>2009.0</td>\n",
       "      <td>Sports</td>\n",
       "      <td>15.61</td>\n",
       "      <td>10.93</td>\n",
       "      <td>3.28</td>\n",
       "      <td>2.95</td>\n",
       "      <td>80.0</td>\n",
       "      <td>8</td>\n",
       "      <td>E</td>\n",
       "    </tr>\n",
       "    <tr>\n",
       "      <th>4</th>\n",
       "      <td>pokemon red/pokemon blue</td>\n",
       "      <td>GB</td>\n",
       "      <td>1996.0</td>\n",
       "      <td>Role-Playing</td>\n",
       "      <td>11.27</td>\n",
       "      <td>8.89</td>\n",
       "      <td>10.22</td>\n",
       "      <td>1.00</td>\n",
       "      <td>NaN</td>\n",
       "      <td>NaN</td>\n",
       "      <td>NaN</td>\n",
       "    </tr>\n",
       "  </tbody>\n",
       "</table>\n",
       "</div>"
      ],
      "text/plain": [
       "                       Name Platform  Year_of_Release         Genre  NA_sales  \\\n",
       "0                wii sports      Wii           2006.0        Sports     41.36   \n",
       "1         super mario bros.      NES           1985.0      Platform     29.08   \n",
       "2            mario kart wii      Wii           2008.0        Racing     15.68   \n",
       "3         wii sports resort      Wii           2009.0        Sports     15.61   \n",
       "4  pokemon red/pokemon blue       GB           1996.0  Role-Playing     11.27   \n",
       "\n",
       "   EU_sales  JP_sales  Other_sales  Critic_Score User_Score Rating  \n",
       "0     28.96      3.77         8.45          76.0          8      E  \n",
       "1      3.58      6.81         0.77           NaN        NaN    NaN  \n",
       "2     12.76      3.79         3.29          82.0        8.3      E  \n",
       "3     10.93      3.28         2.95          80.0          8      E  \n",
       "4      8.89     10.22         1.00           NaN        NaN    NaN  "
      ]
     },
     "execution_count": 5,
     "metadata": {},
     "output_type": "execute_result"
    }
   ],
   "source": [
    "games_df['Name'] = games_df['Name'].str.lower()\n",
    "games_df.head()"
   ]
  },
  {
   "cell_type": "markdown",
   "metadata": {},
   "source": [
    "Checking for duplicates"
   ]
  },
  {
   "cell_type": "code",
   "execution_count": 6,
   "metadata": {},
   "outputs": [
    {
     "data": {
      "text/plain": [
       "0"
      ]
     },
     "execution_count": 6,
     "metadata": {},
     "output_type": "execute_result"
    }
   ],
   "source": [
    "games_df.duplicated().sum()"
   ]
  },
  {
   "cell_type": "markdown",
   "metadata": {},
   "source": [
    "Checking column content before datatype change"
   ]
  },
  {
   "cell_type": "code",
   "execution_count": 7,
   "metadata": {},
   "outputs": [
    {
     "name": "stdout",
     "output_type": "stream",
     "text": [
      "[2006. 1985. 2008. 2009. 1996. 1989. 1984. 2005. 1999. 2007. 2010. 2013.\n",
      " 2004. 1990. 1988. 2002. 2001. 2011. 1998. 2015. 2012. 2014. 1992. 1997.\n",
      " 1993. 1994. 1982. 2016. 2003. 1986. 2000.   nan 1995. 1991. 1981. 1987.\n",
      " 1980. 1983.]\n"
     ]
    },
    {
     "data": {
      "text/plain": [
       "array(['8', nan, '8.3', '8.5', '6.6', '8.4', '8.6', '7.7', '6.3', '7.4',\n",
       "       '8.2', '9', '7.9', '8.1', '8.7', '7.1', '3.4', '5.3', '4.8', '3.2',\n",
       "       '8.9', '6.4', '7.8', '7.5', '2.6', '7.2', '9.2', '7', '7.3', '4.3',\n",
       "       '7.6', '5.7', '5', '9.1', '6.5', 'tbd', '8.8', '6.9', '9.4', '6.8',\n",
       "       '6.1', '6.7', '5.4', '4', '4.9', '4.5', '9.3', '6.2', '4.2', '6',\n",
       "       '3.7', '4.1', '5.8', '5.6', '5.5', '4.4', '4.6', '5.9', '3.9',\n",
       "       '3.1', '2.9', '5.2', '3.3', '4.7', '5.1', '3.5', '2.5', '1.9', '3',\n",
       "       '2.7', '2.2', '2', '9.5', '2.1', '3.6', '2.8', '1.8', '3.8', '0',\n",
       "       '1.6', '9.6', '2.4', '1.7', '1.1', '0.3', '1.5', '0.7', '1.2',\n",
       "       '2.3', '0.5', '1.3', '0.2', '0.6', '1.4', '0.9', '1', '9.7'],\n",
       "      dtype=object)"
      ]
     },
     "execution_count": 7,
     "metadata": {},
     "output_type": "execute_result"
    }
   ],
   "source": [
    "print(games_df['Year_of_Release'].unique())\n",
    "games_df['User_Score'].unique()\n"
   ]
  },
  {
   "cell_type": "markdown",
   "metadata": {},
   "source": [
    "Converting the data to the required types: Year_of_Release to datetime as float is not needed and missing values will be filled with year where we can find games that their year is already known in our data, else we will fill missing value based on the year we can find in their name, lastly with a placeholder 0 as there is no way to recover the year of release without manually curating it. User_score to float as values contains float numbers. TBD values will be converted no Nan."
   ]
  },
  {
   "cell_type": "code",
   "execution_count": 8,
   "metadata": {},
   "outputs": [
    {
     "name": "stdout",
     "output_type": "stream",
     "text": [
      "<class 'pandas.core.frame.DataFrame'>\n",
      "Int64Index: 16713 entries, 0 to 16714\n",
      "Data columns (total 11 columns):\n",
      " #   Column           Non-Null Count  Dtype  \n",
      "---  ------           --------------  -----  \n",
      " 0   Name             16713 non-null  object \n",
      " 1   Platform         16713 non-null  object \n",
      " 2   Year_of_Release  16567 non-null  float64\n",
      " 3   Genre            16713 non-null  object \n",
      " 4   NA_sales         16713 non-null  float64\n",
      " 5   EU_sales         16713 non-null  float64\n",
      " 6   JP_sales         16713 non-null  float64\n",
      " 7   Other_sales      16713 non-null  float64\n",
      " 8   Critic_Score     8137 non-null   float64\n",
      " 9   User_Score       10014 non-null  object \n",
      " 10  Rating           9949 non-null   object \n",
      "dtypes: float64(6), object(5)\n",
      "memory usage: 1.5+ MB\n"
     ]
    }
   ],
   "source": [
    "#removing 2 rows where Name and Genre is Nan\n",
    "games_df=games_df[games_df['Name'].notna()]\n",
    "#Filling in missing Year_of_Release values when we already have the year of release for the same\n",
    "#game in our data.\n",
    "f = lambda x: x.fillna(x.mode().iat[0]) if x.notna().any() else x\n",
    "games_df['Year_of_Release']=games_df.groupby('Name')['Year_of_Release']\\\n",
    ".apply(f)\n",
    "games_df.info()"
   ]
  },
  {
   "cell_type": "code",
   "execution_count": 9,
   "metadata": {},
   "outputs": [
    {
     "data": {
      "text/html": [
       "<div>\n",
       "<style scoped>\n",
       "    .dataframe tbody tr th:only-of-type {\n",
       "        vertical-align: middle;\n",
       "    }\n",
       "\n",
       "    .dataframe tbody tr th {\n",
       "        vertical-align: top;\n",
       "    }\n",
       "\n",
       "    .dataframe thead th {\n",
       "        text-align: right;\n",
       "    }\n",
       "</style>\n",
       "<table border=\"1\" class=\"dataframe\">\n",
       "  <thead>\n",
       "    <tr style=\"text-align: right;\">\n",
       "      <th></th>\n",
       "      <th>Year_of_Release</th>\n",
       "      <th>NA_sales</th>\n",
       "      <th>EU_sales</th>\n",
       "      <th>JP_sales</th>\n",
       "      <th>Other_sales</th>\n",
       "      <th>Critic_Score</th>\n",
       "    </tr>\n",
       "  </thead>\n",
       "  <tbody>\n",
       "    <tr>\n",
       "      <th>count</th>\n",
       "      <td>16713.000000</td>\n",
       "      <td>16713.000000</td>\n",
       "      <td>16713.000000</td>\n",
       "      <td>16713.000000</td>\n",
       "      <td>16713.000000</td>\n",
       "      <td>8137.000000</td>\n",
       "    </tr>\n",
       "    <tr>\n",
       "      <th>mean</th>\n",
       "      <td>1989.802369</td>\n",
       "      <td>0.263302</td>\n",
       "      <td>0.145045</td>\n",
       "      <td>0.077625</td>\n",
       "      <td>0.047343</td>\n",
       "      <td>68.967679</td>\n",
       "    </tr>\n",
       "    <tr>\n",
       "      <th>std</th>\n",
       "      <td>182.322139</td>\n",
       "      <td>0.813565</td>\n",
       "      <td>0.503359</td>\n",
       "      <td>0.308871</td>\n",
       "      <td>0.186742</td>\n",
       "      <td>13.938165</td>\n",
       "    </tr>\n",
       "    <tr>\n",
       "      <th>min</th>\n",
       "      <td>0.000000</td>\n",
       "      <td>0.000000</td>\n",
       "      <td>0.000000</td>\n",
       "      <td>0.000000</td>\n",
       "      <td>0.000000</td>\n",
       "      <td>13.000000</td>\n",
       "    </tr>\n",
       "    <tr>\n",
       "      <th>25%</th>\n",
       "      <td>2003.000000</td>\n",
       "      <td>0.000000</td>\n",
       "      <td>0.000000</td>\n",
       "      <td>0.000000</td>\n",
       "      <td>0.000000</td>\n",
       "      <td>60.000000</td>\n",
       "    </tr>\n",
       "    <tr>\n",
       "      <th>50%</th>\n",
       "      <td>2007.000000</td>\n",
       "      <td>0.080000</td>\n",
       "      <td>0.020000</td>\n",
       "      <td>0.000000</td>\n",
       "      <td>0.010000</td>\n",
       "      <td>71.000000</td>\n",
       "    </tr>\n",
       "    <tr>\n",
       "      <th>75%</th>\n",
       "      <td>2010.000000</td>\n",
       "      <td>0.240000</td>\n",
       "      <td>0.110000</td>\n",
       "      <td>0.040000</td>\n",
       "      <td>0.030000</td>\n",
       "      <td>79.000000</td>\n",
       "    </tr>\n",
       "    <tr>\n",
       "      <th>max</th>\n",
       "      <td>2016.000000</td>\n",
       "      <td>41.360000</td>\n",
       "      <td>28.960000</td>\n",
       "      <td>10.220000</td>\n",
       "      <td>10.570000</td>\n",
       "      <td>98.000000</td>\n",
       "    </tr>\n",
       "  </tbody>\n",
       "</table>\n",
       "</div>"
      ],
      "text/plain": [
       "       Year_of_Release      NA_sales      EU_sales      JP_sales  \\\n",
       "count     16713.000000  16713.000000  16713.000000  16713.000000   \n",
       "mean       1989.802369      0.263302      0.145045      0.077625   \n",
       "std         182.322139      0.813565      0.503359      0.308871   \n",
       "min           0.000000      0.000000      0.000000      0.000000   \n",
       "25%        2003.000000      0.000000      0.000000      0.000000   \n",
       "50%        2007.000000      0.080000      0.020000      0.000000   \n",
       "75%        2010.000000      0.240000      0.110000      0.040000   \n",
       "max        2016.000000     41.360000     28.960000     10.220000   \n",
       "\n",
       "        Other_sales  Critic_Score  \n",
       "count  16713.000000   8137.000000  \n",
       "mean       0.047343     68.967679  \n",
       "std        0.186742     13.938165  \n",
       "min        0.000000     13.000000  \n",
       "25%        0.000000     60.000000  \n",
       "50%        0.010000     71.000000  \n",
       "75%        0.030000     79.000000  \n",
       "max       10.570000     98.000000  "
      ]
     },
     "execution_count": 9,
     "metadata": {},
     "output_type": "execute_result"
    }
   ],
   "source": [
    "#removing parentheses as parse cannot access the value within it.\n",
    "games_df['Name']=games_df['Name'].replace(to_replace=['\\(','\\)'] , value=\"\", regex=True)\n",
    "\n",
    "#function that return the year if it's on the name, and 0 if there is not.\n",
    "def parsel(x, y):\n",
    "    if pd.isna(y)==True:\n",
    "        if '200' in x:\n",
    "            try:\n",
    "                parse1=parse(x, fuzzy=True, yearfirst=False).year\n",
    "                return parse1\n",
    "            except:\n",
    "                pass\n",
    "        elif '201' in x:\n",
    "            try:\n",
    "                parse1=parse(x, fuzzy=True, yearfirst=False).year\n",
    "                return parse1\n",
    "            except:\n",
    "                pass\n",
    "        else:\n",
    "            return 0\n",
    "    else:\n",
    "        return y\n",
    "\n",
    "#filling Year_of_Release with the function\n",
    "games_df['Year_of_Release']=[parsel(x, y) for x, y in zip(games_df['Name'], games_df['Year_of_Release'])]\n",
    "#changing Year_of_Release to int\n",
    "games_df['Year_of_Release']=games_df['Year_of_Release'].astype(int)\n",
    "games_df.describe()"
   ]
  },
  {
   "cell_type": "code",
   "execution_count": 10,
   "metadata": {},
   "outputs": [
    {
     "data": {
      "text/html": [
       "<div>\n",
       "<style scoped>\n",
       "    .dataframe tbody tr th:only-of-type {\n",
       "        vertical-align: middle;\n",
       "    }\n",
       "\n",
       "    .dataframe tbody tr th {\n",
       "        vertical-align: top;\n",
       "    }\n",
       "\n",
       "    .dataframe thead th {\n",
       "        text-align: right;\n",
       "    }\n",
       "</style>\n",
       "<table border=\"1\" class=\"dataframe\">\n",
       "  <thead>\n",
       "    <tr style=\"text-align: right;\">\n",
       "      <th></th>\n",
       "      <th>Name</th>\n",
       "      <th>Platform</th>\n",
       "      <th>Genre</th>\n",
       "      <th>User_Score</th>\n",
       "      <th>Rating</th>\n",
       "    </tr>\n",
       "  </thead>\n",
       "  <tbody>\n",
       "    <tr>\n",
       "      <th>count</th>\n",
       "      <td>16713</td>\n",
       "      <td>16713</td>\n",
       "      <td>16713</td>\n",
       "      <td>10014</td>\n",
       "      <td>9949</td>\n",
       "    </tr>\n",
       "    <tr>\n",
       "      <th>unique</th>\n",
       "      <td>11559</td>\n",
       "      <td>31</td>\n",
       "      <td>12</td>\n",
       "      <td>96</td>\n",
       "      <td>8</td>\n",
       "    </tr>\n",
       "    <tr>\n",
       "      <th>top</th>\n",
       "      <td>need for speed: most wanted</td>\n",
       "      <td>PS2</td>\n",
       "      <td>Action</td>\n",
       "      <td>tbd</td>\n",
       "      <td>E</td>\n",
       "    </tr>\n",
       "    <tr>\n",
       "      <th>freq</th>\n",
       "      <td>12</td>\n",
       "      <td>2161</td>\n",
       "      <td>3369</td>\n",
       "      <td>2424</td>\n",
       "      <td>3990</td>\n",
       "    </tr>\n",
       "  </tbody>\n",
       "</table>\n",
       "</div>"
      ],
      "text/plain": [
       "                               Name Platform   Genre User_Score Rating\n",
       "count                         16713    16713   16713      10014   9949\n",
       "unique                        11559       31      12         96      8\n",
       "top     need for speed: most wanted      PS2  Action        tbd      E\n",
       "freq                             12     2161    3369       2424   3990"
      ]
     },
     "execution_count": 10,
     "metadata": {},
     "output_type": "execute_result"
    }
   ],
   "source": [
    "games_df.describe(include='object')"
   ]
  },
  {
   "cell_type": "code",
   "execution_count": 11,
   "metadata": {},
   "outputs": [
    {
     "data": {
      "text/plain": [
       "Name                  0\n",
       "Platform              0\n",
       "Year_of_Release       0\n",
       "Genre                 0\n",
       "NA_sales              0\n",
       "EU_sales              0\n",
       "JP_sales              0\n",
       "Other_sales           0\n",
       "Critic_Score       8576\n",
       "User_Score         6699\n",
       "Rating             6764\n",
       "dtype: int64"
      ]
     },
     "execution_count": 11,
     "metadata": {},
     "output_type": "execute_result"
    }
   ],
   "source": [
    "games_df.isna().sum()"
   ]
  },
  {
   "cell_type": "markdown",
   "metadata": {},
   "source": [
    "Checking if user score TBD need fixing."
   ]
  },
  {
   "cell_type": "code",
   "execution_count": 12,
   "metadata": {},
   "outputs": [
    {
     "name": "stdout",
     "output_type": "stream",
     "text": [
      "2009    405\n",
      "2010    333\n",
      "2008    330\n",
      "2011    218\n",
      "2007    193\n",
      "2002    193\n",
      "2006    127\n",
      "2005    122\n",
      "2004    107\n",
      "2003     97\n",
      "2001     84\n",
      "2000     43\n",
      "2015     38\n",
      "2016     34\n",
      "0        29\n",
      "2012     26\n",
      "2014     21\n",
      "2013     15\n",
      "1999      8\n",
      "1997      1\n",
      "Name: Year_of_Release, dtype: int64\n"
     ]
    }
   ],
   "source": [
    "print(games_df[games_df.User_Score=='tbd']['Year_of_Release'].value_counts())\n",
    "#we can see the user score is not updated, therefor replacing tbd to nan\n",
    "games_df['User_Score']=games_df['User_Score'].replace('tbd', np.nan).astype(float, errors='ignore')"
   ]
  },
  {
   "cell_type": "markdown",
   "metadata": {},
   "source": [
    "Calculate the total sales (the sum of sales in all regions) and storing it in 'total sale' column"
   ]
  },
  {
   "cell_type": "code",
   "execution_count": 13,
   "metadata": {},
   "outputs": [],
   "source": [
    "games_df['total_sale'] = games_df['NA_sales']+ games_df['EU_sales'] + games_df['JP_sales'] + games_df['Other_sales']"
   ]
  },
  {
   "cell_type": "markdown",
   "metadata": {},
   "source": [
    "## Step 3. Analyze the data"
   ]
  },
  {
   "cell_type": "markdown",
   "metadata": {},
   "source": [
    "Checking how many games were released in different years."
   ]
  },
  {
   "cell_type": "code",
   "execution_count": 14,
   "metadata": {},
   "outputs": [
    {
     "name": "stdout",
     "output_type": "stream",
     "text": [
      "447.94594594594594\n"
     ]
    },
    {
     "data": {
      "text/html": [
       "<div>\n",
       "<style scoped>\n",
       "    .dataframe tbody tr th:only-of-type {\n",
       "        vertical-align: middle;\n",
       "    }\n",
       "\n",
       "    .dataframe tbody tr th {\n",
       "        vertical-align: top;\n",
       "    }\n",
       "\n",
       "    .dataframe thead th {\n",
       "        text-align: right;\n",
       "    }\n",
       "</style>\n",
       "<table border=\"1\" class=\"dataframe\">\n",
       "  <thead>\n",
       "    <tr style=\"text-align: right;\">\n",
       "      <th></th>\n",
       "      <th>Year_of_Release</th>\n",
       "      <th>Name</th>\n",
       "    </tr>\n",
       "  </thead>\n",
       "  <tbody>\n",
       "    <tr>\n",
       "      <th>1</th>\n",
       "      <td>1980</td>\n",
       "      <td>9</td>\n",
       "    </tr>\n",
       "    <tr>\n",
       "      <th>2</th>\n",
       "      <td>1981</td>\n",
       "      <td>46</td>\n",
       "    </tr>\n",
       "    <tr>\n",
       "      <th>3</th>\n",
       "      <td>1982</td>\n",
       "      <td>36</td>\n",
       "    </tr>\n",
       "    <tr>\n",
       "      <th>4</th>\n",
       "      <td>1983</td>\n",
       "      <td>17</td>\n",
       "    </tr>\n",
       "    <tr>\n",
       "      <th>5</th>\n",
       "      <td>1984</td>\n",
       "      <td>14</td>\n",
       "    </tr>\n",
       "    <tr>\n",
       "      <th>6</th>\n",
       "      <td>1985</td>\n",
       "      <td>14</td>\n",
       "    </tr>\n",
       "    <tr>\n",
       "      <th>7</th>\n",
       "      <td>1986</td>\n",
       "      <td>21</td>\n",
       "    </tr>\n",
       "    <tr>\n",
       "      <th>8</th>\n",
       "      <td>1987</td>\n",
       "      <td>16</td>\n",
       "    </tr>\n",
       "    <tr>\n",
       "      <th>9</th>\n",
       "      <td>1988</td>\n",
       "      <td>15</td>\n",
       "    </tr>\n",
       "    <tr>\n",
       "      <th>10</th>\n",
       "      <td>1989</td>\n",
       "      <td>17</td>\n",
       "    </tr>\n",
       "    <tr>\n",
       "      <th>11</th>\n",
       "      <td>1990</td>\n",
       "      <td>16</td>\n",
       "    </tr>\n",
       "    <tr>\n",
       "      <th>12</th>\n",
       "      <td>1991</td>\n",
       "      <td>41</td>\n",
       "    </tr>\n",
       "    <tr>\n",
       "      <th>13</th>\n",
       "      <td>1992</td>\n",
       "      <td>43</td>\n",
       "    </tr>\n",
       "    <tr>\n",
       "      <th>14</th>\n",
       "      <td>1993</td>\n",
       "      <td>60</td>\n",
       "    </tr>\n",
       "    <tr>\n",
       "      <th>15</th>\n",
       "      <td>1994</td>\n",
       "      <td>122</td>\n",
       "    </tr>\n",
       "    <tr>\n",
       "      <th>16</th>\n",
       "      <td>1995</td>\n",
       "      <td>219</td>\n",
       "    </tr>\n",
       "    <tr>\n",
       "      <th>17</th>\n",
       "      <td>1996</td>\n",
       "      <td>263</td>\n",
       "    </tr>\n",
       "    <tr>\n",
       "      <th>18</th>\n",
       "      <td>1997</td>\n",
       "      <td>289</td>\n",
       "    </tr>\n",
       "    <tr>\n",
       "      <th>19</th>\n",
       "      <td>1998</td>\n",
       "      <td>379</td>\n",
       "    </tr>\n",
       "    <tr>\n",
       "      <th>20</th>\n",
       "      <td>1999</td>\n",
       "      <td>339</td>\n",
       "    </tr>\n",
       "    <tr>\n",
       "      <th>21</th>\n",
       "      <td>2000</td>\n",
       "      <td>351</td>\n",
       "    </tr>\n",
       "    <tr>\n",
       "      <th>22</th>\n",
       "      <td>2001</td>\n",
       "      <td>486</td>\n",
       "    </tr>\n",
       "    <tr>\n",
       "      <th>23</th>\n",
       "      <td>2002</td>\n",
       "      <td>845</td>\n",
       "    </tr>\n",
       "    <tr>\n",
       "      <th>24</th>\n",
       "      <td>2003</td>\n",
       "      <td>784</td>\n",
       "    </tr>\n",
       "    <tr>\n",
       "      <th>25</th>\n",
       "      <td>2004</td>\n",
       "      <td>764</td>\n",
       "    </tr>\n",
       "    <tr>\n",
       "      <th>26</th>\n",
       "      <td>2005</td>\n",
       "      <td>950</td>\n",
       "    </tr>\n",
       "    <tr>\n",
       "      <th>27</th>\n",
       "      <td>2006</td>\n",
       "      <td>1021</td>\n",
       "    </tr>\n",
       "    <tr>\n",
       "      <th>28</th>\n",
       "      <td>2007</td>\n",
       "      <td>1203</td>\n",
       "    </tr>\n",
       "    <tr>\n",
       "      <th>29</th>\n",
       "      <td>2008</td>\n",
       "      <td>1441</td>\n",
       "    </tr>\n",
       "    <tr>\n",
       "      <th>30</th>\n",
       "      <td>2009</td>\n",
       "      <td>1430</td>\n",
       "    </tr>\n",
       "    <tr>\n",
       "      <th>31</th>\n",
       "      <td>2010</td>\n",
       "      <td>1270</td>\n",
       "    </tr>\n",
       "    <tr>\n",
       "      <th>32</th>\n",
       "      <td>2011</td>\n",
       "      <td>1154</td>\n",
       "    </tr>\n",
       "    <tr>\n",
       "      <th>33</th>\n",
       "      <td>2012</td>\n",
       "      <td>662</td>\n",
       "    </tr>\n",
       "    <tr>\n",
       "      <th>34</th>\n",
       "      <td>2013</td>\n",
       "      <td>548</td>\n",
       "    </tr>\n",
       "    <tr>\n",
       "      <th>35</th>\n",
       "      <td>2014</td>\n",
       "      <td>581</td>\n",
       "    </tr>\n",
       "    <tr>\n",
       "      <th>36</th>\n",
       "      <td>2015</td>\n",
       "      <td>606</td>\n",
       "    </tr>\n",
       "    <tr>\n",
       "      <th>37</th>\n",
       "      <td>2016</td>\n",
       "      <td>502</td>\n",
       "    </tr>\n",
       "  </tbody>\n",
       "</table>\n",
       "</div>"
      ],
      "text/plain": [
       "    Year_of_Release  Name\n",
       "1              1980     9\n",
       "2              1981    46\n",
       "3              1982    36\n",
       "4              1983    17\n",
       "5              1984    14\n",
       "6              1985    14\n",
       "7              1986    21\n",
       "8              1987    16\n",
       "9              1988    15\n",
       "10             1989    17\n",
       "11             1990    16\n",
       "12             1991    41\n",
       "13             1992    43\n",
       "14             1993    60\n",
       "15             1994   122\n",
       "16             1995   219\n",
       "17             1996   263\n",
       "18             1997   289\n",
       "19             1998   379\n",
       "20             1999   339\n",
       "21             2000   351\n",
       "22             2001   486\n",
       "23             2002   845\n",
       "24             2003   784\n",
       "25             2004   764\n",
       "26             2005   950\n",
       "27             2006  1021\n",
       "28             2007  1203\n",
       "29             2008  1441\n",
       "30             2009  1430\n",
       "31             2010  1270\n",
       "32             2011  1154\n",
       "33             2012   662\n",
       "34             2013   548\n",
       "35             2014   581\n",
       "36             2015   606\n",
       "37             2016   502"
      ]
     },
     "execution_count": 14,
     "metadata": {},
     "output_type": "execute_result"
    }
   ],
   "source": [
    "clean_df=games_df.groupby('Year_of_Release')['Name'].count().reset_index()\n",
    "clean_df=clean_df[clean_df['Year_of_Release']!=0]\n",
    "print(clean_df.Name.mean())\n",
    "clean_df"
   ]
  },
  {
   "cell_type": "code",
   "execution_count": 15,
   "metadata": {
    "scrolled": true
   },
   "outputs": [
    {
     "data": {
      "image/png": "[encoded data removed]",
      "text/plain": [
       "<Figure size 1224x720 with 1 Axes>"
      ]
     },
     "metadata": {
      "needs_background": "light"
     },
     "output_type": "display_data"
    }
   ],
   "source": [
    "fig,ax=plt.subplots(figsize=(17,10))\n",
    "ax.vlines(x=clean_df.Year_of_Release, ymin=0, ymax=clean_df.Name, color='purple', alpha=0.7, linewidth=2)\n",
    "ax.scatter(x=clean_df.Year_of_Release, y=clean_df.Name, s=75, color='black', alpha=0.7)\n",
    "\n",
    "ax.set_title('Lollypop for released games', fontdict={'size':15})\n",
    "ax.set_ylabel('Number of games')\n",
    "ax.set_xticks(clean_df.Year_of_Release)\n",
    "ax.set_xticklabels(clean_df.Year_of_Release, rotation=90)\n",
    "ax.axhline(y=clean_df.Name.mean())\n",
    "\n",
    "for row in clean_df.itertuples():\n",
    "    ax.text(row.Year_of_Release, row.Name+30, s=round(row.Name))"
   ]
  },
  {
   "cell_type": "markdown",
   "metadata": {},
   "source": [
    "We can see that on avergae the most of games were released form 2001"
   ]
  },
  {
   "cell_type": "markdown",
   "metadata": {},
   "source": [
    "Looking at how sales varied from platform to platform. Choosing the platforms with the greatest total sales and building a distribution based on data for each year. "
   ]
  },
  {
   "cell_type": "code",
   "execution_count": 16,
   "metadata": {},
   "outputs": [
    {
     "data": {
      "text/plain": [
       "16     PS2\n",
       "28    X360\n",
       "17     PS3\n",
       "26     Wii\n",
       "4       DS\n",
       "Name: Platform, dtype: object"
      ]
     },
     "execution_count": 16,
     "metadata": {},
     "output_type": "execute_result"
    }
   ],
   "source": [
    "top_platforms=games_df.groupby('Platform')['total_sale'].sum().reset_index()\\\n",
    ".sort_values('total_sale', ascending=False).head()['Platform']\n",
    "top_platforms"
   ]
  },
  {
   "cell_type": "code",
   "execution_count": 17,
   "metadata": {
    "scrolled": false
   },
   "outputs": [
    {
     "data": {
      "image/png": "[encoded data removed]",
      "text/plain": [
       "<Figure size 720x360 with 1 Axes>"
      ]
     },
     "metadata": {
      "needs_background": "light"
     },
     "output_type": "display_data"
    },
    {
     "data": {
      "image/png": "[encoded data removed]",
      "text/plain": [
       "<Figure size 720x360 with 1 Axes>"
      ]
     },
     "metadata": {
      "needs_background": "light"
     },
     "output_type": "display_data"
    },
    {
     "data": {
      "image/png": "[encoded data removed]",
      "text/plain": [
       "<Figure size 720x360 with 1 Axes>"
      ]
     },
     "metadata": {
      "needs_background": "light"
     },
     "output_type": "display_data"
    },
    {
     "data": {
      "image/png": "[encoded data removed]",
      "text/plain": [
       "<Figure size 720x360 with 1 Axes>"
      ]
     },
     "metadata": {
      "needs_background": "light"
     },
     "output_type": "display_data"
    },
    {
     "data": {
      "image/png": "[encoded data removed]",
      "text/plain": [
       "<Figure size 720x360 with 1 Axes>"
      ]
     },
     "metadata": {
      "needs_background": "light"
     },
     "output_type": "display_data"
    }
   ],
   "source": [
    "#filtering the top platforms from the games_df\n",
    "top_platforms_df=games_df.query('Platform in @top_platforms')\n",
    "#creating a pivot table of the top platforms \n",
    "top_platforms_sales=top_platforms_df.pivot_table(values='total_sale', index='Year_of_Release', columns='Platform', aggfunc='sum')\n",
    "#droping year 0 from the table as it won't effect the data.\n",
    "top_platforms_sales.drop(top_platforms_sales[top_platforms_sales.index==0].index, inplace=True)\n",
    "#printing the graphs\n",
    "for i in top_platforms_sales:\n",
    "    plt.figure()\n",
    "    top_platforms_sales[i].plot.bar(figsize=(10, 5))\n",
    "    plt.title(i)\n",
    "    plt.ylabel('Sales in Millions')\n",
    "    plt.xlabel('Years')\n",
    "    plt.show()"
   ]
  },
  {
   "cell_type": "markdown",
   "metadata": {},
   "source": [
    "We can see that for the 5 most popular platforms, it took about 10 to 11 years for the sales to fade after inception. Per the graphs we can see that the sales peak 4-5 years afetr inception, and sales start to decrease after that. \n",
    "\n",
    "Next I going to check which platforms are leading in sales and which ones are growing or shrinking. Selecting several potentially profitable platforms, from 2001 to 2016"
   ]
  },
  {
   "cell_type": "code",
   "execution_count": 18,
   "metadata": {
    "scrolled": false
   },
   "outputs": [
    {
     "data": {
      "image/png": "[encoded data removed]",
      "text/plain": [
       "<Figure size 1080x720 with 1 Axes>"
      ]
     },
     "metadata": {
      "needs_background": "light"
     },
     "output_type": "display_data"
    }
   ],
   "source": [
    "#new df for years over 2000\n",
    "platform=games_df[games_df.Year_of_Release >= 2001]\n",
    "#creating another pivot\n",
    "platform1=platform.pivot_table(values='total_sale', index='Year_of_Release', columns='Platform', aggfunc='sum')\n",
    "#printing the graph\n",
    "platform1.plot(figsize=(15, 10))\n",
    "plt.ylabel('Sales in Millions')\n",
    "plt.xlabel('Years')\n",
    "plt.show()"
   ]
  },
  {
   "cell_type": "markdown",
   "metadata": {},
   "source": [
    "We can see that there are more then handfull of platforms that their sales are shrinking and their sales are below 50 millions. PS4 has the highest total sales above 50 million, but still lower by 50% from last year(2015), but as the data for 2016 is incomplete we can't deduct that their sales are shrinking. Same goes for XOne which was released in 2013 and had a strong 2015."
   ]
  },
  {
   "cell_type": "markdown",
   "metadata": {},
   "source": [
    "Building a box plot for the global sales of all games, broken down by platform. Checking if the differences in sales significant, and what are the average sales on various platforms. "
   ]
  },
  {
   "cell_type": "code",
   "execution_count": 19,
   "metadata": {},
   "outputs": [
    {
     "data": {
      "image/png": "[encoded data removed]",
      "text/plain": [
       "<Figure size 936x720 with 1 Axes>"
      ]
     },
     "metadata": {
      "needs_background": "light"
     },
     "output_type": "display_data"
    }
   ],
   "source": [
    "#creating a pivot df breakdown by platform and games\n",
    "platform_breakdown=platform.pivot_table(index='Name', columns='Platform', values='total_sale', aggfunc='sum')\n",
    "#setting the plot figsize\n",
    "plt.figure(figsize=(13,10))\n",
    "#printing the boxplots for each platform\n",
    "sns.boxplot(data=platform_breakdown, showfliers=False).set(title='Global sales of all games', ylabel='Total Sales in Millions')\n",
    "\n",
    "plt.show()"
   ]
  },
  {
   "cell_type": "markdown",
   "metadata": {},
   "source": [
    "We can see from the boxplots that the average sales for the top platforms do no differ greatly. We see that GB has big verience and higher mean due to large outliers."
   ]
  },
  {
   "cell_type": "markdown",
   "metadata": {},
   "source": [
    "Taking a look at how user and professional reviews affect sales for one popular platform. Building a scatter plot and calculating the correlation between reviews and sales, and comparing the sales of the same games on other platforms."
   ]
  },
  {
   "cell_type": "code",
   "execution_count": 20,
   "metadata": {},
   "outputs": [
    {
     "name": "stdout",
     "output_type": "stream",
     "text": [
      "There isn't a strong correlation between critic score and total sales for: PS2\n",
      "The correlation is: 0.39543454945455137\n"
     ]
    },
    {
     "data": {
      "text/plain": [
       "<Figure size 360x360 with 0 Axes>"
      ]
     },
     "metadata": {},
     "output_type": "display_data"
    },
    {
     "data": {
      "image/png": "[encoded data removed]",
      "text/plain": [
       "<Figure size 432x288 with 1 Axes>"
      ]
     },
     "metadata": {
      "needs_background": "light"
     },
     "output_type": "display_data"
    },
    {
     "name": "stdout",
     "output_type": "stream",
     "text": [
      "There isn't a strong correlation between critic score and total sales for: X360\n",
      "The correlation is: 0.3937358653072582\n"
     ]
    },
    {
     "data": {
      "image/png": "[encoded data removed]",
      "text/plain": [
       "<Figure size 432x288 with 1 Axes>"
      ]
     },
     "metadata": {
      "needs_background": "light"
     },
     "output_type": "display_data"
    },
    {
     "name": "stdout",
     "output_type": "stream",
     "text": [
      "There isn't a strong correlation between critic score and total sales for: PS3\n",
      "The correlation is: 0.4324315685642066\n"
     ]
    },
    {
     "data": {
      "image/png": "[encoded data removed]",
      "text/plain": [
       "<Figure size 432x288 with 1 Axes>"
      ]
     },
     "metadata": {
      "needs_background": "light"
     },
     "output_type": "display_data"
    },
    {
     "name": "stdout",
     "output_type": "stream",
     "text": [
      "There isn't a strong correlation between critic score and total sales for: Wii\n",
      "The correlation is: 0.17755988806089978\n"
     ]
    },
    {
     "data": {
      "image/png": "[encoded data removed]",
      "text/plain": [
       "<Figure size 432x288 with 1 Axes>"
      ]
     },
     "metadata": {
      "needs_background": "light"
     },
     "output_type": "display_data"
    },
    {
     "name": "stdout",
     "output_type": "stream",
     "text": [
      "There isn't a strong correlation between critic score and total sales for: DS\n",
      "The correlation is: 0.23637945738859611\n"
     ]
    },
    {
     "data": {
      "image/png": "[encoded data removed]",
      "text/plain": [
       "<Figure size 432x288 with 1 Axes>"
      ]
     },
     "metadata": {
      "needs_background": "light"
     },
     "output_type": "display_data"
    }
   ],
   "source": [
    "plt.figure(figsize=(5,5))\n",
    "def score_effect(platform):\n",
    "    for i in platform:\n",
    "        platform_df=games_df[(games_df.Platform==i) & (games_df.Critic_Score.notna())][['Critic_Score', 'total_sale']]\n",
    "        platform_df.plot.scatter(x='total_sale', y='Critic_Score')\n",
    "        correlation=platform_df.corr()\n",
    "        if correlation.iloc[0][1] > 0.7:\n",
    "            print('There is a strong correlation between critic score and total sales for:', i)\n",
    "        else:\n",
    "            print(\"There isn't a strong correlation between critic score and total sales for:\", i)\n",
    "            print(\"The correlation is:\", correlation.iloc[0][1])\n",
    "        plt.show()\n",
    "    \n",
    "score_effect(top_platforms)\n"
   ]
  },
  {
   "cell_type": "markdown",
   "metadata": {},
   "source": [
    "We can see that proffesional reviews have no great effect on total sales. There is a visible effect where higher scored games above 75 have in average more total sales then lower scored games."
   ]
  },
  {
   "cell_type": "markdown",
   "metadata": {},
   "source": [
    "A nice visualization on total sale of games that were released on multiple platforms."
   ]
  },
  {
   "cell_type": "code",
   "execution_count": 21,
   "metadata": {},
   "outputs": [
    {
     "data": {
      "image/png": "[encoded data removed]",
      "text/plain": [
       "<Figure size 936x720 with 1 Axes>"
      ]
     },
     "metadata": {
      "needs_background": "light"
     },
     "output_type": "display_data"
    }
   ],
   "source": [
    "#creating a pivot table to show games and their platforms\n",
    "same_games=games_df.pivot_table(index=['Platform', 'Name'], values='total_sale', aggfunc='sum')\n",
    "#filtering the pivot to show a df with games that were released in more then 8 platforms\n",
    "same_games=same_games.groupby('Name').filter(lambda x: len(x) > 8)\n",
    "same_games.unstack().plot(kind='bar', stacked=True, figsize=(13,10))\n",
    "plt.legend(title = 'Game name')\n",
    "plt.show()"
   ]
  },
  {
   "cell_type": "code",
   "execution_count": 22,
   "metadata": {},
   "outputs": [
    {
     "data": {
      "image/png": "[encoded data removed]",
      "text/plain": [
       "<Figure size 432x288 with 1 Axes>"
      ]
     },
     "metadata": {
      "needs_background": "light"
     },
     "output_type": "display_data"
    },
    {
     "data": {
      "image/png": "[encoded data removed]",
      "text/plain": [
       "<Figure size 936x720 with 1 Axes>"
      ]
     },
     "metadata": {
      "needs_background": "light"
     },
     "output_type": "display_data"
    }
   ],
   "source": [
    "games_df.groupby('Genre')['total_sale'].sum().reset_index()\\\n",
    ".sort_values('total_sale', ascending=False).plot.bar(x='Genre')\n",
    "\n",
    "genre_pivot=games_df.pivot_table(index='Name', columns='Genre', values='total_sale', aggfunc='sum')\n",
    "plt.figure(figsize=(13,10))\n",
    "sns.boxplot(data=genre_pivot, showfliers=False).set(title='Global sales by genre', ylabel='Total Sales in Millions')\n",
    "\n",
    "plt.show()"
   ]
  },
  {
   "cell_type": "markdown",
   "metadata": {},
   "source": [
    "We can see that Action games have higher total sales the all other genres by a big marign. We can also see that the highest total sales genres are games where there's no much thinking involve. In contrast with the lowest grossing genres like Strategy, Adventure and Puzzle where deeper thinking is needed. We can also see that the mean total sale for the top 5 genres have no significant difference and are higher then the other lower grossing genres"
   ]
  },
  {
   "cell_type": "markdown",
   "metadata": {},
   "source": [
    "## Step 4. Create a user profile for each region"
   ]
  },
  {
   "cell_type": "markdown",
   "metadata": {},
   "source": [
    "Determining the top five platforms for each region. Describing variations in their market shares from region to region."
   ]
  },
  {
   "cell_type": "code",
   "execution_count": 23,
   "metadata": {},
   "outputs": [
    {
     "data": {
      "image/png": "[encoded data removed]",
      "text/plain": [
       "<Figure size 504x504 with 1 Axes>"
      ]
     },
     "metadata": {},
     "output_type": "display_data"
    }
   ],
   "source": [
    "#JP region\n",
    "sns.set(rc={'figure.figsize':(5,5)})\n",
    "jp_top_plat=games_df.groupby('Platform')['JP_sales'].sum().reset_index()\\\n",
    ".sort_values('JP_sales', ascending=False).head(5)\n",
    "#EU region\n",
    "eu_top_plat=games_df.groupby('Platform')['EU_sales'].sum().reset_index()\\\n",
    ".sort_values('EU_sales', ascending=False).head(5)\n",
    "#NA region\n",
    "na_top_plat=games_df.groupby('Platform')['NA_sales'].sum().reset_index()\\\n",
    ".sort_values('NA_sales', ascending=False).head(5)\n",
    "\n",
    "merged_top_plat=pd.merge(jp_top_plat, eu_top_plat, on='Platform', how='outer')\n",
    "merged_top_plat=pd.merge(merged_top_plat, na_top_plat, on='Platform', how='outer')\n",
    "merged_top_plat.plot.bar(x='Platform', figsize=(7,7))\n",
    "plt.show()"
   ]
  },
  {
   "cell_type": "markdown",
   "metadata": {},
   "source": [
    "We can see that the EU market share for top 5 platform is double of that of Japan, the North America market share is double that of Europe. We can also see that PS2 and x360 is most popular in NA."
   ]
  },
  {
   "cell_type": "markdown",
   "metadata": {},
   "source": [
    "Determining the top five geners for each region. Describing variations in their market shares from region to region."
   ]
  },
  {
   "cell_type": "code",
   "execution_count": 24,
   "metadata": {},
   "outputs": [
    {
     "data": {
      "image/png": "[encoded data removed]",
      "text/plain": [
       "<Figure size 504x504 with 1 Axes>"
      ]
     },
     "metadata": {},
     "output_type": "display_data"
    }
   ],
   "source": [
    "#JP region\n",
    "jp_top_gen=games_df.groupby('Genre')['JP_sales'].sum().reset_index()\\\n",
    ".sort_values('JP_sales', ascending=False).head(5)\n",
    "#EU region\n",
    "eu_top_gen=games_df.groupby('Genre')['EU_sales'].sum().reset_index()\\\n",
    ".sort_values('EU_sales', ascending=False).head(5)\n",
    "#NA region\n",
    "na_top_gen=games_df.groupby('Genre')['NA_sales'].sum().reset_index()\\\n",
    ".sort_values('NA_sales', ascending=False).head(5)\n",
    "\n",
    "merged_top_gen=pd.merge(jp_top_gen, eu_top_gen, on='Genre', how='outer')\n",
    "merged_top_gen=pd.merge(merged_top_gen, na_top_gen, on='Genre', how='outer')\n",
    "merged_top_gen.plot.bar(x='Genre', figsize=(7,7))\n",
    "plt.show()"
   ]
  },
  {
   "cell_type": "markdown",
   "metadata": {},
   "source": [
    "we can see that 3 genres are popular on the 3 regions: Shooter, Sports and Action. NA is leading the sales on all 3 genres, after EU and lastly JP. Role-Playing genre is only popular in JP and is top 1 genre there. Racing genre is only poplar in EU, where Platform genre is unpoplar in contrast to JP and NA."
   ]
  },
  {
   "cell_type": "code",
   "execution_count": 25,
   "metadata": {},
   "outputs": [
    {
     "data": {
      "image/png": "[encoded data removed]",
      "text/plain": [
       "<Figure size 504x504 with 1 Axes>"
      ]
     },
     "metadata": {},
     "output_type": "display_data"
    }
   ],
   "source": [
    "#Do ESRB ratings affect sales in individual regions?\n",
    "#JP region\n",
    "jp_esrb=games_df.groupby('Rating')['JP_sales'].sum().reset_index()\\\n",
    ".sort_values('JP_sales', ascending=False)\n",
    "#EU region\n",
    "eu_esrb=games_df.groupby('Rating')['EU_sales'].sum().reset_index()\\\n",
    ".sort_values('EU_sales', ascending=False)\n",
    "#NA region\n",
    "na_esrb=games_df.groupby('Rating')['NA_sales'].sum().reset_index()\\\n",
    ".sort_values('NA_sales', ascending=False)\n",
    "\n",
    "merged_esrb=pd.merge(jp_esrb, eu_esrb, on='Rating', how='outer')\n",
    "merged_esrb=pd.merge(merged_esrb, na_esrb, on='Rating', how='outer')\n",
    "merged_esrb.plot.bar(x='Rating', figsize=(7,7))\n",
    "plt.show()\n"
   ]
  },
  {
   "cell_type": "markdown",
   "metadata": {},
   "source": [
    "We can see that E rating is most popular on all regions. T and M ratings are next popular ratings, and E10+ is the least popular rating in terms of sales."
   ]
  },
  {
   "cell_type": "markdown",
   "metadata": {},
   "source": [
    "## Step 5. Test the following hypotheses:"
   ]
  },
  {
   "cell_type": "markdown",
   "metadata": {},
   "source": [
    "Average user ratings of the Xbox One and PC platforms are the same. \n",
    "The null hypothesis \n",
    "H0: The average user ratings of the Xbox One and PC platforms are the same.\n",
    "\n",
    "The alternative hypothesis \n",
    "H1: The average user ratings of the Xbox One and PC platforms are different."
   ]
  },
  {
   "cell_type": "code",
   "execution_count": 26,
   "metadata": {},
   "outputs": [
    {
     "data": {
      "text/plain": [
       "LeveneResult(statistic=3.1662496092712744, pvalue=0.07549452472408175)"
      ]
     },
     "execution_count": 26,
     "metadata": {},
     "output_type": "execute_result"
    }
   ],
   "source": [
    "#XOne user score\n",
    "x1_mean_rating=games_df[games_df['Platform']=='XOne']['User_Score'].dropna()\n",
    "#PC user score\n",
    "pc_mean_rating=games_df[games_df['Platform']=='PC']['User_Score'].dropna()\n",
    "#st Levene test\n",
    "st.levene(x1_mean_rating, pc_mean_rating, center='mean')\n",
    "#The sample group don't have equal veriance, so we will use equal_var=False"
   ]
  },
  {
   "cell_type": "markdown",
   "metadata": {},
   "source": [
    "The levene test is used to determine whether two or more groups have equal variances. In this case the p value is larger then 0.05 therefor I will use equal_var=False in the ttest."
   ]
  },
  {
   "cell_type": "code",
   "execution_count": 27,
   "metadata": {},
   "outputs": [
    {
     "name": "stdout",
     "output_type": "stream",
     "text": [
      "p-value: 4.935072360183565e-06\n",
      "We reject the null hypothesis\n"
     ]
    }
   ],
   "source": [
    "alpha=0.05 #The critical statistical significance level which is the industry standard\n",
    "result1=st.ttest_ind(x1_mean_rating, pc_mean_rating, equal_var=False)\n",
    "print('p-value:', result1.pvalue)\n",
    "\n",
    "if result1.pvalue < alpha:\n",
    "    print(\"We reject the null hypothesis\")\n",
    "else:\n",
    "    print(\"We can't reject the null hypothesis\")"
   ]
  },
  {
   "cell_type": "markdown",
   "metadata": {},
   "source": [
    "The mean user ratings of the Xbox One and PC platforms are not the same."
   ]
  },
  {
   "cell_type": "markdown",
   "metadata": {},
   "source": [
    "Testing if the average user ratings for the Action and Sports genres are different. \n",
    "The null hypothesis \n",
    "H0: The average user ratings for the Action and Sports genres are the same.\n",
    "\n",
    "The alternative hypothesis \n",
    "H1: the average user ratings for the Action and Sports genres are different."
   ]
  },
  {
   "cell_type": "code",
   "execution_count": 28,
   "metadata": {},
   "outputs": [
    {
     "data": {
      "text/plain": [
       "LeveneResult(statistic=20.782708914182898, pvalue=5.355232768513885e-06)"
      ]
     },
     "execution_count": 28,
     "metadata": {},
     "output_type": "execute_result"
    }
   ],
   "source": [
    "#XOne user score\n",
    "x1_mean_sport=games_df[games_df['Genre']=='Sports']['User_Score'].dropna()\n",
    "#PC user score\n",
    "pc_mean_action=games_df[games_df['Genre']=='Action']['User_Score'].dropna()\n",
    "#st Levene test\n",
    "st.levene(x1_mean_sport, pc_mean_action, center='mean')\n",
    "#The sample group don't have equal veriance, so we will use equal_var=False"
   ]
  },
  {
   "cell_type": "code",
   "execution_count": 29,
   "metadata": {},
   "outputs": [
    {
     "name": "stdout",
     "output_type": "stream",
     "text": [
      "p-value: 4.935072360183565e-06\n",
      "We reject the null hypothesis\n"
     ]
    }
   ],
   "source": [
    "alpha=0.05 #The critical statistical significance level which is the industry standard\n",
    "result2=st.ttest_ind(x1_mean_rating, pc_mean_rating, equal_var=False)\n",
    "print('p-value:', result2.pvalue)\n",
    "\n",
    "if result2.pvalue < alpha:\n",
    "    print(\"We reject the null hypothesis\")\n",
    "else:\n",
    "    print(\"We can't reject the null hypothesis\")"
   ]
  },
  {
   "cell_type": "markdown",
   "metadata": {},
   "source": [
    "The average user ratings for the Action and Sports genres are different."
   ]
  },
  {
   "cell_type": "markdown",
   "metadata": {},
   "source": [
    "In conclusion we can say that the users scores are statisticly different between XOne and PC, and Action and Sports genre."
   ]
  },
  {
   "cell_type": "markdown",
   "metadata": {},
   "source": [
    "## General conclusion"
   ]
  },
  {
   "cell_type": "markdown",
   "metadata": {},
   "source": [
    "I have examined the data, and decided to leave the nan values as there are many of them under user and proffesional scores columns, but I did not replace them with any value as it will be hard to predict the user score for them, and it might effect the data distribution. This will not effect our work. \n",
    "\n",
    "I have also found that popular platforms have a life between 10-11 years which after that their sales fade away. In addition I found that PS4 and XOne are currently showing strong sale performance, and both were released in 2013.\n",
    "\n",
    "Additionaly I found that the mean of global sales of all games, broken down by platform do not differ greatly except one oulier platform, GB. In addition I found no strong correlation between critic scores and total sales, however there is a weak correlation for games with more then 75 critic score.\n",
    "\n",
    "I also found that the NA market is dominent follwing EU and JP. Action and sport genres and most popular, and most games released had E ratings.\n",
    "\n",
    "My conclusion is that in order to plan an advertising campaigns all over the world, first the campign need to focus on games the are on XOne and PS4, as their sales are increaing. The marketing campign need to focus on games with Action, Sports and Misc on all regions, shooter genre on EU and NA, and role-playing games in the JP market. I would also suggest to market games with critic core of more then 75\n",
    "\n",
    "\n"
   ]
  }
 ],
 "metadata": {
  "ExecuteTimeLog": [
   {
    "duration": 597,
    "start_time": "2022-02-15T06:57:22.519Z"
   },
   {
    "duration": 32,
    "start_time": "2022-02-15T06:57:23.795Z"
   },
   {
    "duration": 19,
    "start_time": "2022-02-15T06:57:39.215Z"
   },
   {
    "duration": 227,
    "start_time": "2022-02-15T07:03:43.844Z"
   },
   {
    "duration": 11,
    "start_time": "2022-02-15T07:04:20.575Z"
   },
   {
    "duration": 10,
    "start_time": "2022-02-15T07:04:22.950Z"
   },
   {
    "duration": 25,
    "start_time": "2022-02-15T07:04:31.821Z"
   },
   {
    "duration": 9,
    "start_time": "2022-02-15T07:04:38.776Z"
   },
   {
    "duration": 9,
    "start_time": "2022-02-15T07:04:43.025Z"
   },
   {
    "duration": 8,
    "start_time": "2022-02-15T07:09:45.339Z"
   },
   {
    "duration": 11,
    "start_time": "2022-02-15T07:10:38.559Z"
   },
   {
    "duration": 181,
    "start_time": "2022-02-15T07:11:23.239Z"
   },
   {
    "duration": 177,
    "start_time": "2022-02-15T07:11:33.701Z"
   },
   {
    "duration": 177,
    "start_time": "2022-02-15T07:11:39.092Z"
   },
   {
    "duration": 177,
    "start_time": "2022-02-15T07:12:58.965Z"
   },
   {
    "duration": 222,
    "start_time": "2022-02-15T07:13:00.836Z"
   },
   {
    "duration": 171,
    "start_time": "2022-02-15T07:16:37.403Z"
   },
   {
    "duration": 5,
    "start_time": "2022-02-15T07:17:10.296Z"
   },
   {
    "duration": 169,
    "start_time": "2022-02-15T07:17:22.535Z"
   },
   {
    "duration": 198,
    "start_time": "2022-02-15T07:17:25.068Z"
   },
   {
    "duration": 223,
    "start_time": "2022-02-15T07:17:34.261Z"
   },
   {
    "duration": 7,
    "start_time": "2022-02-15T07:18:09.871Z"
   },
   {
    "duration": 5,
    "start_time": "2022-02-15T07:18:24.255Z"
   },
   {
    "duration": 4,
    "start_time": "2022-02-15T07:18:48.855Z"
   },
   {
    "duration": 190,
    "start_time": "2022-02-15T07:19:30.601Z"
   },
   {
    "duration": 11,
    "start_time": "2022-02-15T07:20:10.938Z"
   },
   {
    "duration": 10,
    "start_time": "2022-02-15T07:20:31.744Z"
   },
   {
    "duration": 245,
    "start_time": "2022-02-15T07:21:09.833Z"
   },
   {
    "duration": 11,
    "start_time": "2022-02-15T07:23:27.151Z"
   },
   {
    "duration": 13,
    "start_time": "2022-02-15T07:24:29.207Z"
   },
   {
    "duration": 14,
    "start_time": "2022-02-15T07:24:42.899Z"
   },
   {
    "duration": 11,
    "start_time": "2022-02-15T07:27:02.539Z"
   },
   {
    "duration": 14,
    "start_time": "2022-02-15T07:27:16.626Z"
   },
   {
    "duration": 555,
    "start_time": "2022-02-15T07:27:30.550Z"
   },
   {
    "duration": 33,
    "start_time": "2022-02-15T07:27:31.107Z"
   },
   {
    "duration": 18,
    "start_time": "2022-02-15T07:27:31.142Z"
   },
   {
    "duration": 16,
    "start_time": "2022-02-15T07:27:31.162Z"
   },
   {
    "duration": 24,
    "start_time": "2022-02-15T07:27:31.180Z"
   },
   {
    "duration": 13,
    "start_time": "2022-02-15T07:27:58.371Z"
   },
   {
    "duration": 13,
    "start_time": "2022-02-15T07:28:20.293Z"
   },
   {
    "duration": 14,
    "start_time": "2022-02-15T07:29:25.584Z"
   },
   {
    "duration": 177,
    "start_time": "2022-02-15T07:29:40.354Z"
   },
   {
    "duration": 15,
    "start_time": "2022-02-15T07:29:47.378Z"
   },
   {
    "duration": 13,
    "start_time": "2022-02-15T07:30:10.996Z"
   },
   {
    "duration": 13,
    "start_time": "2022-02-15T07:30:23.913Z"
   },
   {
    "duration": 12,
    "start_time": "2022-02-15T07:30:25.666Z"
   },
   {
    "duration": 13,
    "start_time": "2022-02-15T07:30:26.527Z"
   },
   {
    "duration": 11,
    "start_time": "2022-02-15T07:30:46.092Z"
   },
   {
    "duration": 1296,
    "start_time": "2022-02-15T07:31:11.169Z"
   },
   {
    "duration": 528,
    "start_time": "2022-02-15T07:31:29.175Z"
   },
   {
    "duration": 38,
    "start_time": "2022-02-15T07:31:29.705Z"
   },
   {
    "duration": 24,
    "start_time": "2022-02-15T07:31:29.745Z"
   },
   {
    "duration": 8,
    "start_time": "2022-02-15T07:31:29.771Z"
   },
   {
    "duration": 1286,
    "start_time": "2022-02-15T07:31:29.781Z"
   },
   {
    "duration": 17,
    "start_time": "2022-02-15T07:32:53.340Z"
   },
   {
    "duration": 18,
    "start_time": "2022-02-15T07:33:22.255Z"
   },
   {
    "duration": 13,
    "start_time": "2022-02-15T07:34:14.492Z"
   },
   {
    "duration": 11,
    "start_time": "2022-02-15T07:36:23.361Z"
   },
   {
    "duration": 539,
    "start_time": "2022-02-15T07:36:34.373Z"
   },
   {
    "duration": 40,
    "start_time": "2022-02-15T07:36:34.914Z"
   },
   {
    "duration": 18,
    "start_time": "2022-02-15T07:36:34.956Z"
   },
   {
    "duration": 13,
    "start_time": "2022-02-15T07:36:34.976Z"
   },
   {
    "duration": 19,
    "start_time": "2022-02-15T07:36:34.991Z"
   },
   {
    "duration": 8,
    "start_time": "2022-02-15T07:51:06.960Z"
   },
   {
    "duration": 12,
    "start_time": "2022-02-15T07:54:06.949Z"
   },
   {
    "duration": 244,
    "start_time": "2022-02-15T07:54:42.946Z"
   },
   {
    "duration": 9,
    "start_time": "2022-02-15T07:54:51.864Z"
   },
   {
    "duration": 14,
    "start_time": "2022-02-15T07:55:03.137Z"
   },
   {
    "duration": 18,
    "start_time": "2022-02-15T07:55:16.956Z"
   },
   {
    "duration": 18,
    "start_time": "2022-02-15T07:55:36.312Z"
   },
   {
    "duration": 18,
    "start_time": "2022-02-15T07:55:53.015Z"
   },
   {
    "duration": 426,
    "start_time": "2022-02-15T07:56:07.155Z"
   },
   {
    "duration": 17,
    "start_time": "2022-02-15T07:56:16.976Z"
   },
   {
    "duration": 15,
    "start_time": "2022-02-15T07:57:03.542Z"
   },
   {
    "duration": 514,
    "start_time": "2022-02-15T07:57:59.876Z"
   },
   {
    "duration": 39,
    "start_time": "2022-02-15T07:58:00.392Z"
   },
   {
    "duration": 20,
    "start_time": "2022-02-15T07:58:00.433Z"
   },
   {
    "duration": 16,
    "start_time": "2022-02-15T07:58:00.455Z"
   },
   {
    "duration": 26,
    "start_time": "2022-02-15T07:58:00.472Z"
   },
   {
    "duration": 8,
    "start_time": "2022-02-15T07:58:00.499Z"
   },
   {
    "duration": 29,
    "start_time": "2022-02-15T07:58:00.509Z"
   },
   {
    "duration": 292,
    "start_time": "2022-02-15T07:58:23.018Z"
   },
   {
    "duration": 217,
    "start_time": "2022-02-15T07:58:24.906Z"
   },
   {
    "duration": 534,
    "start_time": "2022-02-15T07:58:44.356Z"
   },
   {
    "duration": 34,
    "start_time": "2022-02-15T07:58:44.892Z"
   },
   {
    "duration": 18,
    "start_time": "2022-02-15T07:58:44.928Z"
   },
   {
    "duration": 10,
    "start_time": "2022-02-15T07:58:44.947Z"
   },
   {
    "duration": 21,
    "start_time": "2022-02-15T07:58:44.958Z"
   },
   {
    "duration": 8,
    "start_time": "2022-02-15T07:58:44.980Z"
   },
   {
    "duration": 10,
    "start_time": "2022-02-15T07:58:44.989Z"
   },
   {
    "duration": 315,
    "start_time": "2022-02-15T07:59:02.847Z"
   },
   {
    "duration": 564,
    "start_time": "2022-02-15T07:59:20.118Z"
   },
   {
    "duration": 39,
    "start_time": "2022-02-15T07:59:20.684Z"
   },
   {
    "duration": 22,
    "start_time": "2022-02-15T07:59:20.725Z"
   },
   {
    "duration": 9,
    "start_time": "2022-02-15T07:59:20.750Z"
   },
   {
    "duration": 20,
    "start_time": "2022-02-15T07:59:20.761Z"
   },
   {
    "duration": 9,
    "start_time": "2022-02-15T07:59:20.783Z"
   },
   {
    "duration": 250,
    "start_time": "2022-02-15T07:59:20.793Z"
   },
   {
    "duration": 551,
    "start_time": "2022-02-15T07:59:42.470Z"
   },
   {
    "duration": 37,
    "start_time": "2022-02-15T07:59:43.023Z"
   },
   {
    "duration": 19,
    "start_time": "2022-02-15T07:59:43.062Z"
   },
   {
    "duration": 9,
    "start_time": "2022-02-15T07:59:43.083Z"
   },
   {
    "duration": 19,
    "start_time": "2022-02-15T07:59:43.093Z"
   },
   {
    "duration": 23,
    "start_time": "2022-02-15T07:59:43.113Z"
   },
   {
    "duration": 15,
    "start_time": "2022-02-15T07:59:43.138Z"
   },
   {
    "duration": 255,
    "start_time": "2022-02-15T08:00:12.917Z"
   },
   {
    "duration": 507,
    "start_time": "2022-02-15T08:00:19.388Z"
   },
   {
    "duration": 38,
    "start_time": "2022-02-15T08:00:19.897Z"
   },
   {
    "duration": 19,
    "start_time": "2022-02-15T08:00:19.937Z"
   },
   {
    "duration": 9,
    "start_time": "2022-02-15T08:00:19.957Z"
   },
   {
    "duration": 18,
    "start_time": "2022-02-15T08:00:19.967Z"
   },
   {
    "duration": 8,
    "start_time": "2022-02-15T08:00:19.987Z"
   },
   {
    "duration": 40,
    "start_time": "2022-02-15T08:00:19.996Z"
   },
   {
    "duration": 9,
    "start_time": "2022-02-15T08:08:05.199Z"
   },
   {
    "duration": 10,
    "start_time": "2022-02-15T08:08:14.459Z"
   },
   {
    "duration": 11,
    "start_time": "2022-02-15T08:08:27.981Z"
   },
   {
    "duration": 6,
    "start_time": "2022-02-15T08:09:48.528Z"
   },
   {
    "duration": 5,
    "start_time": "2022-02-15T08:09:50.273Z"
   },
   {
    "duration": 8,
    "start_time": "2022-02-15T08:09:54.920Z"
   },
   {
    "duration": 5,
    "start_time": "2022-02-15T08:10:06.903Z"
   },
   {
    "duration": 5,
    "start_time": "2022-02-15T08:10:08.154Z"
   },
   {
    "duration": 5,
    "start_time": "2022-02-15T08:10:41.533Z"
   },
   {
    "duration": 5,
    "start_time": "2022-02-15T08:10:42.713Z"
   },
   {
    "duration": 5,
    "start_time": "2022-02-15T08:10:43.309Z"
   },
   {
    "duration": 5,
    "start_time": "2022-02-15T08:10:43.729Z"
   },
   {
    "duration": 5,
    "start_time": "2022-02-15T08:10:44.159Z"
   },
   {
    "duration": 6,
    "start_time": "2022-02-15T08:10:44.609Z"
   },
   {
    "duration": 6,
    "start_time": "2022-02-15T08:10:45.029Z"
   },
   {
    "duration": 6,
    "start_time": "2022-02-15T08:10:45.453Z"
   },
   {
    "duration": 4,
    "start_time": "2022-02-15T08:10:45.874Z"
   },
   {
    "duration": 5,
    "start_time": "2022-02-15T08:10:46.309Z"
   },
   {
    "duration": 5,
    "start_time": "2022-02-15T08:10:46.767Z"
   },
   {
    "duration": 5,
    "start_time": "2022-02-15T08:10:47.189Z"
   },
   {
    "duration": 5,
    "start_time": "2022-02-15T08:10:47.593Z"
   },
   {
    "duration": 5,
    "start_time": "2022-02-15T08:10:48.021Z"
   },
   {
    "duration": 4,
    "start_time": "2022-02-15T08:10:48.398Z"
   },
   {
    "duration": 5,
    "start_time": "2022-02-15T08:10:48.830Z"
   },
   {
    "duration": 5,
    "start_time": "2022-02-15T08:10:49.446Z"
   },
   {
    "duration": 240,
    "start_time": "2022-02-15T08:11:12.361Z"
   },
   {
    "duration": 11,
    "start_time": "2022-02-15T08:11:17.588Z"
   },
   {
    "duration": 182,
    "start_time": "2022-02-15T08:11:49.105Z"
   },
   {
    "duration": 519,
    "start_time": "2022-02-15T08:11:55.771Z"
   },
   {
    "duration": 33,
    "start_time": "2022-02-15T08:11:56.293Z"
   },
   {
    "duration": 18,
    "start_time": "2022-02-15T08:11:56.331Z"
   },
   {
    "duration": 9,
    "start_time": "2022-02-15T08:11:56.351Z"
   },
   {
    "duration": 22,
    "start_time": "2022-02-15T08:11:56.361Z"
   },
   {
    "duration": 8,
    "start_time": "2022-02-15T08:11:56.384Z"
   },
   {
    "duration": 248,
    "start_time": "2022-02-15T08:11:56.393Z"
   },
   {
    "duration": -572,
    "start_time": "2022-02-15T08:11:57.215Z"
   },
   {
    "duration": 14,
    "start_time": "2022-02-15T08:13:56.030Z"
   },
   {
    "duration": 9,
    "start_time": "2022-02-15T08:14:00.845Z"
   },
   {
    "duration": 8,
    "start_time": "2022-02-15T08:14:34.766Z"
   },
   {
    "duration": 13,
    "start_time": "2022-02-15T08:21:28.495Z"
   },
   {
    "duration": 5,
    "start_time": "2022-02-15T08:24:15.908Z"
   },
   {
    "duration": 6,
    "start_time": "2022-02-15T08:24:35.114Z"
   },
   {
    "duration": 532,
    "start_time": "2022-02-15T08:24:51.698Z"
   },
   {
    "duration": 37,
    "start_time": "2022-02-15T08:24:52.232Z"
   },
   {
    "duration": 19,
    "start_time": "2022-02-15T08:24:52.271Z"
   },
   {
    "duration": 8,
    "start_time": "2022-02-15T08:24:52.292Z"
   },
   {
    "duration": 10,
    "start_time": "2022-02-15T08:24:52.302Z"
   },
   {
    "duration": 30,
    "start_time": "2022-02-15T08:24:52.313Z"
   },
   {
    "duration": 7,
    "start_time": "2022-02-15T08:24:52.345Z"
   },
   {
    "duration": 12,
    "start_time": "2022-02-15T08:24:52.354Z"
   },
   {
    "duration": 8,
    "start_time": "2022-02-15T08:24:52.368Z"
   },
   {
    "duration": 7,
    "start_time": "2022-02-15T08:25:03.456Z"
   },
   {
    "duration": 515,
    "start_time": "2022-02-15T08:25:36.076Z"
   },
   {
    "duration": 32,
    "start_time": "2022-02-15T08:25:36.593Z"
   },
   {
    "duration": 19,
    "start_time": "2022-02-15T08:25:36.627Z"
   },
   {
    "duration": 9,
    "start_time": "2022-02-15T08:25:36.648Z"
   },
   {
    "duration": 9,
    "start_time": "2022-02-15T08:25:36.658Z"
   },
   {
    "duration": 16,
    "start_time": "2022-02-15T08:25:36.668Z"
   },
   {
    "duration": 7,
    "start_time": "2022-02-15T08:25:36.685Z"
   },
   {
    "duration": 39,
    "start_time": "2022-02-15T08:25:36.694Z"
   },
   {
    "duration": 7,
    "start_time": "2022-02-15T08:25:36.736Z"
   },
   {
    "duration": 7,
    "start_time": "2022-02-15T08:30:19.462Z"
   },
   {
    "duration": 9,
    "start_time": "2022-02-15T08:36:33.695Z"
   },
   {
    "duration": 515,
    "start_time": "2022-02-15T08:36:39.469Z"
   },
   {
    "duration": 34,
    "start_time": "2022-02-15T08:36:39.985Z"
   },
   {
    "duration": 22,
    "start_time": "2022-02-15T08:36:40.021Z"
   },
   {
    "duration": 9,
    "start_time": "2022-02-15T08:36:40.045Z"
   },
   {
    "duration": 28,
    "start_time": "2022-02-15T08:36:40.055Z"
   },
   {
    "duration": 16,
    "start_time": "2022-02-15T08:36:40.085Z"
   },
   {
    "duration": 33,
    "start_time": "2022-02-15T08:36:40.103Z"
   },
   {
    "duration": 11,
    "start_time": "2022-02-15T08:36:40.139Z"
   },
   {
    "duration": 9,
    "start_time": "2022-02-15T08:36:40.152Z"
   },
   {
    "duration": 563,
    "start_time": "2022-02-15T08:36:58.126Z"
   },
   {
    "duration": 34,
    "start_time": "2022-02-15T08:36:58.690Z"
   },
   {
    "duration": 18,
    "start_time": "2022-02-15T08:36:58.726Z"
   },
   {
    "duration": 9,
    "start_time": "2022-02-15T08:36:58.746Z"
   },
   {
    "duration": 14,
    "start_time": "2022-02-15T08:36:58.756Z"
   },
   {
    "duration": 16,
    "start_time": "2022-02-15T08:36:58.772Z"
   },
   {
    "duration": 7,
    "start_time": "2022-02-15T08:36:58.790Z"
   },
   {
    "duration": 36,
    "start_time": "2022-02-15T08:36:58.798Z"
   },
   {
    "duration": 7,
    "start_time": "2022-02-15T08:36:58.837Z"
   },
   {
    "duration": 517,
    "start_time": "2022-02-15T08:37:16.080Z"
   },
   {
    "duration": 33,
    "start_time": "2022-02-15T08:37:16.599Z"
   },
   {
    "duration": 18,
    "start_time": "2022-02-15T08:37:16.634Z"
   },
   {
    "duration": 9,
    "start_time": "2022-02-15T08:37:16.654Z"
   },
   {
    "duration": 23,
    "start_time": "2022-02-15T08:37:16.665Z"
   },
   {
    "duration": 40,
    "start_time": "2022-02-15T08:37:16.690Z"
   },
   {
    "duration": 8,
    "start_time": "2022-02-15T08:37:16.732Z"
   },
   {
    "duration": 12,
    "start_time": "2022-02-15T08:37:16.742Z"
   },
   {
    "duration": 9,
    "start_time": "2022-02-15T08:37:16.756Z"
   },
   {
    "duration": 558,
    "start_time": "2022-02-15T08:39:08.239Z"
   },
   {
    "duration": 38,
    "start_time": "2022-02-15T08:39:08.799Z"
   },
   {
    "duration": 24,
    "start_time": "2022-02-15T08:39:08.839Z"
   },
   {
    "duration": 13,
    "start_time": "2022-02-15T08:39:08.866Z"
   },
   {
    "duration": 59,
    "start_time": "2022-02-15T08:39:08.881Z"
   },
   {
    "duration": 18,
    "start_time": "2022-02-15T08:39:08.942Z"
   },
   {
    "duration": 7,
    "start_time": "2022-02-15T08:39:08.962Z"
   },
   {
    "duration": 12,
    "start_time": "2022-02-15T08:39:08.971Z"
   },
   {
    "duration": 8,
    "start_time": "2022-02-15T08:39:08.985Z"
   },
   {
    "duration": 7,
    "start_time": "2022-02-15T08:39:53.467Z"
   },
   {
    "duration": 279,
    "start_time": "2022-02-15T08:40:47.104Z"
   },
   {
    "duration": 14,
    "start_time": "2022-02-15T08:42:03.514Z"
   },
   {
    "duration": 549,
    "start_time": "2022-02-15T08:42:11.443Z"
   },
   {
    "duration": 33,
    "start_time": "2022-02-15T08:42:11.993Z"
   },
   {
    "duration": 19,
    "start_time": "2022-02-15T08:42:12.031Z"
   },
   {
    "duration": 8,
    "start_time": "2022-02-15T08:42:12.052Z"
   },
   {
    "duration": 18,
    "start_time": "2022-02-15T08:42:12.062Z"
   },
   {
    "duration": 6,
    "start_time": "2022-02-15T08:42:12.082Z"
   },
   {
    "duration": 41,
    "start_time": "2022-02-15T08:42:12.089Z"
   },
   {
    "duration": 8,
    "start_time": "2022-02-15T08:42:12.132Z"
   },
   {
    "duration": 14,
    "start_time": "2022-02-15T08:42:12.141Z"
   },
   {
    "duration": 13,
    "start_time": "2022-02-15T08:42:12.157Z"
   },
   {
    "duration": 238,
    "start_time": "2022-02-15T08:49:23.942Z"
   },
   {
    "duration": 174,
    "start_time": "2022-02-15T08:49:40.664Z"
   },
   {
    "duration": 185,
    "start_time": "2022-02-15T08:50:02.975Z"
   },
   {
    "duration": 18,
    "start_time": "2022-02-15T08:50:46.433Z"
   },
   {
    "duration": 175,
    "start_time": "2022-02-15T08:51:34.021Z"
   },
   {
    "duration": 174,
    "start_time": "2022-02-15T08:51:49.541Z"
   },
   {
    "duration": 22,
    "start_time": "2022-02-15T08:54:20.563Z"
   },
   {
    "duration": 23,
    "start_time": "2022-02-15T08:55:43.871Z"
   },
   {
    "duration": 176,
    "start_time": "2022-02-15T08:56:10.262Z"
   },
   {
    "duration": 178,
    "start_time": "2022-02-15T08:57:42.295Z"
   },
   {
    "duration": 24,
    "start_time": "2022-02-15T08:57:54.270Z"
   },
   {
    "duration": 3573,
    "start_time": "2022-02-15T08:58:59.697Z"
   },
   {
    "duration": 3389,
    "start_time": "2022-02-15T08:59:50.085Z"
   },
   {
    "duration": 177,
    "start_time": "2022-02-15T09:00:52.216Z"
   },
   {
    "duration": 3566,
    "start_time": "2022-02-15T09:01:07.315Z"
   },
   {
    "duration": 26,
    "start_time": "2022-02-15T09:05:08.068Z"
   },
   {
    "duration": 6,
    "start_time": "2022-02-15T09:05:30.451Z"
   },
   {
    "duration": 36,
    "start_time": "2022-02-15T09:05:39.732Z"
   },
   {
    "duration": 25,
    "start_time": "2022-02-15T09:10:56.255Z"
   },
   {
    "duration": 178,
    "start_time": "2022-02-15T09:14:52.317Z"
   },
   {
    "duration": 40,
    "start_time": "2022-02-15T09:15:14.324Z"
   },
   {
    "duration": 23,
    "start_time": "2022-02-15T09:15:47.594Z"
   },
   {
    "duration": 17,
    "start_time": "2022-02-15T09:15:59.513Z"
   },
   {
    "duration": 28,
    "start_time": "2022-02-15T09:20:23.919Z"
   },
   {
    "duration": 6,
    "start_time": "2022-02-15T09:32:41.396Z"
   },
   {
    "duration": 4,
    "start_time": "2022-02-15T09:32:44.354Z"
   },
   {
    "duration": 7,
    "start_time": "2022-02-15T09:32:57.367Z"
   },
   {
    "duration": 5,
    "start_time": "2022-02-15T09:33:29.003Z"
   },
   {
    "duration": 20,
    "start_time": "2022-02-15T09:33:38.327Z"
   },
   {
    "duration": 8,
    "start_time": "2022-02-15T09:39:24.917Z"
   },
   {
    "duration": 7,
    "start_time": "2022-02-15T09:39:31.574Z"
   },
   {
    "duration": 25,
    "start_time": "2022-02-15T09:40:06.315Z"
   },
   {
    "duration": 4341,
    "start_time": "2022-02-15T09:41:27.231Z"
   },
   {
    "duration": 45,
    "start_time": "2022-02-15T09:44:14.417Z"
   },
   {
    "duration": 46,
    "start_time": "2022-02-15T09:45:34.491Z"
   },
   {
    "duration": 47,
    "start_time": "2022-02-15T09:45:50.451Z"
   },
   {
    "duration": 5,
    "start_time": "2022-02-15T09:46:06.342Z"
   },
   {
    "duration": 4,
    "start_time": "2022-02-15T09:46:08.331Z"
   },
   {
    "duration": 30,
    "start_time": "2022-02-15T09:54:54.646Z"
   },
   {
    "duration": 32,
    "start_time": "2022-02-15T09:55:09.300Z"
   },
   {
    "duration": 9,
    "start_time": "2022-02-15T09:55:36.432Z"
   },
   {
    "duration": 5,
    "start_time": "2022-02-15T10:05:18.087Z"
   },
   {
    "duration": 8,
    "start_time": "2022-02-15T10:05:35.595Z"
   },
   {
    "duration": 6,
    "start_time": "2022-02-15T10:05:57.637Z"
   },
   {
    "duration": 7,
    "start_time": "2022-02-15T10:06:06.796Z"
   },
   {
    "duration": 6,
    "start_time": "2022-02-15T10:14:27.333Z"
   },
   {
    "duration": 188,
    "start_time": "2022-02-15T10:19:54.965Z"
   },
   {
    "duration": 180,
    "start_time": "2022-02-15T10:20:05.001Z"
   },
   {
    "duration": 15,
    "start_time": "2022-02-15T10:20:54.217Z"
   },
   {
    "duration": 14,
    "start_time": "2022-02-15T10:21:15.332Z"
   },
   {
    "duration": 26,
    "start_time": "2022-02-15T10:22:36.175Z"
   },
   {
    "duration": 8,
    "start_time": "2022-02-15T10:23:09.597Z"
   },
   {
    "duration": 196,
    "start_time": "2022-02-15T10:23:25.014Z"
   },
   {
    "duration": 232,
    "start_time": "2022-02-15T10:23:47.723Z"
   },
   {
    "duration": 328,
    "start_time": "2022-02-15T10:24:05.493Z"
   },
   {
    "duration": 10,
    "start_time": "2022-02-15T10:24:15.881Z"
   },
   {
    "duration": 4,
    "start_time": "2022-02-15T10:28:18.683Z"
   },
   {
    "duration": 4745,
    "start_time": "2022-02-15T10:28:31.908Z"
   },
   {
    "duration": 9,
    "start_time": "2022-02-15T10:29:26.674Z"
   },
   {
    "duration": 187,
    "start_time": "2022-02-15T10:30:29.844Z"
   },
   {
    "duration": 6,
    "start_time": "2022-02-15T10:32:10.191Z"
   },
   {
    "duration": 7,
    "start_time": "2022-02-15T10:32:47.660Z"
   },
   {
    "duration": 8,
    "start_time": "2022-02-15T10:33:00.863Z"
   },
   {
    "duration": 7,
    "start_time": "2022-02-15T10:33:08.321Z"
   },
   {
    "duration": 8,
    "start_time": "2022-02-15T10:33:37.912Z"
   },
   {
    "duration": 7,
    "start_time": "2022-02-15T10:34:03.919Z"
   },
   {
    "duration": 10,
    "start_time": "2022-02-15T10:34:14.131Z"
   },
   {
    "duration": 246,
    "start_time": "2022-02-15T10:34:40.840Z"
   },
   {
    "duration": 234,
    "start_time": "2022-02-15T10:34:47.982Z"
   },
   {
    "duration": 233,
    "start_time": "2022-02-15T10:35:01.751Z"
   },
   {
    "duration": 2085,
    "start_time": "2022-02-15T10:35:04.046Z"
   },
   {
    "duration": 8,
    "start_time": "2022-02-15T10:38:55.460Z"
   },
   {
    "duration": 8,
    "start_time": "2022-02-15T10:39:03.505Z"
   },
   {
    "duration": 7,
    "start_time": "2022-02-15T10:39:56.388Z"
   },
   {
    "duration": 68,
    "start_time": "2022-02-15T10:44:21.367Z"
   },
   {
    "duration": 5149,
    "start_time": "2022-02-15T10:44:31.189Z"
   },
   {
    "duration": 7,
    "start_time": "2022-02-15T10:44:46.923Z"
   },
   {
    "duration": 25,
    "start_time": "2022-02-15T10:45:23.224Z"
   },
   {
    "duration": 8193,
    "start_time": "2022-02-15T10:48:00.118Z"
   },
   {
    "duration": 6530,
    "start_time": "2022-02-15T10:48:41.832Z"
   },
   {
    "duration": 9,
    "start_time": "2022-02-15T10:49:00.140Z"
   },
   {
    "duration": 7,
    "start_time": "2022-02-15T10:49:18.071Z"
   },
   {
    "duration": 22,
    "start_time": "2022-02-15T10:49:34.837Z"
   },
   {
    "duration": 23,
    "start_time": "2022-02-15T10:56:42.848Z"
   },
   {
    "duration": 590,
    "start_time": "2022-02-15T10:56:51.707Z"
   },
   {
    "duration": 33,
    "start_time": "2022-02-15T10:56:52.299Z"
   },
   {
    "duration": 20,
    "start_time": "2022-02-15T10:56:52.334Z"
   },
   {
    "duration": 8,
    "start_time": "2022-02-15T10:56:52.356Z"
   },
   {
    "duration": 18,
    "start_time": "2022-02-15T10:56:52.366Z"
   },
   {
    "duration": 6,
    "start_time": "2022-02-15T10:56:52.386Z"
   },
   {
    "duration": 43,
    "start_time": "2022-02-15T10:56:52.393Z"
   },
   {
    "duration": 8,
    "start_time": "2022-02-15T10:56:52.439Z"
   },
   {
    "duration": 12,
    "start_time": "2022-02-15T10:56:52.449Z"
   },
   {
    "duration": 9,
    "start_time": "2022-02-15T10:56:52.463Z"
   },
   {
    "duration": 6,
    "start_time": "2022-02-15T10:56:52.474Z"
   },
   {
    "duration": 8,
    "start_time": "2022-02-15T10:56:52.482Z"
   },
   {
    "duration": 8,
    "start_time": "2022-02-15T10:56:52.531Z"
   },
   {
    "duration": 21,
    "start_time": "2022-02-15T10:56:52.541Z"
   },
   {
    "duration": 6,
    "start_time": "2022-02-15T10:57:21.100Z"
   },
   {
    "duration": 6,
    "start_time": "2022-02-15T10:57:23.372Z"
   },
   {
    "duration": 18,
    "start_time": "2022-02-15T10:58:18.541Z"
   },
   {
    "duration": 15,
    "start_time": "2022-02-15T11:03:03.352Z"
   },
   {
    "duration": 17,
    "start_time": "2022-02-15T11:03:45.427Z"
   },
   {
    "duration": 16,
    "start_time": "2022-02-15T11:04:17.883Z"
   },
   {
    "duration": 17,
    "start_time": "2022-02-15T11:04:24.029Z"
   },
   {
    "duration": 16,
    "start_time": "2022-02-15T11:04:35.693Z"
   },
   {
    "duration": 69,
    "start_time": "2022-02-15T11:04:45.136Z"
   },
   {
    "duration": 102,
    "start_time": "2022-02-15T11:05:01.486Z"
   },
   {
    "duration": 23,
    "start_time": "2022-02-15T11:05:22.353Z"
   },
   {
    "duration": 545,
    "start_time": "2022-02-15T11:13:11.122Z"
   },
   {
    "duration": 518,
    "start_time": "2022-02-15T11:15:51.083Z"
   },
   {
    "duration": 287,
    "start_time": "2022-02-15T13:35:09.830Z"
   },
   {
    "duration": 639,
    "start_time": "2022-02-15T13:35:20.605Z"
   },
   {
    "duration": 43,
    "start_time": "2022-02-15T13:35:21.246Z"
   },
   {
    "duration": 26,
    "start_time": "2022-02-15T13:35:21.292Z"
   },
   {
    "duration": 11,
    "start_time": "2022-02-15T13:35:21.321Z"
   },
   {
    "duration": 26,
    "start_time": "2022-02-15T13:35:21.334Z"
   },
   {
    "duration": 7,
    "start_time": "2022-02-15T13:35:21.362Z"
   },
   {
    "duration": 22,
    "start_time": "2022-02-15T13:35:21.371Z"
   },
   {
    "duration": 10,
    "start_time": "2022-02-15T13:35:21.418Z"
   },
   {
    "duration": 15,
    "start_time": "2022-02-15T13:35:21.431Z"
   },
   {
    "duration": 11,
    "start_time": "2022-02-15T13:35:21.448Z"
   },
   {
    "duration": 10,
    "start_time": "2022-02-15T13:35:21.461Z"
   },
   {
    "duration": 8,
    "start_time": "2022-02-15T13:35:21.473Z"
   },
   {
    "duration": 40,
    "start_time": "2022-02-15T13:35:21.483Z"
   },
   {
    "duration": 26,
    "start_time": "2022-02-15T13:35:21.525Z"
   },
   {
    "duration": 305,
    "start_time": "2022-02-15T13:36:51.316Z"
   },
   {
    "duration": 256,
    "start_time": "2022-02-15T13:37:08.951Z"
   },
   {
    "duration": 9,
    "start_time": "2022-02-15T13:37:41.614Z"
   },
   {
    "duration": 25,
    "start_time": "2022-02-15T13:37:46.352Z"
   },
   {
    "duration": 8,
    "start_time": "2022-02-15T13:37:58.426Z"
   },
   {
    "duration": 24,
    "start_time": "2022-02-15T13:37:59.632Z"
   },
   {
    "duration": 293,
    "start_time": "2022-02-15T13:39:14.543Z"
   },
   {
    "duration": 251,
    "start_time": "2022-02-15T13:39:36.852Z"
   },
   {
    "duration": 314,
    "start_time": "2022-02-15T13:39:38.471Z"
   },
   {
    "duration": 281,
    "start_time": "2022-02-15T13:40:10.501Z"
   },
   {
    "duration": 12,
    "start_time": "2022-02-15T13:40:33.857Z"
   },
   {
    "duration": 645,
    "start_time": "2022-02-15T13:40:52.535Z"
   },
   {
    "duration": 37,
    "start_time": "2022-02-15T13:40:53.182Z"
   },
   {
    "duration": 22,
    "start_time": "2022-02-15T13:40:53.221Z"
   },
   {
    "duration": 14,
    "start_time": "2022-02-15T13:40:53.245Z"
   },
   {
    "duration": 31,
    "start_time": "2022-02-15T13:40:53.261Z"
   },
   {
    "duration": 25,
    "start_time": "2022-02-15T13:40:53.294Z"
   },
   {
    "duration": 17,
    "start_time": "2022-02-15T13:40:53.321Z"
   },
   {
    "duration": 8,
    "start_time": "2022-02-15T13:40:53.341Z"
   },
   {
    "duration": 14,
    "start_time": "2022-02-15T13:40:53.350Z"
   },
   {
    "duration": 7,
    "start_time": "2022-02-15T13:40:53.366Z"
   },
   {
    "duration": 12,
    "start_time": "2022-02-15T13:40:53.375Z"
   },
   {
    "duration": 35,
    "start_time": "2022-02-15T13:40:53.388Z"
   },
   {
    "duration": 17,
    "start_time": "2022-02-15T13:40:53.425Z"
   },
   {
    "duration": 322,
    "start_time": "2022-02-15T13:40:53.444Z"
   },
   {
    "duration": 242,
    "start_time": "2022-02-15T13:41:24.845Z"
   },
   {
    "duration": 242,
    "start_time": "2022-02-15T13:41:49.035Z"
   },
   {
    "duration": 256,
    "start_time": "2022-02-15T13:42:12.371Z"
   },
   {
    "duration": 26,
    "start_time": "2022-02-15T13:42:57.407Z"
   },
   {
    "duration": 35,
    "start_time": "2022-02-15T13:43:03.684Z"
   },
   {
    "duration": 267,
    "start_time": "2022-02-15T13:43:54.227Z"
   },
   {
    "duration": 280,
    "start_time": "2022-02-15T13:44:35.092Z"
   },
   {
    "duration": 264,
    "start_time": "2022-02-15T13:46:23.594Z"
   },
   {
    "duration": 19,
    "start_time": "2022-02-15T13:47:57.610Z"
   },
   {
    "duration": 26,
    "start_time": "2022-02-15T13:48:05.599Z"
   },
   {
    "duration": 700,
    "start_time": "2022-02-16T07:32:04.980Z"
   },
   {
    "duration": 50,
    "start_time": "2022-02-16T07:32:05.683Z"
   },
   {
    "duration": 34,
    "start_time": "2022-02-16T07:32:05.737Z"
   },
   {
    "duration": 17,
    "start_time": "2022-02-16T07:32:05.774Z"
   },
   {
    "duration": 53,
    "start_time": "2022-02-16T07:32:05.793Z"
   },
   {
    "duration": 9,
    "start_time": "2022-02-16T07:32:05.849Z"
   },
   {
    "duration": 31,
    "start_time": "2022-02-16T07:32:05.860Z"
   },
   {
    "duration": 10,
    "start_time": "2022-02-16T07:32:05.894Z"
   },
   {
    "duration": 16,
    "start_time": "2022-02-16T07:32:05.933Z"
   },
   {
    "duration": 18,
    "start_time": "2022-02-16T07:32:05.952Z"
   },
   {
    "duration": 10,
    "start_time": "2022-02-16T07:32:05.972Z"
   },
   {
    "duration": 11,
    "start_time": "2022-02-16T07:32:05.984Z"
   },
   {
    "duration": 37,
    "start_time": "2022-02-16T07:32:05.997Z"
   },
   {
    "duration": 36,
    "start_time": "2022-02-16T07:32:06.036Z"
   },
   {
    "duration": 110,
    "start_time": "2022-02-16T07:34:18.510Z"
   },
   {
    "duration": 293,
    "start_time": "2022-02-16T07:34:30.348Z"
   },
   {
    "duration": 281,
    "start_time": "2022-02-16T07:34:38.843Z"
   },
   {
    "duration": 1155,
    "start_time": "2022-02-16T07:40:39.595Z"
   },
   {
    "duration": 12,
    "start_time": "2022-02-16T07:40:48.841Z"
   },
   {
    "duration": 299,
    "start_time": "2022-02-16T07:42:10.133Z"
   },
   {
    "duration": 13,
    "start_time": "2022-02-16T07:46:00.976Z"
   },
   {
    "duration": 7,
    "start_time": "2022-02-16T07:46:12.332Z"
   },
   {
    "duration": 420,
    "start_time": "2022-02-16T07:46:36.180Z"
   },
   {
    "duration": 321,
    "start_time": "2022-02-16T07:51:47.629Z"
   },
   {
    "duration": 22,
    "start_time": "2022-02-16T07:53:35.369Z"
   },
   {
    "duration": 60,
    "start_time": "2022-02-16T07:53:43.397Z"
   },
   {
    "duration": 65,
    "start_time": "2022-02-16T07:54:44.179Z"
   },
   {
    "duration": 321,
    "start_time": "2022-02-16T07:54:58.197Z"
   },
   {
    "duration": 322,
    "start_time": "2022-02-16T07:55:04.658Z"
   },
   {
    "duration": 277,
    "start_time": "2022-02-16T08:00:27.729Z"
   },
   {
    "duration": 470,
    "start_time": "2022-02-16T08:00:58.729Z"
   },
   {
    "duration": 313,
    "start_time": "2022-02-16T08:01:18.071Z"
   },
   {
    "duration": 385,
    "start_time": "2022-02-16T08:02:34.371Z"
   },
   {
    "duration": 1492,
    "start_time": "2022-02-16T08:03:01.300Z"
   },
   {
    "duration": 530,
    "start_time": "2022-02-16T08:08:17.708Z"
   },
   {
    "duration": 673,
    "start_time": "2022-02-16T08:09:44.870Z"
   },
   {
    "duration": 6446,
    "start_time": "2022-02-16T08:10:08.976Z"
   },
   {
    "duration": 6440,
    "start_time": "2022-02-16T08:10:46.624Z"
   },
   {
    "duration": 675,
    "start_time": "2022-02-16T08:11:00.985Z"
   },
   {
    "duration": 265,
    "start_time": "2022-02-16T08:11:24.123Z"
   },
   {
    "duration": 865,
    "start_time": "2022-02-16T08:11:42.570Z"
   },
   {
    "duration": 899,
    "start_time": "2022-02-16T08:12:12.773Z"
   },
   {
    "duration": 637,
    "start_time": "2022-02-16T08:12:21.406Z"
   },
   {
    "duration": 720,
    "start_time": "2022-02-16T08:12:30.519Z"
   },
   {
    "duration": 8644,
    "start_time": "2022-02-16T08:17:36.362Z"
   },
   {
    "duration": 107,
    "start_time": "2022-02-16T08:21:24.315Z"
   },
   {
    "duration": 6561,
    "start_time": "2022-02-16T08:22:38.716Z"
   },
   {
    "duration": 63,
    "start_time": "2022-02-16T08:23:04.878Z"
   },
   {
    "duration": 275,
    "start_time": "2022-02-16T08:28:09.111Z"
   },
   {
    "duration": 266,
    "start_time": "2022-02-16T08:30:03.201Z"
   },
   {
    "duration": 259,
    "start_time": "2022-02-16T08:30:15.987Z"
   },
   {
    "duration": 270,
    "start_time": "2022-02-16T08:30:40.669Z"
   },
   {
    "duration": 240,
    "start_time": "2022-02-16T08:36:27.282Z"
   },
   {
    "duration": 280,
    "start_time": "2022-02-16T08:37:09.006Z"
   },
   {
    "duration": 21,
    "start_time": "2022-02-16T08:37:32.271Z"
   },
   {
    "duration": 13,
    "start_time": "2022-02-16T08:37:52.354Z"
   },
   {
    "duration": 79,
    "start_time": "2022-02-16T08:38:13.723Z"
   },
   {
    "duration": 16,
    "start_time": "2022-02-16T08:38:20.053Z"
   },
   {
    "duration": 24,
    "start_time": "2022-02-16T08:38:29.066Z"
   },
   {
    "duration": 68,
    "start_time": "2022-02-16T08:38:38.820Z"
   },
   {
    "duration": 67,
    "start_time": "2022-02-16T08:38:54.737Z"
   },
   {
    "duration": 46,
    "start_time": "2022-02-16T08:39:06.965Z"
   },
   {
    "duration": 45,
    "start_time": "2022-02-16T08:39:13.400Z"
   },
   {
    "duration": 45,
    "start_time": "2022-02-16T08:41:49.353Z"
   },
   {
    "duration": 311,
    "start_time": "2022-02-16T08:42:13.932Z"
   },
   {
    "duration": 492,
    "start_time": "2022-02-16T08:42:24.143Z"
   },
   {
    "duration": 319,
    "start_time": "2022-02-16T08:42:39.792Z"
   },
   {
    "duration": 570,
    "start_time": "2022-02-16T08:45:09.347Z"
   },
   {
    "duration": 644,
    "start_time": "2022-02-16T08:45:22.422Z"
   },
   {
    "duration": 840,
    "start_time": "2022-02-16T08:45:28.445Z"
   },
   {
    "duration": 785,
    "start_time": "2022-02-16T08:46:22.657Z"
   },
   {
    "duration": 7,
    "start_time": "2022-02-16T09:12:14.617Z"
   },
   {
    "duration": 11,
    "start_time": "2022-02-16T09:12:24.544Z"
   },
   {
    "duration": 197,
    "start_time": "2022-02-16T09:14:05.585Z"
   },
   {
    "duration": 204,
    "start_time": "2022-02-16T09:16:47.897Z"
   },
   {
    "duration": 34,
    "start_time": "2022-02-16T09:30:12.016Z"
   },
   {
    "duration": 6759,
    "start_time": "2022-02-16T09:31:41.155Z"
   },
   {
    "duration": 559,
    "start_time": "2022-02-16T09:32:03.134Z"
   },
   {
    "duration": 539,
    "start_time": "2022-02-16T09:32:12.829Z"
   },
   {
    "duration": 230,
    "start_time": "2022-02-16T09:42:59.111Z"
   },
   {
    "duration": 199,
    "start_time": "2022-02-16T09:43:51.673Z"
   },
   {
    "duration": 215,
    "start_time": "2022-02-16T09:44:00.722Z"
   },
   {
    "duration": 251,
    "start_time": "2022-02-16T09:44:15.380Z"
   },
   {
    "duration": 7214,
    "start_time": "2022-02-16T09:44:46.827Z"
   },
   {
    "duration": 7004,
    "start_time": "2022-02-16T09:45:02.342Z"
   },
   {
    "duration": 31,
    "start_time": "2022-02-16T09:45:47.414Z"
   },
   {
    "duration": 37,
    "start_time": "2022-02-16T09:46:06.800Z"
   },
   {
    "duration": 37,
    "start_time": "2022-02-16T09:46:22.627Z"
   },
   {
    "duration": 819,
    "start_time": "2022-02-16T09:46:58.337Z"
   },
   {
    "duration": 19002,
    "start_time": "2022-02-16T09:47:27.461Z"
   },
   {
    "duration": -1136,
    "start_time": "2022-02-16T09:51:01.076Z"
   },
   {
    "duration": 879,
    "start_time": "2022-02-16T09:51:23.030Z"
   },
   {
    "duration": 49,
    "start_time": "2022-02-16T09:51:23.912Z"
   },
   {
    "duration": 25,
    "start_time": "2022-02-16T09:51:23.964Z"
   },
   {
    "duration": 18,
    "start_time": "2022-02-16T09:51:23.992Z"
   },
   {
    "duration": 37,
    "start_time": "2022-02-16T09:51:24.013Z"
   },
   {
    "duration": 9,
    "start_time": "2022-02-16T09:51:24.053Z"
   },
   {
    "duration": 32,
    "start_time": "2022-02-16T09:51:24.065Z"
   },
   {
    "duration": 40,
    "start_time": "2022-02-16T09:51:24.100Z"
   },
   {
    "duration": 16,
    "start_time": "2022-02-16T09:51:24.143Z"
   },
   {
    "duration": 12,
    "start_time": "2022-02-16T09:51:24.161Z"
   },
   {
    "duration": 10,
    "start_time": "2022-02-16T09:51:24.175Z"
   },
   {
    "duration": 45,
    "start_time": "2022-02-16T09:51:24.187Z"
   },
   {
    "duration": 9,
    "start_time": "2022-02-16T09:51:24.235Z"
   },
   {
    "duration": 440,
    "start_time": "2022-02-16T09:51:24.247Z"
   },
   {
    "duration": -1207,
    "start_time": "2022-02-16T09:51:25.897Z"
   },
   {
    "duration": -1210,
    "start_time": "2022-02-16T09:51:25.902Z"
   },
   {
    "duration": -1215,
    "start_time": "2022-02-16T09:51:25.908Z"
   },
   {
    "duration": 638,
    "start_time": "2022-02-16T09:52:05.516Z"
   },
   {
    "duration": 751,
    "start_time": "2022-02-16T09:52:09.292Z"
   },
   {
    "duration": 250,
    "start_time": "2022-02-16T09:52:13.857Z"
   },
   {
    "duration": 101,
    "start_time": "2022-02-16T09:52:21.423Z"
   },
   {
    "duration": 86,
    "start_time": "2022-02-16T09:52:59.648Z"
   },
   {
    "duration": 65,
    "start_time": "2022-02-16T09:53:19.611Z"
   },
   {
    "duration": 87,
    "start_time": "2022-02-16T09:53:52.499Z"
   },
   {
    "duration": 87,
    "start_time": "2022-02-16T09:55:02.053Z"
   },
   {
    "duration": 85,
    "start_time": "2022-02-16T09:55:28.530Z"
   },
   {
    "duration": 334,
    "start_time": "2022-02-16T09:59:08.250Z"
   },
   {
    "duration": 286,
    "start_time": "2022-02-16T09:59:24.150Z"
   },
   {
    "duration": 70,
    "start_time": "2022-02-16T09:59:34.664Z"
   },
   {
    "duration": 296,
    "start_time": "2022-02-16T10:00:37.568Z"
   },
   {
    "duration": 6452,
    "start_time": "2022-02-16T10:01:34.195Z"
   },
   {
    "duration": 295,
    "start_time": "2022-02-16T10:02:20.671Z"
   },
   {
    "duration": 284,
    "start_time": "2022-02-16T10:02:28.544Z"
   },
   {
    "duration": 65,
    "start_time": "2022-02-16T10:02:45.143Z"
   },
   {
    "duration": 88,
    "start_time": "2022-02-16T10:03:23.124Z"
   },
   {
    "duration": 6469,
    "start_time": "2022-02-16T10:03:42.980Z"
   },
   {
    "duration": 59,
    "start_time": "2022-02-16T10:03:53.938Z"
   },
   {
    "duration": 348,
    "start_time": "2022-02-16T10:04:37.863Z"
   },
   {
    "duration": 63,
    "start_time": "2022-02-16T10:08:22.488Z"
   },
   {
    "duration": 287,
    "start_time": "2022-02-16T10:09:25.309Z"
   },
   {
    "duration": 151,
    "start_time": "2022-02-16T10:09:36.290Z"
   },
   {
    "duration": 74,
    "start_time": "2022-02-16T10:09:50.991Z"
   },
   {
    "duration": 77,
    "start_time": "2022-02-16T10:10:26.211Z"
   },
   {
    "duration": 89,
    "start_time": "2022-02-16T10:10:42.122Z"
   },
   {
    "duration": 74,
    "start_time": "2022-02-16T10:10:56.006Z"
   },
   {
    "duration": 70,
    "start_time": "2022-02-16T10:11:43.863Z"
   },
   {
    "duration": 74,
    "start_time": "2022-02-16T10:11:54.559Z"
   },
   {
    "duration": 88,
    "start_time": "2022-02-16T10:12:29.517Z"
   },
   {
    "duration": 74,
    "start_time": "2022-02-16T10:12:52.416Z"
   },
   {
    "duration": 38,
    "start_time": "2022-02-16T10:13:42.161Z"
   },
   {
    "duration": 83,
    "start_time": "2022-02-16T10:13:56.316Z"
   },
   {
    "duration": 868,
    "start_time": "2022-02-16T10:18:54.125Z"
   },
   {
    "duration": 48,
    "start_time": "2022-02-16T10:18:54.996Z"
   },
   {
    "duration": 26,
    "start_time": "2022-02-16T10:18:55.047Z"
   },
   {
    "duration": 58,
    "start_time": "2022-02-16T10:18:55.076Z"
   },
   {
    "duration": 26,
    "start_time": "2022-02-16T10:18:55.136Z"
   },
   {
    "duration": 9,
    "start_time": "2022-02-16T10:18:55.164Z"
   },
   {
    "duration": 57,
    "start_time": "2022-02-16T10:18:55.175Z"
   },
   {
    "duration": 11,
    "start_time": "2022-02-16T10:18:55.235Z"
   },
   {
    "duration": 16,
    "start_time": "2022-02-16T10:18:55.251Z"
   },
   {
    "duration": 12,
    "start_time": "2022-02-16T10:18:55.270Z"
   },
   {
    "duration": 13,
    "start_time": "2022-02-16T10:18:55.284Z"
   },
   {
    "duration": 11,
    "start_time": "2022-02-16T10:18:55.332Z"
   },
   {
    "duration": 19,
    "start_time": "2022-02-16T10:18:55.345Z"
   },
   {
    "duration": 696,
    "start_time": "2022-02-16T10:18:55.367Z"
   },
   {
    "duration": 726,
    "start_time": "2022-02-16T10:18:56.066Z"
   },
   {
    "duration": 339,
    "start_time": "2022-02-16T10:18:56.795Z"
   },
   {
    "duration": -2592,
    "start_time": "2022-02-16T10:18:59.729Z"
   },
   {
    "duration": 35,
    "start_time": "2022-02-16T10:19:31.773Z"
   },
   {
    "duration": 270,
    "start_time": "2022-02-16T10:19:47.682Z"
   },
   {
    "duration": 214,
    "start_time": "2022-02-16T10:20:04.404Z"
   },
   {
    "duration": 35,
    "start_time": "2022-02-16T10:23:22.912Z"
   },
   {
    "duration": 273,
    "start_time": "2022-02-16T10:39:33.602Z"
   },
   {
    "duration": 264,
    "start_time": "2022-02-16T10:42:05.874Z"
   },
   {
    "duration": 32891,
    "start_time": "2022-02-16T10:43:08.474Z"
   },
   {
    "duration": 827,
    "start_time": "2022-02-16T10:43:54.854Z"
   },
   {
    "duration": 48,
    "start_time": "2022-02-16T10:43:55.683Z"
   },
   {
    "duration": 26,
    "start_time": "2022-02-16T10:43:55.734Z"
   },
   {
    "duration": 41,
    "start_time": "2022-02-16T10:43:55.763Z"
   },
   {
    "duration": 25,
    "start_time": "2022-02-16T10:43:55.831Z"
   },
   {
    "duration": 9,
    "start_time": "2022-02-16T10:43:55.858Z"
   },
   {
    "duration": 28,
    "start_time": "2022-02-16T10:43:55.869Z"
   },
   {
    "duration": 13,
    "start_time": "2022-02-16T10:43:55.934Z"
   },
   {
    "duration": 19,
    "start_time": "2022-02-16T10:43:55.950Z"
   },
   {
    "duration": 13,
    "start_time": "2022-02-16T10:43:55.972Z"
   },
   {
    "duration": 48,
    "start_time": "2022-02-16T10:43:55.988Z"
   },
   {
    "duration": 14,
    "start_time": "2022-02-16T10:43:56.039Z"
   },
   {
    "duration": 11,
    "start_time": "2022-02-16T10:43:56.056Z"
   },
   {
    "duration": 685,
    "start_time": "2022-02-16T10:43:56.070Z"
   },
   {
    "duration": 721,
    "start_time": "2022-02-16T10:43:56.757Z"
   },
   {
    "duration": 98,
    "start_time": "2022-02-16T10:43:57.481Z"
   },
   {
    "duration": -1269,
    "start_time": "2022-02-16T10:43:58.850Z"
   },
   {
    "duration": 37,
    "start_time": "2022-02-16T10:44:16.918Z"
   },
   {
    "duration": 6751,
    "start_time": "2022-02-16T10:44:40.974Z"
   },
   {
    "duration": 570,
    "start_time": "2022-02-16T10:58:06.287Z"
   },
   {
    "duration": 453,
    "start_time": "2022-02-16T10:59:17.312Z"
   },
   {
    "duration": 4391,
    "start_time": "2022-02-16T10:59:44.561Z"
   },
   {
    "duration": 1354,
    "start_time": "2022-02-16T11:00:54.111Z"
   },
   {
    "duration": 605,
    "start_time": "2022-02-16T11:01:15.408Z"
   },
   {
    "duration": 1182,
    "start_time": "2022-02-16T11:04:00.893Z"
   },
   {
    "duration": 1694,
    "start_time": "2022-02-16T11:04:10.195Z"
   },
   {
    "duration": 319,
    "start_time": "2022-02-16T11:05:29.617Z"
   },
   {
    "duration": 340,
    "start_time": "2022-02-16T11:05:42.221Z"
   },
   {
    "duration": 127,
    "start_time": "2022-02-16T11:05:57.979Z"
   },
   {
    "duration": 721,
    "start_time": "2022-02-16T11:06:20.112Z"
   },
   {
    "duration": 1295,
    "start_time": "2022-02-16T11:06:43.420Z"
   },
   {
    "duration": 681,
    "start_time": "2022-02-16T11:07:13.200Z"
   },
   {
    "duration": 1425,
    "start_time": "2022-02-16T11:08:27.749Z"
   },
   {
    "duration": 301,
    "start_time": "2022-02-16T11:08:39.750Z"
   },
   {
    "duration": 1371,
    "start_time": "2022-02-16T11:09:14.221Z"
   },
   {
    "duration": 782,
    "start_time": "2022-02-16T11:09:42.053Z"
   },
   {
    "duration": 250,
    "start_time": "2022-02-16T11:10:02.806Z"
   },
   {
    "duration": 1232,
    "start_time": "2022-02-16T11:10:10.973Z"
   },
   {
    "duration": 1201,
    "start_time": "2022-02-16T11:10:37.655Z"
   },
   {
    "duration": 1192,
    "start_time": "2022-02-16T11:10:47.341Z"
   },
   {
    "duration": 1393,
    "start_time": "2022-02-16T11:13:21.818Z"
   },
   {
    "duration": 1459,
    "start_time": "2022-02-16T11:13:48.884Z"
   },
   {
    "duration": 1809,
    "start_time": "2022-02-16T11:14:27.969Z"
   },
   {
    "duration": 849,
    "start_time": "2022-02-16T11:35:29.322Z"
   },
   {
    "duration": 863,
    "start_time": "2022-02-16T11:37:52.477Z"
   },
   {
    "duration": 887,
    "start_time": "2022-02-16T11:38:21.403Z"
   },
   {
    "duration": 33,
    "start_time": "2022-02-16T11:51:46.535Z"
   },
   {
    "duration": 31,
    "start_time": "2022-02-16T11:52:05.109Z"
   },
   {
    "duration": 58,
    "start_time": "2022-02-16T11:53:32.057Z"
   },
   {
    "duration": 48,
    "start_time": "2022-02-16T12:59:19.322Z"
   },
   {
    "duration": 326,
    "start_time": "2022-02-16T13:18:52.331Z"
   },
   {
    "duration": 53,
    "start_time": "2022-02-16T13:19:58.438Z"
   },
   {
    "duration": 3053,
    "start_time": "2022-02-16T13:26:52.541Z"
   },
   {
    "duration": 2786,
    "start_time": "2022-02-16T13:28:47.771Z"
   },
   {
    "duration": 91,
    "start_time": "2022-02-16T13:30:46.325Z"
   },
   {
    "duration": 5027,
    "start_time": "2022-02-16T13:30:56.723Z"
   },
   {
    "duration": 4966,
    "start_time": "2022-02-16T13:31:18.891Z"
   },
   {
    "duration": 3223,
    "start_time": "2022-02-16T13:34:05.830Z"
   },
   {
    "duration": 4519,
    "start_time": "2022-02-16T13:34:24.514Z"
   },
   {
    "duration": 2867,
    "start_time": "2022-02-16T13:34:49.205Z"
   },
   {
    "duration": 8742,
    "start_time": "2022-02-16T13:35:58.912Z"
   },
   {
    "duration": 9011,
    "start_time": "2022-02-16T13:36:35.540Z"
   },
   {
    "duration": 2925,
    "start_time": "2022-02-16T13:36:53.815Z"
   },
   {
    "duration": 9101,
    "start_time": "2022-02-16T13:37:11.974Z"
   },
   {
    "duration": 9375,
    "start_time": "2022-02-16T13:37:36.496Z"
   },
   {
    "duration": 2943,
    "start_time": "2022-02-16T13:38:07.633Z"
   },
   {
    "duration": 2901,
    "start_time": "2022-02-16T13:38:36.072Z"
   },
   {
    "duration": 2839,
    "start_time": "2022-02-16T13:39:11.849Z"
   },
   {
    "duration": 8987,
    "start_time": "2022-02-16T13:39:46.372Z"
   },
   {
    "duration": 2709,
    "start_time": "2022-02-16T13:40:48.868Z"
   },
   {
    "duration": 3509,
    "start_time": "2022-02-16T13:41:19.023Z"
   },
   {
    "duration": 3445,
    "start_time": "2022-02-16T13:41:45.700Z"
   },
   {
    "duration": 2967,
    "start_time": "2022-02-16T13:42:27.597Z"
   },
   {
    "duration": 1554,
    "start_time": "2022-02-16T13:52:14.684Z"
   },
   {
    "duration": 46,
    "start_time": "2022-02-16T13:52:16.241Z"
   },
   {
    "duration": 26,
    "start_time": "2022-02-16T13:52:16.290Z"
   },
   {
    "duration": 39,
    "start_time": "2022-02-16T13:52:16.334Z"
   },
   {
    "duration": 25,
    "start_time": "2022-02-16T13:52:16.376Z"
   },
   {
    "duration": 35,
    "start_time": "2022-02-16T13:52:16.403Z"
   },
   {
    "duration": 26,
    "start_time": "2022-02-16T13:52:16.440Z"
   },
   {
    "duration": 11,
    "start_time": "2022-02-16T13:52:16.469Z"
   },
   {
    "duration": 52,
    "start_time": "2022-02-16T13:52:16.482Z"
   },
   {
    "duration": 10,
    "start_time": "2022-02-16T13:52:16.537Z"
   },
   {
    "duration": 12,
    "start_time": "2022-02-16T13:52:16.549Z"
   },
   {
    "duration": 11,
    "start_time": "2022-02-16T13:52:16.563Z"
   },
   {
    "duration": 8,
    "start_time": "2022-02-16T13:52:16.576Z"
   },
   {
    "duration": 680,
    "start_time": "2022-02-16T13:52:16.586Z"
   },
   {
    "duration": 708,
    "start_time": "2022-02-16T13:52:17.268Z"
   },
   {
    "duration": 1834,
    "start_time": "2022-02-16T13:52:17.978Z"
   },
   {
    "duration": 879,
    "start_time": "2022-02-16T13:52:19.815Z"
   },
   {
    "duration": 95,
    "start_time": "2022-02-16T13:52:20.696Z"
   },
   {
    "duration": 91,
    "start_time": "2022-02-16T13:52:27.558Z"
   },
   {
    "duration": 81,
    "start_time": "2022-02-16T13:52:38.324Z"
   },
   {
    "duration": 3390,
    "start_time": "2022-02-16T13:52:56.843Z"
   },
   {
    "duration": 3470,
    "start_time": "2022-02-16T13:53:17.862Z"
   },
   {
    "duration": 3122,
    "start_time": "2022-02-16T13:53:32.156Z"
   },
   {
    "duration": 2952,
    "start_time": "2022-02-16T13:53:50.217Z"
   },
   {
    "duration": 2981,
    "start_time": "2022-02-16T13:54:08.011Z"
   },
   {
    "duration": 2823,
    "start_time": "2022-02-16T13:54:22.586Z"
   },
   {
    "duration": 324,
    "start_time": "2022-02-16T18:59:40.099Z"
   },
   {
    "duration": 1460,
    "start_time": "2022-02-16T18:59:49.641Z"
   },
   {
    "duration": 52,
    "start_time": "2022-02-16T18:59:51.104Z"
   },
   {
    "duration": 24,
    "start_time": "2022-02-16T18:59:51.158Z"
   },
   {
    "duration": 60,
    "start_time": "2022-02-16T18:59:51.185Z"
   },
   {
    "duration": 34,
    "start_time": "2022-02-16T18:59:51.248Z"
   },
   {
    "duration": 9,
    "start_time": "2022-02-16T18:59:51.284Z"
   },
   {
    "duration": 47,
    "start_time": "2022-02-16T18:59:51.295Z"
   },
   {
    "duration": 11,
    "start_time": "2022-02-16T18:59:51.346Z"
   },
   {
    "duration": 23,
    "start_time": "2022-02-16T18:59:51.360Z"
   },
   {
    "duration": 11,
    "start_time": "2022-02-16T18:59:51.386Z"
   },
   {
    "duration": 39,
    "start_time": "2022-02-16T18:59:51.400Z"
   },
   {
    "duration": 13,
    "start_time": "2022-02-16T18:59:51.441Z"
   },
   {
    "duration": 9,
    "start_time": "2022-02-16T18:59:51.456Z"
   },
   {
    "duration": 690,
    "start_time": "2022-02-16T18:59:51.468Z"
   },
   {
    "duration": 711,
    "start_time": "2022-02-16T18:59:52.161Z"
   },
   {
    "duration": 1648,
    "start_time": "2022-02-16T18:59:52.874Z"
   },
   {
    "duration": 964,
    "start_time": "2022-02-16T18:59:54.525Z"
   },
   {
    "duration": 3386,
    "start_time": "2022-02-16T18:59:55.491Z"
   },
   {
    "duration": 43,
    "start_time": "2022-02-16T19:02:00.305Z"
   },
   {
    "duration": 86,
    "start_time": "2022-02-16T19:06:24.108Z"
   },
   {
    "duration": 56,
    "start_time": "2022-02-16T19:06:46.980Z"
   },
   {
    "duration": 2815,
    "start_time": "2022-02-16T19:07:17.023Z"
   },
   {
    "duration": 2898,
    "start_time": "2022-02-16T19:07:35.435Z"
   },
   {
    "duration": 1426,
    "start_time": "2022-02-16T19:11:08.884Z"
   },
   {
    "duration": 47,
    "start_time": "2022-02-16T19:11:10.313Z"
   },
   {
    "duration": 26,
    "start_time": "2022-02-16T19:11:10.363Z"
   },
   {
    "duration": 61,
    "start_time": "2022-02-16T19:11:10.392Z"
   },
   {
    "duration": 27,
    "start_time": "2022-02-16T19:11:10.455Z"
   },
   {
    "duration": 9,
    "start_time": "2022-02-16T19:11:10.485Z"
   },
   {
    "duration": 57,
    "start_time": "2022-02-16T19:11:10.497Z"
   },
   {
    "duration": 12,
    "start_time": "2022-02-16T19:11:10.558Z"
   },
   {
    "duration": 25,
    "start_time": "2022-02-16T19:11:10.573Z"
   },
   {
    "duration": 35,
    "start_time": "2022-02-16T19:11:10.600Z"
   },
   {
    "duration": 9,
    "start_time": "2022-02-16T19:11:10.637Z"
   },
   {
    "duration": 13,
    "start_time": "2022-02-16T19:11:10.649Z"
   },
   {
    "duration": 10,
    "start_time": "2022-02-16T19:11:10.665Z"
   },
   {
    "duration": 837,
    "start_time": "2022-02-16T19:11:10.677Z"
   },
   {
    "duration": 755,
    "start_time": "2022-02-16T19:11:11.516Z"
   },
   {
    "duration": 1737,
    "start_time": "2022-02-16T19:11:12.274Z"
   },
   {
    "duration": 914,
    "start_time": "2022-02-16T19:11:14.013Z"
   },
   {
    "duration": 2980,
    "start_time": "2022-02-16T19:11:20.753Z"
   },
   {
    "duration": 1638,
    "start_time": "2022-02-16T19:16:06.355Z"
   },
   {
    "duration": 65,
    "start_time": "2022-02-16T19:16:07.996Z"
   },
   {
    "duration": 38,
    "start_time": "2022-02-16T19:16:08.066Z"
   },
   {
    "duration": 57,
    "start_time": "2022-02-16T19:16:08.108Z"
   },
   {
    "duration": 28,
    "start_time": "2022-02-16T19:16:08.167Z"
   },
   {
    "duration": 9,
    "start_time": "2022-02-16T19:16:08.197Z"
   },
   {
    "duration": 46,
    "start_time": "2022-02-16T19:16:08.208Z"
   },
   {
    "duration": 10,
    "start_time": "2022-02-16T19:16:08.257Z"
   },
   {
    "duration": 27,
    "start_time": "2022-02-16T19:16:08.271Z"
   },
   {
    "duration": 13,
    "start_time": "2022-02-16T19:16:08.332Z"
   },
   {
    "duration": 12,
    "start_time": "2022-02-16T19:16:08.348Z"
   },
   {
    "duration": 13,
    "start_time": "2022-02-16T19:16:08.364Z"
   },
   {
    "duration": 69,
    "start_time": "2022-02-16T19:16:08.379Z"
   },
   {
    "duration": 727,
    "start_time": "2022-02-16T19:16:08.469Z"
   },
   {
    "duration": 747,
    "start_time": "2022-02-16T19:16:09.198Z"
   },
   {
    "duration": 1695,
    "start_time": "2022-02-16T19:16:09.947Z"
   },
   {
    "duration": 881,
    "start_time": "2022-02-16T19:16:11.646Z"
   },
   {
    "duration": 3487,
    "start_time": "2022-02-16T19:16:12.532Z"
   },
   {
    "duration": 1466,
    "start_time": "2022-02-16T19:21:39.059Z"
   },
   {
    "duration": 47,
    "start_time": "2022-02-16T19:21:40.529Z"
   },
   {
    "duration": 28,
    "start_time": "2022-02-16T19:21:40.579Z"
   },
   {
    "duration": 55,
    "start_time": "2022-02-16T19:21:40.611Z"
   },
   {
    "duration": 25,
    "start_time": "2022-02-16T19:21:40.669Z"
   },
   {
    "duration": 37,
    "start_time": "2022-02-16T19:21:40.696Z"
   },
   {
    "duration": 23,
    "start_time": "2022-02-16T19:21:40.736Z"
   },
   {
    "duration": 10,
    "start_time": "2022-02-16T19:21:40.762Z"
   },
   {
    "duration": 17,
    "start_time": "2022-02-16T19:21:40.774Z"
   },
   {
    "duration": 47,
    "start_time": "2022-02-16T19:21:40.793Z"
   },
   {
    "duration": 8,
    "start_time": "2022-02-16T19:21:40.843Z"
   },
   {
    "duration": 11,
    "start_time": "2022-02-16T19:21:40.853Z"
   },
   {
    "duration": 12,
    "start_time": "2022-02-16T19:21:40.867Z"
   },
   {
    "duration": 869,
    "start_time": "2022-02-16T19:21:40.883Z"
   },
   {
    "duration": 767,
    "start_time": "2022-02-16T19:21:41.754Z"
   },
   {
    "duration": 1691,
    "start_time": "2022-02-16T19:21:42.523Z"
   },
   {
    "duration": 918,
    "start_time": "2022-02-16T19:21:44.217Z"
   },
   {
    "duration": 1517,
    "start_time": "2022-02-16T19:26:20.540Z"
   },
   {
    "duration": 46,
    "start_time": "2022-02-16T19:26:22.059Z"
   },
   {
    "duration": 36,
    "start_time": "2022-02-16T19:26:22.109Z"
   },
   {
    "duration": 40,
    "start_time": "2022-02-16T19:26:22.148Z"
   },
   {
    "duration": 52,
    "start_time": "2022-02-16T19:26:22.191Z"
   },
   {
    "duration": 9,
    "start_time": "2022-02-16T19:26:22.246Z"
   },
   {
    "duration": 28,
    "start_time": "2022-02-16T19:26:22.258Z"
   },
   {
    "duration": 45,
    "start_time": "2022-02-16T19:26:22.289Z"
   },
   {
    "duration": 19,
    "start_time": "2022-02-16T19:26:22.337Z"
   },
   {
    "duration": 16,
    "start_time": "2022-02-16T19:26:22.359Z"
   },
   {
    "duration": 13,
    "start_time": "2022-02-16T19:26:22.378Z"
   },
   {
    "duration": 53,
    "start_time": "2022-02-16T19:26:22.394Z"
   },
   {
    "duration": 12,
    "start_time": "2022-02-16T19:26:22.450Z"
   },
   {
    "duration": 825,
    "start_time": "2022-02-16T19:26:22.465Z"
   },
   {
    "duration": 758,
    "start_time": "2022-02-16T19:26:23.292Z"
   },
   {
    "duration": 1728,
    "start_time": "2022-02-16T19:26:24.053Z"
   },
   {
    "duration": 1191,
    "start_time": "2022-02-16T19:26:25.784Z"
   },
   {
    "duration": 4773,
    "start_time": "2022-02-16T19:26:26.979Z"
   },
   {
    "duration": 3185,
    "start_time": "2022-02-16T19:28:03.883Z"
   },
   {
    "duration": 2796,
    "start_time": "2022-02-16T19:32:15.886Z"
   },
   {
    "duration": 2885,
    "start_time": "2022-02-16T19:32:31.618Z"
   },
   {
    "duration": 20668,
    "start_time": "2022-02-16T19:32:49.782Z"
   },
   {
    "duration": 9498,
    "start_time": "2022-02-16T19:34:05.734Z"
   },
   {
    "duration": 4999,
    "start_time": "2022-02-16T19:35:59.215Z"
   },
   {
    "duration": 5410,
    "start_time": "2022-02-16T19:37:24.454Z"
   },
   {
    "duration": 5269,
    "start_time": "2022-02-16T19:38:12.387Z"
   },
   {
    "duration": 4024,
    "start_time": "2022-02-16T19:39:31.631Z"
   },
   {
    "duration": 10,
    "start_time": "2022-02-16T19:49:39.979Z"
   },
   {
    "duration": 18,
    "start_time": "2022-02-16T19:49:53.775Z"
   },
   {
    "duration": 361,
    "start_time": "2022-02-16T19:50:31.199Z"
   },
   {
    "duration": 875,
    "start_time": "2022-02-16T19:50:51.512Z"
   },
   {
    "duration": 776,
    "start_time": "2022-02-16T19:50:59.202Z"
   },
   {
    "duration": 850,
    "start_time": "2022-02-16T19:51:10.727Z"
   },
   {
    "duration": 239,
    "start_time": "2022-02-16T19:52:24.005Z"
   },
   {
    "duration": 784,
    "start_time": "2022-02-16T19:53:12.601Z"
   },
   {
    "duration": 954,
    "start_time": "2022-02-16T19:53:38.136Z"
   },
   {
    "duration": 875,
    "start_time": "2022-02-16T19:54:00.134Z"
   },
   {
    "duration": 794,
    "start_time": "2022-02-16T19:57:22.121Z"
   },
   {
    "duration": 245,
    "start_time": "2022-02-16T20:05:22.468Z"
   },
   {
    "duration": 494,
    "start_time": "2022-02-16T20:05:50.814Z"
   },
   {
    "duration": 8,
    "start_time": "2022-02-16T20:06:24.455Z"
   },
   {
    "duration": 269,
    "start_time": "2022-02-16T20:07:06.294Z"
   },
   {
    "duration": 997,
    "start_time": "2022-02-16T20:07:15.449Z"
   },
   {
    "duration": 1060,
    "start_time": "2022-02-16T20:07:27.261Z"
   },
   {
    "duration": 671,
    "start_time": "2022-02-16T20:09:25.578Z"
   },
   {
    "duration": 1128,
    "start_time": "2022-02-16T20:11:52.274Z"
   },
   {
    "duration": 768,
    "start_time": "2022-02-16T20:12:16.541Z"
   },
   {
    "duration": 1376,
    "start_time": "2022-02-16T20:12:27.167Z"
   },
   {
    "duration": 693,
    "start_time": "2022-02-16T20:12:50.545Z"
   },
   {
    "duration": 1051,
    "start_time": "2022-02-16T20:13:10.938Z"
   },
   {
    "duration": 754,
    "start_time": "2022-02-16T20:13:29.516Z"
   },
   {
    "duration": 316,
    "start_time": "2022-02-16T20:14:18.228Z"
   },
   {
    "duration": 620,
    "start_time": "2022-02-16T20:15:08.818Z"
   },
   {
    "duration": 1027,
    "start_time": "2022-02-16T20:16:36.314Z"
   },
   {
    "duration": 1016,
    "start_time": "2022-02-16T20:17:28.556Z"
   },
   {
    "duration": 889,
    "start_time": "2022-02-16T20:17:45.792Z"
   },
   {
    "duration": 1029,
    "start_time": "2022-02-16T20:18:32.182Z"
   },
   {
    "duration": 1570,
    "start_time": "2022-02-16T20:19:06.404Z"
   },
   {
    "duration": 949,
    "start_time": "2022-02-16T20:19:28.403Z"
   },
   {
    "duration": 874,
    "start_time": "2022-02-16T20:25:14.990Z"
   },
   {
    "duration": 1231,
    "start_time": "2022-02-16T20:27:58.183Z"
   },
   {
    "duration": 281,
    "start_time": "2022-02-16T20:28:19.329Z"
   },
   {
    "duration": 259,
    "start_time": "2022-02-16T20:28:48.799Z"
   },
   {
    "duration": 434,
    "start_time": "2022-02-16T20:28:59.465Z"
   },
   {
    "duration": 925,
    "start_time": "2022-02-16T20:31:36.265Z"
   },
   {
    "duration": 27,
    "start_time": "2022-02-16T20:37:33.242Z"
   },
   {
    "duration": 153,
    "start_time": "2022-02-16T20:37:48.125Z"
   },
   {
    "duration": 40,
    "start_time": "2022-02-16T20:38:19.046Z"
   },
   {
    "duration": 431,
    "start_time": "2022-02-16T20:38:38.062Z"
   },
   {
    "duration": 436,
    "start_time": "2022-02-16T20:39:32.506Z"
   },
   {
    "duration": 424,
    "start_time": "2022-02-16T20:39:41.661Z"
   },
   {
    "duration": 460,
    "start_time": "2022-02-16T20:41:04.139Z"
   },
   {
    "duration": 268,
    "start_time": "2022-02-16T20:44:31.729Z"
   },
   {
    "duration": 28,
    "start_time": "2022-02-16T20:44:44.530Z"
   },
   {
    "duration": 38,
    "start_time": "2022-02-16T20:44:48.578Z"
   },
   {
    "duration": 40,
    "start_time": "2022-02-16T20:45:03.370Z"
   },
   {
    "duration": 263,
    "start_time": "2022-02-16T20:45:25.114Z"
   },
   {
    "duration": 29,
    "start_time": "2022-02-16T20:45:45.705Z"
   },
   {
    "duration": 49,
    "start_time": "2022-02-16T20:45:51.105Z"
   },
   {
    "duration": 39,
    "start_time": "2022-02-16T20:46:10.524Z"
   },
   {
    "duration": 39,
    "start_time": "2022-02-16T20:46:43.387Z"
   },
   {
    "duration": 55,
    "start_time": "2022-02-16T20:47:03.751Z"
   },
   {
    "duration": 596,
    "start_time": "2022-02-16T20:47:25.091Z"
   },
   {
    "duration": 592,
    "start_time": "2022-02-16T20:47:28.977Z"
   },
   {
    "duration": 452,
    "start_time": "2022-02-16T20:48:13.180Z"
   },
   {
    "duration": 8,
    "start_time": "2022-02-16T20:55:51.015Z"
   },
   {
    "duration": 7,
    "start_time": "2022-02-16T20:55:58.971Z"
   },
   {
    "duration": 10,
    "start_time": "2022-02-16T20:59:39.771Z"
   },
   {
    "duration": 7,
    "start_time": "2022-02-16T20:59:52.717Z"
   },
   {
    "duration": 5,
    "start_time": "2022-02-16T21:00:26.627Z"
   },
   {
    "duration": 4,
    "start_time": "2022-02-16T21:01:46.398Z"
   },
   {
    "duration": 5,
    "start_time": "2022-02-16T21:01:51.755Z"
   },
   {
    "duration": 9,
    "start_time": "2022-02-16T21:02:01.863Z"
   },
   {
    "duration": 7,
    "start_time": "2022-02-16T21:02:05.607Z"
   },
   {
    "duration": 6,
    "start_time": "2022-02-16T21:02:09.856Z"
   },
   {
    "duration": 10,
    "start_time": "2022-02-16T21:02:44.925Z"
   },
   {
    "duration": 14,
    "start_time": "2022-02-16T21:03:01.978Z"
   },
   {
    "duration": 354,
    "start_time": "2022-02-16T21:03:20.643Z"
   },
   {
    "duration": 360,
    "start_time": "2022-02-16T21:03:28.972Z"
   },
   {
    "duration": 450,
    "start_time": "2022-02-16T21:06:03.537Z"
   },
   {
    "duration": 6,
    "start_time": "2022-02-16T21:13:25.007Z"
   },
   {
    "duration": 1214,
    "start_time": "2022-02-17T06:34:23.200Z"
   },
   {
    "duration": 35,
    "start_time": "2022-02-17T06:34:24.416Z"
   },
   {
    "duration": 20,
    "start_time": "2022-02-17T06:34:24.453Z"
   },
   {
    "duration": 49,
    "start_time": "2022-02-17T06:34:24.476Z"
   },
   {
    "duration": 21,
    "start_time": "2022-02-17T06:34:24.527Z"
   },
   {
    "duration": 8,
    "start_time": "2022-02-17T06:34:24.549Z"
   },
   {
    "duration": 21,
    "start_time": "2022-02-17T06:34:24.559Z"
   },
   {
    "duration": 35,
    "start_time": "2022-02-17T06:34:24.584Z"
   },
   {
    "duration": 18,
    "start_time": "2022-02-17T06:34:24.622Z"
   },
   {
    "duration": 32,
    "start_time": "2022-02-17T06:34:24.642Z"
   },
   {
    "duration": 11,
    "start_time": "2022-02-17T06:34:24.675Z"
   },
   {
    "duration": 16,
    "start_time": "2022-02-17T06:34:24.688Z"
   },
   {
    "duration": 18,
    "start_time": "2022-02-17T06:34:24.705Z"
   },
   {
    "duration": 12,
    "start_time": "2022-02-17T06:34:24.725Z"
   },
   {
    "duration": 385,
    "start_time": "2022-02-17T06:34:24.739Z"
   },
   {
    "duration": 467,
    "start_time": "2022-02-17T06:34:25.126Z"
   },
   {
    "duration": 1002,
    "start_time": "2022-02-17T06:34:25.595Z"
   },
   {
    "duration": 638,
    "start_time": "2022-02-17T06:34:26.599Z"
   },
   {
    "duration": 2132,
    "start_time": "2022-02-17T06:34:27.239Z"
   },
   {
    "duration": 474,
    "start_time": "2022-02-17T06:34:29.373Z"
   },
   {
    "duration": 327,
    "start_time": "2022-02-17T06:34:29.849Z"
   },
   {
    "duration": 274,
    "start_time": "2022-02-17T06:34:30.178Z"
   },
   {
    "duration": 296,
    "start_time": "2022-02-17T06:34:30.455Z"
   },
   {
    "duration": 6359,
    "start_time": "2022-02-17T07:33:46.663Z"
   },
   {
    "duration": 7198,
    "start_time": "2022-02-17T07:33:58.210Z"
   },
   {
    "duration": 3816,
    "start_time": "2022-02-17T07:34:24.368Z"
   },
   {
    "duration": 299,
    "start_time": "2022-02-17T07:37:55.985Z"
   },
   {
    "duration": 243,
    "start_time": "2022-02-17T07:38:17.258Z"
   },
   {
    "duration": 250,
    "start_time": "2022-02-17T07:38:25.023Z"
   },
   {
    "duration": 124,
    "start_time": "2022-02-17T07:39:04.162Z"
   },
   {
    "duration": 6,
    "start_time": "2022-02-17T07:39:15.391Z"
   },
   {
    "duration": 7,
    "start_time": "2022-02-17T07:39:51.133Z"
   },
   {
    "duration": 6,
    "start_time": "2022-02-17T07:40:48.140Z"
   },
   {
    "duration": 24,
    "start_time": "2022-02-17T07:40:52.027Z"
   },
   {
    "duration": 9,
    "start_time": "2022-02-17T07:41:07.391Z"
   },
   {
    "duration": 17,
    "start_time": "2022-02-17T07:41:19.592Z"
   },
   {
    "duration": 9,
    "start_time": "2022-02-17T07:41:36.591Z"
   },
   {
    "duration": 9,
    "start_time": "2022-02-17T07:42:15.233Z"
   },
   {
    "duration": 13,
    "start_time": "2022-02-17T07:44:03.565Z"
   },
   {
    "duration": 11,
    "start_time": "2022-02-17T07:44:11.115Z"
   },
   {
    "duration": 259,
    "start_time": "2022-02-17T07:46:44.272Z"
   },
   {
    "duration": 3,
    "start_time": "2022-02-17T07:51:18.734Z"
   },
   {
    "duration": 12,
    "start_time": "2022-02-17T07:51:24.923Z"
   },
   {
    "duration": 14,
    "start_time": "2022-02-17T07:51:48.610Z"
   },
   {
    "duration": 15,
    "start_time": "2022-02-17T07:52:10.407Z"
   },
   {
    "duration": 13,
    "start_time": "2022-02-17T07:52:14.885Z"
   },
   {
    "duration": 272,
    "start_time": "2022-02-17T08:08:10.855Z"
   },
   {
    "duration": 5,
    "start_time": "2022-02-17T08:08:21.338Z"
   },
   {
    "duration": 6,
    "start_time": "2022-02-17T08:11:01.875Z"
   },
   {
    "duration": 13,
    "start_time": "2022-02-17T08:14:39.972Z"
   },
   {
    "duration": 15,
    "start_time": "2022-02-17T08:14:54.700Z"
   },
   {
    "duration": 14,
    "start_time": "2022-02-17T08:15:05.073Z"
   },
   {
    "duration": 11,
    "start_time": "2022-02-17T08:15:12.398Z"
   },
   {
    "duration": 13,
    "start_time": "2022-02-17T08:15:17.843Z"
   },
   {
    "duration": 7,
    "start_time": "2022-02-17T08:16:05.728Z"
   },
   {
    "duration": 6,
    "start_time": "2022-02-17T08:16:09.046Z"
   },
   {
    "duration": 5,
    "start_time": "2022-02-17T08:16:16.195Z"
   },
   {
    "duration": 1003,
    "start_time": "2022-02-17T10:24:53.671Z"
   },
   {
    "duration": 1136,
    "start_time": "2022-02-17T12:53:17.592Z"
   },
   {
    "duration": 212,
    "start_time": "2022-02-17T12:53:31.512Z"
   },
   {
    "duration": 1653,
    "start_time": "2022-02-17T12:53:39.959Z"
   },
   {
    "duration": 43,
    "start_time": "2022-02-17T12:53:41.614Z"
   },
   {
    "duration": 21,
    "start_time": "2022-02-17T12:53:41.660Z"
   },
   {
    "duration": 58,
    "start_time": "2022-02-17T12:53:41.683Z"
   },
   {
    "duration": 36,
    "start_time": "2022-02-17T12:53:41.743Z"
   },
   {
    "duration": 8,
    "start_time": "2022-02-17T12:53:41.781Z"
   },
   {
    "duration": 25,
    "start_time": "2022-02-17T12:53:41.791Z"
   },
   {
    "duration": 10,
    "start_time": "2022-02-17T12:53:41.819Z"
   },
   {
    "duration": 16,
    "start_time": "2022-02-17T12:53:41.831Z"
   },
   {
    "duration": 15,
    "start_time": "2022-02-17T12:53:41.849Z"
   },
   {
    "duration": 7,
    "start_time": "2022-02-17T12:53:41.866Z"
   },
   {
    "duration": 14,
    "start_time": "2022-02-17T12:53:41.875Z"
   },
   {
    "duration": 14,
    "start_time": "2022-02-17T12:53:41.891Z"
   },
   {
    "duration": 11,
    "start_time": "2022-02-17T12:53:41.907Z"
   },
   {
    "duration": 459,
    "start_time": "2022-02-17T12:53:41.920Z"
   },
   {
    "duration": 484,
    "start_time": "2022-02-17T12:53:42.381Z"
   },
   {
    "duration": 1241,
    "start_time": "2022-02-17T12:53:42.867Z"
   },
   {
    "duration": 142,
    "start_time": "2022-02-17T12:53:44.110Z"
   },
   {
    "duration": -1232,
    "start_time": "2022-02-17T12:53:45.486Z"
   },
   {
    "duration": -1238,
    "start_time": "2022-02-17T12:53:45.493Z"
   },
   {
    "duration": -1248,
    "start_time": "2022-02-17T12:53:45.504Z"
   },
   {
    "duration": -1257,
    "start_time": "2022-02-17T12:53:45.514Z"
   },
   {
    "duration": -1260,
    "start_time": "2022-02-17T12:53:45.518Z"
   },
   {
    "duration": -1267,
    "start_time": "2022-02-17T12:53:45.526Z"
   },
   {
    "duration": -1270,
    "start_time": "2022-02-17T12:53:45.530Z"
   },
   {
    "duration": -1272,
    "start_time": "2022-02-17T12:53:45.533Z"
   },
   {
    "duration": -1297,
    "start_time": "2022-02-17T12:53:45.559Z"
   },
   {
    "duration": 114,
    "start_time": "2022-02-17T12:54:06.155Z"
   },
   {
    "duration": 112,
    "start_time": "2022-02-17T12:54:18.141Z"
   },
   {
    "duration": 113,
    "start_time": "2022-02-17T12:54:54.608Z"
   },
   {
    "duration": 510,
    "start_time": "2022-02-17T12:55:54.900Z"
   },
   {
    "duration": 22,
    "start_time": "2022-02-17T12:56:12.122Z"
   },
   {
    "duration": 8,
    "start_time": "2022-02-17T12:56:43.164Z"
   },
   {
    "duration": 99,
    "start_time": "2022-02-17T12:57:02.073Z"
   },
   {
    "duration": 261,
    "start_time": "2022-02-17T12:57:06.629Z"
   },
   {
    "duration": 309,
    "start_time": "2022-02-17T12:57:44.023Z"
   },
   {
    "duration": 9,
    "start_time": "2022-02-17T12:57:51.180Z"
   },
   {
    "duration": 475,
    "start_time": "2022-02-17T12:59:00.067Z"
   },
   {
    "duration": 9,
    "start_time": "2022-02-17T12:59:07.595Z"
   },
   {
    "duration": 10,
    "start_time": "2022-02-17T12:59:18.587Z"
   },
   {
    "duration": 11,
    "start_time": "2022-02-17T13:00:20.362Z"
   },
   {
    "duration": 536,
    "start_time": "2022-02-17T13:00:34.112Z"
   },
   {
    "duration": 7193,
    "start_time": "2022-02-17T13:01:41.500Z"
   },
   {
    "duration": 306,
    "start_time": "2022-02-17T13:02:46.259Z"
   },
   {
    "duration": 382,
    "start_time": "2022-02-17T13:03:15.490Z"
   },
   {
    "duration": 288,
    "start_time": "2022-02-17T13:03:26.578Z"
   },
   {
    "duration": 277,
    "start_time": "2022-02-17T13:04:08.838Z"
   },
   {
    "duration": 634,
    "start_time": "2022-02-17T13:04:14.889Z"
   },
   {
    "duration": 11043,
    "start_time": "2022-02-17T13:05:31.401Z"
   },
   {
    "duration": 13,
    "start_time": "2022-02-17T13:05:49.655Z"
   },
   {
    "duration": 7019,
    "start_time": "2022-02-17T13:06:11.138Z"
   },
   {
    "duration": 6380,
    "start_time": "2022-02-17T13:06:24.750Z"
   },
   {
    "duration": 16,
    "start_time": "2022-02-17T13:06:40.882Z"
   },
   {
    "duration": 552,
    "start_time": "2022-02-17T13:07:01.169Z"
   },
   {
    "duration": 4,
    "start_time": "2022-02-17T13:08:05.388Z"
   },
   {
    "duration": 591,
    "start_time": "2022-02-17T13:08:21.004Z"
   },
   {
    "duration": 241,
    "start_time": "2022-02-17T13:09:43.662Z"
   },
   {
    "duration": 622,
    "start_time": "2022-02-17T13:13:50.173Z"
   },
   {
    "duration": 660,
    "start_time": "2022-02-17T13:14:55.187Z"
   },
   {
    "duration": 940,
    "start_time": "2022-02-17T13:15:31.902Z"
   },
   {
    "duration": 562,
    "start_time": "2022-02-17T13:15:48.752Z"
   },
   {
    "duration": 626,
    "start_time": "2022-02-17T13:16:01.802Z"
   },
   {
    "duration": 578,
    "start_time": "2022-02-17T13:16:49.868Z"
   },
   {
    "duration": 10832,
    "start_time": "2022-02-17T13:17:09.733Z"
   },
   {
    "duration": 584,
    "start_time": "2022-02-17T13:17:30.311Z"
   },
   {
    "duration": 598,
    "start_time": "2022-02-17T13:17:46.666Z"
   },
   {
    "duration": 663,
    "start_time": "2022-02-17T13:18:01.198Z"
   },
   {
    "duration": 590,
    "start_time": "2022-02-17T13:19:26.931Z"
   },
   {
    "duration": 644,
    "start_time": "2022-02-17T13:20:14.414Z"
   },
   {
    "duration": 594,
    "start_time": "2022-02-17T13:20:48.342Z"
   },
   {
    "duration": 418,
    "start_time": "2022-02-17T13:22:18.022Z"
   },
   {
    "duration": 140,
    "start_time": "2022-02-17T13:22:30.206Z"
   },
   {
    "duration": 125,
    "start_time": "2022-02-17T13:22:50.828Z"
   },
   {
    "duration": 81,
    "start_time": "2022-02-17T13:23:14.888Z"
   },
   {
    "duration": 228,
    "start_time": "2022-02-17T13:23:23.281Z"
   },
   {
    "duration": 258,
    "start_time": "2022-02-17T13:23:41.702Z"
   },
   {
    "duration": 630,
    "start_time": "2022-02-17T13:24:00.788Z"
   },
   {
    "duration": 733,
    "start_time": "2022-02-17T13:24:14.307Z"
   },
   {
    "duration": 637,
    "start_time": "2022-02-17T13:24:28.890Z"
   },
   {
    "duration": 638,
    "start_time": "2022-02-17T13:24:58.915Z"
   },
   {
    "duration": 578,
    "start_time": "2022-02-17T13:25:17.350Z"
   },
   {
    "duration": 251,
    "start_time": "2022-02-17T13:33:07.898Z"
   },
   {
    "duration": 266,
    "start_time": "2022-02-17T13:33:23.602Z"
   },
   {
    "duration": 13,
    "start_time": "2022-02-17T13:33:59.831Z"
   },
   {
    "duration": 12,
    "start_time": "2022-02-17T13:34:17.760Z"
   },
   {
    "duration": 12,
    "start_time": "2022-02-17T13:34:33.765Z"
   },
   {
    "duration": 12,
    "start_time": "2022-02-17T13:34:52.025Z"
   },
   {
    "duration": 274,
    "start_time": "2022-02-17T13:35:13.784Z"
   },
   {
    "duration": 263,
    "start_time": "2022-02-17T13:36:25.221Z"
   },
   {
    "duration": 7,
    "start_time": "2022-02-17T13:37:01.861Z"
   },
   {
    "duration": 449,
    "start_time": "2022-02-17T13:37:53.774Z"
   },
   {
    "duration": 8,
    "start_time": "2022-02-17T13:38:16.643Z"
   },
   {
    "duration": 518,
    "start_time": "2022-02-17T13:38:19.722Z"
   },
   {
    "duration": 11,
    "start_time": "2022-02-17T13:39:34.604Z"
   },
   {
    "duration": 12,
    "start_time": "2022-02-17T13:40:12.150Z"
   },
   {
    "duration": 11,
    "start_time": "2022-02-17T13:40:50.797Z"
   },
   {
    "duration": 7,
    "start_time": "2022-02-17T13:41:07.352Z"
   },
   {
    "duration": 10,
    "start_time": "2022-02-17T13:41:13.181Z"
   },
   {
    "duration": 528,
    "start_time": "2022-02-17T13:41:34.962Z"
   },
   {
    "duration": 11,
    "start_time": "2022-02-17T13:41:38.640Z"
   },
   {
    "duration": 822,
    "start_time": "2022-02-17T13:41:39.867Z"
   },
   {
    "duration": 451,
    "start_time": "2022-02-17T13:42:42.178Z"
   },
   {
    "duration": 2875,
    "start_time": "2022-02-17T13:43:48.653Z"
   },
   {
    "duration": 3084,
    "start_time": "2022-02-17T13:44:15.096Z"
   },
   {
    "duration": 3182,
    "start_time": "2022-02-17T13:45:03.579Z"
   },
   {
    "duration": 89,
    "start_time": "2022-02-17T13:47:07.792Z"
   },
   {
    "duration": 4,
    "start_time": "2022-02-17T13:47:15.308Z"
   },
   {
    "duration": 3022,
    "start_time": "2022-02-17T13:47:25.412Z"
   },
   {
    "duration": 2037,
    "start_time": "2022-02-17T13:48:04.090Z"
   },
   {
    "duration": 2192,
    "start_time": "2022-02-17T13:48:54.404Z"
   },
   {
    "duration": 271,
    "start_time": "2022-02-17T16:03:49.160Z"
   },
   {
    "duration": 440,
    "start_time": "2022-02-17T16:04:21.787Z"
   },
   {
    "duration": 423,
    "start_time": "2022-02-17T16:04:56.893Z"
   },
   {
    "duration": 6191,
    "start_time": "2022-02-17T16:05:16.759Z"
   },
   {
    "duration": 6737,
    "start_time": "2022-02-17T16:05:46.656Z"
   },
   {
    "duration": 1473,
    "start_time": "2022-02-18T08:54:52.065Z"
   },
   {
    "duration": 45,
    "start_time": "2022-02-18T08:54:53.540Z"
   },
   {
    "duration": 28,
    "start_time": "2022-02-18T08:54:53.588Z"
   },
   {
    "duration": 62,
    "start_time": "2022-02-18T08:54:53.618Z"
   },
   {
    "duration": 24,
    "start_time": "2022-02-18T08:54:53.682Z"
   },
   {
    "duration": 41,
    "start_time": "2022-02-18T08:54:53.709Z"
   },
   {
    "duration": 13631,
    "start_time": "2022-02-18T08:54:53.754Z"
   },
   {
    "duration": -767,
    "start_time": "2022-02-18T08:55:08.156Z"
   },
   {
    "duration": -770,
    "start_time": "2022-02-18T08:55:08.161Z"
   },
   {
    "duration": -777,
    "start_time": "2022-02-18T08:55:08.169Z"
   },
   {
    "duration": -782,
    "start_time": "2022-02-18T08:55:08.176Z"
   },
   {
    "duration": -785,
    "start_time": "2022-02-18T08:55:08.180Z"
   },
   {
    "duration": -786,
    "start_time": "2022-02-18T08:55:08.183Z"
   },
   {
    "duration": -912,
    "start_time": "2022-02-18T08:55:08.311Z"
   },
   {
    "duration": -914,
    "start_time": "2022-02-18T08:55:08.314Z"
   },
   {
    "duration": -916,
    "start_time": "2022-02-18T08:55:08.318Z"
   },
   {
    "duration": -917,
    "start_time": "2022-02-18T08:55:08.321Z"
   },
   {
    "duration": -924,
    "start_time": "2022-02-18T08:55:08.329Z"
   },
   {
    "duration": -926,
    "start_time": "2022-02-18T08:55:08.333Z"
   },
   {
    "duration": -931,
    "start_time": "2022-02-18T08:55:08.340Z"
   },
   {
    "duration": -932,
    "start_time": "2022-02-18T08:55:08.343Z"
   },
   {
    "duration": -935,
    "start_time": "2022-02-18T08:55:08.347Z"
   },
   {
    "duration": -937,
    "start_time": "2022-02-18T08:55:08.350Z"
   },
   {
    "duration": -949,
    "start_time": "2022-02-18T08:55:08.364Z"
   },
   {
    "duration": -950,
    "start_time": "2022-02-18T08:55:08.367Z"
   },
   {
    "duration": -954,
    "start_time": "2022-02-18T08:55:08.372Z"
   },
   {
    "duration": -962,
    "start_time": "2022-02-18T08:55:08.382Z"
   },
   {
    "duration": 11887,
    "start_time": "2022-02-18T08:58:18.190Z"
   },
   {
    "duration": 11795,
    "start_time": "2022-02-18T08:58:32.654Z"
   },
   {
    "duration": 11,
    "start_time": "2022-02-18T08:58:44.452Z"
   },
   {
    "duration": 1472,
    "start_time": "2022-02-18T08:58:50.040Z"
   },
   {
    "duration": 48,
    "start_time": "2022-02-18T08:58:51.515Z"
   },
   {
    "duration": 30,
    "start_time": "2022-02-18T08:58:51.566Z"
   },
   {
    "duration": 60,
    "start_time": "2022-02-18T08:58:51.599Z"
   },
   {
    "duration": 28,
    "start_time": "2022-02-18T08:58:51.662Z"
   },
   {
    "duration": 11,
    "start_time": "2022-02-18T08:58:51.693Z"
   },
   {
    "duration": 11813,
    "start_time": "2022-02-18T08:58:51.707Z"
   },
   {
    "duration": 12,
    "start_time": "2022-02-18T08:59:03.525Z"
   },
   {
    "duration": 12,
    "start_time": "2022-02-18T08:59:03.550Z"
   },
   {
    "duration": 13,
    "start_time": "2022-02-18T08:59:03.565Z"
   },
   {
    "duration": 12,
    "start_time": "2022-02-18T08:59:03.581Z"
   },
   {
    "duration": 17,
    "start_time": "2022-02-18T08:59:03.597Z"
   },
   {
    "duration": 45,
    "start_time": "2022-02-18T08:59:03.617Z"
   },
   {
    "duration": 15,
    "start_time": "2022-02-18T08:59:03.665Z"
   },
   {
    "duration": 840,
    "start_time": "2022-02-18T08:59:03.683Z"
   },
   {
    "duration": 717,
    "start_time": "2022-02-18T08:59:04.526Z"
   },
   {
    "duration": 1768,
    "start_time": "2022-02-18T08:59:05.249Z"
   },
   {
    "duration": 2834,
    "start_time": "2022-02-18T08:59:07.020Z"
   },
   {
    "duration": 3732,
    "start_time": "2022-02-18T08:59:09.856Z"
   },
   {
    "duration": 432,
    "start_time": "2022-02-18T08:59:13.590Z"
   },
   {
    "duration": 454,
    "start_time": "2022-02-18T08:59:14.024Z"
   },
   {
    "duration": 415,
    "start_time": "2022-02-18T08:59:14.481Z"
   },
   {
    "duration": 468,
    "start_time": "2022-02-18T08:59:14.903Z"
   },
   {
    "duration": 19,
    "start_time": "2022-02-18T08:59:15.374Z"
   },
   {
    "duration": 17,
    "start_time": "2022-02-18T08:59:15.396Z"
   },
   {
    "duration": 43,
    "start_time": "2022-02-18T08:59:15.416Z"
   },
   {
    "duration": 8,
    "start_time": "2022-02-18T08:59:15.462Z"
   },
   {
    "duration": 430,
    "start_time": "2022-02-18T09:06:08.203Z"
   },
   {
    "duration": 289,
    "start_time": "2022-02-18T09:06:16.424Z"
   },
   {
    "duration": 291,
    "start_time": "2022-02-18T09:06:24.059Z"
   },
   {
    "duration": 309,
    "start_time": "2022-02-18T09:07:36.646Z"
   },
   {
    "duration": 6,
    "start_time": "2022-02-18T09:07:51.871Z"
   },
   {
    "duration": 13,
    "start_time": "2022-02-18T09:08:14.243Z"
   },
   {
    "duration": 8,
    "start_time": "2022-02-18T09:08:23.457Z"
   },
   {
    "duration": 14,
    "start_time": "2022-02-18T09:08:26.228Z"
   },
   {
    "duration": 11696,
    "start_time": "2022-02-18T09:08:41.335Z"
   },
   {
    "duration": 20,
    "start_time": "2022-02-18T09:08:53.034Z"
   },
   {
    "duration": 11,
    "start_time": "2022-02-18T09:08:59.970Z"
   },
   {
    "duration": 11952,
    "start_time": "2022-02-18T09:09:33.184Z"
   },
   {
    "duration": 12251,
    "start_time": "2022-02-18T09:11:10.519Z"
   },
   {
    "duration": 768,
    "start_time": "2022-02-18T09:11:32.697Z"
   },
   {
    "duration": 9023,
    "start_time": "2022-02-18T09:11:52.235Z"
   },
   {
    "duration": 13,
    "start_time": "2022-02-18T09:12:14.498Z"
   },
   {
    "duration": 6516,
    "start_time": "2022-02-18T09:12:28.295Z"
   },
   {
    "duration": 572,
    "start_time": "2022-02-18T09:12:52.065Z"
   },
   {
    "duration": 10897,
    "start_time": "2022-02-18T09:13:00.724Z"
   },
   {
    "duration": 7896,
    "start_time": "2022-02-18T09:13:18.376Z"
   },
   {
    "duration": 7502,
    "start_time": "2022-02-18T09:13:33.265Z"
   },
   {
    "duration": 1088,
    "start_time": "2022-02-18T09:14:12.956Z"
   },
   {
    "duration": 888,
    "start_time": "2022-02-18T09:14:19.289Z"
   },
   {
    "duration": 14,
    "start_time": "2022-02-18T09:14:37.092Z"
   },
   {
    "duration": 31,
    "start_time": "2022-02-18T09:14:56.633Z"
   },
   {
    "duration": 42,
    "start_time": "2022-02-18T09:15:24.076Z"
   },
   {
    "duration": 356,
    "start_time": "2022-02-18T09:15:39.265Z"
   },
   {
    "duration": 290,
    "start_time": "2022-02-18T09:15:44.661Z"
   },
   {
    "duration": 44,
    "start_time": "2022-02-18T09:16:08.515Z"
   },
   {
    "duration": 40,
    "start_time": "2022-02-18T09:16:15.882Z"
   },
   {
    "duration": 40,
    "start_time": "2022-02-18T09:16:48.575Z"
   },
   {
    "duration": 44,
    "start_time": "2022-02-18T09:17:01.068Z"
   },
   {
    "duration": 20,
    "start_time": "2022-02-18T09:17:36.164Z"
   },
   {
    "duration": 103,
    "start_time": "2022-02-18T09:17:53.954Z"
   },
   {
    "duration": 14,
    "start_time": "2022-02-18T09:17:59.183Z"
   },
   {
    "duration": 16,
    "start_time": "2022-02-18T09:18:07.700Z"
   },
   {
    "duration": 19,
    "start_time": "2022-02-18T09:18:23.115Z"
   },
   {
    "duration": 310,
    "start_time": "2022-02-18T09:18:32.195Z"
   },
   {
    "duration": 20,
    "start_time": "2022-02-18T09:18:42.604Z"
   },
   {
    "duration": 12,
    "start_time": "2022-02-18T09:18:50.308Z"
   },
   {
    "duration": 1603,
    "start_time": "2022-02-18T09:19:01.408Z"
   },
   {
    "duration": 51,
    "start_time": "2022-02-18T09:19:03.015Z"
   },
   {
    "duration": 25,
    "start_time": "2022-02-18T09:19:03.069Z"
   },
   {
    "duration": 54,
    "start_time": "2022-02-18T09:19:03.097Z"
   },
   {
    "duration": 24,
    "start_time": "2022-02-18T09:19:03.154Z"
   },
   {
    "duration": 9,
    "start_time": "2022-02-18T09:19:03.180Z"
   },
   {
    "duration": 79,
    "start_time": "2022-02-18T09:19:03.191Z"
   },
   {
    "duration": 10,
    "start_time": "2022-02-18T09:19:03.274Z"
   },
   {
    "duration": 12,
    "start_time": "2022-02-18T09:19:03.287Z"
   },
   {
    "duration": 16,
    "start_time": "2022-02-18T09:19:03.302Z"
   },
   {
    "duration": 5,
    "start_time": "2022-02-18T09:19:03.320Z"
   },
   {
    "duration": 19,
    "start_time": "2022-02-18T09:19:03.349Z"
   },
   {
    "duration": 10,
    "start_time": "2022-02-18T09:19:03.371Z"
   },
   {
    "duration": 12,
    "start_time": "2022-02-18T09:19:03.383Z"
   },
   {
    "duration": 810,
    "start_time": "2022-02-18T09:19:03.398Z"
   },
   {
    "duration": 719,
    "start_time": "2022-02-18T09:19:04.210Z"
   },
   {
    "duration": 1639,
    "start_time": "2022-02-18T09:19:04.933Z"
   },
   {
    "duration": 2955,
    "start_time": "2022-02-18T09:19:06.574Z"
   },
   {
    "duration": 3635,
    "start_time": "2022-02-18T09:19:09.531Z"
   },
   {
    "duration": 423,
    "start_time": "2022-02-18T09:19:13.169Z"
   },
   {
    "duration": 446,
    "start_time": "2022-02-18T09:19:13.595Z"
   },
   {
    "duration": 414,
    "start_time": "2022-02-18T09:19:14.048Z"
   },
   {
    "duration": 568,
    "start_time": "2022-02-18T09:19:14.467Z"
   },
   {
    "duration": 24,
    "start_time": "2022-02-18T09:19:15.038Z"
   },
   {
    "duration": 13,
    "start_time": "2022-02-18T09:19:15.064Z"
   },
   {
    "duration": 23,
    "start_time": "2022-02-18T09:19:15.079Z"
   },
   {
    "duration": 8,
    "start_time": "2022-02-18T09:19:15.105Z"
   },
   {
    "duration": 33,
    "start_time": "2022-02-18T09:20:01.622Z"
   },
   {
    "duration": 9785,
    "start_time": "2022-02-18T09:21:37.690Z"
   },
   {
    "duration": 519,
    "start_time": "2022-02-18T09:22:45.360Z"
   },
   {
    "duration": 7161,
    "start_time": "2022-02-18T09:22:58.375Z"
   },
   {
    "duration": 9755,
    "start_time": "2022-02-18T09:23:22.035Z"
   },
   {
    "duration": 12,
    "start_time": "2022-02-18T09:23:42.880Z"
   },
   {
    "duration": 8738,
    "start_time": "2022-02-18T09:25:31.760Z"
   },
   {
    "duration": 105,
    "start_time": "2022-02-18T09:25:53.175Z"
   },
   {
    "duration": 117,
    "start_time": "2022-02-18T09:26:14.982Z"
   },
   {
    "duration": 7260,
    "start_time": "2022-02-18T09:26:42.640Z"
   },
   {
    "duration": 6350,
    "start_time": "2022-02-18T09:27:20.836Z"
   },
   {
    "duration": 588,
    "start_time": "2022-02-18T09:27:38.021Z"
   },
   {
    "duration": 4657,
    "start_time": "2022-02-18T09:27:46.776Z"
   },
   {
    "duration": 11796,
    "start_time": "2022-02-18T09:28:11.054Z"
   },
   {
    "duration": 11324,
    "start_time": "2022-02-18T09:28:32.985Z"
   },
   {
    "duration": 576,
    "start_time": "2022-02-18T09:28:56.794Z"
   },
   {
    "duration": 5830,
    "start_time": "2022-02-18T09:29:24.840Z"
   },
   {
    "duration": 585,
    "start_time": "2022-02-18T09:29:54.184Z"
   },
   {
    "duration": 579,
    "start_time": "2022-02-18T09:30:35.855Z"
   },
   {
    "duration": 528,
    "start_time": "2022-02-18T09:31:34.997Z"
   },
   {
    "duration": 5573,
    "start_time": "2022-02-18T09:32:31.120Z"
   },
   {
    "duration": 584,
    "start_time": "2022-02-18T09:35:38.057Z"
   },
   {
    "duration": 577,
    "start_time": "2022-02-18T09:35:48.835Z"
   },
   {
    "duration": 608,
    "start_time": "2022-02-18T09:36:00.150Z"
   },
   {
    "duration": 581,
    "start_time": "2022-02-18T09:36:06.495Z"
   },
   {
    "duration": 6370,
    "start_time": "2022-02-18T09:36:17.500Z"
   },
   {
    "duration": 623,
    "start_time": "2022-02-18T09:37:33.997Z"
   },
   {
    "duration": 624,
    "start_time": "2022-02-18T09:37:48.804Z"
   },
   {
    "duration": 9809,
    "start_time": "2022-02-18T09:37:59.689Z"
   },
   {
    "duration": 1095,
    "start_time": "2022-02-18T09:40:03.389Z"
   },
   {
    "duration": 33,
    "start_time": "2022-02-18T09:40:10.961Z"
   },
   {
    "duration": 44,
    "start_time": "2022-02-18T09:40:25.912Z"
   },
   {
    "duration": 3298,
    "start_time": "2022-02-18T09:40:42.526Z"
   },
   {
    "duration": 291,
    "start_time": "2022-02-18T09:40:57.838Z"
   },
   {
    "duration": 707,
    "start_time": "2022-02-18T10:10:22.484Z"
   },
   {
    "duration": 301,
    "start_time": "2022-02-18T10:10:36.011Z"
   },
   {
    "duration": 315,
    "start_time": "2022-02-18T10:11:00.511Z"
   },
   {
    "duration": 73,
    "start_time": "2022-02-18T10:12:15.093Z"
   },
   {
    "duration": 37,
    "start_time": "2022-02-18T10:12:24.648Z"
   },
   {
    "duration": 38,
    "start_time": "2022-02-18T10:12:38.855Z"
   },
   {
    "duration": 39,
    "start_time": "2022-02-18T10:12:43.464Z"
   },
   {
    "duration": 35,
    "start_time": "2022-02-18T10:13:11.142Z"
   },
   {
    "duration": 31,
    "start_time": "2022-02-18T10:13:15.143Z"
   },
   {
    "duration": 13,
    "start_time": "2022-02-18T10:13:18.527Z"
   },
   {
    "duration": 16,
    "start_time": "2022-02-18T10:13:26.130Z"
   },
   {
    "duration": 299,
    "start_time": "2022-02-18T10:13:33.568Z"
   },
   {
    "duration": 31,
    "start_time": "2022-02-18T10:13:46.491Z"
   },
   {
    "duration": 7458,
    "start_time": "2022-02-18T10:14:22.194Z"
   },
   {
    "duration": 4600,
    "start_time": "2022-02-18T10:14:42.912Z"
   },
   {
    "duration": 2808,
    "start_time": "2022-02-18T10:16:48.269Z"
   },
   {
    "duration": 3011,
    "start_time": "2022-02-18T10:17:10.937Z"
   },
   {
    "duration": 2913,
    "start_time": "2022-02-18T10:17:38.182Z"
   },
   {
    "duration": 2876,
    "start_time": "2022-02-18T10:18:39.986Z"
   },
   {
    "duration": 6890,
    "start_time": "2022-02-18T10:19:15.177Z"
   },
   {
    "duration": 7696,
    "start_time": "2022-02-18T10:19:57.317Z"
   },
   {
    "duration": 7563,
    "start_time": "2022-02-18T10:20:17.570Z"
   },
   {
    "duration": 7582,
    "start_time": "2022-02-18T10:22:48.902Z"
   },
   {
    "duration": 333,
    "start_time": "2022-02-18T10:24:02.222Z"
   },
   {
    "duration": 10346,
    "start_time": "2022-02-18T10:24:10.140Z"
   },
   {
    "duration": 6766,
    "start_time": "2022-02-18T10:24:29.129Z"
   },
   {
    "duration": 9616,
    "start_time": "2022-02-18T10:24:57.663Z"
   },
   {
    "duration": 12313,
    "start_time": "2022-02-18T10:25:13.877Z"
   },
   {
    "duration": 32,
    "start_time": "2022-02-18T10:26:03.329Z"
   },
   {
    "duration": 1525,
    "start_time": "2022-02-18T10:26:14.207Z"
   },
   {
    "duration": 45,
    "start_time": "2022-02-18T10:26:15.735Z"
   },
   {
    "duration": 26,
    "start_time": "2022-02-18T10:26:15.784Z"
   },
   {
    "duration": 68,
    "start_time": "2022-02-18T10:26:15.813Z"
   },
   {
    "duration": 25,
    "start_time": "2022-02-18T10:26:15.884Z"
   },
   {
    "duration": 36,
    "start_time": "2022-02-18T10:26:15.912Z"
   },
   {
    "duration": 38,
    "start_time": "2022-02-18T10:26:15.951Z"
   },
   {
    "duration": 11,
    "start_time": "2022-02-18T10:26:15.992Z"
   },
   {
    "duration": 8,
    "start_time": "2022-02-18T10:26:16.007Z"
   },
   {
    "duration": 41,
    "start_time": "2022-02-18T10:26:16.018Z"
   },
   {
    "duration": 7,
    "start_time": "2022-02-18T10:26:16.061Z"
   },
   {
    "duration": 17,
    "start_time": "2022-02-18T10:26:16.070Z"
   },
   {
    "duration": 14,
    "start_time": "2022-02-18T10:26:16.090Z"
   },
   {
    "duration": 53,
    "start_time": "2022-02-18T10:26:16.107Z"
   },
   {
    "duration": 750,
    "start_time": "2022-02-18T10:26:16.163Z"
   },
   {
    "duration": 798,
    "start_time": "2022-02-18T10:26:16.916Z"
   },
   {
    "duration": 1573,
    "start_time": "2022-02-18T10:26:17.716Z"
   },
   {
    "duration": 3179,
    "start_time": "2022-02-18T10:26:19.292Z"
   },
   {
    "duration": 3617,
    "start_time": "2022-02-18T10:26:22.475Z"
   },
   {
    "duration": 427,
    "start_time": "2022-02-18T10:26:26.095Z"
   },
   {
    "duration": 460,
    "start_time": "2022-02-18T10:26:26.525Z"
   },
   {
    "duration": 429,
    "start_time": "2022-02-18T10:26:26.987Z"
   },
   {
    "duration": 481,
    "start_time": "2022-02-18T10:26:27.419Z"
   },
   {
    "duration": 17,
    "start_time": "2022-02-18T10:26:27.903Z"
   },
   {
    "duration": 29,
    "start_time": "2022-02-18T10:26:27.922Z"
   },
   {
    "duration": 15,
    "start_time": "2022-02-18T10:26:27.954Z"
   },
   {
    "duration": 10,
    "start_time": "2022-02-18T10:26:27.973Z"
   },
   {
    "duration": 686,
    "start_time": "2022-02-18T10:27:55.129Z"
   },
   {
    "duration": 622,
    "start_time": "2022-02-18T10:28:34.392Z"
   },
   {
    "duration": 504,
    "start_time": "2022-02-18T10:28:48.033Z"
   },
   {
    "duration": 517,
    "start_time": "2022-02-18T10:29:05.876Z"
   },
   {
    "duration": 511,
    "start_time": "2022-02-18T10:29:14.173Z"
   },
   {
    "duration": 1367,
    "start_time": "2022-02-18T10:29:28.209Z"
   },
   {
    "duration": 1436,
    "start_time": "2022-02-18T10:29:36.450Z"
   },
   {
    "duration": 4683,
    "start_time": "2022-02-18T10:29:50.150Z"
   },
   {
    "duration": 908,
    "start_time": "2022-02-18T10:34:20.088Z"
   },
   {
    "duration": 911,
    "start_time": "2022-02-18T10:39:16.955Z"
   },
   {
    "duration": 29192,
    "start_time": "2022-02-18T10:39:27.095Z"
   },
   {
    "duration": 28018,
    "start_time": "2022-02-18T10:40:21.100Z"
   },
   {
    "duration": 27350,
    "start_time": "2022-02-18T10:41:42.641Z"
   },
   {
    "duration": 381,
    "start_time": "2022-02-18T14:43:31.725Z"
   },
   {
    "duration": 1593,
    "start_time": "2022-02-18T14:43:38.255Z"
   },
   {
    "duration": 45,
    "start_time": "2022-02-18T14:43:39.850Z"
   },
   {
    "duration": 26,
    "start_time": "2022-02-18T14:43:39.899Z"
   },
   {
    "duration": 66,
    "start_time": "2022-02-18T14:43:39.928Z"
   },
   {
    "duration": 29,
    "start_time": "2022-02-18T14:43:39.997Z"
   },
   {
    "duration": 35,
    "start_time": "2022-02-18T14:43:40.028Z"
   },
   {
    "duration": 10276,
    "start_time": "2022-02-18T14:43:40.067Z"
   },
   {
    "duration": 11,
    "start_time": "2022-02-18T14:43:50.360Z"
   },
   {
    "duration": 10,
    "start_time": "2022-02-18T14:43:50.374Z"
   },
   {
    "duration": 14,
    "start_time": "2022-02-18T14:43:50.387Z"
   },
   {
    "duration": 5,
    "start_time": "2022-02-18T14:43:50.404Z"
   },
   {
    "duration": 15,
    "start_time": "2022-02-18T14:43:50.412Z"
   },
   {
    "duration": 14,
    "start_time": "2022-02-18T14:43:50.462Z"
   },
   {
    "duration": 13,
    "start_time": "2022-02-18T14:43:50.478Z"
   },
   {
    "duration": 853,
    "start_time": "2022-02-18T14:43:50.494Z"
   },
   {
    "duration": 997,
    "start_time": "2022-02-18T14:43:51.350Z"
   },
   {
    "duration": 1858,
    "start_time": "2022-02-18T14:43:52.349Z"
   },
   {
    "duration": 2919,
    "start_time": "2022-02-18T14:43:54.209Z"
   },
   {
    "duration": 4132,
    "start_time": "2022-02-18T14:43:57.132Z"
   },
   {
    "duration": 440,
    "start_time": "2022-02-18T14:44:01.267Z"
   },
   {
    "duration": 642,
    "start_time": "2022-02-18T14:44:01.710Z"
   },
   {
    "duration": 422,
    "start_time": "2022-02-18T14:44:02.361Z"
   },
   {
    "duration": 458,
    "start_time": "2022-02-18T14:44:02.787Z"
   },
   {
    "duration": 25,
    "start_time": "2022-02-18T14:44:03.248Z"
   },
   {
    "duration": 7,
    "start_time": "2022-02-18T14:44:03.275Z"
   },
   {
    "duration": 21,
    "start_time": "2022-02-18T14:44:03.285Z"
   },
   {
    "duration": 8,
    "start_time": "2022-02-18T14:44:03.309Z"
   },
   {
    "duration": 966,
    "start_time": "2022-02-18T14:52:35.972Z"
   },
   {
    "duration": 1100,
    "start_time": "2022-02-18T14:53:05.899Z"
   },
   {
    "duration": 13215,
    "start_time": "2022-02-18T14:53:49.788Z"
   },
   {
    "duration": 13024,
    "start_time": "2022-02-18T14:54:58.538Z"
   },
   {
    "duration": 11757,
    "start_time": "2022-02-18T14:57:09.590Z"
   },
   {
    "duration": 11,
    "start_time": "2022-02-18T14:57:26.834Z"
   },
   {
    "duration": 12369,
    "start_time": "2022-02-18T14:57:53.816Z"
   },
   {
    "duration": 16,
    "start_time": "2022-02-18T14:58:59.483Z"
   },
   {
    "duration": 15,
    "start_time": "2022-02-18T14:59:08.609Z"
   },
   {
    "duration": 25,
    "start_time": "2022-02-18T14:59:17.624Z"
   },
   {
    "duration": 1513,
    "start_time": "2022-02-18T14:59:45.825Z"
   },
   {
    "duration": 50,
    "start_time": "2022-02-18T14:59:47.341Z"
   },
   {
    "duration": 26,
    "start_time": "2022-02-18T14:59:47.394Z"
   },
   {
    "duration": 55,
    "start_time": "2022-02-18T14:59:47.423Z"
   },
   {
    "duration": 26,
    "start_time": "2022-02-18T14:59:47.480Z"
   },
   {
    "duration": 10,
    "start_time": "2022-02-18T14:59:47.508Z"
   },
   {
    "duration": 68,
    "start_time": "2022-02-18T14:59:47.522Z"
   },
   {
    "duration": 24,
    "start_time": "2022-02-18T14:59:47.596Z"
   },
   {
    "duration": 45,
    "start_time": "2022-02-18T14:59:47.623Z"
   },
   {
    "duration": 7,
    "start_time": "2022-02-18T14:59:47.671Z"
   },
   {
    "duration": 14,
    "start_time": "2022-02-18T14:59:47.682Z"
   },
   {
    "duration": 6,
    "start_time": "2022-02-18T14:59:47.699Z"
   },
   {
    "duration": 13,
    "start_time": "2022-02-18T14:59:47.708Z"
   },
   {
    "duration": 15,
    "start_time": "2022-02-18T14:59:47.762Z"
   },
   {
    "duration": 12,
    "start_time": "2022-02-18T14:59:47.780Z"
   },
   {
    "duration": 821,
    "start_time": "2022-02-18T14:59:47.794Z"
   },
   {
    "duration": 954,
    "start_time": "2022-02-18T14:59:48.618Z"
   },
   {
    "duration": 1756,
    "start_time": "2022-02-18T14:59:49.574Z"
   },
   {
    "duration": 2959,
    "start_time": "2022-02-18T14:59:51.332Z"
   },
   {
    "duration": 3720,
    "start_time": "2022-02-18T14:59:54.294Z"
   },
   {
    "duration": 444,
    "start_time": "2022-02-18T14:59:58.017Z"
   },
   {
    "duration": 452,
    "start_time": "2022-02-18T14:59:58.464Z"
   },
   {
    "duration": 517,
    "start_time": "2022-02-18T14:59:58.923Z"
   },
   {
    "duration": 677,
    "start_time": "2022-02-18T14:59:59.444Z"
   },
   {
    "duration": 21,
    "start_time": "2022-02-18T15:00:00.125Z"
   },
   {
    "duration": 8,
    "start_time": "2022-02-18T15:00:00.162Z"
   },
   {
    "duration": 38,
    "start_time": "2022-02-18T15:00:00.173Z"
   },
   {
    "duration": 6,
    "start_time": "2022-02-18T15:00:00.214Z"
   },
   {
    "duration": 48,
    "start_time": "2022-02-18T15:00:00.224Z"
   },
   {
    "duration": 12943,
    "start_time": "2022-02-18T15:01:47.770Z"
   },
   {
    "duration": 25,
    "start_time": "2022-02-18T15:02:03.394Z"
   },
   {
    "duration": 32,
    "start_time": "2022-02-18T15:02:08.307Z"
   },
   {
    "duration": 36,
    "start_time": "2022-02-18T15:02:33.755Z"
   },
   {
    "duration": 47,
    "start_time": "2022-02-18T15:26:02.637Z"
   },
   {
    "duration": 12,
    "start_time": "2022-02-18T15:29:53.927Z"
   },
   {
    "duration": 21,
    "start_time": "2022-02-18T15:30:47.826Z"
   },
   {
    "duration": 29,
    "start_time": "2022-02-18T15:31:00.370Z"
   },
   {
    "duration": 26,
    "start_time": "2022-02-18T15:31:08.158Z"
   },
   {
    "duration": 1533,
    "start_time": "2022-02-18T15:39:02.247Z"
   },
   {
    "duration": 47,
    "start_time": "2022-02-18T15:39:03.783Z"
   },
   {
    "duration": 30,
    "start_time": "2022-02-18T15:39:03.833Z"
   },
   {
    "duration": 17,
    "start_time": "2022-02-18T15:39:03.866Z"
   },
   {
    "duration": 30,
    "start_time": "2022-02-18T15:39:03.886Z"
   },
   {
    "duration": 66,
    "start_time": "2022-02-18T15:39:03.918Z"
   },
   {
    "duration": 10,
    "start_time": "2022-02-18T15:39:03.987Z"
   },
   {
    "duration": 11890,
    "start_time": "2022-02-18T15:39:04.002Z"
   },
   {
    "duration": 45,
    "start_time": "2022-02-18T15:39:15.895Z"
   },
   {
    "duration": 15,
    "start_time": "2022-02-18T15:39:15.961Z"
   },
   {
    "duration": 8,
    "start_time": "2022-02-18T15:39:15.979Z"
   },
   {
    "duration": 13,
    "start_time": "2022-02-18T15:39:15.990Z"
   },
   {
    "duration": 58,
    "start_time": "2022-02-18T15:39:16.005Z"
   },
   {
    "duration": 11,
    "start_time": "2022-02-18T15:39:16.066Z"
   },
   {
    "duration": 11,
    "start_time": "2022-02-18T15:39:16.080Z"
   },
   {
    "duration": 844,
    "start_time": "2022-02-18T15:39:16.093Z"
   },
   {
    "duration": 724,
    "start_time": "2022-02-18T15:39:16.939Z"
   },
   {
    "duration": 1634,
    "start_time": "2022-02-18T15:39:17.666Z"
   },
   {
    "duration": 3050,
    "start_time": "2022-02-18T15:39:19.303Z"
   },
   {
    "duration": 3816,
    "start_time": "2022-02-18T15:39:22.355Z"
   },
   {
    "duration": 419,
    "start_time": "2022-02-18T15:39:26.173Z"
   },
   {
    "duration": 447,
    "start_time": "2022-02-18T15:39:26.594Z"
   },
   {
    "duration": 414,
    "start_time": "2022-02-18T15:39:27.047Z"
   },
   {
    "duration": 434,
    "start_time": "2022-02-18T15:39:27.464Z"
   },
   {
    "duration": 620,
    "start_time": "2022-02-18T15:39:27.900Z"
   },
   {
    "duration": -1495,
    "start_time": "2022-02-18T15:39:30.019Z"
   },
   {
    "duration": -1501,
    "start_time": "2022-02-18T15:39:30.027Z"
   },
   {
    "duration": -1516,
    "start_time": "2022-02-18T15:39:30.043Z"
   },
   {
    "duration": 11618,
    "start_time": "2022-02-18T15:46:55.651Z"
   },
   {
    "duration": -1341,
    "start_time": "2022-02-18T15:47:08.613Z"
   },
   {
    "duration": -1433,
    "start_time": "2022-02-18T15:47:46.316Z"
   },
   {
    "duration": 46,
    "start_time": "2022-02-18T15:48:12.717Z"
   },
   {
    "duration": -1435,
    "start_time": "2022-02-18T15:48:47.792Z"
   },
   {
    "duration": 7369,
    "start_time": "2022-02-18T15:49:09.195Z"
   },
   {
    "duration": 77,
    "start_time": "2022-02-18T15:49:31.710Z"
   },
   {
    "duration": 37,
    "start_time": "2022-02-18T15:49:56.005Z"
   },
   {
    "duration": 5,
    "start_time": "2022-02-18T15:53:18.747Z"
   },
   {
    "duration": 324,
    "start_time": "2022-02-18T15:53:54.034Z"
   },
   {
    "duration": 33,
    "start_time": "2022-02-18T15:54:26.318Z"
   },
   {
    "duration": 41,
    "start_time": "2022-02-18T15:54:45.290Z"
   },
   {
    "duration": 36,
    "start_time": "2022-02-18T15:55:00.228Z"
   },
   {
    "duration": 34,
    "start_time": "2022-02-18T15:55:14.118Z"
   },
   {
    "duration": 369,
    "start_time": "2022-02-18T15:55:30.187Z"
   },
   {
    "duration": 38,
    "start_time": "2022-02-18T16:03:53.959Z"
   },
   {
    "duration": 1387,
    "start_time": "2022-02-18T16:04:59.059Z"
   },
   {
    "duration": 13,
    "start_time": "2022-02-18T16:05:06.942Z"
   },
   {
    "duration": 38,
    "start_time": "2022-02-18T16:05:19.807Z"
   },
   {
    "duration": 40,
    "start_time": "2022-02-18T16:05:36.199Z"
   },
   {
    "duration": 27,
    "start_time": "2022-02-18T16:06:08.600Z"
   },
   {
    "duration": 36,
    "start_time": "2022-02-18T16:06:16.713Z"
   },
   {
    "duration": 571,
    "start_time": "2022-02-18T16:07:18.681Z"
   },
   {
    "duration": 526,
    "start_time": "2022-02-18T16:07:37.961Z"
   },
   {
    "duration": 528,
    "start_time": "2022-02-18T16:07:53.550Z"
   },
   {
    "duration": 971,
    "start_time": "2022-02-18T16:08:12.359Z"
   },
   {
    "duration": 828,
    "start_time": "2022-02-18T16:08:26.205Z"
   },
   {
    "duration": 16432,
    "start_time": "2022-02-18T16:08:47.122Z"
   },
   {
    "duration": 832,
    "start_time": "2022-02-18T16:09:37.933Z"
   },
   {
    "duration": 825,
    "start_time": "2022-02-18T16:12:09.239Z"
   },
   {
    "duration": 886,
    "start_time": "2022-02-18T16:21:09.845Z"
   },
   {
    "duration": 20,
    "start_time": "2022-02-18T16:22:54.202Z"
   },
   {
    "duration": 834,
    "start_time": "2022-02-18T16:23:23.932Z"
   },
   {
    "duration": 35,
    "start_time": "2022-02-18T16:23:43.248Z"
   },
   {
    "duration": 292,
    "start_time": "2022-02-18T16:24:20.656Z"
   },
   {
    "duration": 301,
    "start_time": "2022-02-18T16:31:45.312Z"
   },
   {
    "duration": 572,
    "start_time": "2022-02-18T16:32:00.199Z"
   },
   {
    "duration": 25,
    "start_time": "2022-02-18T16:32:14.939Z"
   },
   {
    "duration": 30,
    "start_time": "2022-02-18T16:32:30.991Z"
   },
   {
    "duration": 101,
    "start_time": "2022-02-18T17:07:35.622Z"
   },
   {
    "duration": 500,
    "start_time": "2022-02-18T17:07:43.160Z"
   },
   {
    "duration": 521,
    "start_time": "2022-02-18T17:07:48.285Z"
   },
   {
    "duration": 26,
    "start_time": "2022-02-18T17:08:04.473Z"
   },
   {
    "duration": 2097,
    "start_time": "2022-02-18T17:08:44.019Z"
   },
   {
    "duration": 28,
    "start_time": "2022-02-18T17:09:01.908Z"
   },
   {
    "duration": 21,
    "start_time": "2022-02-18T17:09:33.590Z"
   },
   {
    "duration": 21,
    "start_time": "2022-02-18T17:09:46.256Z"
   },
   {
    "duration": 566,
    "start_time": "2022-02-18T17:10:10.376Z"
   },
   {
    "duration": 27,
    "start_time": "2022-02-18T17:10:36.996Z"
   },
   {
    "duration": 29,
    "start_time": "2022-02-18T17:10:57.257Z"
   },
   {
    "duration": 19,
    "start_time": "2022-02-18T17:11:40.060Z"
   },
   {
    "duration": 18,
    "start_time": "2022-02-18T17:12:18.585Z"
   },
   {
    "duration": 4,
    "start_time": "2022-02-18T17:12:55.096Z"
   },
   {
    "duration": 20,
    "start_time": "2022-02-18T17:13:15.650Z"
   },
   {
    "duration": 1059,
    "start_time": "2022-02-18T17:15:49.129Z"
   },
   {
    "duration": 656,
    "start_time": "2022-02-18T17:17:24.649Z"
   },
   {
    "duration": 521,
    "start_time": "2022-02-18T17:18:17.603Z"
   },
   {
    "duration": 656,
    "start_time": "2022-02-18T17:18:57.597Z"
   },
   {
    "duration": 420,
    "start_time": "2022-02-18T17:19:28.530Z"
   },
   {
    "duration": 1464,
    "start_time": "2022-02-18T17:19:45.580Z"
   },
   {
    "duration": 49,
    "start_time": "2022-02-18T17:19:47.046Z"
   },
   {
    "duration": 24,
    "start_time": "2022-02-18T17:19:47.098Z"
   },
   {
    "duration": 36,
    "start_time": "2022-02-18T17:19:47.125Z"
   },
   {
    "duration": 30,
    "start_time": "2022-02-18T17:19:47.164Z"
   },
   {
    "duration": 27,
    "start_time": "2022-02-18T17:19:47.197Z"
   },
   {
    "duration": 43,
    "start_time": "2022-02-18T17:19:47.226Z"
   },
   {
    "duration": 13861,
    "start_time": "2022-02-18T17:19:47.273Z"
   },
   {
    "duration": -908,
    "start_time": "2022-02-18T17:20:02.045Z"
   },
   {
    "duration": -909,
    "start_time": "2022-02-18T17:20:02.048Z"
   },
   {
    "duration": -910,
    "start_time": "2022-02-18T17:20:02.051Z"
   },
   {
    "duration": -914,
    "start_time": "2022-02-18T17:20:02.056Z"
   },
   {
    "duration": -915,
    "start_time": "2022-02-18T17:20:02.059Z"
   },
   {
    "duration": -918,
    "start_time": "2022-02-18T17:20:02.063Z"
   },
   {
    "duration": -919,
    "start_time": "2022-02-18T17:20:02.066Z"
   },
   {
    "duration": -1019,
    "start_time": "2022-02-18T17:20:02.167Z"
   },
   {
    "duration": -1067,
    "start_time": "2022-02-18T17:20:02.216Z"
   },
   {
    "duration": -1069,
    "start_time": "2022-02-18T17:20:02.220Z"
   },
   {
    "duration": -1072,
    "start_time": "2022-02-18T17:20:02.224Z"
   },
   {
    "duration": -1074,
    "start_time": "2022-02-18T17:20:02.228Z"
   },
   {
    "duration": -1076,
    "start_time": "2022-02-18T17:20:02.231Z"
   },
   {
    "duration": -1080,
    "start_time": "2022-02-18T17:20:02.236Z"
   },
   {
    "duration": -1088,
    "start_time": "2022-02-18T17:20:02.246Z"
   },
   {
    "duration": -1091,
    "start_time": "2022-02-18T17:20:02.250Z"
   },
   {
    "duration": -1095,
    "start_time": "2022-02-18T17:20:02.256Z"
   },
   {
    "duration": -1104,
    "start_time": "2022-02-18T17:20:02.266Z"
   },
   {
    "duration": -1107,
    "start_time": "2022-02-18T17:20:02.271Z"
   },
   {
    "duration": -1109,
    "start_time": "2022-02-18T17:20:02.275Z"
   },
   {
    "duration": -1111,
    "start_time": "2022-02-18T17:20:02.279Z"
   },
   {
    "duration": 12271,
    "start_time": "2022-02-18T17:20:14.441Z"
   },
   {
    "duration": 527,
    "start_time": "2022-02-18T17:20:46.190Z"
   },
   {
    "duration": 706,
    "start_time": "2022-02-18T17:21:44.415Z"
   },
   {
    "duration": 636,
    "start_time": "2022-02-18T17:23:09.507Z"
   },
   {
    "duration": 1058,
    "start_time": "2022-02-18T17:23:39.811Z"
   },
   {
    "duration": 22,
    "start_time": "2022-02-18T17:24:07.589Z"
   },
   {
    "duration": 772,
    "start_time": "2022-02-18T17:25:02.941Z"
   },
   {
    "duration": 1032,
    "start_time": "2022-02-18T17:25:27.573Z"
   },
   {
    "duration": 1219,
    "start_time": "2022-02-18T17:25:46.112Z"
   },
   {
    "duration": 47,
    "start_time": "2022-02-18T17:26:08.120Z"
   },
   {
    "duration": 7028,
    "start_time": "2022-02-18T17:29:43.924Z"
   },
   {
    "duration": 354,
    "start_time": "2022-02-18T17:30:33.030Z"
   },
   {
    "duration": 343,
    "start_time": "2022-02-18T17:31:02.171Z"
   },
   {
    "duration": 5578,
    "start_time": "2022-02-18T17:31:14.654Z"
   },
   {
    "duration": 49,
    "start_time": "2022-02-18T17:31:48.549Z"
   },
   {
    "duration": 48,
    "start_time": "2022-02-18T17:32:41.999Z"
   },
   {
    "duration": 51,
    "start_time": "2022-02-18T17:33:56.580Z"
   },
   {
    "duration": 378,
    "start_time": "2022-02-18T17:35:19.524Z"
   },
   {
    "duration": 51,
    "start_time": "2022-02-18T17:35:55.722Z"
   },
   {
    "duration": 53,
    "start_time": "2022-02-18T17:38:59.530Z"
   },
   {
    "duration": 58,
    "start_time": "2022-02-18T17:39:20.780Z"
   },
   {
    "duration": 75,
    "start_time": "2022-02-18T17:39:28.421Z"
   },
   {
    "duration": 81,
    "start_time": "2022-02-18T17:39:45.114Z"
   },
   {
    "duration": 115,
    "start_time": "2022-02-18T17:40:04.581Z"
   },
   {
    "duration": 60,
    "start_time": "2022-02-18T17:40:35.680Z"
   },
   {
    "duration": 70,
    "start_time": "2022-02-18T17:40:56.544Z"
   },
   {
    "duration": 52,
    "start_time": "2022-02-18T17:41:30.445Z"
   },
   {
    "duration": 57,
    "start_time": "2022-02-18T17:41:38.025Z"
   },
   {
    "duration": 123,
    "start_time": "2022-02-18T17:43:12.755Z"
   },
   {
    "duration": 59,
    "start_time": "2022-02-18T17:46:52.253Z"
   },
   {
    "duration": 75,
    "start_time": "2022-02-18T17:50:06.640Z"
   },
   {
    "duration": 62,
    "start_time": "2022-02-18T17:50:40.696Z"
   },
   {
    "duration": 55,
    "start_time": "2022-02-18T17:51:05.977Z"
   },
   {
    "duration": 66,
    "start_time": "2022-02-18T17:51:16.116Z"
   },
   {
    "duration": 60,
    "start_time": "2022-02-18T17:51:34.594Z"
   },
   {
    "duration": 63,
    "start_time": "2022-02-18T17:51:55.688Z"
   },
   {
    "duration": 30,
    "start_time": "2022-02-18T17:52:06.530Z"
   },
   {
    "duration": 51,
    "start_time": "2022-02-18T17:52:31.266Z"
   },
   {
    "duration": 1450,
    "start_time": "2022-02-18T17:52:42.585Z"
   },
   {
    "duration": 47,
    "start_time": "2022-02-18T17:52:44.038Z"
   },
   {
    "duration": 25,
    "start_time": "2022-02-18T17:52:44.087Z"
   },
   {
    "duration": 16,
    "start_time": "2022-02-18T17:52:44.115Z"
   },
   {
    "duration": 49,
    "start_time": "2022-02-18T17:52:44.134Z"
   },
   {
    "duration": 24,
    "start_time": "2022-02-18T17:52:44.186Z"
   },
   {
    "duration": 8,
    "start_time": "2022-02-18T17:52:44.213Z"
   },
   {
    "duration": 12227,
    "start_time": "2022-02-18T17:52:44.225Z"
   },
   {
    "duration": 3,
    "start_time": "2022-02-18T17:52:56.460Z"
   },
   {
    "duration": 56,
    "start_time": "2022-02-18T17:52:56.465Z"
   },
   {
    "duration": 12,
    "start_time": "2022-02-18T17:52:56.523Z"
   },
   {
    "duration": 30,
    "start_time": "2022-02-18T17:52:56.537Z"
   },
   {
    "duration": 12,
    "start_time": "2022-02-18T17:52:56.569Z"
   },
   {
    "duration": 8,
    "start_time": "2022-02-18T17:52:56.583Z"
   },
   {
    "duration": 15,
    "start_time": "2022-02-18T17:52:56.593Z"
   },
   {
    "duration": 11,
    "start_time": "2022-02-18T17:52:56.610Z"
   },
   {
    "duration": 851,
    "start_time": "2022-02-18T17:52:56.623Z"
   },
   {
    "duration": 701,
    "start_time": "2022-02-18T17:52:57.476Z"
   },
   {
    "duration": 1667,
    "start_time": "2022-02-18T17:52:58.179Z"
   },
   {
    "duration": 2923,
    "start_time": "2022-02-18T17:52:59.849Z"
   },
   {
    "duration": 3682,
    "start_time": "2022-02-18T17:53:02.775Z"
   },
   {
    "duration": 439,
    "start_time": "2022-02-18T17:53:06.462Z"
   },
   {
    "duration": 441,
    "start_time": "2022-02-18T17:53:06.906Z"
   },
   {
    "duration": 432,
    "start_time": "2022-02-18T17:53:07.350Z"
   },
   {
    "duration": 432,
    "start_time": "2022-02-18T17:53:07.784Z"
   },
   {
    "duration": 738,
    "start_time": "2022-02-18T17:53:08.218Z"
   },
   {
    "duration": -1055,
    "start_time": "2022-02-18T17:53:10.014Z"
   },
   {
    "duration": -1067,
    "start_time": "2022-02-18T17:53:10.027Z"
   },
   {
    "duration": -1074,
    "start_time": "2022-02-18T17:53:10.035Z"
   },
   {
    "duration": 62,
    "start_time": "2022-02-18T17:53:30.625Z"
   },
   {
    "duration": 63,
    "start_time": "2022-02-18T17:53:53.360Z"
   },
   {
    "duration": 72,
    "start_time": "2022-02-18T17:54:11.034Z"
   },
   {
    "duration": 385,
    "start_time": "2022-02-18T17:57:29.911Z"
   },
   {
    "duration": 723,
    "start_time": "2022-02-18T17:57:38.259Z"
   },
   {
    "duration": 741,
    "start_time": "2022-02-18T17:57:51.726Z"
   },
   {
    "duration": 660,
    "start_time": "2022-02-18T17:57:59.421Z"
   },
   {
    "duration": 659,
    "start_time": "2022-02-18T17:58:51.288Z"
   },
   {
    "duration": 47,
    "start_time": "2022-02-18T17:59:55.069Z"
   },
   {
    "duration": 692,
    "start_time": "2022-02-18T18:00:30.498Z"
   },
   {
    "duration": 60,
    "start_time": "2022-02-18T18:00:40.768Z"
   },
   {
    "duration": 63,
    "start_time": "2022-02-18T18:01:01.443Z"
   },
   {
    "duration": 45,
    "start_time": "2022-02-18T18:01:20.760Z"
   },
   {
    "duration": 46,
    "start_time": "2022-02-18T18:01:30.489Z"
   },
   {
    "duration": 70,
    "start_time": "2022-02-18T18:01:59.980Z"
   },
   {
    "duration": 62,
    "start_time": "2022-02-18T18:02:32.192Z"
   },
   {
    "duration": 47,
    "start_time": "2022-02-18T18:02:50.562Z"
   },
   {
    "duration": 306,
    "start_time": "2022-02-18T18:03:13.388Z"
   },
   {
    "duration": 29,
    "start_time": "2022-02-18T18:03:27.506Z"
   },
   {
    "duration": 52,
    "start_time": "2022-02-18T18:04:08.749Z"
   },
   {
    "duration": 50,
    "start_time": "2022-02-18T18:04:55.855Z"
   },
   {
    "duration": 40,
    "start_time": "2022-02-18T18:05:11.242Z"
   },
   {
    "duration": 43,
    "start_time": "2022-02-18T18:05:28.126Z"
   },
   {
    "duration": 52,
    "start_time": "2022-02-18T18:05:40.651Z"
   },
   {
    "duration": 46,
    "start_time": "2022-02-18T18:06:05.686Z"
   },
   {
    "duration": 45,
    "start_time": "2022-02-18T18:06:37.508Z"
   },
   {
    "duration": 39,
    "start_time": "2022-02-18T18:06:46.552Z"
   },
   {
    "duration": 50,
    "start_time": "2022-02-18T18:07:02.306Z"
   },
   {
    "duration": 310,
    "start_time": "2022-02-18T18:13:27.723Z"
   },
   {
    "duration": 163,
    "start_time": "2022-02-18T18:13:46.304Z"
   },
   {
    "duration": 94,
    "start_time": "2022-02-18T18:15:49.864Z"
   },
   {
    "duration": 37,
    "start_time": "2022-02-18T18:16:02.607Z"
   },
   {
    "duration": 52,
    "start_time": "2022-02-18T18:16:15.963Z"
   },
   {
    "duration": 258,
    "start_time": "2022-02-18T18:19:12.057Z"
   },
   {
    "duration": 187,
    "start_time": "2022-02-18T18:19:23.771Z"
   },
   {
    "duration": 174,
    "start_time": "2022-02-18T18:20:02.092Z"
   },
   {
    "duration": 235,
    "start_time": "2022-02-18T18:20:10.341Z"
   },
   {
    "duration": 778,
    "start_time": "2022-02-18T18:23:51.318Z"
   },
   {
    "duration": 5,
    "start_time": "2022-02-18T18:24:09.920Z"
   },
   {
    "duration": 270,
    "start_time": "2022-02-18T18:24:18.192Z"
   },
   {
    "duration": 278,
    "start_time": "2022-02-18T18:24:53.260Z"
   },
   {
    "duration": 265,
    "start_time": "2022-02-18T18:25:31.489Z"
   },
   {
    "duration": 169,
    "start_time": "2022-02-18T18:27:50.896Z"
   },
   {
    "duration": 187,
    "start_time": "2022-02-18T18:28:11.621Z"
   },
   {
    "duration": 159,
    "start_time": "2022-02-18T18:30:21.754Z"
   },
   {
    "duration": 125,
    "start_time": "2022-02-18T18:30:38.357Z"
   },
   {
    "duration": 1525,
    "start_time": "2022-02-18T18:30:48.043Z"
   },
   {
    "duration": 44,
    "start_time": "2022-02-18T18:30:49.571Z"
   },
   {
    "duration": 24,
    "start_time": "2022-02-18T18:30:49.618Z"
   },
   {
    "duration": 28,
    "start_time": "2022-02-18T18:30:49.645Z"
   },
   {
    "duration": 30,
    "start_time": "2022-02-18T18:30:49.676Z"
   },
   {
    "duration": 58,
    "start_time": "2022-02-18T18:30:49.709Z"
   },
   {
    "duration": 10,
    "start_time": "2022-02-18T18:30:49.770Z"
   },
   {
    "duration": 11604,
    "start_time": "2022-02-18T18:30:49.784Z"
   },
   {
    "duration": 135,
    "start_time": "2022-02-18T18:31:01.391Z"
   },
   {
    "duration": 12,
    "start_time": "2022-02-18T18:31:01.528Z"
   },
   {
    "duration": 21,
    "start_time": "2022-02-18T18:31:01.543Z"
   },
   {
    "duration": 14,
    "start_time": "2022-02-18T18:31:01.567Z"
   },
   {
    "duration": 8,
    "start_time": "2022-02-18T18:31:01.583Z"
   },
   {
    "duration": 11,
    "start_time": "2022-02-18T18:31:01.593Z"
   },
   {
    "duration": 12,
    "start_time": "2022-02-18T18:31:01.606Z"
   },
   {
    "duration": 446,
    "start_time": "2022-02-18T18:31:01.662Z"
   },
   {
    "duration": -913,
    "start_time": "2022-02-18T18:31:03.024Z"
   },
   {
    "duration": -921,
    "start_time": "2022-02-18T18:31:03.034Z"
   },
   {
    "duration": -924,
    "start_time": "2022-02-18T18:31:03.039Z"
   },
   {
    "duration": -925,
    "start_time": "2022-02-18T18:31:03.043Z"
   },
   {
    "duration": -926,
    "start_time": "2022-02-18T18:31:03.046Z"
   },
   {
    "duration": -929,
    "start_time": "2022-02-18T18:31:03.050Z"
   },
   {
    "duration": -930,
    "start_time": "2022-02-18T18:31:03.053Z"
   },
   {
    "duration": -933,
    "start_time": "2022-02-18T18:31:03.057Z"
   },
   {
    "duration": -935,
    "start_time": "2022-02-18T18:31:03.061Z"
   },
   {
    "duration": -937,
    "start_time": "2022-02-18T18:31:03.064Z"
   },
   {
    "duration": -939,
    "start_time": "2022-02-18T18:31:03.068Z"
   },
   {
    "duration": -940,
    "start_time": "2022-02-18T18:31:03.071Z"
   },
   {
    "duration": 177,
    "start_time": "2022-02-18T18:31:27.967Z"
   },
   {
    "duration": 179,
    "start_time": "2022-02-18T18:34:39.558Z"
   },
   {
    "duration": 508,
    "start_time": "2022-02-18T18:36:40.734Z"
   },
   {
    "duration": 507,
    "start_time": "2022-02-18T18:37:15.583Z"
   },
   {
    "duration": 3958,
    "start_time": "2022-02-18T18:37:31.754Z"
   },
   {
    "duration": 3617,
    "start_time": "2022-02-18T18:37:58.605Z"
   },
   {
    "duration": 4335,
    "start_time": "2022-02-18T18:39:08.239Z"
   },
   {
    "duration": 1473,
    "start_time": "2022-02-18T18:39:35.456Z"
   },
   {
    "duration": 49,
    "start_time": "2022-02-18T18:39:36.931Z"
   },
   {
    "duration": 24,
    "start_time": "2022-02-18T18:39:36.983Z"
   },
   {
    "duration": 17,
    "start_time": "2022-02-18T18:39:37.010Z"
   },
   {
    "duration": 55,
    "start_time": "2022-02-18T18:39:37.030Z"
   },
   {
    "duration": 28,
    "start_time": "2022-02-18T18:39:37.089Z"
   },
   {
    "duration": 9,
    "start_time": "2022-02-18T18:39:37.119Z"
   },
   {
    "duration": 11726,
    "start_time": "2022-02-18T18:39:37.162Z"
   },
   {
    "duration": 223,
    "start_time": "2022-02-18T18:39:48.892Z"
   },
   {
    "duration": 12,
    "start_time": "2022-02-18T18:39:49.119Z"
   },
   {
    "duration": 7,
    "start_time": "2022-02-18T18:39:49.134Z"
   },
   {
    "duration": 11,
    "start_time": "2022-02-18T18:39:49.162Z"
   },
   {
    "duration": 7,
    "start_time": "2022-02-18T18:39:49.176Z"
   },
   {
    "duration": 13,
    "start_time": "2022-02-18T18:39:49.185Z"
   },
   {
    "duration": 12,
    "start_time": "2022-02-18T18:39:49.200Z"
   },
   {
    "duration": 846,
    "start_time": "2022-02-18T18:39:49.215Z"
   },
   {
    "duration": 758,
    "start_time": "2022-02-18T18:39:50.063Z"
   },
   {
    "duration": 1529,
    "start_time": "2022-02-18T18:39:50.823Z"
   },
   {
    "duration": 2765,
    "start_time": "2022-02-18T18:39:52.355Z"
   },
   {
    "duration": 3681,
    "start_time": "2022-02-18T18:39:55.123Z"
   },
   {
    "duration": 420,
    "start_time": "2022-02-18T18:39:58.807Z"
   },
   {
    "duration": 444,
    "start_time": "2022-02-18T18:39:59.230Z"
   },
   {
    "duration": 443,
    "start_time": "2022-02-18T18:39:59.676Z"
   },
   {
    "duration": 459,
    "start_time": "2022-02-18T18:40:00.122Z"
   },
   {
    "duration": 629,
    "start_time": "2022-02-18T18:40:00.584Z"
   },
   {
    "duration": -1041,
    "start_time": "2022-02-18T18:40:02.256Z"
   },
   {
    "duration": -1043,
    "start_time": "2022-02-18T18:40:02.260Z"
   },
   {
    "duration": -1045,
    "start_time": "2022-02-18T18:40:02.264Z"
   },
   {
    "duration": 1481,
    "start_time": "2022-02-18T18:42:09.397Z"
   },
   {
    "duration": 49,
    "start_time": "2022-02-18T18:42:10.880Z"
   },
   {
    "duration": 31,
    "start_time": "2022-02-18T18:42:10.932Z"
   },
   {
    "duration": 14,
    "start_time": "2022-02-18T18:42:10.965Z"
   },
   {
    "duration": 28,
    "start_time": "2022-02-18T18:42:10.981Z"
   },
   {
    "duration": 57,
    "start_time": "2022-02-18T18:42:11.012Z"
   },
   {
    "duration": 10,
    "start_time": "2022-02-18T18:42:11.072Z"
   },
   {
    "duration": 11768,
    "start_time": "2022-02-18T18:42:11.086Z"
   },
   {
    "duration": 194,
    "start_time": "2022-02-18T18:42:22.857Z"
   },
   {
    "duration": 17,
    "start_time": "2022-02-18T18:42:23.053Z"
   },
   {
    "duration": 9,
    "start_time": "2022-02-18T18:42:23.073Z"
   },
   {
    "duration": 12,
    "start_time": "2022-02-18T18:42:23.085Z"
   },
   {
    "duration": 7,
    "start_time": "2022-02-18T18:42:23.099Z"
   },
   {
    "duration": 55,
    "start_time": "2022-02-18T18:42:23.108Z"
   },
   {
    "duration": 14,
    "start_time": "2022-02-18T18:42:23.165Z"
   },
   {
    "duration": 872,
    "start_time": "2022-02-18T18:42:23.182Z"
   },
   {
    "duration": 729,
    "start_time": "2022-02-18T18:42:24.056Z"
   },
   {
    "duration": 1579,
    "start_time": "2022-02-18T18:42:24.787Z"
   },
   {
    "duration": 2771,
    "start_time": "2022-02-18T18:42:26.369Z"
   },
   {
    "duration": 3771,
    "start_time": "2022-02-18T18:42:29.142Z"
   },
   {
    "duration": 432,
    "start_time": "2022-02-18T18:42:32.916Z"
   },
   {
    "duration": 460,
    "start_time": "2022-02-18T18:42:33.350Z"
   },
   {
    "duration": 448,
    "start_time": "2022-02-18T18:42:33.814Z"
   },
   {
    "duration": 441,
    "start_time": "2022-02-18T18:42:34.266Z"
   },
   {
    "duration": 658,
    "start_time": "2022-02-18T18:42:34.710Z"
   },
   {
    "duration": -947,
    "start_time": "2022-02-18T18:42:36.319Z"
   },
   {
    "duration": -953,
    "start_time": "2022-02-18T18:42:36.326Z"
   },
   {
    "duration": -959,
    "start_time": "2022-02-18T18:42:36.334Z"
   },
   {
    "duration": 158,
    "start_time": "2022-02-18T18:48:09.333Z"
   },
   {
    "duration": 171,
    "start_time": "2022-02-18T18:48:18.518Z"
   },
   {
    "duration": 1514,
    "start_time": "2022-02-18T18:49:04.373Z"
   },
   {
    "duration": 45,
    "start_time": "2022-02-18T18:49:05.890Z"
   },
   {
    "duration": 32,
    "start_time": "2022-02-18T18:49:05.938Z"
   },
   {
    "duration": 15,
    "start_time": "2022-02-18T18:49:05.973Z"
   },
   {
    "duration": 31,
    "start_time": "2022-02-18T18:49:05.990Z"
   },
   {
    "duration": 57,
    "start_time": "2022-02-18T18:49:06.023Z"
   },
   {
    "duration": 10,
    "start_time": "2022-02-18T18:49:06.082Z"
   },
   {
    "duration": 11573,
    "start_time": "2022-02-18T18:49:06.096Z"
   },
   {
    "duration": 285,
    "start_time": "2022-02-18T18:49:17.673Z"
   },
   {
    "duration": 16,
    "start_time": "2022-02-18T18:49:17.962Z"
   },
   {
    "duration": 21,
    "start_time": "2022-02-18T18:49:17.981Z"
   },
   {
    "duration": 14,
    "start_time": "2022-02-18T18:49:18.005Z"
   },
   {
    "duration": 41,
    "start_time": "2022-02-18T18:49:18.023Z"
   },
   {
    "duration": 14,
    "start_time": "2022-02-18T18:49:18.066Z"
   },
   {
    "duration": 17,
    "start_time": "2022-02-18T18:49:18.084Z"
   },
   {
    "duration": 887,
    "start_time": "2022-02-18T18:49:18.104Z"
   },
   {
    "duration": 715,
    "start_time": "2022-02-18T18:49:18.994Z"
   },
   {
    "duration": 1613,
    "start_time": "2022-02-18T18:49:19.712Z"
   },
   {
    "duration": 2955,
    "start_time": "2022-02-18T18:49:21.328Z"
   },
   {
    "duration": 3593,
    "start_time": "2022-02-18T18:49:24.285Z"
   },
   {
    "duration": 407,
    "start_time": "2022-02-18T18:49:27.881Z"
   },
   {
    "duration": 440,
    "start_time": "2022-02-18T18:49:28.291Z"
   },
   {
    "duration": 409,
    "start_time": "2022-02-18T18:49:28.736Z"
   },
   {
    "duration": 425,
    "start_time": "2022-02-18T18:49:29.147Z"
   },
   {
    "duration": 667,
    "start_time": "2022-02-18T18:49:29.574Z"
   },
   {
    "duration": -930,
    "start_time": "2022-02-18T18:49:31.175Z"
   },
   {
    "duration": -932,
    "start_time": "2022-02-18T18:49:31.179Z"
   },
   {
    "duration": -934,
    "start_time": "2022-02-18T18:49:31.183Z"
   },
   {
    "duration": -936,
    "start_time": "2022-02-18T18:49:31.187Z"
   },
   {
    "duration": 1552,
    "start_time": "2022-02-18T18:50:17.651Z"
   },
   {
    "duration": 57,
    "start_time": "2022-02-18T18:50:19.207Z"
   },
   {
    "duration": 22,
    "start_time": "2022-02-18T18:50:19.268Z"
   },
   {
    "duration": 26,
    "start_time": "2022-02-18T18:50:19.292Z"
   },
   {
    "duration": 32,
    "start_time": "2022-02-18T18:50:19.321Z"
   },
   {
    "duration": 25,
    "start_time": "2022-02-18T18:50:19.362Z"
   },
   {
    "duration": 11,
    "start_time": "2022-02-18T18:50:19.390Z"
   },
   {
    "duration": 11262,
    "start_time": "2022-02-18T18:50:19.406Z"
   },
   {
    "duration": 183,
    "start_time": "2022-02-18T18:50:30.671Z"
   },
   {
    "duration": 15,
    "start_time": "2022-02-18T18:50:30.856Z"
   },
   {
    "duration": 12,
    "start_time": "2022-02-18T18:50:30.873Z"
   },
   {
    "duration": 21,
    "start_time": "2022-02-18T18:50:30.887Z"
   },
   {
    "duration": 7,
    "start_time": "2022-02-18T18:50:30.910Z"
   },
   {
    "duration": 21,
    "start_time": "2022-02-18T18:50:30.919Z"
   },
   {
    "duration": 12,
    "start_time": "2022-02-18T18:50:30.962Z"
   },
   {
    "duration": 787,
    "start_time": "2022-02-18T18:50:30.977Z"
   },
   {
    "duration": 689,
    "start_time": "2022-02-18T18:50:31.767Z"
   },
   {
    "duration": 1642,
    "start_time": "2022-02-18T18:50:32.461Z"
   },
   {
    "duration": 2738,
    "start_time": "2022-02-18T18:50:34.106Z"
   },
   {
    "duration": 4151,
    "start_time": "2022-02-18T18:50:36.847Z"
   },
   {
    "duration": 416,
    "start_time": "2022-02-18T18:50:41.000Z"
   },
   {
    "duration": 433,
    "start_time": "2022-02-18T18:50:41.419Z"
   },
   {
    "duration": 407,
    "start_time": "2022-02-18T18:50:41.862Z"
   },
   {
    "duration": 429,
    "start_time": "2022-02-18T18:50:42.272Z"
   },
   {
    "duration": 663,
    "start_time": "2022-02-18T18:50:42.704Z"
   },
   {
    "duration": -1012,
    "start_time": "2022-02-18T18:50:44.382Z"
   },
   {
    "duration": -1017,
    "start_time": "2022-02-18T18:50:44.389Z"
   },
   {
    "duration": -1022,
    "start_time": "2022-02-18T18:50:44.395Z"
   },
   {
    "duration": 181,
    "start_time": "2022-02-18T18:51:21.330Z"
   },
   {
    "duration": 1508,
    "start_time": "2022-02-18T18:53:54.534Z"
   },
   {
    "duration": 44,
    "start_time": "2022-02-18T18:53:56.044Z"
   },
   {
    "duration": 25,
    "start_time": "2022-02-18T18:53:56.090Z"
   },
   {
    "duration": 14,
    "start_time": "2022-02-18T18:53:56.118Z"
   },
   {
    "duration": 53,
    "start_time": "2022-02-18T18:53:56.134Z"
   },
   {
    "duration": 24,
    "start_time": "2022-02-18T18:53:56.190Z"
   },
   {
    "duration": 10,
    "start_time": "2022-02-18T18:53:56.217Z"
   },
   {
    "duration": 12530,
    "start_time": "2022-02-18T18:53:56.231Z"
   },
   {
    "duration": 190,
    "start_time": "2022-02-18T18:54:08.764Z"
   },
   {
    "duration": 14,
    "start_time": "2022-02-18T18:54:08.956Z"
   },
   {
    "duration": 7,
    "start_time": "2022-02-18T18:54:08.972Z"
   },
   {
    "duration": 12,
    "start_time": "2022-02-18T18:54:08.982Z"
   },
   {
    "duration": 7,
    "start_time": "2022-02-18T18:54:08.996Z"
   },
   {
    "duration": 13,
    "start_time": "2022-02-18T18:54:09.005Z"
   },
   {
    "duration": 13,
    "start_time": "2022-02-18T18:54:09.062Z"
   },
   {
    "duration": 848,
    "start_time": "2022-02-18T18:54:09.078Z"
   },
   {
    "duration": 741,
    "start_time": "2022-02-18T18:54:09.928Z"
   },
   {
    "duration": 1662,
    "start_time": "2022-02-18T18:54:10.672Z"
   },
   {
    "duration": 2890,
    "start_time": "2022-02-18T18:54:12.337Z"
   },
   {
    "duration": 3776,
    "start_time": "2022-02-18T18:54:15.230Z"
   },
   {
    "duration": 443,
    "start_time": "2022-02-18T18:54:19.009Z"
   },
   {
    "duration": 448,
    "start_time": "2022-02-18T18:54:19.462Z"
   },
   {
    "duration": 424,
    "start_time": "2022-02-18T18:54:19.915Z"
   },
   {
    "duration": 452,
    "start_time": "2022-02-18T18:54:20.342Z"
   },
   {
    "duration": 685,
    "start_time": "2022-02-18T18:54:20.797Z"
   },
   {
    "duration": -939,
    "start_time": "2022-02-18T18:54:22.424Z"
   },
   {
    "duration": -945,
    "start_time": "2022-02-18T18:54:22.431Z"
   },
   {
    "duration": -950,
    "start_time": "2022-02-18T18:54:22.438Z"
   },
   {
    "duration": 188,
    "start_time": "2022-02-18T18:54:47.740Z"
   },
   {
    "duration": 194,
    "start_time": "2022-02-18T18:55:23.145Z"
   },
   {
    "duration": 160,
    "start_time": "2022-02-18T18:59:48.087Z"
   },
   {
    "duration": 1469,
    "start_time": "2022-02-18T19:01:03.714Z"
   },
   {
    "duration": 61,
    "start_time": "2022-02-18T19:01:05.186Z"
   },
   {
    "duration": 38,
    "start_time": "2022-02-18T19:01:05.251Z"
   },
   {
    "duration": 15,
    "start_time": "2022-02-18T19:01:05.292Z"
   },
   {
    "duration": 58,
    "start_time": "2022-02-18T19:01:05.310Z"
   },
   {
    "duration": 25,
    "start_time": "2022-02-18T19:01:05.371Z"
   },
   {
    "duration": 10,
    "start_time": "2022-02-18T19:01:05.398Z"
   },
   {
    "duration": 11658,
    "start_time": "2022-02-18T19:01:05.411Z"
   },
   {
    "duration": 163,
    "start_time": "2022-02-18T19:01:17.071Z"
   },
   {
    "duration": 24,
    "start_time": "2022-02-18T19:01:17.237Z"
   },
   {
    "duration": 8,
    "start_time": "2022-02-18T19:01:17.264Z"
   },
   {
    "duration": 22,
    "start_time": "2022-02-18T19:01:17.276Z"
   },
   {
    "duration": 19,
    "start_time": "2022-02-18T19:01:17.300Z"
   },
   {
    "duration": 39,
    "start_time": "2022-02-18T19:01:17.322Z"
   },
   {
    "duration": 12,
    "start_time": "2022-02-18T19:01:17.363Z"
   },
   {
    "duration": 2186,
    "start_time": "2022-02-18T19:01:17.378Z"
   },
   {
    "duration": 1399,
    "start_time": "2022-02-18T19:01:19.567Z"
   },
   {
    "duration": -891,
    "start_time": "2022-02-18T19:01:21.859Z"
   },
   {
    "duration": -897,
    "start_time": "2022-02-18T19:01:21.867Z"
   },
   {
    "duration": -901,
    "start_time": "2022-02-18T19:01:21.872Z"
   },
   {
    "duration": -903,
    "start_time": "2022-02-18T19:01:21.876Z"
   },
   {
    "duration": -907,
    "start_time": "2022-02-18T19:01:21.881Z"
   },
   {
    "duration": -909,
    "start_time": "2022-02-18T19:01:21.885Z"
   },
   {
    "duration": -910,
    "start_time": "2022-02-18T19:01:21.888Z"
   },
   {
    "duration": -914,
    "start_time": "2022-02-18T19:01:21.893Z"
   },
   {
    "duration": -916,
    "start_time": "2022-02-18T19:01:21.896Z"
   },
   {
    "duration": -918,
    "start_time": "2022-02-18T19:01:21.900Z"
   },
   {
    "duration": -919,
    "start_time": "2022-02-18T19:01:21.902Z"
   },
   {
    "duration": 1458,
    "start_time": "2022-02-18T19:03:13.782Z"
   },
   {
    "duration": 48,
    "start_time": "2022-02-18T19:03:15.242Z"
   },
   {
    "duration": 29,
    "start_time": "2022-02-18T19:03:15.294Z"
   },
   {
    "duration": 37,
    "start_time": "2022-02-18T19:03:15.326Z"
   },
   {
    "duration": 31,
    "start_time": "2022-02-18T19:03:15.366Z"
   },
   {
    "duration": 30,
    "start_time": "2022-02-18T19:03:15.400Z"
   },
   {
    "duration": 36,
    "start_time": "2022-02-18T19:03:15.433Z"
   },
   {
    "duration": 12122,
    "start_time": "2022-02-18T19:03:15.473Z"
   },
   {
    "duration": 567,
    "start_time": "2022-02-18T19:03:27.598Z"
   },
   {
    "duration": -921,
    "start_time": "2022-02-18T19:03:29.089Z"
   },
   {
    "duration": -922,
    "start_time": "2022-02-18T19:03:29.092Z"
   },
   {
    "duration": -924,
    "start_time": "2022-02-18T19:03:29.095Z"
   },
   {
    "duration": -926,
    "start_time": "2022-02-18T19:03:29.099Z"
   },
   {
    "duration": -928,
    "start_time": "2022-02-18T19:03:29.102Z"
   },
   {
    "duration": -931,
    "start_time": "2022-02-18T19:03:29.106Z"
   },
   {
    "duration": -932,
    "start_time": "2022-02-18T19:03:29.109Z"
   },
   {
    "duration": -935,
    "start_time": "2022-02-18T19:03:29.113Z"
   },
   {
    "duration": -936,
    "start_time": "2022-02-18T19:03:29.116Z"
   },
   {
    "duration": -938,
    "start_time": "2022-02-18T19:03:29.119Z"
   },
   {
    "duration": -939,
    "start_time": "2022-02-18T19:03:29.122Z"
   },
   {
    "duration": -941,
    "start_time": "2022-02-18T19:03:29.126Z"
   },
   {
    "duration": -943,
    "start_time": "2022-02-18T19:03:29.129Z"
   },
   {
    "duration": -945,
    "start_time": "2022-02-18T19:03:29.133Z"
   },
   {
    "duration": -947,
    "start_time": "2022-02-18T19:03:29.136Z"
   },
   {
    "duration": -949,
    "start_time": "2022-02-18T19:03:29.139Z"
   },
   {
    "duration": -951,
    "start_time": "2022-02-18T19:03:29.142Z"
   },
   {
    "duration": -953,
    "start_time": "2022-02-18T19:03:29.146Z"
   },
   {
    "duration": -955,
    "start_time": "2022-02-18T19:03:29.149Z"
   },
   {
    "duration": 441,
    "start_time": "2022-02-18T19:03:56.674Z"
   },
   {
    "duration": 463,
    "start_time": "2022-02-18T19:04:08.572Z"
   },
   {
    "duration": 11745,
    "start_time": "2022-02-18T19:05:05.378Z"
   },
   {
    "duration": 100,
    "start_time": "2022-02-18T19:07:36.690Z"
   },
   {
    "duration": 112,
    "start_time": "2022-02-18T19:07:41.246Z"
   },
   {
    "duration": 150,
    "start_time": "2022-02-18T19:07:48.777Z"
   },
   {
    "duration": 109,
    "start_time": "2022-02-18T19:11:43.513Z"
   },
   {
    "duration": 14,
    "start_time": "2022-02-18T19:12:09.854Z"
   },
   {
    "duration": 93,
    "start_time": "2022-02-18T19:12:23.563Z"
   },
   {
    "duration": 615,
    "start_time": "2022-02-18T19:12:46.942Z"
   },
   {
    "duration": 515,
    "start_time": "2022-02-18T19:13:14.417Z"
   },
   {
    "duration": 7898,
    "start_time": "2022-02-18T19:15:00.770Z"
   },
   {
    "duration": 7878,
    "start_time": "2022-02-18T19:15:23.296Z"
   },
   {
    "duration": 678,
    "start_time": "2022-02-18T19:16:10.640Z"
   },
   {
    "duration": 549,
    "start_time": "2022-02-18T19:16:33.649Z"
   },
   {
    "duration": 575,
    "start_time": "2022-02-18T19:17:12.021Z"
   },
   {
    "duration": 515,
    "start_time": "2022-02-18T19:17:43.979Z"
   },
   {
    "duration": 7840,
    "start_time": "2022-02-18T19:17:58.625Z"
   },
   {
    "duration": 325,
    "start_time": "2022-02-18T19:20:31.278Z"
   },
   {
    "duration": 484,
    "start_time": "2022-02-18T19:21:50.011Z"
   },
   {
    "duration": 185,
    "start_time": "2022-02-18T19:22:05.106Z"
   },
   {
    "duration": 69,
    "start_time": "2022-02-18T19:24:18.813Z"
   },
   {
    "duration": 1713,
    "start_time": "2022-02-18T19:25:21.865Z"
   },
   {
    "duration": 45,
    "start_time": "2022-02-18T19:25:23.581Z"
   },
   {
    "duration": 38,
    "start_time": "2022-02-18T19:25:23.630Z"
   },
   {
    "duration": 16,
    "start_time": "2022-02-18T19:25:23.672Z"
   },
   {
    "duration": 53,
    "start_time": "2022-02-18T19:25:23.691Z"
   },
   {
    "duration": 37,
    "start_time": "2022-02-18T19:25:23.747Z"
   },
   {
    "duration": 12,
    "start_time": "2022-02-18T19:25:23.786Z"
   },
   {
    "duration": 12092,
    "start_time": "2022-02-18T19:25:23.800Z"
   },
   {
    "duration": 73,
    "start_time": "2022-02-18T19:25:35.896Z"
   },
   {
    "duration": 12,
    "start_time": "2022-02-18T19:25:35.972Z"
   },
   {
    "duration": 17,
    "start_time": "2022-02-18T19:25:35.986Z"
   },
   {
    "duration": 13,
    "start_time": "2022-02-18T19:25:36.005Z"
   },
   {
    "duration": 48,
    "start_time": "2022-02-18T19:25:36.021Z"
   },
   {
    "duration": 11,
    "start_time": "2022-02-18T19:25:36.072Z"
   },
   {
    "duration": 22,
    "start_time": "2022-02-18T19:25:36.086Z"
   },
   {
    "duration": 597,
    "start_time": "2022-02-18T19:25:36.111Z"
   },
   {
    "duration": 913,
    "start_time": "2022-02-18T19:25:36.711Z"
   },
   {
    "duration": 2541,
    "start_time": "2022-02-18T19:25:37.627Z"
   },
   {
    "duration": 2772,
    "start_time": "2022-02-18T19:25:40.171Z"
   },
   {
    "duration": 3573,
    "start_time": "2022-02-18T19:25:42.945Z"
   },
   {
    "duration": 524,
    "start_time": "2022-02-18T19:25:46.521Z"
   },
   {
    "duration": 473,
    "start_time": "2022-02-18T19:25:47.048Z"
   },
   {
    "duration": 418,
    "start_time": "2022-02-18T19:25:47.525Z"
   },
   {
    "duration": 442,
    "start_time": "2022-02-18T19:25:47.946Z"
   },
   {
    "duration": 687,
    "start_time": "2022-02-18T19:25:48.391Z"
   },
   {
    "duration": -1021,
    "start_time": "2022-02-18T19:25:50.102Z"
   },
   {
    "duration": -1023,
    "start_time": "2022-02-18T19:25:50.106Z"
   },
   {
    "duration": -1027,
    "start_time": "2022-02-18T19:25:50.113Z"
   },
   {
    "duration": 1539,
    "start_time": "2022-02-18T19:27:25.434Z"
   },
   {
    "duration": 43,
    "start_time": "2022-02-18T19:27:26.977Z"
   },
   {
    "duration": 37,
    "start_time": "2022-02-18T19:27:27.023Z"
   },
   {
    "duration": 15,
    "start_time": "2022-02-18T19:27:27.063Z"
   },
   {
    "duration": 31,
    "start_time": "2022-02-18T19:27:27.081Z"
   },
   {
    "duration": 57,
    "start_time": "2022-02-18T19:27:27.115Z"
   },
   {
    "duration": 9,
    "start_time": "2022-02-18T19:27:27.175Z"
   },
   {
    "duration": 12036,
    "start_time": "2022-02-18T19:27:27.188Z"
   },
   {
    "duration": 922,
    "start_time": "2022-02-18T19:27:39.227Z"
   },
   {
    "duration": -891,
    "start_time": "2022-02-18T19:27:41.043Z"
   },
   {
    "duration": -894,
    "start_time": "2022-02-18T19:27:41.048Z"
   },
   {
    "duration": -896,
    "start_time": "2022-02-18T19:27:41.051Z"
   },
   {
    "duration": -897,
    "start_time": "2022-02-18T19:27:41.054Z"
   },
   {
    "duration": -900,
    "start_time": "2022-02-18T19:27:41.058Z"
   },
   {
    "duration": -901,
    "start_time": "2022-02-18T19:27:41.061Z"
   },
   {
    "duration": -902,
    "start_time": "2022-02-18T19:27:41.064Z"
   },
   {
    "duration": -904,
    "start_time": "2022-02-18T19:27:41.067Z"
   },
   {
    "duration": -906,
    "start_time": "2022-02-18T19:27:41.071Z"
   },
   {
    "duration": -907,
    "start_time": "2022-02-18T19:27:41.074Z"
   },
   {
    "duration": -909,
    "start_time": "2022-02-18T19:27:41.077Z"
   },
   {
    "duration": -912,
    "start_time": "2022-02-18T19:27:41.082Z"
   },
   {
    "duration": -916,
    "start_time": "2022-02-18T19:27:41.087Z"
   },
   {
    "duration": -917,
    "start_time": "2022-02-18T19:27:41.090Z"
   },
   {
    "duration": -920,
    "start_time": "2022-02-18T19:27:41.095Z"
   },
   {
    "duration": -922,
    "start_time": "2022-02-18T19:27:41.098Z"
   },
   {
    "duration": -923,
    "start_time": "2022-02-18T19:27:41.101Z"
   },
   {
    "duration": -924,
    "start_time": "2022-02-18T19:27:41.104Z"
   },
   {
    "duration": -986,
    "start_time": "2022-02-18T19:27:41.167Z"
   },
   {
    "duration": 7,
    "start_time": "2022-02-18T19:28:22.859Z"
   },
   {
    "duration": 88,
    "start_time": "2022-02-18T19:28:31.781Z"
   },
   {
    "duration": 1585,
    "start_time": "2022-02-18T19:31:57.466Z"
   },
   {
    "duration": 50,
    "start_time": "2022-02-18T19:31:59.053Z"
   },
   {
    "duration": 23,
    "start_time": "2022-02-18T19:31:59.106Z"
   },
   {
    "duration": 14,
    "start_time": "2022-02-18T19:31:59.132Z"
   },
   {
    "duration": 31,
    "start_time": "2022-02-18T19:31:59.163Z"
   },
   {
    "duration": 27,
    "start_time": "2022-02-18T19:31:59.198Z"
   },
   {
    "duration": 12,
    "start_time": "2022-02-18T19:31:59.262Z"
   },
   {
    "duration": 12265,
    "start_time": "2022-02-18T19:31:59.279Z"
   },
   {
    "duration": 466,
    "start_time": "2022-02-18T19:32:11.548Z"
   },
   {
    "duration": 16,
    "start_time": "2022-02-18T19:32:12.018Z"
   },
   {
    "duration": 8,
    "start_time": "2022-02-18T19:32:12.037Z"
   },
   {
    "duration": 14,
    "start_time": "2022-02-18T19:32:12.048Z"
   },
   {
    "duration": 24,
    "start_time": "2022-02-18T19:32:12.065Z"
   },
   {
    "duration": 11,
    "start_time": "2022-02-18T19:32:12.091Z"
   },
   {
    "duration": 12,
    "start_time": "2022-02-18T19:32:12.105Z"
   },
   {
    "duration": 859,
    "start_time": "2022-02-18T19:32:12.119Z"
   },
   {
    "duration": 830,
    "start_time": "2022-02-18T19:32:12.981Z"
   },
   {
    "duration": 1672,
    "start_time": "2022-02-18T19:32:13.814Z"
   },
   {
    "duration": 2966,
    "start_time": "2022-02-18T19:32:15.489Z"
   },
   {
    "duration": 3933,
    "start_time": "2022-02-18T19:32:18.462Z"
   },
   {
    "duration": 429,
    "start_time": "2022-02-18T19:32:22.399Z"
   },
   {
    "duration": 513,
    "start_time": "2022-02-18T19:32:22.830Z"
   },
   {
    "duration": 435,
    "start_time": "2022-02-18T19:32:23.345Z"
   },
   {
    "duration": 455,
    "start_time": "2022-02-18T19:32:23.783Z"
   },
   {
    "duration": 684,
    "start_time": "2022-02-18T19:32:24.241Z"
   },
   {
    "duration": -899,
    "start_time": "2022-02-18T19:32:25.827Z"
   },
   {
    "duration": -901,
    "start_time": "2022-02-18T19:32:25.831Z"
   },
   {
    "duration": -903,
    "start_time": "2022-02-18T19:32:25.835Z"
   },
   {
    "duration": 1626,
    "start_time": "2022-02-18T19:35:59.606Z"
   },
   {
    "duration": 47,
    "start_time": "2022-02-18T19:36:01.235Z"
   },
   {
    "duration": 24,
    "start_time": "2022-02-18T19:36:01.286Z"
   },
   {
    "duration": 22,
    "start_time": "2022-02-18T19:36:01.313Z"
   },
   {
    "duration": 51,
    "start_time": "2022-02-18T19:36:01.339Z"
   },
   {
    "duration": 28,
    "start_time": "2022-02-18T19:36:01.393Z"
   },
   {
    "duration": 42,
    "start_time": "2022-02-18T19:36:01.424Z"
   },
   {
    "duration": 12062,
    "start_time": "2022-02-18T19:36:01.470Z"
   },
   {
    "duration": -860,
    "start_time": "2022-02-18T19:37:25.240Z"
   },
   {
    "duration": -863,
    "start_time": "2022-02-18T19:37:25.244Z"
   },
   {
    "duration": -864,
    "start_time": "2022-02-18T19:37:25.247Z"
   },
   {
    "duration": -866,
    "start_time": "2022-02-18T19:37:25.251Z"
   },
   {
    "duration": -869,
    "start_time": "2022-02-18T19:37:25.256Z"
   },
   {
    "duration": -872,
    "start_time": "2022-02-18T19:37:25.260Z"
   },
   {
    "duration": -874,
    "start_time": "2022-02-18T19:37:25.264Z"
   },
   {
    "duration": -877,
    "start_time": "2022-02-18T19:37:25.268Z"
   },
   {
    "duration": -879,
    "start_time": "2022-02-18T19:37:25.272Z"
   },
   {
    "duration": -881,
    "start_time": "2022-02-18T19:37:25.275Z"
   },
   {
    "duration": -884,
    "start_time": "2022-02-18T19:37:25.279Z"
   },
   {
    "duration": -896,
    "start_time": "2022-02-18T19:37:25.294Z"
   },
   {
    "duration": -901,
    "start_time": "2022-02-18T19:37:25.300Z"
   },
   {
    "duration": -903,
    "start_time": "2022-02-18T19:37:25.303Z"
   },
   {
    "duration": -907,
    "start_time": "2022-02-18T19:37:25.308Z"
   },
   {
    "duration": -909,
    "start_time": "2022-02-18T19:37:25.312Z"
   },
   {
    "duration": -910,
    "start_time": "2022-02-18T19:37:25.315Z"
   },
   {
    "duration": -913,
    "start_time": "2022-02-18T19:37:25.319Z"
   },
   {
    "duration": -939,
    "start_time": "2022-02-18T19:37:25.347Z"
   },
   {
    "duration": -940,
    "start_time": "2022-02-18T19:37:25.350Z"
   },
   {
    "duration": 1582,
    "start_time": "2022-02-18T19:37:31.596Z"
   },
   {
    "duration": 43,
    "start_time": "2022-02-18T19:37:33.181Z"
   },
   {
    "duration": 35,
    "start_time": "2022-02-18T19:37:33.227Z"
   },
   {
    "duration": 15,
    "start_time": "2022-02-18T19:37:33.265Z"
   },
   {
    "duration": 29,
    "start_time": "2022-02-18T19:37:33.282Z"
   },
   {
    "duration": 61,
    "start_time": "2022-02-18T19:37:33.314Z"
   },
   {
    "duration": 10,
    "start_time": "2022-02-18T19:37:33.377Z"
   },
   {
    "duration": 12420,
    "start_time": "2022-02-18T19:37:33.391Z"
   },
   {
    "duration": 1531,
    "start_time": "2022-02-18T19:38:59.292Z"
   },
   {
    "duration": 50,
    "start_time": "2022-02-18T19:39:00.826Z"
   },
   {
    "duration": 25,
    "start_time": "2022-02-18T19:39:00.879Z"
   },
   {
    "duration": 57,
    "start_time": "2022-02-18T19:39:00.907Z"
   },
   {
    "duration": 52,
    "start_time": "2022-02-18T19:39:00.967Z"
   },
   {
    "duration": 32,
    "start_time": "2022-02-18T19:39:01.022Z"
   },
   {
    "duration": 9,
    "start_time": "2022-02-18T19:39:01.057Z"
   },
   {
    "duration": 11687,
    "start_time": "2022-02-18T19:39:01.070Z"
   },
   {
    "duration": 1492,
    "start_time": "2022-02-18T19:40:35.153Z"
   },
   {
    "duration": 44,
    "start_time": "2022-02-18T19:40:36.647Z"
   },
   {
    "duration": 24,
    "start_time": "2022-02-18T19:40:36.694Z"
   },
   {
    "duration": 14,
    "start_time": "2022-02-18T19:40:36.721Z"
   },
   {
    "duration": 29,
    "start_time": "2022-02-18T19:40:36.761Z"
   },
   {
    "duration": 27,
    "start_time": "2022-02-18T19:40:36.792Z"
   },
   {
    "duration": 40,
    "start_time": "2022-02-18T19:40:36.822Z"
   },
   {
    "duration": 11835,
    "start_time": "2022-02-18T19:40:36.868Z"
   },
   {
    "duration": 510,
    "start_time": "2022-02-18T19:40:48.707Z"
   },
   {
    "duration": 14,
    "start_time": "2022-02-18T19:40:49.220Z"
   },
   {
    "duration": 8,
    "start_time": "2022-02-18T19:40:49.237Z"
   },
   {
    "duration": 14,
    "start_time": "2022-02-18T19:40:49.248Z"
   },
   {
    "duration": 11,
    "start_time": "2022-02-18T19:40:49.265Z"
   },
   {
    "duration": 12,
    "start_time": "2022-02-18T19:40:49.279Z"
   },
   {
    "duration": 12,
    "start_time": "2022-02-18T19:40:49.294Z"
   },
   {
    "duration": 843,
    "start_time": "2022-02-18T19:40:49.308Z"
   },
   {
    "duration": 724,
    "start_time": "2022-02-18T19:40:50.162Z"
   },
   {
    "duration": 1583,
    "start_time": "2022-02-18T19:40:50.888Z"
   },
   {
    "duration": 2731,
    "start_time": "2022-02-18T19:40:52.473Z"
   },
   {
    "duration": 3689,
    "start_time": "2022-02-18T19:40:55.207Z"
   },
   {
    "duration": 415,
    "start_time": "2022-02-18T19:40:58.898Z"
   },
   {
    "duration": 462,
    "start_time": "2022-02-18T19:40:59.316Z"
   },
   {
    "duration": 432,
    "start_time": "2022-02-18T19:40:59.780Z"
   },
   {
    "duration": 470,
    "start_time": "2022-02-18T19:41:00.215Z"
   },
   {
    "duration": 722,
    "start_time": "2022-02-18T19:41:00.687Z"
   },
   {
    "duration": -957,
    "start_time": "2022-02-18T19:41:02.369Z"
   },
   {
    "duration": -958,
    "start_time": "2022-02-18T19:41:02.372Z"
   },
   {
    "duration": -961,
    "start_time": "2022-02-18T19:41:02.376Z"
   },
   {
    "duration": 53,
    "start_time": "2022-02-18T19:41:13.606Z"
   },
   {
    "duration": 1476,
    "start_time": "2022-02-18T19:42:52.088Z"
   },
   {
    "duration": 48,
    "start_time": "2022-02-18T19:42:53.566Z"
   },
   {
    "duration": 23,
    "start_time": "2022-02-18T19:42:53.618Z"
   },
   {
    "duration": 30,
    "start_time": "2022-02-18T19:42:53.643Z"
   },
   {
    "duration": 41,
    "start_time": "2022-02-18T19:42:53.676Z"
   },
   {
    "duration": 29,
    "start_time": "2022-02-18T19:42:53.720Z"
   },
   {
    "duration": 10,
    "start_time": "2022-02-18T19:42:53.762Z"
   },
   {
    "duration": 11659,
    "start_time": "2022-02-18T19:42:53.775Z"
   },
   {
    "duration": 56,
    "start_time": "2022-02-18T19:43:05.438Z"
   },
   {
    "duration": 11,
    "start_time": "2022-02-18T19:43:05.497Z"
   },
   {
    "duration": 7,
    "start_time": "2022-02-18T19:43:05.510Z"
   },
   {
    "duration": 47,
    "start_time": "2022-02-18T19:43:05.520Z"
   },
   {
    "duration": 12,
    "start_time": "2022-02-18T19:43:05.570Z"
   },
   {
    "duration": 13,
    "start_time": "2022-02-18T19:43:05.584Z"
   },
   {
    "duration": 14,
    "start_time": "2022-02-18T19:43:05.600Z"
   },
   {
    "duration": 826,
    "start_time": "2022-02-18T19:43:05.617Z"
   },
   {
    "duration": 748,
    "start_time": "2022-02-18T19:43:06.446Z"
   },
   {
    "duration": 1531,
    "start_time": "2022-02-18T19:43:07.197Z"
   },
   {
    "duration": 2798,
    "start_time": "2022-02-18T19:43:08.731Z"
   },
   {
    "duration": 3590,
    "start_time": "2022-02-18T19:43:11.532Z"
   },
   {
    "duration": 416,
    "start_time": "2022-02-18T19:43:15.125Z"
   },
   {
    "duration": 441,
    "start_time": "2022-02-18T19:43:15.543Z"
   },
   {
    "duration": 415,
    "start_time": "2022-02-18T19:43:15.987Z"
   },
   {
    "duration": 450,
    "start_time": "2022-02-18T19:43:16.404Z"
   },
   {
    "duration": 752,
    "start_time": "2022-02-18T19:43:16.861Z"
   },
   {
    "duration": -979,
    "start_time": "2022-02-18T19:43:18.596Z"
   },
   {
    "duration": -984,
    "start_time": "2022-02-18T19:43:18.603Z"
   },
   {
    "duration": -993,
    "start_time": "2022-02-18T19:43:18.614Z"
   },
   {
    "duration": 68,
    "start_time": "2022-02-18T19:44:21.810Z"
   },
   {
    "duration": 71,
    "start_time": "2022-02-18T19:46:19.916Z"
   },
   {
    "duration": 75,
    "start_time": "2022-02-18T19:47:27.363Z"
   },
   {
    "duration": 84,
    "start_time": "2022-02-18T19:47:53.914Z"
   },
   {
    "duration": 74,
    "start_time": "2022-02-18T19:48:22.008Z"
   },
   {
    "duration": 325,
    "start_time": "2022-02-18T19:48:52.684Z"
   },
   {
    "duration": 81,
    "start_time": "2022-02-18T19:49:00.883Z"
   },
   {
    "duration": 75,
    "start_time": "2022-02-18T19:51:37.581Z"
   },
   {
    "duration": 60,
    "start_time": "2022-02-18T19:52:15.300Z"
   },
   {
    "duration": 57,
    "start_time": "2022-02-18T19:52:28.553Z"
   },
   {
    "duration": 95,
    "start_time": "2022-02-18T19:52:33.997Z"
   },
   {
    "duration": 51,
    "start_time": "2022-02-18T19:53:02.803Z"
   },
   {
    "duration": 54,
    "start_time": "2022-02-18T19:53:06.984Z"
   },
   {
    "duration": 59,
    "start_time": "2022-02-18T19:53:18.651Z"
   },
   {
    "duration": 13,
    "start_time": "2022-02-18T19:55:11.479Z"
   },
   {
    "duration": 98,
    "start_time": "2022-02-18T19:56:19.265Z"
   },
   {
    "duration": 52,
    "start_time": "2022-02-18T20:00:00.831Z"
   },
   {
    "duration": 285,
    "start_time": "2022-02-18T20:05:55.325Z"
   },
   {
    "duration": 12,
    "start_time": "2022-02-18T20:06:03.895Z"
   },
   {
    "duration": 12,
    "start_time": "2022-02-18T20:06:38.230Z"
   },
   {
    "duration": 36,
    "start_time": "2022-02-18T20:14:56.777Z"
   },
   {
    "duration": 26,
    "start_time": "2022-02-18T20:15:32.814Z"
   },
   {
    "duration": 1486,
    "start_time": "2022-02-18T20:16:33.099Z"
   },
   {
    "duration": 43,
    "start_time": "2022-02-18T20:16:34.588Z"
   },
   {
    "duration": 31,
    "start_time": "2022-02-18T20:16:34.634Z"
   },
   {
    "duration": 20,
    "start_time": "2022-02-18T20:16:34.668Z"
   },
   {
    "duration": 28,
    "start_time": "2022-02-18T20:16:34.690Z"
   },
   {
    "duration": 54,
    "start_time": "2022-02-18T20:16:34.721Z"
   },
   {
    "duration": 10,
    "start_time": "2022-02-18T20:16:34.777Z"
   },
   {
    "duration": 11909,
    "start_time": "2022-02-18T20:16:34.791Z"
   },
   {
    "duration": 104,
    "start_time": "2022-02-18T20:16:46.703Z"
   },
   {
    "duration": 66,
    "start_time": "2022-02-18T20:16:46.810Z"
   },
   {
    "duration": 12,
    "start_time": "2022-02-18T20:16:46.879Z"
   },
   {
    "duration": 77,
    "start_time": "2022-02-18T20:16:46.894Z"
   },
   {
    "duration": 8,
    "start_time": "2022-02-18T20:16:46.974Z"
   },
   {
    "duration": 12,
    "start_time": "2022-02-18T20:16:46.984Z"
   },
   {
    "duration": 11,
    "start_time": "2022-02-18T20:16:46.999Z"
   },
   {
    "duration": 49,
    "start_time": "2022-02-18T20:16:47.012Z"
   },
   {
    "duration": 12,
    "start_time": "2022-02-18T20:16:47.063Z"
   },
   {
    "duration": 818,
    "start_time": "2022-02-18T20:16:47.077Z"
   },
   {
    "duration": 715,
    "start_time": "2022-02-18T20:16:47.898Z"
   },
   {
    "duration": 1582,
    "start_time": "2022-02-18T20:16:48.616Z"
   },
   {
    "duration": 2716,
    "start_time": "2022-02-18T20:16:50.200Z"
   },
   {
    "duration": 3512,
    "start_time": "2022-02-18T20:16:52.919Z"
   },
   {
    "duration": 431,
    "start_time": "2022-02-18T20:16:56.437Z"
   },
   {
    "duration": 439,
    "start_time": "2022-02-18T20:16:56.871Z"
   },
   {
    "duration": 408,
    "start_time": "2022-02-18T20:16:57.312Z"
   },
   {
    "duration": 525,
    "start_time": "2022-02-18T20:16:57.722Z"
   },
   {
    "duration": 711,
    "start_time": "2022-02-18T20:16:58.251Z"
   },
   {
    "duration": -954,
    "start_time": "2022-02-18T20:16:59.919Z"
   },
   {
    "duration": -958,
    "start_time": "2022-02-18T20:16:59.924Z"
   },
   {
    "duration": -959,
    "start_time": "2022-02-18T20:16:59.928Z"
   },
   {
    "duration": 26,
    "start_time": "2022-02-18T20:18:26.660Z"
   },
   {
    "duration": 1450,
    "start_time": "2022-02-18T20:20:09.318Z"
   },
   {
    "duration": 45,
    "start_time": "2022-02-18T20:20:10.771Z"
   },
   {
    "duration": 24,
    "start_time": "2022-02-18T20:20:10.820Z"
   },
   {
    "duration": 14,
    "start_time": "2022-02-18T20:20:10.862Z"
   },
   {
    "duration": 29,
    "start_time": "2022-02-18T20:20:10.879Z"
   },
   {
    "duration": 24,
    "start_time": "2022-02-18T20:20:10.911Z"
   },
   {
    "duration": 9,
    "start_time": "2022-02-18T20:20:10.962Z"
   },
   {
    "duration": 11642,
    "start_time": "2022-02-18T20:20:10.976Z"
   },
   {
    "duration": 111,
    "start_time": "2022-02-18T20:20:22.621Z"
   },
   {
    "duration": 63,
    "start_time": "2022-02-18T20:20:22.735Z"
   },
   {
    "duration": 12,
    "start_time": "2022-02-18T20:20:22.801Z"
   },
   {
    "duration": 2341,
    "start_time": "2022-02-18T20:20:22.815Z"
   },
   {
    "duration": 8,
    "start_time": "2022-02-18T20:20:25.158Z"
   },
   {
    "duration": 11,
    "start_time": "2022-02-18T20:20:25.168Z"
   },
   {
    "duration": 12,
    "start_time": "2022-02-18T20:20:25.181Z"
   },
   {
    "duration": 11,
    "start_time": "2022-02-18T20:20:25.195Z"
   },
   {
    "duration": 58,
    "start_time": "2022-02-18T20:20:25.208Z"
   },
   {
    "duration": 808,
    "start_time": "2022-02-18T20:20:25.269Z"
   },
   {
    "duration": 731,
    "start_time": "2022-02-18T20:20:26.079Z"
   },
   {
    "duration": 1536,
    "start_time": "2022-02-18T20:20:26.812Z"
   },
   {
    "duration": 2773,
    "start_time": "2022-02-18T20:20:28.351Z"
   },
   {
    "duration": 3696,
    "start_time": "2022-02-18T20:20:31.126Z"
   },
   {
    "duration": 425,
    "start_time": "2022-02-18T20:20:34.826Z"
   },
   {
    "duration": 465,
    "start_time": "2022-02-18T20:20:35.262Z"
   },
   {
    "duration": 410,
    "start_time": "2022-02-18T20:20:35.729Z"
   },
   {
    "duration": 447,
    "start_time": "2022-02-18T20:20:36.141Z"
   },
   {
    "duration": 20,
    "start_time": "2022-02-18T20:20:36.590Z"
   },
   {
    "duration": 6,
    "start_time": "2022-02-18T20:20:36.613Z"
   },
   {
    "duration": 48,
    "start_time": "2022-02-18T20:20:36.622Z"
   },
   {
    "duration": 6,
    "start_time": "2022-02-18T20:20:36.673Z"
   },
   {
    "duration": 1473,
    "start_time": "2022-02-18T20:22:42.268Z"
   },
   {
    "duration": 49,
    "start_time": "2022-02-18T20:22:43.745Z"
   },
   {
    "duration": 26,
    "start_time": "2022-02-18T20:22:43.797Z"
   },
   {
    "duration": 39,
    "start_time": "2022-02-18T20:22:43.827Z"
   },
   {
    "duration": 29,
    "start_time": "2022-02-18T20:22:43.869Z"
   },
   {
    "duration": 28,
    "start_time": "2022-02-18T20:22:43.901Z"
   },
   {
    "duration": 32,
    "start_time": "2022-02-18T20:22:43.932Z"
   },
   {
    "duration": 11723,
    "start_time": "2022-02-18T20:22:43.968Z"
   },
   {
    "duration": 110,
    "start_time": "2022-02-18T20:22:55.695Z"
   },
   {
    "duration": 61,
    "start_time": "2022-02-18T20:22:55.807Z"
   },
   {
    "duration": 13,
    "start_time": "2022-02-18T20:22:55.871Z"
   },
   {
    "duration": 50,
    "start_time": "2022-02-18T20:22:55.886Z"
   },
   {
    "duration": 28,
    "start_time": "2022-02-18T20:22:55.938Z"
   },
   {
    "duration": 25,
    "start_time": "2022-02-18T20:22:55.969Z"
   },
   {
    "duration": 21,
    "start_time": "2022-02-18T20:22:55.997Z"
   },
   {
    "duration": 35,
    "start_time": "2022-02-18T20:22:56.021Z"
   },
   {
    "duration": 24,
    "start_time": "2022-02-18T20:22:56.058Z"
   },
   {
    "duration": 999,
    "start_time": "2022-02-18T20:22:56.085Z"
   },
   {
    "duration": 825,
    "start_time": "2022-02-18T20:22:57.086Z"
   },
   {
    "duration": 1581,
    "start_time": "2022-02-18T20:22:57.914Z"
   },
   {
    "duration": 2909,
    "start_time": "2022-02-18T20:22:59.498Z"
   },
   {
    "duration": 3551,
    "start_time": "2022-02-18T20:23:02.410Z"
   },
   {
    "duration": 419,
    "start_time": "2022-02-18T20:23:05.967Z"
   },
   {
    "duration": 454,
    "start_time": "2022-02-18T20:23:06.389Z"
   },
   {
    "duration": 419,
    "start_time": "2022-02-18T20:23:06.845Z"
   },
   {
    "duration": 529,
    "start_time": "2022-02-18T20:23:07.266Z"
   },
   {
    "duration": 646,
    "start_time": "2022-02-18T20:23:07.798Z"
   },
   {
    "duration": -885,
    "start_time": "2022-02-18T20:23:09.332Z"
   },
   {
    "duration": -887,
    "start_time": "2022-02-18T20:23:09.337Z"
   },
   {
    "duration": -889,
    "start_time": "2022-02-18T20:23:09.341Z"
   },
   {
    "duration": 44,
    "start_time": "2022-02-18T20:23:15.482Z"
   },
   {
    "duration": 17,
    "start_time": "2022-02-18T20:23:57.313Z"
   },
   {
    "duration": 8,
    "start_time": "2022-02-18T20:24:43.825Z"
   },
   {
    "duration": 1513,
    "start_time": "2022-02-18T20:26:59.090Z"
   },
   {
    "duration": 12,
    "start_time": "2022-02-18T20:27:41.092Z"
   },
   {
    "duration": 502,
    "start_time": "2022-02-18T20:29:26.887Z"
   },
   {
    "duration": 16,
    "start_time": "2022-02-18T20:30:07.994Z"
   },
   {
    "duration": 1501,
    "start_time": "2022-02-18T20:30:22.926Z"
   },
   {
    "duration": 47,
    "start_time": "2022-02-18T20:30:24.429Z"
   },
   {
    "duration": 23,
    "start_time": "2022-02-18T20:30:24.480Z"
   },
   {
    "duration": 15,
    "start_time": "2022-02-18T20:30:24.506Z"
   },
   {
    "duration": 60,
    "start_time": "2022-02-18T20:30:24.524Z"
   },
   {
    "duration": 23,
    "start_time": "2022-02-18T20:30:24.587Z"
   },
   {
    "duration": 8,
    "start_time": "2022-02-18T20:30:24.613Z"
   },
   {
    "duration": 11644,
    "start_time": "2022-02-18T20:30:24.625Z"
   },
   {
    "duration": 98,
    "start_time": "2022-02-18T20:30:36.273Z"
   },
   {
    "duration": 47,
    "start_time": "2022-02-18T20:30:36.374Z"
   },
   {
    "duration": 11,
    "start_time": "2022-02-18T20:30:36.423Z"
   },
   {
    "duration": 36,
    "start_time": "2022-02-18T20:30:36.437Z"
   },
   {
    "duration": 12,
    "start_time": "2022-02-18T20:30:36.475Z"
   },
   {
    "duration": 9,
    "start_time": "2022-02-18T20:30:36.489Z"
   },
   {
    "duration": 11,
    "start_time": "2022-02-18T20:30:36.500Z"
   },
   {
    "duration": 817,
    "start_time": "2022-02-18T20:30:36.514Z"
   },
   {
    "duration": 749,
    "start_time": "2022-02-18T20:30:37.334Z"
   },
   {
    "duration": 1613,
    "start_time": "2022-02-18T20:30:38.085Z"
   },
   {
    "duration": 2893,
    "start_time": "2022-02-18T20:30:39.701Z"
   },
   {
    "duration": 3717,
    "start_time": "2022-02-18T20:30:42.596Z"
   },
   {
    "duration": 453,
    "start_time": "2022-02-18T20:30:46.316Z"
   },
   {
    "duration": 449,
    "start_time": "2022-02-18T20:30:46.772Z"
   },
   {
    "duration": 449,
    "start_time": "2022-02-18T20:30:47.225Z"
   },
   {
    "duration": 438,
    "start_time": "2022-02-18T20:30:47.677Z"
   },
   {
    "duration": 708,
    "start_time": "2022-02-18T20:30:48.118Z"
   },
   {
    "duration": -961,
    "start_time": "2022-02-18T20:30:49.791Z"
   },
   {
    "duration": -962,
    "start_time": "2022-02-18T20:30:49.794Z"
   },
   {
    "duration": -963,
    "start_time": "2022-02-18T20:30:49.797Z"
   },
   {
    "duration": 399,
    "start_time": "2022-02-18T20:32:28.815Z"
   },
   {
    "duration": 312,
    "start_time": "2022-02-18T20:33:10.248Z"
   },
   {
    "duration": 333,
    "start_time": "2022-02-18T20:33:30.701Z"
   },
   {
    "duration": 17,
    "start_time": "2022-02-18T20:34:01.309Z"
   },
   {
    "duration": 1623,
    "start_time": "2022-02-18T20:34:10.730Z"
   },
   {
    "duration": 45,
    "start_time": "2022-02-18T20:34:12.360Z"
   },
   {
    "duration": 23,
    "start_time": "2022-02-18T20:34:12.409Z"
   },
   {
    "duration": 35,
    "start_time": "2022-02-18T20:34:12.437Z"
   },
   {
    "duration": 32,
    "start_time": "2022-02-18T20:34:12.475Z"
   },
   {
    "duration": 56,
    "start_time": "2022-02-18T20:34:12.510Z"
   },
   {
    "duration": 9,
    "start_time": "2022-02-18T20:34:12.569Z"
   },
   {
    "duration": 14865,
    "start_time": "2022-02-18T20:34:12.582Z"
   },
   {
    "duration": 134,
    "start_time": "2022-02-18T20:34:27.450Z"
   },
   {
    "duration": 51,
    "start_time": "2022-02-18T20:34:27.587Z"
   },
   {
    "duration": 30,
    "start_time": "2022-02-18T20:34:27.641Z"
   },
   {
    "duration": 20,
    "start_time": "2022-02-18T20:34:27.673Z"
   },
   {
    "duration": 13,
    "start_time": "2022-02-18T20:34:27.696Z"
   },
   {
    "duration": 50,
    "start_time": "2022-02-18T20:34:27.712Z"
   },
   {
    "duration": 12,
    "start_time": "2022-02-18T20:34:27.765Z"
   },
   {
    "duration": 826,
    "start_time": "2022-02-18T20:34:27.780Z"
   },
   {
    "duration": 767,
    "start_time": "2022-02-18T20:34:28.608Z"
   },
   {
    "duration": 1686,
    "start_time": "2022-02-18T20:34:29.378Z"
   },
   {
    "duration": 3087,
    "start_time": "2022-02-18T20:34:31.066Z"
   },
   {
    "duration": 4141,
    "start_time": "2022-02-18T20:34:34.160Z"
   },
   {
    "duration": 513,
    "start_time": "2022-02-18T20:34:38.304Z"
   },
   {
    "duration": 760,
    "start_time": "2022-02-18T20:34:38.820Z"
   },
   {
    "duration": 442,
    "start_time": "2022-02-18T20:34:39.586Z"
   },
   {
    "duration": 442,
    "start_time": "2022-02-18T20:34:40.031Z"
   },
   {
    "duration": 824,
    "start_time": "2022-02-18T20:34:40.475Z"
   },
   {
    "duration": -1025,
    "start_time": "2022-02-18T20:34:42.328Z"
   },
   {
    "duration": -1028,
    "start_time": "2022-02-18T20:34:42.333Z"
   },
   {
    "duration": -1031,
    "start_time": "2022-02-18T20:34:42.338Z"
   },
   {
    "duration": 1679,
    "start_time": "2022-02-18T20:35:10.859Z"
   },
   {
    "duration": 48,
    "start_time": "2022-02-18T20:35:12.541Z"
   },
   {
    "duration": 23,
    "start_time": "2022-02-18T20:35:12.592Z"
   },
   {
    "duration": 42,
    "start_time": "2022-02-18T20:35:12.619Z"
   },
   {
    "duration": 45,
    "start_time": "2022-02-18T20:35:12.664Z"
   },
   {
    "duration": 57,
    "start_time": "2022-02-18T20:35:12.713Z"
   },
   {
    "duration": 9,
    "start_time": "2022-02-18T20:35:12.773Z"
   },
   {
    "duration": 12600,
    "start_time": "2022-02-18T20:35:12.787Z"
   },
   {
    "duration": 106,
    "start_time": "2022-02-18T20:35:25.390Z"
   },
   {
    "duration": 76,
    "start_time": "2022-02-18T20:35:25.499Z"
   },
   {
    "duration": 13,
    "start_time": "2022-02-18T20:35:25.580Z"
   },
   {
    "duration": 24,
    "start_time": "2022-02-18T20:35:25.596Z"
   },
   {
    "duration": 40,
    "start_time": "2022-02-18T20:35:25.623Z"
   },
   {
    "duration": 14,
    "start_time": "2022-02-18T20:35:25.666Z"
   },
   {
    "duration": 17,
    "start_time": "2022-02-18T20:35:25.684Z"
   },
   {
    "duration": 909,
    "start_time": "2022-02-18T20:35:25.705Z"
   },
   {
    "duration": 847,
    "start_time": "2022-02-18T20:35:26.616Z"
   },
   {
    "duration": 1663,
    "start_time": "2022-02-18T20:35:27.466Z"
   },
   {
    "duration": 3952,
    "start_time": "2022-02-18T20:35:29.131Z"
   },
   {
    "duration": 4836,
    "start_time": "2022-02-18T20:35:33.086Z"
   },
   {
    "duration": 427,
    "start_time": "2022-02-18T20:35:37.925Z"
   },
   {
    "duration": 452,
    "start_time": "2022-02-18T20:35:38.362Z"
   },
   {
    "duration": 410,
    "start_time": "2022-02-18T20:35:38.819Z"
   },
   {
    "duration": 424,
    "start_time": "2022-02-18T20:35:39.232Z"
   },
   {
    "duration": 16,
    "start_time": "2022-02-18T20:35:39.662Z"
   },
   {
    "duration": 9,
    "start_time": "2022-02-18T20:35:39.682Z"
   },
   {
    "duration": 17,
    "start_time": "2022-02-18T20:35:39.694Z"
   },
   {
    "duration": 7,
    "start_time": "2022-02-18T20:35:39.714Z"
   },
   {
    "duration": 16,
    "start_time": "2022-02-18T20:36:08.943Z"
   },
   {
    "duration": 16,
    "start_time": "2022-02-18T20:45:12.062Z"
   },
   {
    "duration": 22,
    "start_time": "2022-02-18T20:46:06.588Z"
   },
   {
    "duration": 19,
    "start_time": "2022-02-18T20:46:12.708Z"
   },
   {
    "duration": 20,
    "start_time": "2022-02-18T20:46:38.630Z"
   },
   {
    "duration": 437,
    "start_time": "2022-02-18T20:58:25.993Z"
   },
   {
    "duration": 6,
    "start_time": "2022-02-18T20:59:58.116Z"
   },
   {
    "duration": 319,
    "start_time": "2022-02-18T21:00:03.330Z"
   },
   {
    "duration": 1557,
    "start_time": "2022-02-18T21:00:34.186Z"
   },
   {
    "duration": 1347,
    "start_time": "2022-02-18T21:01:03.650Z"
   },
   {
    "duration": 1139,
    "start_time": "2022-02-18T21:06:15.408Z"
   },
   {
    "duration": 1349,
    "start_time": "2022-02-18T21:06:41.348Z"
   },
   {
    "duration": 1459,
    "start_time": "2022-02-18T21:09:11.626Z"
   },
   {
    "duration": 14,
    "start_time": "2022-02-18T21:16:39.209Z"
   },
   {
    "duration": 15,
    "start_time": "2022-02-18T21:16:55.457Z"
   },
   {
    "duration": 13,
    "start_time": "2022-02-18T21:17:18.637Z"
   },
   {
    "duration": 1076,
    "start_time": "2022-02-18T21:20:22.980Z"
   },
   {
    "duration": 952,
    "start_time": "2022-02-18T21:38:12.606Z"
   },
   {
    "duration": 1213,
    "start_time": "2022-02-18T21:38:32.635Z"
   },
   {
    "duration": 2888,
    "start_time": "2022-02-18T21:39:27.646Z"
   },
   {
    "duration": 2839,
    "start_time": "2022-02-18T21:40:27.799Z"
   },
   {
    "duration": 1496,
    "start_time": "2022-02-19T07:53:59.530Z"
   },
   {
    "duration": 49,
    "start_time": "2022-02-19T07:54:01.029Z"
   },
   {
    "duration": 22,
    "start_time": "2022-02-19T07:54:01.081Z"
   },
   {
    "duration": 21,
    "start_time": "2022-02-19T07:54:01.106Z"
   },
   {
    "duration": 47,
    "start_time": "2022-02-19T07:54:01.129Z"
   },
   {
    "duration": 23,
    "start_time": "2022-02-19T07:54:01.179Z"
   },
   {
    "duration": 9,
    "start_time": "2022-02-19T07:54:01.204Z"
   },
   {
    "duration": 11721,
    "start_time": "2022-02-19T07:54:01.217Z"
   },
   {
    "duration": 98,
    "start_time": "2022-02-19T07:54:12.942Z"
   },
   {
    "duration": 68,
    "start_time": "2022-02-19T07:54:13.043Z"
   },
   {
    "duration": 10,
    "start_time": "2022-02-19T07:54:13.114Z"
   },
   {
    "duration": 43,
    "start_time": "2022-02-19T07:54:13.127Z"
   },
   {
    "duration": 12,
    "start_time": "2022-02-19T07:54:13.172Z"
   },
   {
    "duration": 20,
    "start_time": "2022-02-19T07:54:13.186Z"
   },
   {
    "duration": 1160,
    "start_time": "2022-02-19T07:54:13.208Z"
   },
   {
    "duration": 12,
    "start_time": "2022-02-19T07:54:14.371Z"
   },
   {
    "duration": 801,
    "start_time": "2022-02-19T07:54:14.387Z"
   },
   {
    "duration": 829,
    "start_time": "2022-02-19T07:54:15.191Z"
   },
   {
    "duration": 1159,
    "start_time": "2022-02-19T07:54:16.022Z"
   },
   {
    "duration": 2792,
    "start_time": "2022-02-19T07:54:17.184Z"
   },
   {
    "duration": 3700,
    "start_time": "2022-02-19T07:54:19.978Z"
   },
   {
    "duration": 412,
    "start_time": "2022-02-19T07:54:23.680Z"
   },
   {
    "duration": 408,
    "start_time": "2022-02-19T07:54:24.096Z"
   },
   {
    "duration": 389,
    "start_time": "2022-02-19T07:54:24.506Z"
   },
   {
    "duration": 489,
    "start_time": "2022-02-19T07:54:24.897Z"
   },
   {
    "duration": 16,
    "start_time": "2022-02-19T07:54:25.389Z"
   },
   {
    "duration": 19,
    "start_time": "2022-02-19T07:54:25.409Z"
   },
   {
    "duration": 39,
    "start_time": "2022-02-19T07:54:25.431Z"
   },
   {
    "duration": 8,
    "start_time": "2022-02-19T07:54:25.473Z"
   },
   {
    "duration": 1283,
    "start_time": "2022-02-19T08:06:29.264Z"
   },
   {
    "duration": 997,
    "start_time": "2022-02-19T08:06:50.778Z"
   },
   {
    "duration": 2836,
    "start_time": "2022-02-19T08:16:47.698Z"
   },
   {
    "duration": 2911,
    "start_time": "2022-02-19T08:17:03.524Z"
   },
   {
    "duration": 3074,
    "start_time": "2022-02-19T08:23:26.653Z"
   },
   {
    "duration": 3694,
    "start_time": "2022-02-19T08:32:12.622Z"
   },
   {
    "duration": 3643,
    "start_time": "2022-02-19T08:32:36.541Z"
   },
   {
    "duration": 3677,
    "start_time": "2022-02-19T08:32:55.032Z"
   },
   {
    "duration": 3643,
    "start_time": "2022-02-19T08:33:26.833Z"
   },
   {
    "duration": 3833,
    "start_time": "2022-02-19T08:36:19.464Z"
   },
   {
    "duration": 3976,
    "start_time": "2022-02-19T08:36:35.213Z"
   },
   {
    "duration": 3638,
    "start_time": "2022-02-19T08:36:48.046Z"
   },
   {
    "duration": 394,
    "start_time": "2022-02-19T08:41:24.550Z"
   },
   {
    "duration": 107,
    "start_time": "2022-02-19T08:42:48.091Z"
   },
   {
    "duration": 543,
    "start_time": "2022-02-19T08:42:54.933Z"
   },
   {
    "duration": 407,
    "start_time": "2022-02-19T08:43:16.025Z"
   },
   {
    "duration": 447,
    "start_time": "2022-02-19T08:43:23.651Z"
   },
   {
    "duration": 3491,
    "start_time": "2022-02-19T09:07:29.554Z"
   },
   {
    "duration": 2553,
    "start_time": "2022-02-19T09:07:54.444Z"
   },
   {
    "duration": 60,
    "start_time": "2022-02-19T10:27:17.459Z"
   },
   {
    "duration": 65,
    "start_time": "2022-02-19T10:31:11.959Z"
   },
   {
    "duration": 72,
    "start_time": "2022-02-19T10:36:58.433Z"
   },
   {
    "duration": 72,
    "start_time": "2022-02-19T10:52:08.903Z"
   },
   {
    "duration": 66,
    "start_time": "2022-02-19T10:56:01.669Z"
   },
   {
    "duration": 63,
    "start_time": "2022-02-19T14:45:27.305Z"
   },
   {
    "duration": 336,
    "start_time": "2022-02-20T06:35:11.880Z"
   },
   {
    "duration": 1184,
    "start_time": "2022-02-20T06:35:18.608Z"
   },
   {
    "duration": 33,
    "start_time": "2022-02-20T06:35:19.795Z"
   },
   {
    "duration": 16,
    "start_time": "2022-02-20T06:35:19.830Z"
   },
   {
    "duration": 15,
    "start_time": "2022-02-20T06:35:19.848Z"
   },
   {
    "duration": 27,
    "start_time": "2022-02-20T06:35:19.866Z"
   },
   {
    "duration": 34,
    "start_time": "2022-02-20T06:35:19.895Z"
   },
   {
    "duration": 14,
    "start_time": "2022-02-20T06:35:19.931Z"
   },
   {
    "duration": 6545,
    "start_time": "2022-02-20T06:35:19.948Z"
   },
   {
    "duration": 70,
    "start_time": "2022-02-20T06:35:26.496Z"
   },
   {
    "duration": 35,
    "start_time": "2022-02-20T06:35:26.568Z"
   },
   {
    "duration": 23,
    "start_time": "2022-02-20T06:35:26.604Z"
   },
   {
    "duration": 12,
    "start_time": "2022-02-20T06:35:26.629Z"
   },
   {
    "duration": 17,
    "start_time": "2022-02-20T06:35:26.643Z"
   },
   {
    "duration": 14,
    "start_time": "2022-02-20T06:35:26.662Z"
   },
   {
    "duration": 767,
    "start_time": "2022-02-20T06:35:26.678Z"
   },
   {
    "duration": 13,
    "start_time": "2022-02-20T06:35:27.447Z"
   },
   {
    "duration": 556,
    "start_time": "2022-02-20T06:35:27.462Z"
   },
   {
    "duration": 499,
    "start_time": "2022-02-20T06:35:28.020Z"
   },
   {
    "duration": 597,
    "start_time": "2022-02-20T06:35:28.521Z"
   },
   {
    "duration": 1523,
    "start_time": "2022-02-20T06:35:29.120Z"
   },
   {
    "duration": 1986,
    "start_time": "2022-02-20T06:35:30.644Z"
   },
   {
    "duration": 214,
    "start_time": "2022-02-20T06:35:32.632Z"
   },
   {
    "duration": 403,
    "start_time": "2022-02-20T06:35:32.849Z"
   },
   {
    "duration": 321,
    "start_time": "2022-02-20T06:35:33.255Z"
   },
   {
    "duration": 303,
    "start_time": "2022-02-20T06:35:33.578Z"
   },
   {
    "duration": 14,
    "start_time": "2022-02-20T06:35:33.883Z"
   },
   {
    "duration": 22,
    "start_time": "2022-02-20T06:35:33.899Z"
   },
   {
    "duration": 13,
    "start_time": "2022-02-20T06:35:33.924Z"
   },
   {
    "duration": 5,
    "start_time": "2022-02-20T06:35:33.939Z"
   },
   {
    "duration": 531,
    "start_time": "2022-02-20T06:36:14.806Z"
   },
   {
    "duration": 2545,
    "start_time": "2022-02-20T06:53:54.382Z"
   },
   {
    "duration": 416,
    "start_time": "2022-02-20T06:54:19.162Z"
   },
   {
    "duration": 297,
    "start_time": "2022-02-20T06:54:41.730Z"
   },
   {
    "duration": 383,
    "start_time": "2022-02-20T06:54:53.838Z"
   },
   {
    "duration": 277,
    "start_time": "2022-02-20T06:55:19.856Z"
   },
   {
    "duration": 3616,
    "start_time": "2022-02-20T06:55:58.966Z"
   },
   {
    "duration": 2980,
    "start_time": "2022-02-20T06:56:46.238Z"
   },
   {
    "duration": 6474,
    "start_time": "2022-02-20T07:03:06.758Z"
   },
   {
    "duration": 6642,
    "start_time": "2022-02-20T07:03:37.383Z"
   },
   {
    "duration": 3019,
    "start_time": "2022-02-20T07:03:54.618Z"
   },
   {
    "duration": 320,
    "start_time": "2022-02-20T07:04:21.227Z"
   },
   {
    "duration": 700,
    "start_time": "2022-02-20T07:04:37.070Z"
   },
   {
    "duration": 579,
    "start_time": "2022-02-20T07:04:53.572Z"
   },
   {
    "duration": 3085,
    "start_time": "2022-02-20T07:05:20.590Z"
   },
   {
    "duration": 279,
    "start_time": "2022-02-20T07:06:51.702Z"
   },
   {
    "duration": 9972,
    "start_time": "2022-02-20T07:07:06.749Z"
   },
   {
    "duration": 2697,
    "start_time": "2022-02-20T07:07:35.683Z"
   },
   {
    "duration": 1708,
    "start_time": "2022-02-20T07:07:59.169Z"
   },
   {
    "duration": 1502,
    "start_time": "2022-02-20T07:08:46.123Z"
   },
   {
    "duration": 632,
    "start_time": "2022-02-20T07:25:07.529Z"
   },
   {
    "duration": 966,
    "start_time": "2022-02-20T07:25:54.028Z"
   },
   {
    "duration": 87,
    "start_time": "2022-02-20T07:26:54.657Z"
   },
   {
    "duration": 776,
    "start_time": "2022-02-20T07:27:09.303Z"
   },
   {
    "duration": 681,
    "start_time": "2022-02-20T07:27:18.989Z"
   },
   {
    "duration": 645,
    "start_time": "2022-02-20T07:27:55.384Z"
   },
   {
    "duration": 2261,
    "start_time": "2022-02-20T07:34:17.448Z"
   },
   {
    "duration": 633,
    "start_time": "2022-02-20T07:34:59.006Z"
   },
   {
    "duration": 2097,
    "start_time": "2022-02-20T07:35:17.624Z"
   },
   {
    "duration": 616,
    "start_time": "2022-02-20T07:35:29.212Z"
   },
   {
    "duration": 2126,
    "start_time": "2022-02-20T07:35:39.050Z"
   },
   {
    "duration": 1975,
    "start_time": "2022-02-20T07:36:03.537Z"
   },
   {
    "duration": 412,
    "start_time": "2022-02-20T07:42:13.468Z"
   },
   {
    "duration": 231,
    "start_time": "2022-02-20T07:43:44.961Z"
   },
   {
    "duration": 156,
    "start_time": "2022-02-20T07:43:53.797Z"
   },
   {
    "duration": 152,
    "start_time": "2022-02-20T07:44:50.635Z"
   },
   {
    "duration": 335,
    "start_time": "2022-02-20T07:45:20.159Z"
   },
   {
    "duration": 146,
    "start_time": "2022-02-20T07:45:34.853Z"
   },
   {
    "duration": 167,
    "start_time": "2022-02-20T07:45:48.313Z"
   },
   {
    "duration": 195,
    "start_time": "2022-02-20T07:48:26.660Z"
   },
   {
    "duration": 560,
    "start_time": "2022-02-20T07:48:39.741Z"
   },
   {
    "duration": 443,
    "start_time": "2022-02-20T07:49:09.901Z"
   },
   {
    "duration": 567,
    "start_time": "2022-02-20T07:49:19.114Z"
   },
   {
    "duration": 495,
    "start_time": "2022-02-20T07:49:55.545Z"
   },
   {
    "duration": 787,
    "start_time": "2022-02-20T07:50:00.136Z"
   },
   {
    "duration": 743,
    "start_time": "2022-02-20T07:50:05.699Z"
   },
   {
    "duration": 887,
    "start_time": "2022-02-20T07:50:18.207Z"
   },
   {
    "duration": 751,
    "start_time": "2022-02-20T07:50:26.570Z"
   },
   {
    "duration": 525,
    "start_time": "2022-02-20T07:52:05.978Z"
   },
   {
    "duration": 772,
    "start_time": "2022-02-20T07:52:55.668Z"
   },
   {
    "duration": 719,
    "start_time": "2022-02-20T07:53:47.037Z"
   },
   {
    "duration": 300,
    "start_time": "2022-02-20T07:58:53.900Z"
   },
   {
    "duration": 299,
    "start_time": "2022-02-20T07:59:07.275Z"
   },
   {
    "duration": 317,
    "start_time": "2022-02-20T07:59:20.206Z"
   },
   {
    "duration": 305,
    "start_time": "2022-02-20T08:00:05.165Z"
   },
   {
    "duration": 1231,
    "start_time": "2022-02-20T08:00:24.024Z"
   },
   {
    "duration": 426,
    "start_time": "2022-02-20T08:00:46.539Z"
   },
   {
    "duration": 1136,
    "start_time": "2022-02-20T08:15:07.970Z"
   },
   {
    "duration": 37,
    "start_time": "2022-02-20T08:15:09.108Z"
   },
   {
    "duration": 17,
    "start_time": "2022-02-20T08:15:09.147Z"
   },
   {
    "duration": 11,
    "start_time": "2022-02-20T08:15:09.167Z"
   },
   {
    "duration": 20,
    "start_time": "2022-02-20T08:15:09.179Z"
   },
   {
    "duration": 18,
    "start_time": "2022-02-20T08:15:09.219Z"
   },
   {
    "duration": 6,
    "start_time": "2022-02-20T08:15:09.239Z"
   },
   {
    "duration": 6852,
    "start_time": "2022-02-20T08:15:09.248Z"
   },
   {
    "duration": 59,
    "start_time": "2022-02-20T08:15:16.102Z"
   },
   {
    "duration": 37,
    "start_time": "2022-02-20T08:15:16.163Z"
   },
   {
    "duration": 19,
    "start_time": "2022-02-20T08:15:16.202Z"
   },
   {
    "duration": 15,
    "start_time": "2022-02-20T08:15:16.223Z"
   },
   {
    "duration": 9,
    "start_time": "2022-02-20T08:15:16.240Z"
   },
   {
    "duration": 13,
    "start_time": "2022-02-20T08:15:16.251Z"
   },
   {
    "duration": 1051,
    "start_time": "2022-02-20T08:15:16.266Z"
   },
   {
    "duration": 10,
    "start_time": "2022-02-20T08:15:17.318Z"
   },
   {
    "duration": 1393,
    "start_time": "2022-02-20T08:15:17.329Z"
   },
   {
    "duration": 614,
    "start_time": "2022-02-20T08:15:18.724Z"
   },
   {
    "duration": 823,
    "start_time": "2022-02-20T08:15:19.340Z"
   },
   {
    "duration": 1665,
    "start_time": "2022-02-20T08:15:20.165Z"
   },
   {
    "duration": 2291,
    "start_time": "2022-02-20T08:15:21.832Z"
   },
   {
    "duration": 674,
    "start_time": "2022-02-20T08:15:24.125Z"
   },
   {
    "duration": 311,
    "start_time": "2022-02-20T08:15:24.802Z"
   },
   {
    "duration": 289,
    "start_time": "2022-02-20T08:15:25.118Z"
   },
   {
    "duration": 295,
    "start_time": "2022-02-20T08:15:25.409Z"
   },
   {
    "duration": 18,
    "start_time": "2022-02-20T08:15:25.706Z"
   },
   {
    "duration": 5,
    "start_time": "2022-02-20T08:15:25.725Z"
   },
   {
    "duration": 17,
    "start_time": "2022-02-20T08:15:25.732Z"
   },
   {
    "duration": 4,
    "start_time": "2022-02-20T08:15:25.751Z"
   },
   {
    "duration": 1258,
    "start_time": "2022-02-20T08:40:24.534Z"
   },
   {
    "duration": 34,
    "start_time": "2022-02-20T08:40:25.794Z"
   },
   {
    "duration": 16,
    "start_time": "2022-02-20T08:40:25.831Z"
   },
   {
    "duration": 12,
    "start_time": "2022-02-20T08:40:25.849Z"
   },
   {
    "duration": 24,
    "start_time": "2022-02-20T08:40:25.863Z"
   },
   {
    "duration": 41,
    "start_time": "2022-02-20T08:40:25.889Z"
   },
   {
    "duration": 7,
    "start_time": "2022-02-20T08:40:25.932Z"
   },
   {
    "duration": 6919,
    "start_time": "2022-02-20T08:40:25.941Z"
   },
   {
    "duration": 68,
    "start_time": "2022-02-20T08:40:32.863Z"
   },
   {
    "duration": 36,
    "start_time": "2022-02-20T08:40:32.933Z"
   },
   {
    "duration": 9,
    "start_time": "2022-02-20T08:40:32.971Z"
   },
   {
    "duration": 39,
    "start_time": "2022-02-20T08:40:32.982Z"
   },
   {
    "duration": 160,
    "start_time": "2022-02-20T08:40:33.024Z"
   },
   {
    "duration": 17,
    "start_time": "2022-02-20T08:40:33.186Z"
   },
   {
    "duration": 808,
    "start_time": "2022-02-20T08:40:33.205Z"
   },
   {
    "duration": 9,
    "start_time": "2022-02-20T08:40:34.019Z"
   },
   {
    "duration": 1474,
    "start_time": "2022-02-20T08:40:34.030Z"
   },
   {
    "duration": 517,
    "start_time": "2022-02-20T08:40:35.506Z"
   },
   {
    "duration": 702,
    "start_time": "2022-02-20T08:40:36.025Z"
   },
   {
    "duration": 1738,
    "start_time": "2022-02-20T08:40:36.730Z"
   },
   {
    "duration": 1964,
    "start_time": "2022-02-20T08:40:38.471Z"
   },
   {
    "duration": 682,
    "start_time": "2022-02-20T08:40:40.438Z"
   },
   {
    "duration": 299,
    "start_time": "2022-02-20T08:40:41.122Z"
   },
   {
    "duration": 272,
    "start_time": "2022-02-20T08:40:41.423Z"
   },
   {
    "duration": 294,
    "start_time": "2022-02-20T08:40:41.696Z"
   },
   {
    "duration": 12,
    "start_time": "2022-02-20T08:40:41.992Z"
   },
   {
    "duration": 5,
    "start_time": "2022-02-20T08:40:42.020Z"
   },
   {
    "duration": 14,
    "start_time": "2022-02-20T08:40:42.027Z"
   },
   {
    "duration": 6,
    "start_time": "2022-02-20T08:40:42.043Z"
   },
   {
    "duration": 15,
    "start_time": "2022-02-20T08:44:27.132Z"
   },
   {
    "duration": 232,
    "start_time": "2022-02-20T15:47:22.141Z"
   }
  ],
  "kernelspec": {
   "display_name": "Python 3 (ipykernel)",
   "language": "python",
   "name": "python3"
  },
  "language_info": {
   "codemirror_mode": {
    "name": "ipython",
    "version": 3
   },
   "file_extension": ".py",
   "mimetype": "text/x-python",
   "name": "python",
   "nbconvert_exporter": "python",
   "pygments_lexer": "ipython3",
   "version": "3.9.7"
  },
  "toc": {
   "base_numbering": 1,
   "nav_menu": {},
   "number_sections": true,
   "sideBar": true,
   "skip_h1_title": true,
   "title_cell": "Table of Contents",
   "title_sidebar": "Contents",
   "toc_cell": false,
   "toc_position": {},
   "toc_section_display": true,
   "toc_window_display": false
  }
 },
 "nbformat": 4,
 "nbformat_minor": 2
}
