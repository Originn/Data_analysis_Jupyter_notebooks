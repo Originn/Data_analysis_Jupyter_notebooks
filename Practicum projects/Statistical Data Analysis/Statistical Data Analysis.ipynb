{
 "cells": [
  {
   "cell_type": "markdown",
   "metadata": {},
   "source": [
    "# Megaline plan revenue analysis"
   ]
  },
  {
   "cell_type": "markdown",
   "metadata": {},
   "source": [
    "## Introduction for the project"
   ]
  },
  {
   "cell_type": "markdown",
   "metadata": {},
   "source": [
    "The goal of this project is to support decision making for an telecommunication company by analyzing the results of two different plans revenues per user. The company needs to decide whether they should invest into marketing the ultimate plan or the surf plan."
   ]
  },
  {
   "cell_type": "code",
   "execution_count": 1,
   "metadata": {},
   "outputs": [],
   "source": [
    "import numpy as np\n",
    "import pandas as pd\n",
    "import matplotlib.pyplot as plt\n",
    "import math\n",
    "from scipy import stats as st\n",
    "import random\n",
    "import seaborn as sns"
   ]
  },
  {
   "cell_type": "markdown",
   "metadata": {},
   "source": [
    "## Open the data files and study the general information"
   ]
  },
  {
   "cell_type": "code",
   "execution_count": 2,
   "metadata": {},
   "outputs": [
    {
     "name": "stdout",
     "output_type": "stream",
     "text": [
      "calls          id  user_id   call_date  duration\n",
      "0   1000_93     1000  2018-12-27      8.52\n",
      "1  1000_145     1000  2018-12-27     13.66\n",
      "2  1000_247     1000  2018-12-27     14.48\n",
      "3  1000_309     1000  2018-12-28      5.76\n",
      "4  1000_380     1000  2018-12-30      4.22\n",
      "5  1000_388     1000  2018-12-31      2.20\n",
      "6  1000_510     1000  2018-12-27      5.75\n",
      "7  1000_521     1000  2018-12-28     14.18\n",
      "8  1000_530     1000  2018-12-28      5.77\n",
      "9  1000_544     1000  2018-12-26      4.40\n",
      "\n",
      "<class 'pandas.core.frame.DataFrame'>\n",
      "RangeIndex: 137735 entries, 0 to 137734\n",
      "Data columns (total 4 columns):\n",
      "id           137735 non-null object\n",
      "user_id      137735 non-null int64\n",
      "call_date    137735 non-null object\n",
      "duration     137735 non-null float64\n",
      "dtypes: float64(1), int64(1), object(2)\n",
      "memory usage: 4.2+ MB\n"
     ]
    }
   ],
   "source": [
    "calls=pd.read_csv('/datasets/megaline_calls.csv')\n",
    "print('calls', calls.head(10))\n",
    "print()\n",
    "calls.info()"
   ]
  },
  {
   "cell_type": "code",
   "execution_count": 3,
   "metadata": {},
   "outputs": [
    {
     "name": "stdout",
     "output_type": "stream",
     "text": [
      "internet          id  user_id session_date  mb_used\n",
      "0   1000_13     1000   2018-12-29    89.86\n",
      "1  1000_204     1000   2018-12-31     0.00\n",
      "2  1000_379     1000   2018-12-28   660.40\n",
      "3  1000_413     1000   2018-12-26   270.99\n",
      "4  1000_442     1000   2018-12-27   880.22\n",
      "5    1001_0     1001   2018-08-24   284.68\n",
      "6    1001_3     1001   2018-12-09   656.04\n",
      "7    1001_4     1001   2018-11-04    16.97\n",
      "8   1001_10     1001   2018-11-27   135.18\n",
      "9   1001_15     1001   2018-12-13   761.92\n",
      "\n",
      "<class 'pandas.core.frame.DataFrame'>\n",
      "RangeIndex: 104825 entries, 0 to 104824\n",
      "Data columns (total 4 columns):\n",
      "id              104825 non-null object\n",
      "user_id         104825 non-null int64\n",
      "session_date    104825 non-null object\n",
      "mb_used         104825 non-null float64\n",
      "dtypes: float64(1), int64(1), object(2)\n",
      "memory usage: 3.2+ MB\n"
     ]
    },
    {
     "data": {
      "text/plain": [
       "1901.47"
      ]
     },
     "execution_count": 3,
     "metadata": {},
     "output_type": "execute_result"
    }
   ],
   "source": [
    "internet=pd.read_csv('/datasets/megaline_internet.csv')\n",
    "print('internet', internet.head(10))\n",
    "print()\n",
    "internet.info()\n",
    "internet[internet['user_id']==1000]['mb_used'].sum()"
   ]
  },
  {
   "cell_type": "code",
   "execution_count": 4,
   "metadata": {},
   "outputs": [
    {
     "name": "stdout",
     "output_type": "stream",
     "text": [
      "messages          id  user_id message_date\n",
      "0  1000_125     1000   2018-12-27\n",
      "1  1000_160     1000   2018-12-31\n",
      "2  1000_223     1000   2018-12-31\n",
      "3  1000_251     1000   2018-12-27\n",
      "4  1000_255     1000   2018-12-26\n",
      "5  1000_346     1000   2018-12-29\n",
      "6  1000_386     1000   2018-12-30\n",
      "7  1000_413     1000   2018-12-31\n",
      "8  1000_502     1000   2018-12-27\n",
      "9  1000_525     1000   2018-12-28\n",
      "\n",
      "<class 'pandas.core.frame.DataFrame'>\n",
      "RangeIndex: 76051 entries, 0 to 76050\n",
      "Data columns (total 3 columns):\n",
      "id              76051 non-null object\n",
      "user_id         76051 non-null int64\n",
      "message_date    76051 non-null object\n",
      "dtypes: int64(1), object(2)\n",
      "memory usage: 1.7+ MB\n"
     ]
    }
   ],
   "source": [
    "messages=pd.read_csv('/datasets/megaline_messages.csv')\n",
    "print('messages', messages.head(10))\n",
    "print()\n",
    "messages.info()"
   ]
  },
  {
   "cell_type": "code",
   "execution_count": 5,
   "metadata": {},
   "outputs": [
    {
     "name": "stdout",
     "output_type": "stream",
     "text": [
      "plans    messages_included  mb_per_month_included  minutes_included  \\\n",
      "0                 50                  15360               500   \n",
      "1               1000                  30720              3000   \n",
      "\n",
      "   usd_monthly_pay  usd_per_gb  usd_per_message  usd_per_minute plan_name  \n",
      "0               20          10             0.03            0.03      surf  \n",
      "1               70           7             0.01            0.01  ultimate  \n",
      "\n",
      "<class 'pandas.core.frame.DataFrame'>\n",
      "RangeIndex: 2 entries, 0 to 1\n",
      "Data columns (total 8 columns):\n",
      "messages_included        2 non-null int64\n",
      "mb_per_month_included    2 non-null int64\n",
      "minutes_included         2 non-null int64\n",
      "usd_monthly_pay          2 non-null int64\n",
      "usd_per_gb               2 non-null int64\n",
      "usd_per_message          2 non-null float64\n",
      "usd_per_minute           2 non-null float64\n",
      "plan_name                2 non-null object\n",
      "dtypes: float64(2), int64(5), object(1)\n",
      "memory usage: 256.0+ bytes\n"
     ]
    }
   ],
   "source": [
    "plans=pd.read_csv('/datasets/megaline_plans.csv')\n",
    "print('plans', plans.head(10))\n",
    "print()\n",
    "plans.info()"
   ]
  },
  {
   "cell_type": "code",
   "execution_count": 6,
   "metadata": {},
   "outputs": [
    {
     "name": "stdout",
     "output_type": "stream",
     "text": [
      "users    user_id first_name  last_name  age                                    city  \\\n",
      "0     1000   Anamaria      Bauer   45   Atlanta-Sandy Springs-Roswell, GA MSA   \n",
      "1     1001     Mickey  Wilkerson   28         Seattle-Tacoma-Bellevue, WA MSA   \n",
      "2     1002     Carlee    Hoffman   36    Las Vegas-Henderson-Paradise, NV MSA   \n",
      "3     1003   Reynaldo    Jenkins   52                           Tulsa, OK MSA   \n",
      "4     1004    Leonila   Thompson   40         Seattle-Tacoma-Bellevue, WA MSA   \n",
      "5     1005      Livia    Shields   31     Dallas-Fort Worth-Arlington, TX MSA   \n",
      "6     1006     Jesusa   Bradford   73  San Francisco-Oakland-Berkeley, CA MSA   \n",
      "7     1007    Eusebio      Welch   42           Grand Rapids-Kentwood, MI MSA   \n",
      "8     1008      Emely    Hoffman   53       Orlando-Kissimmee-Sanford, FL MSA   \n",
      "9     1009      Gerry     Little   19  San Jose-Sunnyvale-Santa Clara, CA MSA   \n",
      "\n",
      "     reg_date      plan  churn_date  \n",
      "0  2018-12-24  ultimate         NaN  \n",
      "1  2018-08-13      surf         NaN  \n",
      "2  2018-10-21      surf         NaN  \n",
      "3  2018-01-28      surf         NaN  \n",
      "4  2018-05-23      surf         NaN  \n",
      "5  2018-11-29      surf         NaN  \n",
      "6  2018-11-27  ultimate  2018-12-18  \n",
      "7  2018-07-11      surf         NaN  \n",
      "8  2018-08-03  ultimate         NaN  \n",
      "9  2018-04-22      surf         NaN  \n",
      "\n",
      "<class 'pandas.core.frame.DataFrame'>\n",
      "RangeIndex: 500 entries, 0 to 499\n",
      "Data columns (total 8 columns):\n",
      "user_id       500 non-null int64\n",
      "first_name    500 non-null object\n",
      "last_name     500 non-null object\n",
      "age           500 non-null int64\n",
      "city          500 non-null object\n",
      "reg_date      500 non-null object\n",
      "plan          500 non-null object\n",
      "churn_date    34 non-null object\n",
      "dtypes: int64(2), object(6)\n",
      "memory usage: 31.4+ KB\n"
     ]
    }
   ],
   "source": [
    "users=pd.read_csv('/datasets/megaline_users.csv')\n",
    "print('users', users.head(10))\n",
    "print()\n",
    "users.info()\n"
   ]
  },
  {
   "cell_type": "markdown",
   "metadata": {},
   "source": [
    "# Prepare the data"
   ]
  },
  {
   "cell_type": "markdown",
   "metadata": {},
   "source": [
    "## Fixing nans, errors and data types"
   ]
  },
  {
   "cell_type": "code",
   "execution_count": 7,
   "metadata": {},
   "outputs": [
    {
     "name": "stdout",
     "output_type": "stream",
     "text": [
      "<class 'pandas.core.frame.DataFrame'>\n",
      "RangeIndex: 137735 entries, 0 to 137734\n",
      "Data columns (total 4 columns):\n",
      "id           137735 non-null object\n",
      "user_id      137735 non-null int64\n",
      "call_date    137735 non-null datetime64[ns]\n",
      "duration     137735 non-null float64\n",
      "dtypes: datetime64[ns](1), float64(1), int64(1), object(1)\n",
      "memory usage: 4.2+ MB\n"
     ]
    }
   ],
   "source": [
    "#fixing call_date column to datetime data type\n",
    "calls['call_date']= pd.to_datetime(calls['call_date'])\n",
    "calls.info()"
   ]
  },
  {
   "cell_type": "code",
   "execution_count": 8,
   "metadata": {},
   "outputs": [
    {
     "name": "stdout",
     "output_type": "stream",
     "text": [
      "<class 'pandas.core.frame.DataFrame'>\n",
      "RangeIndex: 104825 entries, 0 to 104824\n",
      "Data columns (total 4 columns):\n",
      "id              104825 non-null object\n",
      "user_id         104825 non-null int64\n",
      "session_date    104825 non-null datetime64[ns]\n",
      "mb_used         104825 non-null float64\n",
      "dtypes: datetime64[ns](1), float64(1), int64(1), object(1)\n",
      "memory usage: 3.2+ MB\n"
     ]
    }
   ],
   "source": [
    "#fixing session_date column to datetime data type\n",
    "internet['session_date'] = pd.to_datetime(internet['session_date'])\n",
    "internet.info()\n",
    "\n",
    "    "
   ]
  },
  {
   "cell_type": "code",
   "execution_count": 9,
   "metadata": {},
   "outputs": [
    {
     "name": "stdout",
     "output_type": "stream",
     "text": [
      "<class 'pandas.core.frame.DataFrame'>\n",
      "RangeIndex: 76051 entries, 0 to 76050\n",
      "Data columns (total 3 columns):\n",
      "id              76051 non-null object\n",
      "user_id         76051 non-null int64\n",
      "message_date    76051 non-null datetime64[ns]\n",
      "dtypes: datetime64[ns](1), int64(1), object(1)\n",
      "memory usage: 1.7+ MB\n"
     ]
    }
   ],
   "source": [
    "#fixing message_date column to datetime data type\n",
    "messages['message_date'] = pd.to_datetime(messages['message_date'])\n",
    "messages.info()"
   ]
  },
  {
   "cell_type": "code",
   "execution_count": 10,
   "metadata": {},
   "outputs": [
    {
     "name": "stdout",
     "output_type": "stream",
     "text": [
      "<class 'pandas.core.frame.DataFrame'>\n",
      "RangeIndex: 500 entries, 0 to 499\n",
      "Data columns (total 8 columns):\n",
      "user_id       500 non-null int64\n",
      "first_name    500 non-null object\n",
      "last_name     500 non-null object\n",
      "age           500 non-null int64\n",
      "city          500 non-null object\n",
      "reg_date      500 non-null datetime64[ns]\n",
      "plan          500 non-null object\n",
      "churn_date    500 non-null datetime64[ns]\n",
      "dtypes: datetime64[ns](2), int64(2), object(4)\n",
      "memory usage: 31.4+ KB\n"
     ]
    }
   ],
   "source": [
    "#fixing nan values on churn_date(it will fix values to 1971)\n",
    "users['churn_date'] = users['churn_date'].fillna(0)\n",
    "\n",
    "#fixing reg_date and churn_date column to datetime data type\n",
    "users['reg_date'] = pd.to_datetime(users['reg_date'])\n",
    "users['churn_date'] = pd.to_datetime(users['churn_date'])\n",
    "users.info()"
   ]
  },
  {
   "cell_type": "code",
   "execution_count": 11,
   "metadata": {},
   "outputs": [
    {
     "name": "stdout",
     "output_type": "stream",
     "text": [
      "The precentage of the data where the call duration is 0.0: 19.48%\n"
     ]
    },
    {
     "data": {
      "image/png": "[encoded data removed]",
      "text/plain": [
       "<Figure size 432x288 with 1 Axes>"
      ]
     },
     "metadata": {
      "needs_background": "light"
     },
     "output_type": "display_data"
    },
    {
     "name": "stdout",
     "output_type": "stream",
     "text": [
      "0          9.0\n",
      "1         14.0\n",
      "2         15.0\n",
      "3          6.0\n",
      "4          5.0\n",
      "          ... \n",
      "137730     9.0\n",
      "137731    11.0\n",
      "137732     9.0\n",
      "137733     1.0\n",
      "137734    14.0\n",
      "Name: duration, Length: 137735, dtype: float64\n"
     ]
    },
    {
     "data": {
      "image/png": "[encoded data removed]",
      "text/plain": [
       "<Figure size 432x288 with 1 Axes>"
      ]
     },
     "metadata": {
      "needs_background": "light"
     },
     "output_type": "display_data"
    }
   ],
   "source": [
    "#number of calls where the duration is 0.0\n",
    "calls[calls['duration'] == 0.0].count()\n",
    "#precentage of the data where the call duration is 0.0\n",
    "print('The precentage of the data where the call duration is 0.0: {:.2%}'.format(len(calls[calls['duration'] == 0.0])/len(calls['duration'])))\n",
    "calls.boxplot('duration')\n",
    "plt.show()\n",
    "#rounding call duration up\n",
    "calls['duration']=np.ceil(calls['duration'])\n",
    "print(calls['duration'])\n",
    "#almost 20 percent are 0.0 duration calls, which is alot. it will stay on df.\n",
    "calls['duration'].plot(kind='hist')\n",
    "plt.xlabel('duration')\n",
    "plt.title('distribution of calls duration')\n",
    "plt.show()\n",
    "\n"
   ]
  },
  {
   "cell_type": "markdown",
   "metadata": {},
   "source": [
    "### The number of calls made and minutes used per month"
   ]
  },
  {
   "cell_type": "code",
   "execution_count": 12,
   "metadata": {},
   "outputs": [
    {
     "data": {
      "text/html": [
       "<div>\n",
       "<style scoped>\n",
       "    .dataframe tbody tr th:only-of-type {\n",
       "        vertical-align: middle;\n",
       "    }\n",
       "\n",
       "    .dataframe tbody tr th {\n",
       "        vertical-align: top;\n",
       "    }\n",
       "\n",
       "    .dataframe thead tr th {\n",
       "        text-align: left;\n",
       "    }\n",
       "</style>\n",
       "<table border=\"1\" class=\"dataframe\">\n",
       "  <thead>\n",
       "    <tr>\n",
       "      <th></th>\n",
       "      <th>user_id</th>\n",
       "      <th>month</th>\n",
       "      <th>sum</th>\n",
       "      <th>count</th>\n",
       "    </tr>\n",
       "    <tr>\n",
       "      <th></th>\n",
       "      <th></th>\n",
       "      <th></th>\n",
       "      <th>duration</th>\n",
       "      <th>duration</th>\n",
       "    </tr>\n",
       "  </thead>\n",
       "  <tbody>\n",
       "    <tr>\n",
       "      <td>0</td>\n",
       "      <td>1000</td>\n",
       "      <td>12</td>\n",
       "      <td>124.0</td>\n",
       "      <td>16</td>\n",
       "    </tr>\n",
       "    <tr>\n",
       "      <td>1</td>\n",
       "      <td>1001</td>\n",
       "      <td>8</td>\n",
       "      <td>182.0</td>\n",
       "      <td>27</td>\n",
       "    </tr>\n",
       "    <tr>\n",
       "      <td>2</td>\n",
       "      <td>1001</td>\n",
       "      <td>9</td>\n",
       "      <td>315.0</td>\n",
       "      <td>49</td>\n",
       "    </tr>\n",
       "    <tr>\n",
       "      <td>3</td>\n",
       "      <td>1001</td>\n",
       "      <td>10</td>\n",
       "      <td>393.0</td>\n",
       "      <td>65</td>\n",
       "    </tr>\n",
       "    <tr>\n",
       "      <td>4</td>\n",
       "      <td>1001</td>\n",
       "      <td>11</td>\n",
       "      <td>426.0</td>\n",
       "      <td>64</td>\n",
       "    </tr>\n",
       "    <tr>\n",
       "      <td>...</td>\n",
       "      <td>...</td>\n",
       "      <td>...</td>\n",
       "      <td>...</td>\n",
       "      <td>...</td>\n",
       "    </tr>\n",
       "    <tr>\n",
       "      <td>2253</td>\n",
       "      <td>1498</td>\n",
       "      <td>12</td>\n",
       "      <td>339.0</td>\n",
       "      <td>39</td>\n",
       "    </tr>\n",
       "    <tr>\n",
       "      <td>2254</td>\n",
       "      <td>1499</td>\n",
       "      <td>9</td>\n",
       "      <td>346.0</td>\n",
       "      <td>41</td>\n",
       "    </tr>\n",
       "    <tr>\n",
       "      <td>2255</td>\n",
       "      <td>1499</td>\n",
       "      <td>10</td>\n",
       "      <td>385.0</td>\n",
       "      <td>53</td>\n",
       "    </tr>\n",
       "    <tr>\n",
       "      <td>2256</td>\n",
       "      <td>1499</td>\n",
       "      <td>11</td>\n",
       "      <td>308.0</td>\n",
       "      <td>45</td>\n",
       "    </tr>\n",
       "    <tr>\n",
       "      <td>2257</td>\n",
       "      <td>1499</td>\n",
       "      <td>12</td>\n",
       "      <td>496.0</td>\n",
       "      <td>65</td>\n",
       "    </tr>\n",
       "  </tbody>\n",
       "</table>\n",
       "<p>2258 rows × 4 columns</p>\n",
       "</div>"
      ],
      "text/plain": [
       "     user_id month      sum    count\n",
       "                   duration duration\n",
       "0       1000    12    124.0       16\n",
       "1       1001     8    182.0       27\n",
       "2       1001     9    315.0       49\n",
       "3       1001    10    393.0       65\n",
       "4       1001    11    426.0       64\n",
       "...      ...   ...      ...      ...\n",
       "2253    1498    12    339.0       39\n",
       "2254    1499     9    346.0       41\n",
       "2255    1499    10    385.0       53\n",
       "2256    1499    11    308.0       45\n",
       "2257    1499    12    496.0       65\n",
       "\n",
       "[2258 rows x 4 columns]"
      ]
     },
     "execution_count": 12,
     "metadata": {},
     "output_type": "execute_result"
    }
   ],
   "source": [
    "#adding a month column to add the month the call was made\n",
    "calls['month'] = pd.DatetimeIndex(calls['call_date']).month\n",
    "\n",
    "#The number of calls made and minutes used per month\n",
    "calls_pivot = calls.pivot_table('duration', index=['user_id', 'month'], aggfunc=['sum', 'count'])\n",
    "calls_pivot.reset_index(inplace=True)\n",
    "calls_pivot"
   ]
  },
  {
   "cell_type": "markdown",
   "metadata": {},
   "source": [
    "### The number of text messages sent per month per user"
   ]
  },
  {
   "cell_type": "code",
   "execution_count": 13,
   "metadata": {},
   "outputs": [
    {
     "data": {
      "text/html": [
       "<div>\n",
       "<style scoped>\n",
       "    .dataframe tbody tr th:only-of-type {\n",
       "        vertical-align: middle;\n",
       "    }\n",
       "\n",
       "    .dataframe tbody tr th {\n",
       "        vertical-align: top;\n",
       "    }\n",
       "\n",
       "    .dataframe thead th {\n",
       "        text-align: right;\n",
       "    }\n",
       "</style>\n",
       "<table border=\"1\" class=\"dataframe\">\n",
       "  <thead>\n",
       "    <tr style=\"text-align: right;\">\n",
       "      <th></th>\n",
       "      <th>user_id</th>\n",
       "      <th>month</th>\n",
       "      <th>message_date</th>\n",
       "    </tr>\n",
       "  </thead>\n",
       "  <tbody>\n",
       "    <tr>\n",
       "      <td>0</td>\n",
       "      <td>1000</td>\n",
       "      <td>12</td>\n",
       "      <td>11</td>\n",
       "    </tr>\n",
       "    <tr>\n",
       "      <td>1</td>\n",
       "      <td>1001</td>\n",
       "      <td>8</td>\n",
       "      <td>30</td>\n",
       "    </tr>\n",
       "    <tr>\n",
       "      <td>2</td>\n",
       "      <td>1001</td>\n",
       "      <td>9</td>\n",
       "      <td>44</td>\n",
       "    </tr>\n",
       "    <tr>\n",
       "      <td>3</td>\n",
       "      <td>1001</td>\n",
       "      <td>10</td>\n",
       "      <td>53</td>\n",
       "    </tr>\n",
       "    <tr>\n",
       "      <td>4</td>\n",
       "      <td>1001</td>\n",
       "      <td>11</td>\n",
       "      <td>36</td>\n",
       "    </tr>\n",
       "    <tr>\n",
       "      <td>...</td>\n",
       "      <td>...</td>\n",
       "      <td>...</td>\n",
       "      <td>...</td>\n",
       "    </tr>\n",
       "    <tr>\n",
       "      <td>1801</td>\n",
       "      <td>1496</td>\n",
       "      <td>9</td>\n",
       "      <td>21</td>\n",
       "    </tr>\n",
       "    <tr>\n",
       "      <td>1802</td>\n",
       "      <td>1496</td>\n",
       "      <td>10</td>\n",
       "      <td>18</td>\n",
       "    </tr>\n",
       "    <tr>\n",
       "      <td>1803</td>\n",
       "      <td>1496</td>\n",
       "      <td>11</td>\n",
       "      <td>13</td>\n",
       "    </tr>\n",
       "    <tr>\n",
       "      <td>1804</td>\n",
       "      <td>1496</td>\n",
       "      <td>12</td>\n",
       "      <td>11</td>\n",
       "    </tr>\n",
       "    <tr>\n",
       "      <td>1805</td>\n",
       "      <td>1497</td>\n",
       "      <td>12</td>\n",
       "      <td>50</td>\n",
       "    </tr>\n",
       "  </tbody>\n",
       "</table>\n",
       "<p>1806 rows × 3 columns</p>\n",
       "</div>"
      ],
      "text/plain": [
       "      user_id  month  message_date\n",
       "0        1000     12            11\n",
       "1        1001      8            30\n",
       "2        1001      9            44\n",
       "3        1001     10            53\n",
       "4        1001     11            36\n",
       "...       ...    ...           ...\n",
       "1801     1496      9            21\n",
       "1802     1496     10            18\n",
       "1803     1496     11            13\n",
       "1804     1496     12            11\n",
       "1805     1497     12            50\n",
       "\n",
       "[1806 rows x 3 columns]"
      ]
     },
     "execution_count": 13,
     "metadata": {},
     "output_type": "execute_result"
    }
   ],
   "source": [
    "# adding a month column to add the month the call was made\n",
    "messages['month'] = pd.DatetimeIndex(messages['message_date']).month\n",
    "\n",
    "# The number of text messages sent per month\n",
    "messages_pivot = messages.pivot_table('message_date', index=['user_id', 'month'], aggfunc='count')\n",
    "messages_pivot.reset_index(inplace=True)\n",
    "messages_pivot"
   ]
  },
  {
   "cell_type": "markdown",
   "metadata": {},
   "source": [
    "## The volume of data per month per user"
   ]
  },
  {
   "cell_type": "code",
   "execution_count": 14,
   "metadata": {},
   "outputs": [
    {
     "data": {
      "text/html": [
       "<div>\n",
       "<style scoped>\n",
       "    .dataframe tbody tr th:only-of-type {\n",
       "        vertical-align: middle;\n",
       "    }\n",
       "\n",
       "    .dataframe tbody tr th {\n",
       "        vertical-align: top;\n",
       "    }\n",
       "\n",
       "    .dataframe thead th {\n",
       "        text-align: right;\n",
       "    }\n",
       "</style>\n",
       "<table border=\"1\" class=\"dataframe\">\n",
       "  <thead>\n",
       "    <tr style=\"text-align: right;\">\n",
       "      <th></th>\n",
       "      <th>user_id</th>\n",
       "      <th>month</th>\n",
       "      <th>mb_used</th>\n",
       "      <th>gb_used</th>\n",
       "    </tr>\n",
       "  </thead>\n",
       "  <tbody>\n",
       "    <tr>\n",
       "      <td>0</td>\n",
       "      <td>1000</td>\n",
       "      <td>12</td>\n",
       "      <td>1901.47</td>\n",
       "      <td>2.0</td>\n",
       "    </tr>\n",
       "    <tr>\n",
       "      <td>1</td>\n",
       "      <td>1001</td>\n",
       "      <td>8</td>\n",
       "      <td>6919.15</td>\n",
       "      <td>7.0</td>\n",
       "    </tr>\n",
       "    <tr>\n",
       "      <td>2</td>\n",
       "      <td>1001</td>\n",
       "      <td>9</td>\n",
       "      <td>13314.82</td>\n",
       "      <td>14.0</td>\n",
       "    </tr>\n",
       "    <tr>\n",
       "      <td>3</td>\n",
       "      <td>1001</td>\n",
       "      <td>10</td>\n",
       "      <td>22330.49</td>\n",
       "      <td>22.0</td>\n",
       "    </tr>\n",
       "    <tr>\n",
       "      <td>4</td>\n",
       "      <td>1001</td>\n",
       "      <td>11</td>\n",
       "      <td>18504.30</td>\n",
       "      <td>19.0</td>\n",
       "    </tr>\n",
       "    <tr>\n",
       "      <td>...</td>\n",
       "      <td>...</td>\n",
       "      <td>...</td>\n",
       "      <td>...</td>\n",
       "      <td>...</td>\n",
       "    </tr>\n",
       "    <tr>\n",
       "      <td>2272</td>\n",
       "      <td>1498</td>\n",
       "      <td>12</td>\n",
       "      <td>23137.69</td>\n",
       "      <td>23.0</td>\n",
       "    </tr>\n",
       "    <tr>\n",
       "      <td>2273</td>\n",
       "      <td>1499</td>\n",
       "      <td>9</td>\n",
       "      <td>12984.76</td>\n",
       "      <td>13.0</td>\n",
       "    </tr>\n",
       "    <tr>\n",
       "      <td>2274</td>\n",
       "      <td>1499</td>\n",
       "      <td>10</td>\n",
       "      <td>19492.43</td>\n",
       "      <td>20.0</td>\n",
       "    </tr>\n",
       "    <tr>\n",
       "      <td>2275</td>\n",
       "      <td>1499</td>\n",
       "      <td>11</td>\n",
       "      <td>16813.83</td>\n",
       "      <td>17.0</td>\n",
       "    </tr>\n",
       "    <tr>\n",
       "      <td>2276</td>\n",
       "      <td>1499</td>\n",
       "      <td>12</td>\n",
       "      <td>22059.21</td>\n",
       "      <td>22.0</td>\n",
       "    </tr>\n",
       "  </tbody>\n",
       "</table>\n",
       "<p>2277 rows × 4 columns</p>\n",
       "</div>"
      ],
      "text/plain": [
       "      user_id  month   mb_used  gb_used\n",
       "0        1000     12   1901.47      2.0\n",
       "1        1001      8   6919.15      7.0\n",
       "2        1001      9  13314.82     14.0\n",
       "3        1001     10  22330.49     22.0\n",
       "4        1001     11  18504.30     19.0\n",
       "...       ...    ...       ...      ...\n",
       "2272     1498     12  23137.69     23.0\n",
       "2273     1499      9  12984.76     13.0\n",
       "2274     1499     10  19492.43     20.0\n",
       "2275     1499     11  16813.83     17.0\n",
       "2276     1499     12  22059.21     22.0\n",
       "\n",
       "[2277 rows x 4 columns]"
      ]
     },
     "execution_count": 14,
     "metadata": {},
     "output_type": "execute_result"
    }
   ],
   "source": [
    "# adding a month column to add the month the mb was used\n",
    "internet['month'] = pd.DatetimeIndex(internet['session_date']).month\n",
    "\n",
    "# The number of mb used  per month\n",
    "internet_pivot = internet.pivot_table('mb_used', index=['user_id', 'month'], aggfunc='sum')\n",
    "internet_pivot.reset_index(inplace=True)\n",
    "internet_pivot\n",
    "#rounding mb_used to the upper GB value\n",
    "def round_mb(row):\n",
    "    gb_used = row['mb_used']/1024\n",
    "    return gb_used\n",
    "\n",
    "    \n",
    "internet_pivot['gb_used']=internet_pivot.apply(lambda row: round_mb(row), axis=1).apply(np.ceil)\n",
    "internet_pivot"
   ]
  },
  {
   "cell_type": "markdown",
   "metadata": {},
   "source": [
    "## The monthly revenue from each user"
   ]
  },
  {
   "cell_type": "code",
   "execution_count": 16,
   "metadata": {},
   "outputs": [
    {
     "name": "stderr",
     "output_type": "stream",
     "text": [
      "/opt/conda/lib/python3.7/site-packages/pandas/core/reshape/merge.py:617: UserWarning: merging between different levels can give an unintended result (2 levels on the left, 1 on the right)\n",
      "  warnings.warn(msg, UserWarning)\n"
     ]
    },
    {
     "data": {
      "text/html": [
       "<div>\n",
       "<style scoped>\n",
       "    .dataframe tbody tr th:only-of-type {\n",
       "        vertical-align: middle;\n",
       "    }\n",
       "\n",
       "    .dataframe tbody tr th {\n",
       "        vertical-align: top;\n",
       "    }\n",
       "\n",
       "    .dataframe thead th {\n",
       "        text-align: right;\n",
       "    }\n",
       "</style>\n",
       "<table border=\"1\" class=\"dataframe\">\n",
       "  <thead>\n",
       "    <tr style=\"text-align: right;\">\n",
       "      <th></th>\n",
       "      <th>user_id</th>\n",
       "      <th>month</th>\n",
       "      <th>call_duration</th>\n",
       "      <th>call_count</th>\n",
       "      <th>text_count</th>\n",
       "      <th>mb_used</th>\n",
       "      <th>gb_used</th>\n",
       "      <th>first_name</th>\n",
       "      <th>last_name</th>\n",
       "      <th>age</th>\n",
       "      <th>city</th>\n",
       "      <th>reg_date</th>\n",
       "      <th>plan</th>\n",
       "      <th>churn_date</th>\n",
       "      <th>revenue</th>\n",
       "    </tr>\n",
       "  </thead>\n",
       "  <tbody>\n",
       "    <tr>\n",
       "      <td>26</td>\n",
       "      <td>1008</td>\n",
       "      <td>10.0</td>\n",
       "      <td>476.0</td>\n",
       "      <td>71.0</td>\n",
       "      <td>21.0</td>\n",
       "      <td>17106.99</td>\n",
       "      <td>17.0</td>\n",
       "      <td>Emely</td>\n",
       "      <td>Hoffman</td>\n",
       "      <td>53</td>\n",
       "      <td>Orlando-Kissimmee-Sanford, FL MSA</td>\n",
       "      <td>2018-08-03</td>\n",
       "      <td>ultimate</td>\n",
       "      <td>1970-01-01</td>\n",
       "      <td>70.0</td>\n",
       "    </tr>\n",
       "    <tr>\n",
       "      <td>27</td>\n",
       "      <td>1008</td>\n",
       "      <td>11.0</td>\n",
       "      <td>446.0</td>\n",
       "      <td>63.0</td>\n",
       "      <td>37.0</td>\n",
       "      <td>23676.72</td>\n",
       "      <td>24.0</td>\n",
       "      <td>Emely</td>\n",
       "      <td>Hoffman</td>\n",
       "      <td>53</td>\n",
       "      <td>Orlando-Kissimmee-Sanford, FL MSA</td>\n",
       "      <td>2018-08-03</td>\n",
       "      <td>ultimate</td>\n",
       "      <td>1970-01-01</td>\n",
       "      <td>70.0</td>\n",
       "    </tr>\n",
       "    <tr>\n",
       "      <td>28</td>\n",
       "      <td>1008</td>\n",
       "      <td>12.0</td>\n",
       "      <td>634.0</td>\n",
       "      <td>85.0</td>\n",
       "      <td>26.0</td>\n",
       "      <td>14689.33</td>\n",
       "      <td>15.0</td>\n",
       "      <td>Emely</td>\n",
       "      <td>Hoffman</td>\n",
       "      <td>53</td>\n",
       "      <td>Orlando-Kissimmee-Sanford, FL MSA</td>\n",
       "      <td>2018-08-03</td>\n",
       "      <td>ultimate</td>\n",
       "      <td>1970-01-01</td>\n",
       "      <td>70.0</td>\n",
       "    </tr>\n",
       "  </tbody>\n",
       "</table>\n",
       "</div>"
      ],
      "text/plain": [
       "    user_id  month  call_duration  call_count  text_count   mb_used  gb_used  \\\n",
       "26     1008   10.0          476.0        71.0        21.0  17106.99     17.0   \n",
       "27     1008   11.0          446.0        63.0        37.0  23676.72     24.0   \n",
       "28     1008   12.0          634.0        85.0        26.0  14689.33     15.0   \n",
       "\n",
       "   first_name last_name  age                               city   reg_date  \\\n",
       "26      Emely   Hoffman   53  Orlando-Kissimmee-Sanford, FL MSA 2018-08-03   \n",
       "27      Emely   Hoffman   53  Orlando-Kissimmee-Sanford, FL MSA 2018-08-03   \n",
       "28      Emely   Hoffman   53  Orlando-Kissimmee-Sanford, FL MSA 2018-08-03   \n",
       "\n",
       "        plan churn_date  revenue  \n",
       "26  ultimate 1970-01-01     70.0  \n",
       "27  ultimate 1970-01-01     70.0  \n",
       "28  ultimate 1970-01-01     70.0  "
      ]
     },
     "execution_count": 16,
     "metadata": {},
     "output_type": "execute_result"
    }
   ],
   "source": [
    "#merging the 3 pivots\n",
    "pivot_merge=calls_pivot.merge(messages_pivot, on=['user_id', 'month'], how='outer')\n",
    "pivot_merge=pivot_merge.merge(internet_pivot, on=['user_id', 'month'], how='outer')\n",
    "pivot_merge=pivot_merge.merge(users, on=['user_id'], how='outer')\n",
    "\n",
    "#replacing nan values in message count to 0\n",
    "pivot_merge['message_date'] = pivot_merge['message_date'].fillna(0)\n",
    "\n",
    "#dropping un needed columns\n",
    "pivot_merge.drop(pivot_merge.iloc[:, 2:4], axis=1, inplace=True)\n",
    "\n",
    "#renaming columns\n",
    "pivot_merge.columns=['user_id', 'month', 'call_duration', 'call_count', 'text_count',\\\n",
    "                     'mb_used', 'gb_used', 'first_name', 'last_name', 'age', 'city', 'reg_date',\\\n",
    "                     'plan', 'churn_date']\n",
    "#rounding call_duration up.\n",
    "#creating a function to calculate user revenue\n",
    "def user_revenue(row):\n",
    "    if row['plan']=='ultimate':\n",
    "        revenue = 70\n",
    "        if row['call_duration'] > 3000:\n",
    "            revenue+=(row['call_duration']-3000)*0.01\n",
    "        if row['text_count'] > 1000:\n",
    "            revenue +=(row['text_count']-1000)*0.01\n",
    "        if row['gb_used'] > 30:\n",
    "            revenue +=(row['gb_used']-30)*7\n",
    "    else:\n",
    "        revenue=20\n",
    "        if row['call_duration'] > 500:\n",
    "            revenue+=(row['call_duration']-500)*0.03\n",
    "        if row['text_count'] > 50:\n",
    "            revenue +=(row['text_count']-50)*0.03\n",
    "        if row['gb_used'] > 15:\n",
    "            revenue +=(row['gb_used']-15)*10\n",
    "    return revenue\n",
    "\n",
    "#applying the function in the new column 'revenue'\n",
    "pivot_merge['revenue'] = pivot_merge.apply(lambda row: user_revenue(row), axis=1)\n",
    "\n",
    "#showing all the users where the revenue from them is more then 0 per month\n",
    "pivot_merge[pivot_merge['user_id'] ==1008]\n"
   ]
  },
  {
   "cell_type": "markdown",
   "metadata": {},
   "source": [
    "# Step 3. Analyze the data"
   ]
  },
  {
   "cell_type": "markdown",
   "metadata": {},
   "source": [
    "Describing the customers' behavior. Finding the minutes, texts, and volume of data the users of each plan require per month. Calculating the mean, dispersion, and standard deviation. Plotting histograms. Describing the distributions."
   ]
  },
  {
   "cell_type": "code",
   "execution_count": null,
   "metadata": {
    "scrolled": true
   },
   "outputs": [],
   "source": [
    "print(pivot_merge.describe())\n",
    "pivot_merge.describe(include=object)\n",
    "pivot_merge.info()"
   ]
  },
  {
   "cell_type": "markdown",
   "metadata": {},
   "source": [
    "After the merges we have nan values across 5 columns: 'month', 'call_duration', 'call_count', 'mb_used' and 'gb_used'. We can replace them with 0."
   ]
  },
  {
   "cell_type": "code",
   "execution_count": null,
   "metadata": {},
   "outputs": [],
   "source": [
    "#checking why the month column has nan\n",
    "pivot_merge[pivot_merge['month'].isna()]\n",
    "# becasue all the columns are empty it can be dropped as there is only 10 rows\n",
    "pivot_merge = pivot_merge[pivot_merge['month'].notna()]\n",
    "#the rest of the nan values can be replaced with 0\n",
    "pivot_merge=pivot_merge.fillna(0)\n",
    "pivot_merge.info()"
   ]
  },
  {
   "cell_type": "code",
   "execution_count": null,
   "metadata": {},
   "outputs": [],
   "source": [
    "# the mean of minutes, texts, and volume of data the users of each plan require per month.\n",
    "print(pivot_merge.groupby(['plan', 'month'])['call_duration', 'text_count','mb_used'].sum())\n",
    "\n",
    "#bar plot for call duration\n",
    "pivot_merge.pivot_table(index='month', columns='plan', values='call_duration',\n",
    "                aggfunc='sum', fill_value=0).plot.bar()\n",
    "plt.ylabel('call_duration')\n",
    "\n",
    "#bar plot for text count\n",
    "pivot_merge.pivot_table(index='month', columns='plan', values='text_count',\n",
    "                aggfunc='sum', fill_value=0).plot.bar()\n",
    "plt.ylabel('text_count')\n",
    "#bar plot for mb used\n",
    "pivot_merge.pivot_table(index='month', columns='plan', values='mb_used',\n",
    "                aggfunc='sum', fill_value=0).plot.bar()\n",
    "plt.ylabel('mb_used')\n",
    "\n",
    "plt.show()"
   ]
  },
  {
   "cell_type": "markdown",
   "metadata": {},
   "source": [
    "We can clearly see a pattern where each parameter is increasing per month for both surf and ultimate plan users, and the surf plan users are using more calls, text and mb then ultimate plan users except January.\n",
    "Next we should find the mean for each plan, as there are more surf plan users then ultimate."
   ]
  },
  {
   "cell_type": "code",
   "execution_count": null,
   "metadata": {},
   "outputs": [],
   "source": [
    "#bar plot for mean call duration\n",
    "pivot_merge.pivot_table(index='month', columns='plan', values='call_duration',\n",
    "                aggfunc='mean', fill_value=0).plot.bar(title='mean call duration')\n",
    "plt.ylabel('call_duration')\n",
    "\n",
    "#bar plot for mean text count\n",
    "pivot_merge.pivot_table(index='month', columns='plan', values='text_count',\n",
    "                aggfunc='mean', fill_value=0).plot.bar(title='mean text count')\n",
    "plt.ylabel('text_count')\n",
    "\n",
    "#bar plot for mean mb used\n",
    "pivot_merge.pivot_table(index='month', columns='plan', values='gb_used',\n",
    "                aggfunc='mean', fill_value=0).plot.bar(title='mean gb used')\n",
    "plt.ylabel('gb_used')\n",
    "plt.show()"
   ]
  },
  {
   "cell_type": "markdown",
   "metadata": {},
   "source": [
    "We can clearly see that the average call duration for surf and ultimate plans do not differe greatly each month except Feburary where ultimate plan users call duration is unusally greater then surf plan users. We can also deduct that ultimate plan users text more then surf plan users on each month. In addition ultimate plan users average gb_used is similar to surf plan users except Feburary, March and April where ultimate plan users use more mb then surf plan users."
   ]
  },
  {
   "cell_type": "code",
   "execution_count": null,
   "metadata": {},
   "outputs": [],
   "source": [
    "fig, axes = plt.subplots(1, 2, figsize=(16, 5))\n",
    "sns.distplot(pivot_merge[pivot_merge['plan']=='surf']['call_duration'], ax=axes[0])\n",
    "sns.distplot(pivot_merge[pivot_merge['plan']=='ultimate']['call_duration'], ax=axes[0])\n",
    "ax = sns.boxplot(x=\"plan\", y='call_duration', data=pivot_merge)\n",
    "plt.show()\n",
    "fig, axes = plt.subplots(1, 2, figsize=(16, 5))\n",
    "sns.distplot(pivot_merge[pivot_merge['plan']=='surf']['gb_used'], ax=axes[0])\n",
    "sns.distplot(pivot_merge[pivot_merge['plan']=='ultimate']['gb_used'], ax=axes[0])\n",
    "ax = sns.boxplot(x=\"plan\", y='gb_used', data=pivot_merge)\n",
    "plt.show()\n",
    "fig, axes = plt.subplots(1, 2, figsize=(16, 5))\n",
    "sns.distplot(pivot_merge[pivot_merge['plan']=='surf']['text_count'], ax=axes[0])\n",
    "sns.distplot(pivot_merge[pivot_merge['plan']=='ultimate']['text_count'], ax=axes[0])\n",
    "ax = sns.boxplot(x=\"plan\", y='text_count', data=pivot_merge)"
   ]
  },
  {
   "cell_type": "code",
   "execution_count": null,
   "metadata": {},
   "outputs": [],
   "source": [
    "#calculating dispersion\n",
    "print(pivot_merge['revenue'].describe())\n",
    "print()\n",
    "print('The revenue variance is:', pivot_merge['revenue'].var())\n",
    "pivot_merge['revenue'].plot(kind='hist', bins=50)\n",
    "plt.show()\n",
    "pivot_merge['revenue'].plot(kind='hist', bins=50, range=(0, 100))\n",
    "plt.xlabel('revenue')\n",
    "plt.ylabel('Number of users')\n",
    "plt.show()"
   ]
  },
  {
   "cell_type": "markdown",
   "metadata": {},
   "source": [
    "# Step 4. Test the hypotheses"
   ]
  },
  {
   "cell_type": "markdown",
   "metadata": {},
   "source": [
    "* The average revenue from users of Ultimate and Surf calling plans differs.\n",
    "* The average revenue from users in NY-NJ area is different from that of the users from other regions.\n",
    "\n",
    "I will use the ttest here as we need to check the statistical hypothesis on the equality of two population means. To check for statistical difference an alpha of 0.05 will be used."
   ]
  },
  {
   "cell_type": "code",
   "execution_count": null,
   "metadata": {},
   "outputs": [],
   "source": [
    "#bar plot for revenue\n",
    "pivot_merge.pivot_table(index='month', columns='plan', values='revenue',\n",
    "                aggfunc='mean', fill_value=0).plot.bar(title='revenue')\n",
    "plt.ylabel('revenue')\n",
    "plt.show()\n",
    "print('The average revenue from surf customer is:', pivot_merge[pivot_merge['plan']=='surf']['revenue'].mean())\n",
    "print('The average revenue from ultimate customer is:', pivot_merge[pivot_merge['plan']=='ultimate']['revenue'].mean())\n",
    "print()\n",
    "total_revenue_surf=pivot_merge[pivot_merge['plan']=='surf']['revenue']\\\n",
    "      .mean()*len(pivot_merge[pivot_merge['plan']=='surf'])\n",
    "total_revenue_ultimate=pivot_merge[pivot_merge['plan']=='ultimate']['revenue']\\\n",
    "      .mean()*len(pivot_merge[pivot_merge['plan']=='ultimate'])\n",
    "print('The total average revenue from all surf customers is:', total_revenue_surf)\n",
    "print('The total average revenue from all ultimate customers is:', total_revenue_ultimate)\n",
    "print('The precentage difference between surf and ultimate plans: {:.2%}'.format((total_revenue_surf-total_revenue_ultimate)/total_revenue_ultimate))\n",
    "\n",
    "#checking the hypotesis that they differe\n",
    "\n",
    "revenue_surf_list=pivot_merge[pivot_merge['plan']=='surf']['revenue'].round(2).to_list()\n",
    "revenue_ultimate_list=pivot_merge[pivot_merge['plan']=='ultimate']['revenue'].round(2).to_list()\n",
    "print()\n",
    "\n",
    "# creating an equal sized lists of random values\n",
    "random_surf=random.sample(revenue_surf_list,120)\n",
    "random_ultimate=random.sample(revenue_ultimate_list,120)\n",
    "\n",
    "alpha = 0.05\n",
    "\n",
    "results = st.ttest_ind(random_surf, random_ultimate)\n",
    "print('p-value:', results.pvalue)\n",
    "\n",
    "if results.pvalue < alpha:\n",
    "    print(\"We reject the null hypothesis\")\n",
    "else:\n",
    "    print(\"We can't reject the null hypothesis\")\n",
    "\n",
    "print()\n",
    "#number of ultimate customers that exceeded their ultimate plan limits\n",
    "print('number of ultimate customers that exceeded their ultimate plan limits:',\\\n",
    "      len(pivot_merge[pivot_merge['revenue'] > 70]))\n",
    "#number of surf customers that exceeded their surf plan limits\n",
    "print('number of surf customers that exceeded their surf plan limits:',\\\n",
    "      len(pivot_merge[(pivot_merge['revenue'] > 20) & (pivot_merge['plan'] == 'surf')]))\n"
   ]
  },
  {
   "cell_type": "markdown",
   "metadata": {},
   "source": [
    "As can be seen there are 531 customers that exceeded their ultimate plan, but there are 1142 customers that exceeded their surf plan. However, in total, the average revenue per total customers is 83.40% larger in the surf plan. \n",
    "\n",
    "Checking the numbers using ttest we can see that we reject the null hypothesis which means that we can conclude that there is a statistical difference between the average revenue streams."
   ]
  },
  {
   "cell_type": "code",
   "execution_count": null,
   "metadata": {},
   "outputs": [],
   "source": [
    "avr_revenue_NY_NJ=pivot_merge[pivot_merge['city'].str.contains('NY-NJ')]['revenue'].mean()\n",
    "print('The average revenue for customers from NY-NJ area is:', avr_revenue_NY_NJ)\n",
    "avr_revenue_not_NY_NJ=pivot_merge[~pivot_merge['city'].str.contains('NY-NJ')]['revenue'].mean()\n",
    "print('The average revenue for customers not from NY-NJ area is:', avr_revenue_not_NY_NJ)\n",
    "\n",
    "NY_NJ_list=pivot_merge[pivot_merge['city'].str.contains('NY-NJ')]['revenue'].to_list()\n",
    "not_NY_NJ_list=pivot_merge[~pivot_merge['city'].str.contains('NY-NJ')]['revenue'].to_list()\n",
    "\n",
    "print()\n",
    "random_NY_NJ=random.sample(NY_NJ_list,120)\n",
    "random_not_NY_NJ=random.sample(not_NY_NJ_list,120)\n",
    "\n",
    "alpha = 0.05\n",
    "\n",
    "results = st.ttest_ind(random_NY_NJ, random_not_NY_NJ)\n",
    "print('p-value:', results.pvalue)\n",
    "\n",
    "if results.pvalue < alpha:\n",
    "    print(\"We reject the null hypothesis\")\n",
    "else:\n",
    "    print(\"We can't reject the null hypothesis\")"
   ]
  },
  {
   "cell_type": "markdown",
   "metadata": {},
   "source": [
    "Compering the two revenue streams using ttest we can see that we can't reject the null hypothesis which means that we can conclude that there isn't a statistical difference between the mean revenue streams."
   ]
  },
  {
   "cell_type": "markdown",
   "metadata": {},
   "source": [
    "# Step 5. Overall conclusion"
   ]
  },
  {
   "cell_type": "markdown",
   "metadata": {},
   "source": [
    "Steps taken:\n",
    "1. Loaded all CVTs and examine them for Nan, wrong values and wrong data types. I found Nan values in churn date, and replace them with generic datetime format. All date columns data types were changed to datetime format. I decided to keep calls with 0.0 time as they are about 20% of the data and are not included as outliers in the boxplot.\n",
    "\n",
    "2. Next I have created pivot tables for the different CVTs, indexed by user_id and month. Then I have merged them to a complete df with columns:'user_id', 'month', 'call_duration', ' call_count','text_count', 'mb_used', 'first_name', 'last_name', 'age', 'city', 'reg_date', 'plan', 'churn_date'.\n",
    "\n",
    "3. With the complete df I was able to create a new column 'revenue' where it is shown the revenue from each user per month. Next I looked at the mean of call_duration, text and mb used between the two plans, and concluded that they don't differe greatly except that ultimate plan users text more then surf plan users.\n",
    "\n",
    "4. I have checked that the revenue from both plans have statistical difference. The conclusion was that there is statistical difference between ultimate and surf, and that surf plan revenue is 83% higher. Also there isn't a statistical differrence between mean revenues from NY-NJ area mean revenues from users not from NY-NJ area.\n",
    "\n",
    "5. In conclusion seems that the marketing efforts should focus on marketing the surf plan as there is more revenue coming from this plan compared with the ultimate plan."
   ]
  }
 ],
 "metadata": {
  "ExecuteTimeLog": [
   {
    "duration": 308,
    "start_time": "2022-01-31T10:42:02.313Z"
   },
   {
    "duration": 657,
    "start_time": "2022-01-31T10:42:05.288Z"
   },
   {
    "duration": 121,
    "start_time": "2022-01-31T10:42:06.594Z"
   },
   {
    "duration": 210,
    "start_time": "2022-01-31T10:42:57.689Z"
   },
   {
    "duration": 212,
    "start_time": "2022-01-31T10:43:06.443Z"
   },
   {
    "duration": 207,
    "start_time": "2022-01-31T10:43:37.881Z"
   },
   {
    "duration": 96,
    "start_time": "2022-01-31T10:43:48.123Z"
   },
   {
    "duration": 212,
    "start_time": "2022-01-31T10:43:52.800Z"
   },
   {
    "duration": 122,
    "start_time": "2022-01-31T10:44:43.082Z"
   },
   {
    "duration": 93,
    "start_time": "2022-01-31T10:44:48.319Z"
   },
   {
    "duration": 355,
    "start_time": "2022-01-31T10:45:15.986Z"
   },
   {
    "duration": 64,
    "start_time": "2022-01-31T10:45:20.172Z"
   },
   {
    "duration": 20,
    "start_time": "2022-01-31T10:46:21.187Z"
   },
   {
    "duration": 55,
    "start_time": "2022-01-31T10:47:17.658Z"
   },
   {
    "duration": 132,
    "start_time": "2022-01-31T10:48:10.023Z"
   },
   {
    "duration": 133,
    "start_time": "2022-01-31T10:48:17.718Z"
   },
   {
    "duration": 101,
    "start_time": "2022-01-31T10:48:59.823Z"
   },
   {
    "duration": 73,
    "start_time": "2022-01-31T10:50:00.319Z"
   },
   {
    "duration": 24,
    "start_time": "2022-01-31T10:50:22.903Z"
   },
   {
    "duration": 50,
    "start_time": "2022-01-31T10:50:39.532Z"
   },
   {
    "duration": 7458,
    "start_time": "2022-01-31T11:00:51.761Z"
   },
   {
    "duration": 33,
    "start_time": "2022-01-31T11:01:21.983Z"
   },
   {
    "duration": 31,
    "start_time": "2022-01-31T11:02:27.424Z"
   },
   {
    "duration": 30,
    "start_time": "2022-01-31T11:02:31.067Z"
   },
   {
    "duration": 25,
    "start_time": "2022-01-31T11:02:38.773Z"
   },
   {
    "duration": 22,
    "start_time": "2022-01-31T11:02:57.951Z"
   },
   {
    "duration": 17,
    "start_time": "2022-01-31T11:03:05.038Z"
   },
   {
    "duration": 27,
    "start_time": "2022-01-31T11:05:36.094Z"
   },
   {
    "duration": 20,
    "start_time": "2022-01-31T11:08:52.832Z"
   },
   {
    "duration": 4,
    "start_time": "2022-01-31T11:10:15.745Z"
   },
   {
    "duration": 6,
    "start_time": "2022-01-31T11:12:29.436Z"
   },
   {
    "duration": 10,
    "start_time": "2022-01-31T11:12:41.210Z"
   },
   {
    "duration": 293,
    "start_time": "2022-01-31T11:14:31.628Z"
   },
   {
    "duration": 12,
    "start_time": "2022-01-31T11:15:27.118Z"
   },
   {
    "duration": 3090,
    "start_time": "2022-01-31T11:15:44.216Z"
   },
   {
    "duration": -703,
    "start_time": "2022-01-31T11:15:48.011Z"
   },
   {
    "duration": 593,
    "start_time": "2022-01-31T11:15:57.234Z"
   },
   {
    "duration": 135,
    "start_time": "2022-01-31T11:15:57.829Z"
   },
   {
    "duration": 105,
    "start_time": "2022-01-31T11:15:57.967Z"
   },
   {
    "duration": 71,
    "start_time": "2022-01-31T11:15:58.074Z"
   },
   {
    "duration": 23,
    "start_time": "2022-01-31T11:15:58.147Z"
   },
   {
    "duration": 60,
    "start_time": "2022-01-31T11:15:58.172Z"
   },
   {
    "duration": 32,
    "start_time": "2022-01-31T11:15:58.234Z"
   },
   {
    "duration": 25,
    "start_time": "2022-01-31T11:15:58.268Z"
   },
   {
    "duration": 20,
    "start_time": "2022-01-31T11:15:58.295Z"
   },
   {
    "duration": 12,
    "start_time": "2022-01-31T11:15:58.317Z"
   },
   {
    "duration": 5144,
    "start_time": "2022-01-31T11:20:19.297Z"
   },
   {
    "duration": 619,
    "start_time": "2022-01-31T11:20:45.253Z"
   },
   {
    "duration": 182,
    "start_time": "2022-01-31T11:20:45.874Z"
   },
   {
    "duration": 133,
    "start_time": "2022-01-31T11:20:46.064Z"
   },
   {
    "duration": 83,
    "start_time": "2022-01-31T11:20:46.199Z"
   },
   {
    "duration": 27,
    "start_time": "2022-01-31T11:20:46.283Z"
   },
   {
    "duration": 49,
    "start_time": "2022-01-31T11:20:46.311Z"
   },
   {
    "duration": 37,
    "start_time": "2022-01-31T11:20:46.363Z"
   },
   {
    "duration": 27,
    "start_time": "2022-01-31T11:20:46.402Z"
   },
   {
    "duration": 20,
    "start_time": "2022-01-31T11:20:46.431Z"
   },
   {
    "duration": 46,
    "start_time": "2022-01-31T11:20:46.453Z"
   },
   {
    "duration": 6526,
    "start_time": "2022-01-31T11:20:46.501Z"
   },
   {
    "duration": 13,
    "start_time": "2022-01-31T11:23:17.807Z"
   },
   {
    "duration": 16,
    "start_time": "2022-01-31T11:56:47.820Z"
   },
   {
    "duration": 13,
    "start_time": "2022-01-31T11:56:55.168Z"
   },
   {
    "duration": 338,
    "start_time": "2022-01-31T11:57:05.103Z"
   },
   {
    "duration": 14,
    "start_time": "2022-01-31T11:57:16.619Z"
   },
   {
    "duration": 20,
    "start_time": "2022-01-31T12:00:12.853Z"
   },
   {
    "duration": 16,
    "start_time": "2022-01-31T12:09:27.936Z"
   },
   {
    "duration": 588,
    "start_time": "2022-01-31T12:20:53.045Z"
   },
   {
    "duration": 214,
    "start_time": "2022-01-31T12:20:53.635Z"
   },
   {
    "duration": 436,
    "start_time": "2022-01-31T12:20:53.851Z"
   },
   {
    "duration": 71,
    "start_time": "2022-01-31T12:20:54.289Z"
   },
   {
    "duration": 22,
    "start_time": "2022-01-31T12:20:54.362Z"
   },
   {
    "duration": 46,
    "start_time": "2022-01-31T12:20:54.386Z"
   },
   {
    "duration": 33,
    "start_time": "2022-01-31T12:20:54.434Z"
   },
   {
    "duration": 43,
    "start_time": "2022-01-31T12:20:54.470Z"
   },
   {
    "duration": 24,
    "start_time": "2022-01-31T12:20:54.515Z"
   },
   {
    "duration": 12,
    "start_time": "2022-01-31T12:20:54.541Z"
   },
   {
    "duration": 47,
    "start_time": "2022-01-31T12:20:54.555Z"
   },
   {
    "duration": 5221,
    "start_time": "2022-01-31T12:20:54.604Z"
   },
   {
    "duration": 636,
    "start_time": "2022-01-31T12:22:51.688Z"
   },
   {
    "duration": 201,
    "start_time": "2022-01-31T12:22:52.326Z"
   },
   {
    "duration": 305,
    "start_time": "2022-01-31T12:22:52.530Z"
   },
   {
    "duration": 73,
    "start_time": "2022-01-31T12:22:52.837Z"
   },
   {
    "duration": 23,
    "start_time": "2022-01-31T12:22:52.913Z"
   },
   {
    "duration": 33,
    "start_time": "2022-01-31T12:22:52.938Z"
   },
   {
    "duration": 37,
    "start_time": "2022-01-31T12:22:52.973Z"
   },
   {
    "duration": 27,
    "start_time": "2022-01-31T12:22:53.012Z"
   },
   {
    "duration": 21,
    "start_time": "2022-01-31T12:22:53.042Z"
   },
   {
    "duration": 39,
    "start_time": "2022-01-31T12:22:53.064Z"
   },
   {
    "duration": 19,
    "start_time": "2022-01-31T12:22:53.105Z"
   },
   {
    "duration": 7639,
    "start_time": "2022-01-31T12:22:53.125Z"
   },
   {
    "duration": 358,
    "start_time": "2022-01-31T12:25:09.971Z"
   },
   {
    "duration": 661,
    "start_time": "2022-01-31T12:25:21.616Z"
   },
   {
    "duration": 197,
    "start_time": "2022-01-31T12:25:22.279Z"
   },
   {
    "duration": 292,
    "start_time": "2022-01-31T12:25:22.478Z"
   },
   {
    "duration": 72,
    "start_time": "2022-01-31T12:25:22.772Z"
   },
   {
    "duration": 23,
    "start_time": "2022-01-31T12:25:22.846Z"
   },
   {
    "duration": 34,
    "start_time": "2022-01-31T12:25:22.871Z"
   },
   {
    "duration": 34,
    "start_time": "2022-01-31T12:25:22.907Z"
   },
   {
    "duration": 26,
    "start_time": "2022-01-31T12:25:22.944Z"
   },
   {
    "duration": 39,
    "start_time": "2022-01-31T12:25:22.972Z"
   },
   {
    "duration": 11,
    "start_time": "2022-01-31T12:25:23.013Z"
   },
   {
    "duration": 22,
    "start_time": "2022-01-31T12:25:23.026Z"
   },
   {
    "duration": 13,
    "start_time": "2022-01-31T12:25:23.049Z"
   },
   {
    "duration": 25,
    "start_time": "2022-01-31T12:25:36.340Z"
   },
   {
    "duration": 25,
    "start_time": "2022-01-31T12:27:11.335Z"
   },
   {
    "duration": 5217,
    "start_time": "2022-01-31T12:54:18.819Z"
   },
   {
    "duration": 88,
    "start_time": "2022-01-31T12:59:17.464Z"
   },
   {
    "duration": 6884,
    "start_time": "2022-01-31T12:59:22.823Z"
   },
   {
    "duration": 273,
    "start_time": "2022-01-31T12:59:48.253Z"
   },
   {
    "duration": 238,
    "start_time": "2022-01-31T13:00:10.998Z"
   },
   {
    "duration": 1275,
    "start_time": "2022-01-31T13:00:45.159Z"
   },
   {
    "duration": 594,
    "start_time": "2022-01-31T13:00:55.340Z"
   },
   {
    "duration": 191,
    "start_time": "2022-01-31T13:00:55.936Z"
   },
   {
    "duration": 613,
    "start_time": "2022-01-31T13:00:56.129Z"
   },
   {
    "duration": 75,
    "start_time": "2022-01-31T13:00:56.744Z"
   },
   {
    "duration": 23,
    "start_time": "2022-01-31T13:00:56.821Z"
   },
   {
    "duration": 35,
    "start_time": "2022-01-31T13:00:56.846Z"
   },
   {
    "duration": 36,
    "start_time": "2022-01-31T13:00:56.883Z"
   },
   {
    "duration": 27,
    "start_time": "2022-01-31T13:00:56.922Z"
   },
   {
    "duration": 18,
    "start_time": "2022-01-31T13:00:56.951Z"
   },
   {
    "duration": 32,
    "start_time": "2022-01-31T13:00:56.971Z"
   },
   {
    "duration": 16,
    "start_time": "2022-01-31T13:00:57.005Z"
   },
   {
    "duration": 5262,
    "start_time": "2022-01-31T13:00:57.022Z"
   },
   {
    "duration": 616,
    "start_time": "2022-01-31T13:01:40.516Z"
   },
   {
    "duration": 196,
    "start_time": "2022-01-31T13:01:41.134Z"
   },
   {
    "duration": 322,
    "start_time": "2022-01-31T13:01:41.332Z"
   },
   {
    "duration": 72,
    "start_time": "2022-01-31T13:01:41.656Z"
   },
   {
    "duration": 24,
    "start_time": "2022-01-31T13:01:41.730Z"
   },
   {
    "duration": 35,
    "start_time": "2022-01-31T13:01:41.756Z"
   },
   {
    "duration": 35,
    "start_time": "2022-01-31T13:01:41.793Z"
   },
   {
    "duration": 26,
    "start_time": "2022-01-31T13:01:41.831Z"
   },
   {
    "duration": 41,
    "start_time": "2022-01-31T13:01:41.859Z"
   },
   {
    "duration": 11,
    "start_time": "2022-01-31T13:01:41.902Z"
   },
   {
    "duration": 28,
    "start_time": "2022-01-31T13:01:41.915Z"
   },
   {
    "duration": 3169,
    "start_time": "2022-01-31T13:01:41.945Z"
   },
   {
    "duration": 474,
    "start_time": "2022-01-31T13:04:29.865Z"
   },
   {
    "duration": 288,
    "start_time": "2022-01-31T13:04:42.848Z"
   },
   {
    "duration": 582,
    "start_time": "2022-01-31T13:04:54.657Z"
   },
   {
    "duration": 146,
    "start_time": "2022-01-31T13:04:55.241Z"
   },
   {
    "duration": 110,
    "start_time": "2022-01-31T13:04:55.389Z"
   },
   {
    "duration": 71,
    "start_time": "2022-01-31T13:04:55.501Z"
   },
   {
    "duration": 22,
    "start_time": "2022-01-31T13:04:55.574Z"
   },
   {
    "duration": 33,
    "start_time": "2022-01-31T13:04:55.599Z"
   },
   {
    "duration": 35,
    "start_time": "2022-01-31T13:04:55.634Z"
   },
   {
    "duration": 39,
    "start_time": "2022-01-31T13:04:55.671Z"
   },
   {
    "duration": 20,
    "start_time": "2022-01-31T13:04:55.712Z"
   },
   {
    "duration": 12,
    "start_time": "2022-01-31T13:04:55.734Z"
   },
   {
    "duration": 50,
    "start_time": "2022-01-31T13:04:55.747Z"
   },
   {
    "duration": 331,
    "start_time": "2022-01-31T13:04:55.800Z"
   },
   {
    "duration": 321,
    "start_time": "2022-01-31T13:05:08.698Z"
   },
   {
    "duration": 2098,
    "start_time": "2022-01-31T13:05:51.294Z"
   },
   {
    "duration": 2723,
    "start_time": "2022-01-31T13:15:05.174Z"
   },
   {
    "duration": 659,
    "start_time": "2022-01-31T13:15:22.981Z"
   },
   {
    "duration": 196,
    "start_time": "2022-01-31T13:15:23.643Z"
   },
   {
    "duration": 285,
    "start_time": "2022-01-31T13:15:23.841Z"
   },
   {
    "duration": 74,
    "start_time": "2022-01-31T13:15:24.128Z"
   },
   {
    "duration": 24,
    "start_time": "2022-01-31T13:15:24.203Z"
   },
   {
    "duration": 36,
    "start_time": "2022-01-31T13:15:24.229Z"
   },
   {
    "duration": 37,
    "start_time": "2022-01-31T13:15:24.267Z"
   },
   {
    "duration": 27,
    "start_time": "2022-01-31T13:15:24.306Z"
   },
   {
    "duration": 21,
    "start_time": "2022-01-31T13:15:24.335Z"
   },
   {
    "duration": 11,
    "start_time": "2022-01-31T13:15:24.357Z"
   },
   {
    "duration": 46,
    "start_time": "2022-01-31T13:15:24.370Z"
   },
   {
    "duration": 5088,
    "start_time": "2022-01-31T13:15:24.417Z"
   },
   {
    "duration": 2470,
    "start_time": "2022-01-31T13:16:38.381Z"
   },
   {
    "duration": 277,
    "start_time": "2022-01-31T13:19:52.679Z"
   },
   {
    "duration": 271,
    "start_time": "2022-01-31T13:20:00.450Z"
   },
   {
    "duration": 659,
    "start_time": "2022-01-31T13:20:20.373Z"
   },
   {
    "duration": 261,
    "start_time": "2022-01-31T13:20:40.818Z"
   },
   {
    "duration": 29,
    "start_time": "2022-01-31T13:20:54.994Z"
   },
   {
    "duration": 100,
    "start_time": "2022-01-31T13:24:47.781Z"
   },
   {
    "duration": 286,
    "start_time": "2022-01-31T13:25:04.683Z"
   },
   {
    "duration": 283,
    "start_time": "2022-01-31T13:25:11.552Z"
   },
   {
    "duration": 274,
    "start_time": "2022-01-31T13:26:27.439Z"
   },
   {
    "duration": 42,
    "start_time": "2022-01-31T13:27:00.123Z"
   },
   {
    "duration": 56,
    "start_time": "2022-01-31T13:27:26.649Z"
   },
   {
    "duration": 344,
    "start_time": "2022-01-31T13:32:05.755Z"
   },
   {
    "duration": 34,
    "start_time": "2022-01-31T13:41:53.707Z"
   },
   {
    "duration": 62,
    "start_time": "2022-01-31T13:42:30.511Z"
   },
   {
    "duration": 12,
    "start_time": "2022-01-31T13:45:39.409Z"
   },
   {
    "duration": 529,
    "start_time": "2022-01-31T15:18:34.237Z"
   },
   {
    "duration": 775,
    "start_time": "2022-01-31T15:18:42.083Z"
   },
   {
    "duration": 178,
    "start_time": "2022-01-31T15:18:42.861Z"
   },
   {
    "duration": 543,
    "start_time": "2022-01-31T15:18:43.042Z"
   },
   {
    "duration": 234,
    "start_time": "2022-01-31T15:18:43.588Z"
   },
   {
    "duration": 48,
    "start_time": "2022-01-31T15:18:43.824Z"
   },
   {
    "duration": 42,
    "start_time": "2022-01-31T15:18:43.875Z"
   },
   {
    "duration": 44,
    "start_time": "2022-01-31T15:18:43.919Z"
   },
   {
    "duration": 34,
    "start_time": "2022-01-31T15:18:43.966Z"
   },
   {
    "duration": 26,
    "start_time": "2022-01-31T15:18:44.003Z"
   },
   {
    "duration": 16,
    "start_time": "2022-01-31T15:18:44.060Z"
   },
   {
    "duration": 16,
    "start_time": "2022-01-31T15:18:44.079Z"
   },
   {
    "duration": 102,
    "start_time": "2022-01-31T15:18:44.097Z"
   },
   {
    "duration": 476,
    "start_time": "2022-01-31T15:18:44.201Z"
   },
   {
    "duration": -109,
    "start_time": "2022-01-31T15:18:44.789Z"
   },
   {
    "duration": 845,
    "start_time": "2022-01-31T15:19:04.503Z"
   },
   {
    "duration": 202,
    "start_time": "2022-01-31T15:19:05.352Z"
   },
   {
    "duration": 135,
    "start_time": "2022-01-31T15:19:05.557Z"
   },
   {
    "duration": 91,
    "start_time": "2022-01-31T15:19:05.695Z"
   },
   {
    "duration": 27,
    "start_time": "2022-01-31T15:19:05.789Z"
   },
   {
    "duration": 40,
    "start_time": "2022-01-31T15:19:05.819Z"
   },
   {
    "duration": 43,
    "start_time": "2022-01-31T15:19:05.862Z"
   },
   {
    "duration": 59,
    "start_time": "2022-01-31T15:19:05.910Z"
   },
   {
    "duration": 29,
    "start_time": "2022-01-31T15:19:05.972Z"
   },
   {
    "duration": 17,
    "start_time": "2022-01-31T15:19:06.004Z"
   },
   {
    "duration": 52,
    "start_time": "2022-01-31T15:19:06.024Z"
   },
   {
    "duration": 97,
    "start_time": "2022-01-31T15:19:06.079Z"
   },
   {
    "duration": 465,
    "start_time": "2022-01-31T15:19:06.178Z"
   },
   {
    "duration": -101,
    "start_time": "2022-01-31T15:19:06.746Z"
   },
   {
    "duration": 464,
    "start_time": "2022-01-31T15:20:24.502Z"
   },
   {
    "duration": 1245,
    "start_time": "2022-01-31T15:20:49.606Z"
   },
   {
    "duration": 43,
    "start_time": "2022-01-31T15:20:51.836Z"
   },
   {
    "duration": 45,
    "start_time": "2022-01-31T15:26:18.353Z"
   },
   {
    "duration": 43,
    "start_time": "2022-01-31T15:26:32.626Z"
   },
   {
    "duration": 46,
    "start_time": "2022-01-31T15:26:40.378Z"
   },
   {
    "duration": 44,
    "start_time": "2022-01-31T15:27:37.263Z"
   },
   {
    "duration": 1156,
    "start_time": "2022-01-31T15:27:44.528Z"
   },
   {
    "duration": 1212,
    "start_time": "2022-01-31T15:27:56.022Z"
   },
   {
    "duration": 35,
    "start_time": "2022-01-31T15:30:13.142Z"
   },
   {
    "duration": 77,
    "start_time": "2022-01-31T15:30:43.445Z"
   },
   {
    "duration": 31,
    "start_time": "2022-01-31T15:40:03.012Z"
   },
   {
    "duration": 35,
    "start_time": "2022-01-31T15:40:25.852Z"
   },
   {
    "duration": 25,
    "start_time": "2022-01-31T15:41:48.178Z"
   },
   {
    "duration": 45,
    "start_time": "2022-01-31T15:41:54.955Z"
   },
   {
    "duration": 387,
    "start_time": "2022-01-31T15:42:31.000Z"
   },
   {
    "duration": 47,
    "start_time": "2022-01-31T15:42:54.001Z"
   },
   {
    "duration": 33,
    "start_time": "2022-01-31T15:44:29.334Z"
   },
   {
    "duration": 28,
    "start_time": "2022-01-31T15:44:45.777Z"
   },
   {
    "duration": 36,
    "start_time": "2022-01-31T15:45:06.447Z"
   },
   {
    "duration": 33,
    "start_time": "2022-01-31T15:45:26.887Z"
   },
   {
    "duration": 56,
    "start_time": "2022-01-31T15:49:39.023Z"
   },
   {
    "duration": 45,
    "start_time": "2022-01-31T15:49:58.291Z"
   },
   {
    "duration": 35,
    "start_time": "2022-01-31T15:50:14.946Z"
   },
   {
    "duration": 28,
    "start_time": "2022-01-31T15:51:04.672Z"
   },
   {
    "duration": 37,
    "start_time": "2022-01-31T15:51:07.150Z"
   },
   {
    "duration": 48,
    "start_time": "2022-01-31T15:51:51.180Z"
   },
   {
    "duration": 32,
    "start_time": "2022-01-31T15:52:10.977Z"
   },
   {
    "duration": 27,
    "start_time": "2022-01-31T15:52:18.486Z"
   },
   {
    "duration": 34,
    "start_time": "2022-01-31T15:52:48.283Z"
   },
   {
    "duration": 56,
    "start_time": "2022-01-31T15:52:57.956Z"
   },
   {
    "duration": 35,
    "start_time": "2022-01-31T15:57:58.256Z"
   },
   {
    "duration": 63,
    "start_time": "2022-01-31T15:58:14.690Z"
   },
   {
    "duration": 102,
    "start_time": "2022-01-31T18:24:33.422Z"
   },
   {
    "duration": 386,
    "start_time": "2022-01-31T18:24:47.642Z"
   },
   {
    "duration": 588,
    "start_time": "2022-01-31T18:24:57.485Z"
   },
   {
    "duration": 160,
    "start_time": "2022-01-31T18:24:58.078Z"
   },
   {
    "duration": 99,
    "start_time": "2022-01-31T18:24:58.241Z"
   },
   {
    "duration": 66,
    "start_time": "2022-01-31T18:24:58.342Z"
   },
   {
    "duration": 22,
    "start_time": "2022-01-31T18:24:58.410Z"
   },
   {
    "duration": 68,
    "start_time": "2022-01-31T18:24:58.434Z"
   },
   {
    "duration": 29,
    "start_time": "2022-01-31T18:24:58.505Z"
   },
   {
    "duration": 23,
    "start_time": "2022-01-31T18:24:58.536Z"
   },
   {
    "duration": 25,
    "start_time": "2022-01-31T18:24:58.561Z"
   },
   {
    "duration": 10,
    "start_time": "2022-01-31T18:24:58.588Z"
   },
   {
    "duration": 26,
    "start_time": "2022-01-31T18:24:58.600Z"
   },
   {
    "duration": 83,
    "start_time": "2022-01-31T18:24:58.628Z"
   },
   {
    "duration": 25,
    "start_time": "2022-01-31T18:24:58.713Z"
   },
   {
    "duration": 59,
    "start_time": "2022-01-31T18:24:58.740Z"
   },
   {
    "duration": 377,
    "start_time": "2022-01-31T18:24:58.801Z"
   },
   {
    "duration": 31,
    "start_time": "2022-01-31T18:25:52.729Z"
   },
   {
    "duration": 26,
    "start_time": "2022-01-31T18:26:48.634Z"
   },
   {
    "duration": 316,
    "start_time": "2022-01-31T18:27:15.863Z"
   },
   {
    "duration": 594,
    "start_time": "2022-01-31T18:27:36.985Z"
   },
   {
    "duration": 124,
    "start_time": "2022-01-31T18:27:37.581Z"
   },
   {
    "duration": 101,
    "start_time": "2022-01-31T18:27:37.707Z"
   },
   {
    "duration": 67,
    "start_time": "2022-01-31T18:27:37.810Z"
   },
   {
    "duration": 23,
    "start_time": "2022-01-31T18:27:37.879Z"
   },
   {
    "duration": 48,
    "start_time": "2022-01-31T18:27:37.903Z"
   },
   {
    "duration": 31,
    "start_time": "2022-01-31T18:27:37.952Z"
   },
   {
    "duration": 22,
    "start_time": "2022-01-31T18:27:37.986Z"
   },
   {
    "duration": 16,
    "start_time": "2022-01-31T18:27:38.010Z"
   },
   {
    "duration": 10,
    "start_time": "2022-01-31T18:27:38.028Z"
   },
   {
    "duration": 43,
    "start_time": "2022-01-31T18:27:38.039Z"
   },
   {
    "duration": 55,
    "start_time": "2022-01-31T18:27:38.084Z"
   },
   {
    "duration": 45,
    "start_time": "2022-01-31T18:27:38.141Z"
   },
   {
    "duration": 31,
    "start_time": "2022-01-31T18:27:38.187Z"
   },
   {
    "duration": 385,
    "start_time": "2022-01-31T18:27:38.220Z"
   },
   {
    "duration": 391,
    "start_time": "2022-01-31T18:28:07.681Z"
   },
   {
    "duration": 473,
    "start_time": "2022-01-31T18:28:19.472Z"
   },
   {
    "duration": 341,
    "start_time": "2022-01-31T18:28:33.726Z"
   },
   {
    "duration": 33,
    "start_time": "2022-01-31T18:28:58.747Z"
   },
   {
    "duration": 31,
    "start_time": "2022-01-31T18:29:08.273Z"
   },
   {
    "duration": 37,
    "start_time": "2022-01-31T18:29:16.584Z"
   },
   {
    "duration": 111,
    "start_time": "2022-01-31T18:31:34.775Z"
   },
   {
    "duration": 339,
    "start_time": "2022-01-31T18:31:42.733Z"
   },
   {
    "duration": 378,
    "start_time": "2022-01-31T18:31:58.081Z"
   },
   {
    "duration": 331,
    "start_time": "2022-01-31T18:32:44.576Z"
   },
   {
    "duration": 402,
    "start_time": "2022-01-31T18:33:46.506Z"
   },
   {
    "duration": 27,
    "start_time": "2022-01-31T18:33:59.648Z"
   },
   {
    "duration": 312,
    "start_time": "2022-01-31T18:34:46.540Z"
   },
   {
    "duration": 2288,
    "start_time": "2022-01-31T18:35:29.515Z"
   },
   {
    "duration": 31,
    "start_time": "2022-01-31T18:35:45.949Z"
   },
   {
    "duration": 26,
    "start_time": "2022-01-31T18:36:06.444Z"
   },
   {
    "duration": 24,
    "start_time": "2022-01-31T18:37:57.380Z"
   },
   {
    "duration": 60,
    "start_time": "2022-01-31T18:57:19.752Z"
   },
   {
    "duration": 24,
    "start_time": "2022-01-31T18:57:38.575Z"
   },
   {
    "duration": 27,
    "start_time": "2022-01-31T18:58:06.025Z"
   },
   {
    "duration": 31,
    "start_time": "2022-01-31T18:58:19.775Z"
   },
   {
    "duration": 107,
    "start_time": "2022-01-31T19:01:38.847Z"
   },
   {
    "duration": 840,
    "start_time": "2022-01-31T19:01:50.729Z"
   },
   {
    "duration": 777,
    "start_time": "2022-01-31T19:02:04.288Z"
   },
   {
    "duration": 325,
    "start_time": "2022-01-31T19:02:22.493Z"
   },
   {
    "duration": 371,
    "start_time": "2022-01-31T19:02:42.692Z"
   },
   {
    "duration": 502,
    "start_time": "2022-01-31T19:04:14.956Z"
   },
   {
    "duration": 27,
    "start_time": "2022-01-31T19:09:02.482Z"
   },
   {
    "duration": 334,
    "start_time": "2022-01-31T19:10:53.133Z"
   },
   {
    "duration": 601,
    "start_time": "2022-01-31T19:11:22.888Z"
   },
   {
    "duration": 28,
    "start_time": "2022-01-31T19:12:08.661Z"
   },
   {
    "duration": 31,
    "start_time": "2022-01-31T19:12:19.429Z"
   },
   {
    "duration": 29,
    "start_time": "2022-01-31T19:12:39.729Z"
   },
   {
    "duration": 28,
    "start_time": "2022-01-31T19:12:49.915Z"
   },
   {
    "duration": 28,
    "start_time": "2022-01-31T19:12:52.283Z"
   },
   {
    "duration": 28,
    "start_time": "2022-01-31T19:12:57.224Z"
   },
   {
    "duration": 21,
    "start_time": "2022-01-31T19:13:18.339Z"
   },
   {
    "duration": 362,
    "start_time": "2022-01-31T19:13:32.626Z"
   },
   {
    "duration": 27,
    "start_time": "2022-01-31T19:14:15.508Z"
   },
   {
    "duration": 26,
    "start_time": "2022-01-31T19:14:28.701Z"
   },
   {
    "duration": 28,
    "start_time": "2022-01-31T19:14:40.891Z"
   },
   {
    "duration": 28,
    "start_time": "2022-01-31T19:14:48.694Z"
   },
   {
    "duration": 26,
    "start_time": "2022-01-31T19:14:56.405Z"
   },
   {
    "duration": 26,
    "start_time": "2022-01-31T19:15:09.471Z"
   },
   {
    "duration": 27,
    "start_time": "2022-01-31T19:15:18.568Z"
   },
   {
    "duration": 30,
    "start_time": "2022-01-31T19:15:29.065Z"
   },
   {
    "duration": 30,
    "start_time": "2022-01-31T19:18:14.868Z"
   },
   {
    "duration": 31,
    "start_time": "2022-01-31T19:18:33.663Z"
   },
   {
    "duration": 30,
    "start_time": "2022-01-31T19:18:59.069Z"
   },
   {
    "duration": 30,
    "start_time": "2022-01-31T19:19:02.348Z"
   },
   {
    "duration": 29,
    "start_time": "2022-01-31T19:19:03.012Z"
   },
   {
    "duration": 29,
    "start_time": "2022-01-31T19:19:03.657Z"
   },
   {
    "duration": 29,
    "start_time": "2022-01-31T19:19:04.231Z"
   },
   {
    "duration": 29,
    "start_time": "2022-01-31T19:19:04.818Z"
   },
   {
    "duration": 28,
    "start_time": "2022-01-31T19:19:05.398Z"
   },
   {
    "duration": 29,
    "start_time": "2022-01-31T19:19:05.972Z"
   },
   {
    "duration": 28,
    "start_time": "2022-01-31T19:19:06.614Z"
   },
   {
    "duration": 352,
    "start_time": "2022-01-31T19:19:27.595Z"
   },
   {
    "duration": 29,
    "start_time": "2022-01-31T19:19:49.112Z"
   },
   {
    "duration": 29,
    "start_time": "2022-01-31T19:19:59.262Z"
   },
   {
    "duration": 1232,
    "start_time": "2022-01-31T19:22:44.104Z"
   },
   {
    "duration": 29,
    "start_time": "2022-01-31T19:22:56.116Z"
   },
   {
    "duration": 29,
    "start_time": "2022-01-31T19:25:39.922Z"
   },
   {
    "duration": 29,
    "start_time": "2022-01-31T19:25:56.778Z"
   },
   {
    "duration": 28,
    "start_time": "2022-01-31T19:26:15.371Z"
   },
   {
    "duration": 319,
    "start_time": "2022-02-01T06:52:25.469Z"
   },
   {
    "duration": 840,
    "start_time": "2022-02-01T06:52:35.697Z"
   },
   {
    "duration": 210,
    "start_time": "2022-02-01T06:52:36.540Z"
   },
   {
    "duration": 158,
    "start_time": "2022-02-01T06:52:36.753Z"
   },
   {
    "duration": 105,
    "start_time": "2022-02-01T06:52:36.914Z"
   },
   {
    "duration": 32,
    "start_time": "2022-02-01T06:52:37.022Z"
   },
   {
    "duration": 44,
    "start_time": "2022-02-01T06:52:37.056Z"
   },
   {
    "duration": 52,
    "start_time": "2022-02-01T06:52:37.102Z"
   },
   {
    "duration": 93,
    "start_time": "2022-02-01T06:52:37.158Z"
   },
   {
    "duration": 21,
    "start_time": "2022-02-01T06:52:37.253Z"
   },
   {
    "duration": 33,
    "start_time": "2022-02-01T06:52:37.276Z"
   },
   {
    "duration": 20,
    "start_time": "2022-02-01T06:52:37.312Z"
   },
   {
    "duration": 93,
    "start_time": "2022-02-01T06:52:37.334Z"
   },
   {
    "duration": 30,
    "start_time": "2022-02-01T06:52:37.429Z"
   },
   {
    "duration": 64,
    "start_time": "2022-02-01T06:52:37.461Z"
   },
   {
    "duration": 142,
    "start_time": "2022-02-01T06:52:37.527Z"
   },
   {
    "duration": 21,
    "start_time": "2022-02-01T06:53:01.530Z"
   },
   {
    "duration": 348,
    "start_time": "2022-02-01T06:54:05.235Z"
   },
   {
    "duration": 14,
    "start_time": "2022-02-01T06:54:28.044Z"
   },
   {
    "duration": 15,
    "start_time": "2022-02-01T06:54:54.367Z"
   },
   {
    "duration": 104,
    "start_time": "2022-02-01T07:02:18.697Z"
   },
   {
    "duration": 481,
    "start_time": "2022-02-01T07:02:27.290Z"
   },
   {
    "duration": 514,
    "start_time": "2022-02-01T07:05:43.838Z"
   },
   {
    "duration": 565,
    "start_time": "2022-02-01T07:07:44.624Z"
   },
   {
    "duration": 510,
    "start_time": "2022-02-01T07:08:01.331Z"
   },
   {
    "duration": 55,
    "start_time": "2022-02-01T07:09:44.100Z"
   },
   {
    "duration": 111,
    "start_time": "2022-02-01T07:10:02.052Z"
   },
   {
    "duration": 151,
    "start_time": "2022-02-01T07:10:39.896Z"
   },
   {
    "duration": 64,
    "start_time": "2022-02-01T07:11:59.954Z"
   },
   {
    "duration": 398,
    "start_time": "2022-02-01T07:12:14.770Z"
   },
   {
    "duration": 159,
    "start_time": "2022-02-01T07:12:47.039Z"
   },
   {
    "duration": 123,
    "start_time": "2022-02-01T07:13:54.843Z"
   },
   {
    "duration": 131,
    "start_time": "2022-02-01T07:14:18.694Z"
   },
   {
    "duration": 181,
    "start_time": "2022-02-01T07:17:55.117Z"
   },
   {
    "duration": 464,
    "start_time": "2022-02-01T07:18:37.041Z"
   },
   {
    "duration": 31620,
    "start_time": "2022-02-01T07:19:11.710Z"
   },
   {
    "duration": 594,
    "start_time": "2022-02-01T07:29:44.814Z"
   },
   {
    "duration": 470,
    "start_time": "2022-02-01T07:30:53.609Z"
   },
   {
    "duration": 506,
    "start_time": "2022-02-01T07:32:10.773Z"
   },
   {
    "duration": 655,
    "start_time": "2022-02-01T07:34:12.976Z"
   },
   {
    "duration": 302,
    "start_time": "2022-02-01T07:35:40.098Z"
   },
   {
    "duration": 130517,
    "start_time": "2022-02-01T07:35:41.640Z"
   },
   {
    "duration": 125,
    "start_time": "2022-02-01T07:39:37.199Z"
   },
   {
    "duration": 90,
    "start_time": "2022-02-01T07:40:29.212Z"
   },
   {
    "duration": 148,
    "start_time": "2022-02-01T07:40:46.972Z"
   },
   {
    "duration": 163,
    "start_time": "2022-02-01T07:40:57.486Z"
   },
   {
    "duration": 91,
    "start_time": "2022-02-01T07:41:05.090Z"
   },
   {
    "duration": 98,
    "start_time": "2022-02-01T07:41:56.434Z"
   },
   {
    "duration": 220,
    "start_time": "2022-02-01T07:42:34.753Z"
   },
   {
    "duration": 659,
    "start_time": "2022-02-01T07:46:10.556Z"
   },
   {
    "duration": 107,
    "start_time": "2022-02-01T07:46:34.281Z"
   },
   {
    "duration": 674,
    "start_time": "2022-02-01T07:47:24.255Z"
   },
   {
    "duration": 150,
    "start_time": "2022-02-01T07:47:43.890Z"
   },
   {
    "duration": 177,
    "start_time": "2022-02-01T07:47:59.096Z"
   },
   {
    "duration": 504,
    "start_time": "2022-02-01T07:48:16.404Z"
   },
   {
    "duration": 99,
    "start_time": "2022-02-01T07:48:24.199Z"
   },
   {
    "duration": 100,
    "start_time": "2022-02-01T07:48:34.160Z"
   },
   {
    "duration": 108,
    "start_time": "2022-02-01T07:48:43.101Z"
   },
   {
    "duration": 104,
    "start_time": "2022-02-01T07:49:35.190Z"
   },
   {
    "duration": 794,
    "start_time": "2022-02-01T07:50:03.185Z"
   },
   {
    "duration": 664,
    "start_time": "2022-02-01T07:50:34.829Z"
   },
   {
    "duration": 99,
    "start_time": "2022-02-01T07:52:16.371Z"
   },
   {
    "duration": 106,
    "start_time": "2022-02-01T07:52:32.667Z"
   },
   {
    "duration": 157,
    "start_time": "2022-02-01T07:52:50.705Z"
   },
   {
    "duration": 619,
    "start_time": "2022-02-01T07:54:05.781Z"
   },
   {
    "duration": 98,
    "start_time": "2022-02-01T07:54:30.314Z"
   },
   {
    "duration": 92,
    "start_time": "2022-02-01T07:54:44.547Z"
   },
   {
    "duration": 91,
    "start_time": "2022-02-01T07:54:58.905Z"
   },
   {
    "duration": 111,
    "start_time": "2022-02-01T07:55:09.023Z"
   },
   {
    "duration": 100,
    "start_time": "2022-02-01T07:55:53.140Z"
   },
   {
    "duration": 97,
    "start_time": "2022-02-01T07:56:19.987Z"
   },
   {
    "duration": 96,
    "start_time": "2022-02-01T07:56:37.566Z"
   },
   {
    "duration": 123,
    "start_time": "2022-02-01T08:00:41.745Z"
   },
   {
    "duration": 119,
    "start_time": "2022-02-01T08:01:36.964Z"
   },
   {
    "duration": 139,
    "start_time": "2022-02-01T08:01:55.427Z"
   },
   {
    "duration": 128,
    "start_time": "2022-02-01T08:07:34.287Z"
   },
   {
    "duration": 137,
    "start_time": "2022-02-01T08:09:17.153Z"
   },
   {
    "duration": 49,
    "start_time": "2022-02-01T08:50:04.434Z"
   },
   {
    "duration": 42,
    "start_time": "2022-02-01T08:57:53.759Z"
   },
   {
    "duration": 52,
    "start_time": "2022-02-01T08:58:47.800Z"
   },
   {
    "duration": 273,
    "start_time": "2022-02-01T09:00:06.104Z"
   },
   {
    "duration": 247,
    "start_time": "2022-02-01T09:02:56.673Z"
   },
   {
    "duration": 92,
    "start_time": "2022-02-01T09:03:53.149Z"
   },
   {
    "duration": 3339,
    "start_time": "2022-02-01T09:04:42.949Z"
   },
   {
    "duration": 3631,
    "start_time": "2022-02-01T09:04:46.291Z"
   },
   {
    "duration": 224,
    "start_time": "2022-02-01T09:04:49.925Z"
   },
   {
    "duration": 296,
    "start_time": "2022-02-01T09:04:50.152Z"
   },
   {
    "duration": 89,
    "start_time": "2022-02-01T09:04:50.450Z"
   },
   {
    "duration": 35,
    "start_time": "2022-02-01T09:04:50.541Z"
   },
   {
    "duration": 47,
    "start_time": "2022-02-01T09:04:50.578Z"
   },
   {
    "duration": 55,
    "start_time": "2022-02-01T09:04:50.629Z"
   },
   {
    "duration": 79,
    "start_time": "2022-02-01T09:04:50.687Z"
   },
   {
    "duration": 48,
    "start_time": "2022-02-01T09:04:50.768Z"
   },
   {
    "duration": 14,
    "start_time": "2022-02-01T09:04:50.818Z"
   },
   {
    "duration": 20,
    "start_time": "2022-02-01T09:04:50.834Z"
   },
   {
    "duration": 107,
    "start_time": "2022-02-01T09:04:50.856Z"
   },
   {
    "duration": 46,
    "start_time": "2022-02-01T09:04:50.965Z"
   },
   {
    "duration": 36,
    "start_time": "2022-02-01T09:04:51.013Z"
   },
   {
    "duration": 150,
    "start_time": "2022-02-01T09:04:51.051Z"
   },
   {
    "duration": 53,
    "start_time": "2022-02-01T09:04:51.204Z"
   },
   {
    "duration": 4,
    "start_time": "2022-02-01T09:05:51.740Z"
   },
   {
    "duration": 5,
    "start_time": "2022-02-01T09:05:59.033Z"
   },
   {
    "duration": 5,
    "start_time": "2022-02-01T09:06:09.379Z"
   },
   {
    "duration": 15,
    "start_time": "2022-02-01T09:06:19.496Z"
   },
   {
    "duration": 15,
    "start_time": "2022-02-01T09:06:54.253Z"
   },
   {
    "duration": 88,
    "start_time": "2022-02-01T09:09:36.815Z"
   },
   {
    "duration": 585,
    "start_time": "2022-02-01T09:09:36.321Z"
   },
   {
    "duration": 575,
    "start_time": "2022-02-01T09:09:36.332Z"
   },
   {
    "duration": 564,
    "start_time": "2022-02-01T09:09:36.345Z"
   },
   {
    "duration": 561,
    "start_time": "2022-02-01T09:09:36.349Z"
   },
   {
    "duration": 558,
    "start_time": "2022-02-01T09:09:36.353Z"
   },
   {
    "duration": 556,
    "start_time": "2022-02-01T09:09:36.356Z"
   },
   {
    "duration": 490,
    "start_time": "2022-02-01T09:09:36.424Z"
   },
   {
    "duration": 470,
    "start_time": "2022-02-01T09:09:36.445Z"
   },
   {
    "duration": 469,
    "start_time": "2022-02-01T09:09:36.447Z"
   },
   {
    "duration": 468,
    "start_time": "2022-02-01T09:09:36.449Z"
   },
   {
    "duration": 465,
    "start_time": "2022-02-01T09:09:36.453Z"
   },
   {
    "duration": 465,
    "start_time": "2022-02-01T09:09:36.455Z"
   },
   {
    "duration": 463,
    "start_time": "2022-02-01T09:09:36.458Z"
   },
   {
    "duration": 463,
    "start_time": "2022-02-01T09:09:36.460Z"
   },
   {
    "duration": 459,
    "start_time": "2022-02-01T09:09:36.465Z"
   },
   {
    "duration": 458,
    "start_time": "2022-02-01T09:09:36.467Z"
   },
   {
    "duration": 457,
    "start_time": "2022-02-01T09:09:36.469Z"
   },
   {
    "duration": 2683,
    "start_time": "2022-02-01T09:10:07.968Z"
   },
   {
    "duration": 2675,
    "start_time": "2022-02-01T09:10:10.653Z"
   },
   {
    "duration": 2880,
    "start_time": "2022-02-01T09:10:13.332Z"
   },
   {
    "duration": 161,
    "start_time": "2022-02-01T09:10:16.214Z"
   },
   {
    "duration": 207,
    "start_time": "2022-02-01T09:10:16.377Z"
   },
   {
    "duration": 183,
    "start_time": "2022-02-01T09:10:16.587Z"
   },
   {
    "duration": 34,
    "start_time": "2022-02-01T09:10:16.773Z"
   },
   {
    "duration": 42,
    "start_time": "2022-02-01T09:10:16.811Z"
   },
   {
    "duration": 39,
    "start_time": "2022-02-01T09:10:16.855Z"
   },
   {
    "duration": 51,
    "start_time": "2022-02-01T09:10:16.896Z"
   },
   {
    "duration": 24,
    "start_time": "2022-02-01T09:10:16.949Z"
   },
   {
    "duration": 47,
    "start_time": "2022-02-01T09:10:16.975Z"
   },
   {
    "duration": 27,
    "start_time": "2022-02-01T09:10:17.024Z"
   },
   {
    "duration": 102,
    "start_time": "2022-02-01T09:10:17.054Z"
   },
   {
    "duration": 28,
    "start_time": "2022-02-01T09:10:17.159Z"
   },
   {
    "duration": 54,
    "start_time": "2022-02-01T09:10:17.190Z"
   },
   {
    "duration": 142,
    "start_time": "2022-02-01T09:10:17.247Z"
   },
   {
    "duration": 52,
    "start_time": "2022-02-01T09:10:17.391Z"
   },
   {
    "duration": 18,
    "start_time": "2022-02-01T09:10:17.445Z"
   },
   {
    "duration": 464,
    "start_time": "2022-02-01T09:16:07.946Z"
   },
   {
    "duration": 44,
    "start_time": "2022-02-01T09:16:14.681Z"
   },
   {
    "duration": 38,
    "start_time": "2022-02-01T09:16:21.094Z"
   },
   {
    "duration": 276,
    "start_time": "2022-02-01T09:16:34.844Z"
   },
   {
    "duration": 1260,
    "start_time": "2022-02-01T09:16:47.983Z"
   },
   {
    "duration": 154,
    "start_time": "2022-02-01T09:16:49.246Z"
   },
   {
    "duration": 117,
    "start_time": "2022-02-01T09:16:49.403Z"
   },
   {
    "duration": 82,
    "start_time": "2022-02-01T09:16:49.523Z"
   },
   {
    "duration": 27,
    "start_time": "2022-02-01T09:16:49.608Z"
   },
   {
    "duration": 42,
    "start_time": "2022-02-01T09:16:49.638Z"
   },
   {
    "duration": 46,
    "start_time": "2022-02-01T09:16:49.682Z"
   },
   {
    "duration": 38,
    "start_time": "2022-02-01T09:16:49.732Z"
   },
   {
    "duration": 60,
    "start_time": "2022-02-01T09:16:49.773Z"
   },
   {
    "duration": 19,
    "start_time": "2022-02-01T09:16:49.835Z"
   },
   {
    "duration": 27,
    "start_time": "2022-02-01T09:16:49.857Z"
   },
   {
    "duration": 70,
    "start_time": "2022-02-01T09:16:49.907Z"
   },
   {
    "duration": 45,
    "start_time": "2022-02-01T09:16:49.979Z"
   },
   {
    "duration": 39,
    "start_time": "2022-02-01T09:16:50.026Z"
   },
   {
    "duration": 202,
    "start_time": "2022-02-01T09:16:50.067Z"
   },
   {
    "duration": 54,
    "start_time": "2022-02-01T09:16:50.271Z"
   },
   {
    "duration": 692,
    "start_time": "2022-02-01T09:16:50.327Z"
   },
   {
    "duration": 243,
    "start_time": "2022-02-01T09:17:14.878Z"
   },
   {
    "duration": 224,
    "start_time": "2022-02-01T09:18:54.491Z"
   },
   {
    "duration": 1253,
    "start_time": "2022-02-01T09:22:05.178Z"
   },
   {
    "duration": 161,
    "start_time": "2022-02-01T09:22:06.433Z"
   },
   {
    "duration": 120,
    "start_time": "2022-02-01T09:22:06.597Z"
   },
   {
    "duration": 78,
    "start_time": "2022-02-01T09:22:06.719Z"
   },
   {
    "duration": 28,
    "start_time": "2022-02-01T09:22:06.799Z"
   },
   {
    "duration": 41,
    "start_time": "2022-02-01T09:22:06.829Z"
   },
   {
    "duration": 38,
    "start_time": "2022-02-01T09:22:06.872Z"
   },
   {
    "duration": 39,
    "start_time": "2022-02-01T09:22:06.912Z"
   },
   {
    "duration": 58,
    "start_time": "2022-02-01T09:22:06.954Z"
   },
   {
    "duration": 15,
    "start_time": "2022-02-01T09:22:07.015Z"
   },
   {
    "duration": 26,
    "start_time": "2022-02-01T09:22:07.033Z"
   },
   {
    "duration": 94,
    "start_time": "2022-02-01T09:22:07.061Z"
   },
   {
    "duration": 50,
    "start_time": "2022-02-01T09:22:07.157Z"
   },
   {
    "duration": 46,
    "start_time": "2022-02-01T09:22:07.210Z"
   },
   {
    "duration": 254,
    "start_time": "2022-02-01T09:22:07.259Z"
   },
   {
    "duration": 54,
    "start_time": "2022-02-01T09:22:07.515Z"
   },
   {
    "duration": 445,
    "start_time": "2022-02-01T09:22:07.571Z"
   },
   {
    "duration": 14,
    "start_time": "2022-02-01T09:22:53.445Z"
   },
   {
    "duration": 386,
    "start_time": "2022-02-01T09:24:15.869Z"
   },
   {
    "duration": 24,
    "start_time": "2022-02-01T09:24:23.286Z"
   },
   {
    "duration": 15,
    "start_time": "2022-02-01T09:25:28.876Z"
   },
   {
    "duration": 18,
    "start_time": "2022-02-01T09:26:22.676Z"
   },
   {
    "duration": 16,
    "start_time": "2022-02-01T09:26:49.818Z"
   },
   {
    "duration": 19,
    "start_time": "2022-02-01T09:27:09.643Z"
   },
   {
    "duration": 16,
    "start_time": "2022-02-01T09:27:58.082Z"
   },
   {
    "duration": 16,
    "start_time": "2022-02-01T09:29:56.951Z"
   },
   {
    "duration": 16,
    "start_time": "2022-02-01T09:31:08.552Z"
   },
   {
    "duration": 17,
    "start_time": "2022-02-01T09:36:20.563Z"
   },
   {
    "duration": 12,
    "start_time": "2022-02-01T09:38:56.150Z"
   },
   {
    "duration": 15,
    "start_time": "2022-02-01T09:39:07.856Z"
   },
   {
    "duration": 16,
    "start_time": "2022-02-01T09:41:40.180Z"
   },
   {
    "duration": 18,
    "start_time": "2022-02-01T09:41:59.753Z"
   },
   {
    "duration": 519,
    "start_time": "2022-02-01T09:42:28.923Z"
   },
   {
    "duration": 560,
    "start_time": "2022-02-01T09:43:40.572Z"
   },
   {
    "duration": 740,
    "start_time": "2022-02-01T09:44:37.858Z"
   },
   {
    "duration": 79,
    "start_time": "2022-02-01T09:46:20.710Z"
   },
   {
    "duration": 258,
    "start_time": "2022-02-01T09:46:32.535Z"
   },
   {
    "duration": 419,
    "start_time": "2022-02-01T09:47:06.572Z"
   },
   {
    "duration": 84,
    "start_time": "2022-02-01T09:51:02.095Z"
   },
   {
    "duration": 419,
    "start_time": "2022-02-01T09:51:07.962Z"
   },
   {
    "duration": 336,
    "start_time": "2022-02-01T09:51:24.821Z"
   },
   {
    "duration": 429,
    "start_time": "2022-02-01T09:53:45.806Z"
   },
   {
    "duration": 479,
    "start_time": "2022-02-01T09:54:44.768Z"
   },
   {
    "duration": 3328,
    "start_time": "2022-02-01T09:55:15.181Z"
   },
   {
    "duration": 354,
    "start_time": "2022-02-01T09:56:10.160Z"
   },
   {
    "duration": 605,
    "start_time": "2022-02-01T09:57:12.309Z"
   },
   {
    "duration": 952,
    "start_time": "2022-02-01T09:57:46.510Z"
   },
   {
    "duration": 1056,
    "start_time": "2022-02-01T11:01:21.753Z"
   },
   {
    "duration": 1124,
    "start_time": "2022-02-01T11:05:54.771Z"
   },
   {
    "duration": 1185,
    "start_time": "2022-02-01T11:06:42.653Z"
   },
   {
    "duration": 958,
    "start_time": "2022-02-01T11:07:06.754Z"
   },
   {
    "duration": 304,
    "start_time": "2022-02-01T11:16:48.397Z"
   },
   {
    "duration": 1021,
    "start_time": "2022-02-01T11:18:35.854Z"
   },
   {
    "duration": 281,
    "start_time": "2022-02-01T11:19:07.528Z"
   },
   {
    "duration": 482,
    "start_time": "2022-02-01T11:19:12.949Z"
   },
   {
    "duration": 863,
    "start_time": "2022-02-01T11:19:24.231Z"
   },
   {
    "duration": 907,
    "start_time": "2022-02-01T11:19:55.978Z"
   },
   {
    "duration": 43,
    "start_time": "2022-02-01T13:15:08.661Z"
   },
   {
    "duration": 12,
    "start_time": "2022-02-01T13:15:20.564Z"
   },
   {
    "duration": 10,
    "start_time": "2022-02-01T13:15:34.731Z"
   },
   {
    "duration": 12,
    "start_time": "2022-02-01T13:15:54.268Z"
   },
   {
    "duration": 317,
    "start_time": "2022-02-01T13:19:16.615Z"
   },
   {
    "duration": 353,
    "start_time": "2022-02-01T13:19:25.146Z"
   },
   {
    "duration": 483,
    "start_time": "2022-02-01T13:21:08.026Z"
   },
   {
    "duration": 366,
    "start_time": "2022-02-01T13:21:24.368Z"
   },
   {
    "duration": 401,
    "start_time": "2022-02-01T13:22:31.337Z"
   },
   {
    "duration": 611,
    "start_time": "2022-02-01T13:23:10.401Z"
   },
   {
    "duration": 379,
    "start_time": "2022-02-01T13:24:20.838Z"
   },
   {
    "duration": 1667,
    "start_time": "2022-02-01T13:29:10.206Z"
   },
   {
    "duration": 216,
    "start_time": "2022-02-01T13:29:11.876Z"
   },
   {
    "duration": 168,
    "start_time": "2022-02-01T13:29:12.095Z"
   },
   {
    "duration": 107,
    "start_time": "2022-02-01T13:29:12.265Z"
   },
   {
    "duration": 30,
    "start_time": "2022-02-01T13:29:12.374Z"
   },
   {
    "duration": 45,
    "start_time": "2022-02-01T13:29:12.406Z"
   },
   {
    "duration": 40,
    "start_time": "2022-02-01T13:29:12.453Z"
   },
   {
    "duration": 46,
    "start_time": "2022-02-01T13:29:12.497Z"
   },
   {
    "duration": 26,
    "start_time": "2022-02-01T13:29:12.545Z"
   },
   {
    "duration": 39,
    "start_time": "2022-02-01T13:29:12.573Z"
   },
   {
    "duration": 23,
    "start_time": "2022-02-01T13:29:12.614Z"
   },
   {
    "duration": 85,
    "start_time": "2022-02-01T13:29:12.639Z"
   },
   {
    "duration": 28,
    "start_time": "2022-02-01T13:29:12.726Z"
   },
   {
    "duration": 64,
    "start_time": "2022-02-01T13:29:12.755Z"
   },
   {
    "duration": 172,
    "start_time": "2022-02-01T13:29:12.821Z"
   },
   {
    "duration": 50,
    "start_time": "2022-02-01T13:29:12.995Z"
   },
   {
    "duration": 1637,
    "start_time": "2022-02-01T13:29:13.047Z"
   },
   {
    "duration": 1038,
    "start_time": "2022-02-01T13:29:14.686Z"
   },
   {
    "duration": 343,
    "start_time": "2022-02-01T13:29:15.727Z"
   },
   {
    "duration": 1502,
    "start_time": "2022-02-01T13:32:04.670Z"
   },
   {
    "duration": 218,
    "start_time": "2022-02-01T13:32:06.175Z"
   },
   {
    "duration": 183,
    "start_time": "2022-02-01T13:32:06.396Z"
   },
   {
    "duration": 81,
    "start_time": "2022-02-01T13:32:06.582Z"
   },
   {
    "duration": 30,
    "start_time": "2022-02-01T13:32:06.665Z"
   },
   {
    "duration": 42,
    "start_time": "2022-02-01T13:32:06.697Z"
   },
   {
    "duration": 42,
    "start_time": "2022-02-01T13:32:06.741Z"
   },
   {
    "duration": 51,
    "start_time": "2022-02-01T13:32:06.786Z"
   },
   {
    "duration": 25,
    "start_time": "2022-02-01T13:32:06.839Z"
   },
   {
    "duration": 44,
    "start_time": "2022-02-01T13:32:06.866Z"
   },
   {
    "duration": 23,
    "start_time": "2022-02-01T13:32:06.912Z"
   },
   {
    "duration": 93,
    "start_time": "2022-02-01T13:32:06.937Z"
   },
   {
    "duration": 28,
    "start_time": "2022-02-01T13:32:07.032Z"
   },
   {
    "duration": 60,
    "start_time": "2022-02-01T13:32:07.062Z"
   },
   {
    "duration": 184,
    "start_time": "2022-02-01T13:32:07.124Z"
   },
   {
    "duration": 40,
    "start_time": "2022-02-01T13:32:07.310Z"
   },
   {
    "duration": 1488,
    "start_time": "2022-02-01T13:32:07.353Z"
   },
   {
    "duration": 979,
    "start_time": "2022-02-01T13:32:08.843Z"
   },
   {
    "duration": 363,
    "start_time": "2022-02-01T13:32:09.825Z"
   },
   {
    "duration": 380,
    "start_time": "2022-02-01T13:39:06.721Z"
   },
   {
    "duration": 4,
    "start_time": "2022-02-01T13:39:17.705Z"
   },
   {
    "duration": 3198,
    "start_time": "2022-02-01T13:39:24.018Z"
   },
   {
    "duration": 298,
    "start_time": "2022-02-01T13:39:41.884Z"
   },
   {
    "duration": 330,
    "start_time": "2022-02-01T13:40:15.487Z"
   },
   {
    "duration": 335,
    "start_time": "2022-02-01T13:42:26.436Z"
   },
   {
    "duration": 156,
    "start_time": "2022-02-01T13:42:56.402Z"
   },
   {
    "duration": 157,
    "start_time": "2022-02-01T13:43:35.005Z"
   },
   {
    "duration": 207,
    "start_time": "2022-02-01T13:46:37.565Z"
   },
   {
    "duration": 204,
    "start_time": "2022-02-01T13:47:17.059Z"
   },
   {
    "duration": 99,
    "start_time": "2022-02-01T13:48:13.939Z"
   },
   {
    "duration": 115,
    "start_time": "2022-02-01T13:48:21.908Z"
   },
   {
    "duration": 122,
    "start_time": "2022-02-01T13:49:51.192Z"
   },
   {
    "duration": 87,
    "start_time": "2022-02-01T14:42:28.950Z"
   },
   {
    "duration": 19,
    "start_time": "2022-02-01T14:44:51.437Z"
   },
   {
    "duration": 1225,
    "start_time": "2022-02-01T14:45:12.598Z"
   },
   {
    "duration": 150,
    "start_time": "2022-02-01T14:45:13.825Z"
   },
   {
    "duration": 118,
    "start_time": "2022-02-01T14:45:13.978Z"
   },
   {
    "duration": 83,
    "start_time": "2022-02-01T14:45:14.099Z"
   },
   {
    "duration": 28,
    "start_time": "2022-02-01T14:45:14.184Z"
   },
   {
    "duration": 45,
    "start_time": "2022-02-01T14:45:14.214Z"
   },
   {
    "duration": 37,
    "start_time": "2022-02-01T14:45:14.260Z"
   },
   {
    "duration": 36,
    "start_time": "2022-02-01T14:45:14.300Z"
   },
   {
    "duration": 61,
    "start_time": "2022-02-01T14:45:14.338Z"
   },
   {
    "duration": 5210,
    "start_time": "2022-02-01T14:45:14.401Z"
   },
   {
    "duration": -144,
    "start_time": "2022-02-01T14:45:19.758Z"
   },
   {
    "duration": -180,
    "start_time": "2022-02-01T14:45:19.795Z"
   },
   {
    "duration": -216,
    "start_time": "2022-02-01T14:45:19.833Z"
   },
   {
    "duration": -225,
    "start_time": "2022-02-01T14:45:19.844Z"
   },
   {
    "duration": -251,
    "start_time": "2022-02-01T14:45:19.872Z"
   },
   {
    "duration": -268,
    "start_time": "2022-02-01T14:45:19.890Z"
   },
   {
    "duration": -284,
    "start_time": "2022-02-01T14:45:19.908Z"
   },
   {
    "duration": -305,
    "start_time": "2022-02-01T14:45:19.930Z"
   },
   {
    "duration": -314,
    "start_time": "2022-02-01T14:45:19.941Z"
   },
   {
    "duration": 4703,
    "start_time": "2022-02-01T14:52:43.618Z"
   },
   {
    "duration": 1196,
    "start_time": "2022-02-01T14:53:06.521Z"
   },
   {
    "duration": 155,
    "start_time": "2022-02-01T14:53:07.720Z"
   },
   {
    "duration": 112,
    "start_time": "2022-02-01T14:53:07.877Z"
   },
   {
    "duration": 79,
    "start_time": "2022-02-01T14:53:07.991Z"
   },
   {
    "duration": 28,
    "start_time": "2022-02-01T14:53:08.072Z"
   },
   {
    "duration": 40,
    "start_time": "2022-02-01T14:53:08.102Z"
   },
   {
    "duration": 42,
    "start_time": "2022-02-01T14:53:08.143Z"
   },
   {
    "duration": 44,
    "start_time": "2022-02-01T14:53:08.189Z"
   },
   {
    "duration": 27,
    "start_time": "2022-02-01T14:53:08.235Z"
   },
   {
    "duration": 50,
    "start_time": "2022-02-01T14:53:08.265Z"
   },
   {
    "duration": 21,
    "start_time": "2022-02-01T14:53:08.317Z"
   },
   {
    "duration": 84,
    "start_time": "2022-02-01T14:53:08.340Z"
   },
   {
    "duration": 29,
    "start_time": "2022-02-01T14:53:08.425Z"
   },
   {
    "duration": 60,
    "start_time": "2022-02-01T14:53:08.456Z"
   },
   {
    "duration": 148,
    "start_time": "2022-02-01T14:53:08.518Z"
   },
   {
    "duration": 54,
    "start_time": "2022-02-01T14:53:08.668Z"
   },
   {
    "duration": 1409,
    "start_time": "2022-02-01T14:53:08.724Z"
   },
   {
    "duration": 995,
    "start_time": "2022-02-01T14:53:10.135Z"
   },
   {
    "duration": 348,
    "start_time": "2022-02-01T14:53:11.132Z"
   },
   {
    "duration": 16,
    "start_time": "2022-02-01T14:58:03.400Z"
   },
   {
    "duration": 1201,
    "start_time": "2022-02-01T14:58:13.139Z"
   },
   {
    "duration": 157,
    "start_time": "2022-02-01T14:58:14.342Z"
   },
   {
    "duration": 119,
    "start_time": "2022-02-01T14:58:14.501Z"
   },
   {
    "duration": 84,
    "start_time": "2022-02-01T14:58:14.623Z"
   },
   {
    "duration": 29,
    "start_time": "2022-02-01T14:58:14.709Z"
   },
   {
    "duration": 41,
    "start_time": "2022-02-01T14:58:14.740Z"
   },
   {
    "duration": 39,
    "start_time": "2022-02-01T14:58:14.784Z"
   },
   {
    "duration": 39,
    "start_time": "2022-02-01T14:58:14.827Z"
   },
   {
    "duration": 50,
    "start_time": "2022-02-01T14:58:14.869Z"
   },
   {
    "duration": 15,
    "start_time": "2022-02-01T14:58:14.921Z"
   },
   {
    "duration": 36,
    "start_time": "2022-02-01T14:58:14.938Z"
   },
   {
    "duration": 96,
    "start_time": "2022-02-01T14:58:14.977Z"
   },
   {
    "duration": 41,
    "start_time": "2022-02-01T14:58:15.076Z"
   },
   {
    "duration": 39,
    "start_time": "2022-02-01T14:58:15.119Z"
   },
   {
    "duration": 170,
    "start_time": "2022-02-01T14:58:15.160Z"
   },
   {
    "duration": 41,
    "start_time": "2022-02-01T14:58:15.332Z"
   },
   {
    "duration": 1755,
    "start_time": "2022-02-01T14:58:15.375Z"
   },
   {
    "duration": 969,
    "start_time": "2022-02-01T14:58:17.132Z"
   },
   {
    "duration": 346,
    "start_time": "2022-02-01T14:58:18.103Z"
   },
   {
    "duration": 1188,
    "start_time": "2022-02-01T15:12:06.452Z"
   },
   {
    "duration": 159,
    "start_time": "2022-02-01T15:12:07.642Z"
   },
   {
    "duration": 119,
    "start_time": "2022-02-01T15:12:07.803Z"
   },
   {
    "duration": 86,
    "start_time": "2022-02-01T15:12:07.925Z"
   },
   {
    "duration": 28,
    "start_time": "2022-02-01T15:12:08.013Z"
   },
   {
    "duration": 41,
    "start_time": "2022-02-01T15:12:08.043Z"
   },
   {
    "duration": 39,
    "start_time": "2022-02-01T15:12:08.086Z"
   },
   {
    "duration": 38,
    "start_time": "2022-02-01T15:12:08.128Z"
   },
   {
    "duration": 41,
    "start_time": "2022-02-01T15:12:08.169Z"
   },
   {
    "duration": 16,
    "start_time": "2022-02-01T15:12:08.212Z"
   },
   {
    "duration": 36,
    "start_time": "2022-02-01T15:12:08.231Z"
   },
   {
    "duration": 87,
    "start_time": "2022-02-01T15:12:08.269Z"
   },
   {
    "duration": 29,
    "start_time": "2022-02-01T15:12:08.358Z"
   },
   {
    "duration": 38,
    "start_time": "2022-02-01T15:12:08.408Z"
   },
   {
    "duration": 169,
    "start_time": "2022-02-01T15:12:08.448Z"
   },
   {
    "duration": 44,
    "start_time": "2022-02-01T15:12:08.619Z"
   },
   {
    "duration": 1369,
    "start_time": "2022-02-01T15:12:08.665Z"
   },
   {
    "duration": 965,
    "start_time": "2022-02-01T15:12:10.036Z"
   },
   {
    "duration": 354,
    "start_time": "2022-02-01T15:12:11.002Z"
   },
   {
    "duration": 331,
    "start_time": "2022-02-01T15:14:16.401Z"
   },
   {
    "duration": 359,
    "start_time": "2022-02-01T15:15:14.769Z"
   },
   {
    "duration": 473,
    "start_time": "2022-02-01T15:16:02.557Z"
   },
   {
    "duration": 342,
    "start_time": "2022-02-01T15:16:17.199Z"
   },
   {
    "duration": 342,
    "start_time": "2022-02-01T15:19:30.027Z"
   },
   {
    "duration": 464,
    "start_time": "2022-02-01T15:20:08.607Z"
   },
   {
    "duration": 423,
    "start_time": "2022-02-01T15:20:29.402Z"
   },
   {
    "duration": 90,
    "start_time": "2022-02-01T15:21:14.598Z"
   },
   {
    "duration": 347,
    "start_time": "2022-02-01T15:21:22.377Z"
   },
   {
    "duration": 133,
    "start_time": "2022-02-01T15:22:04.156Z"
   },
   {
    "duration": 319,
    "start_time": "2022-02-01T15:22:10.929Z"
   },
   {
    "duration": 363,
    "start_time": "2022-02-01T15:23:45.070Z"
   },
   {
    "duration": 325,
    "start_time": "2022-02-01T15:25:13.429Z"
   },
   {
    "duration": 377,
    "start_time": "2022-02-01T15:25:55.666Z"
   },
   {
    "duration": 405,
    "start_time": "2022-02-01T15:26:55.684Z"
   },
   {
    "duration": 457,
    "start_time": "2022-02-01T15:27:19.056Z"
   },
   {
    "duration": 359,
    "start_time": "2022-02-01T15:28:40.886Z"
   },
   {
    "duration": 701,
    "start_time": "2022-02-01T15:29:06.977Z"
   },
   {
    "duration": 356,
    "start_time": "2022-02-01T15:29:40.154Z"
   },
   {
    "duration": 6,
    "start_time": "2022-02-01T15:34:30.314Z"
   },
   {
    "duration": 7,
    "start_time": "2022-02-01T15:34:41.268Z"
   },
   {
    "duration": 250,
    "start_time": "2022-02-01T15:36:17.182Z"
   },
   {
    "duration": 519,
    "start_time": "2022-02-01T15:36:24.943Z"
   },
   {
    "duration": 233,
    "start_time": "2022-02-01T15:36:42.934Z"
   },
   {
    "duration": 31,
    "start_time": "2022-02-01T15:36:58.720Z"
   },
   {
    "duration": 30,
    "start_time": "2022-02-01T15:37:25.802Z"
   },
   {
    "duration": 8,
    "start_time": "2022-02-01T15:38:16.447Z"
   },
   {
    "duration": 636,
    "start_time": "2022-02-01T15:38:36.851Z"
   },
   {
    "duration": 5,
    "start_time": "2022-02-01T15:38:43.232Z"
   },
   {
    "duration": 6,
    "start_time": "2022-02-01T15:39:29.807Z"
   },
   {
    "duration": 10,
    "start_time": "2022-02-01T15:40:51.659Z"
   },
   {
    "duration": 9,
    "start_time": "2022-02-01T15:41:13.700Z"
   },
   {
    "duration": 9,
    "start_time": "2022-02-01T15:41:15.603Z"
   },
   {
    "duration": 11,
    "start_time": "2022-02-01T15:41:16.656Z"
   },
   {
    "duration": 10,
    "start_time": "2022-02-01T15:41:33.624Z"
   },
   {
    "duration": 596,
    "start_time": "2022-02-01T15:49:44.300Z"
   },
   {
    "duration": 396,
    "start_time": "2022-02-01T15:50:06.302Z"
   },
   {
    "duration": 405,
    "start_time": "2022-02-01T15:50:15.510Z"
   },
   {
    "duration": 385,
    "start_time": "2022-02-01T15:50:33.267Z"
   },
   {
    "duration": 614,
    "start_time": "2022-02-01T15:55:07.009Z"
   },
   {
    "duration": 339,
    "start_time": "2022-02-01T15:55:38.292Z"
   },
   {
    "duration": 322,
    "start_time": "2022-02-01T15:56:16.111Z"
   },
   {
    "duration": 363,
    "start_time": "2022-02-01T15:56:38.760Z"
   },
   {
    "duration": 325,
    "start_time": "2022-02-01T15:57:03.410Z"
   },
   {
    "duration": 773,
    "start_time": "2022-02-01T15:57:57.401Z"
   },
   {
    "duration": 383,
    "start_time": "2022-02-01T15:58:09.871Z"
   },
   {
    "duration": 392,
    "start_time": "2022-02-01T15:58:34.951Z"
   },
   {
    "duration": 376,
    "start_time": "2022-02-01T15:59:05.146Z"
   },
   {
    "duration": 835,
    "start_time": "2022-02-01T16:21:08.538Z"
   },
   {
    "duration": 3,
    "start_time": "2022-02-01T16:21:36.348Z"
   },
   {
    "duration": 344,
    "start_time": "2022-02-01T16:21:43.909Z"
   },
   {
    "duration": 348,
    "start_time": "2022-02-01T16:22:05.385Z"
   },
   {
    "duration": 388,
    "start_time": "2022-02-01T16:22:22.249Z"
   },
   {
    "duration": 1736,
    "start_time": "2022-02-01T16:22:33.213Z"
   },
   {
    "duration": 148,
    "start_time": "2022-02-01T16:22:34.951Z"
   },
   {
    "duration": 121,
    "start_time": "2022-02-01T16:22:35.106Z"
   },
   {
    "duration": 81,
    "start_time": "2022-02-01T16:22:35.230Z"
   },
   {
    "duration": 28,
    "start_time": "2022-02-01T16:22:35.314Z"
   },
   {
    "duration": 41,
    "start_time": "2022-02-01T16:22:35.345Z"
   },
   {
    "duration": 35,
    "start_time": "2022-02-01T16:22:35.388Z"
   },
   {
    "duration": 39,
    "start_time": "2022-02-01T16:22:35.426Z"
   },
   {
    "duration": 45,
    "start_time": "2022-02-01T16:22:35.467Z"
   },
   {
    "duration": 13,
    "start_time": "2022-02-01T16:22:35.514Z"
   },
   {
    "duration": 21,
    "start_time": "2022-02-01T16:22:35.529Z"
   },
   {
    "duration": 97,
    "start_time": "2022-02-01T16:22:35.552Z"
   },
   {
    "duration": 30,
    "start_time": "2022-02-01T16:22:35.651Z"
   },
   {
    "duration": 57,
    "start_time": "2022-02-01T16:22:35.683Z"
   },
   {
    "duration": 112,
    "start_time": "2022-02-01T16:22:35.743Z"
   },
   {
    "duration": 54,
    "start_time": "2022-02-01T16:22:35.857Z"
   },
   {
    "duration": 1410,
    "start_time": "2022-02-01T16:22:35.913Z"
   },
   {
    "duration": 1029,
    "start_time": "2022-02-01T16:22:37.325Z"
   },
   {
    "duration": 376,
    "start_time": "2022-02-01T16:22:38.356Z"
   },
   {
    "duration": 10,
    "start_time": "2022-02-01T16:22:38.734Z"
   },
   {
    "duration": 10,
    "start_time": "2022-02-01T16:22:43.635Z"
   },
   {
    "duration": 349,
    "start_time": "2022-02-01T16:22:49.377Z"
   },
   {
    "duration": 379,
    "start_time": "2022-02-01T16:48:05.576Z"
   },
   {
    "duration": 371,
    "start_time": "2022-02-01T16:48:13.183Z"
   },
   {
    "duration": 364,
    "start_time": "2022-02-01T16:48:24.507Z"
   },
   {
    "duration": 364,
    "start_time": "2022-02-01T16:48:40.946Z"
   },
   {
    "duration": 393,
    "start_time": "2022-02-01T16:49:01.678Z"
   },
   {
    "duration": 506,
    "start_time": "2022-02-01T16:49:18.147Z"
   },
   {
    "duration": 1703,
    "start_time": "2022-02-01T16:49:31.112Z"
   },
   {
    "duration": 167,
    "start_time": "2022-02-01T16:49:32.817Z"
   },
   {
    "duration": 115,
    "start_time": "2022-02-01T16:49:32.987Z"
   },
   {
    "duration": 76,
    "start_time": "2022-02-01T16:49:33.105Z"
   },
   {
    "duration": 28,
    "start_time": "2022-02-01T16:49:33.184Z"
   },
   {
    "duration": 47,
    "start_time": "2022-02-01T16:49:33.214Z"
   },
   {
    "duration": 37,
    "start_time": "2022-02-01T16:49:33.263Z"
   },
   {
    "duration": 39,
    "start_time": "2022-02-01T16:49:33.303Z"
   },
   {
    "duration": 25,
    "start_time": "2022-02-01T16:49:33.345Z"
   },
   {
    "duration": 36,
    "start_time": "2022-02-01T16:49:33.372Z"
   },
   {
    "duration": 18,
    "start_time": "2022-02-01T16:49:33.411Z"
   },
   {
    "duration": 89,
    "start_time": "2022-02-01T16:49:33.431Z"
   },
   {
    "duration": 29,
    "start_time": "2022-02-01T16:49:33.521Z"
   },
   {
    "duration": 36,
    "start_time": "2022-02-01T16:49:33.552Z"
   },
   {
    "duration": 123,
    "start_time": "2022-02-01T16:49:33.590Z"
   },
   {
    "duration": 39,
    "start_time": "2022-02-01T16:49:33.714Z"
   },
   {
    "duration": 1502,
    "start_time": "2022-02-01T16:49:33.756Z"
   },
   {
    "duration": 1041,
    "start_time": "2022-02-01T16:49:35.261Z"
   },
   {
    "duration": 353,
    "start_time": "2022-02-01T16:49:36.308Z"
   },
   {
    "duration": 10,
    "start_time": "2022-02-01T16:49:36.663Z"
   },
   {
    "duration": 393,
    "start_time": "2022-02-01T16:53:53.019Z"
   },
   {
    "duration": 332,
    "start_time": "2022-02-01T16:54:36.210Z"
   },
   {
    "duration": 681,
    "start_time": "2022-02-01T16:55:03.296Z"
   },
   {
    "duration": 359,
    "start_time": "2022-02-01T16:55:23.127Z"
   },
   {
    "duration": 652,
    "start_time": "2022-02-01T16:56:27.314Z"
   },
   {
    "duration": 597,
    "start_time": "2022-02-01T16:56:53.723Z"
   },
   {
    "duration": 711,
    "start_time": "2022-02-01T16:57:20.860Z"
   },
   {
    "duration": 333,
    "start_time": "2022-02-01T17:05:05.524Z"
   },
   {
    "duration": 364,
    "start_time": "2022-02-01T17:05:41.879Z"
   },
   {
    "duration": 453,
    "start_time": "2022-02-01T17:08:29.293Z"
   },
   {
    "duration": 332,
    "start_time": "2022-02-01T17:08:49.103Z"
   },
   {
    "duration": 1693,
    "start_time": "2022-02-01T17:09:00.538Z"
   },
   {
    "duration": 156,
    "start_time": "2022-02-01T17:09:02.233Z"
   },
   {
    "duration": 126,
    "start_time": "2022-02-01T17:09:02.392Z"
   },
   {
    "duration": 84,
    "start_time": "2022-02-01T17:09:02.521Z"
   },
   {
    "duration": 30,
    "start_time": "2022-02-01T17:09:02.607Z"
   },
   {
    "duration": 42,
    "start_time": "2022-02-01T17:09:02.640Z"
   },
   {
    "duration": 38,
    "start_time": "2022-02-01T17:09:02.684Z"
   },
   {
    "duration": 43,
    "start_time": "2022-02-01T17:09:02.725Z"
   },
   {
    "duration": 50,
    "start_time": "2022-02-01T17:09:02.771Z"
   },
   {
    "duration": 16,
    "start_time": "2022-02-01T17:09:02.823Z"
   },
   {
    "duration": 48,
    "start_time": "2022-02-01T17:09:02.841Z"
   },
   {
    "duration": 83,
    "start_time": "2022-02-01T17:09:02.891Z"
   },
   {
    "duration": 33,
    "start_time": "2022-02-01T17:09:02.976Z"
   },
   {
    "duration": 36,
    "start_time": "2022-02-01T17:09:03.011Z"
   },
   {
    "duration": 109,
    "start_time": "2022-02-01T17:09:03.049Z"
   },
   {
    "duration": 48,
    "start_time": "2022-02-01T17:09:03.160Z"
   },
   {
    "duration": 1517,
    "start_time": "2022-02-01T17:09:03.210Z"
   },
   {
    "duration": 1062,
    "start_time": "2022-02-01T17:09:04.729Z"
   },
   {
    "duration": 373,
    "start_time": "2022-02-01T17:09:05.794Z"
   },
   {
    "duration": 13,
    "start_time": "2022-02-01T17:09:06.170Z"
   },
   {
    "duration": 347,
    "start_time": "2022-02-01T17:09:37.246Z"
   },
   {
    "duration": 355,
    "start_time": "2022-02-01T17:09:42.663Z"
   },
   {
    "duration": 333,
    "start_time": "2022-02-01T17:09:55.634Z"
   },
   {
    "duration": 370,
    "start_time": "2022-02-01T17:10:02.264Z"
   },
   {
    "duration": 326,
    "start_time": "2022-02-01T17:10:07.099Z"
   },
   {
    "duration": 373,
    "start_time": "2022-02-01T17:10:17.256Z"
   },
   {
    "duration": 337,
    "start_time": "2022-02-01T17:15:08.905Z"
   },
   {
    "duration": 459,
    "start_time": "2022-02-01T17:23:24.613Z"
   },
   {
    "duration": 511,
    "start_time": "2022-02-01T17:23:31.925Z"
   },
   {
    "duration": 333,
    "start_time": "2022-02-01T17:23:41.504Z"
   },
   {
    "duration": 348,
    "start_time": "2022-02-01T17:23:44.989Z"
   },
   {
    "duration": 370,
    "start_time": "2022-02-01T17:23:48.549Z"
   },
   {
    "duration": 372,
    "start_time": "2022-02-01T17:23:53.518Z"
   },
   {
    "duration": 351,
    "start_time": "2022-02-01T17:28:45.739Z"
   },
   {
    "duration": 329,
    "start_time": "2022-02-01T17:30:43.504Z"
   },
   {
    "duration": 345,
    "start_time": "2022-02-01T17:41:11.829Z"
   },
   {
    "duration": 348,
    "start_time": "2022-02-01T17:41:20.032Z"
   },
   {
    "duration": 366,
    "start_time": "2022-02-01T17:41:25.242Z"
   },
   {
    "duration": 343,
    "start_time": "2022-02-01T17:41:29.905Z"
   },
   {
    "duration": 454,
    "start_time": "2022-02-01T17:41:48.392Z"
   },
   {
    "duration": 351,
    "start_time": "2022-02-01T17:41:52.410Z"
   },
   {
    "duration": 359,
    "start_time": "2022-02-01T17:42:06.197Z"
   },
   {
    "duration": 391,
    "start_time": "2022-02-01T17:42:10.721Z"
   },
   {
    "duration": 336,
    "start_time": "2022-02-01T17:44:29.599Z"
   },
   {
    "duration": 328,
    "start_time": "2022-02-01T17:44:39.217Z"
   },
   {
    "duration": 377,
    "start_time": "2022-02-01T17:44:50.039Z"
   },
   {
    "duration": 333,
    "start_time": "2022-02-01T17:45:00.313Z"
   },
   {
    "duration": 346,
    "start_time": "2022-02-01T17:45:10.999Z"
   },
   {
    "duration": 378,
    "start_time": "2022-02-01T17:45:17.553Z"
   },
   {
    "duration": 353,
    "start_time": "2022-02-01T17:49:26.266Z"
   },
   {
    "duration": 462,
    "start_time": "2022-02-01T17:49:43.420Z"
   },
   {
    "duration": 1050,
    "start_time": "2022-02-01T21:18:57.745Z"
   },
   {
    "duration": 707,
    "start_time": "2022-02-01T21:18:58.797Z"
   },
   {
    "duration": 244,
    "start_time": "2022-02-01T21:18:59.506Z"
   },
   {
    "duration": 149,
    "start_time": "2022-02-01T21:18:59.752Z"
   },
   {
    "duration": 46,
    "start_time": "2022-02-01T21:18:59.903Z"
   },
   {
    "duration": 59,
    "start_time": "2022-02-01T21:18:59.951Z"
   },
   {
    "duration": 33,
    "start_time": "2022-02-01T21:19:00.012Z"
   },
   {
    "duration": 32,
    "start_time": "2022-02-01T21:19:00.048Z"
   },
   {
    "duration": 20,
    "start_time": "2022-02-01T21:19:00.082Z"
   },
   {
    "duration": 11,
    "start_time": "2022-02-01T21:19:00.104Z"
   },
   {
    "duration": 30,
    "start_time": "2022-02-01T21:19:00.117Z"
   },
   {
    "duration": 68,
    "start_time": "2022-02-01T21:19:00.159Z"
   },
   {
    "duration": 45,
    "start_time": "2022-02-01T21:19:00.229Z"
   },
   {
    "duration": 31,
    "start_time": "2022-02-01T21:19:00.276Z"
   },
   {
    "duration": 126,
    "start_time": "2022-02-01T21:19:00.309Z"
   },
   {
    "duration": 57,
    "start_time": "2022-02-01T21:19:00.437Z"
   },
   {
    "duration": 435,
    "start_time": "2022-02-01T21:19:00.495Z"
   },
   {
    "duration": 0,
    "start_time": "2022-02-01T21:19:00.932Z"
   },
   {
    "duration": -13,
    "start_time": "2022-02-01T21:19:00.947Z"
   },
   {
    "duration": -19,
    "start_time": "2022-02-01T21:19:00.953Z"
   },
   {
    "duration": 347,
    "start_time": "2022-02-01T21:19:12.354Z"
   },
   {
    "duration": 993,
    "start_time": "2022-02-01T21:19:39.068Z"
   },
   {
    "duration": 135,
    "start_time": "2022-02-01T21:19:40.063Z"
   },
   {
    "duration": 111,
    "start_time": "2022-02-01T21:19:40.200Z"
   },
   {
    "duration": 82,
    "start_time": "2022-02-01T21:19:40.313Z"
   },
   {
    "duration": 23,
    "start_time": "2022-02-01T21:19:40.397Z"
   },
   {
    "duration": 36,
    "start_time": "2022-02-01T21:19:40.422Z"
   },
   {
    "duration": 32,
    "start_time": "2022-02-01T21:19:40.460Z"
   },
   {
    "duration": 34,
    "start_time": "2022-02-01T21:19:40.495Z"
   },
   {
    "duration": 45,
    "start_time": "2022-02-01T21:19:40.531Z"
   },
   {
    "duration": 11,
    "start_time": "2022-02-01T21:19:40.578Z"
   },
   {
    "duration": 17,
    "start_time": "2022-02-01T21:19:40.591Z"
   },
   {
    "duration": 94,
    "start_time": "2022-02-01T21:19:40.610Z"
   },
   {
    "duration": 28,
    "start_time": "2022-02-01T21:19:40.705Z"
   },
   {
    "duration": 46,
    "start_time": "2022-02-01T21:19:40.735Z"
   },
   {
    "duration": 117,
    "start_time": "2022-02-01T21:19:40.782Z"
   },
   {
    "duration": 60,
    "start_time": "2022-02-01T21:19:40.900Z"
   },
   {
    "duration": 434,
    "start_time": "2022-02-01T21:19:40.961Z"
   },
   {
    "duration": 48,
    "start_time": "2022-02-01T21:19:41.349Z"
   },
   {
    "duration": 45,
    "start_time": "2022-02-01T21:19:41.353Z"
   },
   {
    "duration": 44,
    "start_time": "2022-02-01T21:19:41.355Z"
   },
   {
    "duration": 1190,
    "start_time": "2022-02-02T06:29:08.911Z"
   },
   {
    "duration": 138,
    "start_time": "2022-02-02T06:29:10.103Z"
   },
   {
    "duration": 115,
    "start_time": "2022-02-02T06:29:10.244Z"
   },
   {
    "duration": 72,
    "start_time": "2022-02-02T06:29:10.362Z"
   },
   {
    "duration": 26,
    "start_time": "2022-02-02T06:29:10.436Z"
   },
   {
    "duration": 41,
    "start_time": "2022-02-02T06:29:10.464Z"
   },
   {
    "duration": 31,
    "start_time": "2022-02-02T06:29:10.507Z"
   },
   {
    "duration": 32,
    "start_time": "2022-02-02T06:29:10.541Z"
   },
   {
    "duration": 19,
    "start_time": "2022-02-02T06:29:10.575Z"
   },
   {
    "duration": 29,
    "start_time": "2022-02-02T06:29:10.596Z"
   },
   {
    "duration": 23,
    "start_time": "2022-02-02T06:29:10.627Z"
   },
   {
    "duration": 79,
    "start_time": "2022-02-02T06:29:10.652Z"
   },
   {
    "duration": 30,
    "start_time": "2022-02-02T06:29:10.733Z"
   },
   {
    "duration": 33,
    "start_time": "2022-02-02T06:29:10.765Z"
   },
   {
    "duration": 123,
    "start_time": "2022-02-02T06:29:10.818Z"
   },
   {
    "duration": 44,
    "start_time": "2022-02-02T06:29:10.943Z"
   },
   {
    "duration": 694,
    "start_time": "2022-02-02T06:29:10.989Z"
   },
   {
    "duration": -138,
    "start_time": "2022-02-02T06:29:11.822Z"
   },
   {
    "duration": -161,
    "start_time": "2022-02-02T06:29:11.846Z"
   },
   {
    "duration": -169,
    "start_time": "2022-02-02T06:29:11.855Z"
   },
   {
    "duration": 619,
    "start_time": "2022-02-02T06:30:06.723Z"
   },
   {
    "duration": 783,
    "start_time": "2022-02-02T06:31:43.399Z"
   },
   {
    "duration": 704,
    "start_time": "2022-02-02T06:32:26.603Z"
   },
   {
    "duration": 528,
    "start_time": "2022-02-02T06:32:32.712Z"
   },
   {
    "duration": 1145,
    "start_time": "2022-02-02T06:33:23.992Z"
   },
   {
    "duration": 713,
    "start_time": "2022-02-02T06:33:42.594Z"
   },
   {
    "duration": 595,
    "start_time": "2022-02-02T06:34:10.154Z"
   },
   {
    "duration": 294,
    "start_time": "2022-02-02T06:34:45.044Z"
   },
   {
    "duration": 255,
    "start_time": "2022-02-02T06:34:58.637Z"
   },
   {
    "duration": 247,
    "start_time": "2022-02-02T06:38:50.884Z"
   },
   {
    "duration": 237,
    "start_time": "2022-02-02T06:38:59.351Z"
   },
   {
    "duration": 244,
    "start_time": "2022-02-02T06:51:03.392Z"
   },
   {
    "duration": 334,
    "start_time": "2022-02-02T06:51:13.725Z"
   },
   {
    "duration": 253,
    "start_time": "2022-02-02T06:51:21.681Z"
   },
   {
    "duration": 260,
    "start_time": "2022-02-02T06:53:32.945Z"
   },
   {
    "duration": 242,
    "start_time": "2022-02-02T06:55:57.599Z"
   },
   {
    "duration": 582,
    "start_time": "2022-02-02T06:56:45.321Z"
   },
   {
    "duration": 585,
    "start_time": "2022-02-02T06:57:21.733Z"
   },
   {
    "duration": 904,
    "start_time": "2022-02-02T06:57:48.430Z"
   },
   {
    "duration": 565,
    "start_time": "2022-02-02T06:57:59.542Z"
   },
   {
    "duration": 591,
    "start_time": "2022-02-02T07:00:31.095Z"
   },
   {
    "duration": 85,
    "start_time": "2022-02-02T07:04:19.474Z"
   },
   {
    "duration": 537,
    "start_time": "2022-02-02T07:04:25.154Z"
   },
   {
    "duration": 556,
    "start_time": "2022-02-02T07:04:49.087Z"
   },
   {
    "duration": 1075,
    "start_time": "2022-02-02T07:09:03.684Z"
   },
   {
    "duration": 888,
    "start_time": "2022-02-02T07:10:19.271Z"
   },
   {
    "duration": 10,
    "start_time": "2022-02-02T08:14:02.889Z"
   },
   {
    "duration": 27,
    "start_time": "2022-02-02T08:15:12.930Z"
   },
   {
    "duration": 17,
    "start_time": "2022-02-02T08:17:09.063Z"
   },
   {
    "duration": 19,
    "start_time": "2022-02-02T08:18:18.761Z"
   },
   {
    "duration": 24,
    "start_time": "2022-02-02T08:18:34.302Z"
   },
   {
    "duration": 19,
    "start_time": "2022-02-02T08:18:46.406Z"
   },
   {
    "duration": 20,
    "start_time": "2022-02-02T08:19:07.250Z"
   },
   {
    "duration": 19,
    "start_time": "2022-02-02T08:19:18.600Z"
   },
   {
    "duration": 25,
    "start_time": "2022-02-02T08:19:25.815Z"
   },
   {
    "duration": 18,
    "start_time": "2022-02-02T08:19:39.148Z"
   },
   {
    "duration": 662,
    "start_time": "2022-02-02T08:20:37.048Z"
   },
   {
    "duration": 657,
    "start_time": "2022-02-02T08:20:46.447Z"
   },
   {
    "duration": 710,
    "start_time": "2022-02-02T08:22:04.597Z"
   },
   {
    "duration": 705,
    "start_time": "2022-02-02T08:22:12.872Z"
   },
   {
    "duration": 732,
    "start_time": "2022-02-02T08:22:18.037Z"
   },
   {
    "duration": 628,
    "start_time": "2022-02-02T08:22:37.275Z"
   },
   {
    "duration": 17,
    "start_time": "2022-02-02T08:25:21.785Z"
   },
   {
    "duration": 20,
    "start_time": "2022-02-02T08:25:25.259Z"
   },
   {
    "duration": 23,
    "start_time": "2022-02-02T08:25:26.008Z"
   },
   {
    "duration": 22,
    "start_time": "2022-02-02T08:25:26.574Z"
   },
   {
    "duration": 18,
    "start_time": "2022-02-02T08:25:27.058Z"
   },
   {
    "duration": 20,
    "start_time": "2022-02-02T08:25:27.994Z"
   },
   {
    "duration": 17,
    "start_time": "2022-02-02T08:25:28.441Z"
   },
   {
    "duration": 25,
    "start_time": "2022-02-02T08:25:28.916Z"
   },
   {
    "duration": 18,
    "start_time": "2022-02-02T08:25:29.409Z"
   },
   {
    "duration": 24,
    "start_time": "2022-02-02T08:25:30.016Z"
   },
   {
    "duration": 19,
    "start_time": "2022-02-02T08:25:30.654Z"
   },
   {
    "duration": 19,
    "start_time": "2022-02-02T08:25:31.271Z"
   },
   {
    "duration": 17,
    "start_time": "2022-02-02T08:25:31.871Z"
   },
   {
    "duration": 18,
    "start_time": "2022-02-02T08:25:32.439Z"
   },
   {
    "duration": 18,
    "start_time": "2022-02-02T08:25:33.136Z"
   },
   {
    "duration": 22,
    "start_time": "2022-02-02T08:25:33.702Z"
   },
   {
    "duration": 17,
    "start_time": "2022-02-02T08:25:34.357Z"
   },
   {
    "duration": 18,
    "start_time": "2022-02-02T08:25:34.991Z"
   },
   {
    "duration": 16,
    "start_time": "2022-02-02T08:25:35.552Z"
   },
   {
    "duration": 19,
    "start_time": "2022-02-02T08:25:36.130Z"
   },
   {
    "duration": 17,
    "start_time": "2022-02-02T08:25:36.694Z"
   },
   {
    "duration": 17,
    "start_time": "2022-02-02T08:25:37.282Z"
   },
   {
    "duration": 22,
    "start_time": "2022-02-02T08:27:05.087Z"
   },
   {
    "duration": 23,
    "start_time": "2022-02-02T08:27:27.690Z"
   },
   {
    "duration": 18,
    "start_time": "2022-02-02T08:27:36.795Z"
   },
   {
    "duration": 28,
    "start_time": "2022-02-02T08:27:41.221Z"
   },
   {
    "duration": 24,
    "start_time": "2022-02-02T08:27:44.624Z"
   },
   {
    "duration": 20,
    "start_time": "2022-02-02T08:27:51.116Z"
   },
   {
    "duration": 18,
    "start_time": "2022-02-02T08:27:51.698Z"
   },
   {
    "duration": 21,
    "start_time": "2022-02-02T08:35:34.077Z"
   },
   {
    "duration": 18,
    "start_time": "2022-02-02T08:35:34.796Z"
   },
   {
    "duration": 19,
    "start_time": "2022-02-02T08:35:35.271Z"
   },
   {
    "duration": 22,
    "start_time": "2022-02-02T08:35:35.715Z"
   },
   {
    "duration": 18,
    "start_time": "2022-02-02T08:35:36.148Z"
   },
   {
    "duration": 19,
    "start_time": "2022-02-02T08:35:38.794Z"
   },
   {
    "duration": 21,
    "start_time": "2022-02-02T08:35:39.447Z"
   },
   {
    "duration": 21,
    "start_time": "2022-02-02T08:35:41.209Z"
   },
   {
    "duration": 17,
    "start_time": "2022-02-02T08:35:43.061Z"
   },
   {
    "duration": 16,
    "start_time": "2022-02-02T08:35:44.401Z"
   },
   {
    "duration": 20,
    "start_time": "2022-02-02T08:35:45.124Z"
   },
   {
    "duration": 19,
    "start_time": "2022-02-02T08:35:45.711Z"
   },
   {
    "duration": 17,
    "start_time": "2022-02-02T08:35:46.337Z"
   },
   {
    "duration": 24,
    "start_time": "2022-02-02T08:35:46.875Z"
   },
   {
    "duration": 23,
    "start_time": "2022-02-02T08:35:47.353Z"
   },
   {
    "duration": 20,
    "start_time": "2022-02-02T08:35:47.866Z"
   },
   {
    "duration": 17,
    "start_time": "2022-02-02T08:35:48.276Z"
   },
   {
    "duration": 20,
    "start_time": "2022-02-02T08:35:48.725Z"
   },
   {
    "duration": 39,
    "start_time": "2022-02-02T08:35:50.119Z"
   },
   {
    "duration": 19,
    "start_time": "2022-02-02T08:35:51.342Z"
   },
   {
    "duration": 23,
    "start_time": "2022-02-02T08:35:51.904Z"
   },
   {
    "duration": 25,
    "start_time": "2022-02-02T08:35:52.560Z"
   },
   {
    "duration": 18,
    "start_time": "2022-02-02T08:35:53.142Z"
   },
   {
    "duration": 18,
    "start_time": "2022-02-02T08:35:53.690Z"
   },
   {
    "duration": 18,
    "start_time": "2022-02-02T08:35:54.228Z"
   },
   {
    "duration": 15,
    "start_time": "2022-02-02T08:35:54.786Z"
   },
   {
    "duration": 19,
    "start_time": "2022-02-02T08:35:55.293Z"
   },
   {
    "duration": 18,
    "start_time": "2022-02-02T08:35:55.781Z"
   },
   {
    "duration": 25,
    "start_time": "2022-02-02T08:35:56.272Z"
   },
   {
    "duration": 20,
    "start_time": "2022-02-02T08:35:56.765Z"
   },
   {
    "duration": 23,
    "start_time": "2022-02-02T08:35:57.238Z"
   },
   {
    "duration": 21,
    "start_time": "2022-02-02T08:35:57.738Z"
   },
   {
    "duration": 22,
    "start_time": "2022-02-02T08:35:58.194Z"
   },
   {
    "duration": 19,
    "start_time": "2022-02-02T08:35:58.673Z"
   },
   {
    "duration": 17,
    "start_time": "2022-02-02T08:35:59.141Z"
   },
   {
    "duration": 20,
    "start_time": "2022-02-02T08:35:59.607Z"
   },
   {
    "duration": 24,
    "start_time": "2022-02-02T08:36:00.347Z"
   },
   {
    "duration": 18,
    "start_time": "2022-02-02T08:36:01.029Z"
   },
   {
    "duration": 17,
    "start_time": "2022-02-02T08:36:01.840Z"
   },
   {
    "duration": 25,
    "start_time": "2022-02-02T08:36:02.571Z"
   },
   {
    "duration": 23,
    "start_time": "2022-02-02T08:36:03.352Z"
   },
   {
    "duration": 20,
    "start_time": "2022-02-02T08:36:03.961Z"
   },
   {
    "duration": 26,
    "start_time": "2022-02-02T08:36:04.506Z"
   },
   {
    "duration": 19,
    "start_time": "2022-02-02T08:36:05.165Z"
   },
   {
    "duration": 20,
    "start_time": "2022-02-02T08:36:05.668Z"
   },
   {
    "duration": 17,
    "start_time": "2022-02-02T08:36:06.154Z"
   },
   {
    "duration": 23,
    "start_time": "2022-02-02T08:36:06.958Z"
   },
   {
    "duration": 21,
    "start_time": "2022-02-02T08:36:08.393Z"
   },
   {
    "duration": 17,
    "start_time": "2022-02-02T08:36:09.901Z"
   },
   {
    "duration": 23,
    "start_time": "2022-02-02T08:36:11.483Z"
   },
   {
    "duration": 19,
    "start_time": "2022-02-02T08:36:12.565Z"
   },
   {
    "duration": 19,
    "start_time": "2022-02-02T08:36:13.512Z"
   },
   {
    "duration": 18,
    "start_time": "2022-02-02T08:36:14.648Z"
   },
   {
    "duration": 19,
    "start_time": "2022-02-02T08:36:15.452Z"
   },
   {
    "duration": 22,
    "start_time": "2022-02-02T08:36:16.461Z"
   },
   {
    "duration": 18,
    "start_time": "2022-02-02T08:36:17.149Z"
   },
   {
    "duration": 24,
    "start_time": "2022-02-02T08:36:17.832Z"
   },
   {
    "duration": 17,
    "start_time": "2022-02-02T08:36:18.442Z"
   },
   {
    "duration": 24,
    "start_time": "2022-02-02T08:36:19.040Z"
   },
   {
    "duration": 19,
    "start_time": "2022-02-02T08:36:20.026Z"
   },
   {
    "duration": 23,
    "start_time": "2022-02-02T08:36:21.575Z"
   },
   {
    "duration": 18,
    "start_time": "2022-02-02T08:38:45.099Z"
   },
   {
    "duration": 17,
    "start_time": "2022-02-02T08:38:47.762Z"
   },
   {
    "duration": 17,
    "start_time": "2022-02-02T08:38:48.868Z"
   },
   {
    "duration": 825,
    "start_time": "2022-02-02T08:38:56.325Z"
   },
   {
    "duration": 648,
    "start_time": "2022-02-02T08:39:25.598Z"
   },
   {
    "duration": 843,
    "start_time": "2022-02-02T08:39:31.609Z"
   },
   {
    "duration": 348,
    "start_time": "2022-02-02T08:41:25.249Z"
   },
   {
    "duration": 332,
    "start_time": "2022-02-02T08:41:32.214Z"
   },
   {
    "duration": 339,
    "start_time": "2022-02-02T08:41:43.911Z"
   },
   {
    "duration": 308,
    "start_time": "2022-02-02T08:41:50.064Z"
   },
   {
    "duration": 309,
    "start_time": "2022-02-02T08:50:52.463Z"
   },
   {
    "duration": 327,
    "start_time": "2022-02-02T08:51:00.742Z"
   },
   {
    "duration": 17,
    "start_time": "2022-02-02T08:55:36.955Z"
   },
   {
    "duration": 231,
    "start_time": "2022-02-02T09:40:12.597Z"
   },
   {
    "duration": 1345,
    "start_time": "2022-02-02T19:33:25.032Z"
   },
   {
    "duration": 168,
    "start_time": "2022-02-02T19:33:26.380Z"
   },
   {
    "duration": 186,
    "start_time": "2022-02-02T19:33:26.552Z"
   },
   {
    "duration": 97,
    "start_time": "2022-02-02T19:33:26.741Z"
   },
   {
    "duration": 27,
    "start_time": "2022-02-02T19:33:26.841Z"
   },
   {
    "duration": 54,
    "start_time": "2022-02-02T19:33:26.872Z"
   },
   {
    "duration": 65,
    "start_time": "2022-02-02T19:33:26.929Z"
   },
   {
    "duration": 84,
    "start_time": "2022-02-02T19:33:26.997Z"
   },
   {
    "duration": 47,
    "start_time": "2022-02-02T19:33:27.084Z"
   },
   {
    "duration": 15,
    "start_time": "2022-02-02T19:33:27.134Z"
   },
   {
    "duration": 279,
    "start_time": "2022-02-02T19:33:27.151Z"
   },
   {
    "duration": 100,
    "start_time": "2022-02-02T19:33:27.432Z"
   },
   {
    "duration": 39,
    "start_time": "2022-02-02T19:33:27.534Z"
   },
   {
    "duration": 61,
    "start_time": "2022-02-02T19:33:27.576Z"
   },
   {
    "duration": 199,
    "start_time": "2022-02-02T19:33:27.640Z"
   },
   {
    "duration": 110,
    "start_time": "2022-02-02T19:33:27.842Z"
   },
   {
    "duration": 1624,
    "start_time": "2022-02-02T19:33:27.955Z"
   },
   {
    "duration": 1609,
    "start_time": "2022-02-02T19:33:29.581Z"
   },
   {
    "duration": 596,
    "start_time": "2022-02-02T19:33:31.193Z"
   },
   {
    "duration": 43,
    "start_time": "2022-02-02T19:33:31.792Z"
   },
   {
    "duration": 4113,
    "start_time": "2022-02-02T19:38:21.707Z"
   },
   {
    "duration": 38,
    "start_time": "2022-02-02T19:38:28.707Z"
   },
   {
    "duration": 42,
    "start_time": "2022-02-02T19:38:34.540Z"
   },
   {
    "duration": 42,
    "start_time": "2022-02-02T19:40:34.123Z"
   },
   {
    "duration": 24,
    "start_time": "2022-02-02T19:40:41.658Z"
   },
   {
    "duration": 346,
    "start_time": "2022-02-03T10:53:42.377Z"
   },
   {
    "duration": 1500,
    "start_time": "2022-02-03T10:53:53.115Z"
   },
   {
    "duration": 194,
    "start_time": "2022-02-03T10:53:54.622Z"
   },
   {
    "duration": 178,
    "start_time": "2022-02-03T10:53:54.824Z"
   },
   {
    "duration": 118,
    "start_time": "2022-02-03T10:53:55.006Z"
   },
   {
    "duration": 40,
    "start_time": "2022-02-03T10:53:55.127Z"
   },
   {
    "duration": 70,
    "start_time": "2022-02-03T10:53:55.170Z"
   },
   {
    "duration": 68,
    "start_time": "2022-02-03T10:53:55.242Z"
   },
   {
    "duration": 70,
    "start_time": "2022-02-03T10:53:55.333Z"
   },
   {
    "duration": 58,
    "start_time": "2022-02-03T10:53:55.407Z"
   },
   {
    "duration": 23,
    "start_time": "2022-02-03T10:53:55.469Z"
   },
   {
    "duration": 402,
    "start_time": "2022-02-03T10:53:55.496Z"
   },
   {
    "duration": 108,
    "start_time": "2022-02-03T10:53:55.901Z"
   },
   {
    "duration": 64,
    "start_time": "2022-02-03T10:53:56.012Z"
   },
   {
    "duration": 63,
    "start_time": "2022-02-03T10:53:56.079Z"
   },
   {
    "duration": 219,
    "start_time": "2022-02-03T10:53:56.144Z"
   },
   {
    "duration": 108,
    "start_time": "2022-02-03T10:53:56.366Z"
   },
   {
    "duration": 1344,
    "start_time": "2022-02-03T10:53:56.478Z"
   },
   {
    "duration": 1291,
    "start_time": "2022-02-03T10:53:57.825Z"
   },
   {
    "duration": 462,
    "start_time": "2022-02-03T10:53:59.118Z"
   },
   {
    "duration": 50,
    "start_time": "2022-02-03T10:53:59.583Z"
   },
   {
    "duration": 231,
    "start_time": "2022-02-03T10:55:02.147Z"
   },
   {
    "duration": 299,
    "start_time": "2022-02-03T10:55:08.194Z"
   },
   {
    "duration": 233,
    "start_time": "2022-02-03T10:56:13.000Z"
   },
   {
    "duration": 221,
    "start_time": "2022-02-03T10:56:25.177Z"
   },
   {
    "duration": 663,
    "start_time": "2022-02-03T10:57:22.668Z"
   },
   {
    "duration": 254,
    "start_time": "2022-02-03T10:57:28.324Z"
   },
   {
    "duration": 505,
    "start_time": "2022-02-03T11:03:14.478Z"
   },
   {
    "duration": 277,
    "start_time": "2022-02-03T11:03:28.388Z"
   },
   {
    "duration": 239,
    "start_time": "2022-02-03T11:03:35.558Z"
   },
   {
    "duration": 496,
    "start_time": "2022-02-03T11:03:43.872Z"
   },
   {
    "duration": 964,
    "start_time": "2022-02-03T11:08:56.799Z"
   },
   {
    "duration": 502,
    "start_time": "2022-02-03T11:09:07.741Z"
   },
   {
    "duration": 786,
    "start_time": "2022-02-03T11:09:19.749Z"
   },
   {
    "duration": 828,
    "start_time": "2022-02-03T11:09:57.244Z"
   },
   {
    "duration": 830,
    "start_time": "2022-02-03T11:15:47.319Z"
   },
   {
    "duration": 856,
    "start_time": "2022-02-03T11:15:57.080Z"
   },
   {
    "duration": 771,
    "start_time": "2022-02-03T11:16:08.246Z"
   },
   {
    "duration": 526,
    "start_time": "2022-02-03T11:16:23.629Z"
   },
   {
    "duration": 1185,
    "start_time": "2022-02-03T11:24:04.082Z"
   },
   {
    "duration": 678,
    "start_time": "2022-02-03T11:24:39.316Z"
   },
   {
    "duration": 569,
    "start_time": "2022-02-03T12:02:49.283Z"
   },
   {
    "duration": 97,
    "start_time": "2022-02-03T12:02:59.770Z"
   },
   {
    "duration": 944,
    "start_time": "2022-02-03T12:03:37.232Z"
   },
   {
    "duration": 803,
    "start_time": "2022-02-03T12:03:57.213Z"
   },
   {
    "duration": 1300,
    "start_time": "2022-02-03T12:08:11.049Z"
   },
   {
    "duration": 163,
    "start_time": "2022-02-03T12:08:12.352Z"
   },
   {
    "duration": 133,
    "start_time": "2022-02-03T12:08:12.523Z"
   },
   {
    "duration": 86,
    "start_time": "2022-02-03T12:08:12.659Z"
   },
   {
    "duration": 26,
    "start_time": "2022-02-03T12:08:12.748Z"
   },
   {
    "duration": 49,
    "start_time": "2022-02-03T12:08:12.776Z"
   },
   {
    "duration": 43,
    "start_time": "2022-02-03T12:08:12.827Z"
   },
   {
    "duration": 57,
    "start_time": "2022-02-03T12:08:12.874Z"
   },
   {
    "duration": 26,
    "start_time": "2022-02-03T12:08:12.934Z"
   },
   {
    "duration": 15,
    "start_time": "2022-02-03T12:08:12.962Z"
   },
   {
    "duration": 588,
    "start_time": "2022-02-03T12:08:12.980Z"
   },
   {
    "duration": 97,
    "start_time": "2022-02-03T12:08:13.571Z"
   },
   {
    "duration": 37,
    "start_time": "2022-02-03T12:08:13.670Z"
   },
   {
    "duration": 54,
    "start_time": "2022-02-03T12:08:13.709Z"
   },
   {
    "duration": 200,
    "start_time": "2022-02-03T12:08:13.766Z"
   },
   {
    "duration": 78,
    "start_time": "2022-02-03T12:08:13.968Z"
   },
   {
    "duration": 1123,
    "start_time": "2022-02-03T12:08:14.048Z"
   },
   {
    "duration": 1127,
    "start_time": "2022-02-03T12:08:15.174Z"
   },
   {
    "duration": 431,
    "start_time": "2022-02-03T12:08:16.304Z"
   },
   {
    "duration": 26,
    "start_time": "2022-02-03T12:08:16.738Z"
   },
   {
    "duration": 600,
    "start_time": "2022-02-03T12:08:45.980Z"
   },
   {
    "duration": 527,
    "start_time": "2022-02-03T12:09:23.524Z"
   },
   {
    "duration": 426,
    "start_time": "2022-02-03T12:20:37.578Z"
   },
   {
    "duration": 86,
    "start_time": "2022-02-03T12:24:20.879Z"
   },
   {
    "duration": 537,
    "start_time": "2022-02-03T12:33:31.050Z"
   },
   {
    "duration": 673,
    "start_time": "2022-02-03T12:35:02.852Z"
   },
   {
    "duration": 503,
    "start_time": "2022-02-03T12:35:17.337Z"
   },
   {
    "duration": 541,
    "start_time": "2022-02-03T12:37:17.537Z"
   },
   {
    "duration": 576,
    "start_time": "2022-02-03T12:37:35.078Z"
   },
   {
    "duration": 706,
    "start_time": "2022-02-03T12:37:53.111Z"
   },
   {
    "duration": 542,
    "start_time": "2022-02-03T12:39:38.438Z"
   },
   {
    "duration": 34,
    "start_time": "2022-02-03T12:51:36.040Z"
   },
   {
    "duration": 178,
    "start_time": "2022-02-03T12:57:10.835Z"
   },
   {
    "duration": 186,
    "start_time": "2022-02-03T12:57:37.384Z"
   },
   {
    "duration": 207,
    "start_time": "2022-02-03T12:57:46.565Z"
   },
   {
    "duration": 131,
    "start_time": "2022-02-03T12:59:06.903Z"
   },
   {
    "duration": 139,
    "start_time": "2022-02-03T13:00:35.688Z"
   },
   {
    "duration": 142,
    "start_time": "2022-02-03T13:00:56.208Z"
   },
   {
    "duration": 132,
    "start_time": "2022-02-03T13:01:20.727Z"
   },
   {
    "duration": 127,
    "start_time": "2022-02-03T13:01:37.926Z"
   },
   {
    "duration": 123,
    "start_time": "2022-02-03T13:01:53.923Z"
   },
   {
    "duration": 70,
    "start_time": "2022-02-03T13:06:04.984Z"
   },
   {
    "duration": 209,
    "start_time": "2022-02-03T13:06:27.180Z"
   },
   {
    "duration": 90,
    "start_time": "2022-02-03T13:09:55.455Z"
   },
   {
    "duration": 40,
    "start_time": "2022-02-03T13:10:17.663Z"
   },
   {
    "duration": 66,
    "start_time": "2022-02-03T13:10:41.948Z"
   },
   {
    "duration": 214,
    "start_time": "2022-02-03T13:10:47.781Z"
   },
   {
    "duration": 37,
    "start_time": "2022-02-03T13:25:37.585Z"
   },
   {
    "duration": 46,
    "start_time": "2022-02-03T13:29:51.717Z"
   },
   {
    "duration": 1253,
    "start_time": "2022-02-03T13:39:39.028Z"
   },
   {
    "duration": 1318,
    "start_time": "2022-02-03T13:40:18.681Z"
   },
   {
    "duration": 1362,
    "start_time": "2022-02-03T13:40:42.892Z"
   },
   {
    "duration": 1365,
    "start_time": "2022-02-03T14:07:18.503Z"
   },
   {
    "duration": 164,
    "start_time": "2022-02-03T14:07:19.871Z"
   },
   {
    "duration": 145,
    "start_time": "2022-02-03T14:07:20.038Z"
   },
   {
    "duration": 89,
    "start_time": "2022-02-03T14:07:20.187Z"
   },
   {
    "duration": 26,
    "start_time": "2022-02-03T14:07:20.279Z"
   },
   {
    "duration": 58,
    "start_time": "2022-02-03T14:07:20.308Z"
   },
   {
    "duration": 41,
    "start_time": "2022-02-03T14:07:20.368Z"
   },
   {
    "duration": 30,
    "start_time": "2022-02-03T14:07:20.414Z"
   },
   {
    "duration": 27,
    "start_time": "2022-02-03T14:07:20.447Z"
   },
   {
    "duration": 16,
    "start_time": "2022-02-03T14:07:20.476Z"
   },
   {
    "duration": 591,
    "start_time": "2022-02-03T14:07:20.494Z"
   },
   {
    "duration": 108,
    "start_time": "2022-02-03T14:07:21.088Z"
   },
   {
    "duration": 54,
    "start_time": "2022-02-03T14:07:21.199Z"
   },
   {
    "duration": 2218,
    "start_time": "2022-02-03T14:07:21.255Z"
   },
   {
    "duration": 237,
    "start_time": "2022-02-03T14:07:23.475Z"
   },
   {
    "duration": 69,
    "start_time": "2022-02-03T14:07:23.722Z"
   },
   {
    "duration": 1226,
    "start_time": "2022-02-03T14:07:23.793Z"
   },
   {
    "duration": 1481,
    "start_time": "2022-02-03T14:07:25.024Z"
   },
   {
    "duration": 556,
    "start_time": "2022-02-03T14:07:26.508Z"
   },
   {
    "duration": 25,
    "start_time": "2022-02-03T14:07:27.067Z"
   },
   {
    "duration": 1305,
    "start_time": "2022-02-03T15:03:52.562Z"
   },
   {
    "duration": 160,
    "start_time": "2022-02-03T15:03:53.869Z"
   },
   {
    "duration": 143,
    "start_time": "2022-02-03T15:03:54.032Z"
   },
   {
    "duration": 95,
    "start_time": "2022-02-03T15:03:54.179Z"
   },
   {
    "duration": 26,
    "start_time": "2022-02-03T15:03:54.277Z"
   },
   {
    "duration": 44,
    "start_time": "2022-02-03T15:03:54.306Z"
   },
   {
    "duration": 40,
    "start_time": "2022-02-03T15:03:54.353Z"
   },
   {
    "duration": 44,
    "start_time": "2022-02-03T15:03:54.397Z"
   },
   {
    "duration": 26,
    "start_time": "2022-02-03T15:03:54.443Z"
   },
   {
    "duration": 14,
    "start_time": "2022-02-03T15:03:54.472Z"
   },
   {
    "duration": 601,
    "start_time": "2022-02-03T15:03:54.490Z"
   },
   {
    "duration": 101,
    "start_time": "2022-02-03T15:03:55.093Z"
   },
   {
    "duration": 59,
    "start_time": "2022-02-03T15:03:55.197Z"
   },
   {
    "duration": 2266,
    "start_time": "2022-02-03T15:03:55.258Z"
   },
   {
    "duration": 234,
    "start_time": "2022-02-03T15:03:57.527Z"
   },
   {
    "duration": 87,
    "start_time": "2022-02-03T15:03:57.764Z"
   },
   {
    "duration": 1128,
    "start_time": "2022-02-03T15:03:57.854Z"
   },
   {
    "duration": 1104,
    "start_time": "2022-02-03T15:03:58.985Z"
   },
   {
    "duration": 516,
    "start_time": "2022-02-03T15:04:00.091Z"
   },
   {
    "duration": 32,
    "start_time": "2022-02-03T15:04:00.609Z"
   },
   {
    "duration": 2282,
    "start_time": "2022-02-03T15:05:00.436Z"
   },
   {
    "duration": 2765,
    "start_time": "2022-02-03T15:05:58.453Z"
   },
   {
    "duration": 96,
    "start_time": "2022-02-03T15:07:15.520Z"
   },
   {
    "duration": 935,
    "start_time": "2022-02-03T15:08:04.449Z"
   },
   {
    "duration": 751,
    "start_time": "2022-02-03T15:10:17.187Z"
   },
   {
    "duration": 99,
    "start_time": "2022-02-03T15:14:15.714Z"
   },
   {
    "duration": 100,
    "start_time": "2022-02-03T15:14:25.849Z"
   },
   {
    "duration": 1162,
    "start_time": "2022-02-03T15:16:37.049Z"
   },
   {
    "duration": 1305,
    "start_time": "2022-02-03T15:18:28.808Z"
   },
   {
    "duration": 211,
    "start_time": "2022-02-03T15:19:13.715Z"
   },
   {
    "duration": 72,
    "start_time": "2022-02-03T15:20:30.925Z"
   },
   {
    "duration": 1128,
    "start_time": "2022-02-03T15:20:43.731Z"
   },
   {
    "duration": 1172,
    "start_time": "2022-02-03T15:21:16.731Z"
   },
   {
    "duration": 404,
    "start_time": "2022-02-03T15:22:06.761Z"
   },
   {
    "duration": 27,
    "start_time": "2022-02-03T15:22:12.644Z"
   },
   {
    "duration": 99,
    "start_time": "2022-02-03T15:27:01.045Z"
   },
   {
    "duration": 98,
    "start_time": "2022-02-03T15:27:10.342Z"
   },
   {
    "duration": 98,
    "start_time": "2022-02-03T15:27:32.005Z"
   },
   {
    "duration": 217,
    "start_time": "2022-02-03T15:28:38.460Z"
   },
   {
    "duration": 72,
    "start_time": "2022-02-03T15:34:08.488Z"
   },
   {
    "duration": 70,
    "start_time": "2022-02-03T15:34:32.184Z"
   },
   {
    "duration": 216,
    "start_time": "2022-02-03T15:34:55.895Z"
   },
   {
    "duration": 72,
    "start_time": "2022-02-03T15:35:00.502Z"
   },
   {
    "duration": 209,
    "start_time": "2022-02-03T15:38:14.607Z"
   },
   {
    "duration": 307,
    "start_time": "2022-02-03T15:38:23.073Z"
   },
   {
    "duration": 189,
    "start_time": "2022-02-03T15:57:21.792Z"
   },
   {
    "duration": 180,
    "start_time": "2022-02-03T16:02:29.329Z"
   },
   {
    "duration": 26,
    "start_time": "2022-02-03T16:08:42.070Z"
   },
   {
    "duration": 306,
    "start_time": "2022-02-03T16:11:34.714Z"
   },
   {
    "duration": 336,
    "start_time": "2022-02-03T16:11:51.223Z"
   },
   {
    "duration": 301,
    "start_time": "2022-02-03T16:12:22.215Z"
   },
   {
    "duration": 368,
    "start_time": "2022-02-03T16:12:57.781Z"
   },
   {
    "duration": 394,
    "start_time": "2022-02-03T16:13:11.198Z"
   },
   {
    "duration": 8,
    "start_time": "2022-02-03T16:14:35.612Z"
   },
   {
    "duration": 17,
    "start_time": "2022-02-03T16:14:44.459Z"
   },
   {
    "duration": 18,
    "start_time": "2022-02-03T16:15:08.033Z"
   },
   {
    "duration": 13,
    "start_time": "2022-02-03T16:16:24.986Z"
   },
   {
    "duration": 19,
    "start_time": "2022-02-03T16:16:36.880Z"
   },
   {
    "duration": 1133,
    "start_time": "2022-02-03T16:17:27.213Z"
   },
   {
    "duration": 1232,
    "start_time": "2022-02-03T16:20:12.576Z"
   },
   {
    "duration": 407,
    "start_time": "2022-02-03T16:27:17.373Z"
   },
   {
    "duration": 439,
    "start_time": "2022-02-03T16:29:57.520Z"
   },
   {
    "duration": 434,
    "start_time": "2022-02-03T16:31:14.255Z"
   },
   {
    "duration": 521,
    "start_time": "2022-02-03T16:31:30.618Z"
   },
   {
    "duration": 25,
    "start_time": "2022-02-03T17:10:58.954Z"
   },
   {
    "duration": 27,
    "start_time": "2022-02-03T17:11:04.400Z"
   },
   {
    "duration": 54,
    "start_time": "2022-02-03T17:18:05.778Z"
   },
   {
    "duration": 95,
    "start_time": "2022-02-03T17:19:14.307Z"
   },
   {
    "duration": 156,
    "start_time": "2022-02-03T17:21:26.499Z"
   },
   {
    "duration": 80,
    "start_time": "2022-02-03T17:21:49.915Z"
   },
   {
    "duration": 1733,
    "start_time": "2022-02-03T17:22:07.461Z"
   },
   {
    "duration": 1720,
    "start_time": "2022-02-03T17:22:18.634Z"
   },
   {
    "duration": 1796,
    "start_time": "2022-02-03T17:22:42.437Z"
   },
   {
    "duration": 2223,
    "start_time": "2022-02-03T17:23:24.565Z"
   },
   {
    "duration": 651,
    "start_time": "2022-02-03T17:25:22.661Z"
   },
   {
    "duration": 557,
    "start_time": "2022-02-03T17:26:03.718Z"
   },
   {
    "duration": 496,
    "start_time": "2022-02-03T17:26:29.215Z"
   },
   {
    "duration": 668,
    "start_time": "2022-02-03T17:26:42.238Z"
   },
   {
    "duration": 400,
    "start_time": "2022-02-03T17:27:12.101Z"
   },
   {
    "duration": 561,
    "start_time": "2022-02-03T17:28:28.451Z"
   },
   {
    "duration": 289,
    "start_time": "2022-02-03T17:28:46.821Z"
   },
   {
    "duration": 7294,
    "start_time": "2022-02-03T17:29:03.975Z"
   },
   {
    "duration": 375,
    "start_time": "2022-02-03T17:29:13.558Z"
   },
   {
    "duration": 94,
    "start_time": "2022-02-03T17:30:46.432Z"
   },
   {
    "duration": 428,
    "start_time": "2022-02-03T17:30:52.435Z"
   },
   {
    "duration": 445,
    "start_time": "2022-02-03T17:30:56.232Z"
   },
   {
    "duration": 524,
    "start_time": "2022-02-03T17:31:35.725Z"
   },
   {
    "duration": 436,
    "start_time": "2022-02-03T17:32:07.742Z"
   },
   {
    "duration": 405,
    "start_time": "2022-02-03T17:33:51.918Z"
   },
   {
    "duration": 443,
    "start_time": "2022-02-03T17:35:03.102Z"
   },
   {
    "duration": 403,
    "start_time": "2022-02-03T17:35:08.703Z"
   },
   {
    "duration": 488,
    "start_time": "2022-02-03T20:48:19.023Z"
   },
   {
    "duration": 790,
    "start_time": "2022-02-03T20:49:55.608Z"
   },
   {
    "duration": 118,
    "start_time": "2022-02-03T20:50:55.922Z"
   },
   {
    "duration": 940,
    "start_time": "2022-02-03T20:51:03.113Z"
   },
   {
    "duration": 908,
    "start_time": "2022-02-03T20:52:28.574Z"
   },
   {
    "duration": 808,
    "start_time": "2022-02-03T20:53:06.863Z"
   },
   {
    "duration": 755,
    "start_time": "2022-02-03T20:57:19.108Z"
   },
   {
    "duration": 766,
    "start_time": "2022-02-03T20:57:28.728Z"
   },
   {
    "duration": 753,
    "start_time": "2022-02-03T20:57:34.243Z"
   },
   {
    "duration": 804,
    "start_time": "2022-02-03T20:59:25.893Z"
   },
   {
    "duration": 763,
    "start_time": "2022-02-03T21:00:06.113Z"
   },
   {
    "duration": 1140,
    "start_time": "2022-02-03T21:00:15.726Z"
   },
   {
    "duration": 874,
    "start_time": "2022-02-03T21:00:42.879Z"
   },
   {
    "duration": 629,
    "start_time": "2022-02-03T21:00:50.353Z"
   },
   {
    "duration": 723,
    "start_time": "2022-02-03T21:04:39.162Z"
   },
   {
    "duration": 159,
    "start_time": "2022-02-03T21:05:48.094Z"
   },
   {
    "duration": 1240,
    "start_time": "2022-02-03T21:06:58.518Z"
   },
   {
    "duration": 838,
    "start_time": "2022-02-03T21:14:17.624Z"
   },
   {
    "duration": 724,
    "start_time": "2022-02-03T21:15:34.367Z"
   },
   {
    "duration": 810,
    "start_time": "2022-02-03T21:15:56.329Z"
   },
   {
    "duration": 682,
    "start_time": "2022-02-03T21:16:12.309Z"
   },
   {
    "duration": 996,
    "start_time": "2022-02-03T21:18:55.804Z"
   },
   {
    "duration": 127,
    "start_time": "2022-02-03T21:23:32.308Z"
   },
   {
    "duration": 650,
    "start_time": "2022-02-03T21:24:00.634Z"
   },
   {
    "duration": 622,
    "start_time": "2022-02-03T21:24:26.704Z"
   },
   {
    "duration": 764,
    "start_time": "2022-02-03T21:27:59.502Z"
   },
   {
    "duration": 672,
    "start_time": "2022-02-03T21:28:30.279Z"
   },
   {
    "duration": 686,
    "start_time": "2022-02-03T21:32:58.287Z"
   },
   {
    "duration": 678,
    "start_time": "2022-02-03T21:33:27.654Z"
   },
   {
    "duration": 931,
    "start_time": "2022-02-03T21:34:06.851Z"
   },
   {
    "duration": 697,
    "start_time": "2022-02-03T21:34:41.080Z"
   },
   {
    "duration": 1446,
    "start_time": "2022-02-03T21:42:48.770Z"
   },
   {
    "duration": 169,
    "start_time": "2022-02-03T21:42:50.218Z"
   },
   {
    "duration": 151,
    "start_time": "2022-02-03T21:42:50.390Z"
   },
   {
    "duration": 86,
    "start_time": "2022-02-03T21:42:50.544Z"
   },
   {
    "duration": 27,
    "start_time": "2022-02-03T21:42:50.632Z"
   },
   {
    "duration": 52,
    "start_time": "2022-02-03T21:42:50.662Z"
   },
   {
    "duration": 44,
    "start_time": "2022-02-03T21:42:50.716Z"
   },
   {
    "duration": 35,
    "start_time": "2022-02-03T21:42:50.762Z"
   },
   {
    "duration": 34,
    "start_time": "2022-02-03T21:42:50.800Z"
   },
   {
    "duration": 15,
    "start_time": "2022-02-03T21:42:50.836Z"
   },
   {
    "duration": 695,
    "start_time": "2022-02-03T21:42:50.853Z"
   },
   {
    "duration": 188,
    "start_time": "2022-02-03T21:42:51.551Z"
   },
   {
    "duration": 41,
    "start_time": "2022-02-03T21:42:51.741Z"
   },
   {
    "duration": 119,
    "start_time": "2022-02-03T21:42:51.784Z"
   },
   {
    "duration": 220,
    "start_time": "2022-02-03T21:42:51.906Z"
   },
   {
    "duration": 72,
    "start_time": "2022-02-03T21:42:52.129Z"
   },
   {
    "duration": 16,
    "start_time": "2022-02-03T21:42:52.223Z"
   },
   {
    "duration": 1186,
    "start_time": "2022-02-03T21:42:52.242Z"
   },
   {
    "duration": 1171,
    "start_time": "2022-02-03T21:42:53.431Z"
   },
   {
    "duration": 690,
    "start_time": "2022-02-03T21:42:54.605Z"
   },
   {
    "duration": 408,
    "start_time": "2022-02-03T21:42:55.297Z"
   },
   {
    "duration": 406,
    "start_time": "2022-02-03T21:42:55.707Z"
   },
   {
    "duration": 24,
    "start_time": "2022-02-03T21:42:56.123Z"
   },
   {
    "duration": 1474,
    "start_time": "2022-02-03T21:43:48.913Z"
   },
   {
    "duration": 165,
    "start_time": "2022-02-03T21:43:50.390Z"
   },
   {
    "duration": 146,
    "start_time": "2022-02-03T21:43:50.558Z"
   },
   {
    "duration": 87,
    "start_time": "2022-02-03T21:43:50.707Z"
   },
   {
    "duration": 29,
    "start_time": "2022-02-03T21:43:50.796Z"
   },
   {
    "duration": 48,
    "start_time": "2022-02-03T21:43:50.827Z"
   },
   {
    "duration": 40,
    "start_time": "2022-02-03T21:43:50.877Z"
   },
   {
    "duration": 30,
    "start_time": "2022-02-03T21:43:50.921Z"
   },
   {
    "duration": 25,
    "start_time": "2022-02-03T21:43:50.954Z"
   },
   {
    "duration": 43,
    "start_time": "2022-02-03T21:43:50.982Z"
   },
   {
    "duration": 572,
    "start_time": "2022-02-03T21:43:51.028Z"
   },
   {
    "duration": 101,
    "start_time": "2022-02-03T21:43:51.602Z"
   },
   {
    "duration": 51,
    "start_time": "2022-02-03T21:43:51.706Z"
   },
   {
    "duration": 108,
    "start_time": "2022-02-03T21:43:51.759Z"
   },
   {
    "duration": 213,
    "start_time": "2022-02-03T21:43:51.869Z"
   },
   {
    "duration": 90,
    "start_time": "2022-02-03T21:43:52.085Z"
   },
   {
    "duration": 17,
    "start_time": "2022-02-03T21:43:52.178Z"
   },
   {
    "duration": 1155,
    "start_time": "2022-02-03T21:43:52.197Z"
   },
   {
    "duration": 1171,
    "start_time": "2022-02-03T21:43:53.354Z"
   },
   {
    "duration": 698,
    "start_time": "2022-02-03T21:43:54.528Z"
   },
   {
    "duration": 409,
    "start_time": "2022-02-03T21:43:55.229Z"
   },
   {
    "duration": 419,
    "start_time": "2022-02-03T21:43:55.641Z"
   },
   {
    "duration": 24,
    "start_time": "2022-02-03T21:43:56.064Z"
   },
   {
    "duration": 25,
    "start_time": "2022-02-03T21:45:02.967Z"
   },
   {
    "duration": 23,
    "start_time": "2022-02-03T21:45:10.988Z"
   },
   {
    "duration": 24,
    "start_time": "2022-02-03T21:45:15.619Z"
   },
   {
    "duration": 24,
    "start_time": "2022-02-03T21:45:23.524Z"
   },
   {
    "duration": 24,
    "start_time": "2022-02-03T21:46:12.569Z"
   },
   {
    "duration": 1866,
    "start_time": "2022-02-04T19:49:28.412Z"
   },
   {
    "duration": 165,
    "start_time": "2022-02-04T19:49:30.280Z"
   },
   {
    "duration": 137,
    "start_time": "2022-02-04T19:49:30.448Z"
   },
   {
    "duration": 88,
    "start_time": "2022-02-04T19:49:30.588Z"
   },
   {
    "duration": 32,
    "start_time": "2022-02-04T19:49:30.679Z"
   },
   {
    "duration": 45,
    "start_time": "2022-02-04T19:49:30.714Z"
   },
   {
    "duration": 45,
    "start_time": "2022-02-04T19:49:30.762Z"
   },
   {
    "duration": 61,
    "start_time": "2022-02-04T19:49:30.813Z"
   },
   {
    "duration": 30,
    "start_time": "2022-02-04T19:49:30.878Z"
   },
   {
    "duration": 46,
    "start_time": "2022-02-04T19:49:30.910Z"
   },
   {
    "duration": 1656,
    "start_time": "2022-02-04T19:49:30.958Z"
   },
   {
    "duration": 100,
    "start_time": "2022-02-04T19:49:32.617Z"
   },
   {
    "duration": 55,
    "start_time": "2022-02-04T19:49:32.720Z"
   },
   {
    "duration": 94,
    "start_time": "2022-02-04T19:49:32.778Z"
   },
   {
    "duration": 173,
    "start_time": "2022-02-04T19:49:32.875Z"
   },
   {
    "duration": 61,
    "start_time": "2022-02-04T19:49:33.051Z"
   },
   {
    "duration": 69,
    "start_time": "2022-02-04T19:49:33.115Z"
   },
   {
    "duration": 1237,
    "start_time": "2022-02-04T19:49:33.186Z"
   },
   {
    "duration": 1074,
    "start_time": "2022-02-04T19:49:34.425Z"
   },
   {
    "duration": 766,
    "start_time": "2022-02-04T19:49:35.502Z"
   },
   {
    "duration": 414,
    "start_time": "2022-02-04T19:49:36.271Z"
   },
   {
    "duration": 423,
    "start_time": "2022-02-04T19:49:36.688Z"
   },
   {
    "duration": 42,
    "start_time": "2022-02-04T19:49:37.117Z"
   },
   {
    "duration": 29,
    "start_time": "2022-02-04T19:55:03.763Z"
   },
   {
    "duration": 1490,
    "start_time": "2022-02-05T17:53:01.514Z"
   },
   {
    "duration": 168,
    "start_time": "2022-02-05T17:53:03.008Z"
   },
   {
    "duration": 181,
    "start_time": "2022-02-05T17:53:03.179Z"
   },
   {
    "duration": 108,
    "start_time": "2022-02-05T17:53:03.363Z"
   },
   {
    "duration": 26,
    "start_time": "2022-02-05T17:53:03.473Z"
   },
   {
    "duration": 39,
    "start_time": "2022-02-05T17:53:03.501Z"
   },
   {
    "duration": 47,
    "start_time": "2022-02-05T17:53:03.542Z"
   },
   {
    "duration": 49,
    "start_time": "2022-02-05T17:53:03.593Z"
   },
   {
    "duration": 25,
    "start_time": "2022-02-05T17:53:03.645Z"
   },
   {
    "duration": 15,
    "start_time": "2022-02-05T17:53:03.673Z"
   },
   {
    "duration": 608,
    "start_time": "2022-02-05T17:53:03.690Z"
   },
   {
    "duration": 107,
    "start_time": "2022-02-05T17:53:04.301Z"
   },
   {
    "duration": 56,
    "start_time": "2022-02-05T17:53:04.411Z"
   },
   {
    "duration": 107,
    "start_time": "2022-02-05T17:53:04.469Z"
   },
   {
    "duration": 238,
    "start_time": "2022-02-05T17:53:04.579Z"
   },
   {
    "duration": 38,
    "start_time": "2022-02-05T17:53:04.819Z"
   },
   {
    "duration": 89,
    "start_time": "2022-02-05T17:53:04.860Z"
   },
   {
    "duration": 17,
    "start_time": "2022-02-05T17:53:04.952Z"
   },
   {
    "duration": 1185,
    "start_time": "2022-02-05T17:53:04.971Z"
   },
   {
    "duration": 1230,
    "start_time": "2022-02-05T17:53:06.159Z"
   },
   {
    "duration": 743,
    "start_time": "2022-02-05T17:53:07.392Z"
   },
   {
    "duration": 439,
    "start_time": "2022-02-05T17:53:08.138Z"
   },
   {
    "duration": 428,
    "start_time": "2022-02-05T17:53:08.583Z"
   },
   {
    "duration": 43,
    "start_time": "2022-02-05T17:53:09.014Z"
   },
   {
    "duration": 596,
    "start_time": "2022-02-05T17:53:20.970Z"
   },
   {
    "duration": 238,
    "start_time": "2022-02-05T17:58:27.655Z"
   },
   {
    "duration": 240,
    "start_time": "2022-02-05T17:58:57.642Z"
   },
   {
    "duration": 339,
    "start_time": "2022-02-05T18:09:00.999Z"
   },
   {
    "duration": 1384,
    "start_time": "2022-02-05T18:09:09.979Z"
   },
   {
    "duration": 159,
    "start_time": "2022-02-05T18:09:11.365Z"
   },
   {
    "duration": 144,
    "start_time": "2022-02-05T18:09:11.532Z"
   },
   {
    "duration": 87,
    "start_time": "2022-02-05T18:09:11.680Z"
   },
   {
    "duration": 25,
    "start_time": "2022-02-05T18:09:11.769Z"
   },
   {
    "duration": 39,
    "start_time": "2022-02-05T18:09:11.796Z"
   },
   {
    "duration": 43,
    "start_time": "2022-02-05T18:09:11.837Z"
   },
   {
    "duration": 53,
    "start_time": "2022-02-05T18:09:11.883Z"
   },
   {
    "duration": 26,
    "start_time": "2022-02-05T18:09:11.939Z"
   },
   {
    "duration": 19,
    "start_time": "2022-02-05T18:09:11.967Z"
   },
   {
    "duration": 657,
    "start_time": "2022-02-05T18:09:11.989Z"
   },
   {
    "duration": 104,
    "start_time": "2022-02-05T18:09:12.648Z"
   },
   {
    "duration": 41,
    "start_time": "2022-02-05T18:09:12.754Z"
   },
   {
    "duration": 114,
    "start_time": "2022-02-05T18:09:12.797Z"
   },
   {
    "duration": 245,
    "start_time": "2022-02-05T18:09:12.913Z"
   },
   {
    "duration": 26,
    "start_time": "2022-02-05T18:09:13.161Z"
   },
   {
    "duration": 94,
    "start_time": "2022-02-05T18:09:13.190Z"
   },
   {
    "duration": 17,
    "start_time": "2022-02-05T18:09:13.287Z"
   },
   {
    "duration": 1128,
    "start_time": "2022-02-05T18:09:13.306Z"
   },
   {
    "duration": 1162,
    "start_time": "2022-02-05T18:09:14.437Z"
   },
   {
    "duration": 696,
    "start_time": "2022-02-05T18:09:15.601Z"
   },
   {
    "duration": 415,
    "start_time": "2022-02-05T18:09:16.299Z"
   },
   {
    "duration": 424,
    "start_time": "2022-02-05T18:09:16.718Z"
   },
   {
    "duration": 24,
    "start_time": "2022-02-05T18:09:17.145Z"
   },
   {
    "duration": 718,
    "start_time": "2022-02-05T18:10:11.619Z"
   },
   {
    "duration": 705,
    "start_time": "2022-02-05T18:11:50.872Z"
   },
   {
    "duration": 800,
    "start_time": "2022-02-05T18:11:57.738Z"
   },
   {
    "duration": 1249,
    "start_time": "2022-02-05T18:13:38.553Z"
   },
   {
    "duration": 670,
    "start_time": "2022-02-05T18:13:55.582Z"
   },
   {
    "duration": 709,
    "start_time": "2022-02-05T18:14:03.644Z"
   },
   {
    "duration": 696,
    "start_time": "2022-02-05T18:14:12.290Z"
   },
   {
    "duration": 652,
    "start_time": "2022-02-05T18:17:36.080Z"
   },
   {
    "duration": 94,
    "start_time": "2022-02-05T18:17:52.379Z"
   },
   {
    "duration": 1065,
    "start_time": "2022-02-05T18:18:02.245Z"
   },
   {
    "duration": 933,
    "start_time": "2022-02-05T18:19:56.880Z"
   },
   {
    "duration": 961,
    "start_time": "2022-02-05T18:21:27.599Z"
   },
   {
    "duration": 952,
    "start_time": "2022-02-05T18:21:59.604Z"
   },
   {
    "duration": 989,
    "start_time": "2022-02-05T18:23:42.090Z"
   },
   {
    "duration": 830,
    "start_time": "2022-02-05T18:24:09.795Z"
   },
   {
    "duration": 948,
    "start_time": "2022-02-05T18:25:03.136Z"
   },
   {
    "duration": 956,
    "start_time": "2022-02-05T18:25:25.308Z"
   },
   {
    "duration": 1597,
    "start_time": "2022-02-05T18:25:46.708Z"
   },
   {
    "duration": 911,
    "start_time": "2022-02-05T18:27:56.461Z"
   },
   {
    "duration": 1041,
    "start_time": "2022-02-05T18:28:21.276Z"
   },
   {
    "duration": 810,
    "start_time": "2022-02-05T18:35:04.387Z"
   },
   {
    "duration": 1430,
    "start_time": "2022-02-05T18:35:46.173Z"
   },
   {
    "duration": 2251,
    "start_time": "2022-02-05T18:36:30.174Z"
   },
   {
    "duration": 415,
    "start_time": "2022-02-05T18:46:48.967Z"
   },
   {
    "duration": 770,
    "start_time": "2022-02-05T18:47:28.733Z"
   },
   {
    "duration": 932,
    "start_time": "2022-02-05T18:47:43.543Z"
   },
   {
    "duration": 1438,
    "start_time": "2022-02-05T18:47:56.378Z"
   },
   {
    "duration": 418,
    "start_time": "2022-02-05T18:52:40.652Z"
   },
   {
    "duration": 638,
    "start_time": "2022-02-05T18:53:11.854Z"
   },
   {
    "duration": 611,
    "start_time": "2022-02-05T18:53:42.094Z"
   },
   {
    "duration": 949,
    "start_time": "2022-02-05T18:53:54.814Z"
   },
   {
    "duration": 789,
    "start_time": "2022-02-05T18:54:39.351Z"
   },
   {
    "duration": 507,
    "start_time": "2022-02-05T18:58:15.177Z"
   },
   {
    "duration": 415,
    "start_time": "2022-02-05T18:59:09.281Z"
   },
   {
    "duration": 421,
    "start_time": "2022-02-05T19:00:08.013Z"
   },
   {
    "duration": 435,
    "start_time": "2022-02-05T19:00:33.722Z"
   },
   {
    "duration": 392,
    "start_time": "2022-02-05T19:05:35.448Z"
   },
   {
    "duration": 414,
    "start_time": "2022-02-05T19:05:46.742Z"
   },
   {
    "duration": 25,
    "start_time": "2022-02-05T19:06:31.750Z"
   },
   {
    "duration": 25,
    "start_time": "2022-02-05T19:06:38.047Z"
   },
   {
    "duration": 23,
    "start_time": "2022-02-05T19:06:44.078Z"
   },
   {
    "duration": 24,
    "start_time": "2022-02-05T19:06:47.706Z"
   },
   {
    "duration": 24,
    "start_time": "2022-02-05T19:07:02.663Z"
   },
   {
    "duration": 25,
    "start_time": "2022-02-05T19:07:48.418Z"
   },
   {
    "duration": 25,
    "start_time": "2022-02-05T19:07:53.586Z"
   },
   {
    "duration": 25,
    "start_time": "2022-02-05T19:07:56.700Z"
   },
   {
    "duration": 26,
    "start_time": "2022-02-05T19:07:59.501Z"
   },
   {
    "duration": 26,
    "start_time": "2022-02-05T19:08:02.291Z"
   },
   {
    "duration": 30,
    "start_time": "2022-02-05T19:08:04.019Z"
   },
   {
    "duration": 24,
    "start_time": "2022-02-05T19:08:05.657Z"
   },
   {
    "duration": 27,
    "start_time": "2022-02-05T19:08:07.159Z"
   },
   {
    "duration": 31,
    "start_time": "2022-02-05T19:08:09.028Z"
   },
   {
    "duration": 24,
    "start_time": "2022-02-05T19:08:10.979Z"
   },
   {
    "duration": 25,
    "start_time": "2022-02-05T19:08:13.270Z"
   },
   {
    "duration": 25,
    "start_time": "2022-02-05T19:08:15.000Z"
   },
   {
    "duration": 24,
    "start_time": "2022-02-05T19:08:16.952Z"
   },
   {
    "duration": 406,
    "start_time": "2022-02-05T19:16:23.897Z"
   },
   {
    "duration": 414,
    "start_time": "2022-02-05T19:16:30.245Z"
   },
   {
    "duration": 1443,
    "start_time": "2022-02-06T12:43:50.692Z"
   },
   {
    "duration": 172,
    "start_time": "2022-02-06T12:43:52.138Z"
   },
   {
    "duration": 147,
    "start_time": "2022-02-06T12:43:52.313Z"
   },
   {
    "duration": 106,
    "start_time": "2022-02-06T12:43:52.464Z"
   },
   {
    "duration": 30,
    "start_time": "2022-02-06T12:43:52.572Z"
   },
   {
    "duration": 72,
    "start_time": "2022-02-06T12:43:52.606Z"
   },
   {
    "duration": 45,
    "start_time": "2022-02-06T12:43:52.680Z"
   },
   {
    "duration": 57,
    "start_time": "2022-02-06T12:43:52.729Z"
   },
   {
    "duration": 26,
    "start_time": "2022-02-06T12:43:52.789Z"
   },
   {
    "duration": 44,
    "start_time": "2022-02-06T12:43:52.818Z"
   },
   {
    "duration": 625,
    "start_time": "2022-02-06T12:43:52.865Z"
   },
   {
    "duration": 107,
    "start_time": "2022-02-06T12:43:53.492Z"
   },
   {
    "duration": 42,
    "start_time": "2022-02-06T12:43:53.601Z"
   },
   {
    "duration": 131,
    "start_time": "2022-02-06T12:43:53.645Z"
   },
   {
    "duration": 250,
    "start_time": "2022-02-06T12:43:53.779Z"
   },
   {
    "duration": 45,
    "start_time": "2022-02-06T12:43:54.032Z"
   },
   {
    "duration": 86,
    "start_time": "2022-02-06T12:43:54.080Z"
   },
   {
    "duration": 20,
    "start_time": "2022-02-06T12:43:54.169Z"
   },
   {
    "duration": 1197,
    "start_time": "2022-02-06T12:43:54.192Z"
   },
   {
    "duration": 1240,
    "start_time": "2022-02-06T12:43:55.391Z"
   },
   {
    "duration": 2366,
    "start_time": "2022-02-06T12:43:56.634Z"
   },
   {
    "duration": 857,
    "start_time": "2022-02-06T12:43:59.003Z"
   },
   {
    "duration": 458,
    "start_time": "2022-02-06T12:43:59.865Z"
   },
   {
    "duration": 37,
    "start_time": "2022-02-06T12:44:00.325Z"
   },
   {
    "duration": 899,
    "start_time": "2022-02-06T13:27:09.343Z"
   },
   {
    "duration": 220,
    "start_time": "2022-02-06T13:27:34.108Z"
   },
   {
    "duration": 120,
    "start_time": "2022-02-06T13:33:57.931Z"
   },
   {
    "duration": 760,
    "start_time": "2022-02-06T13:34:17.173Z"
   },
   {
    "duration": 181,
    "start_time": "2022-02-06T13:38:19.029Z"
   },
   {
    "duration": 121,
    "start_time": "2022-02-06T13:38:28.092Z"
   },
   {
    "duration": 1131,
    "start_time": "2022-02-06T13:38:49.575Z"
   },
   {
    "duration": 118,
    "start_time": "2022-02-06T13:38:50.708Z"
   },
   {
    "duration": 107,
    "start_time": "2022-02-06T13:38:50.829Z"
   },
   {
    "duration": 79,
    "start_time": "2022-02-06T13:38:50.937Z"
   },
   {
    "duration": 22,
    "start_time": "2022-02-06T13:38:51.018Z"
   },
   {
    "duration": 38,
    "start_time": "2022-02-06T13:38:51.042Z"
   },
   {
    "duration": 28,
    "start_time": "2022-02-06T13:38:51.084Z"
   },
   {
    "duration": 21,
    "start_time": "2022-02-06T13:38:51.114Z"
   },
   {
    "duration": 16,
    "start_time": "2022-02-06T13:38:51.136Z"
   },
   {
    "duration": 10,
    "start_time": "2022-02-06T13:38:51.171Z"
   },
   {
    "duration": 451,
    "start_time": "2022-02-06T13:38:51.183Z"
   },
   {
    "duration": 90,
    "start_time": "2022-02-06T13:38:51.636Z"
   },
   {
    "duration": 37,
    "start_time": "2022-02-06T13:38:51.728Z"
   },
   {
    "duration": 86,
    "start_time": "2022-02-06T13:38:51.767Z"
   },
   {
    "duration": 120,
    "start_time": "2022-02-06T13:38:51.855Z"
   },
   {
    "duration": -636,
    "start_time": "2022-02-06T13:38:52.614Z"
   },
   {
    "duration": -676,
    "start_time": "2022-02-06T13:38:52.655Z"
   },
   {
    "duration": -698,
    "start_time": "2022-02-06T13:38:52.679Z"
   },
   {
    "duration": -707,
    "start_time": "2022-02-06T13:38:52.689Z"
   },
   {
    "duration": -724,
    "start_time": "2022-02-06T13:38:52.707Z"
   },
   {
    "duration": -745,
    "start_time": "2022-02-06T13:38:52.729Z"
   },
   {
    "duration": -754,
    "start_time": "2022-02-06T13:38:52.739Z"
   },
   {
    "duration": -787,
    "start_time": "2022-02-06T13:38:52.772Z"
   },
   {
    "duration": 209,
    "start_time": "2022-02-06T13:39:25.344Z"
   },
   {
    "duration": 109,
    "start_time": "2022-02-06T13:41:27.441Z"
   },
   {
    "duration": 859,
    "start_time": "2022-02-06T13:41:40.548Z"
   },
   {
    "duration": 752,
    "start_time": "2022-02-06T13:48:27.925Z"
   },
   {
    "duration": 783,
    "start_time": "2022-02-06T13:48:45.638Z"
   },
   {
    "duration": 140,
    "start_time": "2022-02-06T13:49:08.646Z"
   },
   {
    "duration": 121,
    "start_time": "2022-02-06T13:50:15.616Z"
   },
   {
    "duration": 1412,
    "start_time": "2022-02-07T11:16:17.917Z"
   },
   {
    "duration": 168,
    "start_time": "2022-02-07T11:16:19.332Z"
   },
   {
    "duration": 140,
    "start_time": "2022-02-07T11:16:19.504Z"
   },
   {
    "duration": 85,
    "start_time": "2022-02-07T11:16:19.649Z"
   },
   {
    "duration": 29,
    "start_time": "2022-02-07T11:16:19.736Z"
   },
   {
    "duration": 50,
    "start_time": "2022-02-07T11:16:19.767Z"
   },
   {
    "duration": 40,
    "start_time": "2022-02-07T11:16:19.820Z"
   },
   {
    "duration": 35,
    "start_time": "2022-02-07T11:16:19.864Z"
   },
   {
    "duration": 24,
    "start_time": "2022-02-07T11:16:19.902Z"
   },
   {
    "duration": 30,
    "start_time": "2022-02-07T11:16:19.929Z"
   },
   {
    "duration": 566,
    "start_time": "2022-02-07T11:16:19.961Z"
   },
   {
    "duration": 98,
    "start_time": "2022-02-07T11:16:20.530Z"
   },
   {
    "duration": 52,
    "start_time": "2022-02-07T11:16:20.631Z"
   },
   {
    "duration": 126,
    "start_time": "2022-02-07T11:16:20.685Z"
   },
   {
    "duration": 143,
    "start_time": "2022-02-07T11:16:20.814Z"
   },
   {
    "duration": -618,
    "start_time": "2022-02-07T11:16:21.578Z"
   },
   {
    "duration": -627,
    "start_time": "2022-02-07T11:16:21.589Z"
   },
   {
    "duration": -629,
    "start_time": "2022-02-07T11:16:21.593Z"
   },
   {
    "duration": -639,
    "start_time": "2022-02-07T11:16:21.604Z"
   },
   {
    "duration": -642,
    "start_time": "2022-02-07T11:16:21.609Z"
   },
   {
    "duration": -651,
    "start_time": "2022-02-07T11:16:21.619Z"
   },
   {
    "duration": -655,
    "start_time": "2022-02-07T11:16:21.625Z"
   },
   {
    "duration": -661,
    "start_time": "2022-02-07T11:16:21.633Z"
   },
   {
    "duration": 435,
    "start_time": "2022-02-07T11:16:43.606Z"
   },
   {
    "duration": 1394,
    "start_time": "2022-02-07T11:16:57.126Z"
   },
   {
    "duration": 165,
    "start_time": "2022-02-07T11:16:58.523Z"
   },
   {
    "duration": 139,
    "start_time": "2022-02-07T11:16:58.691Z"
   },
   {
    "duration": 86,
    "start_time": "2022-02-07T11:16:58.832Z"
   },
   {
    "duration": 33,
    "start_time": "2022-02-07T11:16:58.921Z"
   },
   {
    "duration": 48,
    "start_time": "2022-02-07T11:16:58.957Z"
   },
   {
    "duration": 42,
    "start_time": "2022-02-07T11:16:59.008Z"
   },
   {
    "duration": 42,
    "start_time": "2022-02-07T11:16:59.052Z"
   },
   {
    "duration": 26,
    "start_time": "2022-02-07T11:16:59.098Z"
   },
   {
    "duration": 36,
    "start_time": "2022-02-07T11:16:59.127Z"
   },
   {
    "duration": 558,
    "start_time": "2022-02-07T11:16:59.165Z"
   },
   {
    "duration": 103,
    "start_time": "2022-02-07T11:16:59.726Z"
   },
   {
    "duration": 50,
    "start_time": "2022-02-07T11:16:59.831Z"
   },
   {
    "duration": 120,
    "start_time": "2022-02-07T11:16:59.883Z"
   },
   {
    "duration": 179,
    "start_time": "2022-02-07T11:17:00.006Z"
   },
   {
    "duration": -634,
    "start_time": "2022-02-07T11:17:00.822Z"
   },
   {
    "duration": -656,
    "start_time": "2022-02-07T11:17:00.845Z"
   },
   {
    "duration": -672,
    "start_time": "2022-02-07T11:17:00.863Z"
   },
   {
    "duration": -679,
    "start_time": "2022-02-07T11:17:00.871Z"
   },
   {
    "duration": -798,
    "start_time": "2022-02-07T11:17:00.991Z"
   },
   {
    "duration": -810,
    "start_time": "2022-02-07T11:17:01.004Z"
   },
   {
    "duration": -816,
    "start_time": "2022-02-07T11:17:01.012Z"
   },
   {
    "duration": -820,
    "start_time": "2022-02-07T11:17:01.017Z"
   },
   {
    "duration": 202,
    "start_time": "2022-02-07T11:17:15.638Z"
   }
  ],
  "kernelspec": {
   "display_name": "Python 3 (ipykernel)",
   "language": "python",
   "name": "python3"
  },
  "language_info": {
   "codemirror_mode": {
    "name": "ipython",
    "version": 3
   },
   "file_extension": ".py",
   "mimetype": "text/x-python",
   "name": "python",
   "nbconvert_exporter": "python",
   "pygments_lexer": "ipython3",
   "version": "3.9.7"
  },
  "toc": {
   "base_numbering": 1,
   "nav_menu": {},
   "number_sections": true,
   "sideBar": true,
   "skip_h1_title": true,
   "title_cell": "Table of Contents",
   "title_sidebar": "Contents",
   "toc_cell": false,
   "toc_position": {},
   "toc_section_display": true,
   "toc_window_display": false
  }
 },
 "nbformat": 4,
 "nbformat_minor": 2
}
